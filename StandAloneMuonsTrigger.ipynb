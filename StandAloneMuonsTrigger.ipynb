{
 "metadata": {
  "name": "StandAloneMuonsTrigger"
 },
 "nbformat": 3,
 "nbformat_minor": 0,
 "worksheets": [
  {
   "cells": [
    {
     "cell_type": "code",
     "collapsed": false,
     "input": [
      "import ROOT\n",
      "import rootnotes\n",
      "from DataFormats.FWLite import Events, Handle\n",
      "import math"
     ],
     "language": "python",
     "metadata": {},
     "outputs": [],
     "prompt_number": 1
    },
    {
     "cell_type": "code",
     "collapsed": false,
     "input": [
      "handleGen = Handle('std::vector<reco::GenParticle>')\n",
      "labelGen = (\"genParticles\")\n",
      "\n",
      "handleL2Muons = Handle('std::vector<reco::Track>')\n",
      "labelL2Muons = (\"hltL2Muons\")\n",
      "\n",
      "handleL1Muons = Handle('vector<l1extra::L1MuonParticle>')\n",
      "labelL1Muons = (\"l1extraParticles\")"
     ],
     "language": "python",
     "metadata": {},
     "outputs": [],
     "prompt_number": 8
    },
    {
     "cell_type": "code",
     "collapsed": false,
     "input": [
      "histoD0 = ROOT.TH1F(\"histoD0\", \"d_0 distribution\", 100, 0, 100)\n",
      "histoD0Pass = ROOT.TH1F(\"histoD0Pass\", \"d_0 distribution for L2Muons passing cuts\", 100, 0, 100)"
     ],
     "language": "python",
     "metadata": {},
     "outputs": [],
     "prompt_number": 9
    },
    {
     "cell_type": "code",
     "collapsed": false,
     "input": [
      "events = Events(\"/afs/cern.ch/user/d/demattia/work/29.0_ZEE+ZEE+DIGI+RECO+ALCAELE/step3.root\")\n",
      "for event in events:\n",
      "    event.getByLabel(labelGen, handleGen)\n",
      "    genMuons = handleGen.product()\n",
      "    # print \"gen d0 =\", genMuons[0].vertex().x()\n",
      "    # print \"gen pt =\", genMuons[0].pt()\n",
      "\n",
      "    try:\n",
      "        # L1Muons\n",
      "        event.getByLabel(labelL1Muons, handleL1Muons)\n",
      "        L1Muons = handleL1Muons.product()\n",
      "        # L2Muons\n",
      "        event.getByLabel(labelL2Muons, handleL2Muons)\n",
      "        L2Muons = handleL2Muons.product()\n",
      "\n",
      "        # print len(L2Muons)\n",
      "        for L2Muon in L2Muons:\n",
      "            # print \"reco pt =\", L2Muon.pt()\n",
      "            histoD0.Fill(L2Muon.d0())\n",
      "            if L2Muon.hitPattern().dtStationsWithValidHits() + L2Muon.hitPattern().cscStationsWithValidHits() >= 2:\n",
      "                histoD0Pass.Fill(L2Muon.d0())\n",
      "        # print L2Muons[0].d0()\n",
      "    except:\n",
      "        # print \"L2Muons not found\"\n",
      "        pass\n",
      "    # print \"\"\n"
     ],
     "language": "python",
     "metadata": {},
     "outputs": [
      {
       "output_type": "stream",
       "stream": "stdout",
       "text": [
        "inverted\n",
        "inverted\n",
        "inverted\n",
        "inverted\n",
        "inverted\n",
        "not inverted\n",
        "inverted\n",
        "inverted\n",
        "not inverted\n",
        "inverted\n",
        "not inverted\n",
        "not inverted\n",
        "not inverted\n",
        "not inverted\n",
        "not inverted\n",
        "not inverted\n",
        "inverted\n",
        "inverted\n",
        "not inverted\n",
        "inverted\n",
        "not inverted\n",
        "not inverted\n",
        "inverted\n",
        "not inverted\n",
        "inverted\n",
        "not inverted\n",
        "not inverted\n",
        "not inverted\n",
        "not inverted\n",
        "not inverted\n",
        "inverted\n",
        "not inverted\n",
        "not inverted\n",
        "inverted\n",
        "inverted\n",
        "not inverted\n",
        "inverted\n",
        "not inverted\n",
        "inverted\n",
        "inverted\n",
        "inverted\n",
        "inverted\n",
        "not inverted\n",
        "inverted\n",
        "not inverted\n",
        "not inverted\n",
        "not inverted\n",
        "inverted\n",
        "inverted\n",
        "not inverted\n",
        "inverted\n",
        "inverted\n",
        "not inverted\n",
        "inverted\n",
        "inverted\n",
        "inverted\n",
        "not inverted\n",
        "inverted\n",
        "inverted\n",
        "not inverted\n",
        "not inverted\n",
        "inverted\n",
        "inverted\n",
        "inverted\n",
        "inverted\n",
        "not inverted\n",
        "not inverted\n",
        "not inverted\n",
        "not inverted\n",
        "inverted\n",
        "inverted\n",
        "inverted\n",
        "not inverted\n",
        "inverted\n",
        "not inverted\n",
        "inverted\n",
        "not inverted\n",
        "inverted\n",
        "inverted\n",
        "inverted\n",
        "inverted\n",
        "not inverted\n",
        "inverted\n",
        "not inverted\n",
        "not inverted\n",
        "not inverted\n",
        "not inverted\n",
        "inverted\n",
        "not inverted\n",
        "not inverted\n"
       ]
      }
     ],
     "prompt_number": 17
    },
    {
     "cell_type": "code",
     "collapsed": false,
     "input": [
      "canvasPt = ROOT.TCanvas(\"canvasPt\")\n",
      "canvasPt = rootnotes.canvas(\"canvasPt\", (400, 400))\n",
      "histoD0.Draw()\n",
      "histoD0Pass.Draw(\"same\")\n",
      "histoD0Pass.SetLineColor(2)\n",
      "canvasPt"
     ],
     "language": "python",
     "metadata": {},
     "outputs": [
      {
       "output_type": "stream",
       "stream": "stderr",
       "text": [
        "TCanvas::Constructor:0: RuntimeWarning: Deleting canvas with same name: canvasPt\n"
       ]
      },
      {
       "output_type": "pyout",
       "png": "[encoded data removed]",
       "prompt_number": 50,
       "text": [
        "<ROOT.TCanvas object (\"canvasPt\") at 0x265078e0>"
       ]
      }
     ],
     "prompt_number": 50
    },
    {
     "cell_type": "code",
     "collapsed": false,
     "input": [],
     "language": "python",
     "metadata": {},
     "outputs": []
    }
   ],
   "metadata": {}
  }
 ]
}