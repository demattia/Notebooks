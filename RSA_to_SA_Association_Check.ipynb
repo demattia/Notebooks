{
 "metadata": {
  "name": "",
  "signature": "sha256:f58671c5f5d0a551b46e42a1670cc9ad372f04a53577102c67ed56b53eb9e400"
 },
 "nbformat": 3,
 "nbformat_minor": 0,
 "worksheets": [
  {
   "cells": [
    {
     "cell_type": "heading",
     "level": 1,
     "metadata": {},
     "source": [
      "RefittedStandAloneMuons"
     ]
    },
    {
     "cell_type": "code",
     "collapsed": false,
     "input": [
      "import ROOT\n",
      "from ROOT import TH1F, TH2F, TEfficiency, TLegend\n",
      "import rootnotes\n",
      "import rootprint\n",
      "from RefittedStandAloneMuons import *\n",
      "from ProgressBar import ProgressBar\n",
      "import time\n",
      "\n",
      "ROOT.gROOT.LoadMacro(\"interfaceRefittedStandAloneMuons/Loader.C+\")\n",
      "\n",
      "ROOT.gStyle.SetOptStat(11111111)\n",
      "\n",
      "# Bins in the histograms\n",
      "nBins = 25"
     ],
     "language": "python",
     "metadata": {
      "slideshow": {
       "slide_type": "skip"
      }
     },
     "outputs": [],
     "prompt_number": 1
    },
    {
     "cell_type": "code",
     "collapsed": false,
     "input": [
      "signalMC = True\n",
      "\n",
      "# input file and tree\n",
      "inputFile = ROOT.TFile(\"/Users/demattia/HTo2LongLivedTo4F_MH1000_MFF350_CTau35To3500_analysis_RSA_to_SA_Association_Check/histograms.root\", \"READ\")\n",
      "\n",
      "directory = inputFile.Get(\"muTrackAnalysis\")\n",
      "tree = directory.Get(\"outputTree\")\n",
      "\n",
      "# Global variables\n",
      "chosenPdgId = 13\n",
      "\n",
      "signalPdgIds = []\n",
      "# signalPdgIds.append(6001113)\n",
      "# signalPdgIds.append(6002113)\n",
      "signalPdgIds.append(6003113)\n",
      "# signalPdgIds.append(6004113)\n",
      "\n",
      "signalTrigger = \"HLT_L2DoubleMu23_NoVertex_2Cha_Angle2p5_v2\"\n",
      "\n",
      "# Acceptance cuts (for muons)\n",
      "ptCut = 26.\n",
      "etaCut = 2.0\n",
      "LxyCut = 1000000.\n",
      "minStationsWithValidHits = 3\n",
      "chi2Cut = 0.1\n",
      "cosineCut = -0.75\n",
      "vertexChi2Cut = 6.\n",
      "trackChi2Cut = 2.\n",
      "deltaRCut = 0.2\n",
      "massCut = 15."
     ],
     "language": "python",
     "metadata": {},
     "outputs": [],
     "prompt_number": 2
    },
    {
     "cell_type": "heading",
     "level": 2,
     "metadata": {},
     "source": [
      "Compute Efficiency"
     ]
    },
    {
     "cell_type": "code",
     "collapsed": false,
     "input": [
      "h_RSA_minDxIn = TH1F(\"RSA_minDxIn\", \"RSA minDxIn\", 100, 0, 100)\n",
      "h_RSA_minDyIn = TH1F(\"RSA_minDyIn\", \"RSA minDyIn\", 100, 0, 100)\n",
      "h_RSA_minDzIn = TH1F(\"RSA_minDzIn\", \"RSA minDzIn\", 100, 0, 500)\n",
      "h_RSA_minDxOut = TH1F(\"RSA_minDxOut\", \"RSA minDxOut\", 100, 0, 100)\n",
      "h_RSA_minDyOut = TH1F(\"RSA_minDyOut\", \"RSA minDyOut\", 100, 0, 100)\n",
      "h_RSA_minDzOut = TH1F(\"RSA_minDzOut\", \"RSA minDzOut\", 100, 0, 500)\n",
      "\n",
      "# Note: we only count the events where at least one candidate decayed to muons.\n",
      "totalEvents = 0\n",
      "triggeredEvents = 0\n",
      "selectedEvents = 0\n",
      "selectedEventsAndComplementary = 0\n",
      "selectedEventsAndComplementaryAndSignalRegion = 0\n",
      "\n",
      "num = 0\n",
      "p = ProgressBar(tree.GetEntries())\n",
      "for event in tree:\n",
      "    cands = event.candidates\n",
      "    # if num%(event.GetEntries()/100) == 0:\n",
      "    if num%(event.GetEntries()/100) == 0:\n",
      "        p.animate(num)\n",
      "    num += 1\n",
      "    # if num == 100000:\n",
      "    #     break\n",
      "    \n",
      "    # Use only muons from long-lived particle decays\n",
      "    if signalMC and not is_selected_signal(cands, signalPdgIds): continue\n",
      "    if not signalMC or decay_to_chosen_pdg_id(cands, \"ll1\", chosenPdgId) or decay_to_chosen_pdg_id(cands, \"ll2\", chosenPdgId):\n",
      "        totalEvents += 1\n",
      "        # The trigger is not applied in the trees for signalMC only.\n",
      "        if signalMC and not signal_trigger_fired(event.triggers, signalTrigger): continue\n",
      "            \n",
      "        triggeredEvents += 1\n",
      "        \n",
      "        # StandAloneMuons\n",
      "        # ---------------\n",
      "        passesSelectionAndComplementaryAndSignalRegion = False\n",
      "\n",
      "        for cand in cands.candidates_:\n",
      "\n",
      "            passesSelection = False\n",
      "            passesSelectionAndComplementary = False\n",
      "            # Dimuon cuts\n",
      "            if not (cand.cosine > cosineCut and cand.validVertex and cand.vertexChi2 < vertexChi2Cut and\n",
      "                    cand.deltaR > deltaRCut and cand.corrDileptonMass > massCut):\n",
      "                continue\n",
      "                # pass\n",
      "\n",
      "            leptonL = get_lepton(cands.leptons_, cand.leptonIndexL)\n",
      "            leptonH = get_lepton(cands.leptons_, cand.leptonIndexH)\n",
      "\n",
      "            h_RSA_minDxIn.Fill(leptonL.minDxIn)\n",
      "            h_RSA_minDyIn.Fill(leptonL.minDyIn)\n",
      "            h_RSA_minDzIn.Fill(leptonL.minDzIn)\n",
      "            h_RSA_minDxOut.Fill(leptonL.minDxOut)\n",
      "            h_RSA_minDyOut.Fill(leptonL.minDyOut)\n",
      "            h_RSA_minDzOut.Fill(leptonL.minDzOut)\n",
      "\n",
      "            h_RSA_minDxIn.Fill(leptonH.minDxIn)\n",
      "            h_RSA_minDyIn.Fill(leptonH.minDyIn)\n",
      "            h_RSA_minDzIn.Fill(leptonH.minDzIn)\n",
      "            h_RSA_minDxOut.Fill(leptonH.minDxOut)\n",
      "            h_RSA_minDyOut.Fill(leptonH.minDyOut)\n",
      "            h_RSA_minDzOut.Fill(leptonH.minDzOut)\n",
      "\n",
      "            \n",
      "            # Only use refittedStandAloneMuons\n",
      "            if not leptonL.isStandAloneMuon or not leptonH.isStandAloneMuon: continue\n",
      "            # Muon cuts\n",
      "            if (pass_muon_cuts(leptonL, ptCut, etaCut, chi2Cut, minStationsWithValidHits) and\n",
      "               pass_muon_cuts(leptonH, ptCut, etaCut, chi2Cut, minStationsWithValidHits)):\n",
      "                passesSelection = True\n",
      "                \n",
      "                # Reject events selected by the track-based analysis\n",
      "                # if not is_complementary(leptonL, leptonH, passing_candidates): continue\n",
      "                # passesSelectionAndComplementary = True\n",
      "                \n",
      "                # Signal region\n",
      "                if not( abs(cand.dPhiCorr < math.pi/2.) and abs(cand.dPhiCorr >= 0.) ): continue\n",
      "                # Control region\n",
      "                # if not( abs(cand.dPhiCorr < math.pi) and abs(cand.dPhiCorr >= math.pi/2.) ): continue\n",
      "                \n",
      "                passesSelectionAndComplementaryAndSignalRegion = True\n",
      "\n",
      "        if passesSelection:\n",
      "            selectedEvents += 1\n",
      "        if passesSelectionAndComplementary:\n",
      "            selectedEventsAndComplementary += 1\n",
      "        if passesSelectionAndComplementaryAndSignalRegion:\n",
      "            selectedEventsAndComplementaryAndSignalRegion += 1\n"
     ],
     "language": "python",
     "metadata": {},
     "outputs": [
      {
       "output_type": "stream",
       "stream": "stdout",
       "text": [
        "\r",
        " [                       0%                       ]"
       ]
      },
      {
       "ename": "AttributeError",
       "evalue": "'TreeLepton' object has no attribute 'minDxIn'",
       "output_type": "pyerr",
       "traceback": [
        "\u001b[0;31m---------------------------------------------------------------------------\u001b[0m\n\u001b[0;31mAttributeError\u001b[0m                            Traceback (most recent call last)",
        "\u001b[0;32m<ipython-input-3-64f56f9faed3>\u001b[0m in \u001b[0;36m<module>\u001b[0;34m()\u001b[0m\n\u001b[1;32m     50\u001b[0m             \u001b[0mleptonH\u001b[0m \u001b[0;34m=\u001b[0m \u001b[0mget_lepton\u001b[0m\u001b[0;34m(\u001b[0m\u001b[0mcands\u001b[0m\u001b[0;34m.\u001b[0m\u001b[0mleptons_\u001b[0m\u001b[0;34m,\u001b[0m \u001b[0mcand\u001b[0m\u001b[0;34m.\u001b[0m\u001b[0mleptonIndexH\u001b[0m\u001b[0;34m)\u001b[0m\u001b[0;34m\u001b[0m\u001b[0m\n\u001b[1;32m     51\u001b[0m \u001b[0;34m\u001b[0m\u001b[0m\n\u001b[0;32m---> 52\u001b[0;31m             \u001b[0mh_RSA_minDxIn\u001b[0m\u001b[0;34m.\u001b[0m\u001b[0mFill\u001b[0m\u001b[0;34m(\u001b[0m\u001b[0mleptonL\u001b[0m\u001b[0;34m.\u001b[0m\u001b[0mminDxIn\u001b[0m\u001b[0;34m)\u001b[0m\u001b[0;34m\u001b[0m\u001b[0m\n\u001b[0m\u001b[1;32m     53\u001b[0m             \u001b[0mh_RSA_minDyIn\u001b[0m\u001b[0;34m.\u001b[0m\u001b[0mFill\u001b[0m\u001b[0;34m(\u001b[0m\u001b[0mleptonL\u001b[0m\u001b[0;34m.\u001b[0m\u001b[0mminDyIn\u001b[0m\u001b[0;34m)\u001b[0m\u001b[0;34m\u001b[0m\u001b[0m\n\u001b[1;32m     54\u001b[0m             \u001b[0mh_RSA_minDzIn\u001b[0m\u001b[0;34m.\u001b[0m\u001b[0mFill\u001b[0m\u001b[0;34m(\u001b[0m\u001b[0mleptonL\u001b[0m\u001b[0;34m.\u001b[0m\u001b[0mminDzIn\u001b[0m\u001b[0;34m)\u001b[0m\u001b[0;34m\u001b[0m\u001b[0m\n",
        "\u001b[0;31mAttributeError\u001b[0m: 'TreeLepton' object has no attribute 'minDxIn'"
       ]
      }
     ],
     "prompt_number": 3
    },
    {
     "cell_type": "code",
     "collapsed": false,
     "input": [
      "print \"total events =\", totalEvents\n",
      "print \"triggered events =\", triggeredEvents\n",
      "print \"selected events =\", selectedEvents\n",
      "print \"selected events complementary to track-based analysis =\", selectedEventsAndComplementary\n",
      "print \"selected events, complementary, and in signal region =\", selectedEventsAndComplementaryAndSignalRegion"
     ],
     "language": "python",
     "metadata": {},
     "outputs": [
      {
       "output_type": "stream",
       "stream": "stdout",
       "text": [
        "total events = 11921\n",
        "triggered events = 3245\n",
        "selected events = 909\n",
        "selected events complementary to track-based analysis = 0\n",
        "selected events, complementary, and in signal region = 1019\n"
       ]
      }
     ],
     "prompt_number": 54
    },
    {
     "cell_type": "code",
     "collapsed": false,
     "input": [
      "c = ROOT.TCanvas(\"c\", \"c\", 1200, 800)\n",
      "c.Divide(3,2)\n",
      "p = c.cd(1).SetLogy(True)\n",
      "h_RSA_minDxIn.Draw()\n",
      "c.cd(2).SetLogy(True)\n",
      "h_RSA_minDyIn.Draw()\n",
      "c.cd(3).SetLogy(True)\n",
      "h_RSA_minDzIn.Draw()\n",
      "c.cd(4).SetLogy(True)\n",
      "h_RSA_minDxOut.Draw()\n",
      "c.cd(5).SetLogy(True)\n",
      "h_RSA_minDyOut.Draw()\n",
      "c.cd(6).SetLogy(True)\n",
      "h_RSA_minDzOut.Draw()\n",
      "c"
     ],
     "language": "python",
     "metadata": {},
     "outputs": [
      {
       "output_type": "stream",
       "stream": "stderr",
       "text": [
        "TCanvas::Constructor:0: RuntimeWarning: Deleting canvas with same name: c\n"
       ]
      },
      {
       "metadata": {},
       "output_type": "pyout",
       "png": "[encoded data removed]",
       "prompt_number": 55,
       "text": [
        "<ROOT.TCanvas object (\"c\") at 0x7fd96dad9830>"
       ]
      }
     ],
     "prompt_number": 55
    },
    {
     "cell_type": "code",
     "collapsed": false,
     "input": [
      "print \"minDxIn > 5cm:\", h_RSA_minDxIn.Integral(h_RSA_minDxIn.FindBin(5), h_RSA_minDxIn.FindBin(10000))\n",
      "print \"minDxIn > 0cm:\", h_RSA_minDxIn.Integral(h_RSA_minDxIn.FindBin(5), h_RSA_minDxIn.FindBin(99))\n",
      "print \"minDxIn > 0cm:\", h_RSA_minDxIn.GetEntries()\n",
      "\n",
      "print \"minDyIn > 5cm:\", h_RSA_minDyIn.Integral(h_RSA_minDyIn.FindBin(5), h_RSA_minDyIn.FindBin(10000))\n",
      "print \"minDzIn > 50cm:\", h_RSA_minDzIn.Integral(h_RSA_minDzIn.FindBin(50), h_RSA_minDzIn.FindBin(10000))\n",
      "print \"minDxOut > 5cm:\", h_RSA_minDxOut.Integral(h_RSA_minDxOut.FindBin(5), h_RSA_minDxOut.FindBin(10000))\n",
      "print \"minDyOut > 5cm:\", h_RSA_minDyOut.Integral(h_RSA_minDyOut.FindBin(5), h_RSA_minDyOut.FindBin(10000))\n",
      "print \"minDzOut > 50cm:\", h_RSA_minDzOut.Integral(h_RSA_minDzOut.FindBin(5), h_RSA_minDzOut.FindBin(10000))"
     ],
     "language": "python",
     "metadata": {},
     "outputs": [
      {
       "output_type": "stream",
       "stream": "stdout",
       "text": [
        "minDxIn > 5cm: 1715.0\n",
        "minDxIn > 0cm: 66.0\n",
        "minDxIn > 0cm: 7662.0\n",
        "minDyIn > 5cm: 1698.0\n",
        "minDzIn > 50cm: 1727.0\n",
        "minDxOut > 5cm: 1758.0\n",
        "minDyOut > 5cm: 1747.0\n",
        "minDzOut > 50cm: 2589.0\n"
       ]
      }
     ],
     "prompt_number": 56
    },
    {
     "cell_type": "code",
     "collapsed": false,
     "input": [],
     "language": "python",
     "metadata": {},
     "outputs": []
    }
   ],
   "metadata": {}
  }
 ]
}