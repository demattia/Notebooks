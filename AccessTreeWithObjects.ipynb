{
 "metadata": {
  "name": "AccessTreeWithObjects"
 },
 "nbformat": 3,
 "nbformat_minor": 0,
 "worksheets": [
  {
   "cells": [
    {
     "cell_type": "heading",
     "level": 1,
     "metadata": {},
     "source": [
      "How to access a tree with objects"
     ]
    },
    {
     "cell_type": "markdown",
     "metadata": {},
     "source": [
      "This notebook shows how to access a tree where the branches contain objects.\n",
      "The object declarations must be loaded so that ROOT knows their structure. This can be done with gROOT.LoadMacro."
     ]
    },
    {
     "cell_type": "code",
     "collapsed": false,
     "input": [
      "cd /afs/cern.ch/user/d/demattia/work/DisplacedLeptons/CMSSW_5_3_8/src"
     ],
     "language": "python",
     "metadata": {},
     "outputs": [
      {
       "output_type": "stream",
       "stream": "stdout",
       "text": [
        "/afs/cern.ch/work/d/demattia/DisplacedLeptons/CMSSW_5_3_8/src\n"
       ]
      }
     ],
     "prompt_number": 1
    },
    {
     "cell_type": "code",
     "collapsed": false,
     "input": [
      "import ROOT\n",
      "\n",
      "# ROOT.gROOT.LoadMacro(\"TreeProducer/TreeProducer/interface/TreeDipseudoLeptonCandidate.h+\")\n",
      "# ROOT.gROOT.LoadMacro(\"TreeProducer/TreeProducer/interface/TreePhoton.h+\")\n",
      "# ROOT.gROOT.LoadMacro(\"TreeProducer/TreeProducer/interface/TreeLepton.h+\")\n",
      "# ROOT.gROOT.LoadMacro(\"TreeProducer/TreeProducer/interface/TreeDiphotonCandidate.h+\")\n",
      "# ROOT.gROOT.LoadMacro(\"TreeProducer/TreeProducer/interface/Candidates.h+\")\n",
      "ROOT.gROOT.LoadMacro(\"Loader.C+\")"
     ],
     "language": "python",
     "metadata": {},
     "outputs": [
      {
       "output_type": "pyout",
       "prompt_number": 2,
       "text": [
        "0"
       ]
      }
     ],
     "prompt_number": 2
    },
    {
     "cell_type": "code",
     "collapsed": false,
     "input": [
      "cd /home/data/CMSSH"
     ],
     "language": "python",
     "metadata": {},
     "outputs": [
      {
       "output_type": "stream",
       "stream": "stdout",
       "text": [
        "/home/data/CMSSH\n"
       ]
      }
     ],
     "prompt_number": 3
    },
    {
     "cell_type": "code",
     "collapsed": false,
     "input": [
      "import rootnotes"
     ],
     "language": "python",
     "metadata": {},
     "outputs": [],
     "prompt_number": 4
    },
    {
     "cell_type": "code",
     "collapsed": false,
     "input": [
      "inputFile = ROOT.TFile(\"/afs/cern.ch/work/z/zhenhu/public/histograms.root\", \"READ\")"
     ],
     "language": "python",
     "metadata": {},
     "outputs": [],
     "prompt_number": 5
    },
    {
     "cell_type": "code",
     "collapsed": false,
     "input": [
      "directory = inputFile.Get(\"muTrackAnalysis\")\n",
      "tree = directory.Get(\"outputTree\")"
     ],
     "language": "python",
     "metadata": {},
     "outputs": [],
     "prompt_number": 6
    },
    {
     "cell_type": "code",
     "collapsed": false,
     "input": [
      "d0SigCanvas = rootnotes.canvas(\"d0SigCanvas\", (800, 400))\n",
      "d0SigCanvas.Divide(2,1)\n",
      "d0SigNeg = ROOT.TH1F(\"d0SigNeg\", \"d_0/#sigma #Delta#phi >= 0\", 100, -10, 10)\n",
      "d0SigPos = ROOT.TH1F(\"d0SigPos\", \"d_0/#sigma #Delta#phi < 0\", 100, -10, 10)\n",
      "\n",
      "for event in tree:\n",
      "    # print \"event =\", event.candidates.event\n",
      "    for candidate in event.candidates.candidates_:\n",
      "        if candidate.dPhiCorrSigned >= 0:\n",
      "            d0SigPos.Fill(candidate.leptonD0L_PV)\n",
      "        else:\n",
      "            d0SigNeg.Fill(candidate.leptonD0L_PV)\n",
      "        # if candidate.dPhi < 0 and candidate.dPhi > -999:\n",
      "        # print \"d0 =\", candidate.dPhiCorrSigned\n",
      "    # print event.candidates.leptons_\n",
      "d0SigCanvas.cd(1)\n",
      "d0SigPos.Draw()\n",
      "d0SigCanvas.cd(2)\n",
      "d0SigNeg.Draw()\n",
      "d0SigCanvas"
     ],
     "language": "python",
     "metadata": {},
     "outputs": [
      {
       "output_type": "stream",
       "stream": "stderr",
       "text": [
        "TFile::Append:0: RuntimeWarning: Replacing existing TH1: d0SigNeg (Potential memory leak).\n",
        "TFile::Append:0: RuntimeWarning: Replacing existing TH1: d0SigPos (Potential memory leak).\n"
       ]
      },
      {
       "output_type": "pyout",
       "png": "[encoded data removed]",
       "prompt_number": 32,
       "text": [
        "<ROOT.TCanvas object (\"d0SigCanvas\") at 0x21d7f990>"
       ]
      }
     ],
     "prompt_number": 32
    },
    {
     "cell_type": "code",
     "collapsed": false,
     "input": [
      "d0SigCanvas = ROOT.TCanvas(\"d0SigCanvas\")"
     ],
     "language": "python",
     "metadata": {},
     "outputs": [
      {
       "output_type": "stream",
       "stream": "stderr",
       "text": [
        "TCanvas::Constructor:0: RuntimeWarning: Deleting canvas with same name: d0SigCanvas\n"
       ]
      }
     ],
     "prompt_number": 30
    },
    {
     "cell_type": "code",
     "collapsed": false,
     "input": [],
     "language": "python",
     "metadata": {},
     "outputs": []
    }
   ],
   "metadata": {}
  }
 ]
}