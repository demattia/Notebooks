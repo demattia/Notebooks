{
 "metadata": {
  "name": "",
  "signature": "sha256:9960623724fe6a2f26930d69b9f53c3cac35e22bdfe133d1faa79426fac1e546"
 },
 "nbformat": 3,
 "nbformat_minor": 0,
 "worksheets": [
  {
   "cells": [
    {
     "cell_type": "heading",
     "level": 1,
     "metadata": {},
     "source": [
      "RSA Muons Resolutions for $d_{0}$ and $p_{T}$"
     ]
    },
    {
     "cell_type": "markdown",
     "metadata": {},
     "source": [
      "We compute resolutions for RSA muons passing the selection:\n",
      "- $p_T > 26$ GeV/c,\n",
      "- $|\\eta| < 2$,\n",
      "- $\\chi^2/ndof < 2$,\n",
      "- At least three chambers with valid hits,\n",
      "- At least 17 hits (DT+CSC+RPC),\n",
      "- $d_0/\\sigma > 4$.\n",
      "\n",
      "We find that for RSA muons passing this selection the $d_0$ resolution is $\\sim 2$cm and the relative $p_T$ resolution is $\\sim$ 40%. The $d_0$ measured with RSA muons is found to be in good agreement with the MC-truth values. The $p_T$ is found to be biased and with long non-gaussian tails.\n",
      "\n",
      "The sample used for this study is a signal MC with $H\\rightarrow XX$, where $H$ is a spin 0 boson and $X$ is a long-lived spin 0 boson decaying to a pair of muons. Events are generated with three different lifetimes, and allow to cover a wide range of $d_0$ and $p_T$ values."
     ]
    },
    {
     "cell_type": "code",
     "collapsed": false,
     "input": [
      "import ROOT\n",
      "from ROOT import TCanvas\n",
      "import rootprint\n",
      "import rootnotes\n",
      "from array import array"
     ],
     "language": "python",
     "metadata": {
      "slideshow": {
       "slide_type": "-"
      }
     },
     "outputs": [],
     "prompt_number": 1
    },
    {
     "cell_type": "code",
     "collapsed": false,
     "input": [
      "ROOT.gStyle.SetOptStat(0000000)"
     ],
     "language": "python",
     "metadata": {
      "slideshow": {
       "slide_type": "-"
      }
     },
     "outputs": [],
     "prompt_number": 2
    },
    {
     "cell_type": "code",
     "collapsed": false,
     "input": [
      "from RefittedStandAloneMuons import *\n",
      "from ProgressBar import ProgressBar"
     ],
     "language": "python",
     "metadata": {
      "slideshow": {
       "slide_type": "-"
      }
     },
     "outputs": [],
     "prompt_number": 3
    },
    {
     "cell_type": "code",
     "collapsed": false,
     "input": [
      "inputData = ROOT.TFile(\"/home/demattia/cmslpc/eos/uscms/store/user/lpcdve/noreplica/DisplacedLeptons/Trees/HTo2LongLivedTo4F_MH1000_MFF350_CTau350To35000_analysis_20140805/histograms.root\")\n"
     ],
     "language": "python",
     "metadata": {
      "slideshow": {
       "slide_type": "-"
      }
     },
     "outputs": [
      {
       "output_type": "stream",
       "stream": "stderr",
       "text": [
        "TClass::TClass:0: RuntimeWarning: no dictionary for class Candidates is available\n",
        "TClass::TClass:0: RuntimeWarning: no dictionary for class TreeLepton is available\n",
        "TClass::TClass:0: RuntimeWarning: no dictionary for class MuonTime is available\n",
        "TClass::TClass:0: RuntimeWarning: no dictionary for class TreeDipseudoLeptonCandidate is available\n"
       ]
      }
     ],
     "prompt_number": 4
    },
    {
     "cell_type": "code",
     "collapsed": false,
     "input": [
      "ROOT.gROOT.LoadMacro(\"interfaceRefittedStandAloneMuons/Loader.C+\")"
     ],
     "language": "python",
     "metadata": {
      "slideshow": {
       "slide_type": "-"
      }
     },
     "outputs": [
      {
       "metadata": {},
       "output_type": "pyout",
       "prompt_number": 5,
       "text": [
        "0"
       ]
      }
     ],
     "prompt_number": 5
    },
    {
     "cell_type": "code",
     "collapsed": false,
     "input": [
      "directory = inputData.Get(\"muTrackAnalysis\")\n",
      "tree = directory.Get(\"outputTree\")\n",
      "\n",
      "p = ProgressBar(tree.GetEntries())\n",
      "\n",
      "genD0 = ROOT.TH1F(\"genD0\", \"generated d_{0}\", 250, 0, 250)\n",
      "recoD0 = ROOT.TH1F(\"recoD0\", \"reconstructed d_{0}\", 250, 0, 250)\n",
      "deltaD0 = ROOT.TH1F(\"deltaD0\", \"reconstructed d_{0} - generated d_{0}\", 1000, -10, 10)\n",
      "# deltaD0_0_3 = ROOT.TH1F(\"deltaD0_0_3\", \"reconstructed d_{0} - generated d_{0} (0-3)cm\", 1000, -10, 10)\n",
      "deltaD0_0_10 = ROOT.TH1F(\"deltaD0_0_10\", \"reconstructed d_{0} - generated d_{0} (0-10)cm\", 1000, -10, 10)\n",
      "deltaD0_10_25 = ROOT.TH1F(\"deltaD0_10_25\", \"reconstructed d_{0} - generated d_{0} (10-25)cm\", 1000, -10, 10)\n",
      "deltaD0_25_55 = ROOT.TH1F(\"deltaD0_25_55\", \"reconstructed d_{0} - generated d_{0} (25-55)cm\", 1000, -10, 10)\n",
      "deltaD0_55_110 = ROOT.TH1F(\"deltaD0_55_110\", \"reconstructed d_{0} - generated d_{0} (55-110)cm\", 1000, -10, 10)\n",
      "deltaD0_110 = ROOT.TH1F(\"deltaD0_110\", \"reconstructed d_{0} - generated d_{0} (>110)cm\", 1000, -10, 10)\n",
      "\n",
      "genPt = ROOT.TH1F(\"genPt\", \"generated pt_{0}\", 250, 0, 1000)\n",
      "recoPt = ROOT.TH1F(\"recoPt\", \"reconstructed pt_{0}\", 250, 0, 1000)\n",
      "deltaPtOverPt = ROOT.TH1F(\"deltaPtOverPt\", \"(reconstructed p_{T} - generated p_{T})/generated p_{T}\", 1000, -2, 10)\n",
      "deltaPtOverPt_0_10 = ROOT.TH1F(\"deltaPtOverPt_0_10\", \"(reconstructed p_{T} - generated p_{T})/generated p_{T} (0-10)cm\", 1000, -2, 10)\n",
      "deltaPtOverPt_10_25 = ROOT.TH1F(\"deltaPtOverPt_10_25\", \"(reconstructed p_{T} - generated p_{T})/generated p_{T} (10-25)cm\", 1000, -2, 10)\n",
      "deltaPtOverPt_25_55 = ROOT.TH1F(\"deltaPtOverPt_25_55\", \"(reconstructed p_{T} - generated p_{T})/generated p_{T} (25-55)cm\", 1000, -2, 10)\n",
      "deltaPtOverPt_55_110 = ROOT.TH1F(\"deltaPtOverPt_55_110\", \"(reconstructed p_{T} - generated p_{T})/generated p_{T} (55-110)cm\", 1000, -2, 10)\n",
      "deltaPtOverPt_110 = ROOT.TH1F(\"deltaPtOverPt_110\", \"(reconstructed p_{T} - generated p_{T})/generated p_{T} (>110)cm\", 1000, -2, 10)\n",
      "\n",
      "deltaPtOverPt_pt_0_80 = ROOT.TH1F(\"deltaPtOverPt_pt_0_80\", \"(reconstructed p_{T} - generated p_{T})/generated p_{T} (0-80)GeV/c\", 1000, -2, 10)\n",
      "deltaPtOverPt_pt_80_130 = ROOT.TH1F(\"deltaPtOverPt_pt_80_130\", \"(reconstructed p_{T} - generated p_{T})/generated p_{T} (80-130)GeV/c\", 1000, -2, 10)\n",
      "deltaPtOverPt_pt_130_180 = ROOT.TH1F(\"deltaPtOverPt_pt_130_180\", \"(reconstructed p_{T} - generated p_{T})/generated p_{T} (130-180)GeV/c\", 1000, -2, 10)\n",
      "deltaPtOverPt_pt_180_230 = ROOT.TH1F(\"deltaPtOverPt_pt_180_230\", \"(reconstructed p_{T} - generated p_{T})/generated p_{T} (180-230)GeV/c\", 1000, -2, 10)\n",
      "deltaPtOverPt_pt_230_300 = ROOT.TH1F(\"deltaPtOverPt_pt_230_300\", \"(reconstructed p_{T} - generated p_{T})/generated p_{T} (230-300)GeV/c\", 1000, -2, 10)\n",
      "deltaPtOverPt_pt_300 = ROOT.TH1F(\"deltaPtOverPt_110\", \"(reconstructed p_{T} - generated p_{T})/generated p_{T} (>300)GeV/c\", 1000, -2, 10)\n",
      "\n",
      "num = 0\n",
      "for event in tree:\n",
      "    if num%(event.GetEntries()/100) == 0:\n",
      "        p.animate(num)\n",
      "    \n",
      "    num += 1\n",
      "    \n",
      "    for lepton in event.candidates.leptons_:\n",
      "        if not (lepton.isStandAloneMuon and lepton.pt > 26 and abs(lepton.eta) < 2 and \\\n",
      "                lepton.dtStationsWithValidHits+lepton.cscStationsWithValidHits > 2 and \\\n",
      "                lepton.trackChi2 < 2 and lepton.numberOfHits > 17 and abs(lepton.genD0) > 0 and lepton.genPt > 0):\n",
      "            continue\n",
      "        if not lepton.d0Significance_PV_includingPVError > 4:\n",
      "            continue\n",
      "        # print lepton.d0_PV, lepton.d0_PV/lepton.d0Significance_PV_includingPVError, lepton.d0Significance_PV_includingPVError, abs(lepton.genD0)\n",
      "        genPt.Fill(lepton.genPt)\n",
      "        recoPt.Fill(lepton.pt)\n",
      "        ptDiff = (lepton.pt - lepton.genPt)\n",
      "        ptTerm = ptDiff/lepton.genPt\n",
      "        deltaPtOverPt.Fill(ptTerm)\n",
      "        genD0.Fill(abs(lepton.genD0))\n",
      "        recoD0.Fill(abs(lepton.d0_PV))\n",
      "        deltaD0.Fill(lepton.d0_PV - abs(lepton.genD0))\n",
      "        if abs(lepton.genD0) < 10:\n",
      "            deltaD0_0_10.Fill(lepton.d0_PV - abs(lepton.genD0))\n",
      "            deltaPtOverPt_0_10.Fill(ptTerm)\n",
      "        elif abs(lepton.genD0) < 25:\n",
      "            deltaD0_10_25.Fill(lepton.d0_PV - abs(lepton.genD0))\n",
      "            deltaPtOverPt_10_25.Fill(ptTerm)\n",
      "        elif abs(lepton.genD0) < 55:\n",
      "            deltaD0_25_55.Fill(lepton.d0_PV - abs(lepton.genD0))\n",
      "            deltaPtOverPt_25_55.Fill(ptTerm)\n",
      "        elif abs(lepton.genD0) < 110:\n",
      "            deltaD0_55_110.Fill(lepton.d0_PV - abs(lepton.genD0))\n",
      "            deltaPtOverPt_55_110.Fill(ptTerm)\n",
      "        else:\n",
      "            deltaD0_110.Fill(lepton.d0_PV - abs(lepton.genD0))\n",
      "            deltaPtOverPt_110.Fill(ptTerm)\n",
      "\n",
      "        if lepton.genPt < 80:\n",
      "            deltaPtOverPt_pt_0_80.Fill(ptTerm)\n",
      "        elif lepton.genPt < 130:\n",
      "            deltaPtOverPt_pt_80_130.Fill(ptTerm)\n",
      "        elif lepton.genPt < 180:\n",
      "            deltaPtOverPt_pt_130_180.Fill(ptTerm)\n",
      "        elif lepton.genPt < 230:\n",
      "            deltaPtOverPt_pt_180_230.Fill(ptTerm)\n",
      "        elif lepton.genPt < 300:\n",
      "            deltaPtOverPt_pt_230_300.Fill(ptTerm)\n",
      "        else:\n",
      "            deltaPtOverPt_pt_300.Fill(ptTerm)\n",
      "\n",
      "    # if num > 100000:\n",
      "    #     break\n"
     ],
     "language": "python",
     "metadata": {
      "slideshow": {
       "slide_type": "-"
      }
     },
     "outputs": [
      {
       "output_type": "stream",
       "stream": "stdout",
       "text": [
        "\r",
        " [                       0%                       ]"
       ]
      },
      {
       "output_type": "stream",
       "stream": "stdout",
       "text": [
        "\r",
        " [                       0%                       ]  1 of 453701 complete"
       ]
      },
      {
       "output_type": "stream",
       "stream": "stdout",
       "text": [
        "\r",
        " [                       1%                       ]  4538 of 453701 complete"
       ]
      },
      {
       "output_type": "stream",
       "stream": "stdout",
       "text": [
        "\r",
        " [*                      2%                       ]  9075 of 453701 complete"
       ]
      },
      {
       "output_type": "stream",
       "stream": "stdout",
       "text": [
        "\r",
        " [*                      3%                       ]  13612 of 453701 complete"
       ]
      },
      {
       "output_type": "stream",
       "stream": "stdout",
       "text": [
        "\r",
        " [**                     4%                       ]  18149 of 453701 complete"
       ]
      },
      {
       "output_type": "stream",
       "stream": "stdout",
       "text": [
        "\r",
        " [**                     5%                       ]  22686 of 453701 complete"
       ]
      },
      {
       "output_type": "stream",
       "stream": "stdout",
       "text": [
        "\r",
        " [***                    6%                       ]  27223 of 453701 complete"
       ]
      },
      {
       "output_type": "stream",
       "stream": "stdout",
       "text": [
        "\r",
        " [***                    7%                       ]  31760 of 453701 complete"
       ]
      },
      {
       "output_type": "stream",
       "stream": "stdout",
       "text": [
        "\r",
        " [****                   8%                       ]  36297 of 453701 complete"
       ]
      },
      {
       "output_type": "stream",
       "stream": "stdout",
       "text": [
        "\r",
        " [****                   9%                       ]  40834 of 453701 complete"
       ]
      },
      {
       "output_type": "stream",
       "stream": "stdout",
       "text": [
        "\r",
        " [*****                 10%                       ]  45371 of 453701 complete"
       ]
      },
      {
       "output_type": "stream",
       "stream": "stdout",
       "text": [
        "\r",
        " [*****                 11%                       ]  49908 of 453701 complete"
       ]
      },
      {
       "output_type": "stream",
       "stream": "stdout",
       "text": [
        "\r",
        " [******                12%                       ]  54445 of 453701 complete"
       ]
      },
      {
       "output_type": "stream",
       "stream": "stdout",
       "text": [
        "\r",
        " [******                13%                       ]  58982 of 453701 complete"
       ]
      },
      {
       "output_type": "stream",
       "stream": "stdout",
       "text": [
        "\r",
        " [*******               14%                       ]  63519 of 453701 complete"
       ]
      },
      {
       "output_type": "stream",
       "stream": "stdout",
       "text": [
        "\r",
        " [*******               15%                       ]  68056 of 453701 complete"
       ]
      },
      {
       "output_type": "stream",
       "stream": "stdout",
       "text": [
        "\r",
        " [********              16%                       ]  72593 of 453701 complete"
       ]
      },
      {
       "output_type": "stream",
       "stream": "stdout",
       "text": [
        "\r",
        " [********              17%                       ]  77130 of 453701 complete"
       ]
      },
      {
       "output_type": "stream",
       "stream": "stdout",
       "text": [
        "\r",
        " [*********             18%                       ]  81667 of 453701 complete"
       ]
      },
      {
       "output_type": "stream",
       "stream": "stdout",
       "text": [
        "\r",
        " [*********             19%                       ]  86204 of 453701 complete"
       ]
      },
      {
       "output_type": "stream",
       "stream": "stdout",
       "text": [
        "\r",
        " [**********            20%                       ]  90741 of 453701 complete"
       ]
      },
      {
       "output_type": "stream",
       "stream": "stdout",
       "text": [
        "\r",
        " [**********            21%                       ]  95278 of 453701 complete"
       ]
      },
      {
       "output_type": "stream",
       "stream": "stdout",
       "text": [
        "\r",
        " [***********           22%                       ]  99815 of 453701 complete"
       ]
      },
      {
       "output_type": "stream",
       "stream": "stdout",
       "text": [
        "\r",
        " [***********           23%                       ]  104352 of 453701 complete"
       ]
      },
      {
       "output_type": "stream",
       "stream": "stdout",
       "text": [
        "\r",
        " [************          24%                       ]  108889 of 453701 complete"
       ]
      },
      {
       "output_type": "stream",
       "stream": "stdout",
       "text": [
        "\r",
        " [************          25%                       ]  113426 of 453701 complete"
       ]
      },
      {
       "output_type": "stream",
       "stream": "stdout",
       "text": [
        "\r",
        " [************          26%                       ]  117963 of 453701 complete"
       ]
      },
      {
       "output_type": "stream",
       "stream": "stdout",
       "text": [
        "\r",
        " [*************         27%                       ]  122500 of 453701 complete"
       ]
      },
      {
       "output_type": "stream",
       "stream": "stdout",
       "text": [
        "\r",
        " [*************         28%                       ]  127037 of 453701 complete"
       ]
      },
      {
       "output_type": "stream",
       "stream": "stdout",
       "text": [
        "\r",
        " [**************        29%                       ]  131574 of 453701 complete"
       ]
      },
      {
       "output_type": "stream",
       "stream": "stdout",
       "text": [
        "\r",
        " [**************        30%                       ]  136111 of 453701 complete"
       ]
      },
      {
       "output_type": "stream",
       "stream": "stdout",
       "text": [
        "\r",
        " [***************       31%                       ]  140648 of 453701 complete"
       ]
      },
      {
       "output_type": "stream",
       "stream": "stdout",
       "text": [
        "\r",
        " [***************       32%                       ]  145185 of 453701 complete"
       ]
      },
      {
       "output_type": "stream",
       "stream": "stdout",
       "text": [
        "\r",
        " [****************      33%                       ]  149722 of 453701 complete"
       ]
      },
      {
       "output_type": "stream",
       "stream": "stdout",
       "text": [
        "\r",
        " [****************      34%                       ]  154259 of 453701 complete"
       ]
      },
      {
       "output_type": "stream",
       "stream": "stdout",
       "text": [
        "\r",
        " [*****************     35%                       ]  158796 of 453701 complete"
       ]
      },
      {
       "output_type": "stream",
       "stream": "stdout",
       "text": [
        "\r",
        " [*****************     36%                       ]  163333 of 453701 complete"
       ]
      },
      {
       "output_type": "stream",
       "stream": "stdout",
       "text": [
        "\r",
        " [******************    37%                       ]  167870 of 453701 complete"
       ]
      },
      {
       "output_type": "stream",
       "stream": "stdout",
       "text": [
        "\r",
        " [******************    38%                       ]  172407 of 453701 complete"
       ]
      },
      {
       "output_type": "stream",
       "stream": "stdout",
       "text": [
        "\r",
        " [*******************   39%                       ]  176944 of 453701 complete"
       ]
      },
      {
       "output_type": "stream",
       "stream": "stdout",
       "text": [
        "\r",
        " [*******************   40%                       ]  181481 of 453701 complete"
       ]
      },
      {
       "output_type": "stream",
       "stream": "stdout",
       "text": [
        "\r",
        " [********************  41%                       ]  186018 of 453701 complete"
       ]
      },
      {
       "output_type": "stream",
       "stream": "stdout",
       "text": [
        "\r",
        " [********************  42%                       ]  190555 of 453701 complete"
       ]
      },
      {
       "output_type": "stream",
       "stream": "stdout",
       "text": [
        "\r",
        " [********************* 43%                       ]  195092 of 453701 complete"
       ]
      },
      {
       "output_type": "stream",
       "stream": "stdout",
       "text": [
        "\r",
        " [********************* 44%                       ]  199629 of 453701 complete"
       ]
      },
      {
       "output_type": "stream",
       "stream": "stdout",
       "text": [
        "\r",
        " [**********************45%                       ]  204166 of 453701 complete"
       ]
      },
      {
       "output_type": "stream",
       "stream": "stdout",
       "text": [
        "\r",
        " [**********************46%                       ]  208703 of 453701 complete"
       ]
      },
      {
       "output_type": "stream",
       "stream": "stdout",
       "text": [
        "\r",
        " [**********************47%                       ]  213240 of 453701 complete"
       ]
      },
      {
       "output_type": "stream",
       "stream": "stdout",
       "text": [
        "\r",
        " [**********************48%                       ]  217777 of 453701 complete"
       ]
      },
      {
       "output_type": "stream",
       "stream": "stdout",
       "text": [
        "\r",
        " [**********************49%                       ]  222314 of 453701 complete"
       ]
      },
      {
       "output_type": "stream",
       "stream": "stdout",
       "text": [
        "\r",
        " [**********************50%                       ]  226851 of 453701 complete"
       ]
      },
      {
       "output_type": "stream",
       "stream": "stdout",
       "text": [
        "\r",
        " [**********************51%                       ]  231388 of 453701 complete"
       ]
      },
      {
       "output_type": "stream",
       "stream": "stdout",
       "text": [
        "\r",
        " [**********************52%                       ]  235925 of 453701 complete"
       ]
      },
      {
       "output_type": "stream",
       "stream": "stdout",
       "text": [
        "\r",
        " [**********************53%                       ]  240462 of 453701 complete"
       ]
      },
      {
       "output_type": "stream",
       "stream": "stdout",
       "text": [
        "\r",
        " [**********************54%*                      ]  244999 of 453701 complete"
       ]
      },
      {
       "output_type": "stream",
       "stream": "stdout",
       "text": [
        "\r",
        " [**********************55%*                      ]  249536 of 453701 complete"
       ]
      },
      {
       "output_type": "stream",
       "stream": "stdout",
       "text": [
        "\r",
        " [**********************56%**                     ]  254073 of 453701 complete"
       ]
      },
      {
       "output_type": "stream",
       "stream": "stdout",
       "text": [
        "\r",
        " [**********************57%**                     ]  258610 of 453701 complete"
       ]
      },
      {
       "output_type": "stream",
       "stream": "stdout",
       "text": [
        "\r",
        " [**********************58%***                    ]  263147 of 453701 complete"
       ]
      },
      {
       "output_type": "stream",
       "stream": "stdout",
       "text": [
        "\r",
        " [**********************59%***                    ]  267684 of 453701 complete"
       ]
      },
      {
       "output_type": "stream",
       "stream": "stdout",
       "text": [
        "\r",
        " [**********************60%****                   ]  272221 of 453701 complete"
       ]
      },
      {
       "output_type": "stream",
       "stream": "stdout",
       "text": [
        "\r",
        " [**********************61%****                   ]  276758 of 453701 complete"
       ]
      },
      {
       "output_type": "stream",
       "stream": "stdout",
       "text": [
        "\r",
        " [**********************62%*****                  ]  281295 of 453701 complete"
       ]
      },
      {
       "output_type": "stream",
       "stream": "stdout",
       "text": [
        "\r",
        " [**********************63%*****                  ]  285832 of 453701 complete"
       ]
      },
      {
       "output_type": "stream",
       "stream": "stdout",
       "text": [
        "\r",
        " [**********************64%******                 ]  290369 of 453701 complete"
       ]
      },
      {
       "output_type": "stream",
       "stream": "stdout",
       "text": [
        "\r",
        " [**********************65%******                 ]  294906 of 453701 complete"
       ]
      },
      {
       "output_type": "stream",
       "stream": "stdout",
       "text": [
        "\r",
        " [**********************66%*******                ]  299443 of 453701 complete"
       ]
      },
      {
       "output_type": "stream",
       "stream": "stdout",
       "text": [
        "\r",
        " [**********************67%*******                ]  303980 of 453701 complete"
       ]
      },
      {
       "output_type": "stream",
       "stream": "stdout",
       "text": [
        "\r",
        " [**********************68%********               ]  308517 of 453701 complete"
       ]
      },
      {
       "output_type": "stream",
       "stream": "stdout",
       "text": [
        "\r",
        " [**********************69%********               ]  313054 of 453701 complete"
       ]
      },
      {
       "output_type": "stream",
       "stream": "stdout",
       "text": [
        "\r",
        " [**********************70%*********              ]  317591 of 453701 complete"
       ]
      },
      {
       "output_type": "stream",
       "stream": "stdout",
       "text": [
        "\r",
        " [**********************71%*********              ]  322128 of 453701 complete"
       ]
      },
      {
       "output_type": "stream",
       "stream": "stdout",
       "text": [
        "\r",
        " [**********************72%**********             ]  326665 of 453701 complete"
       ]
      },
      {
       "output_type": "stream",
       "stream": "stdout",
       "text": [
        "\r",
        " [**********************73%**********             ]  331202 of 453701 complete"
       ]
      },
      {
       "output_type": "stream",
       "stream": "stdout",
       "text": [
        "\r",
        " [**********************74%***********            ]  335739 of 453701 complete"
       ]
      },
      {
       "output_type": "stream",
       "stream": "stdout",
       "text": [
        "\r",
        " [**********************75%***********            ]  340276 of 453701 complete"
       ]
      },
      {
       "output_type": "stream",
       "stream": "stdout",
       "text": [
        "\r",
        " [**********************76%***********            ]  344813 of 453701 complete"
       ]
      },
      {
       "output_type": "stream",
       "stream": "stdout",
       "text": [
        "\r",
        " [**********************77%************           ]  349350 of 453701 complete"
       ]
      },
      {
       "output_type": "stream",
       "stream": "stdout",
       "text": [
        "\r",
        " [**********************78%************           ]  353887 of 453701 complete"
       ]
      },
      {
       "output_type": "stream",
       "stream": "stdout",
       "text": [
        "\r",
        " [**********************79%*************          ]  358424 of 453701 complete"
       ]
      },
      {
       "output_type": "stream",
       "stream": "stdout",
       "text": [
        "\r",
        " [**********************80%*************          ]  362961 of 453701 complete"
       ]
      },
      {
       "output_type": "stream",
       "stream": "stdout",
       "text": [
        "\r",
        " [**********************81%**************         ]  367498 of 453701 complete"
       ]
      },
      {
       "output_type": "stream",
       "stream": "stdout",
       "text": [
        "\r",
        " [**********************82%**************         ]  372035 of 453701 complete"
       ]
      },
      {
       "output_type": "stream",
       "stream": "stdout",
       "text": [
        "\r",
        " [**********************83%***************        ]  376572 of 453701 complete"
       ]
      },
      {
       "output_type": "stream",
       "stream": "stdout",
       "text": [
        "\r",
        " [**********************84%***************        ]  381109 of 453701 complete"
       ]
      },
      {
       "output_type": "stream",
       "stream": "stdout",
       "text": [
        "\r",
        " [**********************85%****************       ]  385646 of 453701 complete"
       ]
      },
      {
       "output_type": "stream",
       "stream": "stdout",
       "text": [
        "\r",
        " [**********************86%****************       ]  390183 of 453701 complete"
       ]
      },
      {
       "output_type": "stream",
       "stream": "stdout",
       "text": [
        "\r",
        " [**********************87%*****************      ]  394720 of 453701 complete"
       ]
      },
      {
       "output_type": "stream",
       "stream": "stdout",
       "text": [
        "\r",
        " [**********************88%*****************      ]  399257 of 453701 complete"
       ]
      },
      {
       "output_type": "stream",
       "stream": "stdout",
       "text": [
        "\r",
        " [**********************89%******************     ]  403794 of 453701 complete"
       ]
      },
      {
       "output_type": "stream",
       "stream": "stdout",
       "text": [
        "\r",
        " [**********************90%******************     ]  408331 of 453701 complete"
       ]
      },
      {
       "output_type": "stream",
       "stream": "stdout",
       "text": [
        "\r",
        " [**********************91%*******************    ]  412868 of 453701 complete"
       ]
      },
      {
       "output_type": "stream",
       "stream": "stdout",
       "text": [
        "\r",
        " [**********************92%*******************    ]  417405 of 453701 complete"
       ]
      },
      {
       "output_type": "stream",
       "stream": "stdout",
       "text": [
        "\r",
        " [**********************93%********************   ]  421942 of 453701 complete"
       ]
      },
      {
       "output_type": "stream",
       "stream": "stdout",
       "text": [
        "\r",
        " [**********************94%********************   ]  426479 of 453701 complete"
       ]
      },
      {
       "output_type": "stream",
       "stream": "stdout",
       "text": [
        "\r",
        " [**********************95%*********************  ]  431016 of 453701 complete"
       ]
      },
      {
       "output_type": "stream",
       "stream": "stdout",
       "text": [
        "\r",
        " [**********************96%*********************  ]  435553 of 453701 complete"
       ]
      },
      {
       "output_type": "stream",
       "stream": "stdout",
       "text": [
        "\r",
        " [**********************97%********************** ]  440090 of 453701 complete"
       ]
      },
      {
       "output_type": "stream",
       "stream": "stdout",
       "text": [
        "\r",
        " [**********************98%********************** ]  444627 of 453701 complete"
       ]
      },
      {
       "output_type": "stream",
       "stream": "stdout",
       "text": [
        "\r",
        " [**********************99%***********************]  449164 of 453701 complete"
       ]
      },
      {
       "output_type": "stream",
       "stream": "stderr",
       "text": [
        "TFile::Append:0: RuntimeWarning: Replacing existing TH1: genD0 (Potential memory leak).\n",
        "TFile::Append:0: RuntimeWarning: Replacing existing TH1: recoD0 (Potential memory leak).\n",
        "TFile::Append:0: RuntimeWarning: Replacing existing TH1: deltaD0 (Potential memory leak).\n",
        "TFile::Append:0: RuntimeWarning: Replacing existing TH1: deltaD0_0_10 (Potential memory leak).\n",
        "TFile::Append:0: RuntimeWarning: Replacing existing TH1: deltaD0_10_25 (Potential memory leak).\n",
        "TFile::Append:0: RuntimeWarning: Replacing existing TH1: deltaD0_25_55 (Potential memory leak).\n",
        "TFile::Append:0: RuntimeWarning: Replacing existing TH1: deltaD0_55_110 (Potential memory leak).\n",
        "TFile::Append:0: RuntimeWarning: Replacing existing TH1: deltaD0_110 (Potential memory leak).\n",
        "TFile::Append:0: RuntimeWarning: Replacing existing TH1: genPt (Potential memory leak).\n",
        "TFile::Append:0: RuntimeWarning: Replacing existing TH1: recoPt (Potential memory leak).\n",
        "TFile::Append:0: RuntimeWarning: Replacing existing TH1: deltaPtOverPt (Potential memory leak).\n",
        "TFile::Append:0: RuntimeWarning: Replacing existing TH1: deltaPtOverPt_0_10 (Potential memory leak).\n",
        "TFile::Append:0: RuntimeWarning: Replacing existing TH1: deltaPtOverPt_10_25 (Potential memory leak).\n",
        "TFile::Append:0: RuntimeWarning: Replacing existing TH1: deltaPtOverPt_25_55 (Potential memory leak).\n",
        "TFile::Append:0: RuntimeWarning: Replacing existing TH1: deltaPtOverPt_55_110 (Potential memory leak).\n",
        "TFile::Append:0: RuntimeWarning: Replacing existing TH1: deltaPtOverPt_110 (Potential memory leak).\n",
        "TFile::Append:0: RuntimeWarning: Replacing existing TH1: deltaPtOverPt_pt_0_80 (Potential memory leak).\n",
        "TFile::Append:0: RuntimeWarning: Replacing existing TH1: deltaPtOverPt_pt_80_130 (Potential memory leak).\n",
        "TFile::Append:0: RuntimeWarning: Replacing existing TH1: deltaPtOverPt_pt_130_180 (Potential memory leak).\n",
        "TFile::Append:0: RuntimeWarning: Replacing existing TH1: deltaPtOverPt_pt_180_230 (Potential memory leak).\n",
        "TFile::Append:0: RuntimeWarning: Replacing existing TH1: deltaPtOverPt_pt_230_300 (Potential memory leak).\n",
        "TFile::Append:0: RuntimeWarning: Replacing existing TH1: deltaPtOverPt_110 (Potential memory leak).\n"
       ]
      }
     ],
     "prompt_number": 132
    },
    {
     "cell_type": "code",
     "collapsed": false,
     "input": [
      "def setPlotStyle(genD0, xTitle):\n",
      "    genD0.SetLineColor(1)\n",
      "    genD0.SetTitle(\"\")\n",
      "    genD0.GetXaxis().SetTitle(xTitle)\n",
      "    genD0.GetXaxis().SetTitleOffset(1.3)\n",
      "    genD0.GetYaxis().SetTitle(\"Entries\")\n",
      "    genD0.GetYaxis().SetTitleOffset(1.4)"
     ],
     "language": "python",
     "metadata": {},
     "outputs": [],
     "prompt_number": 134
    },
    {
     "cell_type": "code",
     "collapsed": false,
     "input": [
      "c = ROOT.TCanvas(\"c\", \"c\", 400, 400)\n",
      "#c.Divide(2,2)\n",
      "#c.cd(1)\n",
      "setPlotStyle(genD0, \"d_{0} [cm]\")\n",
      "genD0.GetYaxis().SetTitleOffset(1.5)\n",
      "#genD0.Draw()\n",
      "#c.cd(2)\n",
      "setPlotStyle(recoD0, \"d_{0} [cm]\")\n",
      "#recoD0.Draw()\n",
      "#c.cd(3)\n",
      "genD0.Draw(\"E\")\n",
      "genD0.SetMarkerStyle(22)\n",
      "genD0.SetMarkerSize(0.7)\n",
      "genD0.SetMarkerColor(2)\n",
      "genD0.SetLineColor(2)\n",
      "recoD0.Draw(\"sameE\")\n",
      "recoD0.SetMarkerStyle(24)\n",
      "recoD0.SetMarkerSize(0.7)\n",
      "leg = ROOT.TLegend(0.4,0.6,0.8,0.8)\n",
      "leg.SetBorderSize(0)\n",
      "leg.SetFillColor(0)\n",
      "leg.AddEntry(genD0,\"Generated d_{0}\",\"pl\")\n",
      "leg.AddEntry(recoD0,\"Reconstructed d_{0}\",\"pl\")\n",
      "leg.Draw(\"same\");\n",
      "c.SaveAs(\"D0Distributions.C\")\n",
      "c.SaveAs(\"D0Distributions.root\")\n",
      "c.SaveAs(\"D0Distributions.pdf\")\n",
      "c"
     ],
     "language": "python",
     "metadata": {},
     "outputs": [
      {
       "output_type": "stream",
       "stream": "stderr",
       "text": [
        "TCanvas::Constructor:0: RuntimeWarning: Deleting canvas with same name: c\n"
       ]
      },
      {
       "metadata": {},
       "output_type": "pyout",
       "png": "[encoded data removed]",
       "prompt_number": 175,
       "text": [
        "<ROOT.TCanvas object (\"c\") at 0x4330660>"
       ]
      }
     ],
     "prompt_number": 175
    },
    {
     "cell_type": "code",
     "collapsed": false,
     "input": [
      "%%rootprint\n",
      "deltaD0_0_10.Fit(\"gaus\")\n",
      "deltaD0_10_25.Fit(\"gaus\")\n",
      "deltaD0_25_55.Fit(\"gaus\")\n",
      "deltaD0_55_110.Fit(\"gaus\")\n",
      "deltaD0_110.Fit(\"gaus\")\n",
      "deltaD0.Fit(\"gaus\")"
     ],
     "language": "python",
     "metadata": {
      "slideshow": {
       "slide_type": "-"
      }
     },
     "outputs": [
      {
       "output_type": "stream",
       "stream": "stdout",
       "text": [
        " FCN=1221.22 FROM MIGRAD    STATUS=CONVERGED      76 CALLS          77 TOTAL\n",
        "                     EDM=3.62548e-07    STRATEGY= 1      ERROR MATRIX ACCURATE \n",
        "  EXT PARAMETER                                   STEP         FIRST   \n",
        "  NO.   NAME      VALUE            ERROR          SIZE      DERIVATIVE \n",
        "   1  Constant     7.97246e+01   9.54944e-01   1.18490e-02   3.56328e-04\n",
        "   2  Mean         4.26489e-01   1.23881e-02   1.97135e-04  -4.32622e-02\n",
        "   3  Sigma        1.32168e+00   1.09420e-02   2.82455e-05  -9.11917e-02\n",
        " FCN=1641.37 FROM MIGRAD    STATUS=CONVERGED      76 CALLS          77 TOTAL\n",
        "                     EDM=8.117e-09    STRATEGY= 1      ERROR MATRIX ACCURATE \n",
        "  EXT PARAMETER                                   STEP         FIRST   \n",
        "  NO.   NAME      VALUE            ERROR          SIZE      DERIVATIVE \n",
        "   1  Constant     1.09825e+02   1.01204e+00   1.41327e-02  -5.48441e-05\n",
        "   2  Mean         5.01612e-02   1.12554e-02   2.21320e-04   1.68393e-03\n",
        "   3  Sigma        1.71810e+00   1.12351e-02   2.73700e-05   3.98348e-02\n",
        " FCN=1851.58 FROM MIGRAD    STATUS=CONVERGED      80 CALLS          81 TOTAL\n",
        "                     EDM=2.6327e-10    STRATEGY= 1      ERROR MATRIX ACCURATE \n",
        "  EXT PARAMETER                                   STEP         FIRST   \n",
        "  NO.   NAME      VALUE            ERROR          SIZE      DERIVATIVE \n",
        "   1  Constant     8.19790e+01   8.52747e-01   1.21970e-02  -3.35687e-05\n",
        "   2  Mean        -3.88443e-02   1.37877e-02   2.89336e-04  -8.70666e-04\n",
        "   3  Sigma        1.94246e+00   1.48331e-02   3.22053e-05  -1.04108e-02\n",
        " FCN=1537.41 FROM MIGRAD    STATUS=CONVERGED      79 CALLS          80 TOTAL\n",
        "                     EDM=2.74726e-07    STRATEGY= 1      ERROR MATRIX ACCURATE \n",
        "  EXT PARAMETER                                   STEP         FIRST   \n",
        "  NO.   NAME      VALUE            ERROR          SIZE      DERIVATIVE \n",
        "   1  Constant     5.28915e+01   6.99947e-01   9.10305e-03  -2.67409e-05\n",
        "   2  Mean        -3.91935e-02   1.68072e-02   3.21865e-04  -8.14269e-03\n",
        "   3  Sigma        1.86855e+00   1.81794e-02   3.62057e-05   2.56169e-01\n",
        " FCN=1651.44 FROM MIGRAD    STATUS=CONVERGED      90 CALLS          91 TOTAL\n",
        "                     EDM=2.78326e-09    STRATEGY= 1      ERROR MATRIX ACCURATE \n",
        "  EXT PARAMETER                                   STEP         FIRST   \n",
        "  NO.   NAME      VALUE            ERROR          SIZE      DERIVATIVE \n",
        "   1  Constant     5.87197e+01   9.27825e-01   1.19079e-02  -8.82179e-05\n",
        "   2  Mean         9.01877e-04   1.33314e-02   2.64047e-04   2.18805e-03\n",
        "   3  Sigma        1.30172e+00   1.56898e-02   3.97537e-05  -3.36498e-02\n",
        " FCN=6143.06 FROM MIGRAD    STATUS=CONVERGED      75 CALLS          76 TOTAL\n",
        "                     EDM=3.31362e-07    STRATEGY= 1      ERROR MATRIX ACCURATE \n",
        "  EXT PARAMETER                                   STEP         FIRST   \n",
        "  NO.   NAME      VALUE            ERROR          SIZE      DERIVATIVE \n",
        "   1  Constant     3.70039e+02   1.96280e+00   4.99135e-02   4.10710e-06\n",
        "   2  Mean         8.77574e-02   6.12634e-03   2.34171e-04  -2.37809e-02\n",
        "   3  Sigma        1.73614e+00   6.88032e-03   2.94564e-05  -6.79465e-01\n",
        "\n"
       ]
      }
     ],
     "prompt_number": 133
    },
    {
     "cell_type": "code",
     "collapsed": false,
     "input": [
      "# deltaD0_0_3.Fit(\"gaus\")\n",
      "cd0 = ROOT.TCanvas(\"c\", \"c\", 800, 1200)\n",
      "cd0.Divide(2,3)\n",
      "cd0.cd(1)\n",
      "t000 = ROOT.TLatex(.58,.8,\"#scale[0.5]{Gaussian fit #sigma = 1.74#pm0.07}\")\n",
      "t000.SetNDC(True)\n",
      "setPlotStyle(deltaD0, \"#Deltad_{0} [cm]\")\n",
      "deltaD0.Draw()\n",
      "t000.Draw(\"same\")\n",
      "cd0.cd(2)\n",
      "t111 = ROOT.TLatex(.58,.8,\"#scale[0.5]{#splitline{Generated d_{0} < 10 cm}{Gaussian fit #sigma = 1.32#pm0.11}}\")\n",
      "t111.SetNDC(True)\n",
      "setPlotStyle(deltaD0_0_10, \"#Deltad_{0} [cm]\")\n",
      "deltaD0_0_10.Draw()\n",
      "t111.Draw(\"same\")\n",
      "cd0.cd(3)\n",
      "t222 = ROOT.TLatex(.58,.8,\"#scale[0.5]{#splitline{Generated d_{0} #in (10,25] cm}{Gaussian fit #sigma = 1.72#pm0.11}}\")\n",
      "t222.SetNDC(True)\n",
      "setPlotStyle(deltaD0_10_25, \"#Deltad_{0} [cm]\")\n",
      "deltaD0_10_25.Draw()\n",
      "t222.Draw(\"same\")\n",
      "cd0.cd(4)\n",
      "t333 = ROOT.TLatex(.58,.8,\"#scale[0.5]{#splitline{Generated d_{0} #in (25,55] cm}{Gaussian fit #sigma = 1.94#pm0.15}}\")\n",
      "t333.SetNDC(True)\n",
      "setPlotStyle(deltaD0_25_55, \"#Deltad_{0} [cm]\")\n",
      "deltaD0_25_55.Draw()\n",
      "t333.Draw(\"same\")\n",
      "cd0.cd(5)\n",
      "t444 = ROOT.TLatex(.58,.8,\"#scale[0.5]{#splitline{Generated d_{0} #in (55,110] cm}{Gaussian fit #sigma = 1.87#pm0.18}}\")\n",
      "t444.SetNDC(True)\n",
      "setPlotStyle(deltaD0_55_110, \"#Deltad_{0} [cm]\")\n",
      "deltaD0_55_110.Draw()\n",
      "t444.Draw(\"same\")\n",
      "cd0.cd(6)\n",
      "t555 = ROOT.TLatex(.58,.8,\"#scale[0.5]{#splitline{Generated d_{0} > 110 cm}{Gaussian fit #sigma = 1.30#pm0.16}}\")\n",
      "t555.SetNDC(True)\n",
      "setPlotStyle(deltaD0_110, \"#Deltad_{0} [cm]\")\n",
      "deltaD0_110.Draw()\n",
      "t555.Draw(\"same\")\n",
      "cd0.SaveAs(\"d0Resolution.C\")\n",
      "cd0.SaveAs(\"d0Resolution.root\")\n",
      "cd0.SaveAs(\"d0Resolution.pdf\")\n",
      "cd0"
     ],
     "language": "python",
     "metadata": {},
     "outputs": [
      {
       "output_type": "stream",
       "stream": "stderr",
       "text": [
        "TCanvas::Constructor:0: RuntimeWarning: Deleting canvas with same name: c\n"
       ]
      },
      {
       "metadata": {},
       "output_type": "pyout",
       "png": "[encoded data removed]",
       "prompt_number": 141,
       "text": [
        "<ROOT.TCanvas object (\"c\") at 0x3a21d60>"
       ]
      }
     ],
     "prompt_number": 141
    },
    {
     "cell_type": "markdown",
     "metadata": {},
     "source": [
      "The resolution on the transverse impact parameter is between 1 cm and 2 cm for d0 of more than one meter."
     ]
    },
    {
     "cell_type": "heading",
     "level": 2,
     "metadata": {},
     "source": [
      "$p_T$ Resolution"
     ]
    },
    {
     "cell_type": "code",
     "collapsed": false,
     "input": [
      "cPtDist = ROOT.TCanvas(\"cPt\", \"cPt\", 400, 400)\n",
      "#cPtDist.Divide(2,2)\n",
      "#cPtDist.cd(1)\n",
      "setPlotStyle(genPt, \"p_{T} [GeV/c]\")\n",
      "genPt.GetYaxis().SetTitleOffset(1.5)\n",
      "#genPt.Draw()\n",
      "#cPtDist.cd(2)\n",
      "setPlotStyle(recoPt, \"p_{T} [GeV/c]\")\n",
      "#recoPt.Draw()\n",
      "#cPtDist.cd(3)\n",
      "recoPt.Draw(\"E\")\n",
      "genPt.Draw(\"sameE\")\n",
      "genPt.SetLineColor(2)\n",
      "genPt.SetMarkerStyle(22)\n",
      "genPt.SetMarkerSize(0.7)\n",
      "genPt.SetMarkerColor(2)\n",
      "genPt.SetLineColor(2)\n",
      "recoPt.SetMarkerStyle(24)\n",
      "recoPt.SetMarkerSize(0.7)\n",
      "legPt = ROOT.TLegend(0.4,0.6,0.8,0.8)\n",
      "legPt.SetBorderSize(0)\n",
      "legPt.SetFillColor(0)\n",
      "legPt.AddEntry(genD0,\"Generated p_{T}\",\"pl\")\n",
      "legPt.AddEntry(recoD0,\"Reconstructed p_{T}\",\"pl\")\n",
      "legPt.Draw(\"same\");\n",
      "cPtDist.SaveAs(\"PtDistributions.C\")\n",
      "cPtDist.SaveAs(\"PtDistributions.root\")\n",
      "cPtDist.SaveAs(\"PtDistributions.pdf\")\n",
      "cPtDist"
     ],
     "language": "python",
     "metadata": {},
     "outputs": [
      {
       "output_type": "stream",
       "stream": "stderr",
       "text": [
        "TCanvas::Constructor:0: RuntimeWarning: Deleting canvas with same name: cPt\n"
       ]
      },
      {
       "metadata": {},
       "output_type": "pyout",
       "png": "[encoded data removed]",
       "prompt_number": 176,
       "text": [
        "<ROOT.TCanvas object (\"cPt\") at 0x43562d0>"
       ]
      }
     ],
     "prompt_number": 176
    },
    {
     "cell_type": "code",
     "collapsed": false,
     "input": [
      "%%rootprint\n",
      "deltaPtOverPt_0_10.Fit(\"gaus\")\n",
      "deltaPtOverPt_10_25.Fit(\"gaus\")\n",
      "deltaPtOverPt_25_55.Fit(\"gaus\")\n",
      "deltaPtOverPt_55_110.Fit(\"gaus\")\n",
      "deltaPtOverPt_110.Fit(\"gaus\")\n",
      "deltaPtOverPt.Fit(\"gaus\")"
     ],
     "language": "python",
     "metadata": {},
     "outputs": [
      {
       "output_type": "stream",
       "stream": "stdout",
       "text": [
        " FCN=3763.86 FROM MIGRAD    STATUS=CONVERGED     128 CALLS         129 TOTAL\n",
        "                     EDM=4.95659e-07    STRATEGY= 1      ERROR MATRIX ACCURATE \n",
        "  EXT PARAMETER                                   STEP         FIRST   \n",
        "  NO.   NAME      VALUE            ERROR          SIZE      DERIVATIVE \n",
        "   1  Constant     1.10429e+02   1.83923e+00   3.29130e-02  -2.15901e-04\n",
        "   2  Mean         2.53013e-02   7.15758e-03   1.39828e-04  -1.51748e-01\n",
        "   3  Sigma        4.45857e-01   6.29723e-03   3.59713e-05   4.89435e-01\n",
        " FCN=6101.44 FROM MIGRAD    STATUS=CONVERGED     142 CALLS         143 TOTAL\n",
        "                     EDM=2.64479e-08    STRATEGY= 1  ERROR MATRIX UNCERTAINTY   2.5 per cent\n",
        "  EXT PARAMETER                                   STEP         FIRST   \n",
        "  NO.   NAME      VALUE            ERROR          SIZE      DERIVATIVE \n",
        "   1  Constant     2.51838e+02   2.67155e+00   8.11292e-03   4.58099e-05\n",
        "   2  Mean        -1.14011e-01   3.79735e-03  -1.36295e-05  -8.98262e-02\n",
        "   3  Sigma        3.55729e-01   2.82717e-03  -3.38449e-06   1.40419e-01\n",
        " FCN=4669.47 FROM MIGRAD    STATUS=CONVERGED     136 CALLS         137 TOTAL\n",
        "                     EDM=3.34814e-08    STRATEGY= 1  ERROR MATRIX UNCERTAINTY   2.4 per cent\n",
        "  EXT PARAMETER                                   STEP         FIRST   \n",
        "  NO.   NAME      VALUE            ERROR          SIZE      DERIVATIVE \n",
        "   1  Constant     2.11838e+02   2.56502e+00   1.85619e-02   2.10926e-04\n",
        "   2  Mean        -1.61912e-01   3.88304e-03   4.75318e-06   2.27454e-02\n",
        "   3  Sigma        3.86967e-01   3.90231e-03  -1.77773e-05   2.29942e-01\n",
        " FCN=2785.12 FROM MIGRAD    STATUS=CONVERGED     146 CALLS         147 TOTAL\n",
        "                     EDM=2.5613e-08    STRATEGY= 1      ERROR MATRIX ACCURATE \n",
        "  EXT PARAMETER                                   STEP         FIRST   \n",
        "  NO.   NAME      VALUE            ERROR          SIZE      DERIVATIVE \n",
        "   1  Constant     1.24585e+02   1.95773e+00   3.07028e-02   4.77927e-05\n",
        "   2  Mean        -1.77054e-01   4.94860e-03   1.19133e-04   4.81062e-02\n",
        "   3  Sigma        4.40343e-01   6.38134e-03   4.06573e-05  -1.32458e-02\n",
        " FCN=2632.23 FROM MIGRAD    STATUS=CONVERGED     121 CALLS         122 TOTAL\n",
        "                     EDM=5.7239e-07    STRATEGY= 1      ERROR MATRIX ACCURATE \n",
        "  EXT PARAMETER                                   STEP         FIRST   \n",
        "  NO.   NAME      VALUE            ERROR          SIZE      DERIVATIVE \n",
        "   1  Constant     1.05850e+02   1.84863e+00   2.89990e-02   3.85865e-04\n",
        "   2  Mean        -1.81707e-01   5.71034e-03   1.13853e-04   1.67925e-01\n",
        "   3  Sigma        3.89685e-01   5.79383e-03   3.61146e-05  -2.64249e-01\n",
        " FCN=23464.7 FROM MIGRAD    STATUS=CONVERGED     145 CALLS         146 TOTAL\n",
        "                     EDM=1.59185e-10    STRATEGY= 1      ERROR MATRIX ACCURATE \n",
        "  EXT PARAMETER                                   STEP         FIRST   \n",
        "  NO.   NAME      VALUE            ERROR          SIZE      DERIVATIVE \n",
        "   1  Constant     8.75810e+02   5.05293e+00   2.64895e-01  -2.53554e-06\n",
        "   2  Mean        -1.21175e-01   2.19430e-03   1.04473e-04   8.18800e-03\n",
        "   3  Sigma        3.36738e-01   1.41984e-03   2.60973e-05  -5.10938e-02\n",
        "\n"
       ]
      }
     ],
     "prompt_number": 153
    },
    {
     "cell_type": "code",
     "collapsed": false,
     "input": [
      "cPt = ROOT.TCanvas(\"cPt\", \"cPt\", 800, 1200)\n",
      "cPt.Divide(2,3)\n",
      "cPt.cd(1)\n",
      "t00 = ROOT.TLatex(.32,.7,\"#scale[0.8]{Gaussian fit #sigma = 0.337#pm0.001}\")\n",
      "t00.SetNDC(True)\n",
      "setPlotStyle(deltaPtOverPt, \"#Deltap_{T}/p_{T}^{gen}\")\n",
      "deltaPtOverPt.Draw()\n",
      "t00.Draw(\"same\")\n",
      "cPt.cd(2)\n",
      "t11 = ROOT.TLatex(.32,.7,\"#scale[0.8]{#splitline{Generated d_{0} < 10 cm}{Gaussian fit #sigma = 0.446#pm0.006}}\")\n",
      "t11.SetNDC(True)\n",
      "setPlotStyle(deltaPtOverPt_0_10, \"#Deltap_{T}/p_{T}^{gen}\")\n",
      "deltaPtOverPt_0_10.Draw()\n",
      "t11.Draw(\"same\")\n",
      "cPt.cd(3)\n",
      "t22 = ROOT.TLatex(.32,.7,\"#scale[0.8]{#splitline{Generated d_{0} #in (10,25] cm}{Gaussian fit #sigma = 0.356#pm0.003}}\")\n",
      "t22.SetNDC(True)\n",
      "setPlotStyle(deltaPtOverPt_10_25, \"#Deltap_{T}/p_{T}^{gen}\")\n",
      "deltaPtOverPt_10_25.Draw()\n",
      "t22.Draw(\"same\")\n",
      "cPt.cd(4)\n",
      "t33 = ROOT.TLatex(.32,.7,\"#scale[0.8]{#splitline{Generated d_{0} #in (25,55] cm}{Gaussian fit #sigma = 0.387#pm0.004}}\")\n",
      "t33.SetNDC(True)\n",
      "setPlotStyle(deltaPtOverPt_25_55, \"#Deltap_{T}/p_{T}^{gen}\")\n",
      "deltaPtOverPt_25_55.Draw()\n",
      "t33.Draw(\"same\")\n",
      "cPt.cd(5)\n",
      "t44 = ROOT.TLatex(.32,.7,\"#scale[0.8]{#splitline{Generated d_{0} #in (55,110] cm}{Gaussian fit #sigma = 0.440#pm0.006}}\")\n",
      "t44.SetNDC(True)\n",
      "setPlotStyle(deltaPtOverPt_55_110, \"#Deltap_{T}/p_{T}^{gen}\")\n",
      "deltaPtOverPt_55_110.Draw()\n",
      "t44.Draw(\"same\")\n",
      "cPt.cd(6)\n",
      "t55 = ROOT.TLatex(.32,.7,\"#scale[0.8]{#splitline{Generated d_{0} > 110 cm}{Gaussian fit #sigma = 0.390#pm0.006}}\")\n",
      "t55.SetNDC(True)\n",
      "setPlotStyle(deltaPtOverPt_110, \"#Deltap_{T}/p_{T}^{gen}\")\n",
      "deltaPtOverPt_110.Draw()\n",
      "t55.Draw(\"same\")\n",
      "cPt.SaveAs(\"PtResolutionVsD0.C\")\n",
      "cPt.SaveAs(\"PtResolutionVsD0.root\")\n",
      "cPt.SaveAs(\"PtResolutionVsD0.pdf\")\n",
      "cPt"
     ],
     "language": "python",
     "metadata": {},
     "outputs": [
      {
       "output_type": "stream",
       "stream": "stderr",
       "text": [
        "TCanvas::Constructor:0: RuntimeWarning: Deleting canvas with same name: cPt\n"
       ]
      },
      {
       "metadata": {},
       "output_type": "pyout",
       "png": "[encoded data removed]",
       "prompt_number": 173,
       "text": [
        "<ROOT.TCanvas object (\"cPt\") at 0x4309ba0>"
       ]
      }
     ],
     "prompt_number": 173
    },
    {
     "cell_type": "code",
     "collapsed": false,
     "input": [
      "cc = ROOT.TCanvas()\n",
      "deltaPtOverPt_110.DrawNormalized()\n",
      "deltaPtOverPt_110.SetLineColor(1)\n",
      "deltaPtOverPt_55_110.DrawNormalized(\"same\")\n",
      "deltaPtOverPt_55_110.SetLineColor(2)\n",
      "deltaPtOverPt_25_55.DrawNormalized(\"same\")\n",
      "deltaPtOverPt_25_55.SetLineColor(3)\n",
      "deltaPtOverPt_10_25.DrawNormalized(\"same\")\n",
      "deltaPtOverPt_10_25.SetLineColor(4)\n",
      "deltaPtOverPt_0_10.DrawNormalized(\"same\")\n",
      "deltaPtOverPt_0_10.SetLineColor(5)\n",
      "cc"
     ],
     "language": "python",
     "metadata": {},
     "outputs": [
      {
       "metadata": {},
       "output_type": "pyout",
       "png": "[encoded data removed]",
       "prompt_number": 22,
       "text": [
        "<ROOT.TCanvas object (\"c1_n7\") at 0x3a22800>"
       ]
      }
     ],
     "prompt_number": 22
    },
    {
     "cell_type": "markdown",
     "metadata": {},
     "source": [
      "For larger d0 value the peak is shifting towards negative values. The selection cuts mitigate the effect of the d0-dependent bias. In particular note that there is a pt cut on the reconstructed muon which prevents the reconstructed pt from being too low."
     ]
    },
    {
     "cell_type": "code",
     "collapsed": false,
     "input": [
      "%%rootprint\n",
      "deltaPtOverPt_pt_0_80.Fit(\"gaus\")\n",
      "deltaPtOverPt_pt_80_130.Fit(\"gaus\")\n",
      "deltaPtOverPt_pt_130_180.Fit(\"gaus\")\n",
      "deltaPtOverPt_pt_180_230.Fit(\"gaus\")\n",
      "deltaPtOverPt_pt_230_300.Fit(\"gaus\")\n",
      "deltaPtOverPt_pt_300.Fit(\"gaus\")"
     ],
     "language": "python",
     "metadata": {},
     "outputs": [
      {
       "output_type": "stream",
       "stream": "stdout",
       "text": [
        " FCN=1801.65 FROM MIGRAD    STATUS=CONVERGED     156 CALLS         157 TOTAL\n",
        "                     EDM=4.70219e-07    STRATEGY= 1      ERROR MATRIX ACCURATE \n",
        "  EXT PARAMETER                                   STEP         FIRST   \n",
        "  NO.   NAME      VALUE            ERROR          SIZE      DERIVATIVE \n",
        "   1  Constant     7.73886e+01   1.75154e+00   2.15980e-02  -8.13888e-04\n",
        "   2  Mean        -1.42753e-04   6.14069e-03   1.05731e-04   7.01808e-02\n",
        "   3  Sigma        3.51977e-01   7.09971e-03   3.66023e-05  -5.07144e-01\n",
        " FCN=3315 FROM MIGRAD    STATUS=CONVERGED     143 CALLS         144 TOTAL\n",
        "                     EDM=1.25209e-09    STRATEGY= 1  ERROR MATRIX UNCERTAINTY   2.4 per cent\n",
        "  EXT PARAMETER                                   STEP         FIRST   \n",
        "  NO.   NAME      VALUE            ERROR          SIZE      DERIVATIVE \n",
        "   1  Constant     1.62629e+02   2.27714e+00   5.59521e-03  -1.40578e-05\n",
        "   2  Mean        -6.56978e-02   4.38807e-03  -1.83263e-05  -5.17962e-03\n",
        "   3  Sigma        3.42806e-01   3.78103e-03   9.02170e-07   2.81314e-02\n",
        " FCN=3054.17 FROM MIGRAD    STATUS=CONVERGED     148 CALLS         149 TOTAL\n",
        "                     EDM=8.05732e-11    STRATEGY= 1  ERROR MATRIX UNCERTAINTY   1.3 per cent\n",
        "  EXT PARAMETER                                   STEP         FIRST   \n",
        "  NO.   NAME      VALUE            ERROR          SIZE      DERIVATIVE \n",
        "   1  Constant     1.35755e+02   2.16815e+00   1.36801e-03   1.01542e-05\n",
        "   2  Mean        -1.17764e-01   4.85686e-03   1.06153e-06  -1.16441e-03\n",
        "   3  Sigma        4.43271e-01   6.81385e-03  -4.00871e-07   1.07110e-02\n",
        " FCN=3121.47 FROM MIGRAD    STATUS=CONVERGED     159 CALLS         160 TOTAL\n",
        "                     EDM=1.13329e-10    STRATEGY= 1      ERROR MATRIX ACCURATE \n",
        "  EXT PARAMETER                                   STEP         FIRST   \n",
        "  NO.   NAME      VALUE            ERROR          SIZE      DERIVATIVE \n",
        "   1  Constant     1.18576e+02   2.10132e+00   3.07848e-02  -9.46010e-06\n",
        "   2  Mean        -1.55693e-01   5.40014e-03   1.38299e-04  -2.25710e-03\n",
        "   3  Sigma        4.75852e-01   8.58733e-03   4.89038e-05  -2.78383e-03\n",
        " FCN=4630.75 FROM MIGRAD    STATUS=CONVERGED     154 CALLS         155 TOTAL\n",
        "                     EDM=7.59366e-08    STRATEGY= 1      ERROR MATRIX ACCURATE \n",
        "  EXT PARAMETER                                   STEP         FIRST   \n",
        "  NO.   NAME      VALUE            ERROR          SIZE      DERIVATIVE \n",
        "   1  Constant     1.54566e+02   2.23414e+00   4.69176e-02   2.02815e-05\n",
        "   2  Mean        -1.67283e-01   5.14179e-03   1.22646e-04  -3.56896e-02\n",
        "   3  Sigma        3.80299e-01   4.56559e-03   3.52536e-05   2.74085e-01\n",
        " FCN=5275.21 FROM MIGRAD    STATUS=CONVERGED     158 CALLS         159 TOTAL\n",
        "                     EDM=2.65329e-08    STRATEGY= 1      ERROR MATRIX ACCURATE \n",
        "  EXT PARAMETER                                   STEP         FIRST   \n",
        "  NO.   NAME      VALUE            ERROR          SIZE      DERIVATIVE \n",
        "   1  Constant     1.45039e+02   2.47768e+00   4.80161e-02   3.06912e-05\n",
        "   2  Mean        -2.08440e-01   6.38539e-03   1.38701e-04   5.85732e-02\n",
        "   3  Sigma        3.90482e-01   6.01262e-03   4.04425e-05  -9.35733e-02\n",
        "\n"
       ]
      }
     ],
     "prompt_number": 159
    },
    {
     "cell_type": "code",
     "collapsed": false,
     "input": [
      "ccc = ROOT.TCanvas(\"ccc\", \"ccc\", 800, 1200)\n",
      "ccc.Divide(2,3)\n",
      "ccc.cd(1)\n",
      "t1 = ROOT.TLatex(.32,.7,\"#scale[0.8]{#splitline{Generated p_{T} < 80 GeV/c}{Gaussian fit #sigma = 0.352#pm0.007}}\")\n",
      "t1.SetNDC(True)\n",
      "setPlotStyle(deltaPtOverPt_pt_0_80, \"#Deltap_{T}/p_{T}^{gen}\")\n",
      "deltaPtOverPt_pt_0_80.Draw()\n",
      "t1.Draw(\"same\")\n",
      "ccc.cd(2)\n",
      "t2 = ROOT.TLatex(.32,.7,\"#scale[0.8]{#splitline{Generated p_{T} #in (80,130] GeV/c}{Gaussian fit #sigma = 0.343#pm0.004}}\")\n",
      "t2.SetNDC(True)\n",
      "setPlotStyle(deltaPtOverPt_pt_80_130, \"#Deltap_{T}/p_{T}^{gen}\")\n",
      "deltaPtOverPt_pt_80_130.Draw()\n",
      "t2.Draw(\"same\")\n",
      "ccc.cd(3)\n",
      "t3 = ROOT.TLatex(.32,.7,\"#scale[0.8]{#splitline{Generated p_{T} #in (130,180] GeV/c}{Gaussian fit #sigma = 0.443#pm0.006}}\")\n",
      "t3.SetNDC(True)\n",
      "setPlotStyle(deltaPtOverPt_pt_130_180, \"#Deltap_{T}/p_{T}^{gen}\")\n",
      "deltaPtOverPt_pt_130_180.Draw()\n",
      "t3.Draw(\"same\")\n",
      "ccc.cd(4)\n",
      "t4 = ROOT.TLatex(.32,.7,\"#scale[0.8]{#splitline{Generated p_{T} #in (180,230] GeV/c}{Gaussian fit #sigma = 0.476#pm0.009}}\")\n",
      "t4.SetNDC(True)\n",
      "setPlotStyle(deltaPtOverPt_pt_180_230, \"#Deltap_{T}/p_{T}^{gen}\")\n",
      "deltaPtOverPt_pt_180_230.Draw()\n",
      "t4.Draw(\"same\")\n",
      "ccc.cd(5)\n",
      "t5 = ROOT.TLatex(.32,.7,\"#scale[0.8]{#splitline{Generated p_{T} #in (230,300] GeV/c}{Gaussian fit #sigma = 0.380#pm0.005}}\")\n",
      "t5.SetNDC(True)\n",
      "setPlotStyle(deltaPtOverPt_pt_230_300, \"#Deltap_{T}/p_{T}^{gen}\")\n",
      "deltaPtOverPt_pt_230_300.Draw()\n",
      "t5.Draw(\"same\")\n",
      "ccc.cd(6)\n",
      "t6 = ROOT.TLatex(.32,.7,\"#scale[0.8]{#splitline{Generated p_{T} > 300 GeV/c}{Gaussian fit #sigma = 0.390#pm0.006}}\")\n",
      "t6.SetNDC(True)\n",
      "setPlotStyle(deltaPtOverPt_pt_300, \"#Deltap_{T}/p_{T}^{gen}\")\n",
      "deltaPtOverPt_pt_300.Draw()\n",
      "t6.Draw(\"same\")\n",
      "ccc.SaveAs(\"PtResolutionVsPt.C\")\n",
      "ccc.SaveAs(\"PtResolutionVsPt.root\")\n",
      "ccc.SaveAs(\"PtResolutionVsPt.pdf\")\n",
      "ccc"
     ],
     "language": "python",
     "metadata": {},
     "outputs": [
      {
       "output_type": "stream",
       "stream": "stderr",
       "text": [
        "TCanvas::Constructor:0: RuntimeWarning: Deleting canvas with same name: ccc\n"
       ]
      },
      {
       "metadata": {},
       "output_type": "pyout",
       "png": "[encoded data removed]",
       "prompt_number": 174,
       "text": [
        "<ROOT.TCanvas object (\"ccc\") at 0x4357160>"
       ]
      }
     ],
     "prompt_number": 174
    },
    {
     "cell_type": "code",
     "collapsed": false,
     "input": [],
     "language": "python",
     "metadata": {},
     "outputs": [],
     "prompt_number": 21
    }
   ],
   "metadata": {}
  }
 ]
}