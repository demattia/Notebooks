{
 "metadata": {
  "name": ""
 },
 "nbformat": 3,
 "nbformat_minor": 0,
 "worksheets": [
  {
   "cells": [
    {
     "cell_type": "markdown",
     "metadata": {},
     "source": [
      "# Exploratory Computing with Python\n",
      "## Notebook 1: Basics and Plotting\n",
      "### First Python steps\n",
      "Portable, powerful, and a breeze to use, Python is a popular, open-source programming language used for both scripting applications and standalone programs. Python can be used to do pretty much anything. For example, you can use Python as a calculator. Position your cursor in the code cell below and hit [shift][enter]. The output should be 12 (-:"
     ]
    },
    {
     "cell_type": "code",
     "collapsed": false,
     "input": [
      "6 * 2"
     ],
     "language": "python",
     "metadata": {},
     "outputs": [],
     "prompt_number": 1
    },
    {
     "cell_type": "markdown",
     "metadata": {},
     "source": [
      "Note that the extra space is added to make the code more readable. \n",
      "`2 * 3` works just as well as `2*3`.  \n",
      "When you are programming, you want to store your values in variables"
     ]
    },
    {
     "cell_type": "code",
     "collapsed": false,
     "input": [
      "a = 6\n",
      "b = 2\n",
      "a * b "
     ],
     "language": "python",
     "metadata": {},
     "outputs": [],
     "prompt_number": 2
    },
    {
     "cell_type": "markdown",
     "metadata": {},
     "source": [
      "Both `a` and `b` are now variables. Each variable has a type. In this case, they are both integers (whole numbers). To write the value of a variable to the screen, use the `print` statement (the last statement of a code cell is automatically printed to the screen if it is not stored in a variable, as was shown above)"
     ]
    },
    {
     "cell_type": "code",
     "collapsed": false,
     "input": [
      "print a\n",
      "print b\n",
      "print a*b\n",
      "print a/b"
     ],
     "language": "python",
     "metadata": {},
     "outputs": [],
     "prompt_number": 3
    },
    {
     "cell_type": "markdown",
     "metadata": {},
     "source": [
      "You can add some text to the `print` statement by putting the text between quotes (either single or double quotes as long as you use the same at the beginning and end), and separate the text string and the variable by a comma"
     ]
    },
    {
     "cell_type": "code",
     "collapsed": false,
     "input": [
      "print 'the value of a is',a"
     ],
     "language": "python",
     "metadata": {},
     "outputs": [],
     "prompt_number": 4
    },
    {
     "cell_type": "markdown",
     "metadata": {},
     "source": [
      "A variable can be raised to a power by using `**` \n",
      "(a hat `^`, as used in some other languages, doesn't work)."
     ]
    },
    {
     "cell_type": "code",
     "collapsed": false,
     "input": [
      "a**b"
     ],
     "language": "python",
     "metadata": {},
     "outputs": [],
     "prompt_number": 5
    },
    {
     "cell_type": "markdown",
     "metadata": {},
     "source": [
      "***\n",
      "### <a name=\"ex1\"></a> Exercise 1, First Python code\n",
      "Compute the value of the polynomial $y=ax^2+bx+c$ at $x=-2$, $x=0$, and $x=2$ using $a=1$, $b=1$, $c=-6$ (if the equation shown here looks really small (which may happen on Windows), right click on the equation, select Math Settings, and then Scale All Math, and scale the equations by 200%; this will change the size of the equatios in this entire Notebook).\n"
     ]
    },
    {
     "cell_type": "code",
     "collapsed": false,
     "input": [],
     "language": "python",
     "metadata": {},
     "outputs": [],
     "prompt_number": 5
    },
    {
     "cell_type": "markdown",
     "metadata": {},
     "source": [
      "<a href=\"#ex1answer\">Answer for Exercise 1</a>"
     ]
    },
    {
     "cell_type": "markdown",
     "metadata": {},
     "source": [
      "When dividing two variables, you have to be careful as division of two integers results in an integer. So `1/3` gives `0`. If one of the variables is a floating point variable (simply called a float), which has a decimal point, then the result is also a float and gives the result you want (`1/3` gives `0.33333`). This rule for integer division is annoying, and you will likely make a mistake with it sometime. Luckily, it is changed in Python 3, so a solution is in sight."
     ]
    },
    {
     "cell_type": "code",
     "collapsed": false,
     "input": [
      "print '1/3 gives', 1 / 3\n",
      "print '1.0 / 3 gives', 1.0 / 3\n",
      "print '1 / 3.0 gives', 1 / 3.0\n",
      "print '1.0 / 3.0 gives', 1.0 / 3.0"
     ],
     "language": "python",
     "metadata": {},
     "outputs": [],
     "prompt_number": 6
    },
    {
     "cell_type": "markdown",
     "metadata": {},
     "source": [
      "Once you have created a variable in a session, it will remain in memory, so you can use it in other cells as well. For example, the variable `a`, which was defined earlier in this Notebook, still exist. If you defined `a=1` in the Exercise 1 above, it will be `1`, otherwise it will be `6` as we defined in the second code block. The user decides the order in which code blocks are executed. For example, `In [6]` means that it is the sixth execution of a code block. If you change the same code block and run it again, it will get number 7. If you define the variable `a` in code block 7, it will overwrite the value of `a` defined in a previous code block. Variable names may be as long as you like (you gotta do the typing though). Selecting descriptive names aids in understanding the code. Variable names cannot have spaces, nor can they start with a number. Variable names are case sensitive. So the variable `a` is not the same as variable `A`. The name of a variable may be anything you want, except for reserved words in the Python language. It is not possible to create a variable `print = 7`. You will learn many of the reserved words when we continue; they are colored green when you type them in the Notebook. "
     ]
    },
    {
     "cell_type": "markdown",
     "metadata": {},
     "source": [
      "### Basic plotting\n",
      "Plotting is not part of standard Python. Luckily, a package exist to create beautiful graphics. A package is like a library of functionality. We will learn a lot about packages in upcoming notebooks. For now, we are going to start the `pylab` package, which we can do in a Notebook by running the following code"
     ]
    },
    {
     "cell_type": "code",
     "collapsed": false,
     "input": [
      "%pylab inline"
     ],
     "language": "python",
     "metadata": {},
     "outputs": [],
     "prompt_number": 7
    },
    {
     "cell_type": "markdown",
     "metadata": {},
     "source": [
      "Let's try to plot $y$ vs $x$ for $x$ going from $-4$ to $4$ for the polynomial in the exercise above. To do that, we need to evaluate $y$ at a bunch of points. To create an array `x` consisting of, for example, 5 equally spaced points between `x1` and `x2` use the `linspace` command"
     ]
    },
    {
     "cell_type": "code",
     "collapsed": false,
     "input": [
      "x = linspace(-4,4,5)\n",
      "print x"
     ],
     "language": "python",
     "metadata": {},
     "outputs": [],
     "prompt_number": 8
    },
    {
     "cell_type": "markdown",
     "metadata": {},
     "source": [
      "In the above cell, `x` is an array, which is a sequence of values of  the same type. Note that the 5 numbers are floats: the decimal points are given for each number.\n",
      "`linspace` is a function and is part of the `pylab` package. If you type `linspace` and then an opening parenthesis like:\n",
      "\n",
      "`linspace(` \n",
      "\n",
      "a little help box pops up to explain the input arguments of the function. When you click on the + sign, you can scroll through all the documentation of the `linspace` function. Click on the x sign to remove the help box. Let's plot $y$ using 100 $x$ values from \n",
      "$-4$ to $4$."
     ]
    },
    {
     "cell_type": "code",
     "collapsed": false,
     "input": [
      "a = 1\n",
      "b = 1\n",
      "c = -6\n",
      "x = linspace(-4,4,100)\n",
      "y = a*x**2 + b*x + c  # Compute y for all x values\n",
      "plot(x,y)"
     ],
     "language": "python",
     "metadata": {},
     "outputs": [],
     "prompt_number": 9
    },
    {
     "cell_type": "markdown",
     "metadata": {},
     "source": [
      "Note that  *one hundred* `y` values are computed in the simple line `y = a*x**2 + b*x + c`. The text after the `#` is a comment in the code. Any text on the line after the `#` is ignored by Python. Python treats arrays in the same fashion as it treats regular variables when you perform mathematical operations. The math is simply applied to every value in the array (and it runs much faster than when you would do every calculation separately). You may wonder what the statement `[<matplotlib.lines.Line2D at 0x30990b0>]` is (the numbers on your machine may look slightly different). This is actually a handle to the line that is created with the last command in the code block (in this case `plot(x,y)`). You can tell the Notebook not to print this to the screen by putting a semicolon after the last command in the code block (so type `plot(x,y);`). We will learn later on that it may also be useful to store this handle in a variable."
     ]
    },
    {
     "cell_type": "markdown",
     "metadata": {},
     "source": [
      "`plot` is also a function (and is part of the pylab package). The `plot` function can take many input arguments. Looking at the help box of the `plot` function (by typing `plot(` ) will not give you much useful help. Typing `help(plot)` gives you all the help. When you do that, a new scrollable subwindow opens up in the notebook showing the documentation on `plot`. \n",
      "In short, `plot` can be used with one argument as `plot(y)`, whichs plots the `y` values along the vertical axis and enumerates the horizontal axis starting at 0. `plot(x,y)` plots `y` vs `x`, and `plot(x,y,formatstring)` plots `y` vs `x` using colors and markers defined in `formatstring`, which can be a lot of things. It can be used to define the color, for example, `'b'` for blue, `'r'` for red, and `'g'` for green. Or it can be used to define the linetype `'-'` for line, `'--'` for dashed, `':'` for dots. Or you can define markers, for example `'o'` for circles and `'s'` for squares. You can even combine them: `'r--'` gives a red dashed line, while `'go'` gives green circular markers.                                                                                                      "
     ]
    },
    {
     "cell_type": "markdown",
     "metadata": {},
     "source": [
      "If that isn't enough, `plot` takes a large number of keyword arguments. A keyword argument is an optional argument that may be added to a function. The syntax is `function(keyword1=value1, keyword2=value2)`, etc. For example, to plot a line with width 6 (the default is 1) (note that I added the semi-colon)"
     ]
    },
    {
     "cell_type": "code",
     "collapsed": false,
     "input": [
      "plot([1,2,3],[2,4,3],linewidth=6);"
     ],
     "language": "python",
     "metadata": {},
     "outputs": [],
     "prompt_number": 10
    },
    {
     "cell_type": "markdown",
     "metadata": {},
     "source": [
      "Keyword arguments should come after regular arguments. `plot(linewidth=6,[1,2,3],[2,4,3])` gives an error. In the code below, remove the comment marker `#` and run the code. You will get an error. Fix the error and run it again"
     ]
    },
    {
     "cell_type": "code",
     "collapsed": false,
     "input": [
      "#plot(color='Orange',lw=3,[1,2,3],[2,4,3])"
     ],
     "language": "python",
     "metadata": {},
     "outputs": [],
     "prompt_number": 11
    },
    {
     "cell_type": "markdown",
     "metadata": {},
     "source": [
      "Names may be added along the axes with the `xlabel` and `ylabel` functions, e.g., `xlabel('this is the x-axis')`. Note that both functions take a string as argument. A title can be added to the figure with the `title` command. Multiple curves can be added to the same figure by giving multiple plotting commands. They are automatically added to the same figure."
     ]
    },
    {
     "cell_type": "markdown",
     "metadata": {},
     "source": [
      "***\n",
      "### <a name=\"ex2\"></a> Exercise 2, First graph\n",
      "Plot $y=(x+2)(x-1)(x-2)$ for $x$ going from $-3$ to $3$ using a dashed red line. On the same figure, plot a blue circle for every point where $y$ equals zero. Set the size of the markers to 10 (you may need to read `help(plot)` to find out how to do that). Label the axes as 'x-axis' and 'y-axis'. Add the title 'First nice Python figure of Your Name', where you enter your own name."
     ]
    },
    {
     "cell_type": "code",
     "collapsed": false,
     "input": [],
     "language": "python",
     "metadata": {},
     "outputs": [],
     "prompt_number": 11
    },
    {
     "cell_type": "markdown",
     "metadata": {},
     "source": [
      "<a href=\"#ex2answer\">Answer for Exercise 2</a>"
     ]
    },
    {
     "cell_type": "markdown",
     "metadata": {},
     "source": [
      "***\n",
      "***\n",
      "###<a name=\"ex3\"></a> Exercise 3, Loading data and adding a legend\n",
      "Numerical data can be loaded from a data file using the `loadtxt` function. You need to make sure the file is in the same directory as your notebook, or provide the full path. The filename (or path plus filename) needs to be between quotes. You are provided with the data files containing the mean montly temperature of Holland, New York City, and Beijing. The Dutch data is stored in `holland_temperature.dat`, and the other filenames are similar. Plot the temperature for each location against the number of the month (starting with 1 for January) all in a single graph. Add a legend by using the function `legend(['line1','line2'])`, etc., but then with more descriptive names. Find out about the `legend` command using `help(legend)`. Place the legend in an appropriate spot (the upper left hand corner may be nice, or let Python figure out the best place). "
     ]
    },
    {
     "cell_type": "code",
     "collapsed": false,
     "input": [],
     "language": "python",
     "metadata": {},
     "outputs": []
    },
    {
     "cell_type": "markdown",
     "metadata": {},
     "source": [
      "<a href=\"#ex3answer\">Answer for Exercise 3</a>"
     ]
    },
    {
     "cell_type": "markdown",
     "metadata": {},
     "source": [
      "***\n",
      "***\n",
      "### <a name=\"ex4\"></a> Exercise 4, Subplots and fancy tick markers\n",
      "Load the average monthly air temperature and seawater temperature for Holland. Create one plot with two graphs above each other using the subplot command (use `help(subplot)`). On the top graph, plot the air and sea temperature. Label the ticks on the horizontal axis as 'jan', 'feb', 'mar', etc., rather than 0,1,2,etc. Use `help(xticks)` to find out how. In the bottom graph, plot the difference between the air and seawater temperature. Add legends, axes labels, the whole shebang."
     ]
    },
    {
     "cell_type": "code",
     "collapsed": false,
     "input": [],
     "language": "python",
     "metadata": {},
     "outputs": []
    },
    {
     "cell_type": "markdown",
     "metadata": {},
     "source": [
      "<a href=\"#ex4answer\">Answer for Exercise 4</a>"
     ]
    },
    {
     "cell_type": "markdown",
     "metadata": {},
     "source": [
      "***\n",
      "###Gallery of graphs\n",
      "The plotting package included in the pylab package is called matplotlib. Matplotlib allows you to make very fancy graphs. Check out the <A href=\"http://matplotlib.org/gallery.html\"  target=_blank>matplotlib gallery</A> to get an overview of many of the options. The following exercises use several of the matplotlib options.\n",
      "\n",
      "***\n",
      "###<a name=\"ex5\"></a> Exercise 5, Pie Chart\n",
      "At the 2012 London Olympics, the top ten countries (plus the rest) receiving gold medals were `['USA', 'CHN', 'GBR', 'RUS', 'KOR', 'GER', 'FRA', 'ITA', 'HUN', 'AUS', 'OTHER']`. They received  `[46, 38, 29, 24, 13, 11, 11, 8, 8, 7, 107]` gold medals, respectively. Make a pie chart (type `help(pie)` or go to the pie charts in the matplotlib gallery) of the top 10 gold medal winners plus the others at the London Olympics. Try some of the keyword arguments to make the plot look nice. You may want to give the command `axis('equal')` to make the scales along the horizontal and vertical axes equal so that the pie actually looks like a circle rather than an ellipse. There are four different ways to specify colors in matplotlib plotting; you may read about it <A href=\"http://matplotlib.org/examples/pylab_examples/color_demo.html\"  target=_blank>here</A>. The coolest way is to use the html color names. Use the `colors` keyword in your pie chart to specify a sequence of colors. The sequence must be between square brackets, each color must be between quotes preserving upper and lower cases, and they must be separated by comma's like `['MediumBlue','SpringGreen','BlueViolet']`; the sequence is repeated if it is not long enough. The html names for the colors may be found, for example, \n",
      "<A href=\"http://en.wikipedia.org/wiki/Web_colors\"  target=_blank>here</A>"
     ]
    },
    {
     "cell_type": "code",
     "collapsed": false,
     "input": [],
     "language": "python",
     "metadata": {},
     "outputs": []
    },
    {
     "cell_type": "markdown",
     "metadata": {},
     "source": [
      "<a href=\"#ex5answer\">Answer for Exercise 5</a>"
     ]
    },
    {
     "cell_type": "markdown",
     "metadata": {},
     "source": [
      "***\n",
      "### <a name=\"ex6\"></a> Exercise 6, Fill between\n",
      "Load the air and sea temperature, as used in Exercise 4, but this time make one plot of temperature vs the number of the month and use the `fill_between` command to fill the space between the curve and the $x$-axis. Specify the `alpha` keyword, which defines the transparancy. Some experimentation will give you a good value for alpha (stay between 0 and 1). Note that you need to specify the color using the `color` keyword argument."
     ]
    },
    {
     "cell_type": "code",
     "collapsed": false,
     "input": [],
     "language": "python",
     "metadata": {},
     "outputs": []
    },
    {
     "cell_type": "markdown",
     "metadata": {},
     "source": [
      "<a href=\"#ex6answer\">Answer for Exercise 6</a>"
     ]
    },
    {
     "cell_type": "markdown",
     "metadata": {},
     "source": [
      "### Answers for the exercises"
     ]
    },
    {
     "cell_type": "markdown",
     "metadata": {},
     "source": [
      "<a name=\"ex1answer\">Answer for Exercise 1</a>"
     ]
    },
    {
     "cell_type": "code",
     "collapsed": false,
     "input": [
      "a = 1\n",
      "b = 1\n",
      "c = -6\n",
      "x = -2\n",
      "y = a*x**2 + b*x + c\n",
      "print 'y evaluated at x=-2 is',y\n",
      "x = 0 \n",
      "y = a*x**2 + b*x + c\n",
      "print 'y evaluated at x=0 is',y\n",
      "x = 2\n",
      "y = a*x**2 + b*x + c\n",
      "print 'y evaluated at x=2 is',y"
     ],
     "language": "python",
     "metadata": {},
     "outputs": [],
     "prompt_number": 12
    },
    {
     "cell_type": "markdown",
     "metadata": {},
     "source": [
      "<a href=\"#ex1\">Back to Exercise 1</a>\n",
      "\n",
      "<a name=\"ex2answer\">Answer for Exercise 2</a>"
     ]
    },
    {
     "cell_type": "code",
     "collapsed": false,
     "input": [
      "x = linspace(-3,3,100)\n",
      "y = (x+2)*(x-1)*(x-2)\n",
      "plot(x,y,'r--')\n",
      "plot([-2,1,2],[0,0,0],'bo',markersize=10)\n",
      "xlabel('x-axis')\n",
      "ylabel('y-axis')\n",
      "title('First Python Figure of Mark Bakker')"
     ],
     "language": "python",
     "metadata": {},
     "outputs": [],
     "prompt_number": 13
    },
    {
     "cell_type": "markdown",
     "metadata": {},
     "source": [
      "<a href=\"#ex2\">Back to Exercise 2</a>\n",
      "\n",
      "<a name=\"ex3answer\">Answer for Exercise 3</a>"
     ]
    },
    {
     "cell_type": "code",
     "collapsed": false,
     "input": [
      "holland = loadtxt('holland_temperature.dat')\n",
      "newyork= loadtxt('newyork_temperature.dat')\n",
      "beijing = loadtxt('beijing_temperature.dat')\n",
      "plot( linspace(1,12,12), holland )\n",
      "plot( linspace(1,12,12), newyork )\n",
      "plot( linspace(1,12,12), beijing )\n",
      "xlabel('Number of the month')\n",
      "ylabel('Mean monthly temperature (Celcius)')\n",
      "xlim(1,12)\n",
      "legend(['Holland','New York','Beijing'],loc='best');"
     ],
     "language": "python",
     "metadata": {},
     "outputs": [],
     "prompt_number": 14
    },
    {
     "cell_type": "markdown",
     "metadata": {},
     "source": [
      "<a href=\"#ex3\">Back to Exercise 3</a>\n",
      "\n",
      "<a name=\"ex4answer\">Answer for Exercise 4</a>"
     ]
    },
    {
     "cell_type": "code",
     "collapsed": false,
     "input": [
      "air = loadtxt('holland_temperature.dat') \n",
      "sea = loadtxt('holland_seawater.dat')\n",
      "subplot(211)\n",
      "plot(air,'b',label='air temp')\n",
      "plot(sea,'r',label='sea temp')\n",
      "legend(loc='best')\n",
      "ylabel('temp (Celcius)')\n",
      "xlim(0,11)\n",
      "xticks([])\n",
      "subplot(212)\n",
      "plot(air-sea,'ko')\n",
      "xticks(arange(12),['jan','feb','mar','apr','may','jun','jul','aug','sep','oct','nov','dec'])\n",
      "xlim(0,11)\n",
      "ylabel('air - sea temp (Celcius)');"
     ],
     "language": "python",
     "metadata": {},
     "outputs": [],
     "prompt_number": 15
    },
    {
     "cell_type": "markdown",
     "metadata": {},
     "source": [
      "<a href=\"#ex4\">Back to Exercise 4</a>\n",
      "\n",
      "<a name=\"ex5answer\">Answer for Exercise 5</a>"
     ]
    },
    {
     "cell_type": "code",
     "collapsed": false,
     "input": [
      "gold = [46, 38, 29, 24, 13, 11, 11, 8, 8, 7, 107]\n",
      "countries = ['USA', 'CHN', 'GBR', 'RUS', 'KOR', 'GER', 'FRA', 'ITA', 'HUN', 'AUS', 'OTHER']\n",
      "pie(gold,labels=countries,colors=['Gold','MediumBlue','SpringGreen','BlueViolet'])\n",
      "axis('equal');"
     ],
     "language": "python",
     "metadata": {},
     "outputs": [],
     "prompt_number": 16
    },
    {
     "cell_type": "markdown",
     "metadata": {},
     "source": [
      "<a href=\"#ex5\">Back to Exercise 5</a>\n",
      "\n",
      "<a name=\"ex6answer\">Answer for Exercise 6</a>"
     ]
    },
    {
     "cell_type": "code",
     "collapsed": false,
     "input": [
      "air = loadtxt('holland_temperature.dat') \n",
      "sea = loadtxt('holland_seawater.dat')\n",
      "fill_between(range(1,13),air,color='b',alpha=0.3)\n",
      "fill_between(range(1,13),sea,color='r',alpha=0.3)\n",
      "xticks(arange(1,13),['jan','feb','mar','apr','may','jun','jul','aug','sep','oct','nov','dec'])\n",
      "xlim(1,12)\n",
      "ylim(0,20)\n",
      "xlabel('Month')\n",
      "ylabel('Temperature (Celcius)');"
     ],
     "language": "python",
     "metadata": {},
     "outputs": [],
     "prompt_number": 17
    },
    {
     "cell_type": "markdown",
     "metadata": {},
     "source": [
      "<a href=\"#ex6\">Back to Exercise 6</a>"
     ]
    }
   ],
   "metadata": {}
  }
 ]
}