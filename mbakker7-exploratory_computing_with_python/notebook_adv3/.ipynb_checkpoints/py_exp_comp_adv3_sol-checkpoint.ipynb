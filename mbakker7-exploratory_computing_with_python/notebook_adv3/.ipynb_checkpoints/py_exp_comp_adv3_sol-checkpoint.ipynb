{
 "metadata": {
  "name": ""
 },
 "nbformat": 3,
 "nbformat_minor": 0,
 "worksheets": [
  {
   "cells": [
    {
     "cell_type": "markdown",
     "metadata": {},
     "source": [
      "<figure>\n",
      "  <IMG SRC=\"https://raw.githubusercontent.com/mbakker7/exploratory_computing_with_python/master/tudelft_logo.png\" WIDTH=250 ALIGN=\"right\">\n",
      "</figure>\n",
      "\n",
      "# Exploratory Computing with Python\n",
      "*Developed by Mark Bakker*\n",
      "## Advanced Topic Notebook 3: Object oriented programming"
     ]
    },
    {
     "cell_type": "markdown",
     "metadata": {},
     "source": [
      "In this Notebook, we learn what Object Oriented Programming (OOP) is, what Classes are and how to write our own, and we learn how to use make graphs using OOP and and the `matplotlib` package."
     ]
    },
    {
     "cell_type": "code",
     "collapsed": false,
     "input": [
      "%pylab inline"
     ],
     "language": "python",
     "metadata": {},
     "outputs": [
      {
       "output_type": "stream",
       "stream": "stdout",
       "text": [
        "Populating the interactive namespace from numpy and matplotlib\n"
       ]
      }
     ],
     "prompt_number": 1
    },
    {
     "cell_type": "markdown",
     "metadata": {},
     "source": [
      "###A Triangle Class\n",
      "So far, we have learned what is called *functional* programming. In functional programming you write or use functions that manipulate data. For example, consider the case where we have to deal with a number of triangles. For each triangle we want to be able to compute its area, and we want to be able to plot it an fill the inside with a color. Say we have an arbitrary number of $N$ triangles. For each triangle we need to store the $(x,y)$ values of its three corner points. So we create arrays for the $x$ values of each corner point, we create arrays for the $y$ values of each corner point. Then we write a function that computes the area of a triangle given its three corners, and we write a function that plots the triangle given the three corner points and color to fill the triangle, and we need to loop through all the corner points. This all sounds like a bit of work, but it is tracktable. It already gets more complicated when we want to change the corner point of one triangle. We have to know its place in the array, and change the correct corner point.\n",
      "\n",
      "It gets even more complicated when we have to deal with both triangles and rectangles. Triangles have three corner points, while rectangles have four corner points. The function to compute the area of a rectangle is very different, hence we have to make sure we call the area function for a triangle when we have a triangle, and the area function for a rectangle when we have a rectangle. The plotting is not much different, but we have to supply it four corner points rather than three. This gets a bit messier already. Wouldn't it be nice if it was possible to organize the data and functions in such a way that the data itself knows how to compute its area or how to plot itself? That may sound magical, but that is exactly what Object Oriented Programming does. \n",
      "\n",
      "Object oriented programming is, in essence, just another way of organizing your data and functions. Rather than defining and storing them separately, the data and functions are stored and bound together in what is called a *Class*. The data that are stored are called *attributes*, and the functions are called *methods*. \n",
      "This is probably easiest understood by writing a class and using it. Consider, for example, the class `Triangle` that stores the coordinates of the three corner points. Don't worry about the syntax yet, we will get back to that in a minute. Run the code below so we can start using the class. "
     ]
    },
    {
     "cell_type": "code",
     "collapsed": false,
     "input": [
      "class Triangle:\n",
      "    def __init__(self, x0y0, x1y1, x2y2):\n",
      "        self.x0y0 = x0y0\n",
      "        self.x1y1 = x1y1\n",
      "        self.x2y2 = x2y2"
     ],
     "language": "python",
     "metadata": {},
     "outputs": [],
     "prompt_number": 2
    },
    {
     "cell_type": "markdown",
     "metadata": {},
     "source": [
      "Now that the `Triangle` class is defined, we can start creating triangles. We can call the `Triangle` class just like a function and we need to provide it tuples of the three corner points. The `Triangle` class returns what is called an object. An object is an instance of a class. Note also, that when you type \n",
      "\n",
      "`Triangle(` \n",
      "\n",
      "and wait a second, a small box pops up showing what input arguments are expected (you don't need to provide the `self` argument; more on that later). Let's create a triangle with corners (0,1), (3,0) and (2,3)."
     ]
    },
    {
     "cell_type": "code",
     "collapsed": false,
     "input": [
      "t1 = Triangle( (0,1), (3,0), (2,3) )"
     ],
     "language": "python",
     "metadata": {},
     "outputs": [],
     "prompt_number": 3
    },
    {
     "cell_type": "markdown",
     "metadata": {},
     "source": [
      "`t1` is now an instance of the class `Triangle`. We simply say that `t1` is a triangle. We have stored the three corner points of the triangle. Hence, each `Triangle` object has three attributes. You can find out what attributes an object has by typing \n",
      "\n",
      "`t1.` \n",
      "\n",
      "(don't forget the dot) and then hit the [TAB] key. The attributes can be accessed with the *dot syntax*."
     ]
    },
    {
     "cell_type": "code",
     "collapsed": false,
     "input": [
      "print t1  # Not very useful\n",
      "print t1.x0y0  # First corner point\n",
      "print t1.x1y1  # Second corner point\n",
      "print t1.x2y2  # Third corner point"
     ],
     "language": "python",
     "metadata": {},
     "outputs": [
      {
       "output_type": "stream",
       "stream": "stdout",
       "text": [
        "<__main__.Triangle instance at 0x310ff30>\n",
        "(0, 1)\n",
        "(3, 0)\n",
        "(2, 3)\n"
       ]
      }
     ],
     "prompt_number": 4
    },
    {
     "cell_type": "markdown",
     "metadata": {},
     "source": [
      "Let's get back to the `Triangle` class. When we call the `Triangle` class (official lingo: we create a `Triangle` object, or more officially yet: we create an instance of the `Triangle` class), Python calls the `__init__` function. This function is called the *constructor*. It constructs an object. In the constructor you define what arguments need to be provided to create a triangle. The name `__init__` (that is *two* underscores before and after the word `init`) is required (it is one of the few unfortunate name choices of the Python language). The first argument is `self` and tells Python what the object itself is called inside the class. \n",
      "\n",
      "We saw above that typing `print t1` returns a meaningless message. This can be resolved by including a representation function, which needs to be called `__repr__`. This function is called when the object is printed (or converted to a string)."
     ]
    },
    {
     "cell_type": "code",
     "collapsed": false,
     "input": [
      "class Triangle:\n",
      "    def __init__(self, x0y0, x1y1, x2y2):\n",
      "        self.x0y0 = x0y0\n",
      "        self.x1y1 = x1y1\n",
      "        self.x2y2 = x2y2\n",
      "    def __repr__(self):\n",
      "        return 'Triangle with corners:'+str(self.x0y0)+str(self.x1y1)+str(self.x2y2)\n",
      "t1 = Triangle( (0,1), (3,0), (2,3) )\n",
      "print t1"
     ],
     "language": "python",
     "metadata": {},
     "outputs": [
      {
       "output_type": "stream",
       "stream": "stdout",
       "text": [
        "Triangle with corners:(0, 1)(3, 0)(2, 3)\n"
       ]
      }
     ],
     "prompt_number": 5
    },
    {
     "cell_type": "markdown",
     "metadata": {},
     "source": [
      "In the Triangle class, the three corner points are stored as three tuples. Hence, the $x$ value of the first corner point is `self.x0y0[0]` and the $y$ value is `self.x0y0[1]`. It may be useful to store one array of the three $x$ values of the three corner points and one array of the three $y$ values of the corner points. If those are stored, it is fairly easy to compute the area $A$ of a triangle using the following formula\n",
      "\n",
      "$A = \\frac{1}{2}|(x_0-x_2)(y_1-y_0) - (x_0-x_1)(y_2-y_0)|$\n",
      "\n",
      "Let's modify the `Triangle` class to include these two additional attributes and an `area` function"
     ]
    },
    {
     "cell_type": "code",
     "collapsed": false,
     "input": [
      "class Triangle:\n",
      "    def __init__(self, x0y0, x1y1, x2y2):\n",
      "        self.x0y0 = x0y0\n",
      "        self.x1y1 = x1y1\n",
      "        self.x2y2 = x2y2\n",
      "        self.x = array([ self.x0y0[0], self.x1y1[0], self.x2y2[0] ])\n",
      "        self.y = array([ self.x0y0[1], self.x1y1[1], self.x2y2[1] ])\n",
      "    def __repr__(self):\n",
      "        return 'Triangle with corners:'+str(self.x0y0)+str(self.x1y1)+str(self.x2y2)\n",
      "    def area(self):\n",
      "        A = 0.5 * abs( (self.x[0]-self.x[2])*(self.y[1]-self.y[0]) - \n",
      "                       (self.x[0]-self.x[1])*(self.y[2]-self.y[0]) )\n",
      "        return A"
     ],
     "language": "python",
     "metadata": {},
     "outputs": [],
     "prompt_number": 6
    },
    {
     "cell_type": "markdown",
     "metadata": {},
     "source": [
      "Note that the `area` function gets passed the object `self`; once it knows what `self` is, it has access to all its attributes and functions. We can now create a `Triangle` object and compute its area as follows (don't forget to run the new `Triangle` class above first)"
     ]
    },
    {
     "cell_type": "code",
     "collapsed": false,
     "input": [
      "t1 = Triangle( (0,1), (3,0), (2,3) )\n",
      "print t1.area()"
     ],
     "language": "python",
     "metadata": {},
     "outputs": [
      {
       "output_type": "stream",
       "stream": "stdout",
       "text": [
        "4.0\n"
       ]
      }
     ],
     "prompt_number": 7
    },
    {
     "cell_type": "markdown",
     "metadata": {},
     "source": [
      "In the code above, the `area` function is called using the *dot* syntax. The *dot* syntax is short for the much longer"
     ]
    },
    {
     "cell_type": "code",
     "collapsed": false,
     "input": [
      "print Triangle.area(t1)"
     ],
     "language": "python",
     "metadata": {},
     "outputs": [
      {
       "output_type": "stream",
       "stream": "stdout",
       "text": [
        "4.0\n"
       ]
      }
     ],
     "prompt_number": 8
    },
    {
     "cell_type": "markdown",
     "metadata": {},
     "source": [
      "Note that classes are very convenient, as the triangle object knows what its own corner points are. When typing `t1.`[TAB], not only all attributes but also all functions of an object are shown. Another way is to use the `dir` function. "
     ]
    },
    {
     "cell_type": "code",
     "collapsed": false,
     "input": [
      "dir(t1)"
     ],
     "language": "python",
     "metadata": {},
     "outputs": [
      {
       "metadata": {},
       "output_type": "pyout",
       "prompt_number": 9,
       "text": [
        "['__doc__',\n",
        " '__init__',\n",
        " '__module__',\n",
        " '__repr__',\n",
        " 'area',\n",
        " 'x',\n",
        " 'x0y0',\n",
        " 'x1y1',\n",
        " 'x2y2',\n",
        " 'y']"
       ]
      }
     ],
     "prompt_number": 9
    },
    {
     "cell_type": "markdown",
     "metadata": {},
     "source": [
      "Let's expand the `Triangle` class by adding a function that plots a filled triangle. The color of the triangle is supplied with a keyword argument in the constructor. Hence, when it is not provided, the default value will be used."
     ]
    },
    {
     "cell_type": "code",
     "collapsed": false,
     "input": [
      "class Triangle:\n",
      "    def __init__(self, x0y0, x1y1, x2y2, color='b'):\n",
      "        self.x0y0 = x0y0\n",
      "        self.x1y1 = x1y1\n",
      "        self.x2y2 = x2y2\n",
      "        self.x = array([ self.x0y0[0], self.x1y1[0], self.x2y2[0] ])\n",
      "        self.y = array([ self.x0y0[1], self.x1y1[1], self.x2y2[1] ])\n",
      "        self.color = color\n",
      "    def __repr__(self):\n",
      "        return 'Triangle with corners:'+str(self.x0y0)+str(self.x1y1)+str(self.x2y2)\n",
      "    def area(self):\n",
      "        A = 0.5 * abs( (self.x[0]-self.x[2])*(self.y[1]-self.y[0]) - \n",
      "                       (self.x[0]-self.x[1])*(self.y[2]-self.y[0]) )\n",
      "        return A\n",
      "    def plot(self):\n",
      "        fill(self.x, self.y, color=self.color)"
     ],
     "language": "python",
     "metadata": {},
     "outputs": [],
     "prompt_number": 10
    },
    {
     "cell_type": "markdown",
     "metadata": {},
     "source": [
      "We create three triangles and store them in a list. Then we loop through the triangles in the list and plot them in one graph. Note how we can loop through the triangles in the list `tlist`:\n",
      "\n",
      "`for t in tlist:`\n",
      "\n",
      "So every time we go through the loop, `t` is the next triangle in the list `tlist`."
     ]
    },
    {
     "cell_type": "code",
     "collapsed": false,
     "input": [
      "tlist = []  # Start with an empty list\n",
      "t1 = Triangle( (0,1), (5,0), (3,3), 'b' )\n",
      "tlist.append(t1)  # Add t1 to the list\n",
      "t2 = Triangle( (3,4), (1,6), (-2,3), 'r' )\n",
      "tlist.append(t2)\n",
      "t3 = Triangle( (8,-1), (6,4), (2,6), 'g' )\n",
      "tlist.append(t3)\n",
      "for t in tlist:\n",
      "    t.plot()\n",
      "axis('scaled')"
     ],
     "language": "python",
     "metadata": {},
     "outputs": [
      {
       "metadata": {},
       "output_type": "pyout",
       "prompt_number": 11,
       "text": [
        "(-2.0, 8.0, -1.0, 6.0)"
       ]
      },
      {
       "metadata": {},
       "output_type": "display_data",
       "png": "[encoded data removed]",
       "text": [
        "<matplotlib.figure.Figure at 0x311ac50>"
       ]
      }
     ],
     "prompt_number": 11
    },
    {
     "cell_type": "markdown",
     "metadata": {},
     "source": [
      "Similarly, the total area of the three triangles is"
     ]
    },
    {
     "cell_type": "code",
     "collapsed": false,
     "input": [
      "areatot = 0.0\n",
      "for t in tlist:\n",
      "    areatot += t.area()\n",
      "print 'total area: ',areatot"
     ],
     "language": "python",
     "metadata": {},
     "outputs": [
      {
       "output_type": "stream",
       "stream": "stdout",
       "text": [
        "total area:  20.5\n"
       ]
      }
     ],
     "prompt_number": 12
    },
    {
     "cell_type": "markdown",
     "metadata": {},
     "source": [
      "###Exercise 1. <a name=\"back1\"></a>A Circle class\n",
      "Create a `Circle` class that stores the $(x,y)$ coordinates of the center of a circle and the radius $R$ of the circle. Class functions are: `area`, which returns the area of the circle and `plot`, which plots a filled circle using a transparancy of 0.5 (i.e., use keyword argument `alpha=0.5` in the `fill` function); refer back to Notebook 7 of Quarter 1 if you forgot how to plot a circle. The input argument of the `plot` function is a radius $R^*$. When the radius of the circle is less than $R^*$, fill the circle with the color blue. When the radius of the circle is larger than or equal to $R^*$, fill the circle with the color red. Demonstrate that your `Circle` class works by loading the text file `circle_data.txt`. This file contains the $x$, $y$, and $R$ data for 20 circles. Compute and report the total area of all the circles in the file. Make a plot of the 20 circles to demonstrate that the colors are assigned correctly, using $R^*=1$."
     ]
    },
    {
     "cell_type": "code",
     "collapsed": false,
     "input": [],
     "language": "python",
     "metadata": {},
     "outputs": [],
     "prompt_number": 12
    },
    {
     "cell_type": "markdown",
     "metadata": {},
     "source": [
      "<a href=\"#ex1answer\">Answers to Exercise 1</a>"
     ]
    },
    {
     "cell_type": "markdown",
     "metadata": {},
     "source": [
      "###Exercise 2. <a name=\"back2\"></a>Flow to a set of extraction and injection wells\n",
      "Consider an extraction well with a discharge $Q$. The well is located at $(x,y)=(x_w,y_w)$ in an aquifer with thickness $H$ and hydraulic conductivity $k$. The head at a radial distance $R$ from the well is fixed to $h_0$. The groundwater head $h$ decreases towards the well as (e.g., Eq. 11.4 in Verruijt (2012) Soil Mechanics)\n",
      "\n",
      "$h = \\frac{Q}{2\\pi kH} \\ln\\left(\\frac{r}{R}\\right) + h_0$\n",
      "\n",
      "where $r$ is the radial distance from the well $r=\\sqrt{(x-x_w)^2+(y-y_w)^2}$. \n",
      "\n",
      "Next, consider a system with $N$ extraction and injection wells near the center of a large area; the sum of the discharges of all extraction and injection wells is zero (i.e., all water that is extracted is also injected; this is often the case for pump-and-treat systems, cooling systems, building pit dewatering, etc.). The change in head caused by all wells together is approximately zero along a circle with radius $R$. The head distribution for a system of $N$ wells may be written as (e.g., Eq. 11.9 in Verruijt, 2010, Soil Mechanics)\n",
      "\n",
      "$h = \\sum_{n=1}^N \\frac{Q_n}{2\\pi kH} \\ln\\left(\\frac{r_n}{R}\\right)$\n",
      "\n",
      "where $Q_n$ is the discharge of well $n$ (positive for extraction) located at $(x_n,y_n)$, and $r_n=\\sqrt{(x-x_n)^2+(y-y_n)^2}$ is the distance from well $n$.\n",
      "\n",
      "Write a class `Well` that stores the location of a well, the discharge of a well, the radius $R$ of the circular area, and the aquifer parameters $k$ and $H$. The well class has one method called `head`, which takes an $x,y$ location as input arguments and returns the contribution of the well to the head at $x,y$ (the term $Q_n/(2\\pi kH)\\ln(r_n/R)$ in the summation above). \n",
      "\n",
      "Test your implementation for an aquifer with $k=2$ m/d, $H=10$ m, $R=1000$ m, and a system of three wells: one extraction well (with postive discharge) and two injection wells (with negative discharge). \n",
      "\n",
      "* $(x_w,y_w)=(0,0)$, $Q=100$ m$^3$/d\n",
      "* $(x_w,y_w)=(-20,0)$, $Q=-50$ m$^3$/d\n",
      "* $(x_w,y_w)=(20,0)$, $Q=-50$ m$^3$/d\n",
      "\n",
      "When your implementation is correct, the head caused by the three wells at $(x,y)=(20,5)$ should be 0.2968 m. Warning: don't fall in the trap of integer division (remember `1/2 = 0`, while `1.0 / 2 = 0.5`).\n",
      "Plot the variation of the head along the line $y=1$ for $x$ varying from -40 to +40."
     ]
    },
    {
     "cell_type": "code",
     "collapsed": false,
     "input": [],
     "language": "python",
     "metadata": {},
     "outputs": [],
     "prompt_number": 12
    },
    {
     "cell_type": "markdown",
     "metadata": {},
     "source": [
      "<a href=\"#ex2answer\">Answers to Exercise 2</a>"
     ]
    },
    {
     "cell_type": "markdown",
     "metadata": {},
     "source": [
      "###Arrays are objects\n",
      "Now that you have learned about OOP, you may realize that many of the Python features you use are actually based on OOP. For example, when you create an array, the array is an object. "
     ]
    },
    {
     "cell_type": "code",
     "collapsed": false,
     "input": [
      "x = arange(12)\n",
      "print 'type of x: ',type(x)"
     ],
     "language": "python",
     "metadata": {},
     "outputs": [
      {
       "output_type": "stream",
       "stream": "stdout",
       "text": [
        "type of x:  <type 'numpy.ndarray'>\n"
       ]
      }
     ],
     "prompt_number": 13
    },
    {
     "cell_type": "markdown",
     "metadata": {},
     "source": [
      "Hence, an array has attributes and class methods associated with it. You can type `dir(x)` to find out all attributes and methods (there are many). Some of the attributes of an array include the number of dimensions and the shape. You can even change the shape (as long as you make sure the shape fits the array) by modifying the shape attribute."
     ]
    },
    {
     "cell_type": "code",
     "collapsed": false,
     "input": [
      "print 'number of dimensions of x: ',x.ndim\n",
      "print 'shape of x: ',x.shape\n",
      "x.shape = (4,3)\n",
      "print 'new shape of x: ',x.shape\n",
      "print x"
     ],
     "language": "python",
     "metadata": {},
     "outputs": [
      {
       "output_type": "stream",
       "stream": "stdout",
       "text": [
        "number of dimensions of x:  1\n",
        "shape of x:  (12,)\n",
        "new shape of x:  (4, 3)\n",
        "[[ 0  1  2]\n",
        " [ 3  4  5]\n",
        " [ 6  7  8]\n",
        " [ 9 10 11]]\n"
       ]
      }
     ],
     "prompt_number": 14
    },
    {
     "cell_type": "markdown",
     "metadata": {},
     "source": [
      "An array also has a number of functions, including a function that returns the mean value of the array or the maximum value of an array."
     ]
    },
    {
     "cell_type": "code",
     "collapsed": false,
     "input": [
      "print 'mean of x: ',x.mean()\n",
      "print 'max  of x:  ',x.max()"
     ],
     "language": "python",
     "metadata": {},
     "outputs": [
      {
       "output_type": "stream",
       "stream": "stdout",
       "text": [
        "mean of x:  5.5\n",
        "max  of x:   11\n"
       ]
      }
     ],
     "prompt_number": 15
    },
    {
     "cell_type": "markdown",
     "metadata": {},
     "source": [
      "###Plotting features are objects\n",
      "All plotting commands we have used so far are functions that are part of the `matplotlib` package. Not surpringly, `matplotlib` has an object-oriented design. Plots may be created by making use of the object oriented structure. This gives lots of flexibility in making graphs, but it requires a bit of additional typing. In the end we don't only gain additional flexibility but also the ability to make interactive graphs (usig sliders, radio buttons, etc.) and animations.\n",
      "\n",
      "Using the OO syntax, we first create a `figure` object and specify the size using the `figsize` keyword argument (the size of the figure is specified in inches), then we add an axis to the figure with the `add_axes` command (note that it is `axes` with an `e`) by specifying the *relative* location of the axis in the figure. The location of the left, bottom, width, and height are specified height in relative coordinats (both the horizontal and vertical direction run from 0 to 1). To plot, we use the `plot` method of the axis."
     ]
    },
    {
     "cell_type": "code",
     "collapsed": false,
     "input": [
      "x = linspace(0,2,100)\n",
      "y = x**2\n",
      "fig = figure(figsize=(10,5))\n",
      "ax1 = fig.add_axes([0.1, 0.1, 0.8, 0.8])\n",
      "ax1.plot(x, y, 'b')\n",
      "ax1.set_xlabel('x')\n",
      "ax1.set_ylabel('y')\n",
      "ax1.set_title('Example figure')"
     ],
     "language": "python",
     "metadata": {},
     "outputs": [
      {
       "metadata": {},
       "output_type": "pyout",
       "prompt_number": 16,
       "text": [
        "<matplotlib.text.Text at 0x311af50>"
       ]
      },
      {
       "metadata": {},
       "output_type": "display_data",
       "png": "[encoded data removed]",
       "text": [
        "<matplotlib.figure.Figure at 0x314def0>"
       ]
      }
     ],
     "prompt_number": 16
    },
    {
     "cell_type": "markdown",
     "metadata": {},
     "source": [
      "We can add as many axes to the figure as we want and decide exactly where the axis is located. "
     ]
    },
    {
     "cell_type": "code",
     "collapsed": false,
     "input": [
      "fig = figure(figsize=(10,5))\n",
      "ax1 = fig.add_axes([0.1, 0.1, 0.8, 0.8])\n",
      "ax1.plot(x, y, 'b')\n",
      "ax1.set_xlabel('x')\n",
      "ax1.set_ylabel('y')\n",
      "ax1.set_title('Example figure')\n",
      "ax2 = fig.add_axes([0.15,0.5,0.4,0.3])\n",
      "ax2.plot(x,-y,'r')\n",
      "ax2.set_title('Second axis')"
     ],
     "language": "python",
     "metadata": {},
     "outputs": [
      {
       "metadata": {},
       "output_type": "pyout",
       "prompt_number": 17,
       "text": [
        "<matplotlib.text.Text at 0x320e8d0>"
       ]
      },
      {
       "metadata": {},
       "output_type": "display_data",
       "png": "[encoded data removed]",
       "text": [
        "<matplotlib.figure.Figure at 0x31449b0>"
       ]
      }
     ],
     "prompt_number": 17
    },
    {
     "cell_type": "markdown",
     "metadata": {},
     "source": [
      "###Matplotlib patches\n",
      "The plotting package `matplotlib` includes a set of classes to define shapes, which are called *patches* in `matplotlib`. There are patches for many different shapes including circles, ellipses, polygons, wedges, and arrows. Here we learn how to draw these patches. We learn how to make them move interactively in a future notebook.\n",
      "\n",
      "The process for adding a patch to a graph is always the same. First you create an axis, then you create a patch object and add the patch object to the axis. Finally, when you are done, you call `show()`. Each patch object has a few input arguments and a number of keyword arguments. The keyword arguments include: `ec` for edge color, `fc` for face color, `alpha` for transparancy, and `zorder` for the order in which they are plotted, the patch with the highest `zorder` value lies on top. The names of all patch classes start with a capital: `Circle`, `Ellipse`, `Polygon`, `Wedge`, `Arrow`. You need to import these classes from `matplotlib.patches` to be able to use them. Use the help system to learn about the required input arguments. The graph below contains two circles, where the smaller one is on top of the larger one. The background color is set to the same color as the small circle, so that it looks like the large circle has a hole. The aspect ration of the axis is set to `'equal'` when the axis is created. The `autoscale` function needs to be called to set the limits of the axis such that the patches fit exatly in the axis. Alternatively, you can call the `ax.set_xlim` and `ax.set_ylim` functions to select limits that you may like better."
     ]
    },
    {
     "cell_type": "code",
     "collapsed": false,
     "input": [
      "from matplotlib.patches import Circle\n",
      "fig = figure()\n",
      "ax = fig.add_axes([.1,.1,.8,.8], axisbg='violet', aspect='equal')\n",
      "small = Circle(xy=(3,5),radius=1,fc='violet',ec='violet',zorder=2)\n",
      "big = Circle(xy=(2,4),radius=3,fc='dodgerblue',ec='dodgerblue',zorder=1)\n",
      "ax.add_patch(small)\n",
      "ax.add_patch(big)\n",
      "ax.autoscale()\n",
      "show()"
     ],
     "language": "python",
     "metadata": {},
     "outputs": [
      {
       "metadata": {},
       "output_type": "display_data",
       "png": "[encoded data removed]",
       "text": [
        "<matplotlib.figure.Figure at 0x31ff310>"
       ]
      }
     ],
     "prompt_number": 18
    },
    {
     "cell_type": "markdown",
     "metadata": {},
     "source": [
      "###Exercise 3. <a name=\"back3\"></a>Matplotlib patches\n",
      "Write Python code to create the figure shown below using `matplotlib` patches. Use colors of your own choice. Write 'circle', 'ellipse', etc. inside the corresponding patches using the `ax.text` function.\n",
      "\n",
      "<img src=\"http://i.imgur.com/ObuPLD7.png\" alt=\"Patches\" width=800pt>"
     ]
    },
    {
     "cell_type": "code",
     "collapsed": false,
     "input": [],
     "language": "python",
     "metadata": {},
     "outputs": [],
     "prompt_number": 18
    },
    {
     "cell_type": "markdown",
     "metadata": {},
     "source": [
      "<a href=\"#ex3answer\">Answers to Exercise 3</a>"
     ]
    },
    {
     "cell_type": "markdown",
     "metadata": {},
     "source": [
      "###Answers to the exercises"
     ]
    },
    {
     "cell_type": "markdown",
     "metadata": {},
     "source": [
      "<a name=\"ex1answer\">Answers to Exercise 1</a>"
     ]
    },
    {
     "cell_type": "code",
     "collapsed": false,
     "input": [
      "class Circle:\n",
      "    def __init__(self,x0,y0,R):\n",
      "        self.x0 = x0\n",
      "        self.y0 = y0\n",
      "        self.R = R\n",
      "    def area(self):\n",
      "        A = pi * self.R**2\n",
      "        return A\n",
      "    def plot(self,Rstar):\n",
      "        if self.R < Rstar:\n",
      "            color = 'b'\n",
      "        else:\n",
      "            color = 'r'\n",
      "        alpha = linspace(0,2*pi,100)\n",
      "        fill( self.x0 + self.R*cos(alpha), self.y0 + self.R*sin(alpha), color=color, alpha=0.5)\n",
      "\n",
      "data = loadtxt('circle_data.txt')\n",
      "clist = []\n",
      "for i in range(20):\n",
      "    c = Circle(data[i,0], data[i,1], data[i,2])\n",
      "    clist.append(c)\n",
      "areatot = 0.0\n",
      "for c in clist:\n",
      "    areatot += c.area()\n",
      "    c.plot(1.0)\n",
      "axis('scaled')\n",
      "print 'total area: ',areatot"
     ],
     "language": "python",
     "metadata": {},
     "outputs": [
      {
       "output_type": "stream",
       "stream": "stdout",
       "text": [
        "total area:  67.8963703559\n"
       ]
      },
      {
       "metadata": {},
       "output_type": "display_data",
       "png": "[encoded data removed]",
       "text": [
        "<matplotlib.figure.Figure at 0x3190d70>"
       ]
      }
     ],
     "prompt_number": 19
    },
    {
     "cell_type": "markdown",
     "metadata": {},
     "source": [
      "<a href=\"#back1\">Back to Exercise 1</a>\n",
      "\n",
      "<a name=\"ex2answer\">Answers to Exercise 2</a>"
     ]
    },
    {
     "cell_type": "code",
     "collapsed": false,
     "input": [
      "class Well:\n",
      "    def __init__(self,xw,yw,Q,k,H,R):\n",
      "        self.xw = xw\n",
      "        self.yw = yw\n",
      "        self.Q = Q\n",
      "        self.k = k\n",
      "        self.H = H\n",
      "        self.R = R\n",
      "    def head(self,x,y):\n",
      "        r = sqrt( (x-self.xw)**2 + (y-self.yw)**2 )\n",
      "        h = self.Q / (2*pi*self.k*self.H) * log( r / self.R )\n",
      "        return h\n",
      "    \n",
      "w1 = Well(0,0,100,2,10,1000)\n",
      "w2 = Well(-20,0,-50,2,10,1000)\n",
      "w3 = Well(20,0,-50,2,10,1000)\n",
      "wells = [w1,w2,w3]\n",
      "\n",
      "h = 0.0\n",
      "for w in wells:\n",
      "    h += w.head(20,5)\n",
      "print 'head at (20,5) is', h\n",
      "\n",
      "x = linspace(-40,40,101)\n",
      "h = zeros_like(x)\n",
      "for w in wells:\n",
      "    h += w.head(x,1)\n",
      "plot(x,h)\n",
      "xlabel('x')\n",
      "ylabel('head along y=1')"
     ],
     "language": "python",
     "metadata": {},
     "outputs": [
      {
       "output_type": "stream",
       "stream": "stdout",
       "text": [
        "head at (20,5) is 0.296831810871\n"
       ]
      },
      {
       "metadata": {},
       "output_type": "pyout",
       "prompt_number": 20,
       "text": [
        "<matplotlib.text.Text at 0x36d6190>"
       ]
      },
      {
       "metadata": {},
       "output_type": "display_data",
       "png": "[encoded data removed]",
       "text": [
        "<matplotlib.figure.Figure at 0x3562d10>"
       ]
      }
     ],
     "prompt_number": 20
    },
    {
     "cell_type": "markdown",
     "metadata": {},
     "source": [
      "<a href=\"#back2\">Back to Exercise 2</a>\n",
      "\n",
      "<a name=\"ex3answer\">Answers to Exercise 3</a>"
     ]
    },
    {
     "cell_type": "code",
     "collapsed": false,
     "input": [
      "from matplotlib.patches import Circle, Ellipse, Polygon, Arrow, Wedge\n",
      "fig = figure(figsize=(10,5))\n",
      "ax = fig.add_axes([.1,.1,.8,.8],aspect='equal')\n",
      "c1 = Circle(xy=(0,0),radius=2,fc='dodgerblue')\n",
      "ax.add_patch(c1)\n",
      "a1 = Arrow(x=2,y=0,dx=2,dy=0,fc='r')\n",
      "ax.add_patch(a1)\n",
      "e1 = Ellipse(xy=(8,0),width=8,height=4,fc='b')\n",
      "ax.add_patch(e1)\n",
      "a2 = Arrow(x=0,y=2,dx=0,dy=2,fc='r')\n",
      "ax.add_patch(a2)\n",
      "w1 = Wedge(center=(0,6),r=2,theta1=45,theta2=0,fc='b')\n",
      "ax.add_patch(w1)\n",
      "a3 = Arrow(x=-2,y=0,dx=-2,dy=0,fc='r')\n",
      "ax.add_patch(a3)\n",
      "p1 = Polygon(xy=[(-4,0),(-6,2),(-8,1.5),(-10,0),(-10,-1.5),(-7,-2)],fc='b')\n",
      "ax.add_patch(p1)\n",
      "ax.set_xlim(-10,12)\n",
      "ax.set_xticks(arange(-10,13))\n",
      "ax.set_ylim(-2,8)\n",
      "ax.set_yticks(arange(-2,9,1))\n",
      "ax.text(0,0,'circle',ha='center')\n",
      "ax.text(8,0,'ellipse',ha='center')\n",
      "ax.text(-7,0,'polygon',ha='center')\n",
      "ax.text(0,5,'wedge',ha='center')\n",
      "show()"
     ],
     "language": "python",
     "metadata": {},
     "outputs": [
      {
       "metadata": {},
       "output_type": "display_data",
       "png": "[encoded data removed]",
       "text": [
        "<matplotlib.figure.Figure at 0x3586bb0>"
       ]
      }
     ],
     "prompt_number": 21
    },
    {
     "cell_type": "markdown",
     "metadata": {},
     "source": [
      "<a href=\"#back3\">Back to Exercise 3</a>"
     ]
    }
   ],
   "metadata": {}
  }
 ]
}