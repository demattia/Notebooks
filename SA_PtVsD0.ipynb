{
 "metadata": {
  "name": "",
  "signature": "sha256:768e9a87703240ba0bac9cde5c5d97707fd14f6218761a41ee33419729f3051f"
 },
 "nbformat": 3,
 "nbformat_minor": 0,
 "worksheets": [
  {
   "cells": [
    {
     "cell_type": "heading",
     "level": 1,
     "metadata": {},
     "source": [
      "StandAloneMuons $p_{T}$ Vs $d_{0}$"
     ]
    },
    {
     "cell_type": "code",
     "collapsed": false,
     "input": [
      "import ROOT\n",
      "from ROOT import TH1F, TH2F, TEfficiency, TLegend, TCanvas\n",
      "import rootnotes\n",
      "import rootprint\n",
      "from RefittedStandAloneMuons import *\n",
      "from ProgressBar import ProgressBar\n",
      "import time\n",
      "\n",
      "ROOT.gROOT.LoadMacro(\"interfaceRefittedStandAloneMuons/Loader.C+\")\n",
      "\n",
      "# Bins in the histograms\n",
      "nBins = 25"
     ],
     "language": "python",
     "metadata": {
      "slideshow": {
       "slide_type": "skip"
      }
     },
     "outputs": [],
     "prompt_number": 1
    },
    {
     "cell_type": "code",
     "collapsed": false,
     "input": [
      "signalMC = True\n",
      "\n",
      "# input file and tree (1000, 350)\n",
      "inputFile = ROOT.TFile(\"/Users/demattia/Tree_SA/histograms.root\", \"READ\")\n",
      "\n",
      "directory = inputFile.Get(\"muTrackAnalysis\")\n",
      "tree = directory.Get(\"outputTree\")\n",
      "\n",
      "# Global variables\n",
      "chosenPdgId = 13\n",
      "\n",
      "signalPdgIds = []\n",
      "# signalPdgIds.append(6001113)\n",
      "signalPdgIds.append(6002113)\n",
      "# signalPdgIds.append(6003113)\n",
      "# signalPdgIds.append(6004113)\n",
      "\n",
      "signalTrigger = \"HLT_L2DoubleMu23_NoVertex_2Cha_Angle2p5_v2\"\n",
      "\n",
      "# Acceptance cuts (for muons)\n",
      "ptCut = 26.\n",
      "etaCut = 2.4\n",
      "LxyCut = 1000000.\n",
      "minStationsWithValidHits = 2\n",
      "isoCut = 0.1\n",
      "cosineCut = -0.79\n",
      "vertexChi2Cut = 5.\n",
      "deltaRCut = 0.2\n",
      "massCut = 15."
     ],
     "language": "python",
     "metadata": {},
     "outputs": [],
     "prompt_number": 2
    },
    {
     "cell_type": "heading",
     "level": 2,
     "metadata": {},
     "source": [
      "Check the correlation between RSA and Gen Pt and D0"
     ]
    },
    {
     "cell_type": "code",
     "collapsed": false,
     "input": [
      "hGenD0VsD0 = ROOT.TH2F(\"PtVsD0\", \"PtVsD0\", 50, 0, 300, 50, 0, 400)\n",
      "hGenD0VsGenPt = ROOT.TH2F(\"GenD0VsGenPt\", \"GenD0VsGenPt\", 50, 0, 300, 50, 0, 400)\n",
      "hGenLxyVsGenPt = ROOT.TH2F(\"GenLxyVsGenPt\", \"GenLxyVsGenPt\", 50, 0, 400, 50, 0, 300)\n",
      "hGenLxyVsPt = ROOT.TH2F(\"GenLxyVsPt\", \"GenLxyVsPt\", 50, 0, 400, 50, 0, 300)\n",
      "hD0VsPt = ROOT.TH2F(\"D0VsPt\", \"D0VsPt\", 50, 0, 300, 50, 0, 500)\n",
      "hGenEta = ROOT.TH1F(\"GenEta\", \"GenEta\", 100, -3, 3)\n",
      "\n",
      "hGenPtVsPt_genD0_0_20 = ROOT.TH2F(\"GenPtVsPt_genD0_0_20\", \"GenPt_genD0_0_20\", 50, 0, 300, 50, 0, 300)\n",
      "hGenPtVsPt_genD0_20_50 = ROOT.TH2F(\"GenPtVsPt_genD0_20_50\", \"GenPt_genD0_20_50\", 50, 0, 300, 50, 0, 300)\n",
      "hGenPtVsPt_genD0_50_100 = ROOT.TH2F(\"GenPtVsPt_genD0_50_100\", \"GenPt_genD0_50_100\", 50, 0, 300, 50, 0, 300)\n",
      "hGenPtVsPt_genD0_100_200 = ROOT.TH2F(\"GenPtVsPt_genD0_100_200\", \"GenPt_genD0_100_200\", 50, 0, 300, 50, 0, 300)\n",
      "hGenPtVsPt_genD0_200 = ROOT.TH2F(\"GenPtVsPt_genD0_200\", \"GenPt_genD0_200\", 50, 0, 300, 50, 0, 300)\n",
      "\n",
      "hGenPt_genD0_0_20 = ROOT.TH1F(\"GenPt_genD0_0_20\", \"GenPt_genD0_0_20\", 100, 0, 1000)\n",
      "hGenPt_genD0_20_50 = ROOT.TH1F(\"GenPt_genD0_20_50\", \"GenPt_genD0_20_50\", 100, 0, 1000)\n",
      "hGenPt_genD0_50_100 = ROOT.TH1F(\"GenPt_genD0_50_100\", \"GenPt_genD0_50_100\", 100, 0, 1000)\n",
      "hGenPt_genD0_100_200 = ROOT.TH1F(\"GenPt_genD0_100_200\", \"GenPt_genD0_100_200\", 100, 0, 1000)\n",
      "hGenPt_genD0_200 = ROOT.TH1F(\"GenPt_genD0_200\", \"GenPt_genD0_200\", 100, 0, 1000)\n",
      "\n",
      "hPt_genD0_0_20 = ROOT.TH1F(\"Pt_genD0_0_20\", \"Pt_genD0_0_20\", 100, 0, 1000)\n",
      "hPt_genD0_20_50 = ROOT.TH1F(\"Pt_genD0_20_50\", \"Pt_genD0_20_50\", 100, 0, 1000)\n",
      "hPt_genD0_50_100 = ROOT.TH1F(\"Pt_genD0_50_100\", \"Pt_genD0_50_100\", 100, 0, 1000)\n",
      "hPt_genD0_100_200 = ROOT.TH1F(\"Pt_genD0_100_200\", \"Pt_genD0_100_200\", 100, 0, 1000)\n",
      "hPt_genD0_200 = ROOT.TH1F(\"Pt_genD0_200\", \"Pt_genD0_200\", 100, 0, 1000)\n",
      "\n",
      "hDeltaPtOverPt_genD0_0_20 = ROOT.TH1F(\"DeltaPtOverPt_genD0_0_20\", \"DeltaPtOverPt_genD0_0_20\", 100, -1, 1)\n",
      "hDeltaPtOverPt_genD0_20_50 = ROOT.TH1F(\"DeltaPtOverPt_genD0_20_50\", \"DeltaPtOverPt_genD0_20_50\", 100, -1, 1)\n",
      "hDeltaPtOverPt_genD0_50_100 = ROOT.TH1F(\"DeltaPtOverPt_genD0_50_100\", \"DeltaPtOverPt_genD0_50_100\", 100, -1, 1)\n",
      "hDeltaPtOverPt_genD0_100_200 = ROOT.TH1F(\"DeltaPtOverPt_genD0_100_200\", \"DeltaPtOverPt_genD0_100_200\", 100, -1, 1)\n",
      "hDeltaPtOverPt_genD0_200 = ROOT.TH1F(\"DeltaPtOverPt_genD0_200\", \"DeltaPtOverPt_genD0_200\", 100, -1, 1)\n",
      "\n",
      "num = 0\n",
      "p = ProgressBar(tree.GetEntries())\n",
      "for event in tree:\n",
      "    if num%(event.GetEntries()/100) == 0:\n",
      "        p.animate(num)\n",
      "    num += 1\n",
      "    # if num == 100000:\n",
      "    #     break\n",
      "    \n",
      "    for lepton in event.candidates.leptons_:\n",
      "        if lepton.isStandAloneMuon:\n",
      "            if abs(lepton.genPdgId) == 13 and lepton.genSignalOriginPdgId == 6002113:\n",
      "                if (lepton.dtStationsWithValidHits+lepton.cscStationsWithValidHits) < 3: continue\n",
      "                if lepton.numberOfValidMuonHits <= 17: continue\n",
      "                # if abs(lepton.genEta) > 0.5: continue\n",
      "                hGenD0VsGenPt.Fill(abs(lepton.genD0), lepton.genPt)\n",
      "                hGenD0VsD0.Fill(abs(lepton.genD0), abs(lepton.d0_PV))\n",
      "                hD0VsPt.Fill(abs(lepton.d0_PV), lepton.pt)\n",
      "                hGenLxyVsPt.Fill(abs(lepton.genSignalOriginLxy), lepton.pt)\n",
      "                hGenLxyVsGenPt.Fill(abs(lepton.genSignalOriginLxy), lepton.genPt)\n",
      "                hGenEta.Fill(lepton.genEta)\n",
      "                \n",
      "                absGenD0 = abs(lepton.genD0)\n",
      "                genPt = lepton.genPt\n",
      "                pt = lepton.pt\n",
      "                if absGenD0 < 20:\n",
      "                    hGenPtVsPt_genD0_0_20.Fill(pt, genPt)\n",
      "                    hGenPt_genD0_0_20.Fill(genPt)\n",
      "                    hPt_genD0_0_20.Fill(pt)\n",
      "                    hDeltaPtOverPt_genD0_0_20.Fill((pt-genPt)/genPt)\n",
      "                elif absGenD0 < 50:\n",
      "                    hGenPtVsPt_genD0_20_50.Fill(lepton.pt, lepton.genPt)\n",
      "                    hGenPt_genD0_20_50.Fill(lepton.genPt)\n",
      "                    hPt_genD0_20_50.Fill(lepton.pt)\n",
      "                    hDeltaPtOverPt_genD0_20_50.Fill((pt-genPt)/genPt)\n",
      "                elif absGenD0 < 100:\n",
      "                    hGenPtVsPt_genD0_50_100.Fill(lepton.pt, lepton.genPt)\n",
      "                    hGenPt_genD0_50_100.Fill(lepton.genPt)\n",
      "                    hPt_genD0_50_100.Fill(lepton.pt)\n",
      "                    hDeltaPtOverPt_genD0_50_100.Fill((pt-genPt)/genPt)\n",
      "                elif absGenD0 < 200:\n",
      "                    hGenPtVsPt_genD0_100_200.Fill(lepton.pt, lepton.genPt)\n",
      "                    hGenPt_genD0_100_200.Fill(lepton.genPt)\n",
      "                    hPt_genD0_100_200.Fill(lepton.pt)\n",
      "                    hDeltaPtOverPt_genD0_100_200.Fill((pt-genPt)/genPt)\n",
      "                else:\n",
      "                    hGenPtVsPt_genD0_200.Fill(lepton.pt, lepton.genPt)\n",
      "                    hGenPt_genD0_200.Fill(lepton.genPt)\n",
      "                    hPt_genD0_200.Fill(lepton.pt)\n",
      "                    hDeltaPtOverPt_genD0_200.Fill((pt-genPt)/genPt)\n"
     ],
     "language": "python",
     "metadata": {},
     "outputs": [
      {
       "output_type": "stream",
       "stream": "stdout",
       "text": [
        "\r",
        " [                       0%                       ]"
       ]
      },
      {
       "output_type": "stream",
       "stream": "stdout",
       "text": [
        "\r",
        " [                       0%                       ]  1 of 494029 complete"
       ]
      },
      {
       "output_type": "stream",
       "stream": "stdout",
       "text": [
        "\r",
        " [                       1%                       ]  4941 of 494029 complete"
       ]
      },
      {
       "output_type": "stream",
       "stream": "stdout",
       "text": [
        "\r",
        " [*                      2%                       ]  9881 of 494029 complete"
       ]
      },
      {
       "output_type": "stream",
       "stream": "stdout",
       "text": [
        "\r",
        " [*                      3%                       ]  14821 of 494029 complete"
       ]
      },
      {
       "output_type": "stream",
       "stream": "stdout",
       "text": [
        "\r",
        " [**                     4%                       ]  19761 of 494029 complete"
       ]
      },
      {
       "output_type": "stream",
       "stream": "stdout",
       "text": [
        "\r",
        " [**                     5%                       ]  24701 of 494029 complete"
       ]
      },
      {
       "output_type": "stream",
       "stream": "stdout",
       "text": [
        "\r",
        " [***                    6%                       ]  29641 of 494029 complete"
       ]
      },
      {
       "output_type": "stream",
       "stream": "stdout",
       "text": [
        "\r",
        " [***                    7%                       ]  34581 of 494029 complete"
       ]
      },
      {
       "output_type": "stream",
       "stream": "stdout",
       "text": [
        "\r",
        " [****                   8%                       ]  39521 of 494029 complete"
       ]
      },
      {
       "output_type": "stream",
       "stream": "stdout",
       "text": [
        "\r",
        " [****                   9%                       ]  44461 of 494029 complete"
       ]
      },
      {
       "output_type": "stream",
       "stream": "stdout",
       "text": [
        "\r",
        " [*****                 10%                       ]  49401 of 494029 complete"
       ]
      },
      {
       "output_type": "stream",
       "stream": "stdout",
       "text": [
        "\r",
        " [*****                 11%                       ]  54341 of 494029 complete"
       ]
      },
      {
       "output_type": "stream",
       "stream": "stdout",
       "text": [
        "\r",
        " [******                12%                       ]  59281 of 494029 complete"
       ]
      },
      {
       "output_type": "stream",
       "stream": "stdout",
       "text": [
        "\r",
        " [******                13%                       ]  64221 of 494029 complete"
       ]
      },
      {
       "output_type": "stream",
       "stream": "stdout",
       "text": [
        "\r",
        " [*******               14%                       ]  69161 of 494029 complete"
       ]
      },
      {
       "output_type": "stream",
       "stream": "stdout",
       "text": [
        "\r",
        " [*******               15%                       ]  74101 of 494029 complete"
       ]
      },
      {
       "output_type": "stream",
       "stream": "stdout",
       "text": [
        "\r",
        " [********              16%                       ]  79041 of 494029 complete"
       ]
      },
      {
       "output_type": "stream",
       "stream": "stdout",
       "text": [
        "\r",
        " [********              17%                       ]  83981 of 494029 complete"
       ]
      },
      {
       "output_type": "stream",
       "stream": "stdout",
       "text": [
        "\r",
        " [*********             18%                       ]  88921 of 494029 complete"
       ]
      },
      {
       "output_type": "stream",
       "stream": "stdout",
       "text": [
        "\r",
        " [*********             19%                       ]  93861 of 494029 complete"
       ]
      },
      {
       "output_type": "stream",
       "stream": "stdout",
       "text": [
        "\r",
        " [**********            20%                       ]  98801 of 494029 complete"
       ]
      },
      {
       "output_type": "stream",
       "stream": "stdout",
       "text": [
        "\r",
        " [**********            21%                       ]  103741 of 494029 complete"
       ]
      },
      {
       "output_type": "stream",
       "stream": "stdout",
       "text": [
        "\r",
        " [***********           22%                       ]  108681 of 494029 complete"
       ]
      },
      {
       "output_type": "stream",
       "stream": "stdout",
       "text": [
        "\r",
        " [***********           23%                       ]  113621 of 494029 complete"
       ]
      },
      {
       "output_type": "stream",
       "stream": "stdout",
       "text": [
        "\r",
        " [************          24%                       ]  118561 of 494029 complete"
       ]
      },
      {
       "output_type": "stream",
       "stream": "stdout",
       "text": [
        "\r",
        " [************          25%                       ]  123501 of 494029 complete"
       ]
      },
      {
       "output_type": "stream",
       "stream": "stdout",
       "text": [
        "\r",
        " [************          26%                       ]  128441 of 494029 complete"
       ]
      },
      {
       "output_type": "stream",
       "stream": "stdout",
       "text": [
        "\r",
        " [*************         27%                       ]  133381 of 494029 complete"
       ]
      },
      {
       "output_type": "stream",
       "stream": "stdout",
       "text": [
        "\r",
        " [*************         28%                       ]  138321 of 494029 complete"
       ]
      },
      {
       "output_type": "stream",
       "stream": "stdout",
       "text": [
        "\r",
        " [**************        29%                       ]  143261 of 494029 complete"
       ]
      },
      {
       "output_type": "stream",
       "stream": "stdout",
       "text": [
        "\r",
        " [**************        30%                       ]  148201 of 494029 complete"
       ]
      },
      {
       "output_type": "stream",
       "stream": "stdout",
       "text": [
        "\r",
        " [***************       31%                       ]  153141 of 494029 complete"
       ]
      },
      {
       "output_type": "stream",
       "stream": "stdout",
       "text": [
        "\r",
        " [***************       32%                       ]  158081 of 494029 complete"
       ]
      },
      {
       "output_type": "stream",
       "stream": "stdout",
       "text": [
        "\r",
        " [****************      33%                       ]  163021 of 494029 complete"
       ]
      },
      {
       "output_type": "stream",
       "stream": "stdout",
       "text": [
        "\r",
        " [****************      34%                       ]  167961 of 494029 complete"
       ]
      },
      {
       "output_type": "stream",
       "stream": "stdout",
       "text": [
        "\r",
        " [*****************     35%                       ]  172901 of 494029 complete"
       ]
      },
      {
       "output_type": "stream",
       "stream": "stdout",
       "text": [
        "\r",
        " [*****************     36%                       ]  177841 of 494029 complete"
       ]
      },
      {
       "output_type": "stream",
       "stream": "stdout",
       "text": [
        "\r",
        " [******************    37%                       ]  182781 of 494029 complete"
       ]
      },
      {
       "output_type": "stream",
       "stream": "stdout",
       "text": [
        "\r",
        " [******************    38%                       ]  187721 of 494029 complete"
       ]
      },
      {
       "output_type": "stream",
       "stream": "stdout",
       "text": [
        "\r",
        " [*******************   39%                       ]  192661 of 494029 complete"
       ]
      },
      {
       "output_type": "stream",
       "stream": "stdout",
       "text": [
        "\r",
        " [*******************   40%                       ]  197601 of 494029 complete"
       ]
      },
      {
       "output_type": "stream",
       "stream": "stdout",
       "text": [
        "\r",
        " [********************  41%                       ]  202541 of 494029 complete"
       ]
      },
      {
       "output_type": "stream",
       "stream": "stdout",
       "text": [
        "\r",
        " [********************  42%                       ]  207481 of 494029 complete"
       ]
      },
      {
       "output_type": "stream",
       "stream": "stdout",
       "text": [
        "\r",
        " [********************* 43%                       ]  212421 of 494029 complete"
       ]
      },
      {
       "output_type": "stream",
       "stream": "stdout",
       "text": [
        "\r",
        " [********************* 44%                       ]  217361 of 494029 complete"
       ]
      },
      {
       "output_type": "stream",
       "stream": "stdout",
       "text": [
        "\r",
        " [**********************45%                       ]  222301 of 494029 complete"
       ]
      },
      {
       "output_type": "stream",
       "stream": "stdout",
       "text": [
        "\r",
        " [**********************46%                       ]  227241 of 494029 complete"
       ]
      },
      {
       "output_type": "stream",
       "stream": "stdout",
       "text": [
        "\r",
        " [**********************47%                       ]  232181 of 494029 complete"
       ]
      },
      {
       "output_type": "stream",
       "stream": "stdout",
       "text": [
        "\r",
        " [**********************48%                       ]  237121 of 494029 complete"
       ]
      },
      {
       "output_type": "stream",
       "stream": "stdout",
       "text": [
        "\r",
        " [**********************49%                       ]  242061 of 494029 complete"
       ]
      },
      {
       "output_type": "stream",
       "stream": "stdout",
       "text": [
        "\r",
        " [**********************50%                       ]  247001 of 494029 complete"
       ]
      },
      {
       "output_type": "stream",
       "stream": "stdout",
       "text": [
        "\r",
        " [**********************51%                       ]  251941 of 494029 complete"
       ]
      },
      {
       "output_type": "stream",
       "stream": "stdout",
       "text": [
        "\r",
        " [**********************52%                       ]  256881 of 494029 complete"
       ]
      },
      {
       "output_type": "stream",
       "stream": "stdout",
       "text": [
        "\r",
        " [**********************53%                       ]  261821 of 494029 complete"
       ]
      },
      {
       "output_type": "stream",
       "stream": "stdout",
       "text": [
        "\r",
        " [**********************54%*                      ]  266761 of 494029 complete"
       ]
      },
      {
       "output_type": "stream",
       "stream": "stdout",
       "text": [
        "\r",
        " [**********************55%*                      ]  271701 of 494029 complete"
       ]
      },
      {
       "output_type": "stream",
       "stream": "stdout",
       "text": [
        "\r",
        " [**********************56%**                     ]  276641 of 494029 complete"
       ]
      },
      {
       "output_type": "stream",
       "stream": "stdout",
       "text": [
        "\r",
        " [**********************57%**                     ]  281581 of 494029 complete"
       ]
      },
      {
       "output_type": "stream",
       "stream": "stdout",
       "text": [
        "\r",
        " [**********************58%***                    ]  286521 of 494029 complete"
       ]
      },
      {
       "output_type": "stream",
       "stream": "stdout",
       "text": [
        "\r",
        " [**********************59%***                    ]  291461 of 494029 complete"
       ]
      },
      {
       "output_type": "stream",
       "stream": "stdout",
       "text": [
        "\r",
        " [**********************60%****                   ]  296401 of 494029 complete"
       ]
      },
      {
       "output_type": "stream",
       "stream": "stdout",
       "text": [
        "\r",
        " [**********************61%****                   ]  301341 of 494029 complete"
       ]
      },
      {
       "output_type": "stream",
       "stream": "stdout",
       "text": [
        "\r",
        " [**********************62%*****                  ]  306281 of 494029 complete"
       ]
      },
      {
       "output_type": "stream",
       "stream": "stdout",
       "text": [
        "\r",
        " [**********************63%*****                  ]  311221 of 494029 complete"
       ]
      },
      {
       "output_type": "stream",
       "stream": "stdout",
       "text": [
        "\r",
        " [**********************64%******                 ]  316161 of 494029 complete"
       ]
      },
      {
       "output_type": "stream",
       "stream": "stdout",
       "text": [
        "\r",
        " [**********************65%******                 ]  321101 of 494029 complete"
       ]
      },
      {
       "output_type": "stream",
       "stream": "stdout",
       "text": [
        "\r",
        " [**********************66%*******                ]  326041 of 494029 complete"
       ]
      },
      {
       "output_type": "stream",
       "stream": "stdout",
       "text": [
        "\r",
        " [**********************67%*******                ]  330981 of 494029 complete"
       ]
      },
      {
       "output_type": "stream",
       "stream": "stdout",
       "text": [
        "\r",
        " [**********************68%********               ]  335921 of 494029 complete"
       ]
      },
      {
       "output_type": "stream",
       "stream": "stdout",
       "text": [
        "\r",
        " [**********************69%********               ]  340861 of 494029 complete"
       ]
      },
      {
       "output_type": "stream",
       "stream": "stdout",
       "text": [
        "\r",
        " [**********************70%*********              ]  345801 of 494029 complete"
       ]
      },
      {
       "output_type": "stream",
       "stream": "stdout",
       "text": [
        "\r",
        " [**********************71%*********              ]  350741 of 494029 complete"
       ]
      },
      {
       "output_type": "stream",
       "stream": "stdout",
       "text": [
        "\r",
        " [**********************72%**********             ]  355681 of 494029 complete"
       ]
      },
      {
       "output_type": "stream",
       "stream": "stdout",
       "text": [
        "\r",
        " [**********************73%**********             ]  360621 of 494029 complete"
       ]
      },
      {
       "output_type": "stream",
       "stream": "stdout",
       "text": [
        "\r",
        " [**********************74%***********            ]  365561 of 494029 complete"
       ]
      },
      {
       "output_type": "stream",
       "stream": "stdout",
       "text": [
        "\r",
        " [**********************75%***********            ]  370501 of 494029 complete"
       ]
      },
      {
       "output_type": "stream",
       "stream": "stdout",
       "text": [
        "\r",
        " [**********************76%***********            ]  375441 of 494029 complete"
       ]
      },
      {
       "output_type": "stream",
       "stream": "stdout",
       "text": [
        "\r",
        " [**********************77%************           ]  380381 of 494029 complete"
       ]
      },
      {
       "output_type": "stream",
       "stream": "stdout",
       "text": [
        "\r",
        " [**********************78%************           ]  385321 of 494029 complete"
       ]
      },
      {
       "output_type": "stream",
       "stream": "stdout",
       "text": [
        "\r",
        " [**********************79%*************          ]  390261 of 494029 complete"
       ]
      },
      {
       "output_type": "stream",
       "stream": "stdout",
       "text": [
        "\r",
        " [**********************80%*************          ]  395201 of 494029 complete"
       ]
      },
      {
       "output_type": "stream",
       "stream": "stdout",
       "text": [
        "\r",
        " [**********************81%**************         ]  400141 of 494029 complete"
       ]
      },
      {
       "output_type": "stream",
       "stream": "stdout",
       "text": [
        "\r",
        " [**********************82%**************         ]  405081 of 494029 complete"
       ]
      },
      {
       "output_type": "stream",
       "stream": "stdout",
       "text": [
        "\r",
        " [**********************83%***************        ]  410021 of 494029 complete"
       ]
      },
      {
       "output_type": "stream",
       "stream": "stdout",
       "text": [
        "\r",
        " [**********************84%***************        ]  414961 of 494029 complete"
       ]
      },
      {
       "output_type": "stream",
       "stream": "stdout",
       "text": [
        "\r",
        " [**********************85%****************       ]  419901 of 494029 complete"
       ]
      },
      {
       "output_type": "stream",
       "stream": "stdout",
       "text": [
        "\r",
        " [**********************86%****************       ]  424841 of 494029 complete"
       ]
      },
      {
       "output_type": "stream",
       "stream": "stdout",
       "text": [
        "\r",
        " [**********************87%*****************      ]  429781 of 494029 complete"
       ]
      },
      {
       "output_type": "stream",
       "stream": "stdout",
       "text": [
        "\r",
        " [**********************88%*****************      ]  434721 of 494029 complete"
       ]
      },
      {
       "output_type": "stream",
       "stream": "stdout",
       "text": [
        "\r",
        " [**********************89%******************     ]  439661 of 494029 complete"
       ]
      },
      {
       "output_type": "stream",
       "stream": "stdout",
       "text": [
        "\r",
        " [**********************90%******************     ]  444601 of 494029 complete"
       ]
      },
      {
       "output_type": "stream",
       "stream": "stdout",
       "text": [
        "\r",
        " [**********************91%*******************    ]  449541 of 494029 complete"
       ]
      },
      {
       "output_type": "stream",
       "stream": "stdout",
       "text": [
        "\r",
        " [**********************92%*******************    ]  454481 of 494029 complete"
       ]
      },
      {
       "output_type": "stream",
       "stream": "stdout",
       "text": [
        "\r",
        " [**********************93%********************   ]  459421 of 494029 complete"
       ]
      },
      {
       "output_type": "stream",
       "stream": "stdout",
       "text": [
        "\r",
        " [**********************94%********************   ]  464361 of 494029 complete"
       ]
      },
      {
       "output_type": "stream",
       "stream": "stdout",
       "text": [
        "\r",
        " [**********************95%*********************  ]  469301 of 494029 complete"
       ]
      },
      {
       "output_type": "stream",
       "stream": "stdout",
       "text": [
        "\r",
        " [**********************96%*********************  ]  474241 of 494029 complete"
       ]
      },
      {
       "output_type": "stream",
       "stream": "stdout",
       "text": [
        "\r",
        " [**********************97%********************** ]  479181 of 494029 complete"
       ]
      },
      {
       "output_type": "stream",
       "stream": "stdout",
       "text": [
        "\r",
        " [**********************98%********************** ]  484121 of 494029 complete"
       ]
      },
      {
       "output_type": "stream",
       "stream": "stdout",
       "text": [
        "\r",
        " [**********************99%***********************]  489061 of 494029 complete"
       ]
      }
     ],
     "prompt_number": 3
    },
    {
     "cell_type": "code",
     "collapsed": false,
     "input": [
      "c = TCanvas(\"c\", \"c\", 800, 1200)\n",
      "c.Divide(2, 3)\n",
      "c.cd(1)\n",
      "hGenD0VsD0.Draw(\"COLZ\")\n",
      "c.cd(2)\n",
      "hGenD0VsGenPt.Draw(\"COLZ\")\n",
      "c.cd(3)\n",
      "hD0VsPt.Draw(\"COLZ\")\n",
      "c.cd(4)\n",
      "hGenLxyVsPt.Draw(\"COLZ\")\n",
      "c.cd(5)\n",
      "hGenLxyVsGenPt.Draw(\"COLZ\")\n",
      "c.cd(6)\n",
      "hGenEta.Draw()\n",
      "c"
     ],
     "language": "python",
     "metadata": {},
     "outputs": [
      {
       "metadata": {},
       "output_type": "pyout",
       "png": "[encoded data removed]",
       "prompt_number": 4,
       "text": [
        "<ROOT.TCanvas object (\"c\") at 0x7fc69e491040>"
       ]
      }
     ],
     "prompt_number": 4
    },
    {
     "cell_type": "code",
     "collapsed": false,
     "input": [
      "cc = TCanvas(\"cc\", \"cc\", 800, 800)\n",
      "cc.Divide(2, 3)\n",
      "cc.cd(1)\n",
      "hGenPtVsPt_genD0_0_20.Draw(\"COLZ\")\n",
      "cc.cd(2)\n",
      "hGenPtVsPt_genD0_20_50.Draw(\"COLZ\")\n",
      "cc.cd(3)\n",
      "hGenPtVsPt_genD0_50_100.Draw(\"COLZ\")\n",
      "cc.cd(4)\n",
      "hGenPtVsPt_genD0_100_200.Draw(\"COLZ\")\n",
      "cc.cd(5)\n",
      "hGenPtVsPt_genD0_200.Draw(\"COLZ\")\n",
      "cc"
     ],
     "language": "python",
     "metadata": {},
     "outputs": [
      {
       "metadata": {},
       "output_type": "pyout",
       "png": "[encoded data removed]",
       "prompt_number": 5,
       "text": [
        "<ROOT.TCanvas object (\"cc\") at 0x7fc69e630860>"
       ]
      }
     ],
     "prompt_number": 5
    },
    {
     "cell_type": "code",
     "collapsed": false,
     "input": [
      "ccc = TCanvas(\"ccc\", \"ccc\", 800, 1200)\n",
      "ccc.Divide(2, 3)\n",
      "ccc.cd(1)\n",
      "hPt_genD0_0_20.Draw()\n",
      "hGenPt_genD0_0_20.Draw(\"same\")\n",
      "hGenPt_genD0_0_20.SetLineColor(2)\n",
      "ccc.cd(2)\n",
      "hPt_genD0_20_50.Draw()\n",
      "hGenPt_genD0_20_50.Draw(\"same\")\n",
      "hGenPt_genD0_20_50.SetLineColor(2)\n",
      "ccc.cd(3)\n",
      "hPt_genD0_50_100.Draw()\n",
      "hGenPt_genD0_50_100.Draw(\"same\")\n",
      "hGenPt_genD0_50_100.SetLineColor(2)\n",
      "ccc.cd(4)\n",
      "hPt_genD0_100_200.Draw()\n",
      "hGenPt_genD0_100_200.Draw(\"same\")\n",
      "hGenPt_genD0_100_200.SetLineColor(2)\n",
      "ccc.cd(5)\n",
      "hPt_genD0_200.Draw()\n",
      "hGenPt_genD0_200.Draw(\"same\")\n",
      "hGenPt_genD0_200.SetLineColor(2)\n",
      "ccc"
     ],
     "language": "python",
     "metadata": {},
     "outputs": [
      {
       "metadata": {},
       "output_type": "pyout",
       "png": "[encoded data removed]",
       "prompt_number": 6,
       "text": [
        "<ROOT.TCanvas object (\"ccc\") at 0x7fc69e3e2cf0>"
       ]
      }
     ],
     "prompt_number": 6
    },
    {
     "cell_type": "code",
     "collapsed": false,
     "input": [
      "cccc = TCanvas(\"cccc\", \"cccc\", 800, 1200)\n",
      "cccc.Divide(2, 3)\n",
      "cccc.cd(1)\n",
      "hDeltaPtOverPt_genD0_0_20.Draw()\n",
      "cccc.cd(2)\n",
      "hDeltaPtOverPt_genD0_20_50.Draw()\n",
      "cccc.cd(3)\n",
      "hDeltaPtOverPt_genD0_50_100.Draw()\n",
      "cccc.cd(4)\n",
      "hDeltaPtOverPt_genD0_100_200.Draw()\n",
      "cccc.cd(5)\n",
      "hDeltaPtOverPt_genD0_200.Draw()\n",
      "cccc.cd(6)\n",
      "cccc"
     ],
     "language": "python",
     "metadata": {},
     "outputs": [
      {
       "metadata": {},
       "output_type": "pyout",
       "png": "[encoded data removed]",
       "prompt_number": 7,
       "text": [
        "<ROOT.TCanvas object (\"cccc\") at 0x7fc69e4a0070>"
       ]
      }
     ],
     "prompt_number": 7
    },
    {
     "cell_type": "code",
     "collapsed": false,
     "input": [
      "cOverlay = TCanvas(\"cOverlay\", \"cOverlay\", 800, 800)\n",
      "h4 = hDeltaPtOverPt_genD0_200.DrawNormalized()\n",
      "h4.GetXaxis().SetTitle(\"#Delta p_{T}/p_{T}\")\n",
      "h4.GetYaxis().SetTitle(\"Arbitrary Units\")\n",
      "h4.GetYaxis().SetTitleOffset(1.3)\n",
      "h0 = hDeltaPtOverPt_genD0_0_20.DrawNormalized(\"same\")\n",
      "h1 = hDeltaPtOverPt_genD0_20_50.DrawNormalized(\"same\")\n",
      "h1.SetLineColor(2)\n",
      "h2 = hDeltaPtOverPt_genD0_50_100.DrawNormalized(\"same\")\n",
      "h2.SetLineColor(3)\n",
      "h3 = hDeltaPtOverPt_genD0_100_200.DrawNormalized(\"same\")\n",
      "h3.SetLineColor(4)\n",
      "h4.SetLineColor(6)\n",
      "\n",
      "leg = ROOT.TLegend(0.6,0.6,0.88,0.92);\n",
      "leg.AddEntry(h0,\"|d^{gen}_{0}| < 20 cm\",\"l\");\n",
      "leg.AddEntry(h1,\"20 < |d^{gen}_{0}| < 50 cm\",\"l\");\n",
      "leg.AddEntry(h2,\"50 < |d^{gen}_{0}| < 100 cm\",\"l\");\n",
      "leg.AddEntry(h3,\"100 < |d^{gen}_{0}| < 200 cm\",\"l\");\n",
      "leg.AddEntry(h4,\"|d^{gen}_{0}| > 200 cm\",\"l\");\n",
      "leg.SetFillColor(0)\n",
      "leg.SetBorderSize(0)\n",
      "leg.Draw(\"same\");\n",
      "\n",
      "cOverlay.SaveAs(\"PtBiasVsD0_StandAloneMuons.C\")\n",
      "cOverlay.SaveAs(\"PtBiasVsD0_StandAloneMuons.root\")\n",
      "cOverlay.SaveAs(\"PtBiasVsD0_StandAloneMuons.pdf\")\n",
      "\n",
      "cOverlay"
     ],
     "language": "python",
     "metadata": {},
     "outputs": [
      {
       "metadata": {},
       "output_type": "pyout",
       "png": "[encoded data removed]",
       "prompt_number": 8,
       "text": [
        "<ROOT.TCanvas object (\"cOverlay\") at 0x7fc69e3eede0>"
       ]
      }
     ],
     "prompt_number": 8
    },
    {
     "cell_type": "code",
     "collapsed": false,
     "input": [],
     "language": "python",
     "metadata": {},
     "outputs": [],
     "prompt_number": 8
    }
   ],
   "metadata": {}
  }
 ]
}