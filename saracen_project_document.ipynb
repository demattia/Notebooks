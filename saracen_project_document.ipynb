{
 "metadata": {
  "name": "saracen_project_document"
 },
 "nbformat": 3,
 "nbformat_minor": 0,
 "worksheets": [
  {
   "cells": [
    {
     "cell_type": "raw",
     "metadata": {},
     "source": [
      "Saracen Project:\n",
      "Project description:\n",
      "Determine which Transmission Line Real-time Actual Outages are predictive of which Limiting Constraints creating a statistically predictive model:\n",
      "Limiting Constraints are published as Monitored \u2013 Contingency pairs (http://mis.nyiso.com/public/P-33list.htm)\n",
      "Outages are published as Equipment Name for a given timestamp and outage start timestamp. (http://mis.nyiso.com/public/P-54Blist.htm)\n",
      " \n",
      "Requirements:\n",
      "All historical data must be downloaded, saved, and updated on an ongoing basis as raw data\n",
      "Raw data must be inserted and stored into a database, which also needs to be updated on an ongoing basis\n",
      "Results of statistical significance, including methodology, must be communicated in a succinct and easily understood format\n",
      "Please provide some simple documentation of your overall process, allowing someone else to recreate your results"
     ]
    },
    {
     "cell_type": "heading",
     "level": 1,
     "metadata": {},
     "source": [
      "0.1 Download .csv files and unzip .zip files"
     ]
    },
    {
     "cell_type": "code",
     "collapsed": false,
     "input": [
      "python UpdateCsvFiles.py constraints_url constraints_store_path outages_url outages_store_path"
     ],
     "language": "python",
     "metadata": {},
     "outputs": []
    },
    {
     "cell_type": "raw",
     "metadata": {},
     "source": [
      "ubuntu@ip-10-191-123-101:~/SaracenProject_Yu$ python UpdateCsvFiles.py \"http://mis.nyiso.com/public/P-33list.htm\" \"/tmp/\" \"http://mis.nyiso.com/public/P-54Blist.htm\" \"/tmp/\"\n",
      "Downloading.../tmp/currentLimitingConstraints.csv\n",
      "Downloading.../tmp/20131103LimitingConstraints.csv\n",
      "Downloading.../tmp/20131102LimitingConstraints.csv\n",
      "..."
     ]
    },
    {
     "cell_type": "heading",
     "level": 1,
     "metadata": {},
     "source": [
      "0.2 Merge all .csv files and modify the timestamp format "
     ]
    },
    {
     "cell_type": "code",
     "collapsed": false,
     "input": [
      "python combineCsvFiles.py outage_file_location output_file_name constraint_file_location constraint_file_name"
     ],
     "language": "python",
     "metadata": {},
     "outputs": []
    },
    {
     "cell_type": "raw",
     "metadata": {},
     "source": [
      "ubuntu@ip-10-191-123-101:~/SaracenProject_Yu$ python combineCsvFiles.py  \"/tmp/\" \"testout.csv\" \"/tmp/\" \"testout2.csv\" \n",
      "processing:/tmp/currentLimitingConstraints.csv\n",
      "processing:/tmp/20131103LimitingConstraints.csv\n",
      "..."
     ]
    },
    {
     "cell_type": "heading",
     "level": 1,
     "metadata": {},
     "source": [
      "0.3 Load merged .csv file into MySQL database"
     ]
    },
    {
     "cell_type": "code",
     "collapsed": false,
     "input": [
      "mysql"
     ],
     "language": "python",
     "metadata": {},
     "outputs": []
    },
    {
     "cell_type": "code",
     "collapsed": false,
     "input": [
      "mysql> create database testtest;"
     ],
     "language": "python",
     "metadata": {},
     "outputs": []
    },
    {
     "cell_type": "code",
     "collapsed": false,
     "input": [
      "sudo chown mysql:mysql __FILE_NAME__  #set permission to the file reading by sql"
     ],
     "language": "python",
     "metadata": {},
     "outputs": []
    },
    {
     "cell_type": "code",
     "collapsed": false,
     "input": [
      "python writeToSqlDataBase.py host_name username password database combined_constraints_file combined_outages_file"
     ],
     "language": "python",
     "metadata": {},
     "outputs": []
    },
    {
     "cell_type": "raw",
     "metadata": {},
     "source": [
      "ubuntu@ip-10-191-123-101:~/SaracenProject_Yu$ python writeToSqlDataBase2.py \"localhost\" \"root\" \"root\" \"testtest\" \"/tmp/testout.csv\" \"/tmp/testout2.csv\"\n",
      "create tables \n",
      "..."
     ]
    },
    {
     "cell_type": "heading",
     "level": 1,
     "metadata": {},
     "source": [
      "0.4 Observe the characteristic of the data"
     ]
    },
    {
     "cell_type": "code",
     "collapsed": false,
     "input": [
      "mysql> select * from CONSTRAINTS limit 10;\n",
      "+---------------------+-----------+-----------------------------+---------------+---------------------------+-----------------+\n",
      "| RECORD_TIME         | TIME_ZONE | LIMITING_FACILITY           | FACILITY_PTID | CONTINGENCY               | CONSTRAINT_COST |\n",
      "+---------------------+-----------+-----------------------------+---------------+---------------------------+-----------------+\n",
      "| 2008-03-24 00:05:00 | EDT       | AST E/CORONA/JAMAICA        |         23321 |  BASE CASE                |          18.280 |\n",
      "| 2008-03-24 00:05:00 | EDT       | GREENWD  138 VERNON   138 1 |         25337 | TWR:GOETHALS 22, 21,A2253 |          -0.020 |\n",
      "| 2008-03-24 00:15:00 | EDT       | AST E/CORONA/JAMAICA        |         23321 |  BASE CASE                |          32.990 |\n",
      "| 2008-03-24 00:35:00 | EDT       | AST E/CORONA/JAMAICA        |         23321 |  BASE CASE                |          35.820 |\n",
      "| 2008-03-24 00:40:00 | EDT       | AST E/CORONA/JAMAICA        |         23321 |  BASE CASE                |          35.990 |\n",
      "| 2008-03-24 00:45:00 | EDT       | AST E/CORONA/JAMAICA        |         23321 |  BASE CASE                |          36.800 |\n",
      "| 2008-03-24 00:50:00 | EDT       | AST E/CORONA/JAMAICA        |         23321 |  BASE CASE                |          37.140 |\n",
      "| 2008-03-24 00:55:00 | EDT       | AST E/CORONA/JAMAICA        |         23321 |  BASE CASE                |          44.470 |\n",
      "| 2008-03-24 01:00:00 | EDT       | AST E/CORONA/JAMAICA        |         23321 |  BASE CASE                |          33.470 |\n",
      "| 2008-03-24 01:05:00 | EDT       | AST E/CORONA/JAMAICA        |         23321 |  BASE CASE                |          35.720 |\n",
      "+---------------------+-----------+-----------------------------+---------------+---------------------------+-----------------+\n",
      "10 rows in set (0.00 sec)"
     ],
     "language": "python",
     "metadata": {},
     "outputs": []
    },
    {
     "cell_type": "raw",
     "metadata": {},
     "source": [
      "1. The normal interval of the timestamp of CONSTRAINTS seems to be 5 min.\n",
      "\n",
      "2. The FACILITY_PTID is a unique number signed to a LIMITING_FACILITY WITH CONTINGENCY TYPE"
     ]
    },
    {
     "cell_type": "code",
     "collapsed": false,
     "input": [
      "mysql> select * from OUTAGES limit 10;\n",
      "+---------------------+-------+-----------------------------------+---------------------+\n",
      "| RECORD_TIME         | PTID  | EQUIPMENT_NAME                    | OUTAGE_TIME         |\n",
      "+---------------------+-------+-----------------------------------+---------------------+\n",
      "| 2006-07-26 00:02:21 | 13269 | RAMAPO  345KV_35-4500-5________CB | 2005-02-01 00:00:00 |\n",
      "| 2006-07-26 00:02:21 | 13344 | EDIC_PTR230KV_R170_____________CB | 2006-07-06 17:32:00 |\n",
      "| 2006-07-26 00:02:21 | 13587 | NIAGARA 230KV_2108_____________CB | 2006-03-05 23:29:00 |\n",
      "| 2006-07-26 00:02:21 | 13597 | NIAGARA 230KV_2114_____________CB | 2006-05-12 00:01:00 |\n",
      "| 2006-07-26 00:02:21 | 13661 | PLATSBRG115KV_211B_____________CB | 2005-02-01 00:00:00 |\n",
      "| 2006-07-26 00:02:21 | 13747 | COOPERS 345KV_B2/4282__________CB | 2006-04-11 09:34:00 |\n",
      "| 2006-07-26 00:02:21 | 13804 | MOSES   230KV_2114_____________CB | 2005-03-26 18:20:00 |\n",
      "| 2006-07-26 00:02:21 | 13880 | ROSETON 345KV_C3081____________CB | 2006-07-21 23:36:00 |\n",
      "| 2006-07-26 00:02:21 | 13888 | ROSETON 345KV_C3082____________CB | 2006-07-21 23:48:00 |\n",
      "| 2006-07-26 00:02:21 | 13909 | GILBOA  345KV_3308_____________CB | 2006-06-06 06:53:00 |\n",
      "+---------------------+-------+-----------------------------------+---------------------+\n",
      "10 rows in set (0.00 sec)"
     ],
     "language": "python",
     "metadata": {},
     "outputs": []
    },
    {
     "cell_type": "raw",
     "metadata": {},
     "source": [
      "1. Each OUTAGE_TIME can be recorded multitimes.\n",
      "2. PTID is a unique number assigned to Equipment Name"
     ]
    },
    {
     "cell_type": "heading",
     "level": 3,
     "metadata": {},
     "source": [
      "Manipulate the MySQL table in preparation for further processing"
     ]
    },
    {
     "cell_type": "heading",
     "level": 4,
     "metadata": {},
     "source": [
      "1. CONSTRAINTS: aggregate the consecutive timestamps (5 min interval), record the min(record_time) and max(record_time). By doing this, each row of the new table will correspond to each time duration of any constraints exist."
     ]
    },
    {
     "cell_type": "heading",
     "level": 4,
     "metadata": {},
     "source": [
      "2. OUTAGES: group the table by PTID and outage time, record the max(record time). By doing this, each row of the table will correspond to the outage duration of each outage of any equipment"
     ]
    },
    {
     "cell_type": "code",
     "collapsed": false,
     "input": [
      "python prepareConstraints.py host_name username password database"
     ],
     "language": "python",
     "metadata": {},
     "outputs": []
    },
    {
     "cell_type": "heading",
     "level": 4,
     "metadata": {},
     "source": [
      "The outputs are written into two .csv files for future use."
     ]
    },
    {
     "cell_type": "heading",
     "level": 1,
     "metadata": {},
     "source": [
      "0.5 Find possible correlation between each outage equipment and limiting facility"
     ]
    },
    {
     "cell_type": "raw",
     "metadata": {},
     "source": [
      "Assumption:\n",
      "1. Any outage and constraint happens in the same day have the potential to be correlated. (The assumption is made mainly for simplicity, so the constraint and outage table can be joined on dates.)\n",
      "2. Outages and constraints happened together near mid-night might be unfortunately removed from the dataset but the amount is negligible.\n",
      "\n",
      "Method:\n",
      "linear regression"
     ]
    },
    {
     "cell_type": "code",
     "collapsed": false,
     "input": [
      "python calculateCorrelation.py prepared_constraints.csv prepared_outages.csv \"result.csv\""
     ],
     "language": "python",
     "metadata": {},
     "outputs": []
    },
    {
     "cell_type": "heading",
     "level": 3,
     "metadata": {},
     "source": [
      "What's in the result.csv:"
     ]
    },
    {
     "cell_type": "code",
     "collapsed": false,
     "input": [
      "import pandas"
     ],
     "language": "python",
     "metadata": {},
     "outputs": [],
     "prompt_number": 5
    },
    {
     "cell_type": "code",
     "collapsed": false,
     "input": [
      "df = pandas.DataFrame.from_csv(\"result.csv\", index_col=[0, 1])"
     ],
     "language": "python",
     "metadata": {},
     "outputs": [],
     "prompt_number": 6
    },
    {
     "cell_type": "code",
     "collapsed": false,
     "input": [
      "df[:10]"
     ],
     "language": "python",
     "metadata": {},
     "outputs": [
      {
       "html": [
        "<div style=\"max-height:1000px;max-width:1500px;overflow:auto;\">\n",
        "<table border=\"1\" class=\"dataframe\">\n",
        "  <thead>\n",
        "    <tr style=\"text-align: right;\">\n",
        "      <th></th>\n",
        "      <th></th>\n",
        "      <th>intercept</th>\n",
        "      <th>number of valid data points</th>\n",
        "      <th>p value</th>\n",
        "      <th>r value</th>\n",
        "      <th>slope</th>\n",
        "      <th>std err</th>\n",
        "      <th>intercept (end time)</th>\n",
        "      <th>number of valid data points (end time)</th>\n",
        "      <th>p value (end time)</th>\n",
        "      <th>r value (end time)</th>\n",
        "      <th>slope (end time)</th>\n",
        "      <th>std err (end time)</th>\n",
        "    </tr>\n",
        "    <tr>\n",
        "      <th>outage id</th>\n",
        "      <th>constraint id</th>\n",
        "      <th></th>\n",
        "      <th></th>\n",
        "      <th></th>\n",
        "      <th></th>\n",
        "      <th></th>\n",
        "      <th></th>\n",
        "      <th></th>\n",
        "      <th></th>\n",
        "      <th></th>\n",
        "      <th></th>\n",
        "      <th></th>\n",
        "      <th></th>\n",
        "    </tr>\n",
        "  </thead>\n",
        "  <tbody>\n",
        "    <tr>\n",
        "      <th>325601</th>\n",
        "      <th>25105 </th>\n",
        "      <td> 1.224682e+09</td>\n",
        "      <td> 242</td>\n",
        "      <td>  1.000000e+00</td>\n",
        "      <td> 0.000000</td>\n",
        "      <td> 0.000000</td>\n",
        "      <td> 0.094687</td>\n",
        "      <td> 1.224682e+09</td>\n",
        "      <td> 253</td>\n",
        "      <td>  1.000000e+00</td>\n",
        "      <td> 5.621539e-17</td>\n",
        "      <td> 6.078608e-17</td>\n",
        "      <td> 0.068251</td>\n",
        "    </tr>\n",
        "    <tr>\n",
        "      <th rowspan=\"2\" valign=\"top\">31353 </th>\n",
        "      <th>25128 </th>\n",
        "      <td>-5.972224e+06</td>\n",
        "      <td> 159</td>\n",
        "      <td>  0.000000e+00</td>\n",
        "      <td> 0.999978</td>\n",
        "      <td> 1.004350</td>\n",
        "      <td> 0.000527</td>\n",
        "      <td> 4.542724e+06</td>\n",
        "      <td> 149</td>\n",
        "      <td> 3.475172e-290</td>\n",
        "      <td> 9.999402e-01</td>\n",
        "      <td> 9.967387e-01</td>\n",
        "      <td> 0.000899</td>\n",
        "    </tr>\n",
        "    <tr>\n",
        "      <th>26425 </th>\n",
        "      <td> 8.157189e+05</td>\n",
        "      <td> 152</td>\n",
        "      <td>  0.000000e+00</td>\n",
        "      <td> 0.999994</td>\n",
        "      <td> 0.999396</td>\n",
        "      <td> 0.000272</td>\n",
        "      <td> 1.124632e+07</td>\n",
        "      <td> 151</td>\n",
        "      <td>  0.000000e+00</td>\n",
        "      <td> 9.999842e-01</td>\n",
        "      <td> 9.918741e-01</td>\n",
        "      <td> 0.000457</td>\n",
        "    </tr>\n",
        "    <tr>\n",
        "      <th>31394 </th>\n",
        "      <th>25128 </th>\n",
        "      <td>-6.946322e+05</td>\n",
        "      <td> 125</td>\n",
        "      <td> 4.987189e-225</td>\n",
        "      <td> 0.999882</td>\n",
        "      <td> 1.000516</td>\n",
        "      <td> 0.001384</td>\n",
        "      <td> 4.030254e+07</td>\n",
        "      <td> 122</td>\n",
        "      <td> 6.898682e-191</td>\n",
        "      <td> 9.996463e-01</td>\n",
        "      <td> 9.707238e-01</td>\n",
        "      <td> 0.002358</td>\n",
        "    </tr>\n",
        "    <tr>\n",
        "      <th>325525</th>\n",
        "      <th>26425 </th>\n",
        "      <td>-4.818840e+07</td>\n",
        "      <td> 123</td>\n",
        "      <td> 5.524948e-132</td>\n",
        "      <td> 0.996460</td>\n",
        "      <td> 1.034925</td>\n",
        "      <td> 0.007938</td>\n",
        "      <td>-4.810431e+07</td>\n",
        "      <td> 123</td>\n",
        "      <td> 5.303279e-132</td>\n",
        "      <td> 9.964623e-01</td>\n",
        "      <td> 1.034929e+00</td>\n",
        "      <td> 0.007935</td>\n",
        "    </tr>\n",
        "    <tr>\n",
        "      <th>31359 </th>\n",
        "      <th>325430</th>\n",
        "      <td>-1.042100e+05</td>\n",
        "      <td> 119</td>\n",
        "      <td> 1.781112e-313</td>\n",
        "      <td> 0.999998</td>\n",
        "      <td> 1.000082</td>\n",
        "      <td> 0.000201</td>\n",
        "      <td>-2.320183e+05</td>\n",
        "      <td> 121</td>\n",
        "      <td> 1.087338e-312</td>\n",
        "      <td> 9.999970e-01</td>\n",
        "      <td> 1.000217e+00</td>\n",
        "      <td> 0.000224</td>\n",
        "    </tr>\n",
        "    <tr>\n",
        "      <th>31394 </th>\n",
        "      <th>26425 </th>\n",
        "      <td> 1.188664e+06</td>\n",
        "      <td> 118</td>\n",
        "      <td> 3.554386e-303</td>\n",
        "      <td> 0.999997</td>\n",
        "      <td> 0.999108</td>\n",
        "      <td> 0.000234</td>\n",
        "      <td>-1.130425e+05</td>\n",
        "      <td> 126</td>\n",
        "      <td> 5.243945e-271</td>\n",
        "      <td> 9.999772e-01</td>\n",
        "      <td> 1.000132e+00</td>\n",
        "      <td> 0.000607</td>\n",
        "    </tr>\n",
        "    <tr>\n",
        "      <th>31336 </th>\n",
        "      <th>26425 </th>\n",
        "      <td> 9.996795e+05</td>\n",
        "      <td> 116</td>\n",
        "      <td> 2.030401e-261</td>\n",
        "      <td> 0.999986</td>\n",
        "      <td> 0.999258</td>\n",
        "      <td> 0.000495</td>\n",
        "      <td> 1.030515e+06</td>\n",
        "      <td> 119</td>\n",
        "      <td> 4.243004e-259</td>\n",
        "      <td> 9.999800e-01</td>\n",
        "      <td> 9.992858e-01</td>\n",
        "      <td> 0.000585</td>\n",
        "    </tr>\n",
        "    <tr>\n",
        "      <th>31400 </th>\n",
        "      <th>25128 </th>\n",
        "      <td> 3.559969e+05</td>\n",
        "      <td> 115</td>\n",
        "      <td> 3.902059e-249</td>\n",
        "      <td> 0.999979</td>\n",
        "      <td> 0.999730</td>\n",
        "      <td> 0.000610</td>\n",
        "      <td>-9.571399e+06</td>\n",
        "      <td> 115</td>\n",
        "      <td> 7.137012e-203</td>\n",
        "      <td> 9.998616e-01</td>\n",
        "      <td> 1.007018e+00</td>\n",
        "      <td> 0.001576</td>\n",
        "    </tr>\n",
        "    <tr>\n",
        "      <th>31336 </th>\n",
        "      <th>25128 </th>\n",
        "      <td>-4.425963e+06</td>\n",
        "      <td> 111</td>\n",
        "      <td> 4.405647e-236</td>\n",
        "      <td> 0.999975</td>\n",
        "      <td> 1.003216</td>\n",
        "      <td> 0.000682</td>\n",
        "      <td>-1.146668e+07</td>\n",
        "      <td> 142</td>\n",
        "      <td> 1.312049e-217</td>\n",
        "      <td> 9.995855e-01</td>\n",
        "      <td> 1.008425e+00</td>\n",
        "      <td> 0.002455</td>\n",
        "    </tr>\n",
        "  </tbody>\n",
        "</table>\n",
        "</div>"
       ],
       "output_type": "pyout",
       "prompt_number": 7,
       "text": [
        "                            intercept  number of valid data points        p value  \\\n",
        "outage id constraint id                                                             \n",
        "325601    25105          1.224682e+09                          242   1.000000e+00   \n",
        "31353     25128         -5.972224e+06                          159   0.000000e+00   \n",
        "          26425          8.157189e+05                          152   0.000000e+00   \n",
        "31394     25128         -6.946322e+05                          125  4.987189e-225   \n",
        "325525    26425         -4.818840e+07                          123  5.524948e-132   \n",
        "31359     325430        -1.042100e+05                          119  1.781112e-313   \n",
        "31394     26425          1.188664e+06                          118  3.554386e-303   \n",
        "31336     26425          9.996795e+05                          116  2.030401e-261   \n",
        "31400     25128          3.559969e+05                          115  3.902059e-249   \n",
        "31336     25128         -4.425963e+06                          111  4.405647e-236   \n",
        "\n",
        "                          r value     slope   std err  intercept (end time)  \\\n",
        "outage id constraint id                                                       \n",
        "325601    25105          0.000000  0.000000  0.094687          1.224682e+09   \n",
        "31353     25128          0.999978  1.004350  0.000527          4.542724e+06   \n",
        "          26425          0.999994  0.999396  0.000272          1.124632e+07   \n",
        "31394     25128          0.999882  1.000516  0.001384          4.030254e+07   \n",
        "325525    26425          0.996460  1.034925  0.007938         -4.810431e+07   \n",
        "31359     325430         0.999998  1.000082  0.000201         -2.320183e+05   \n",
        "31394     26425          0.999997  0.999108  0.000234         -1.130425e+05   \n",
        "31336     26425          0.999986  0.999258  0.000495          1.030515e+06   \n",
        "31400     25128          0.999979  0.999730  0.000610         -9.571399e+06   \n",
        "31336     25128          0.999975  1.003216  0.000682         -1.146668e+07   \n",
        "\n",
        "                         number of valid data points (end time)  \\\n",
        "outage id constraint id                                           \n",
        "325601    25105                                             253   \n",
        "31353     25128                                             149   \n",
        "          26425                                             151   \n",
        "31394     25128                                             122   \n",
        "325525    26425                                             123   \n",
        "31359     325430                                            121   \n",
        "31394     26425                                             126   \n",
        "31336     26425                                             119   \n",
        "31400     25128                                             115   \n",
        "31336     25128                                             142   \n",
        "\n",
        "                         p value (end time)  r value (end time)  slope (end time)  \\\n",
        "outage id constraint id                                                             \n",
        "325601    25105                1.000000e+00        5.621539e-17      6.078608e-17   \n",
        "31353     25128               3.475172e-290        9.999402e-01      9.967387e-01   \n",
        "          26425                0.000000e+00        9.999842e-01      9.918741e-01   \n",
        "31394     25128               6.898682e-191        9.996463e-01      9.707238e-01   \n",
        "325525    26425               5.303279e-132        9.964623e-01      1.034929e+00   \n",
        "31359     325430              1.087338e-312        9.999970e-01      1.000217e+00   \n",
        "31394     26425               5.243945e-271        9.999772e-01      1.000132e+00   \n",
        "31336     26425               4.243004e-259        9.999800e-01      9.992858e-01   \n",
        "31400     25128               7.137012e-203        9.998616e-01      1.007018e+00   \n",
        "31336     25128               1.312049e-217        9.995855e-01      1.008425e+00   \n",
        "\n",
        "                         std err (end time)  \n",
        "outage id constraint id                      \n",
        "325601    25105                    0.068251  \n",
        "31353     25128                    0.000899  \n",
        "          26425                    0.000457  \n",
        "31394     25128                    0.002358  \n",
        "325525    26425                    0.007935  \n",
        "31359     325430                   0.000224  \n",
        "31394     26425                    0.000607  \n",
        "31336     26425                    0.000585  \n",
        "31400     25128                    0.001576  \n",
        "31336     25128                    0.002455  "
       ]
      }
     ],
     "prompt_number": 7
    },
    {
     "cell_type": "raw",
     "metadata": {},
     "source": [
      "The results are presented as, for a given \"outage id\" and a given \"constraint id\", how siginificant they are linear correlatate in their start time and end time. The results are ordered by \"number of valid data points\". The more data points there are, the more robust the result is. \n",
      "\"intercept\", \"p value\", \"r value\", \"slope\", \"std err\" are results from the linear regression of the outage time (start/end) and the contraint time (start end).\n",
      "The unit of intercept is \"seconds\"!\n",
      "The most informative parameters are \"r value\" and \"p value\". The closer to 1 the \"r value\",  the more linear correlated the two variables are. The closer to 0 the \"p value\" is, the more confident the linear correlation exists.  "
     ]
    },
    {
     "cell_type": "heading",
     "level": 3,
     "metadata": {},
     "source": [
      "Which outage are predictive of which constraints?"
     ]
    },
    {
     "cell_type": "raw",
     "metadata": {},
     "source": [
      "I apply the selections below to the full result report above:\n",
      "1. |r value| > 0.95 (give r_squared > 0.9)\n",
      "2. p value < 0.05 (95% confidential)\n",
      "3. order by number of valid data points desc"
     ]
    },
    {
     "cell_type": "code",
     "collapsed": false,
     "input": [
      "df = df[df['r value'] > 0.95]"
     ],
     "language": "python",
     "metadata": {},
     "outputs": [],
     "prompt_number": 8
    },
    {
     "cell_type": "code",
     "collapsed": false,
     "input": [
      "df = df[df['p value'] < 0.05]"
     ],
     "language": "python",
     "metadata": {},
     "outputs": [],
     "prompt_number": 9
    },
    {
     "cell_type": "code",
     "collapsed": false,
     "input": [
      "df = df[df['r value (end time)'] > 0.95]"
     ],
     "language": "python",
     "metadata": {},
     "outputs": [],
     "prompt_number": 10
    },
    {
     "cell_type": "code",
     "collapsed": false,
     "input": [
      "df = df[df['p value (end time)'] < 0.05]"
     ],
     "language": "python",
     "metadata": {},
     "outputs": [],
     "prompt_number": 11
    },
    {
     "cell_type": "code",
     "collapsed": false,
     "input": [
      "df[:10]"
     ],
     "language": "python",
     "metadata": {},
     "outputs": [
      {
       "html": [
        "<div style=\"max-height:1000px;max-width:1500px;overflow:auto;\">\n",
        "<table border=\"1\" class=\"dataframe\">\n",
        "  <thead>\n",
        "    <tr style=\"text-align: right;\">\n",
        "      <th></th>\n",
        "      <th></th>\n",
        "      <th>intercept</th>\n",
        "      <th>number of valid data points</th>\n",
        "      <th>p value</th>\n",
        "      <th>r value</th>\n",
        "      <th>slope</th>\n",
        "      <th>std err</th>\n",
        "      <th>intercept (end time)</th>\n",
        "      <th>number of valid data points (end time)</th>\n",
        "      <th>p value (end time)</th>\n",
        "      <th>r value (end time)</th>\n",
        "      <th>slope (end time)</th>\n",
        "      <th>std err (end time)</th>\n",
        "    </tr>\n",
        "    <tr>\n",
        "      <th>outage id</th>\n",
        "      <th>constraint id</th>\n",
        "      <th></th>\n",
        "      <th></th>\n",
        "      <th></th>\n",
        "      <th></th>\n",
        "      <th></th>\n",
        "      <th></th>\n",
        "      <th></th>\n",
        "      <th></th>\n",
        "      <th></th>\n",
        "      <th></th>\n",
        "      <th></th>\n",
        "      <th></th>\n",
        "    </tr>\n",
        "  </thead>\n",
        "  <tbody>\n",
        "    <tr>\n",
        "      <th rowspan=\"2\" valign=\"top\">31353 </th>\n",
        "      <th>25128 </th>\n",
        "      <td> -5972223.980478</td>\n",
        "      <td> 159</td>\n",
        "      <td>  0.000000e+00</td>\n",
        "      <td> 0.999978</td>\n",
        "      <td> 1.004350</td>\n",
        "      <td> 0.000527</td>\n",
        "      <td>  4542724.115252</td>\n",
        "      <td> 149</td>\n",
        "      <td> 3.475172e-290</td>\n",
        "      <td> 0.999940</td>\n",
        "      <td> 0.996739</td>\n",
        "      <td> 0.000899</td>\n",
        "    </tr>\n",
        "    <tr>\n",
        "      <th>26425 </th>\n",
        "      <td>   815718.866164</td>\n",
        "      <td> 152</td>\n",
        "      <td>  0.000000e+00</td>\n",
        "      <td> 0.999994</td>\n",
        "      <td> 0.999396</td>\n",
        "      <td> 0.000272</td>\n",
        "      <td> 11246315.028136</td>\n",
        "      <td> 151</td>\n",
        "      <td>  0.000000e+00</td>\n",
        "      <td> 0.999984</td>\n",
        "      <td> 0.991874</td>\n",
        "      <td> 0.000457</td>\n",
        "    </tr>\n",
        "    <tr>\n",
        "      <th>31394 </th>\n",
        "      <th>25128 </th>\n",
        "      <td>  -694632.230554</td>\n",
        "      <td> 125</td>\n",
        "      <td> 4.987189e-225</td>\n",
        "      <td> 0.999882</td>\n",
        "      <td> 1.000516</td>\n",
        "      <td> 0.001384</td>\n",
        "      <td> 40302538.902516</td>\n",
        "      <td> 122</td>\n",
        "      <td> 6.898682e-191</td>\n",
        "      <td> 0.999646</td>\n",
        "      <td> 0.970724</td>\n",
        "      <td> 0.002358</td>\n",
        "    </tr>\n",
        "    <tr>\n",
        "      <th>325525</th>\n",
        "      <th>26425 </th>\n",
        "      <td>-48188395.192319</td>\n",
        "      <td> 123</td>\n",
        "      <td> 5.524948e-132</td>\n",
        "      <td> 0.996460</td>\n",
        "      <td> 1.034925</td>\n",
        "      <td> 0.007938</td>\n",
        "      <td>-48104306.158476</td>\n",
        "      <td> 123</td>\n",
        "      <td> 5.303279e-132</td>\n",
        "      <td> 0.996462</td>\n",
        "      <td> 1.034929</td>\n",
        "      <td> 0.007935</td>\n",
        "    </tr>\n",
        "    <tr>\n",
        "      <th>31359 </th>\n",
        "      <th>325430</th>\n",
        "      <td>  -104209.990746</td>\n",
        "      <td> 119</td>\n",
        "      <td> 1.781112e-313</td>\n",
        "      <td> 0.999998</td>\n",
        "      <td> 1.000082</td>\n",
        "      <td> 0.000201</td>\n",
        "      <td>  -232018.267872</td>\n",
        "      <td> 121</td>\n",
        "      <td> 1.087338e-312</td>\n",
        "      <td> 0.999997</td>\n",
        "      <td> 1.000217</td>\n",
        "      <td> 0.000224</td>\n",
        "    </tr>\n",
        "    <tr>\n",
        "      <th>31394 </th>\n",
        "      <th>26425 </th>\n",
        "      <td>  1188664.489274</td>\n",
        "      <td> 118</td>\n",
        "      <td> 3.554386e-303</td>\n",
        "      <td> 0.999997</td>\n",
        "      <td> 0.999108</td>\n",
        "      <td> 0.000234</td>\n",
        "      <td>  -113042.533900</td>\n",
        "      <td> 126</td>\n",
        "      <td> 5.243945e-271</td>\n",
        "      <td> 0.999977</td>\n",
        "      <td> 1.000132</td>\n",
        "      <td> 0.000607</td>\n",
        "    </tr>\n",
        "    <tr>\n",
        "      <th>31336 </th>\n",
        "      <th>26425 </th>\n",
        "      <td>   999679.461103</td>\n",
        "      <td> 116</td>\n",
        "      <td> 2.030401e-261</td>\n",
        "      <td> 0.999986</td>\n",
        "      <td> 0.999258</td>\n",
        "      <td> 0.000495</td>\n",
        "      <td>  1030514.927126</td>\n",
        "      <td> 119</td>\n",
        "      <td> 4.243004e-259</td>\n",
        "      <td> 0.999980</td>\n",
        "      <td> 0.999286</td>\n",
        "      <td> 0.000585</td>\n",
        "    </tr>\n",
        "    <tr>\n",
        "      <th>31400 </th>\n",
        "      <th>25128 </th>\n",
        "      <td>   355996.876702</td>\n",
        "      <td> 115</td>\n",
        "      <td> 3.902059e-249</td>\n",
        "      <td> 0.999979</td>\n",
        "      <td> 0.999730</td>\n",
        "      <td> 0.000610</td>\n",
        "      <td> -9571399.014518</td>\n",
        "      <td> 115</td>\n",
        "      <td> 7.137012e-203</td>\n",
        "      <td> 0.999862</td>\n",
        "      <td> 1.007018</td>\n",
        "      <td> 0.001576</td>\n",
        "    </tr>\n",
        "    <tr>\n",
        "      <th>31336 </th>\n",
        "      <th>25128 </th>\n",
        "      <td> -4425963.121585</td>\n",
        "      <td> 111</td>\n",
        "      <td> 4.405647e-236</td>\n",
        "      <td> 0.999975</td>\n",
        "      <td> 1.003216</td>\n",
        "      <td> 0.000682</td>\n",
        "      <td>-11466682.709844</td>\n",
        "      <td> 142</td>\n",
        "      <td> 1.312049e-217</td>\n",
        "      <td> 0.999586</td>\n",
        "      <td> 1.008425</td>\n",
        "      <td> 0.002455</td>\n",
        "    </tr>\n",
        "    <tr>\n",
        "      <th>31357 </th>\n",
        "      <th>325430</th>\n",
        "      <td>    89460.260926</td>\n",
        "      <td> 105</td>\n",
        "      <td> 1.521150e-274</td>\n",
        "      <td> 0.999997</td>\n",
        "      <td> 0.999934</td>\n",
        "      <td> 0.000222</td>\n",
        "      <td>   112951.500759</td>\n",
        "      <td> 121</td>\n",
        "      <td> 1.503087e-306</td>\n",
        "      <td> 0.999996</td>\n",
        "      <td> 0.999933</td>\n",
        "      <td> 0.000252</td>\n",
        "    </tr>\n",
        "  </tbody>\n",
        "</table>\n",
        "</div>"
       ],
       "output_type": "pyout",
       "prompt_number": 12,
       "text": [
        "                               intercept  number of valid data points  \\\n",
        "outage id constraint id                                                 \n",
        "31353     25128          -5972223.980478                          159   \n",
        "          26425            815718.866164                          152   \n",
        "31394     25128           -694632.230554                          125   \n",
        "325525    26425         -48188395.192319                          123   \n",
        "31359     325430          -104209.990746                          119   \n",
        "31394     26425           1188664.489274                          118   \n",
        "31336     26425            999679.461103                          116   \n",
        "31400     25128            355996.876702                          115   \n",
        "31336     25128          -4425963.121585                          111   \n",
        "31357     325430            89460.260926                          105   \n",
        "\n",
        "                               p value   r value     slope   std err  \\\n",
        "outage id constraint id                                                \n",
        "31353     25128           0.000000e+00  0.999978  1.004350  0.000527   \n",
        "          26425           0.000000e+00  0.999994  0.999396  0.000272   \n",
        "31394     25128          4.987189e-225  0.999882  1.000516  0.001384   \n",
        "325525    26425          5.524948e-132  0.996460  1.034925  0.007938   \n",
        "31359     325430         1.781112e-313  0.999998  1.000082  0.000201   \n",
        "31394     26425          3.554386e-303  0.999997  0.999108  0.000234   \n",
        "31336     26425          2.030401e-261  0.999986  0.999258  0.000495   \n",
        "31400     25128          3.902059e-249  0.999979  0.999730  0.000610   \n",
        "31336     25128          4.405647e-236  0.999975  1.003216  0.000682   \n",
        "31357     325430         1.521150e-274  0.999997  0.999934  0.000222   \n",
        "\n",
        "                         intercept (end time)  \\\n",
        "outage id constraint id                         \n",
        "31353     25128                4542724.115252   \n",
        "          26425               11246315.028136   \n",
        "31394     25128               40302538.902516   \n",
        "325525    26425              -48104306.158476   \n",
        "31359     325430               -232018.267872   \n",
        "31394     26425                -113042.533900   \n",
        "31336     26425                1030514.927126   \n",
        "31400     25128               -9571399.014518   \n",
        "31336     25128              -11466682.709844   \n",
        "31357     325430                112951.500759   \n",
        "\n",
        "                         number of valid data points (end time)  \\\n",
        "outage id constraint id                                           \n",
        "31353     25128                                             149   \n",
        "          26425                                             151   \n",
        "31394     25128                                             122   \n",
        "325525    26425                                             123   \n",
        "31359     325430                                            121   \n",
        "31394     26425                                             126   \n",
        "31336     26425                                             119   \n",
        "31400     25128                                             115   \n",
        "31336     25128                                             142   \n",
        "31357     325430                                            121   \n",
        "\n",
        "                         p value (end time)  r value (end time)  slope (end time)  \\\n",
        "outage id constraint id                                                             \n",
        "31353     25128               3.475172e-290            0.999940          0.996739   \n",
        "          26425                0.000000e+00            0.999984          0.991874   \n",
        "31394     25128               6.898682e-191            0.999646          0.970724   \n",
        "325525    26425               5.303279e-132            0.996462          1.034929   \n",
        "31359     325430              1.087338e-312            0.999997          1.000217   \n",
        "31394     26425               5.243945e-271            0.999977          1.000132   \n",
        "31336     26425               4.243004e-259            0.999980          0.999286   \n",
        "31400     25128               7.137012e-203            0.999862          1.007018   \n",
        "31336     25128               1.312049e-217            0.999586          1.008425   \n",
        "31357     325430              1.503087e-306            0.999996          0.999933   \n",
        "\n",
        "                         std err (end time)  \n",
        "outage id constraint id                      \n",
        "31353     25128                    0.000899  \n",
        "          26425                    0.000457  \n",
        "31394     25128                    0.002358  \n",
        "325525    26425                    0.007935  \n",
        "31359     325430                   0.000224  \n",
        "31394     26425                    0.000607  \n",
        "31336     26425                    0.000585  \n",
        "31400     25128                    0.001576  \n",
        "31336     25128                    0.002455  \n",
        "31357     325430                   0.000252  "
       ]
      }
     ],
     "prompt_number": 12
    },
    {
     "cell_type": "code",
     "collapsed": false,
     "input": [
      "df"
     ],
     "language": "python",
     "metadata": {},
     "outputs": [
      {
       "output_type": "pyout",
       "prompt_number": 13,
       "text": [
        "<class 'pandas.core.frame.DataFrame'>\n",
        "MultiIndex: 658 entries, (31353.0, 25128.0) to (31349.0, 25457.0)\n",
        "Data columns:\n",
        "intercept                                 658  non-null values\n",
        "number of valid data points               658  non-null values\n",
        "p value                                   658  non-null values\n",
        "r value                                   658  non-null values\n",
        "slope                                     658  non-null values\n",
        "std err                                   658  non-null values\n",
        "intercept (end time)                      658  non-null values\n",
        "number of valid data points (end time)    658  non-null values\n",
        "p value (end time)                        658  non-null values\n",
        "r value (end time)                        658  non-null values\n",
        "slope (end time)                          658  non-null values\n",
        "std err (end time)                        658  non-null values\n",
        "dtypes: float64(10), int64(2)"
       ]
      }
     ],
     "prompt_number": 13
    },
    {
     "cell_type": "raw",
     "metadata": {},
     "source": [
      "The above data frame is the final result. It gives you the correlated outage_id and constraint_id pair, ordered by the amount of data participating in making the decision.\n",
      "If you would like to know for a given outage id, which contraints might be able to predict it, do:"
     ]
    },
    {
     "cell_type": "code",
     "collapsed": false,
     "input": [
      "df.ix[outage_id].index"
     ],
     "language": "python",
     "metadata": {},
     "outputs": []
    },
    {
     "cell_type": "code",
     "collapsed": false,
     "input": [
      "df.ix[31336].index"
     ],
     "language": "python",
     "metadata": {},
     "outputs": [
      {
       "output_type": "pyout",
       "prompt_number": 17,
       "text": [
        "Index([26425.0, 25128.0, 23319.0, 25190.0, 23326.0, 23332.0, 325430.0, 25586.0, 25168.0, 25278.0, 25277.0, 25175.0, 25182.0, 25296.0, 25060.0, 25440.0, 25288.0, 25457.0, 25251.0, 25533.0], dtype=object)"
       ]
      }
     ],
     "prompt_number": 17
    },
    {
     "cell_type": "heading",
     "level": 1,
     "metadata": {},
     "source": [
      "0.6 (OPTIONAL) Plot the correlation beween any given outage id and constraint id"
     ]
    },
    {
     "cell_type": "raw",
     "metadata": {},
     "source": [
      "In the command line:"
     ]
    },
    {
     "cell_type": "code",
     "collapsed": false,
     "input": [
      "python makeCorrelationPlots.py prepared_constraints_file_name prepared_outages_file_name "
     ],
     "language": "python",
     "metadata": {},
     "outputs": []
    },
    {
     "cell_type": "heading",
     "level": 3,
     "metadata": {},
     "source": [
      "In ipython notebook example:"
     ]
    },
    {
     "cell_type": "code",
     "collapsed": false,
     "input": [
      "import pandas\n",
      "import makeCorrelationPlots\n",
      "import calculateCorrelation"
     ],
     "language": "python",
     "metadata": {},
     "outputs": [],
     "prompt_number": 1
    },
    {
     "cell_type": "code",
     "collapsed": false,
     "input": [
      "df_constraints = pandas.DataFrame.from_csv(\"prepared_constraints.csv\")\n",
      "df_outages = pandas.DataFrame.from_csv(\"prepared_outages.csv\")\n",
      "df_joined, df_joined_end_time = calculateCorrelation.join_dataset(df_constraints, df_outages)"
     ],
     "language": "python",
     "metadata": {},
     "outputs": [
      {
       "output_type": "stream",
       "stream": "stderr",
       "text": [
        "/opt/local/Library/Frameworks/Python.framework/Versions/2.7/lib/python2.7/site-packages/pandas/core/frame.py:2762: FutureWarning: set_index with inplace=True  will return None from pandas 0.11 onward\n",
        "  \" from pandas 0.11 onward\", FutureWarning)\n"
       ]
      }
     ],
     "prompt_number": 2
    },
    {
     "cell_type": "code",
     "collapsed": false,
     "input": [
      "makeCorrelationPlots.plot(df_joined, df_joined_end_time, 31353, 25128)"
     ],
     "language": "python",
     "metadata": {},
     "outputs": [
      {
       "output_type": "display_data",
       "png": "[encoded data removed]"
      }
     ],
     "prompt_number": 3
    },
    {
     "cell_type": "code",
     "collapsed": false,
     "input": [],
     "language": "python",
     "metadata": {},
     "outputs": []
    }
   ],
   "metadata": {}
  }
 ]
}