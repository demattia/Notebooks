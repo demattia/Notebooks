{
 "metadata": {
  "name": "",
  "signature": "sha256:b78078ef0f0da4c3e8ed72d4821d4ba0d49c5fdd99cfe830e9e079b5d7aadb15"
 },
 "nbformat": 3,
 "nbformat_minor": 0,
 "worksheets": [
  {
   "cells": [
    {
     "cell_type": "heading",
     "level": 1,
     "metadata": {},
     "source": [
      "Test Notebook"
     ]
    },
    {
     "cell_type": "markdown",
     "metadata": {},
     "source": [
      "This is a new notebook used for testing"
     ]
    },
    {
     "cell_type": "code",
     "collapsed": false,
     "input": [
      "ls"
     ],
     "language": "python",
     "metadata": {},
     "outputs": [
      {
       "output_type": "stream",
       "stream": "stdout",
       "text": [
        "Untitled0.ipynb\r\n"
       ]
      }
     ],
     "prompt_number": 3
    },
    {
     "cell_type": "code",
     "collapsed": false,
     "input": [
      "# ls ../cmslpc/eos/uscms/store/user/lpcdve/noreplica/DisplacedLeptons/DYJets10_pat_20140328/demattia/DYJetsToLL_M-10To50_TuneZ2Star_8TeV-madgraph/DYJets10_pat_20140328/5fe3dadd93bf8608b396f970098158ed/\n"
     ],
     "language": "python",
     "metadata": {},
     "outputs": [],
     "prompt_number": 5
    },
    {
     "cell_type": "code",
     "collapsed": false,
     "input": [],
     "language": "python",
     "metadata": {},
     "outputs": []
    }
   ],
   "metadata": {}
  }
 ]
}