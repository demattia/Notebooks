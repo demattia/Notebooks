{
 "metadata": {
  "name": "",
  "signature": "sha256:8cd6350fb671c9be66d19261427dbbc43cdcdd1e6e7aebcdac22c92891436f32"
 },
 "nbformat": 3,
 "nbformat_minor": 0,
 "worksheets": [
  {
   "cells": [
    {
     "cell_type": "code",
     "collapsed": false,
     "input": [
      "import ROOT\n",
      "import rootnotes\n",
      "import rootprint"
     ],
     "language": "python",
     "metadata": {},
     "outputs": [],
     "prompt_number": 15
    },
    {
     "cell_type": "code",
     "collapsed": false,
     "input": [
      "input_file = ROOT.TFile(\"/home/demattia/cmslpc/uscmst1b_scratch/lpc1/3DayLifetime/demattia/crab_0_140701_105522/res/tagAndProbe_Data_101_1_RBQ.root\")\n"
     ],
     "language": "python",
     "metadata": {},
     "outputs": [],
     "prompt_number": 16
    },
    {
     "cell_type": "code",
     "collapsed": false,
     "input": [
      "%%rootprint\n",
      "input_file.ls()"
     ],
     "language": "python",
     "metadata": {},
     "outputs": [
      {
       "output_type": "stream",
       "stream": "stdout",
       "text": [
        "TFile**\t\t/home/demattia/cmslpc/uscmst1b_scratch/lpc1/3DayLifetime/demattia/crab_0_140701_105522/res/tagAndProbe_Data_101_1_RBQ.root\t\n",
        " TFile*\t\t/home/demattia/cmslpc/uscmst1b_scratch/lpc1/3DayLifetime/demattia/crab_0_140701_105522/res/tagAndProbe_Data_101_1_RBQ.root\t\n",
        "  KEY: TTree\tT;1\tMuonsTree\n",
        "\n"
       ]
      }
     ],
     "prompt_number": 17
    },
    {
     "cell_type": "code",
     "collapsed": false,
     "input": [],
     "language": "python",
     "metadata": {},
     "outputs": []
    }
   ],
   "metadata": {}
  }
 ]
}