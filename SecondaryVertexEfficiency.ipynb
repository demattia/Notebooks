{
 "metadata": {
  "name": "",
  "signature": "sha256:07c28d68e47ac1bd7fa4d3388ea79697edd2031a3a13acf71654c9b38ef00d46"
 },
 "nbformat": 3,
 "nbformat_minor": 0,
 "worksheets": [
  {
   "cells": [
    {
     "cell_type": "heading",
     "level": 1,
     "metadata": {},
     "source": [
      "Secondary Vertex Reconstruction Efficiency"
     ]
    },
    {
     "cell_type": "code",
     "collapsed": false,
     "input": [
      "import ROOT\n",
      "from ROOT import TCanvas\n",
      "import rootprint\n",
      "import rootnotes\n",
      "from array import array"
     ],
     "language": "python",
     "metadata": {},
     "outputs": [],
     "prompt_number": 1
    },
    {
     "cell_type": "code",
     "collapsed": false,
     "input": [
      "ROOT.gStyle.SetOptStat(0000000)"
     ],
     "language": "python",
     "metadata": {},
     "outputs": [],
     "prompt_number": 2
    },
    {
     "cell_type": "code",
     "collapsed": false,
     "input": [
      "inputFile = ROOT.TFile(\"/home/demattia/cmslpc/uscms_data/d3/demattia/DisplacedLeptons/RefittedStandAloneMuons/Analysis/CMSSW_5_3_8/src/AnalysisMacros/Latest_Version_Code_June_19/WeightedFiles/HTo2LongLivedTo4F_MH400_MFF50_CTau8To800_analysis_20140602_weighted_2saMu.root\")\n",
      "\n",
      "# inputFile = ROOT.TFile(\"/home/demattia/cmslpc/uscms_data/d3/demattia/DisplacedLeptons/RefittedStandAloneMuons/Analysis/CMSSW_5_3_8/src/AnalysisMacros/Latest_Version_Code_June_19/WeightedFiles_NoTrigger/HTo2LongLivedTo4F_MH400_MFF50_CTau8To800_analysis_20140602_weighted_2saMu.root\")\n",
      "\n",
      "# inputFile = ROOT.TFile(\"/home/demattia/cmslpc/uscms_data/d3/demattia/DisplacedLeptons/RefittedStandAloneMuons/Analysis/CMSSW_5_3_8/src/AnalysisMacros/Latest_Version_Code_June_19/WeightedFiles_Trigger/HTo2LongLivedTo4F_MH400_MFF50_CTau8To800_analysis_20140602_weighted_2saMu.root\")\n",
      "\n"
     ],
     "language": "python",
     "metadata": {},
     "outputs": [],
     "prompt_number": 3
    },
    {
     "cell_type": "markdown",
     "metadata": {},
     "source": [
      "We first plot the distributions of reconstructed Lxy vs generated Lxy. This is done for reconstructed candidates that are matched to the generated ones. We also show the distribution of the LxyError as estimate by the SV fit vs the genLxy and the Lxy significance vs gen Lxy."
     ]
    },
    {
     "cell_type": "code",
     "collapsed": false,
     "input": [
      "reco_Lxy_gen_Lxy = inputFile.Get(\"reco_Lxy_gen_Lxy\")\n",
      "reco_LxyError_gen_Lxy = inputFile.Get(\"reco_LxyError_gen_Lxy\")\n",
      "reco_LxySig_gen_Lxy = inputFile.Get(\"reco_LxySig_gen_Lxy\")\n",
      "\n",
      "cDist = ROOT.TCanvas(\"\", \"\", 400, 400)\n",
      "reco_Lxy_gen_Lxy.Draw()\n",
      "reco_Lxy_gen_Lxy.SetTitle(\"\")\n",
      "cDist.SaveAs(\"reco_Lxy_gen_Lxy.root\")\n",
      "cDist.SaveAs(\"reco_Lxy_gen_Lxy.pdf\")\n",
      "cDist"
     ],
     "language": "python",
     "metadata": {},
     "outputs": [
      {
       "metadata": {},
       "output_type": "pyout",
       "png": "[encoded data removed]",
       "prompt_number": 4,
       "text": [
        "<ROOT.TCanvas object at 0x37efdf0>"
       ]
      }
     ],
     "prompt_number": 4
    },
    {
     "cell_type": "code",
     "collapsed": false,
     "input": [
      "cDist2 = ROOT.TCanvas(\"\", \"\", 400, 400)\n",
      "reco_LxyError_gen_Lxy.Draw()\n",
      "reco_LxyError_gen_Lxy.SetTitle(\"\")\n",
      "cDist2.SaveAs(\"reco_LxyError_gen_Lxy.root\")\n",
      "cDist2.SaveAs(\"reco_LxyError_gen_Lxy.pdf\")\n",
      "cDist2"
     ],
     "language": "python",
     "metadata": {},
     "outputs": [
      {
       "output_type": "stream",
       "stream": "stderr",
       "text": [
        "TCanvas::Constructor:0: RuntimeWarning: Deleting canvas with same name: \n"
       ]
      },
      {
       "metadata": {},
       "output_type": "pyout",
       "png": "[encoded data removed]",
       "prompt_number": 5,
       "text": [
        "<ROOT.TCanvas object at 0x3958c80>"
       ]
      }
     ],
     "prompt_number": 5
    },
    {
     "cell_type": "code",
     "collapsed": false,
     "input": [
      "cDist3 = ROOT.TCanvas(\"\", \"\", 400, 400)\n",
      "reco_LxySig_gen_Lxy.Draw()\n",
      "reco_LxySig_gen_Lxy.SetTitle(\"\")\n",
      "cDist3.SaveAs(\"reco_LxySig_gen_Lxy.root\")\n",
      "cDist3.SaveAs(\"reco_LxySig_gen_Lxy.pdf\")\n",
      "cDist3"
     ],
     "language": "python",
     "metadata": {},
     "outputs": [
      {
       "output_type": "stream",
       "stream": "stderr",
       "text": [
        "TCanvas::Constructor:0: RuntimeWarning: Deleting canvas with same name: \n"
       ]
      },
      {
       "metadata": {},
       "output_type": "pyout",
       "png": "[encoded data removed]",
       "prompt_number": 6,
       "text": [
        "<ROOT.TCanvas object at 0x396d300>"
       ]
      }
     ],
     "prompt_number": 6
    },
    {
     "cell_type": "heading",
     "level": 2,
     "metadata": {},
     "source": [
      "Secondary Vertex Reconstruction Efficiency in Signal MC"
     ]
    },
    {
     "cell_type": "markdown",
     "metadata": {},
     "source": [
      "We study the SV reconstruction efficiency relative to the track reconstruction efficiency. We consider all reconstructed candidates matched to generated long-lived particles and we count those where a secondary vertex is successfully reconstructed."
     ]
    },
    {
     "cell_type": "code",
     "collapsed": false,
     "input": [
      "gen_lxy_all = inputFile.Get(\"gen_lxy_all\")\n",
      "gen_lxy_all_DecayMode = inputFile.Get(\"gen_lxy_all_DecayMode\")\n",
      "gen_lxy_all_DecayMode_withinAcc = inputFile.Get(\"gen_lxy_all_DecayMode_withinAcc\")\n",
      "gen_lxy_all_leptonsMatched = inputFile.Get(\"gen_lxy_all_leptonsMatched\")\n",
      "gen_lxy_reco_genMatched = inputFile.Get(\"gen_lxy_reco_genMatched\")\n",
      "\n",
      "# binLowE = [0,10,20,30,40,50,60,70,80,90,100,120,140,160,180,200,220,240,260,280,300,400,500]\n",
      "binLowE = [0,20,40,60,80,100,120,140,160,180,220,260,300,400,500]\n",
      "rebinNum = len(binLowE)-1\n",
      "\n",
      "gen_lxy_all_rebin = gen_lxy_all.Rebin(rebinNum, \"gen_lxy_all_rebinned\", array('d',binLowE))\n",
      "gen_lxy_all_DecayMode_rebin = gen_lxy_all_DecayMode.Rebin(rebinNum, \"gen_lxy_all_DecayMode_rebinned\", array('d',binLowE))\n",
      "gen_lxy_all_DecayMode_withinAcc_rebin = gen_lxy_all_DecayMode_withinAcc.Rebin(rebinNum, \"a\", array('d',binLowE))\n",
      "gen_lxy_all_leptonsMatched_rebin = gen_lxy_all_leptonsMatched.Rebin(rebinNum, \"b\", array('d',binLowE))\n",
      "gen_lxy_reco_genMatched_rebin = gen_lxy_reco_genMatched.Rebin(rebinNum, \"c\", array('d',binLowE))\n",
      "\n",
      "rebinFactor = 4\n",
      "gen_lxy_all.Rebin(rebinFactor)\n",
      "gen_lxy_all_DecayMode.Rebin(rebinFactor)\n",
      "gen_lxy_all_DecayMode_withinAcc.Rebin(rebinFactor)\n",
      "gen_lxy_all_leptonsMatched.Rebin(rebinFactor)\n",
      "gen_lxy_reco_genMatched.Rebin(rebinFactor)"
     ],
     "language": "python",
     "metadata": {},
     "outputs": [
      {
       "metadata": {},
       "output_type": "pyout",
       "prompt_number": 7,
       "text": [
        "<ROOT.TH1F object (\"gen_lxy_reco_genMatched\") at 0x398e400>"
       ]
      }
     ],
     "prompt_number": 7
    },
    {
     "cell_type": "code",
     "collapsed": false,
     "input": [
      "c = ROOT.TCanvas(\"\", \"\", 400, 400)\n",
      "c.Draw()\n",
      "gen_lxy_all_DecayMode_withinAcc.Draw()\n",
      "gen_lxy_all_DecayMode_withinAcc.SetTitle(\"\")\n",
      "gen_lxy_all_DecayMode_withinAcc.SetMarkerStyle(20)\n",
      "gen_lxy_all_DecayMode_withinAcc.SetMarkerColor(4)\n",
      "gen_lxy_all_DecayMode_withinAcc.SetMarkerSize(0.8)\n",
      "gen_lxy_all_DecayMode_withinAcc.GetXaxis().SetTitle(\"gen L_{xy} [cm]\")\n",
      "gen_lxy_all_DecayMode_withinAcc.GetXaxis().SetTitleOffset(1.2)\n",
      "gen_lxy_all_DecayMode_withinAcc.GetYaxis().SetTitle(\"Entries\")\n",
      "gen_lxy_all_DecayMode_withinAcc.GetYaxis().SetTitleOffset(1.5)\n",
      "gen_lxy_all_leptonsMatched.Draw(\"same\")\n",
      "gen_lxy_all_leptonsMatched.SetLineColor(2)\n",
      "gen_lxy_all_leptonsMatched.SetMarkerStyle(22)\n",
      "gen_lxy_all_leptonsMatched.SetMarkerColor(2)\n",
      "gen_lxy_all_leptonsMatched.SetMarkerSize(0.8)\n",
      "gen_lxy_reco_genMatched.Draw(\"same\")\n",
      "gen_lxy_reco_genMatched.SetLineColor(3)\n",
      "gen_lxy_reco_genMatched.SetMarkerStyle(23)\n",
      "gen_lxy_reco_genMatched.SetMarkerColor(3)\n",
      "gen_lxy_reco_genMatched.SetMarkerSize(0.8)\n",
      "l = ROOT.TLegend(0.35,0.65,0.89,0.89)\n",
      "l.SetBorderSize(0)\n",
      "l.SetFillColor(0)\n",
      "l.AddEntry(gen_lxy_all_DecayMode_withinAcc, \"Decays within acceptance\", \"lp\")\n",
      "l.AddEntry(gen_lxy_all_leptonsMatched, \"Decays with both leptons reconstructed\", \"lp\")\n",
      "l.AddEntry(gen_lxy_reco_genMatched, \"Decays with secondary vertex fit\", \"lp\")\n",
      "l.Draw(\"same\")\n",
      "c.SaveAs(\"MCTruthAndTrackAndSV.root\")\n",
      "c.SaveAs(\"MCTruthAndTrackAndSV.pdf\")\n",
      "c"
     ],
     "language": "python",
     "metadata": {},
     "outputs": [
      {
       "output_type": "stream",
       "stream": "stderr",
       "text": [
        "TCanvas::Constructor:0: RuntimeWarning: Deleting canvas with same name: \n"
       ]
      },
      {
       "metadata": {},
       "output_type": "pyout",
       "png": "[encoded data removed]",
       "prompt_number": 8,
       "text": [
        "<ROOT.TCanvas object at 0x3972ba0>"
       ]
      }
     ],
     "prompt_number": 8
    },
    {
     "cell_type": "code",
     "collapsed": false,
     "input": [
      "cEff = TCanvas(\"\", \"\", 400, 400)\n",
      "# cEff.Divide(2,1)\n",
      "eff_1 = ROOT.TEfficiency(gen_lxy_reco_genMatched, gen_lxy_all_leptonsMatched)\n",
      "eff_2 = ROOT.TEfficiency(gen_lxy_reco_genMatched_rebin, gen_lxy_all_leptonsMatched_rebin)\n",
      "cEff.cd(1)\n",
      "eff_1.Draw()\n",
      "# cEff.cd(2)\n",
      "# eff_2.Draw()\n",
      "ROOT.gPad.Update();\n",
      "eff_1.GetPaintedGraph().GetYaxis().SetRangeUser(0, 1.05)\n",
      "eff_1.SetTitle(\" ; gen L_{xy} [cm] ; Efficiency\")\n",
      "# eff_2.GetPaintedGraph().GetYaxis().SetRangeUser(0, 1.05)\n",
      "cEff.SaveAs(\"MCTruthSVEff.root\")\n",
      "cEff.SaveAs(\"MCTruthSVEff.pdf\")\n",
      "cEff"
     ],
     "language": "python",
     "metadata": {},
     "outputs": [
      {
       "output_type": "stream",
       "stream": "stderr",
       "text": [
        "TCanvas::Constructor:0: RuntimeWarning: Deleting canvas with same name: \n"
       ]
      },
      {
       "metadata": {},
       "output_type": "pyout",
       "png": "[encoded data removed]",
       "prompt_number": 9,
       "text": [
        "<ROOT.TCanvas object at 0x3ee1210>"
       ]
      }
     ],
     "prompt_number": 9
    },
    {
     "cell_type": "code",
     "collapsed": false,
     "input": [
      "cEff1 = TCanvas(\"\", \"\", 400, 400)\n",
      "eff1 = ROOT.TEfficiency(gen_lxy_reco_genMatched_rebin, gen_lxy_all_DecayMode_withinAcc_rebin)\n",
      "# eff1 = ROOT.TEfficiency(gen_lxy_reco_genMatched, gen_lxy_all_leptonsMatched)\n",
      "eff1.Draw()\n",
      "ROOT.gPad.Update();\n",
      "eff1.GetPaintedGraph().GetYaxis().SetRangeUser(0, 1.05)\n",
      "eff1.SetTitle(\" ; gen L_{xy} [cm] ; Efficiency\")\n",
      "cEff1.SaveAs(\"trackEffVsMCTruth.root\")\n",
      "cEff1.SaveAs(\"trackEffVsMCTruth.pdf\")\n",
      "cEff1"
     ],
     "language": "python",
     "metadata": {},
     "outputs": [
      {
       "output_type": "stream",
       "stream": "stderr",
       "text": [
        "TCanvas::Constructor:0: RuntimeWarning: Deleting canvas with same name: \n"
       ]
      },
      {
       "metadata": {},
       "output_type": "pyout",
       "png": "[encoded data removed]",
       "prompt_number": 10,
       "text": [
        "<ROOT.TCanvas object at 0x3fecdf0>"
       ]
      }
     ],
     "prompt_number": 10
    },
    {
     "cell_type": "code",
     "collapsed": false,
     "input": [
      "cEff2 = TCanvas(\"\", \"\", 400, 400)\n",
      "eff2 = ROOT.TEfficiency(gen_lxy_all_leptonsMatched_rebin, gen_lxy_all_DecayMode_withinAcc_rebin)\n",
      "eff2.Draw()\n",
      "ROOT.gPad.Update()\n",
      "eff2.GetPaintedGraph().GetYaxis().SetRangeUser(0, 1.05)\n",
      "eff2.SetTitle(\" ; gen L_{xy} [cm] ; Efficiency\")\n",
      "cEff2.SaveAs(\"SVEffVsMCTruth.root\")\n",
      "cEff2.SaveAs(\"SVEffVsMCTruth.pdf\")\n",
      "cEff2"
     ],
     "language": "python",
     "metadata": {},
     "outputs": [
      {
       "output_type": "stream",
       "stream": "stderr",
       "text": [
        "TCanvas::Constructor:0: RuntimeWarning: Deleting canvas with same name: \n"
       ]
      },
      {
       "metadata": {},
       "output_type": "pyout",
       "png": "[encoded data removed]",
       "prompt_number": 11,
       "text": [
        "<ROOT.TCanvas object at 0x3ee1210>"
       ]
      }
     ],
     "prompt_number": 11
    },
    {
     "cell_type": "heading",
     "level": 1,
     "metadata": {},
     "source": [
      "Cosmics"
     ]
    },
    {
     "cell_type": "markdown",
     "metadata": {},
     "source": [
      "We run over the cosmic data analysis trees and check when given two good back to back RSA we can reconstruct a SV."
     ]
    },
    {
     "cell_type": "code",
     "collapsed": false,
     "input": [
      "from RefittedStandAloneMuons import *\n",
      "from ProgressBar import ProgressBar"
     ],
     "language": "python",
     "metadata": {},
     "outputs": [],
     "prompt_number": 12
    },
    {
     "cell_type": "code",
     "collapsed": false,
     "input": [
      "ROOT.gROOT.LoadMacro(\"interfaceRefittedStandAloneMuons/Loader.C+\")"
     ],
     "language": "python",
     "metadata": {},
     "outputs": [
      {
       "metadata": {},
       "output_type": "pyout",
       "prompt_number": 13,
       "text": [
        "0"
       ]
      }
     ],
     "prompt_number": 13
    },
    {
     "cell_type": "code",
     "collapsed": false,
     "input": [
      "# inputData = ROOT.TFile(\"/home/demattia/cmslpc/eos/uscms/store/user/lpcdve/noreplica/DisplacedLeptons/Trees/cosmicsCRAFT_187461_187468_and_187469_189146_analysis_20140602/histograms.root\", \"READ\")\n",
      "\n",
      "# inputData = ROOT.TFile(\"/home/demattia/cmslpc/uscmst1b_scratch/lpc1/3DayLifetime/demattia/MergeCosmics/histograms.root\")\n",
      "\n",
      "\n"
     ],
     "language": "python",
     "metadata": {},
     "outputs": [],
     "prompt_number": 14
    },
    {
     "cell_type": "code",
     "collapsed": false,
     "input": [
      "validStationsCut = 0\n",
      "\n",
      "def computeEfficiency(tree, cosmicVsD0, cosmicVsD0Vertex, cosmicVsLxyVertex):\n",
      "\n",
      "    p = ProgressBar(tree.GetEntries())\n",
      "\n",
      "    num = 0\n",
      "    for event in tree:\n",
      "        if num%(event.GetEntries()/100) == 0:\n",
      "            p.animate(num)\n",
      "    \n",
      "        num += 1\n",
      "    \n",
      "        found = False\n",
      "        if len(event.candidates.leptons_) != 2:\n",
      "            continue\n",
      "        l1 = event.candidates.leptons_[0]\n",
      "        l2 = event.candidates.leptons_[1]\n",
      "        if l1.pt > 26. and abs(l1.eta) < 2. and l1.dtStationsWithValidHits+l1.cscStationsWithValidHits >= validStationsCut and \\\n",
      "        l1.isStandAloneMuon and \\\n",
      "        l2.pt > 26. and abs(l2.eta) < 2. and l2.dtStationsWithValidHits+l2.cscStationsWithValidHits >= validStationsCut and \\\n",
      "        l2.isStandAloneMuon:\n",
      "            cosine = computeCosineAndMass(l1, l2)[0]\n",
      "            if cosine > -0.95 and cosine < 0.90:\n",
      "                found = True\n",
      "                if l1.pt > l2.pt:\n",
      "                # if l1.pt < l2.pt:\n",
      "                    cosmicVsD0.Fill(l1.d0_PV)\n",
      "                else:\n",
      "                    cosmicVsD0.Fill(l2.d0_PV)\n",
      "                # print \"found a cosmic\"\n",
      "\n",
      "        if not found:\n",
      "            continue\n",
      "            \n",
      "        for cand in event.candidates.candidates_:\n",
      "            # print cand.cosine\n",
      "            # if cand.cosine < -0.99 and cand.leptonPtL > 26. and cand.leptonPtH > 26. and \\\n",
      "            # abs(cand.leptonEtaL) < 2. and abs(cand.leptonEtaH) < 2.:\n",
      "            leptonL = get_lepton(event.candidates.leptons_, cand.leptonIndexL)\n",
      "            leptonH = get_lepton(event.candidates.leptons_, cand.leptonIndexH)\n",
      "            if not leptonL.isStandAloneMuon or not leptonH.isStandAloneMuon:\n",
      "                continue\n",
      "                # if not(leptonL.dtStationsWithValidHits+leptonL.cscStationsWithValidHits >= 2 and \\\n",
      "                # leptonH.dtStationsWithValidHits+leptonH.cscStationsWithValidHits >= 2):\n",
      "                #     continue\n",
      "                # print \"found\"\n",
      "            if cand.validVertex == True:\n",
      "                cosmicVsD0Vertex.Fill(leptonH.d0_PV)\n",
      "                cosmicVsLxyVertex.Fill(cand.decayLength_PV)\n",
      "                # print \"found and valid vertex\"\n",
      "                pass\n",
      "            # else:\n",
      "                # print \"found, but no valid vertex\"\n",
      "        # if num > 1000000:\n",
      "        #     break\n",
      "        pass"
     ],
     "language": "python",
     "metadata": {},
     "outputs": [],
     "prompt_number": 15
    },
    {
     "cell_type": "heading",
     "level": 2,
     "metadata": {},
     "source": [
      "Cosmics Data"
     ]
    },
    {
     "cell_type": "code",
     "collapsed": false,
     "input": [
      "inputData = ROOT.TFile(\"/home/demattia/cmslpc/eos/uscms/store/user/lpcdve/noreplica/DisplacedLeptons/Trees/cosmicsRunC_analysis_20140603/histograms.root\", \"READ\")\n",
      "directory = inputData.Get(\"muTrackAnalysis\")\n",
      "tree = directory.Get(\"outputTree\")\n",
      "\n",
      "cosmicVsD0 = ROOT.TH1F(\"cosmicVsD0\", \"cosmicVsD0\", 20, 0, 400)\n",
      "cosmicVsD0Vertex = ROOT.TH1F(\"cosmicVsD0Vertex\", \"cosmicVsD0Vertex\", 20, 0, 400)\n",
      "cosmicVsLxyVertex = ROOT.TH1F(\"cosmicVsLxyVertex\", \"cosmicVsLxyVertex\", 20, 0, 400)\n",
      "\n",
      "computeEfficiency(tree, cosmicVsD0, cosmicVsD0Vertex, cosmicVsLxyVertex)\n"
     ],
     "language": "python",
     "metadata": {},
     "outputs": [
      {
       "output_type": "stream",
       "stream": "stdout",
       "text": [
        "\r",
        " [                       0%                       ]"
       ]
      },
      {
       "output_type": "stream",
       "stream": "stdout",
       "text": [
        "\r",
        " [                       0%                       ]  1 of 8779380 complete"
       ]
      },
      {
       "output_type": "stream",
       "stream": "stdout",
       "text": [
        "\r",
        " [                       1%                       ]  87794 of 8779380 complete"
       ]
      },
      {
       "output_type": "stream",
       "stream": "stdout",
       "text": [
        "\r",
        " [*                      2%                       ]  175587 of 8779380 complete"
       ]
      },
      {
       "output_type": "stream",
       "stream": "stdout",
       "text": [
        "\r",
        " [*                      3%                       ]  263380 of 8779380 complete"
       ]
      },
      {
       "output_type": "stream",
       "stream": "stdout",
       "text": [
        "\r",
        " [**                     4%                       ]  351173 of 8779380 complete"
       ]
      },
      {
       "output_type": "stream",
       "stream": "stdout",
       "text": [
        "\r",
        " [**                     5%                       ]  438966 of 8779380 complete"
       ]
      },
      {
       "output_type": "stream",
       "stream": "stdout",
       "text": [
        "\r",
        " [***                    6%                       ]  526759 of 8779380 complete"
       ]
      },
      {
       "output_type": "stream",
       "stream": "stdout",
       "text": [
        "\r",
        " [***                    7%                       ]  614552 of 8779380 complete"
       ]
      },
      {
       "output_type": "stream",
       "stream": "stdout",
       "text": [
        "\r",
        " [****                   8%                       ]  702345 of 8779380 complete"
       ]
      },
      {
       "output_type": "stream",
       "stream": "stdout",
       "text": [
        "\r",
        " [****                   9%                       ]  790138 of 8779380 complete"
       ]
      },
      {
       "output_type": "stream",
       "stream": "stdout",
       "text": [
        "\r",
        " [*****                 10%                       ]  877931 of 8779380 complete"
       ]
      },
      {
       "output_type": "stream",
       "stream": "stdout",
       "text": [
        "\r",
        " [*****                 11%                       ]  965724 of 8779380 complete"
       ]
      },
      {
       "output_type": "stream",
       "stream": "stdout",
       "text": [
        "\r",
        " [******                12%                       ]  1053517 of 8779380 complete"
       ]
      },
      {
       "output_type": "stream",
       "stream": "stdout",
       "text": [
        "\r",
        " [******                13%                       ]  1141310 of 8779380 complete"
       ]
      },
      {
       "output_type": "stream",
       "stream": "stdout",
       "text": [
        "\r",
        " [*******               14%                       ]  1229103 of 8779380 complete"
       ]
      },
      {
       "output_type": "stream",
       "stream": "stdout",
       "text": [
        "\r",
        " [*******               15%                       ]  1316896 of 8779380 complete"
       ]
      },
      {
       "output_type": "stream",
       "stream": "stdout",
       "text": [
        "\r",
        " [********              16%                       ]  1404689 of 8779380 complete"
       ]
      },
      {
       "output_type": "stream",
       "stream": "stdout",
       "text": [
        "\r",
        " [********              17%                       ]  1492482 of 8779380 complete"
       ]
      },
      {
       "output_type": "stream",
       "stream": "stdout",
       "text": [
        "\r",
        " [*********             18%                       ]  1580275 of 8779380 complete"
       ]
      },
      {
       "output_type": "stream",
       "stream": "stdout",
       "text": [
        "\r",
        " [*********             19%                       ]  1668068 of 8779380 complete"
       ]
      },
      {
       "output_type": "stream",
       "stream": "stdout",
       "text": [
        "\r",
        " [**********            20%                       ]  1755861 of 8779380 complete"
       ]
      },
      {
       "output_type": "stream",
       "stream": "stdout",
       "text": [
        "\r",
        " [**********            21%                       ]  1843654 of 8779380 complete"
       ]
      },
      {
       "output_type": "stream",
       "stream": "stdout",
       "text": [
        "\r",
        " [***********           22%                       ]  1931447 of 8779380 complete"
       ]
      },
      {
       "output_type": "stream",
       "stream": "stdout",
       "text": [
        "\r",
        " [***********           23%                       ]  2019240 of 8779380 complete"
       ]
      },
      {
       "output_type": "stream",
       "stream": "stdout",
       "text": [
        "\r",
        " [************          24%                       ]  2107033 of 8779380 complete"
       ]
      },
      {
       "output_type": "stream",
       "stream": "stdout",
       "text": [
        "\r",
        " [************          25%                       ]  2194826 of 8779380 complete"
       ]
      },
      {
       "output_type": "stream",
       "stream": "stdout",
       "text": [
        "\r",
        " [************          26%                       ]  2282619 of 8779380 complete"
       ]
      },
      {
       "output_type": "stream",
       "stream": "stdout",
       "text": [
        "\r",
        " [*************         27%                       ]  2370412 of 8779380 complete"
       ]
      },
      {
       "output_type": "stream",
       "stream": "stdout",
       "text": [
        "\r",
        " [*************         28%                       ]  2458205 of 8779380 complete"
       ]
      },
      {
       "output_type": "stream",
       "stream": "stdout",
       "text": [
        "\r",
        " [**************        29%                       ]  2545998 of 8779380 complete"
       ]
      },
      {
       "output_type": "stream",
       "stream": "stdout",
       "text": [
        "\r",
        " [**************        30%                       ]  2633791 of 8779380 complete"
       ]
      },
      {
       "output_type": "stream",
       "stream": "stdout",
       "text": [
        "\r",
        " [***************       31%                       ]  2721584 of 8779380 complete"
       ]
      },
      {
       "output_type": "stream",
       "stream": "stdout",
       "text": [
        "\r",
        " [***************       32%                       ]  2809377 of 8779380 complete"
       ]
      },
      {
       "output_type": "stream",
       "stream": "stdout",
       "text": [
        "\r",
        " [****************      33%                       ]  2897170 of 8779380 complete"
       ]
      },
      {
       "output_type": "stream",
       "stream": "stdout",
       "text": [
        "\r",
        " [****************      34%                       ]  2984963 of 8779380 complete"
       ]
      },
      {
       "output_type": "stream",
       "stream": "stdout",
       "text": [
        "\r",
        " [*****************     35%                       ]  3072756 of 8779380 complete"
       ]
      },
      {
       "output_type": "stream",
       "stream": "stdout",
       "text": [
        "\r",
        " [*****************     36%                       ]  3160549 of 8779380 complete"
       ]
      },
      {
       "output_type": "stream",
       "stream": "stdout",
       "text": [
        "\r",
        " [******************    37%                       ]  3248342 of 8779380 complete"
       ]
      },
      {
       "output_type": "stream",
       "stream": "stdout",
       "text": [
        "\r",
        " [******************    38%                       ]  3336135 of 8779380 complete"
       ]
      },
      {
       "output_type": "stream",
       "stream": "stdout",
       "text": [
        "\r",
        " [*******************   39%                       ]  3423928 of 8779380 complete"
       ]
      },
      {
       "output_type": "stream",
       "stream": "stdout",
       "text": [
        "\r",
        " [*******************   40%                       ]  3511721 of 8779380 complete"
       ]
      },
      {
       "output_type": "stream",
       "stream": "stdout",
       "text": [
        "\r",
        " [********************  41%                       ]  3599514 of 8779380 complete"
       ]
      },
      {
       "output_type": "stream",
       "stream": "stdout",
       "text": [
        "\r",
        " [********************  42%                       ]  3687307 of 8779380 complete"
       ]
      },
      {
       "output_type": "stream",
       "stream": "stdout",
       "text": [
        "\r",
        " [********************* 43%                       ]  3775100 of 8779380 complete"
       ]
      },
      {
       "output_type": "stream",
       "stream": "stdout",
       "text": [
        "\r",
        " [********************* 44%                       ]  3862893 of 8779380 complete"
       ]
      },
      {
       "output_type": "stream",
       "stream": "stdout",
       "text": [
        "\r",
        " [**********************45%                       ]  3950686 of 8779380 complete"
       ]
      },
      {
       "output_type": "stream",
       "stream": "stdout",
       "text": [
        "\r",
        " [**********************46%                       ]  4038479 of 8779380 complete"
       ]
      },
      {
       "output_type": "stream",
       "stream": "stdout",
       "text": [
        "\r",
        " [**********************47%                       ]  4126272 of 8779380 complete"
       ]
      },
      {
       "output_type": "stream",
       "stream": "stdout",
       "text": [
        "\r",
        " [**********************48%                       ]  4214065 of 8779380 complete"
       ]
      },
      {
       "output_type": "stream",
       "stream": "stdout",
       "text": [
        "\r",
        " [**********************49%                       ]  4301858 of 8779380 complete"
       ]
      },
      {
       "output_type": "stream",
       "stream": "stdout",
       "text": [
        "\r",
        " [**********************50%                       ]  4389651 of 8779380 complete"
       ]
      },
      {
       "output_type": "stream",
       "stream": "stdout",
       "text": [
        "\r",
        " [**********************51%                       ]  4477444 of 8779380 complete"
       ]
      },
      {
       "output_type": "stream",
       "stream": "stdout",
       "text": [
        "\r",
        " [**********************52%                       ]  4565237 of 8779380 complete"
       ]
      },
      {
       "output_type": "stream",
       "stream": "stdout",
       "text": [
        "\r",
        " [**********************53%                       ]  4653030 of 8779380 complete"
       ]
      },
      {
       "output_type": "stream",
       "stream": "stdout",
       "text": [
        "\r",
        " [**********************54%*                      ]  4740823 of 8779380 complete"
       ]
      },
      {
       "output_type": "stream",
       "stream": "stdout",
       "text": [
        "\r",
        " [**********************55%*                      ]  4828616 of 8779380 complete"
       ]
      },
      {
       "output_type": "stream",
       "stream": "stdout",
       "text": [
        "\r",
        " [**********************56%**                     ]  4916409 of 8779380 complete"
       ]
      },
      {
       "output_type": "stream",
       "stream": "stdout",
       "text": [
        "\r",
        " [**********************57%**                     ]  5004202 of 8779380 complete"
       ]
      },
      {
       "output_type": "stream",
       "stream": "stdout",
       "text": [
        "\r",
        " [**********************58%***                    ]  5091995 of 8779380 complete"
       ]
      },
      {
       "output_type": "stream",
       "stream": "stdout",
       "text": [
        "\r",
        " [**********************59%***                    ]  5179788 of 8779380 complete"
       ]
      },
      {
       "output_type": "stream",
       "stream": "stdout",
       "text": [
        "\r",
        " [**********************60%****                   ]  5267581 of 8779380 complete"
       ]
      },
      {
       "output_type": "stream",
       "stream": "stdout",
       "text": [
        "\r",
        " [**********************61%****                   ]  5355374 of 8779380 complete"
       ]
      },
      {
       "output_type": "stream",
       "stream": "stdout",
       "text": [
        "\r",
        " [**********************62%*****                  ]  5443167 of 8779380 complete"
       ]
      },
      {
       "output_type": "stream",
       "stream": "stdout",
       "text": [
        "\r",
        " [**********************63%*****                  ]  5530960 of 8779380 complete"
       ]
      },
      {
       "output_type": "stream",
       "stream": "stdout",
       "text": [
        "\r",
        " [**********************64%******                 ]  5618753 of 8779380 complete"
       ]
      },
      {
       "output_type": "stream",
       "stream": "stdout",
       "text": [
        "\r",
        " [**********************65%******                 ]  5706546 of 8779380 complete"
       ]
      },
      {
       "output_type": "stream",
       "stream": "stdout",
       "text": [
        "\r",
        " [**********************66%*******                ]  5794339 of 8779380 complete"
       ]
      },
      {
       "output_type": "stream",
       "stream": "stdout",
       "text": [
        "\r",
        " [**********************67%*******                ]  5882132 of 8779380 complete"
       ]
      },
      {
       "output_type": "stream",
       "stream": "stdout",
       "text": [
        "\r",
        " [**********************68%********               ]  5969925 of 8779380 complete"
       ]
      },
      {
       "output_type": "stream",
       "stream": "stdout",
       "text": [
        "\r",
        " [**********************69%********               ]  6057718 of 8779380 complete"
       ]
      },
      {
       "output_type": "stream",
       "stream": "stdout",
       "text": [
        "\r",
        " [**********************70%*********              ]  6145511 of 8779380 complete"
       ]
      },
      {
       "output_type": "stream",
       "stream": "stdout",
       "text": [
        "\r",
        " [**********************71%*********              ]  6233304 of 8779380 complete"
       ]
      },
      {
       "output_type": "stream",
       "stream": "stdout",
       "text": [
        "\r",
        " [**********************72%**********             ]  6321097 of 8779380 complete"
       ]
      },
      {
       "output_type": "stream",
       "stream": "stdout",
       "text": [
        "\r",
        " [**********************73%**********             ]  6408890 of 8779380 complete"
       ]
      },
      {
       "output_type": "stream",
       "stream": "stdout",
       "text": [
        "\r",
        " [**********************74%***********            ]  6496683 of 8779380 complete"
       ]
      },
      {
       "output_type": "stream",
       "stream": "stdout",
       "text": [
        "\r",
        " [**********************75%***********            ]  6584476 of 8779380 complete"
       ]
      },
      {
       "output_type": "stream",
       "stream": "stdout",
       "text": [
        "\r",
        " [**********************76%***********            ]  6672269 of 8779380 complete"
       ]
      },
      {
       "output_type": "stream",
       "stream": "stdout",
       "text": [
        "\r",
        " [**********************77%************           ]  6760062 of 8779380 complete"
       ]
      },
      {
       "output_type": "stream",
       "stream": "stdout",
       "text": [
        "\r",
        " [**********************78%************           ]  6847855 of 8779380 complete"
       ]
      },
      {
       "output_type": "stream",
       "stream": "stdout",
       "text": [
        "\r",
        " [**********************79%*************          ]  6935648 of 8779380 complete"
       ]
      },
      {
       "output_type": "stream",
       "stream": "stdout",
       "text": [
        "\r",
        " [**********************80%*************          ]  7023441 of 8779380 complete"
       ]
      },
      {
       "output_type": "stream",
       "stream": "stdout",
       "text": [
        "\r",
        " [**********************81%**************         ]  7111234 of 8779380 complete"
       ]
      },
      {
       "output_type": "stream",
       "stream": "stdout",
       "text": [
        "\r",
        " [**********************82%**************         ]  7199027 of 8779380 complete"
       ]
      },
      {
       "output_type": "stream",
       "stream": "stdout",
       "text": [
        "\r",
        " [**********************83%***************        ]  7286820 of 8779380 complete"
       ]
      },
      {
       "output_type": "stream",
       "stream": "stdout",
       "text": [
        "\r",
        " [**********************84%***************        ]  7374613 of 8779380 complete"
       ]
      },
      {
       "output_type": "stream",
       "stream": "stdout",
       "text": [
        "\r",
        " [**********************85%****************       ]  7462406 of 8779380 complete"
       ]
      },
      {
       "output_type": "stream",
       "stream": "stdout",
       "text": [
        "\r",
        " [**********************86%****************       ]  7550199 of 8779380 complete"
       ]
      },
      {
       "output_type": "stream",
       "stream": "stdout",
       "text": [
        "\r",
        " [**********************87%*****************      ]  7637992 of 8779380 complete"
       ]
      },
      {
       "output_type": "stream",
       "stream": "stdout",
       "text": [
        "\r",
        " [**********************88%*****************      ]  7725785 of 8779380 complete"
       ]
      },
      {
       "output_type": "stream",
       "stream": "stdout",
       "text": [
        "\r",
        " [**********************89%******************     ]  7813578 of 8779380 complete"
       ]
      },
      {
       "output_type": "stream",
       "stream": "stdout",
       "text": [
        "\r",
        " [**********************90%******************     ]  7901371 of 8779380 complete"
       ]
      },
      {
       "output_type": "stream",
       "stream": "stdout",
       "text": [
        "\r",
        " [**********************91%*******************    ]  7989164 of 8779380 complete"
       ]
      },
      {
       "output_type": "stream",
       "stream": "stdout",
       "text": [
        "\r",
        " [**********************92%*******************    ]  8076957 of 8779380 complete"
       ]
      },
      {
       "output_type": "stream",
       "stream": "stdout",
       "text": [
        "\r",
        " [**********************93%********************   ]  8164750 of 8779380 complete"
       ]
      },
      {
       "output_type": "stream",
       "stream": "stdout",
       "text": [
        "\r",
        " [**********************94%********************   ]  8252543 of 8779380 complete"
       ]
      },
      {
       "output_type": "stream",
       "stream": "stdout",
       "text": [
        "\r",
        " [**********************95%*********************  ]  8340336 of 8779380 complete"
       ]
      },
      {
       "output_type": "stream",
       "stream": "stdout",
       "text": [
        "\r",
        " [**********************96%*********************  ]  8428129 of 8779380 complete"
       ]
      },
      {
       "output_type": "stream",
       "stream": "stdout",
       "text": [
        "\r",
        " [**********************97%********************** ]  8515922 of 8779380 complete"
       ]
      },
      {
       "output_type": "stream",
       "stream": "stdout",
       "text": [
        "\r",
        " [**********************98%********************** ]  8603715 of 8779380 complete"
       ]
      },
      {
       "output_type": "stream",
       "stream": "stdout",
       "text": [
        "\r",
        " [**********************99%***********************]  8691508 of 8779380 complete"
       ]
      },
      {
       "output_type": "stream",
       "stream": "stderr",
       "text": [
        "TStreamerInfo::BuildCheck:0: RuntimeWarning: \n",
        "   The StreamerInfo of class TreeDipseudoLeptonCandidate read from file /home/demattia/cmslpc/eos/uscms/store/user/lpcdve/noreplica/DisplacedLeptons/Trees/cosmicsRunC_analysis_20140603/histograms.root\n",
        "   has the same version (=1) as the active class but a different checksum.\n",
        "   You should update the version to ClassDef(TreeDipseudoLeptonCandidate,2).\n",
        "   Do not try to write objects with the current class definition,\n",
        "   the files will not be readable.\n",
        "\n",
        "TStreamerInfo::CompareContent:0: RuntimeWarning: The following data member of\n",
        "the on-file layout version 1 of class 'TreeDipseudoLeptonCandidate' differs from \n",
        "the in-memory layout version 1:\n",
        "   vector<pair<Int_t,Float_t> > tkMatches; //\n",
        "vs\n",
        "   vector<pair<int,float> > tkMatches; //\n"
       ]
      }
     ],
     "prompt_number": 16
    },
    {
     "cell_type": "code",
     "collapsed": false,
     "input": [
      "cEffData1 = TCanvas(\"\", \"\", 400, 400)\n",
      "# cEffData.Divide(2,1)\n",
      "# cEffData.cd(1)\n",
      "cosmicVsD0.Draw(\"E\")\n",
      "cosmicVsD0.SetLineColor(1)\n",
      "cosmicVsD0.SetTitle(\"\")\n",
      "cosmicVsD0.GetXaxis().SetTitle(\"d_{0} [cm]\")\n",
      "cosmicVsD0.GetYaxis().SetTitle(\"Entries\")\n",
      "cosmicVsD0.GetYaxis().SetTitleOffset(1.5)\n",
      "cosmicVsD0.GetYaxis().SetRangeUser(0, 2500)\n",
      "# cosmicVsD0.GetYaxis().SetRangeUser(0, 230)\n",
      "cosmicVsD0.SetMarkerStyle(20)\n",
      "cosmicVsD0.SetMarkerSize(0.7)\n",
      "cosmicVsD0.SetMarkerColor(1)\n",
      "cosmicVsD0Vertex.Draw(\"sameE\")\n",
      "cosmicVsD0Vertex.SetLineColor(2)\n",
      "cosmicVsD0Vertex.SetMarkerStyle(22)\n",
      "cosmicVsD0Vertex.SetMarkerSize(0.75)\n",
      "cosmicVsD0Vertex.SetMarkerColor(2)\n",
      "# cosmicVsLxyVertex.Draw(\"same\")\n",
      "# cosmicVsLxyVertex.SetLineColor(3)\n",
      "\n",
      "leg = ROOT.TLegend(0.11,0.75,0.8,0.89);\n",
      "leg.SetBorderSize(0)\n",
      "leg.AddEntry(cosmicVsD0,\"Reconstructed tracks\",\"pl\");\n",
      "leg.AddEntry(cosmicVsD0Vertex,\"Reconstructed secondary vertex\",\"pl\");\n",
      "leg.SetFillColor(0)\n",
      "leg.Draw(\"same\");\n",
      "# cEffData1.SaveAs(\"trackAndSV_Data_cut0.pdf\")\n",
      "# cEffData1.SaveAs(\"trackAndSV_Data_cut0.root\")\n",
      "cEffData1"
     ],
     "language": "python",
     "metadata": {},
     "outputs": [
      {
       "output_type": "stream",
       "stream": "stderr",
       "text": [
        "TCanvas::Constructor:0: RuntimeWarning: Deleting canvas with same name: \n"
       ]
      },
      {
       "metadata": {},
       "output_type": "pyout",
       "png": "[encoded data removed]",
       "prompt_number": 17,
       "text": [
        "<ROOT.TCanvas object at 0x446c300>"
       ]
      }
     ],
     "prompt_number": 17
    },
    {
     "cell_type": "code",
     "collapsed": false,
     "input": [
      "cEffData2 = TCanvas(\"\", \"\", 400, 400)\n",
      "# cEffData.cd(2)\n",
      "effData = ROOT.TEfficiency(cosmicVsD0Vertex, cosmicVsD0)\n",
      "effData.Draw()\n",
      "ROOT.gPad.Update();\n",
      "effData.GetPaintedGraph().GetYaxis().SetRangeUser(0, 1.05)\n",
      "effData.SetTitle(\" ; d_{0} [cm] ; Efficiency\")\n",
      "# cEffData2.SaveAs(\"SVEff_Data_cut0.pdf\")\n",
      "# cEffData2.SaveAs(\"SVEff_Data_cut0.root\")\n",
      "cEffData2"
     ],
     "language": "python",
     "metadata": {},
     "outputs": [
      {
       "output_type": "stream",
       "stream": "stderr",
       "text": [
        "TCanvas::Constructor:0: RuntimeWarning: Deleting canvas with same name: \n"
       ]
      },
      {
       "metadata": {},
       "output_type": "pyout",
       "png": "[encoded data removed]",
       "prompt_number": 18,
       "text": [
        "<ROOT.TCanvas object at 0x39b2e40>"
       ]
      }
     ],
     "prompt_number": 18
    },
    {
     "cell_type": "heading",
     "level": 2,
     "metadata": {},
     "source": [
      "Cosmics Simulation"
     ]
    },
    {
     "cell_type": "code",
     "collapsed": false,
     "input": [
      "inputSim = ROOT.TFile(\"/home/demattia/cmslpc/uscms_data/d3/demattia/DisplacedLeptons/RefittedStandAloneMuons/CosmicTreeSimulation/CMSSW_5_3_8/src/workdirs/cosmicsSimulation_analysis_20140721/histograms.root\", \"READ\")\n",
      "directorySim = inputSim.Get(\"muTrackAnalysis\")\n",
      "treeSim = directorySim.Get(\"outputTree\")\n",
      "\n",
      "cosmicVsD0Sim = ROOT.TH1F(\"cosmicVsD0Sim\", \"cosmicVsD0Sim\", 20, 0, 400)\n",
      "cosmicVsD0VertexSim = ROOT.TH1F(\"cosmicVsD0VertexSim\", \"cosmicVsD0VertexSim\", 20, 0, 400)\n",
      "cosmicVsLxyVertexSim = ROOT.TH1F(\"cosmicVsLxyVertexSim\", \"cosmicVsLxyVertexSim\", 20, 0, 400)\n",
      "\n",
      "computeEfficiency(treeSim, cosmicVsD0Sim, cosmicVsD0VertexSim, cosmicVsLxyVertexSim)\n",
      "\n"
     ],
     "language": "python",
     "metadata": {},
     "outputs": [
      {
       "output_type": "stream",
       "stream": "stdout",
       "text": [
        "\r",
        " [                       0%                       ]"
       ]
      },
      {
       "output_type": "stream",
       "stream": "stdout",
       "text": [
        "\r",
        " [                       0%                       ]  1 of 1918028 complete"
       ]
      },
      {
       "output_type": "stream",
       "stream": "stdout",
       "text": [
        "\r",
        " [                       1%                       ]  19181 of 1918028 complete"
       ]
      },
      {
       "output_type": "stream",
       "stream": "stdout",
       "text": [
        "\r",
        " [*                      2%                       ]  38361 of 1918028 complete"
       ]
      },
      {
       "output_type": "stream",
       "stream": "stdout",
       "text": [
        "\r",
        " [*                      3%                       ]  57541 of 1918028 complete"
       ]
      },
      {
       "output_type": "stream",
       "stream": "stdout",
       "text": [
        "\r",
        " [**                     4%                       ]  76721 of 1918028 complete"
       ]
      },
      {
       "output_type": "stream",
       "stream": "stdout",
       "text": [
        "\r",
        " [**                     5%                       ]  95901 of 1918028 complete"
       ]
      },
      {
       "output_type": "stream",
       "stream": "stdout",
       "text": [
        "\r",
        " [***                    6%                       ]  115081 of 1918028 complete"
       ]
      },
      {
       "output_type": "stream",
       "stream": "stdout",
       "text": [
        "\r",
        " [***                    7%                       ]  134261 of 1918028 complete"
       ]
      },
      {
       "output_type": "stream",
       "stream": "stdout",
       "text": [
        "\r",
        " [****                   8%                       ]  153441 of 1918028 complete"
       ]
      },
      {
       "output_type": "stream",
       "stream": "stdout",
       "text": [
        "\r",
        " [****                   9%                       ]  172621 of 1918028 complete"
       ]
      },
      {
       "output_type": "stream",
       "stream": "stdout",
       "text": [
        "\r",
        " [*****                 10%                       ]  191801 of 1918028 complete"
       ]
      },
      {
       "output_type": "stream",
       "stream": "stdout",
       "text": [
        "\r",
        " [*****                 11%                       ]  210981 of 1918028 complete"
       ]
      },
      {
       "output_type": "stream",
       "stream": "stdout",
       "text": [
        "\r",
        " [******                12%                       ]  230161 of 1918028 complete"
       ]
      },
      {
       "output_type": "stream",
       "stream": "stdout",
       "text": [
        "\r",
        " [******                13%                       ]  249341 of 1918028 complete"
       ]
      },
      {
       "output_type": "stream",
       "stream": "stdout",
       "text": [
        "\r",
        " [*******               14%                       ]  268521 of 1918028 complete"
       ]
      },
      {
       "output_type": "stream",
       "stream": "stdout",
       "text": [
        "\r",
        " [*******               15%                       ]  287701 of 1918028 complete"
       ]
      },
      {
       "output_type": "stream",
       "stream": "stdout",
       "text": [
        "\r",
        " [********              16%                       ]  306881 of 1918028 complete"
       ]
      },
      {
       "output_type": "stream",
       "stream": "stdout",
       "text": [
        "\r",
        " [********              17%                       ]  326061 of 1918028 complete"
       ]
      },
      {
       "output_type": "stream",
       "stream": "stdout",
       "text": [
        "\r",
        " [*********             18%                       ]  345241 of 1918028 complete"
       ]
      },
      {
       "output_type": "stream",
       "stream": "stdout",
       "text": [
        "\r",
        " [*********             19%                       ]  364421 of 1918028 complete"
       ]
      },
      {
       "output_type": "stream",
       "stream": "stdout",
       "text": [
        "\r",
        " [**********            20%                       ]  383601 of 1918028 complete"
       ]
      },
      {
       "output_type": "stream",
       "stream": "stdout",
       "text": [
        "\r",
        " [**********            21%                       ]  402781 of 1918028 complete"
       ]
      },
      {
       "output_type": "stream",
       "stream": "stdout",
       "text": [
        "\r",
        " [***********           22%                       ]  421961 of 1918028 complete"
       ]
      },
      {
       "output_type": "stream",
       "stream": "stdout",
       "text": [
        "\r",
        " [***********           23%                       ]  441141 of 1918028 complete"
       ]
      },
      {
       "output_type": "stream",
       "stream": "stdout",
       "text": [
        "\r",
        " [************          24%                       ]  460321 of 1918028 complete"
       ]
      },
      {
       "output_type": "stream",
       "stream": "stdout",
       "text": [
        "\r",
        " [************          25%                       ]  479501 of 1918028 complete"
       ]
      },
      {
       "output_type": "stream",
       "stream": "stdout",
       "text": [
        "\r",
        " [************          26%                       ]  498681 of 1918028 complete"
       ]
      },
      {
       "output_type": "stream",
       "stream": "stdout",
       "text": [
        "\r",
        " [*************         27%                       ]  517861 of 1918028 complete"
       ]
      },
      {
       "output_type": "stream",
       "stream": "stdout",
       "text": [
        "\r",
        " [*************         28%                       ]  537041 of 1918028 complete"
       ]
      },
      {
       "output_type": "stream",
       "stream": "stdout",
       "text": [
        "\r",
        " [**************        29%                       ]  556221 of 1918028 complete"
       ]
      },
      {
       "output_type": "stream",
       "stream": "stdout",
       "text": [
        "\r",
        " [**************        30%                       ]  575401 of 1918028 complete"
       ]
      },
      {
       "output_type": "stream",
       "stream": "stdout",
       "text": [
        "\r",
        " [***************       31%                       ]  594581 of 1918028 complete"
       ]
      },
      {
       "output_type": "stream",
       "stream": "stdout",
       "text": [
        "\r",
        " [***************       32%                       ]  613761 of 1918028 complete"
       ]
      },
      {
       "output_type": "stream",
       "stream": "stdout",
       "text": [
        "\r",
        " [****************      33%                       ]  632941 of 1918028 complete"
       ]
      },
      {
       "output_type": "stream",
       "stream": "stdout",
       "text": [
        "\r",
        " [****************      34%                       ]  652121 of 1918028 complete"
       ]
      },
      {
       "output_type": "stream",
       "stream": "stdout",
       "text": [
        "\r",
        " [*****************     35%                       ]  671301 of 1918028 complete"
       ]
      },
      {
       "output_type": "stream",
       "stream": "stdout",
       "text": [
        "\r",
        " [*****************     36%                       ]  690481 of 1918028 complete"
       ]
      },
      {
       "output_type": "stream",
       "stream": "stdout",
       "text": [
        "\r",
        " [******************    37%                       ]  709661 of 1918028 complete"
       ]
      },
      {
       "output_type": "stream",
       "stream": "stdout",
       "text": [
        "\r",
        " [******************    38%                       ]  728841 of 1918028 complete"
       ]
      },
      {
       "output_type": "stream",
       "stream": "stdout",
       "text": [
        "\r",
        " [*******************   39%                       ]  748021 of 1918028 complete"
       ]
      },
      {
       "output_type": "stream",
       "stream": "stdout",
       "text": [
        "\r",
        " [*******************   40%                       ]  767201 of 1918028 complete"
       ]
      },
      {
       "output_type": "stream",
       "stream": "stdout",
       "text": [
        "\r",
        " [********************  41%                       ]  786381 of 1918028 complete"
       ]
      },
      {
       "output_type": "stream",
       "stream": "stdout",
       "text": [
        "\r",
        " [********************  42%                       ]  805561 of 1918028 complete"
       ]
      },
      {
       "output_type": "stream",
       "stream": "stdout",
       "text": [
        "\r",
        " [********************* 43%                       ]  824741 of 1918028 complete"
       ]
      },
      {
       "output_type": "stream",
       "stream": "stdout",
       "text": [
        "\r",
        " [********************* 44%                       ]  843921 of 1918028 complete"
       ]
      },
      {
       "output_type": "stream",
       "stream": "stdout",
       "text": [
        "\r",
        " [**********************45%                       ]  863101 of 1918028 complete"
       ]
      },
      {
       "output_type": "stream",
       "stream": "stdout",
       "text": [
        "\r",
        " [**********************46%                       ]  882281 of 1918028 complete"
       ]
      },
      {
       "output_type": "stream",
       "stream": "stdout",
       "text": [
        "\r",
        " [**********************47%                       ]  901461 of 1918028 complete"
       ]
      },
      {
       "output_type": "stream",
       "stream": "stdout",
       "text": [
        "\r",
        " [**********************48%                       ]  920641 of 1918028 complete"
       ]
      },
      {
       "output_type": "stream",
       "stream": "stdout",
       "text": [
        "\r",
        " [**********************49%                       ]  939821 of 1918028 complete"
       ]
      },
      {
       "output_type": "stream",
       "stream": "stdout",
       "text": [
        "\r",
        " [**********************50%                       ]  959001 of 1918028 complete"
       ]
      },
      {
       "output_type": "stream",
       "stream": "stdout",
       "text": [
        "\r",
        " [**********************51%                       ]  978181 of 1918028 complete"
       ]
      },
      {
       "output_type": "stream",
       "stream": "stdout",
       "text": [
        "\r",
        " [**********************52%                       ]  997361 of 1918028 complete"
       ]
      },
      {
       "output_type": "stream",
       "stream": "stdout",
       "text": [
        "\r",
        " [**********************53%                       ]  1016541 of 1918028 complete"
       ]
      },
      {
       "output_type": "stream",
       "stream": "stdout",
       "text": [
        "\r",
        " [**********************54%*                      ]  1035721 of 1918028 complete"
       ]
      },
      {
       "output_type": "stream",
       "stream": "stdout",
       "text": [
        "\r",
        " [**********************55%*                      ]  1054901 of 1918028 complete"
       ]
      },
      {
       "output_type": "stream",
       "stream": "stdout",
       "text": [
        "\r",
        " [**********************56%**                     ]  1074081 of 1918028 complete"
       ]
      },
      {
       "output_type": "stream",
       "stream": "stdout",
       "text": [
        "\r",
        " [**********************57%**                     ]  1093261 of 1918028 complete"
       ]
      },
      {
       "output_type": "stream",
       "stream": "stdout",
       "text": [
        "\r",
        " [**********************58%***                    ]  1112441 of 1918028 complete"
       ]
      },
      {
       "output_type": "stream",
       "stream": "stdout",
       "text": [
        "\r",
        " [**********************59%***                    ]  1131621 of 1918028 complete"
       ]
      },
      {
       "output_type": "stream",
       "stream": "stdout",
       "text": [
        "\r",
        " [**********************60%****                   ]  1150801 of 1918028 complete"
       ]
      },
      {
       "output_type": "stream",
       "stream": "stdout",
       "text": [
        "\r",
        " [**********************61%****                   ]  1169981 of 1918028 complete"
       ]
      },
      {
       "output_type": "stream",
       "stream": "stdout",
       "text": [
        "\r",
        " [**********************62%*****                  ]  1189161 of 1918028 complete"
       ]
      },
      {
       "output_type": "stream",
       "stream": "stdout",
       "text": [
        "\r",
        " [**********************63%*****                  ]  1208341 of 1918028 complete"
       ]
      },
      {
       "output_type": "stream",
       "stream": "stdout",
       "text": [
        "\r",
        " [**********************64%******                 ]  1227521 of 1918028 complete"
       ]
      },
      {
       "output_type": "stream",
       "stream": "stdout",
       "text": [
        "\r",
        " [**********************65%******                 ]  1246701 of 1918028 complete"
       ]
      },
      {
       "output_type": "stream",
       "stream": "stdout",
       "text": [
        "\r",
        " [**********************66%*******                ]  1265881 of 1918028 complete"
       ]
      },
      {
       "output_type": "stream",
       "stream": "stdout",
       "text": [
        "\r",
        " [**********************67%*******                ]  1285061 of 1918028 complete"
       ]
      },
      {
       "output_type": "stream",
       "stream": "stdout",
       "text": [
        "\r",
        " [**********************68%********               ]  1304241 of 1918028 complete"
       ]
      },
      {
       "output_type": "stream",
       "stream": "stdout",
       "text": [
        "\r",
        " [**********************69%********               ]  1323421 of 1918028 complete"
       ]
      },
      {
       "output_type": "stream",
       "stream": "stdout",
       "text": [
        "\r",
        " [**********************70%*********              ]  1342601 of 1918028 complete"
       ]
      },
      {
       "output_type": "stream",
       "stream": "stdout",
       "text": [
        "\r",
        " [**********************71%*********              ]  1361781 of 1918028 complete"
       ]
      },
      {
       "output_type": "stream",
       "stream": "stdout",
       "text": [
        "\r",
        " [**********************72%**********             ]  1380961 of 1918028 complete"
       ]
      },
      {
       "output_type": "stream",
       "stream": "stdout",
       "text": [
        "\r",
        " [**********************73%**********             ]  1400141 of 1918028 complete"
       ]
      },
      {
       "output_type": "stream",
       "stream": "stdout",
       "text": [
        "\r",
        " [**********************74%***********            ]  1419321 of 1918028 complete"
       ]
      },
      {
       "output_type": "stream",
       "stream": "stdout",
       "text": [
        "\r",
        " [**********************75%***********            ]  1438501 of 1918028 complete"
       ]
      },
      {
       "output_type": "stream",
       "stream": "stdout",
       "text": [
        "\r",
        " [**********************76%***********            ]  1457681 of 1918028 complete"
       ]
      },
      {
       "output_type": "stream",
       "stream": "stdout",
       "text": [
        "\r",
        " [**********************77%************           ]  1476861 of 1918028 complete"
       ]
      },
      {
       "output_type": "stream",
       "stream": "stdout",
       "text": [
        "\r",
        " [**********************78%************           ]  1496041 of 1918028 complete"
       ]
      },
      {
       "output_type": "stream",
       "stream": "stdout",
       "text": [
        "\r",
        " [**********************79%*************          ]  1515221 of 1918028 complete"
       ]
      },
      {
       "output_type": "stream",
       "stream": "stdout",
       "text": [
        "\r",
        " [**********************80%*************          ]  1534401 of 1918028 complete"
       ]
      },
      {
       "output_type": "stream",
       "stream": "stdout",
       "text": [
        "\r",
        " [**********************81%**************         ]  1553581 of 1918028 complete"
       ]
      },
      {
       "output_type": "stream",
       "stream": "stdout",
       "text": [
        "\r",
        " [**********************82%**************         ]  1572761 of 1918028 complete"
       ]
      },
      {
       "output_type": "stream",
       "stream": "stdout",
       "text": [
        "\r",
        " [**********************83%***************        ]  1591941 of 1918028 complete"
       ]
      },
      {
       "output_type": "stream",
       "stream": "stdout",
       "text": [
        "\r",
        " [**********************84%***************        ]  1611121 of 1918028 complete"
       ]
      },
      {
       "output_type": "stream",
       "stream": "stdout",
       "text": [
        "\r",
        " [**********************85%****************       ]  1630301 of 1918028 complete"
       ]
      },
      {
       "output_type": "stream",
       "stream": "stdout",
       "text": [
        "\r",
        " [**********************86%****************       ]  1649481 of 1918028 complete"
       ]
      },
      {
       "output_type": "stream",
       "stream": "stdout",
       "text": [
        "\r",
        " [**********************87%*****************      ]  1668661 of 1918028 complete"
       ]
      },
      {
       "output_type": "stream",
       "stream": "stdout",
       "text": [
        "\r",
        " [**********************88%*****************      ]  1687841 of 1918028 complete"
       ]
      },
      {
       "output_type": "stream",
       "stream": "stdout",
       "text": [
        "\r",
        " [**********************89%******************     ]  1707021 of 1918028 complete"
       ]
      },
      {
       "output_type": "stream",
       "stream": "stdout",
       "text": [
        "\r",
        " [**********************90%******************     ]  1726201 of 1918028 complete"
       ]
      },
      {
       "output_type": "stream",
       "stream": "stdout",
       "text": [
        "\r",
        " [**********************91%*******************    ]  1745381 of 1918028 complete"
       ]
      },
      {
       "output_type": "stream",
       "stream": "stdout",
       "text": [
        "\r",
        " [**********************92%*******************    ]  1764561 of 1918028 complete"
       ]
      },
      {
       "output_type": "stream",
       "stream": "stdout",
       "text": [
        "\r",
        " [**********************93%********************   ]  1783741 of 1918028 complete"
       ]
      },
      {
       "output_type": "stream",
       "stream": "stdout",
       "text": [
        "\r",
        " [**********************94%********************   ]  1802921 of 1918028 complete"
       ]
      },
      {
       "output_type": "stream",
       "stream": "stdout",
       "text": [
        "\r",
        " [**********************95%*********************  ]  1822101 of 1918028 complete"
       ]
      },
      {
       "output_type": "stream",
       "stream": "stdout",
       "text": [
        "\r",
        " [**********************96%*********************  ]  1841281 of 1918028 complete"
       ]
      },
      {
       "output_type": "stream",
       "stream": "stdout",
       "text": [
        "\r",
        " [**********************97%********************** ]  1860461 of 1918028 complete"
       ]
      },
      {
       "output_type": "stream",
       "stream": "stdout",
       "text": [
        "\r",
        " [**********************98%********************** ]  1879641 of 1918028 complete"
       ]
      },
      {
       "output_type": "stream",
       "stream": "stdout",
       "text": [
        "\r",
        " [**********************99%***********************]  1898821 of 1918028 complete"
       ]
      }
     ],
     "prompt_number": 19
    },
    {
     "cell_type": "code",
     "collapsed": false,
     "input": [
      "cEffSim1 = TCanvas(\"\", \"\", 400, 400)\n",
      "# cEffSim1.Divide(2,1)\n",
      "# cEffSim1.cd(1)\n",
      "\n",
      "cosmicVsD0Sim.Draw(\"E\")\n",
      "cosmicVsD0Sim.SetTitle(\"\")\n",
      "cosmicVsD0Sim.SetLineColor(1)\n",
      "cosmicVsD0Sim.GetXaxis().SetTitle(\"d_{0} [cm]\")\n",
      "cosmicVsD0Sim.GetYaxis().SetTitle(\"Entries\")\n",
      "cosmicVsD0Sim.GetYaxis().SetTitleOffset(1.5)\n",
      "cosmicVsD0Sim.GetYaxis().SetRangeUser(0, 1200)\n",
      "# cosmicVsD0Sim.GetYaxis().SetRangeUser(0, 120)\n",
      "cosmicVsD0Sim.SetMarkerStyle(20)\n",
      "cosmicVsD0Sim.SetMarkerSize(0.7)\n",
      "cosmicVsD0Sim.SetMarkerColor(1)\n",
      "cosmicVsD0VertexSim.Draw(\"sameE\")\n",
      "cosmicVsD0VertexSim.SetLineColor(2)\n",
      "cosmicVsD0VertexSim.SetMarkerStyle(22)\n",
      "cosmicVsD0VertexSim.SetMarkerSize(0.75)\n",
      "cosmicVsD0VertexSim.SetMarkerColor(2)\n",
      "# cosmicVsLxyVertex.Draw(\"same\")\n",
      "# cosmicVsLxyVertex.SetLineColor(3)\n",
      "\n",
      "legSim = ROOT.TLegend(0.11,0.75,0.8,0.89);\n",
      "legSim.SetBorderSize(0)\n",
      "legSim.SetFillColor(0)\n",
      "legSim.AddEntry(cosmicVsD0Sim,\"Reconstructed tracks\",\"pl\");\n",
      "legSim.AddEntry(cosmicVsD0VertexSim,\"Reconstructed secondary vertex\",\"pl\");\n",
      "legSim.Draw(\"same\");\n",
      "\n",
      "# cEffSim1.SaveAs(\"trackAndSV_Sim_cut0.root\")\n",
      "# cEffSim1.SaveAs(\"trackAndSV_Sim_cut0.pdf\")\n",
      "cEffSim1"
     ],
     "language": "python",
     "metadata": {},
     "outputs": [
      {
       "output_type": "stream",
       "stream": "stderr",
       "text": [
        "TCanvas::Constructor:0: RuntimeWarning: Deleting canvas with same name: \n"
       ]
      },
      {
       "metadata": {},
       "output_type": "pyout",
       "png": "[encoded data removed]",
       "prompt_number": 28,
       "text": [
        "<ROOT.TCanvas object at 0x41e64e0>"
       ]
      }
     ],
     "prompt_number": 28
    },
    {
     "cell_type": "code",
     "collapsed": false,
     "input": [
      "cEffSim2 = TCanvas(\"\", \"\", 400, 400)\n",
      "effSim = ROOT.TEfficiency(cosmicVsD0VertexSim, cosmicVsD0Sim)\n",
      "effSim.Draw()\n",
      "ROOT.gPad.Update();\n",
      "effSim.GetPaintedGraph().GetYaxis().SetRangeUser(0, 1.05)\n",
      "effSim.SetTitle(\" ; d_{0} [cm] ; Efficiency\")\n",
      "# cEffSim2.SaveAs(\"SVEff_Sim_cut0.root\")\n",
      "# cEffSim2.SaveAs(\"SVEff_Sim_cut0.pdf\")\n",
      "cEffSim2"
     ],
     "language": "python",
     "metadata": {},
     "outputs": [
      {
       "output_type": "stream",
       "stream": "stderr",
       "text": [
        "TCanvas::Constructor:0: RuntimeWarning: Deleting canvas with same name: \n"
       ]
      },
      {
       "metadata": {},
       "output_type": "pyout",
       "png": "[encoded data removed]",
       "prompt_number": 21,
       "text": [
        "<ROOT.TCanvas object at 0x4008e60>"
       ]
      }
     ],
     "prompt_number": 21
    },
    {
     "cell_type": "heading",
     "level": 2,
     "metadata": {},
     "source": [
      "Efficiency Comparison"
     ]
    },
    {
     "cell_type": "code",
     "collapsed": false,
     "input": [
      "cEffComparison = TCanvas(\"\", \"\", 400, 400)\n",
      "effData.Draw()\n",
      "effData.SetMarkerStyle(20)\n",
      "effData.SetMarkerSize(0.7)\n",
      "effData.SetMarkerColor(1)\n",
      "effSim.Draw(\"same\")\n",
      "effSim.SetLineColor(2)\n",
      "effSim.SetMarkerStyle(22)\n",
      "effSim.SetMarkerSize(0.75)\n",
      "effSim.SetMarkerColor(2)\n",
      "\n",
      "legComparison = ROOT.TLegend(0.11,0.15,0.8,0.3);\n",
      "legComparison.SetBorderSize(0)\n",
      "legComparison.SetFillColor(0)\n",
      "legComparison.AddEntry(effData,\"Cosmics Data\",\"pl\");\n",
      "legComparison.AddEntry(effSim,\"Cosmics Simulation\",\"pl\");\n",
      "legComparison.Draw(\"same\");\n",
      "\n",
      "# cEffComparison.SaveAs(\"SVEffComparison_cut0.root\")\n",
      "# cEffComparison.SaveAs(\"SVEffComparison_cut0.pdf\")\n",
      "cEffComparison"
     ],
     "language": "python",
     "metadata": {},
     "outputs": [
      {
       "output_type": "stream",
       "stream": "stderr",
       "text": [
        "TCanvas::Constructor:0: RuntimeWarning: Deleting canvas with same name: \n"
       ]
      },
      {
       "metadata": {},
       "output_type": "pyout",
       "png": "[encoded data removed]",
       "prompt_number": 24,
       "text": [
        "<ROOT.TCanvas object at 0x4218400>"
       ]
      }
     ],
     "prompt_number": 24
    },
    {
     "cell_type": "code",
     "collapsed": false,
     "input": [],
     "language": "python",
     "metadata": {},
     "outputs": [],
     "prompt_number": 22
    }
   ],
   "metadata": {}
  }
 ]
}