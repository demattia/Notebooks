{
 "metadata": {
  "name": "EmbeddedCanvas"
 },
 "nbformat": 3,
 "nbformat_minor": 0,
 "worksheets": [
  {
   "cells": [
    {
     "cell_type": "code",
     "collapsed": false,
     "input": [
      "import rootnotes"
     ],
     "language": "python",
     "metadata": {},
     "outputs": [],
     "prompt_number": 262
    },
    {
     "cell_type": "code",
     "collapsed": false,
     "input": [
      "from ROOT import TCanvas, TFormula, TF1\n",
      "from ROOT import gROOT, gObjectTable\n",
      "\n",
      "gROOT.Reset()\n",
      "\n",
      "# c1 = rootnotes.default_canvas()\n",
      "c1 = rootnotes.canvas(\"test\", (400, 400))"
     ],
     "language": "python",
     "metadata": {},
     "outputs": [],
     "prompt_number": 273
    },
    {
     "cell_type": "code",
     "collapsed": false,
     "input": [
      "form1 = TFormula( 'form1', '2*sqrt(abs(x))' )\n",
      "form1.Eval( 2 )\n",
      "form1.Eval( -45 )"
     ],
     "language": "python",
     "metadata": {},
     "outputs": [
      {
       "output_type": "pyout",
       "prompt_number": 274,
       "text": [
        "13.416407864998739"
       ]
      }
     ],
     "prompt_number": 274
    },
    {
     "cell_type": "code",
     "collapsed": false,
     "input": [
      "fun1 = TF1( 'fun1', '2*abs(sin(x)/x)', 0, 10 )\n",
      "c1.SetGridx()\n",
      "c1.SetGridy()\n",
      "fun1.Draw()\n",
      "c1"
     ],
     "language": "python",
     "metadata": {},
     "outputs": [
      {
       "output_type": "pyout",
       "png": "[encoded data removed]",
       "prompt_number": 275,
       "text": [
        "<ROOT.TCanvas object (\"test\") at 0x7fca44bfbc70>"
       ]
      }
     ],
     "prompt_number": 275
    },
    {
     "cell_type": "markdown",
     "metadata": {},
     "source": [
      "A way to force change the size of the canvas is to force delete it. Note that only the size can be hard to vary. The content will still be updated at any rerun."
     ]
    },
    {
     "cell_type": "code",
     "collapsed": false,
     "input": [
      "canvas = TCanvas(\"test\", \"test\", 400, 400)"
     ],
     "language": "python",
     "metadata": {},
     "outputs": [
      {
       "output_type": "stream",
       "stream": "stderr",
       "text": [
        "TCanvas::Constructor:0: RuntimeWarning: Deleting canvas with same name: test\n"
       ]
      }
     ],
     "prompt_number": 276
    },
    {
     "cell_type": "code",
     "collapsed": false,
     "input": [],
     "language": "python",
     "metadata": {},
     "outputs": []
    }
   ],
   "metadata": {}
  }
 ]
}