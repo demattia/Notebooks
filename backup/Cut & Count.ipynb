{
 "metadata": {
  "name": "Cut & Count"
 },
 "nbformat": 3,
 "nbformat_minor": 0,
 "worksheets": [
  {
   "cells": [
    {
     "cell_type": "code",
     "collapsed": false,
     "input": [
      "cd /Users/demattia/TMVA-v4.1.2/test/Rewritten/rootfiles/"
     ],
     "language": "python",
     "metadata": {},
     "outputs": [
      {
       "output_type": "stream",
       "stream": "stdout",
       "text": [
        "/Users/demattia/TMVA-v4.1.2/test/Rewritten/rootfiles\n"
       ]
      }
     ],
     "prompt_number": 3
    },
    {
     "cell_type": "code",
     "collapsed": false,
     "input": [
      "import ROOT\n",
      "from rootpy.io import root_open\n",
      "from rootpy.plotting import Hist, Hist2D, HistStack, Legend, Canvas\n",
      "import rootpy.plotting.root2matplotlib as rplt\n",
      "import matplotlib.pyplot as plt\n",
      "\n",
      "ROOT.gROOT.SetBatch()\n",
      "\n",
      "commonCuts = \"pvw8 > 0.6 && m1pt > 4.5 && m2pt > 4.0 && pvip < 0.008 && pvips < 2.0 && iso > 0.8 && maxdoca > 0.015 && closetrk < 2\"\n",
      "# barrelCuts = commonCuts+\" && abs(m1eta) < 1.4 && abs(m2eta) < 1.4 && pt > 6.5 && alpha < 0.05 && chi2dof < 2.2 && fls3d > 13\"\n",
      "barrelCuts = commonCuts+\" && pt > 6.5 && alpha < 0.05 && chi2dof < 2.2 && fls3d > 13\"\n",
      "\n",
      "# Barrel_preselection.root\n",
      "with root_open(\"../MainAnalysis/tmva-trees-24-2012.root\", \"READ\") as f:\n",
      "    tree = f.probe_tree\n",
      "    t1 = tree.CopyTree(barrelCuts)\n",
      "    print t1.GetEntries()\n",
      "# print \"Entries =\", h1.GetEntries()\n",
      "# rplt.hist(h1)"
     ],
     "language": "python",
     "metadata": {},
     "outputs": [
      {
       "ename": "AttributeError",
       "evalue": "File('../MainAnalysis/tmva-trees-24-2012.root') has no attribute 'probe_tree'",
       "output_type": "pyerr",
       "traceback": [
        "\u001b[0;31m---------------------------------------------------------------------------\u001b[0m\n\u001b[0;31mAttributeError\u001b[0m                            Traceback (most recent call last)",
        "\u001b[0;32m<ipython-input-48-5352ca7f859c>\u001b[0m in \u001b[0;36m<module>\u001b[0;34m()\u001b[0m\n\u001b[1;32m     13\u001b[0m \u001b[0;31m# Barrel_preselection.root\u001b[0m\u001b[0;34m\u001b[0m\u001b[0;34m\u001b[0m\u001b[0m\n\u001b[1;32m     14\u001b[0m \u001b[0;32mwith\u001b[0m \u001b[0mroot_open\u001b[0m\u001b[0;34m(\u001b[0m\u001b[0;34m\"../MainAnalysis/tmva-trees-24-2012.root\"\u001b[0m\u001b[0;34m,\u001b[0m \u001b[0;34m\"READ\"\u001b[0m\u001b[0;34m)\u001b[0m \u001b[0;32mas\u001b[0m \u001b[0mf\u001b[0m\u001b[0;34m:\u001b[0m\u001b[0;34m\u001b[0m\u001b[0m\n\u001b[0;32m---> 15\u001b[0;31m     \u001b[0mtree\u001b[0m \u001b[0;34m=\u001b[0m \u001b[0mf\u001b[0m\u001b[0;34m.\u001b[0m\u001b[0mprobe_tree\u001b[0m\u001b[0;34m\u001b[0m\u001b[0m\n\u001b[0m\u001b[1;32m     16\u001b[0m     \u001b[0mt1\u001b[0m \u001b[0;34m=\u001b[0m \u001b[0mtree\u001b[0m\u001b[0;34m.\u001b[0m\u001b[0mCopyTree\u001b[0m\u001b[0;34m(\u001b[0m\u001b[0mbarrelCuts\u001b[0m\u001b[0;34m)\u001b[0m\u001b[0;34m\u001b[0m\u001b[0m\n\u001b[1;32m     17\u001b[0m     \u001b[0;32mprint\u001b[0m \u001b[0mt1\u001b[0m\u001b[0;34m.\u001b[0m\u001b[0mGetEntries\u001b[0m\u001b[0;34m(\u001b[0m\u001b[0;34m)\u001b[0m\u001b[0;34m\u001b[0m\u001b[0m\n",
        "\u001b[0;32m/Library/Python/2.7/site-packages/rootpy-dev-py2.7.egg/rootpy/io/file.pyc\u001b[0m in \u001b[0;36m__getattr__\u001b[0;34m(self, attr)\u001b[0m\n\u001b[1;32m    140\u001b[0m         \u001b[0mthing\u001b[0m \u001b[0;34m=\u001b[0m \u001b[0msuper\u001b[0m\u001b[0;34m(\u001b[0m\u001b[0m_DirectoryBase\u001b[0m\u001b[0;34m,\u001b[0m \u001b[0mself\u001b[0m\u001b[0;34m)\u001b[0m\u001b[0;34m.\u001b[0m\u001b[0mGet\u001b[0m\u001b[0;34m(\u001b[0m\u001b[0mattr\u001b[0m\u001b[0;34m)\u001b[0m\u001b[0;34m\u001b[0m\u001b[0m\n\u001b[1;32m    141\u001b[0m         \u001b[0;32mif\u001b[0m \u001b[0;32mnot\u001b[0m \u001b[0mthing\u001b[0m\u001b[0;34m:\u001b[0m\u001b[0;34m\u001b[0m\u001b[0m\n\u001b[0;32m--> 142\u001b[0;31m             \u001b[0;32mraise\u001b[0m \u001b[0mAttributeError\u001b[0m\u001b[0;34m(\u001b[0m\u001b[0;34m\"{0} has no attribute '{1}'\"\u001b[0m\u001b[0;34m.\u001b[0m\u001b[0mformat\u001b[0m\u001b[0;34m(\u001b[0m\u001b[0mself\u001b[0m\u001b[0;34m,\u001b[0m \u001b[0mattr\u001b[0m\u001b[0;34m)\u001b[0m\u001b[0;34m)\u001b[0m\u001b[0;34m\u001b[0m\u001b[0m\n\u001b[0m\u001b[1;32m    143\u001b[0m         \u001b[0mthing\u001b[0m \u001b[0;34m=\u001b[0m \u001b[0masrootpy\u001b[0m\u001b[0;34m(\u001b[0m\u001b[0mthing\u001b[0m\u001b[0;34m)\u001b[0m\u001b[0;34m\u001b[0m\u001b[0m\n\u001b[1;32m    144\u001b[0m         \u001b[0;32mif\u001b[0m \u001b[0misinstance\u001b[0m\u001b[0;34m(\u001b[0m\u001b[0mthing\u001b[0m\u001b[0;34m,\u001b[0m \u001b[0mDirectory\u001b[0m\u001b[0;34m)\u001b[0m\u001b[0;34m:\u001b[0m\u001b[0;34m\u001b[0m\u001b[0m\n",
        "\u001b[0;31mAttributeError\u001b[0m: File('../MainAnalysis/tmva-trees-24-2012.root') has no attribute 'probe_tree'"
       ]
      }
     ],
     "prompt_number": 48
    },
    {
     "cell_type": "code",
     "collapsed": false,
     "input": [],
     "language": "python",
     "metadata": {},
     "outputs": []
    }
   ],
   "metadata": {}
  }
 ]
}