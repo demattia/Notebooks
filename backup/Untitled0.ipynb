{
 "metadata": {
  "name": "Untitled0"
 },
 "nbformat": 3,
 "nbformat_minor": 0,
 "worksheets": [
  {
   "cells": [
    {
     "cell_type": "code",
     "collapsed": false,
     "input": [
      "from multiprocessing import Process, Queue, Pool\n",
      "import numpy as np\n",
      "import os\n",
      "\n",
      "def info(title):\n",
      "    print title\n",
      "    print 'module name:', __name__\n",
      "    if hasattr(os, 'getppid'):  # only available on Unix\n",
      "        print 'parent process:', os.getppid()\n",
      "    print 'process id:', os.getpid()\n",
      "\n",
      "def f(i):\n",
      "    return i*np.identity(4)\n",
      "\n",
      "if __name__ == '__main__':\n",
      "    p=Pool(5)\n",
      "    result = np.zeros((4,4))\n",
      "    def adder(value):\n",
      "        global result\n",
      "        result += value\n",
      "\n",
      "    for i in range(30):\n",
      "        p.apply_async(f, args=(i,), callback=adder)\n",
      "    p.close()\n",
      "    p.join()\n",
      "    print result"
     ],
     "language": "python",
     "metadata": {},
     "outputs": [
      {
       "output_type": "stream",
       "stream": "stdout",
       "text": [
        "[[ 435.    0.    0.    0.]\n",
        " [   0.  435.    0.    0.]\n",
        " [   0.    0.  435.    0.]\n",
        " [   0.    0.    0.  435.]]\n"
       ]
      }
     ],
     "prompt_number": 7
    },
    {
     "cell_type": "code",
     "collapsed": false,
     "input": [],
     "language": "python",
     "metadata": {},
     "outputs": []
    }
   ],
   "metadata": {}
  }
 ]
}