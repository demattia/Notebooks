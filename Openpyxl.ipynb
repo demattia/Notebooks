{
 "metadata": {
  "name": ""
 },
 "nbformat": 3,
 "nbformat_minor": 0,
 "worksheets": [
  {
   "cells": [
    {
     "cell_type": "code",
     "collapsed": false,
     "input": [
      "from openpyxl import load_workbook\n",
      "import csv\n",
      "def update_xlsx(src, dest):\n",
      "    #Open an xlsx for reading\n",
      "    wb = load_workbook(filename = dest, keep_vba=True)\n",
      "    #Get the current Active Sheet\n",
      "    # ws = wb.get_active_sheet()\n",
      "    # print ws.title\n",
      "    #You can also select a particular sheet\n",
      "    #based on sheet name\n",
      "    ws = wb.get_sheet_by_name(\"OnPeak\")\n",
      "    #Open the csv file\n",
      "    with open(src,'rU') as fin:\n",
      "        #read the csv\n",
      "        reader = csv.reader(fin)\n",
      "        #enumerate the rows, so that you can\n",
      "        #get the row index for the xlsx\n",
      "        for index,row in enumerate(reader):\n",
      "            if index < 6: continue\n",
      "            print row\n",
      "            #Asssuming space sepeated,\n",
      "            #Split the row to cells (column)\n",
      "            # row = row[0].split(',')\n",
      "            #Access the particular cell and assign\n",
      "            #the value from the csv row\n",
      "            print ws.cell(row=index,column=0).value, ws.cell(row=index,column=1).value, ws.cell(row=index,column=2).value, ws.cell(row=index,column=3).value, ws.cell(row=index,column=4).value\n",
      "            # ws.cell(row=index,column=1).value = row[index-6]\n",
      "            # ws.cell(row=index,column=2).value = row[index-6]\n",
      "            ws.cell(row=index,column=3).value = row[3]\n",
      "            ws.cell(row=index,column=4).value = row[4]\n",
      "    #save the csb file\n",
      "    wb.save(dest)"
     ],
     "language": "python",
     "metadata": {},
     "outputs": [],
     "prompt_number": 131
    },
    {
     "cell_type": "code",
     "collapsed": false,
     "input": [
      "update_xlsx(\"Jul_2013_Q2.csv\", \"Jul_2013_Q2.xlsm\")"
     ],
     "language": "python",
     "metadata": {},
     "outputs": [
      {
       "ename": "BadZipfile",
       "evalue": "File name in directory \"[Content_Types].xml\" and header \"xl/sharedStrings.xml\" differ.",
       "output_type": "pyerr",
       "traceback": [
        "\u001b[0;31m---------------------------------------------------------------------------\u001b[0m\n\u001b[0;31mBadZipfile\u001b[0m                                Traceback (most recent call last)",
        "\u001b[0;32m<ipython-input-132-8142f5d8ab79>\u001b[0m in \u001b[0;36m<module>\u001b[0;34m()\u001b[0m\n\u001b[0;32m----> 1\u001b[0;31m \u001b[0mupdate_xlsx\u001b[0m\u001b[0;34m(\u001b[0m\u001b[0;34m\"Jul_2013_Q2.csv\"\u001b[0m\u001b[0;34m,\u001b[0m \u001b[0;34m\"Jul_2013_Q2.xlsm\"\u001b[0m\u001b[0;34m)\u001b[0m\u001b[0;34m\u001b[0m\u001b[0m\n\u001b[0m",
        "\u001b[0;32m<ipython-input-131-311af13ce2a6>\u001b[0m in \u001b[0;36mupdate_xlsx\u001b[0;34m(src, dest)\u001b[0m\n\u001b[1;32m     30\u001b[0m             \u001b[0mws\u001b[0m\u001b[0;34m.\u001b[0m\u001b[0mcell\u001b[0m\u001b[0;34m(\u001b[0m\u001b[0mrow\u001b[0m\u001b[0;34m=\u001b[0m\u001b[0mindex\u001b[0m\u001b[0;34m,\u001b[0m\u001b[0mcolumn\u001b[0m\u001b[0;34m=\u001b[0m\u001b[0;36m4\u001b[0m\u001b[0;34m)\u001b[0m\u001b[0;34m.\u001b[0m\u001b[0mvalue\u001b[0m \u001b[0;34m=\u001b[0m \u001b[0mrow\u001b[0m\u001b[0;34m[\u001b[0m\u001b[0;36m4\u001b[0m\u001b[0;34m]\u001b[0m\u001b[0;34m\u001b[0m\u001b[0m\n\u001b[1;32m     31\u001b[0m     \u001b[0;31m#save the csb file\u001b[0m\u001b[0;34m\u001b[0m\u001b[0;34m\u001b[0m\u001b[0m\n\u001b[0;32m---> 32\u001b[0;31m     \u001b[0mwb\u001b[0m\u001b[0;34m.\u001b[0m\u001b[0msave\u001b[0m\u001b[0;34m(\u001b[0m\u001b[0mdest\u001b[0m\u001b[0;34m)\u001b[0m\u001b[0;34m\u001b[0m\u001b[0m\n\u001b[0m",
        "\u001b[0;32m/Library/Python/2.7/site-packages/openpyxl/workbook.pyc\u001b[0m in \u001b[0;36msave\u001b[0;34m(self, filename)\u001b[0m\n\u001b[1;32m    230\u001b[0m             \u001b[0msave_dump\u001b[0m\u001b[0;34m(\u001b[0m\u001b[0mself\u001b[0m\u001b[0;34m,\u001b[0m \u001b[0mfilename\u001b[0m\u001b[0;34m)\u001b[0m\u001b[0;34m\u001b[0m\u001b[0m\n\u001b[1;32m    231\u001b[0m         \u001b[0;32melse\u001b[0m\u001b[0;34m:\u001b[0m\u001b[0;34m\u001b[0m\u001b[0m\n\u001b[0;32m--> 232\u001b[0;31m             \u001b[0msave_workbook\u001b[0m\u001b[0;34m(\u001b[0m\u001b[0mself\u001b[0m\u001b[0;34m,\u001b[0m \u001b[0mfilename\u001b[0m\u001b[0;34m)\u001b[0m\u001b[0;34m\u001b[0m\u001b[0m\n\u001b[0m",
        "\u001b[0;32m/Library/Python/2.7/site-packages/openpyxl/writer/excel.pyc\u001b[0m in \u001b[0;36msave_workbook\u001b[0;34m(workbook, filename)\u001b[0m\n\u001b[1;32m    157\u001b[0m     \"\"\"\n\u001b[1;32m    158\u001b[0m     \u001b[0mwriter\u001b[0m \u001b[0;34m=\u001b[0m \u001b[0mExcelWriter\u001b[0m\u001b[0;34m(\u001b[0m\u001b[0mworkbook\u001b[0m\u001b[0;34m)\u001b[0m\u001b[0;34m\u001b[0m\u001b[0m\n\u001b[0;32m--> 159\u001b[0;31m     \u001b[0mwriter\u001b[0m\u001b[0;34m.\u001b[0m\u001b[0msave\u001b[0m\u001b[0;34m(\u001b[0m\u001b[0mfilename\u001b[0m\u001b[0;34m)\u001b[0m\u001b[0;34m\u001b[0m\u001b[0m\n\u001b[0m\u001b[1;32m    160\u001b[0m     \u001b[0;32mreturn\u001b[0m \u001b[0mTrue\u001b[0m\u001b[0;34m\u001b[0m\u001b[0m\n\u001b[1;32m    161\u001b[0m \u001b[0;34m\u001b[0m\u001b[0m\n",
        "\u001b[0;32m/Library/Python/2.7/site-packages/openpyxl/writer/excel.pyc\u001b[0m in \u001b[0;36msave\u001b[0;34m(self, filename)\u001b[0m\n\u001b[1;32m    140\u001b[0m         \u001b[0;34m\"\"\"Write data into the archive.\"\"\"\u001b[0m\u001b[0;34m\u001b[0m\u001b[0m\n\u001b[1;32m    141\u001b[0m         \u001b[0marchive\u001b[0m \u001b[0;34m=\u001b[0m \u001b[0mZipFile\u001b[0m\u001b[0;34m(\u001b[0m\u001b[0mfilename\u001b[0m\u001b[0;34m,\u001b[0m \u001b[0;34m'w'\u001b[0m\u001b[0;34m,\u001b[0m \u001b[0mZIP_DEFLATED\u001b[0m\u001b[0;34m)\u001b[0m\u001b[0;34m\u001b[0m\u001b[0m\n\u001b[0;32m--> 142\u001b[0;31m         \u001b[0mself\u001b[0m\u001b[0;34m.\u001b[0m\u001b[0mwrite_data\u001b[0m\u001b[0;34m(\u001b[0m\u001b[0marchive\u001b[0m\u001b[0;34m)\u001b[0m\u001b[0;34m\u001b[0m\u001b[0m\n\u001b[0m\u001b[1;32m    143\u001b[0m         \u001b[0marchive\u001b[0m\u001b[0;34m.\u001b[0m\u001b[0mclose\u001b[0m\u001b[0;34m(\u001b[0m\u001b[0;34m)\u001b[0m\u001b[0;34m\u001b[0m\u001b[0m\n\u001b[1;32m    144\u001b[0m \u001b[0;34m\u001b[0m\u001b[0m\n",
        "\u001b[0;32m/Library/Python/2.7/site-packages/openpyxl/writer/excel.pyc\u001b[0m in \u001b[0;36mwrite_data\u001b[0;34m(self, archive)\u001b[0m\n\u001b[1;32m     60\u001b[0m         \u001b[0mshared_string_table\u001b[0m \u001b[0;34m=\u001b[0m \u001b[0mself\u001b[0m\u001b[0;34m.\u001b[0m\u001b[0m_write_string_table\u001b[0m\u001b[0;34m(\u001b[0m\u001b[0marchive\u001b[0m\u001b[0;34m)\u001b[0m\u001b[0;34m\u001b[0m\u001b[0m\n\u001b[1;32m     61\u001b[0m \u001b[0;34m\u001b[0m\u001b[0m\n\u001b[0;32m---> 62\u001b[0;31m         \u001b[0marchive\u001b[0m\u001b[0;34m.\u001b[0m\u001b[0mwritestr\u001b[0m\u001b[0;34m(\u001b[0m\u001b[0mARC_CONTENT_TYPES\u001b[0m\u001b[0;34m,\u001b[0m \u001b[0mwrite_content_types\u001b[0m\u001b[0;34m(\u001b[0m\u001b[0mself\u001b[0m\u001b[0;34m.\u001b[0m\u001b[0mworkbook\u001b[0m\u001b[0;34m)\u001b[0m\u001b[0;34m)\u001b[0m\u001b[0;34m\u001b[0m\u001b[0m\n\u001b[0m\u001b[1;32m     63\u001b[0m         \u001b[0;32mif\u001b[0m \u001b[0;32mnot\u001b[0m \u001b[0mself\u001b[0m\u001b[0;34m.\u001b[0m\u001b[0mworkbook\u001b[0m\u001b[0;34m.\u001b[0m\u001b[0mvba_archive\u001b[0m\u001b[0;34m:\u001b[0m\u001b[0;34m\u001b[0m\u001b[0m\n\u001b[1;32m     64\u001b[0m             \u001b[0marchive\u001b[0m\u001b[0;34m.\u001b[0m\u001b[0mwritestr\u001b[0m\u001b[0;34m(\u001b[0m\u001b[0mARC_ROOT_RELS\u001b[0m\u001b[0;34m,\u001b[0m \u001b[0mwrite_root_rels\u001b[0m\u001b[0;34m(\u001b[0m\u001b[0mself\u001b[0m\u001b[0;34m.\u001b[0m\u001b[0mworkbook\u001b[0m\u001b[0;34m)\u001b[0m\u001b[0;34m)\u001b[0m\u001b[0;34m\u001b[0m\u001b[0m\n",
        "\u001b[0;32m/Library/Python/2.7/site-packages/openpyxl/writer/workbook.pyc\u001b[0m in \u001b[0;36mwrite_content_types\u001b[0;34m(workbook)\u001b[0m\n\u001b[1;32m     62\u001b[0m     \u001b[0mseen\u001b[0m \u001b[0;34m=\u001b[0m \u001b[0mset\u001b[0m\u001b[0;34m(\u001b[0m\u001b[0;34m)\u001b[0m\u001b[0;34m\u001b[0m\u001b[0m\n\u001b[1;32m     63\u001b[0m     \u001b[0;32mif\u001b[0m \u001b[0mworkbook\u001b[0m\u001b[0;34m.\u001b[0m\u001b[0mvba_archive\u001b[0m\u001b[0;34m:\u001b[0m\u001b[0;34m\u001b[0m\u001b[0m\n\u001b[0;32m---> 64\u001b[0;31m         \u001b[0mroot\u001b[0m \u001b[0;34m=\u001b[0m \u001b[0mfromstring\u001b[0m\u001b[0;34m(\u001b[0m\u001b[0mworkbook\u001b[0m\u001b[0;34m.\u001b[0m\u001b[0mvba_archive\u001b[0m\u001b[0;34m.\u001b[0m\u001b[0mread\u001b[0m\u001b[0;34m(\u001b[0m\u001b[0mARC_CONTENT_TYPES\u001b[0m\u001b[0;34m)\u001b[0m\u001b[0;34m)\u001b[0m\u001b[0;34m\u001b[0m\u001b[0m\n\u001b[0m\u001b[1;32m     65\u001b[0m         \u001b[0mregister_namespace\u001b[0m\u001b[0;34m(\u001b[0m\u001b[0;34m''\u001b[0m\u001b[0;34m,\u001b[0m \u001b[0;34m'http://schemas.openxmlformats.org/package/2006/content-types'\u001b[0m\u001b[0;34m)\u001b[0m\u001b[0;34m\u001b[0m\u001b[0m\n\u001b[1;32m     66\u001b[0m         \u001b[0;32mfor\u001b[0m \u001b[0melem\u001b[0m \u001b[0;32min\u001b[0m \u001b[0mroot\u001b[0m\u001b[0;34m.\u001b[0m\u001b[0mfindall\u001b[0m\u001b[0;34m(\u001b[0m\u001b[0;34m'{http://schemas.openxmlformats.org/package/2006/content-types}Override'\u001b[0m\u001b[0;34m)\u001b[0m\u001b[0;34m:\u001b[0m\u001b[0;34m\u001b[0m\u001b[0m\n",
        "\u001b[0;32m/System/Library/Frameworks/Python.framework/Versions/2.7/lib/python2.7/zipfile.pyc\u001b[0m in \u001b[0;36mread\u001b[0;34m(self, name, pwd)\u001b[0m\n\u001b[1;32m    929\u001b[0m     \u001b[0;32mdef\u001b[0m \u001b[0mread\u001b[0m\u001b[0;34m(\u001b[0m\u001b[0mself\u001b[0m\u001b[0;34m,\u001b[0m \u001b[0mname\u001b[0m\u001b[0;34m,\u001b[0m \u001b[0mpwd\u001b[0m\u001b[0;34m=\u001b[0m\u001b[0mNone\u001b[0m\u001b[0;34m)\u001b[0m\u001b[0;34m:\u001b[0m\u001b[0;34m\u001b[0m\u001b[0m\n\u001b[1;32m    930\u001b[0m         \u001b[0;34m\"\"\"Return file bytes (as a string) for name.\"\"\"\u001b[0m\u001b[0;34m\u001b[0m\u001b[0m\n\u001b[0;32m--> 931\u001b[0;31m         \u001b[0;32mreturn\u001b[0m \u001b[0mself\u001b[0m\u001b[0;34m.\u001b[0m\u001b[0mopen\u001b[0m\u001b[0;34m(\u001b[0m\u001b[0mname\u001b[0m\u001b[0;34m,\u001b[0m \u001b[0;34m\"r\"\u001b[0m\u001b[0;34m,\u001b[0m \u001b[0mpwd\u001b[0m\u001b[0;34m)\u001b[0m\u001b[0;34m.\u001b[0m\u001b[0mread\u001b[0m\u001b[0;34m(\u001b[0m\u001b[0;34m)\u001b[0m\u001b[0;34m\u001b[0m\u001b[0m\n\u001b[0m\u001b[1;32m    932\u001b[0m \u001b[0;34m\u001b[0m\u001b[0m\n\u001b[1;32m    933\u001b[0m     \u001b[0;32mdef\u001b[0m \u001b[0mopen\u001b[0m\u001b[0;34m(\u001b[0m\u001b[0mself\u001b[0m\u001b[0;34m,\u001b[0m \u001b[0mname\u001b[0m\u001b[0;34m,\u001b[0m \u001b[0mmode\u001b[0m\u001b[0;34m=\u001b[0m\u001b[0;34m\"r\"\u001b[0m\u001b[0;34m,\u001b[0m \u001b[0mpwd\u001b[0m\u001b[0;34m=\u001b[0m\u001b[0mNone\u001b[0m\u001b[0;34m)\u001b[0m\u001b[0;34m:\u001b[0m\u001b[0;34m\u001b[0m\u001b[0m\n",
        "\u001b[0;32m/System/Library/Frameworks/Python.framework/Versions/2.7/lib/python2.7/zipfile.pyc\u001b[0m in \u001b[0;36mopen\u001b[0;34m(self, name, mode, pwd)\u001b[0m\n\u001b[1;32m    974\u001b[0m                 \u001b[0;32mraise\u001b[0m \u001b[0mBadZipfile\u001b[0m\u001b[0;34m,\u001b[0m\u001b[0;31m \u001b[0m\u001b[0;31m\\\u001b[0m\u001b[0;34m\u001b[0m\u001b[0m\n\u001b[1;32m    975\u001b[0m                         'File name in directory \"%s\" and header \"%s\" differ.' % (\n\u001b[0;32m--> 976\u001b[0;31m                             zinfo.orig_filename, fname)\n\u001b[0m\u001b[1;32m    977\u001b[0m \u001b[0;34m\u001b[0m\u001b[0m\n\u001b[1;32m    978\u001b[0m             \u001b[0;31m# check for encrypted flag & handle password\u001b[0m\u001b[0;34m\u001b[0m\u001b[0;34m\u001b[0m\u001b[0m\n",
        "\u001b[0;31mBadZipfile\u001b[0m: File name in directory \"[Content_Types].xml\" and header \"xl/sharedStrings.xml\" differ."
       ]
      },
      {
       "output_type": "stream",
       "stream": "stdout",
       "text": [
        "['REMNTNCT18 KV   GT3', 'POSSUMP414 KV   G3', '0', '2', '4']\n",
        "REMNTNCT18 KV   GT3 POSSUMP414 KV   G3 0 0 0\n",
        "['BATHCO  20 KV   GM1', 'DOMINION HUB', '0', '0', '0']\n",
        "BATHCO  20 KV   GM1 DOMINION HUB 0 0 0\n",
        "['FLUVANNA18 KV   GS12', 'DOMINION HUB', '0', '0', '0']\n",
        "FLUVANNA18 KV   GS12 DOMINION HUB 0 0 0\n",
        "['BEARGRDN18 KV   CT1B', 'SHORTPMP35 KV   LANIER', '0', '0', '0']\n",
        "BEARGRDN18 KV   CT1B SHORTPMP35 KV   LANIER 0 0 0\n",
        "['FLUVANNA18 KV   GS12', 'NANNA4  22 KV   G1', '0', '0', '0']\n",
        "FLUVANNA18 KV   GS12 NANNA4  22 KV   G1 0 0 0\n",
        "['FLUVANNA18 KV   GT22', 'SURRY4  22 KV   G2', '15', '10', '0.3']\n",
        "FLUVANNA18 KV   GT22 SURRY4  22 KV   G2 15 10 0.3\n",
        "['BATHCO  20 KV   GM2', 'LOUISACT13.8 KV G1', '15', '0', '0']\n",
        "BATHCO  20 KV   GM2 LOUISACT13.8 KV G1 15 0 0\n",
        "['BATH COUNTY GEN', 'LOUISACT13.8 KV G1', '0', '0', '0']\n",
        "BATH COUNTY GEN LOUISACT13.8 KV G1 0 0 0\n",
        "['CUSHAW  2 KV    G15', 'LOUISACT13.8 KV G1', '0', '0', '0']\n",
        "CUSHAW  2 KV    G15 LOUISACT13.8 KV G1 0 0 0\n",
        "['BREMO4  13 KV   G3', 'SANNA   230 KV  G1', '0', '0', '0']\n",
        "BREMO4  13 KV   G3 SANNA   230 KV  G1 0 0 0\n",
        "['BREMO4  17 KV   G4', 'SPRUANCE13.8 KV NUG1', '0', '0', '0']\n",
        "BREMO4  17 KV   G4 SPRUANCE13.8 KV NUG1 0 0 0\n",
        "['CLOVER  25 KV   G2', 'GASTON4 14 KV   G1', '25', '23', '1']\n",
        "CLOVER  25 KV   G2 GASTON4 14 KV   G1 25 23 1\n",
        "['CLOVER  25 KV   G2', 'RORAPIDS14 KV   G1', '22', '0', '0.5']\n",
        "CLOVER  25 KV   G2 RORAPIDS14 KV   G1 22 0 0.5\n",
        "['LUMBERTON', 'SURRY4  22 KV   G2', '0', '0', '0']\n",
        "LUMBERTON SURRY4  22 KV   G2 0 0 0\n",
        "['LUMBERTON', 'OPOSSUMC18 KV   SYNCHRON', '0', '0', '0']\n",
        "LUMBERTON OPOSSUMC18 KV   SYNCHRON 0 0 0\n"
       ]
      }
     ],
     "prompt_number": 132
    },
    {
     "cell_type": "code",
     "collapsed": false,
     "input": [],
     "language": "python",
     "metadata": {},
     "outputs": [],
     "prompt_number": 132
    }
   ],
   "metadata": {}
  }
 ]
}