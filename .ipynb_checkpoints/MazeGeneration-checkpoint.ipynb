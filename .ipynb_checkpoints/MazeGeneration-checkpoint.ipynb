{
 "metadata": {
  "name": "",
  "signature": "sha256:792baf464efb6504fb16cb94749bf3cfda387185d993887fdb6f8bd07a1ca00d"
 },
 "nbformat": 3,
 "nbformat_minor": 0,
 "worksheets": [
  {
   "cells": [
    {
     "cell_type": "code",
     "collapsed": false,
     "input": [
      "%pylab inline"
     ],
     "language": "python",
     "metadata": {},
     "outputs": [
      {
       "output_type": "stream",
       "stream": "stdout",
       "text": [
        "Populating the interactive namespace from numpy and matplotlib\n"
       ]
      },
      {
       "output_type": "stream",
       "stream": "stderr",
       "text": [
        "WARNING: pylab import has clobbered these variables: ['rand']\n",
        "`%matplotlib` prevents importing * from pylab and numpy\n"
       ]
      }
     ],
     "prompt_number": 2
    },
    {
     "cell_type": "code",
     "collapsed": false,
     "input": [
      "import numpy\n",
      "from numpy.random import random_integers as rand\n",
      "import matplotlib.pyplot as pyplot\n",
      " \n",
      "def maze(width=81, height=51, complexity=.75, density=.75):\n",
      "    # Only odd shapes\n",
      "    shape = ((height // 2) * 2 + 1, (width // 2) * 2 + 1)\n",
      "    # Adjust complexity and density relative to maze size\n",
      "    complexity = int(complexity * (5 * (shape[0] + shape[1])))\n",
      "    density    = int(density * (shape[0] // 2 * shape[1] // 2))\n",
      "    # Build actual maze\n",
      "    Z = numpy.zeros(shape, dtype=bool)\n",
      "    # Fill borders\n",
      "    Z[0, :] = Z[-1, :] = 1\n",
      "    Z[:, 0] = Z[:, -1] = 1\n",
      "    # Make aisles\n",
      "    for i in range(density):\n",
      "        x, y = rand(0, shape[1] // 2) * 2, rand(0, shape[0] // 2) * 2\n",
      "        Z[y, x] = 1\n",
      "        for j in range(complexity):\n",
      "            neighbours = []\n",
      "            if x > 1:             neighbours.append((y, x - 2))\n",
      "            if x < shape[1] - 2:  neighbours.append((y, x + 2))\n",
      "            if y > 1:             neighbours.append((y - 2, x))\n",
      "            if y < shape[0] - 2:  neighbours.append((y + 2, x))\n",
      "            if len(neighbours):\n",
      "                y_,x_ = neighbours[rand(0, len(neighbours) - 1)]\n",
      "                if Z[y_, x_] == 0:\n",
      "                    Z[y_, x_] = 1\n",
      "                    Z[y_ + (y - y_) // 2, x_ + (x - x_) // 2] = 1\n",
      "                    x, y = x_, y_\n",
      "    return Z\n",
      " \n",
      "pyplot.figure(figsize=(10, 5))\n",
      "pyplot.imshow(maze(80, 40), cmap=pyplot.cm.binary, interpolation='nearest')\n",
      "pyplot.xticks([]), pyplot.yticks([])\n",
      "pyplot.show()"
     ],
     "language": "python",
     "metadata": {},
     "outputs": [
      {
       "metadata": {},
       "output_type": "display_data",
       "png": "[encoded data removed]",
       "text": [
        "<matplotlib.figure.Figure at 0x10f6093d0>"
       ]
      }
     ],
     "prompt_number": 3
    },
    {
     "cell_type": "code",
     "collapsed": false,
     "input": [],
     "language": "python",
     "metadata": {},
     "outputs": []
    }
   ],
   "metadata": {}
  }
 ]
}