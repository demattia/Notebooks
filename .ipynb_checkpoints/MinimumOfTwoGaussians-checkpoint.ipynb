{
 "metadata": {
  "name": "",
  "signature": "sha256:f46f510addba593b2c4dbb9d1ee4e9222d7a51dcba687ee5a51fa9b4065bdae9"
 },
 "nbformat": 3,
 "nbformat_minor": 0,
 "worksheets": [
  {
   "cells": [
    {
     "cell_type": "heading",
     "level": 1,
     "metadata": {},
     "source": [
      "Minimum of Two Gaussians"
     ]
    },
    {
     "cell_type": "markdown",
     "metadata": {},
     "source": [
      "We plot the distribution of the minimum of two gaussians $min(G_1(0,1), G_2(0,1))$. For an exact expression of the pdf see:\n",
      "http://ieeexplore.ieee.org/stamp/stamp.jsp?tp=&arnumber=4403040."
     ]
    },
    {
     "cell_type": "code",
     "collapsed": false,
     "input": [
      "import ROOT\n",
      "from ROOT import TRandom\n",
      "import rootnotes\n",
      "import rootprint"
     ],
     "language": "python",
     "metadata": {},
     "outputs": [],
     "prompt_number": 13
    },
    {
     "cell_type": "code",
     "collapsed": false,
     "input": [
      "%pylab inline"
     ],
     "language": "python",
     "metadata": {},
     "outputs": [
      {
       "output_type": "stream",
       "stream": "stdout",
       "text": [
        "Populating the interactive namespace from numpy and matplotlib\n"
       ]
      }
     ],
     "prompt_number": 12
    },
    {
     "cell_type": "code",
     "collapsed": false,
     "input": [
      "r = TRandom()"
     ],
     "language": "python",
     "metadata": {},
     "outputs": [],
     "prompt_number": 11
    },
    {
     "cell_type": "code",
     "collapsed": false,
     "input": [
      "h1 = ROOT.TH1F(\"h1\", \"h1\", 100, -5, 5)\n",
      "h2 = ROOT.TH1F(\"h2\", \"h2\", 100, -5, 5)\n",
      "hMin = ROOT.TH1F(\"hMin\", \"hMin\", 100, -5, 5)\n",
      "\n",
      "for i in range(0, 100000):\n",
      "    g1 = r.Gaus()\n",
      "    g2 = r.Gaus()\n",
      "    gMin = min(g1, g2)\n",
      "    h1.Fill(g1)\n",
      "    h2.Fill(g2)\n",
      "    hMin.Fill(gMin)\n"
     ],
     "language": "python",
     "metadata": {},
     "outputs": [
      {
       "output_type": "stream",
       "stream": "stderr",
       "text": [
        "TROOT::Append:0: RuntimeWarning: Replacing existing TH1: h1 (Potential memory leak).\n",
        "TROOT::Append:0: RuntimeWarning: Replacing existing TH1: h2 (Potential memory leak).\n",
        "TROOT::Append:0: RuntimeWarning: Replacing existing TH1: hMin (Potential memory leak).\n"
       ]
      }
     ],
     "prompt_number": 28
    },
    {
     "cell_type": "code",
     "collapsed": false,
     "input": [
      "c = ROOT.TCanvas(\"c\", \"c\", 800, 400)\n",
      "c.Divide(2, 1)\n",
      "c.cd(1)\n",
      "h1.Draw()\n",
      "h2.Draw(\"same\")\n",
      "h1.SetLineColor(2)\n",
      "c.cd(2)\n",
      "hMin.Draw()\n",
      "hMin.Fit(\"gaus\")\n",
      "c"
     ],
     "language": "python",
     "metadata": {},
     "outputs": [
      {
       "output_type": "stream",
       "stream": "stderr",
       "text": [
        "TCanvas::Constructor:0: RuntimeWarning: Deleting canvas with same name: c\n"
       ]
      },
      {
       "metadata": {},
       "output_type": "pyout",
       "png": "[encoded data removed]",
       "prompt_number": 30,
       "text": [
        "<ROOT.TCanvas object (\"c\") at 0x7fc615e79c20>"
       ]
      }
     ],
     "prompt_number": 30
    },
    {
     "cell_type": "markdown",
     "metadata": {},
     "source": [
      "The original gaussians have $\\mu = 0$ and $\\sigma = 1$. The new pdf built as the minimum of the two gaussians is approximately gaussian and has a mean of $\\approx -0.57$ and a sigma of $\\approx 0.82$."
     ]
    },
    {
     "cell_type": "code",
     "collapsed": false,
     "input": [],
     "language": "python",
     "metadata": {},
     "outputs": []
    }
   ],
   "metadata": {}
  }
 ]
}