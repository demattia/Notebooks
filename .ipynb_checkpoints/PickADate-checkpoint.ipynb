{
 "metadata": {
  "name": ""
 },
 "nbformat": 3,
 "nbformat_minor": 0,
 "worksheets": [
  {
   "cells": [
    {
     "cell_type": "heading",
     "level": 1,
     "metadata": {},
     "source": [
      "Pick a Date"
     ]
    },
    {
     "cell_type": "markdown",
     "metadata": {},
     "source": [
      "This program will pick a random date according to a crystal ball distribution centered around the selected month and covering up to the given start and end date. The distribution is normalized to 1 in the chosen interval in order to be a proper PDF.\n",
      "\n",
      "It will randomly extract a date from the given range."
     ]
    },
    {
     "cell_type": "code",
     "collapsed": false,
     "input": [
      "from dateutil.rrule import DAILY, rrule, MO, TU, WE, TH, FR, SA, SU\n",
      "import datetime\n",
      "import ROOT\n",
      "import rootnotes, utils\n",
      "from ROOT import RooRealVar, RooArgSet, RooDataHist, RooCBShape"
     ],
     "language": "python",
     "metadata": {},
     "outputs": [],
     "prompt_number": 43
    },
    {
     "cell_type": "markdown",
     "metadata": {},
     "source": [
      "Prepare a list of possible days. Chose only the weekends or the holidays. The list of federal holidays for 2014 is taken from: http://www.opm.gov/policy-data-oversight/snow-dismissal-procedures/federal-holidays/#url=2014"
     ]
    },
    {
     "cell_type": "code",
     "collapsed": false,
     "input": [
      "# Federal holidays of 2014\n",
      "listOfFederalHolidays = []\n",
      "\n",
      "# Wednesday, January 1\tNew Year\u2019s Day\n",
      "listOfFederalHolidays.append(datetime.datetime(2014, 1, 1))\n",
      "# Monday, January 20\tBirthday of Martin Luther King, Jr.\n",
      "listOfFederalHolidays.append(datetime.datetime(2014, 1, 20))\n",
      "# Monday, February 17 *\tWashington\u2019s Birthday\n",
      "listOfFederalHolidays.append(datetime.datetime(2014, 2, 17))\n",
      "# Monday, May 26\tMemorial Day\n",
      "listOfFederalHolidays.append(datetime.datetime(2014, 5, 26))\n",
      "# Friday, July 4\tIndependence Day\n",
      "listOfFederalHolidays.append(datetime.datetime(2014, 7, 4))\n",
      "# Monday, September 1\tLabor Day\n",
      "listOfFederalHolidays.append(datetime.datetime(2014, 9, 1))\n",
      "# Monday, October 13\tColumbus Day\n",
      "listOfFederalHolidays.append(datetime.datetime(2014, 10, 13))\n",
      "# Tuesday, November 11\tVeterans Day\n",
      "# listOfFederalHolidays.append(datetime.datetime(2014, 11, 11))\n",
      "# Thursday, November 27\tThanksgiving Day\n",
      "# listOfFederalHolidays.append(datetime.datetime(2014, 11, 27))\n",
      "# Thursday, December 25\tChristmas Day\n",
      "# listOfFederalHolidays.append(datetime.datetime(2014, 12, 25))"
     ],
     "language": "python",
     "metadata": {},
     "outputs": [],
     "prompt_number": 47
    },
    {
     "cell_type": "code",
     "collapsed": false,
     "input": [
      "def daterange(start_date, end_date, holidays):\n",
      "    dates = list(rrule(DAILY, dtstart=start_date, until=end_date, byweekday=(SA,SU)))\n",
      "    for holiday in holidays:\n",
      "        dates.append(holiday)\n",
      "    return dates\n",
      "\n",
      "dates = daterange(datetime.datetime(2014, 8, 1, 0, 0), datetime.datetime(2014, 10, 30, 12, 59), listOfFederalHolidays)"
     ],
     "language": "python",
     "metadata": {},
     "outputs": [],
     "prompt_number": 75
    },
    {
     "cell_type": "code",
     "collapsed": false,
     "input": [
      "# Uncomment this to see all the dates\n",
      "# dates"
     ],
     "language": "python",
     "metadata": {},
     "outputs": [],
     "prompt_number": 76
    },
    {
     "cell_type": "markdown",
     "metadata": {},
     "source": [
      "Plot the range of dates. Each date is assigned a value of 1. This is only a check."
     ]
    },
    {
     "cell_type": "code",
     "collapsed": false,
     "input": [
      "import matplotlib\n",
      "import matplotlib.dates as mdates\n",
      "import matplotlib.pyplot as plt\n",
      "%pylab inline\n",
      "pylab.rcParams['figure.figsize'] = (12.0, 10.0)\n",
      "datesPlot = mdates.date2num(dates)\n",
      "plt.plot_date(datesPlot, [1]*len(datesPlot))"
     ],
     "language": "python",
     "metadata": {},
     "outputs": [
      {
       "output_type": "stream",
       "stream": "stdout",
       "text": [
        "Populating the interactive namespace from numpy and matplotlib\n"
       ]
      },
      {
       "metadata": {},
       "output_type": "pyout",
       "prompt_number": 77,
       "text": [
        "[<matplotlib.lines.Line2D at 0x10be6e710>]"
       ]
      },
      {
       "metadata": {},
       "output_type": "display_data",
       "png": "[encoded data removed]",
       "text": [
        "<matplotlib.figure.Figure at 0x10b73d810>"
       ]
      }
     ],
     "prompt_number": 77
    },
    {
     "cell_type": "markdown",
     "metadata": {},
     "source": [
      "Declare the variable, the parameters of the pdf and the pdf"
     ]
    },
    {
     "cell_type": "code",
     "collapsed": false,
     "input": [
      "day = RooRealVar(\"day\", \"day\", 1, len(dates))\n",
      "# 22 is the end of October-beginning of November date\n",
      "meanDay = RooRealVar(\"meanDay\", \"meanDay\", (len(dates) - 22.))\n",
      "sigma = RooRealVar(\"sigma\", \"sigma\", 5)\n",
      "alpha = RooRealVar(\"a\", \"a\", 1)\n",
      "n = RooRealVar(\"n\", \"n\", 2)\n",
      "pdf = RooCBShape(\"CBdays\", \"CBDays\", day, meanDay, sigma, alpha, n)"
     ],
     "language": "python",
     "metadata": {},
     "outputs": [],
     "prompt_number": 78
    },
    {
     "cell_type": "markdown",
     "metadata": {},
     "source": [
      "Draw the pdf"
     ]
    },
    {
     "cell_type": "code",
     "collapsed": false,
     "input": [
      "h = ROOT.TH1F(\"hDays\", \"days\", 102, 0, 101)\n",
      "c = rootnotes.canvas(\"dist\", (800, 600))\n",
      "frame = day.frame()\n",
      "pdf.plotOn(frame)\n",
      "frame.Draw()\n",
      "c"
     ],
     "language": "python",
     "metadata": {},
     "outputs": [
      {
       "output_type": "stream",
       "stream": "stderr",
       "text": [
        "TROOT::Append:0: RuntimeWarning: Replacing existing TH1: hDays (Potential memory leak).\n",
        "TCanvas::Constructor:0: RuntimeWarning: Deleting canvas with same name: dist\n"
       ]
      },
      {
       "metadata": {},
       "output_type": "pyout",
       "png": "[encoded data removed]",
       "prompt_number": 79,
       "text": [
        "<ROOT.TCanvas object (\"dist\") at 0x7fb718d8ca50>"
       ]
      }
     ],
     "prompt_number": 79
    },
    {
     "cell_type": "markdown",
     "metadata": {},
     "source": [
      "Pick a random date from the PDF"
     ]
    },
    {
     "cell_type": "code",
     "collapsed": false,
     "input": [
      "theDay = pdf.generate(RooArgSet(day), 1)\n",
      "theDayValue = theDay.get(0).getRealValue(\"day\")\n",
      "dates[int(theDayValue)].strftime(\"%d, %b %Y\")"
     ],
     "language": "python",
     "metadata": {},
     "outputs": [
      {
       "metadata": {},
       "output_type": "pyout",
       "prompt_number": 83,
       "text": [
        "'07, Sep 2014'"
       ]
      }
     ],
     "prompt_number": 83
    },
    {
     "cell_type": "markdown",
     "metadata": {},
     "source": [
      "'08, Nov 2014'\n",
      "'02, Nov 2014'\n",
      "'16, Nov 2014'\n",
      "**'22, Nov 2014'**\n",
      "'30, Nov 2014'\n",
      "'24, Aug 2014'\n",
      "'26, Jul 2014'\n",
      "'21, Dec 2014'\n",
      "'12, Jul 2014'\n",
      "'01, Nov 2014'\n",
      "'18, Oct 2014'\n"
     ]
    },
    {
     "cell_type": "code",
     "collapsed": false,
     "input": [],
     "language": "python",
     "metadata": {},
     "outputs": []
    }
   ],
   "metadata": {}
  }
 ]
}