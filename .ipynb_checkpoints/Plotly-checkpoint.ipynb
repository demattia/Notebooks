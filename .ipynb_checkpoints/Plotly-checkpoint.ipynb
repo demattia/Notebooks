{
 "metadata": {
  "name": ""
 },
 "nbformat": 3,
 "nbformat_minor": 0,
 "worksheets": [
  {
   "cells": [
    {
     "cell_type": "heading",
     "level": 1,
     "metadata": {},
     "source": [
      "Background"
     ]
    },
    {
     "cell_type": "markdown",
     "metadata": {},
     "source": [
      "Plotly (https://plot.ly) is a collaborative data analysis and graphing platform. Plotly's IPython Graphing Library (https://plot.ly/api/python) interfaces Plotly's online graphing tools with your IPython notebook environment. Send data to your Plotly account, embed the graphs in your IPython notebook, and share them in your web browser. Style with code or with our online interface; share your work publicly with a url or privately among other Plotly members; access your graphs from anywhere.\n",
      "Learn More\n",
      "\n",
      "    A talk and a demo: Using Plotly and IPython for Scientific Computing\n",
      "    Plotly Homepage: https://plot.ly\n",
      "    Plotly APIs for Python, Julia, MATLAB, R, Arduino, Perl and our REST protocol\n",
      "    Contribute to this doc on Github\n",
      "\n",
      "Let us know what you think\n",
      "\n",
      "    chris@plot.ly\n",
      "    Plotly on Twitter\n",
      "    Plotly on Facebook\n"
     ]
    },
    {
     "cell_type": "code",
     "collapsed": false,
     "input": [
      "import plotly\n",
      "p = plotly.plotly('IPython.Demo', '1fw3zw2o13')"
     ],
     "language": "python",
     "metadata": {},
     "outputs": [],
     "prompt_number": 1
    },
    {
     "cell_type": "code",
     "collapsed": false,
     "input": [
      "p.verbose=False\n",
      "import numpy as np"
     ],
     "language": "python",
     "metadata": {},
     "outputs": [],
     "prompt_number": 2
    },
    {
     "cell_type": "heading",
     "level": 1,
     "metadata": {},
     "source": [
      "Gallery"
     ]
    },
    {
     "cell_type": "code",
     "collapsed": false,
     "input": [
      "iris = {\n",
      "\"setosa\": {\n",
      "    \"sepal width\": [3.5, 3, 3.2, 3.1, 3.6, 3.9, 3.4, 3.4, 2.9, 3.1, 3.7, 3.4, 3, 3, 4, 4.4, 3.9, 3.5, 3.8, 3.8, 3.4, 3.7, 3.6, 3.3, 3.4, 3, 3.4, 3.5, 3.4, 3.2, 3.1, 3.4, 4.1, 4.2, 3.1, 3.2, 3.5, 3.6, 3, 3.4, 3.5, 2.3, 3.2, 3.5, 3.8, 3, 3.8, 3.2, 3.7, 3.3], \n",
      "    \"petal width\": [0.2, 0.2, 0.2, 0.2, 0.2, 0.4, 0.3, 0.2, 0.2, 0.1, 0.2, 0.2, 0.1, 0.1, 0.2, 0.4, 0.4, 0.3, 0.3, 0.3, 0.2, 0.4, 0.2, 0.5, 0.2, 0.2, 0.4, 0.2, 0.2, 0.2, 0.2, 0.4, 0.1, 0.2, 0.2, 0.2, 0.2, 0.1, 0.2, 0.2, 0.3, 0.3, 0.2, 0.6, 0.4, 0.3, 0.2, 0.2, 0.2, 0.2], \n",
      "    \"sepal length\": [5.1, 4.9, 4.7, 4.6, 5, 5.4, 4.6, 5, 4.4, 4.9, 5.4, 4.8, 4.8, 4.3, 5.8, 5.7, 5.4, 5.1, 5.7, 5.1, 5.4, 5.1, 4.6, 5.1, 4.8, 5, 5, 5.2, 5.2, 4.7, 4.8, 5.4, 5.2, 5.5, 4.9, 5, 5.5, 4.9, 4.4, 5.1, 5, 4.5, 4.4, 5, 5.1, 4.8, 5.1, 4.6, 5.3, 5], \n",
      "    \"petal length\": [1.4, 1.4, 1.3, 1.5, 1.4, 1.7, 1.4, 1.5, 1.4, 1.5, 1.5, 1.6, 1.4, 1.1, 1.2, 1.5, 1.3, 1.4, 1.7, 1.5, 1.7, 1.5, 1, 1.7, 1.9, 1.6, 1.6, 1.5, 1.4, 1.6, 1.6, 1.5, 1.5, 1.4, 1.5, 1.2, 1.3, 1.4, 1.3, 1.5, 1.3, 1.3, 1.3, 1.6, 1.9, 1.4, 1.6, 1.4, 1.5, 1.4]\n",
      "    }, \n",
      "\"versicolor\": {\n",
      "    \"sepal width\": [3.2, 3.2, 3.1, 2.3, 2.8, 2.8, 3.3, 2.4, 2.9, 2.7, 2, 3, 2.2, 2.9, 2.9, 3.1, 3, 2.7, 2.2, 2.5, 3.2, 2.8, 2.5, 2.8, 2.9, 3, 2.8, 3, 2.9, 2.6, 2.4, 2.4, 2.7, 2.7, 3, 3.4, 3.1, 2.3, 3, 2.5, 2.6, 3, 2.6, 2.3, 2.7, 3, 2.9, 2.9, 2.5, 2.8], \n",
      "    \"petal width\": [1.4, 1.5, 1.5, 1.3, 1.5, 1.3, 1.6, 1, 1.3, 1.4, 1, 1.5, 1, 1.4, 1.3, 1.4, 1.5, 1, 1.5, 1.1, 1.8, 1.3, 1.5, 1.2, 1.3, 1.4, 1.4, 1.7, 1.5, 1, 1.1, 1, 1.2, 1.6, 1.5, 1.6, 1.5, 1.3, 1.3, 1.3, 1.2, 1.4, 1.2, 1, 1.3, 1.2, 1.3, 1.3, 1.1, 1.3], \n",
      "    \"sepal length\": [7, 6.4, 6.9, 5.5, 6.5, 5.7, 6.3, 4.9, 6.6, 5.2, 5, 5.9, 6, 6.1, 5.6, 6.7, 5.6, 5.8, 6.2, 5.6, 5.9, 6.1, 6.3, 6.1, 6.4, 6.6, 6.8, 6.7, 6, 5.7, 5.5, 5.5, 5.8, 6, 5.4, 6, 6.7, 6.3, 5.6, 5.5, 5.5, 6.1, 5.8, 5, 5.6, 5.7, 5.7, 6.2, 5.1, 5.7], \n",
      "    \"petal length\": [4.7, 4.5, 4.9, 4, 4.6, 4.5, 4.7, 3.3, 4.6, 3.9, 3.5, 4.2, 4, 4.7, 3.6, 4.4, 4.5, 4.1, 4.5, 3.9, 4.8, 4, 4.9, 4.7, 4.3, 4.4, 4.8, 5, 4.5, 3.5, 3.8, 3.7, 3.9, 5.1, 4.5, 4.5, 4.7, 4.4, 4.1, 4, 4.4, 4.6, 4, 3.3, 4.2, 4.2, 4.2, 4.3, 3, 4.1]\n",
      "    }, \n",
      "\"virginica\": {\n",
      "    \"sepal width\": [3.3, 2.7, 3, 2.9, 3, 3, 2.5, 2.9, 2.5, 3.6, 3.2, 2.7, 3, 2.5, 2.8, 3.2, 3, 3.8, 2.6, 2.2, 3.2, 2.8, 2.8, 2.7, 3.3, 3.2, 2.8, 3, 2.8, 3, 2.8, 3.8, 2.8, 2.8, 2.6, 3, 3.4, 3.1, 3, 3.1, 3.1, 3.1, 2.7, 3.2, 3.3, 3, 2.5, 3, 3.4, 3], \n",
      "    \"petal width\": [2.5, 1.9, 2.1, 1.8, 2.2, 2.1, 1.7, 1.8, 1.8, 2.5, 2, 1.9, 2.1, 2, 2.4, 2.3, 1.8, 2.2, 2.3, 1.5, 2.3, 2, 2, 1.8, 2.1, 1.8, 1.8, 1.8, 2.1, 1.6, 1.9, 2, 2.2, 1.5, 1.4, 2.3, 2.4, 1.8, 1.8, 2.1, 2.4, 2.3, 1.9, 2.3, 2.5, 2.3, 1.9, 2, 2.3, 1.8], \n",
      "    \"sepal length\": [6.3, 5.8, 7.1, 6.3, 6.5, 7.6, 4.9, 7.3, 6.7, 7.2, 6.5, 6.4, 6.8, 5.7, 5.8, 6.4, 6.5, 7.7, 7.7, 6, 6.9, 5.6, 7.7, 6.3, 6.7, 7.2, 6.2, 6.1, 6.4, 7.2, 7.4, 7.9, 6.4, 6.3, 6.1, 7.7, 6.3, 6.4, 6, 6.9, 6.7, 6.9, 5.8, 6.8, 6.7, 6.7, 6.3, 6.5, 6.2, 5.9], \n",
      "    \"petal length\": [6, 5.1, 5.9, 5.6, 5.8, 6.6, 4.5, 6.3, 5.8, 6.1, 5.1, 5.3, 5.5, 5, 5.1, 5.3, 5.5, 6.7, 6.9, 5, 5.7, 4.9, 6.7, 4.9, 5.7, 6, 4.8, 4.9, 5.6, 5.8, 6.1, 6.4, 5.6, 5.1, 5.6, 6.1, 5.6, 5.5, 4.8, 5.4, 5.6, 5.1, 5.1, 5.9, 5.7, 5.2, 5, 5.2, 5.4, 5.1]\n",
      "    }\n",
      "}\n",
      "\n",
      "attr = iris['setosa'].keys()\n",
      "colors = {'setosa': 'rgb(31, 119, 180)', 'versicolor': 'rgb(255, 127, 14)', 'virginica': 'rgb(44, 160, 44)'}\n",
      "\n",
      "data = []\n",
      "for i in range(4):\n",
      "    for j in range(4):\n",
      "        for flower in iris.keys():\n",
      "            data.append({\"name\": flower, \n",
      "                         \"x\": iris[flower][attr[i]], \"y\": iris[flower][attr[j]],\n",
      "                         \"type\":\"scatter\",\"mode\":\"markers\",'marker': {'color': colors[flower], 'opacity':0.7},\n",
      "                         \"xaxis\": \"x\"+(str(i) if i!=0 else ''), \"yaxis\": \"y\"+(str(j) if j!=0 else '')})\n",
      "padding = 0.04;\n",
      "domains = [[i*padding + i*(1-3*padding)/4, i*padding + ((i+1)*(1-3*padding)/4)] for i in range(4)]\n",
      "\n",
      "layout = {\n",
      "    \"xaxis\":{\"domain\":domains[0], \"title\":attr[0], 'zeroline':False,'showline':False,'ticks':'', 'titlefont':{'color': \"rgb(67, 67, 67)\"},'tickfont':{'color': 'rgb(102,102,102)'}},\n",
      "    \"yaxis\":{\"domain\":domains[0], \"title\":attr[0], 'zeroline':False,'showline':False,'ticks':'', 'titlefont':{'color': \"rgb(67, 67, 67)\"},'tickfont':{'color': 'rgb(102,102,102)'}},\n",
      "    \"xaxis1\":{\"domain\":domains[1], \"title\":attr[1], 'zeroline':False,'showline':False,'ticks':'', 'titlefont':{'color': \"rgb(67, 67, 67)\"},'tickfont':{'color': 'rgb(102,102,102)'}},\n",
      "    \"yaxis1\":{\"domain\":domains[1], \"title\":attr[1], 'zeroline':False,'showline':False,'ticks':'', 'titlefont':{'color': \"rgb(67, 67, 67)\"},'tickfont':{'color': 'rgb(102,102,102)'}},\n",
      "    \"xaxis2\":{\"domain\":domains[2], \"title\":attr[2], 'zeroline':False,'showline':False,'ticks':'', 'titlefont':{'color': \"rgb(67, 67, 67)\"},'tickfont':{'color': 'rgb(102,102,102)'}},\n",
      "    \"yaxis2\":{\"domain\":domains[2], \"title\":attr[2], 'zeroline':False,'showline':False,'ticks':'', 'titlefont':{'color': \"rgb(67, 67, 67)\"},'tickfont':{'color': 'rgb(102,102,102)'}},\n",
      "    \"xaxis3\":{\"domain\":domains[3], \"title\":attr[3], 'zeroline':False,'showline':False,'ticks':'', 'titlefont':{'color': \"rgb(67, 67, 67)\"},'tickfont':{'color': 'rgb(102,102,102)'}},\n",
      "    \"yaxis3\":{\"domain\":domains[3], \"title\":attr[3], 'zeroline':False,'showline':False,'ticks':'', 'titlefont':{'color': \"rgb(67, 67, 67)\"},'tickfont':{'color': 'rgb(102,102,102)'}},\n",
      "    \"showlegend\":False,\n",
      "    \"width\": 800,\n",
      "    \"height\": 700,\n",
      "    \"title\":\"Iris flower data set\",\n",
      "    \"titlefont\":{'color':'rgb(67,67,67)', 'size': 20}\n",
      "    }\n",
      "\n",
      "p.iplot(data,layout=layout, width=850,height=750)"
     ],
     "language": "python",
     "metadata": {},
     "outputs": [
      {
       "html": [
        "<iframe height=\"800\" id=\"igraph\" scrolling=\"no\" seamless=\"seamless\" src=\"https://plot.ly/~IPython.Demo/482/850/750\" width=\"900\"></iframe>"
       ],
       "metadata": {},
       "output_type": "pyout",
       "prompt_number": 3,
       "text": [
        "<IPython.core.display.HTML at 0x101fd4490>"
       ]
      }
     ],
     "prompt_number": 3
    },
    {
     "cell_type": "markdown",
     "metadata": {},
     "source": [
      "This graph is interactive! Try it out:\n",
      "\n",
      "    roll over points to see values\n",
      "    click-drag to zoom\n",
      "    click-drag the number line on the axes to translate\n",
      "    shift-click-drag to pan\n",
      "    double-click to autoscale"
     ]
    },
    {
     "cell_type": "code",
     "collapsed": false,
     "input": [
      "x0 = np.concatenate([np.random.randn(100), np.random.randn(100)+6])\n",
      "y0 = np.random.rayleigh(size=200)\n",
      "data = [\n",
      "    {\n",
      "     \"x\": x0,\n",
      "     \"y\": y0,\n",
      "     \"type\": \"histogram2d\"\n",
      "     },\n",
      "    {\n",
      "     \"y\": y0,\n",
      "     \"type\": \"histogramy\",\n",
      "     \"xaxis\": \"x2\",\n",
      "     \"yaxis\": \"y\",\n",
      "     \"bardir\": \"h\",\n",
      "     \"marker\":{\"color\":\"rgb(31, 119, 180)\"}\n",
      "     },\n",
      "    {\n",
      "     \"x\":x0,\n",
      "     \"type\": \"histogramx\",\n",
      "     \"xaxis\": \"x\",\n",
      "     \"yaxis\": \"y3\",\n",
      "     \"marker\":{\"color\":\"rgb(31, 119, 180)\"}     \n",
      "     }\n",
      "]\n",
      "layout = {\n",
      "    \"showlegend\":False,\n",
      "    \"width\":900,\n",
      "    \"height\": 700,\n",
      "    \"xaxis\":{\n",
      "        \"domain\":[0,0.8],\n",
      "        \n",
      "        \"showgrid\":False,\n",
      "        \"showline\":False,\n",
      "        \"zeroline\":False\n",
      "    },\n",
      "    \"yaxis\":{\n",
      "        \"domain\":[0,0.8],\n",
      "        \n",
      "        \"showgrid\":False,\n",
      "        \"showline\":False,\n",
      "        \"zeroline\":False        \n",
      "    },\n",
      "    \"xaxis2\":{\n",
      "        \"domain\":[0.82,1.0],\n",
      "        \n",
      "        \"showgrid\":False,\n",
      "        \"showline\":False,\n",
      "        \"zeroline\":False        \n",
      "    },\n",
      "    \"yaxis3\":{\n",
      "        \"domain\":[0.82,1.0],\n",
      "        \n",
      "        \"showgrid\":False,\n",
      "        \"showline\":False,\n",
      "        \"zeroline\":False        \n",
      "    }\n",
      "}\n",
      "p.iplot(data,layout=layout,width=950,height=750)"
     ],
     "language": "python",
     "metadata": {},
     "outputs": [
      {
       "html": [
        "<iframe height=\"800\" id=\"igraph\" scrolling=\"no\" seamless=\"seamless\" src=\"https://plot.ly/~IPython.Demo/481/950/750\" width=\"1000\"></iframe>"
       ],
       "metadata": {},
       "output_type": "pyout",
       "prompt_number": 4,
       "text": [
        "<IPython.core.display.HTML at 0x1027d5950>"
       ]
      }
     ],
     "prompt_number": 4
    },
    {
     "cell_type": "heading",
     "level": 1,
     "metadata": {},
     "source": [
      "Simple Examples"
     ]
    },
    {
     "cell_type": "code",
     "collapsed": false,
     "input": [
      "data = [\n",
      "   {\n",
      "    \"x\":[1,2,3],\n",
      "    \"y\":[40,50,60],\n",
      "      \"name\":\"yaxis data\"\n",
      "   },\n",
      "   {\n",
      "      \"x\":[2,3,4],\n",
      "      \"y\":[4,5,6],\n",
      "      \"yaxis\":\"y2\", # this will reference the yaxis2 object in the layout object\n",
      "      \"name\": \"yaxis2 data\"\n",
      "   }   \n",
      "];\n",
      "layout = {\n",
      "   \"yaxis\":{\n",
      "      \"title\": \"yaxis title\", # optional\n",
      "   },\n",
      "   \"yaxis2\":{\n",
      "      \"title\": \"yaxis2 title\", # optional\n",
      "      \"titlefont\":{\n",
      "         \"color\":\"rgb(148, 103, 189)\"\n",
      "      },\n",
      "      \"tickfont\":{\n",
      "         \"color\":\"rgb(148, 103, 189)\"\n",
      "      },\n",
      "      \"overlaying\":\"y\",\n",
      "      \"side\":\"right\",\n",
      "   }, \n",
      "   \"title\": \"Double Y Axis Example\",\n",
      "}\n",
      "p.iplot(data, layout=layout)"
     ],
     "language": "python",
     "metadata": {},
     "outputs": [
      {
       "html": [
        "<iframe height=\"500\" id=\"igraph\" scrolling=\"no\" seamless=\"seamless\" src=\"https://plot.ly/~IPython.Demo/481/600/450\" width=\"650\"></iframe>"
       ],
       "metadata": {},
       "output_type": "pyout",
       "prompt_number": 5,
       "text": [
        "<IPython.core.display.HTML at 0x10400a7d0>"
       ]
      }
     ],
     "prompt_number": 5
    },
    {
     "cell_type": "code",
     "collapsed": false,
     "input": [
      "c = ['#1f77b4', # muted blue\n",
      "                '#ff7f0e', # safety orange\n",
      "                '#2ca02c', # cooked asparagus green\n",
      "                '#d62728', # brick red\n",
      "                '#9467bd', # muted purple\n",
      "                '#8c564b', # chestnut brown\n",
      "                '#e377c2', # raspberry yogurt pink\n",
      "                '#7f7f7f', # middle gray\n",
      "                '#bcbd22', # curry yellow-green\n",
      "                '#17becf']; #blue-teal\n",
      "\n",
      "data = [\n",
      "    {\n",
      "    \"x\":[1,2,3],\n",
      "    \"y\":[4,5,6],\n",
      "    \"name\":\"yaxis1 data\"\n",
      "   },\n",
      "   {\n",
      "      \"x\":[2,3,4],\n",
      "      \"y\":[40,50,60],\n",
      "      \"name\":\"yaxis2 data\",\n",
      "      \"yaxis\":\"y2\" # this references the \"yaxis2\" object in layout\n",
      "   },\n",
      "   {\n",
      "      \"x\":[3,4,5],\n",
      "      \"y\":[400,500,600],\n",
      "      \"name\":\"yaxis3 data\",\n",
      "      \"yaxis\":\"y3\"\n",
      "    },\n",
      "    {\n",
      "    \"x\":[4,5,6],\n",
      "    \"y\":[40000,50000,60000],\n",
      "    \"name\":\"yaxis4 data\",\n",
      "    \"yaxis\":\"y4\"    \n",
      "   },\n",
      "    {\n",
      "    \"x\":[5,6,7],\n",
      "    \"y\":[400000,500000,600000],\n",
      "    \"name\":\"yaxis5 data\",\n",
      "    \"yaxis\":\"y5\"    \n",
      "   },\n",
      "    {\n",
      "    \"x\":[6,7,8],\n",
      "    \"y\":[4000000,5000000,6000000],\n",
      "    \"name\":\"yaxis6 data\",\n",
      "    \"yaxis\":\"y6\"    \n",
      "   },\n",
      "]\n",
      "layout = {\n",
      "    \"width\":800,\n",
      "    \"xaxis\":{\n",
      "        \"domain\":[0.3,0.7]\n",
      "    },\n",
      "   \"yaxis\":{\n",
      "      \"title\": \"yaxis title\",\n",
      "      \"titlefont\":{\n",
      "         \"color\":c[0]\n",
      "      },\n",
      "      \"tickfont\":{\n",
      "         \"color\":c[0]\n",
      "      },\n",
      "   },\n",
      "   \"yaxis2\":{\n",
      "      \"overlaying\":\"y\",\n",
      "      \"side\":\"left\",\n",
      "      \"anchor\":\"free\",\n",
      "      \"position\":0.15,\n",
      "      \n",
      "      \"title\": \"yaxis2 title\",\n",
      "      \"titlefont\":{\n",
      "         \"color\":c[1]\n",
      "      },\n",
      "      \"tickfont\":{\n",
      "         \"color\":c[1]\n",
      "      },\n",
      "   },\n",
      "   \"yaxis3\":{\n",
      "      \"overlaying\":\"y\",\n",
      "      \"side\":\"left\",\n",
      "      \"anchor\":\"free\",\n",
      "      \"position\":0,\n",
      "      \n",
      "      \"title\": \"yaxis3 title\",\n",
      "      \"titlefont\":{\n",
      "         \"color\":c[2]\n",
      "      },\n",
      "      \"tickfont\":{\n",
      "         \"color\":c[2]\n",
      "      },\n",
      "   },\n",
      "\n",
      "   \"yaxis4\":{     \n",
      "      \"overlaying\":\"y\",\n",
      "      \"side\":\"right\",\n",
      "      \"anchor\":\"x\",\n",
      "      \n",
      "      \"title\": \"yaxis4 title\",\n",
      "      \"titlefont\":{\n",
      "         \"color\":c[3]\n",
      "      },\n",
      "      \"tickfont\":{\n",
      "         \"color\":c[3]\n",
      "      },      \n",
      "   },\n",
      "\n",
      "   \"yaxis5\":{     \n",
      "      \"overlaying\":\"y\",\n",
      "      \"side\":\"right\",\n",
      "      \"anchor\":\"free\",\n",
      "      \"position\":0.85,\n",
      "\n",
      "      \"title\": \"yaxis5 title\",\n",
      "      \"titlefont\":{\n",
      "         \"color\":c[4]\n",
      "      },\n",
      "      \"tickfont\":{\n",
      "         \"color\":c[4]\n",
      "      },      \n",
      "   },\n",
      "\n",
      "   \"yaxis6\":{     \n",
      "      \"overlaying\":\"y\",\n",
      "      \"side\":\"right\",\n",
      "      \"anchor\":\"free\",\n",
      "      \"position\":1.0,\n",
      "\n",
      "      \"title\": \"yaxis6 title\",\n",
      "      \"titlefont\":{\n",
      "         \"color\":c[5]\n",
      "      },\n",
      "      \"tickfont\":{\n",
      "         \"color\":c[5]\n",
      "      },      \n",
      "    },\n",
      "    \"title\": \"multiple y-axes example\"\n",
      "}\n",
      "p.iplot(data, layout=layout)"
     ],
     "language": "python",
     "metadata": {},
     "outputs": [
      {
       "html": [
        "<iframe height=\"500\" id=\"igraph\" scrolling=\"no\" seamless=\"seamless\" src=\"https://plot.ly/~IPython.Demo/481/600/450\" width=\"650\"></iframe>"
       ],
       "metadata": {},
       "output_type": "pyout",
       "prompt_number": 6,
       "text": [
        "<IPython.core.display.HTML at 0x1027e6c50>"
       ]
      }
     ],
     "prompt_number": 6
    },
    {
     "cell_type": "heading",
     "level": 1,
     "metadata": {},
     "source": [
      "Simple Subplots"
     ]
    },
    {
     "cell_type": "code",
     "collapsed": false,
     "input": [
      "data = [\n",
      "    {\n",
      "    \"x\":[1,2,3],\n",
      "    \"y\":[4,5,6],\n",
      "   },\n",
      "   {\n",
      "      \"x\":[20,30,40],\n",
      "      \"y\":[50,60,70],\n",
      "      \"xaxis\":\"x2\",\n",
      "      \"yaxis\":\"y2\"\n",
      "   }\n",
      "]\n",
      "\n",
      "layout = {\n",
      "    \"xaxis\":{\n",
      "        \"domain\":[0,0.45] # i.e. let the first x-axis span the first 45% of the plot width\n",
      "    },\n",
      "    \"xaxis2\":{\n",
      "        \"domain\":[0.55,1] # i.e. let the second x-axis span the latter 45% of the plot width\n",
      "    },\n",
      "    \"yaxis2\":{\n",
      "        \"anchor\":\"x2\" # i.e. bind the second y-axis to the start of the second x-axis\n",
      "    }\n",
      "}\n",
      "p.iplot(data, layout=layout)"
     ],
     "language": "python",
     "metadata": {},
     "outputs": [
      {
       "html": [
        "<iframe height=\"500\" id=\"igraph\" scrolling=\"no\" seamless=\"seamless\" src=\"https://plot.ly/~IPython.Demo/481/600/450\" width=\"650\"></iframe>"
       ],
       "metadata": {},
       "output_type": "pyout",
       "prompt_number": 7,
       "text": [
        "<IPython.core.display.HTML at 0x1027d5fd0>"
       ]
      }
     ],
     "prompt_number": 7
    },
    {
     "cell_type": "heading",
     "level": 1,
     "metadata": {},
     "source": [
      "Custom Sized"
     ]
    },
    {
     "cell_type": "code",
     "collapsed": false,
     "input": [
      "data = [\n",
      "    {\n",
      "    \"x\":[1,2,3],\n",
      "    \"y\":[4,5,6],\n",
      "   },\n",
      "   {\n",
      "      \"x\":[20,30,40],\n",
      "      \"y\":[50,60,70],\n",
      "      \"xaxis\":\"x2\",\n",
      "      \"yaxis\":\"y2\"\n",
      "   }\n",
      "]\n",
      "\n",
      "layout = {\n",
      "    \"xaxis\":{\n",
      "        \"domain\":[0,0.7] # i.e. let the first x-axis span the first 70% of the plot width\n",
      "    },\n",
      "    \"xaxis2\":{\n",
      "        \"domain\":[0.8,1] # i.e. let the second x-axis span the latter 20% of the plot width\n",
      "    },\n",
      "    \"yaxis2\":{\n",
      "        \"anchor\":\"x2\" # i.e. bind the second y-axis to the start of the second x-axis\n",
      "    }\n",
      "}\n",
      "p.iplot(data, layout=layout)"
     ],
     "language": "python",
     "metadata": {},
     "outputs": [
      {
       "html": [
        "<iframe height=\"500\" id=\"igraph\" scrolling=\"no\" seamless=\"seamless\" src=\"https://plot.ly/~IPython.Demo/481/600/450\" width=\"650\"></iframe>"
       ],
       "metadata": {},
       "output_type": "pyout",
       "prompt_number": 8,
       "text": [
        "<IPython.core.display.HTML at 0x1027d5110>"
       ]
      }
     ],
     "prompt_number": 8
    },
    {
     "cell_type": "heading",
     "level": 1,
     "metadata": {},
     "source": [
      "Create any number of subplots in any size by moving around the axes"
     ]
    },
    {
     "cell_type": "markdown",
     "metadata": {},
     "source": [
      "Control the position and length of the axes with the \"domain\" attribute"
     ]
    },
    {
     "cell_type": "code",
     "collapsed": false,
     "input": [
      "data = [\n",
      "    {\n",
      "    \"x\":[1,2,3],\n",
      "    \"y\":[4,5,6],\n",
      "   },\n",
      "   {\n",
      "      \"x\":[20,30,40],\n",
      "      \"y\":[50,60,70],\n",
      "      \"xaxis\":\"x2\",\n",
      "      \"yaxis\":\"y2\"\n",
      "   },\n",
      "   {\n",
      "      \"x\":[300,400,500],\n",
      "      \"y\":[600,700,800],\n",
      "      \"xaxis\":\"x3\",\n",
      "      \"yaxis\":\"y3\"\n",
      "   },\n",
      "   {\n",
      "      \"x\":[4000,5000,6000],\n",
      "      \"y\":[7000,8000,9000],\n",
      "      \"xaxis\":\"x4\",\n",
      "      \"yaxis\":\"y4\"\n",
      "   } \n",
      "]\n",
      "\n",
      "layout = {\n",
      "    \"xaxis\":{\n",
      "        \"domain\":[0,0.45] # let the first x-axis span the first 45% of the plot width\n",
      "    },\n",
      "    \"yaxis\":{\n",
      "        \"domain\":[0,0.45] # # and let the first y-axis span the first 45% of the plot height\n",
      "    },\n",
      "    \"xaxis2\":{\n",
      "        \"domain\":[0.55,1] # and let the second x-axis span the latter 45% of the plot width\n",
      "    },\n",
      "    \"yaxis2\":{\n",
      "        \"domain\":[0,0.45], # and let the second y-axis span the first 45% of the plot height\n",
      "        \"anchor\":\"x2\" # bind the horizontal position of the second y-axis to the start of the second x-axis\n",
      "    },\n",
      "    \"xaxis3\":{\n",
      "        \"domain\":[0,0.45],\n",
      "        \"anchor\":\"y3\" # bind the vertical position of this axis to the start of yaxis3\n",
      "    },\n",
      "    \"yaxis3\":{\n",
      "        \"domain\":[0.55,1],\n",
      "    },\n",
      "    \"xaxis4\":{\n",
      "        \"domain\":[0.55,1],\n",
      "        \"anchor\":\"y4\", # bind the vertical position of this axis to the start of yaxis4\n",
      "    },\n",
      "    \"yaxis4\":{\n",
      "        \"domain\":[0.55,1],\n",
      "        \"anchor\":\"x4\" # bind the horizontal position of this axis to the start of xaxis4\n",
      "    }    \n",
      "}\n",
      "p.iplot(data, layout=layout)"
     ],
     "language": "python",
     "metadata": {},
     "outputs": [
      {
       "html": [
        "<iframe height=\"500\" id=\"igraph\" scrolling=\"no\" seamless=\"seamless\" src=\"https://plot.ly/~IPython.Demo/481/600/450\" width=\"650\"></iframe>"
       ],
       "metadata": {},
       "output_type": "pyout",
       "prompt_number": 10,
       "text": [
        "<IPython.core.display.HTML at 0x10400ad50>"
       ]
      }
     ],
     "prompt_number": 10
    },
    {
     "cell_type": "heading",
     "level": 1,
     "metadata": {},
     "source": [
      "Let subplots share axes"
     ]
    },
    {
     "cell_type": "code",
     "collapsed": false,
     "input": [
      "data = [\n",
      "    {\n",
      "    \"x\":[1,2,3],\n",
      "    \"y\":[2,3,4],\n",
      "   },\n",
      "   {\n",
      "      \"x\":[20,30,40],\n",
      "      \"y\":[5,5,5],\n",
      "      \"xaxis\":\"x2\",\n",
      "      \"yaxis\":\"y\"\n",
      "   },\n",
      "   {\n",
      "      \"x\":[2,3,4],\n",
      "      \"y\":[600,700,800],\n",
      "      \"xaxis\":\"x\",\n",
      "      \"yaxis\":\"y3\"\n",
      "   },\n",
      "   {\n",
      "      \"x\":[4000,5000,6000],\n",
      "      \"y\":[7000,8000,9000],\n",
      "      \"xaxis\":\"x4\",\n",
      "      \"yaxis\":\"y4\"\n",
      "   } \n",
      "]\n",
      "\n",
      "layout = {\n",
      "    \"xaxis\":{\n",
      "        \"domain\":[0,0.45] # let the first x-axis span the first 45% of the plot width\n",
      "    },\n",
      "    \"yaxis\":{\n",
      "        \"domain\":[0,0.45] # and let the first y-axis span the first 45% of the plot height\n",
      "    },\n",
      "    \"xaxis2\":{\n",
      "        \"domain\":[0.55,1] # and let the second x-axis span the latter 45% of the plot width\n",
      "    },\n",
      "    \"yaxis3\":{\n",
      "        \"domain\":[0.55,1],\n",
      "    },\n",
      "    \"xaxis4\":{\n",
      "        \"domain\":[0.55,1],\n",
      "        \"anchor\":\"y4\", # bind the vertical position of this axis to the start of yaxis4\n",
      "    },\n",
      "    \"yaxis4\":{\n",
      "        \"domain\":[0.55,1],\n",
      "        \"anchor\":\"x4\" # bind the horizontal position of this axis to the start of xaxis4\n",
      "    }\n",
      "}\n",
      "p.iplot(data, layout=layout)"
     ],
     "language": "python",
     "metadata": {},
     "outputs": [
      {
       "html": [
        "<iframe height=\"500\" id=\"igraph\" scrolling=\"no\" seamless=\"seamless\" src=\"https://plot.ly/~IPython.Demo/481/600/450\" width=\"650\"></iframe>"
       ],
       "metadata": {},
       "output_type": "pyout",
       "prompt_number": 11,
       "text": [
        "<IPython.core.display.HTML at 0x10278fe10>"
       ]
      }
     ],
     "prompt_number": 11
    },
    {
     "cell_type": "markdown",
     "metadata": {},
     "source": [
      "Woah, hold up. Check out what's going on here: the bottom two plots share the same y-axis, the two stacked plots on the left share the same x-axis and the plot in the top right has its own x and y axes. Try zooming (click-and-drag), panning (shift-click-drag), auto-scaling (double-click), or axis panning (click-and-drag on the axes number lines) around in the different plots and see how the axes respond!"
     ]
    },
    {
     "cell_type": "heading",
     "level": 1,
     "metadata": {},
     "source": [
      "Stacked"
     ]
    },
    {
     "cell_type": "code",
     "collapsed": false,
     "input": [
      "data = [{'x': [0,1,2], 'y': [10,11,12]},\n",
      "        {'x': [2,3,4], 'y': [100,110,120], 'yaxis': 'y2', 'xaxis': 'x2'},\n",
      "        {'x': [3,4,5], 'y': [1000,1100,1200], 'yaxis': 'y3', 'xaxis': 'x3'}]\n",
      "layout={\n",
      "    'yaxis': {'domain': [0,0.8/3.]},\n",
      "    'yaxis2': {'domain':[0.8/3+0.1,2*0.8/3+0.1]},\n",
      "    'yaxis3': {'domain':[2*0.8/3+0.2,1]},\n",
      "    'xaxis2': {'anchor':'y2'},\n",
      "    'xaxis3': {'anchor':'y3'},\n",
      "    'legend': {'traceorder': 'reversed'}\n",
      "}\n",
      "    \n",
      "p.iplot(data,layout=layout)"
     ],
     "language": "python",
     "metadata": {},
     "outputs": [
      {
       "html": [
        "<iframe height=\"500\" id=\"igraph\" scrolling=\"no\" seamless=\"seamless\" src=\"https://plot.ly/~IPython.Demo/481/600/450\" width=\"650\"></iframe>"
       ],
       "metadata": {},
       "output_type": "pyout",
       "prompt_number": 12,
       "text": [
        "<IPython.core.display.HTML at 0x1027d5f90>"
       ]
      }
     ],
     "prompt_number": 12
    },
    {
     "cell_type": "heading",
     "level": 1,
     "metadata": {},
     "source": [
      "Stacked with Coupled X-Axis"
     ]
    },
    {
     "cell_type": "code",
     "collapsed": false,
     "input": [
      "data = [{'x': [0,1,2], 'y': [10,11,12]},\n",
      "        {'x': [2,3,4], 'y': [100,110,120], 'yaxis': 'y2'},\n",
      "        {'x': [3,4,5], 'y': [1000,1100,1200], 'yaxis': 'y3'}]\n",
      "layout={\n",
      "    'yaxis': {'domain': [0,1./3.]},\n",
      "    'yaxis2': {'domain':[1./3,2./3.]},\n",
      "    'yaxis3': {'domain':[2./3.,1]},\n",
      "    'legend': {'traceorder': 'reversed'}\n",
      "}\n",
      "    \n",
      "p.iplot(data,layout=layout)"
     ],
     "language": "python",
     "metadata": {},
     "outputs": [
      {
       "html": [
        "<iframe height=\"500\" id=\"igraph\" scrolling=\"no\" seamless=\"seamless\" src=\"https://plot.ly/~IPython.Demo/481/600/450\" width=\"650\"></iframe>"
       ],
       "metadata": {},
       "output_type": "pyout",
       "prompt_number": 13,
       "text": [
        "<IPython.core.display.HTML at 0x10278fe50>"
       ]
      }
     ],
     "prompt_number": 13
    },
    {
     "cell_type": "markdown",
     "metadata": {},
     "source": [
      "Each subplot shares the same x-axis, so when you pan (shift-click-drag) or zoom (click-drag) all the plots respond. Kinda sweet, right? "
     ]
    },
    {
     "cell_type": "code",
     "collapsed": false,
     "input": [
      "data = [\n",
      "    {\n",
      "    \"x\":[1,2,3],\n",
      "    \"y\":[4,3,2],\n",
      "   },\n",
      "   {\n",
      "      \"x\":[20,30,40],\n",
      "      \"y\":[30,40,50],\n",
      "      \"xaxis\":\"x2\",\n",
      "      \"yaxis\":\"y2\"\n",
      "   }\n",
      "]\n",
      "layout = {\n",
      "    \"xaxis2\": {\n",
      "        \"domain\": [0.6, 0.95],\n",
      "        \"anchor\": \"y2\"\n",
      "    },\n",
      "    \"yaxis2\":{\n",
      "        \"domain\": [0.6, 0.95],\n",
      "        \"anchor\": \"x2\"\n",
      "    }\n",
      "}\n",
      "p.iplot(data, layout=layout)"
     ],
     "language": "python",
     "metadata": {},
     "outputs": [
      {
       "html": [
        "<iframe height=\"500\" id=\"igraph\" scrolling=\"no\" seamless=\"seamless\" src=\"https://plot.ly/~IPython.Demo/481/600/450\" width=\"650\"></iframe>"
       ],
       "metadata": {},
       "output_type": "pyout",
       "prompt_number": 14,
       "text": [
        "<IPython.core.display.HTML at 0x1027d5f10>"
       ]
      }
     ],
     "prompt_number": 14
    },
    {
     "cell_type": "code",
     "collapsed": false,
     "input": [],
     "language": "python",
     "metadata": {},
     "outputs": []
    }
   ],
   "metadata": {}
  }
 ]
}