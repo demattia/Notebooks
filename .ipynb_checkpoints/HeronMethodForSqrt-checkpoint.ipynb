{
 "metadata": {
  "name": "",
  "signature": "sha256:9365ecedd9d81679c41efb4aa2051cf0ecaef90d8bd616e52bc489571399737b"
 },
 "nbformat": 3,
 "nbformat_minor": 0,
 "worksheets": [
  {
   "cells": [
    {
     "cell_type": "heading",
     "level": 1,
     "metadata": {},
     "source": [
      "Heron's Method for Computing Square Roots"
     ]
    },
    {
     "cell_type": "markdown",
     "metadata": {},
     "source": [
      "Heron's method (or Babylonian method) is a quadratically convergent algorithm to compute the sqrt of a positive real number $x$. The basic idea is to use the fact that if $r = \\sqrt{S}$ then $r = x/r$. So starting from an initial guess for $r$ and taking the average between $r$ and $x/r$ we get closer to the value of $\\sqrt{S}$. We redirect to the Wikipedia article for a more detailed description and for links to an actual proof: http://en.wikipedia.org/wiki/Methods_of_computing_square_roots#Babylonian_method."
     ]
    },
    {
     "cell_type": "code",
     "collapsed": false,
     "input": [
      "def heron_sqrt(x, precision=0.00000001):\n",
      "    if x == 0:\n",
      "        return 0\n",
      "    guess = x/3.\n",
      "    while True:\n",
      "        last_guess = guess\n",
      "        guess = (guess + x/guess)/2.\n",
      "        # print last_guess, guess, precision, abs(last_guess - guess)\n",
      "        if abs(last_guess - guess) <= precision:\n",
      "            break\n",
      "    return guess"
     ],
     "language": "python",
     "metadata": {},
     "outputs": [],
     "prompt_number": 30
    },
    {
     "cell_type": "code",
     "collapsed": false,
     "input": [
      "print heron_sqrt(121.)"
     ],
     "language": "python",
     "metadata": {},
     "outputs": [
      {
       "output_type": "stream",
       "stream": "stdout",
       "text": [
        "11.0\n"
       ]
      }
     ],
     "prompt_number": 31
    },
    {
     "cell_type": "code",
     "collapsed": false,
     "input": [],
     "language": "python",
     "metadata": {},
     "outputs": []
    }
   ],
   "metadata": {}
  }
 ]
}