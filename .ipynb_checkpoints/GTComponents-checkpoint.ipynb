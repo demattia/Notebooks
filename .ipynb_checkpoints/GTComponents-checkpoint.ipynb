{
 "metadata": {
  "name": ""
 },
 "nbformat": 3,
 "nbformat_minor": 0,
 "worksheets": [
  {
   "cells": [
    {
     "cell_type": "heading",
     "level": 1,
     "metadata": {},
     "source": [
      "Define GT Components"
     ]
    },
    {
     "cell_type": "markdown",
     "metadata": {},
     "source": [
      "Define the GT components based on subdetectors and subgroup definitions. We use the GT W17_150_62E2 as starting point."
     ]
    },
    {
     "cell_type": "code",
     "collapsed": false,
     "input": [
      "# globalTagName = \"W17_150_62E2\"\n",
      "globalTagName = \"GR_R_62_V1\""
     ],
     "language": "python",
     "metadata": {},
     "outputs": [],
     "prompt_number": 1
    },
    {
     "cell_type": "markdown",
     "metadata": {},
     "source": [
      "Simple class used later to store the two lines for a tag in a GT: the line in the TAGINVENTORY section and the one in the TAGTREE section."
     ]
    },
    {
     "cell_type": "code",
     "collapsed": false,
     "input": [
      "class Component:\n",
      "    def __init__(self, tagLine):\n",
      "        self.tagLine = tagLine\n",
      "        self.tagTreeLine = \"\""
     ],
     "language": "python",
     "metadata": {},
     "outputs": [],
     "prompt_number": 2
    },
    {
     "cell_type": "markdown",
     "metadata": {},
     "source": [
      "Assign the relevant parts of the input globalTag to each component. The list of components is shown a the beginning in the definition of the compTagMap."
     ]
    },
    {
     "cell_type": "code",
     "collapsed": false,
     "input": [
      "import collections\n",
      "\n",
      "# Mapping components to tags. Note that the order matters.\n",
      "compTagMap = collections.OrderedDict()\n",
      "compTagMap[\"L1\"] = [\"L1\"]\n",
      "compTagMap[\"ALIGNMENT\"] = [\"Alignment\", \"BEAMSPOT\", \"BTAU\"]\n",
      "compTagMap[\"ECAL\"] = [\"Ecal\", \"ES\"]\n",
      "compTagMap[\"HCAL\"] = [\"HCAL\"]\n",
      "compTagMap[\"OTHERS\"] = [\"DQM\", \"AlCa\", \"RunInfo\", \"RUN_INFO\"]\n",
      "compTagMap[\"SISTRIP\"] = [\"SiStrip\"]\n",
      "compTagMap[\"SIPIXEL\"] = [\"SiPixel\"]\n",
      "compTagMap[\"DT\"] = [\"DT\"]\n",
      "compTagMap[\"CSC\"] = [\"CSC\"]\n",
      "compTagMap[\"RPC\"] = [\"RPC\"]\n",
      "compTagMap[\"GEOMETRY\"] = [\"GEOMETRY\"]\n",
      "compTagMap[\"PHYSICSTOOLS\"] = [\"GBRForest\", \"MVA\", \"PF\"]\n",
      "compTagMap[\"HI\"] = [\"Centrality\"]\n",
      "compTagMap[\"ANALYSIS\"] = [\"BTag\", \"JetCorr\"]\n",
      "\n",
      "# Use the ordered dict to preserve the order in which they keys are entered\n",
      "components = collections.OrderedDict()\n",
      "for comp in compTagMap:\n",
      "    components[comp] = []\n",
      "\n",
      "print \"The lines below are the ones not entering any components. Check if there are any tags left out.\\n\\n\"\n",
      "    \n",
      "tagTree = False\n",
      "for line in open(globalTagName+\".conf\"):\n",
      "    if line.find(\"[TAGTREE\") != -1:\n",
      "        tagTree = True\n",
      "    if tagTree == False:\n",
      "        found = False\n",
      "        for comp in components:\n",
      "            if found: break\n",
      "            for compName in compTagMap[comp]:\n",
      "                if line.find(compName) != -1:\n",
      "                    components[comp].append(Component(line))\n",
      "                    found = True\n",
      "                    break\n",
      "        if not found:\n",
      "            print line\n",
      "    else:\n",
      "        found = False\n",
      "        for comp in components:\n",
      "            if found: break\n",
      "            for c in components[comp]:\n",
      "                if line.find(c.tagLine.split(\"{\")[0].strip()) != -1:\n",
      "                    c.tagTreeLine = line\n",
      "                    found = True\n",
      "                    break"
     ],
     "language": "python",
     "metadata": {},
     "outputs": [
      {
       "output_type": "stream",
       "stream": "stdout",
       "text": [
        "The lines below are the ones not entering any components. Check if there are any tags left out.\n",
        "\n",
        "\n",
        "\n",
        "\n",
        "\n",
        "\n",
        "[COMMON]\n",
        "\n",
        "connect=sqlite_file:GR_R_62_V1.db\n",
        "\n",
        "#connect=oracle://cms_orcon_prod/CMS_COND_31X_GLOBALTAG\n",
        "\n",
        "\n",
        "\n",
        "[TAGINVENTORY]\n",
        "\n",
        "tagdata=\n",
        "\n",
        "\n",
        "\n"
       ]
      }
     ],
     "prompt_number": 3
    },
    {
     "cell_type": "heading",
     "level": 3,
     "metadata": {},
     "source": [
      "Build the GT Components"
     ]
    },
    {
     "cell_type": "markdown",
     "metadata": {},
     "source": [
      "Function to build the GT components"
     ]
    },
    {
     "cell_type": "code",
     "collapsed": false,
     "input": [
      "def writeTags(comp, outputFile, methodName):\n",
      "    for i in range(len(comp)):\n",
      "        tagLine = getattr(comp[i], methodName)\n",
      "        if i == (len(comp) - 1):\n",
      "            tagLine = tagLine.strip().strip(\";\")\n",
      "        outputFile.write(\" \"+tagLine)\n",
      "\n",
      "\n",
      "def buildGTComponent(compName):\n",
      "    outputFile = open(compName+\".conf\", \"w\")\n",
      "    outputFile.write(\n",
      "\"\"\"\n",
      "[COMMON]\n",
      "connect=sqlite_file:\"\"\"+comp+\"\"\".db\n",
      "#connect=oracle://cms_orcon_prod/CMS_COND_31X_GLOBALTAG\n",
      "\n",
      "[TAGINVENTORY]\n",
      "tagdata=\n",
      "\"\"\")\n",
      "    writeTags(components[compName], outputFile, \"tagLine\")\n",
      "        \n",
      "        \n",
      "    outputFile.write(\n",
      "\"\"\"\n",
      "\n",
      "[TAGTREE \"\"\"+comp+\"\"\"]\n",
      "root=All\n",
      "nodedata=Calibration{parent=All}\n",
      "leafdata=\n",
      "\"\"\")\n",
      "    writeTags(components[compName], outputFile, \"tagTreeLine\")\n",
      "    \n",
      "    outputFile.close()\n",
      "    "
     ],
     "language": "python",
     "metadata": {},
     "outputs": [],
     "prompt_number": 4
    },
    {
     "cell_type": "markdown",
     "metadata": {},
     "source": [
      "Build the conf files for each component."
     ]
    },
    {
     "cell_type": "code",
     "collapsed": false,
     "input": [
      "for comp in compTagMap:\n",
      "    buildGTComponent(comp)"
     ],
     "language": "python",
     "metadata": {},
     "outputs": [],
     "prompt_number": 5
    },
    {
     "cell_type": "heading",
     "level": 2,
     "metadata": {},
     "source": [
      "Printout section"
     ]
    },
    {
     "cell_type": "markdown",
     "metadata": {},
     "source": [
      "Simple function to print the list of tags in each component"
     ]
    },
    {
     "cell_type": "code",
     "collapsed": false,
     "input": [
      "def printTags(compName):\n",
      "    for element in components[compName]:\n",
      "        # print element\n",
      "        print element.tagLine.split(\"{\")[0]"
     ],
     "language": "python",
     "metadata": {},
     "outputs": [],
     "prompt_number": 6
    },
    {
     "cell_type": "heading",
     "level": 3,
     "metadata": {},
     "source": [
      "Alignment"
     ]
    },
    {
     "cell_type": "code",
     "collapsed": false,
     "input": [
      "printTags(\"ALIGNMENT\")\n",
      "# print open(\"ALIGNMENT.conf\").read()"
     ],
     "language": "python",
     "metadata": {},
     "outputs": [
      {
       "output_type": "stream",
       "stream": "stdout",
       "text": [
        " HOAlignment_zero_v01_offline\n",
        " HFAlignment_zero_v01_offline\n",
        " DTAlignmentError_2009_v4_offline\n",
        " HBAlignment_zero_v01_offline\n",
        " HEAlignment_zero_v01_offline\n",
        " CSCAlignmentError_2009_v3_offline\n",
        " GlobalAlignment_v6_offline\n",
        " CSCAlignment_v7_offline\n",
        " EBAlignment_measured_v07_offline\n",
        " TrackerSurfaceDeformations_v3_offline\n",
        " EEAlignment_measured_v07_offline\n",
        " TrackerAlignment_v9a_offline\n",
        " TrackerAlignmentErrors_v3_offline\n",
        " DTAlignment_v7_offline\n",
        " BeamSpotObjects_2009_LumiBased_SigmaZ_v28_offline\n",
        " ESAlignment_measured_v07_offline\n",
        " TrackProbabilityCalibration_2D_Data53X_v2\n",
        " TrackProbabilityCalibration_3D_Data53X_v2\n"
       ]
      }
     ],
     "prompt_number": 7
    },
    {
     "cell_type": "heading",
     "level": 3,
     "metadata": {},
     "source": [
      "L1"
     ]
    },
    {
     "cell_type": "code",
     "collapsed": false,
     "input": [
      "printTags(\"L1\")\n",
      "# print open(\"L1.conf\").read()"
     ],
     "language": "python",
     "metadata": {},
     "outputs": [
      {
       "output_type": "stream",
       "stream": "stdout",
       "text": [
        " L1MuTriggerPtScale_CRAFT09_hlt\n",
        " L1TriggerKey_CRAFT09v3_hlt\n",
        " L1MuCSCPtLut_CRAFT09v2_hlt\n",
        " L1EmEtScale_CRAFT09_hlt\n",
        " L1HtMissScale_CRAFT09_hlt\n",
        " L1RPCBxOrConfig_CRAFT09v3_hlt\n",
        " L1MuDTPhiLut_CRAFT09_hlt\n",
        " L1GtTriggerMaskVetoTechTrig_CRAFT09v2_hlt\n",
        " CSCDBL1TPParameters_hlt\n",
        " L1MuDTQualPatternLut_CRAFT09_hlt\n",
        " L1GtPrescaleFactorsTechTrig_CRAFT09v2_hlt\n",
        " L1MuDTTFMasks_CRAFT09_hlt\n",
        " L1MuGMTChannelMask_CRAFT09_hlt\n",
        " L1MuGMTParameters_CRAFT09_hlt\n",
        " L1GtTriggerMaskTechTrig_CRAFT09v2_hlt\n",
        " L1MuTriggerScales_CRAFT09_hlt\n",
        " L1MuCSCTFConfiguration_CRAFT09v4_hlt\n",
        " L1RPCHwConfig_v1_hlt\n",
        " L1GtParameters_CRAFT09_hlt\n",
        " L1MuDTPtaLut_CRAFT09_hlt\n",
        " L1GtPrescaleFactorsAlgoTrig_CRAFT09v2_hlt\n",
        " L1GtPsbSetup_CRAFT09v2_hlt\n",
        " L1RCTNoisyChannelMask_CRAFT09_hlt\n",
        " L1GtBoardMaps_CRAFT09_hlt\n",
        " L1MuGMTScales_CRAFT09_hlt\n",
        " L1CaloEcalScale_CRAFT09_hlt\n",
        " L1RCTParameters_CRAFT09_hlt\n",
        " L1GctChannelMask_CRAFT09v2_hlt\n",
        " L1RPCConeDefinition_CRAFT09v2_hlt\n",
        " L1MuCSCTFAlignment_CRAFT09_hlt\n",
        " L1GtStableParameters_CRAFT09_hlt\n",
        " L1TriggerKeyList_CRAFT09_hlt\n",
        " L1MuDTEtaPatternLut_CRAFT09_hlt\n",
        " L1RPCHsbConfig_CRAFT09v2_hlt\n",
        " L1GtTriggerMenu_CRAFT09_hlt\n",
        " L1HfRingEtScale_CRAFT09_hlt\n",
        " L1MuDTExtLut_CRAFT09_hlt\n",
        " L1JetEtScale_CRAFT09_hlt\n",
        " L1RCTChannelMask_CRAFT09v2_hlt\n",
        " L1CaloHcalScale_CRAFT09_hlt\n",
        " L1GtTriggerMaskAlgoTrig_CRAFT09v2_hlt\n",
        " L1RPCConfig_CRAFT09v2_hlt\n",
        " L1MuDTTFParameters_CRAFT09_hlt\n",
        " L1GctJetFinderParams_CRAFT09_hlt\n",
        " L1GtTriggerMaskVetoAlgoTrig_CRAFT09_hlt\n",
        " L1CaloGeometry_CRAFT09_hlt\n",
        " HcalL1TriggerObjects_v1.00_hlt\n"
       ]
      }
     ],
     "prompt_number": 8
    },
    {
     "cell_type": "heading",
     "level": 3,
     "metadata": {},
     "source": [
      "ECAL"
     ]
    },
    {
     "cell_type": "code",
     "collapsed": false,
     "input": [
      "printTags(\"ECAL\")\n",
      "# print open(\"ECAL.conf\").read()"
     ],
     "language": "python",
     "metadata": {},
     "outputs": [
      {
       "output_type": "stream",
       "stream": "stdout",
       "text": [
        " EcalChannelStatus_v07_offline\n",
        " EcalTPGPedestals_v2_hlt\n",
        " EcalTPGTowerStatus_hlt\n",
        " EcalMappingElectronics_EEMap\n",
        " EcalTPGPhysicsConst_v2_hlt\n",
        " EPRECO_Geometry_61YV4\n",
        " ESChannelStatus_V01_offline\n",
        " EcalTPGFineGrainEBGroup_v2_hlt\n",
        " EcalDQMChannelStatus_v1_offline\n",
        " EcalLinearCorrections_mc\n",
        " GBRForest_PFEcalEnergyResolution_v2_offline\n",
        " ESRecHitRatioCuts_V03_offline\n",
        " ESMissingEnergyCalibration_V01_hlt\n",
        " EcalTPGLinearizationConst_v2_hlt\n",
        " EERECO_Geometry_61YV4\n",
        " EcalLaserAlphas_EB_sic1_btcp152_EE_sic1_btcp116\n",
        " ESTimeSampleWeights_V01_offline\n",
        " EcalTPGSpike_v3_hlt\n",
        " EcalDAQTowerStatus_online\n",
        " EcalTPGFineGrainStripEE_v2_hlt\n",
        " EcalTimeOffsetConstant_v01_offline\n",
        " EcalDQMTowerStatus_v1_offline\n",
        " EcalTPGFineGrainEBIdMap_v2_hlt\n",
        " EcalTPGFineGrainTowerEE_v2_hlt\n",
        " EcalTPGStripStatus_v3_hlt\n",
        " EcalTPGWeightGroup_v2_hlt\n",
        " EcalTPGCrystalStatus_v2_hlt\n",
        " EcalSampleMask_offline\n",
        " ESEEIntercalibConstants_V02_offline\n",
        " EcalClusterEnergyCorrectionParameters_2011_mc\n",
        " EcalClusterEnergyUncertaintyParameters_may2009_mc\n",
        " EcalClusterCrackCorrParameters_may2009_mc\n",
        " EcalTPGWeightIdMap_v2_hlt\n",
        " EcalSRSettings_beam2010_v01_offline\n",
        " EcalDCSTowerStatus_online\n",
        " EcalTPGLutGroup_v2_hlt\n",
        " EcalTimeCalibConstants_v07_offline\n",
        " EcalTBWeights_EBEE_v01_offline\n",
        " EcalGainRatio_TestPulse2009_offline\n",
        " EcalTPGSlidingWindow_v2_hlt\n",
        " EcalPedestals_hlt\n",
        " ESAngleCorrectionFactors_V01_hlt\n",
        " ESThresholds_V01_hlt\n",
        " ESMIPToGeVConstant_V01_hlt\n",
        " EcalWeightXtalGroups_EBEE_offline\n",
        " EcalIntercalibErrors_mc\n",
        " ESIntercalibConstants_V02_offline\n",
        " EcalClusterLocalContCorrParameters_jun2012_offline\n",
        " EcalLaserAPDPNRatiosRef_v2_prompt\n",
        " ESGain_V01_hlt\n",
        " ESPedestals_V01_hlt\n",
        " EcalTPGLutIdMap_v2_hlt\n",
        " EBRECO_Geometry_61YV4\n",
        " EcalADCToGeVConstant_Bon_RUN2012ABCD_V2_offline\n",
        " EcalLaserAPDPNRatios_2012ABCD_offline_20130205\n",
        " EcalIntercalibConstants_2012ABCD_offline\n",
        " EcalClusterEnergyCorrectionObjectSpecificParameters_610_mc\n"
       ]
      }
     ],
     "prompt_number": 9
    },
    {
     "cell_type": "heading",
     "level": 3,
     "metadata": {},
     "source": [
      "HCAL"
     ]
    },
    {
     "cell_type": "code",
     "collapsed": false,
     "input": [
      "printTags(\"HCAL\")\n",
      "# print open(\"HCAL.conf\").read()"
     ],
     "language": "python",
     "metadata": {},
     "outputs": [
      {
       "output_type": "stream",
       "stream": "stdout",
       "text": [
        " CastorChannelQuality_v2.2_offline\n",
        " CastorPedestalWidths_v2.0_offline\n",
        " HcalFlagHFDigiTimeParams_v1.0_offline\n",
        " HcalQIEData_NormalMode_v7.02_offline\n",
        " CastorRecoParams_v1.00_offline\n",
        " HcalElectronicsMap_v7.03_hlt\n",
        " HCALRECO_Geometry_62YV1\n",
        " HcalLUTCorrs_v1.01_hlt\n",
        " HcalTimeCorrs_v3.00_offline\n",
        " HcalZSThresholds_v1.01_hlt\n",
        " HcalLutMetadata_v1.01_hlt\n",
        " CastorQIEData_v2.0_offline\n",
        " HcalPFCorrs_v4.00_offline\n",
        " CastorPedestals_v2.0_offline\n",
        " HcalRecoParams_v4.0_offline\n",
        " CastorGainWidths_v2.1_offline\n",
        " CastorElectronicsMap_v2.0_offline\n",
        " HcalPedestalWidths_ADC_v7.01_hlt\n",
        " HcalLongRecoParams_v1.1_offline\n",
        " HcalPedestals_ADC_v9.12_offline\n",
        " CastorGains_v2.1_offline\n",
        " CastorSaturationCorrs_v1.00_offline\n",
        " HcalMCParams_v3.0_offline\n",
        " HcalRespCorrs_v4.7_offline\n",
        " HcalGains_v5.07_offline\n",
        " HcalChannelQuality_v5.00_offline\n"
       ]
      }
     ],
     "prompt_number": 10
    },
    {
     "cell_type": "heading",
     "level": 3,
     "metadata": {},
     "source": [
      "SiStrip"
     ]
    },
    {
     "cell_type": "code",
     "collapsed": false,
     "input": [
      "printTags(\"SISTRIP\")\n",
      "# print open(\"SISTRIP.conf\").read()"
     ],
     "language": "python",
     "metadata": {},
     "outputs": [
      {
       "output_type": "stream",
       "stream": "stdout",
       "text": [
        " SiStripFedCabling_GR10_v1_hlt\n",
        " SiStripLorentzAnglePeak_GR10_v1_offline\n",
        " SiStripThreshold_GR10_v1_hlt\n",
        " SiStripApvGain_GR10_v1_hlt\n",
        " SiStripDeDxKaon_3D_30X\n",
        " SiStripDeDxMip3D_v03\n",
        " SiStripBadChannel_FromPromptReaction_GR10_v1_offline\n",
        " SiStripNoise_GR10_v3_offline\n",
        " SiStripDeDxElectron_3D_30X\n",
        " SiStripBackPlaneCorrection_deco_GR10_v2_offline\n",
        " SiStripBadChannel_FromOnline_GR10_v1_hlt\n",
        " SiStripLatency_GR10_v2_hlt\n",
        " SiStripApvGain_FromParticles_GR10_v3_offline\n",
        " SiStripDeDxPion_3D_30X\n",
        " SiStripPedestals_GR10_v2_hlt\n",
        " SiStripDetVOff_v6_prompt\n",
        " SiStripDeDxProton_3D_30X\n",
        " SiStripClusterThreshold_GR10_v1_express\n",
        " SiPixelDetVOff_Ideal_RunBased_31X_v2_hlt\n",
        " SiStripBackPlaneCorrection_peak_GR10_v1_offline\n",
        " SiStripBadChannel_FromEfficiencyAnalysis_GR10_v3_offline\n",
        " SiStripBadChannel_FromOfflineCalibration_GR10_v6_offline\n",
        " SiStripLorentzAngleDeco_GR10_v2_offline\n",
        " SiStripShiftAndCrosstalk_GR10_v3_offline\n"
       ]
      }
     ],
     "prompt_number": 11
    },
    {
     "cell_type": "heading",
     "level": 3,
     "metadata": {},
     "source": [
      "SiPixel"
     ]
    },
    {
     "cell_type": "code",
     "collapsed": false,
     "input": [
      "printTags(\"SIPIXEL\")\n",
      "# print open(\"SIPIXEL.conf\").read()"
     ],
     "language": "python",
     "metadata": {},
     "outputs": [
      {
       "output_type": "stream",
       "stream": "stdout",
       "text": [
        " SiPixelTemplateDBObject_3T_v3_offline\n",
        " SiPixelTemplateDBObject_0T_v3_offline\n",
        " SiPixelCPEGenericErrorParm\n",
        " SiPixelFedCablingMap_2009_v1_hlt\n",
        " SiPixelGainCalibHLT_2009CollRuns_offline\n",
        " SiPixelGainCalib_2009CollRuns_offline\n",
        " SiPixelTemplateDBObject_2T_v3_offline\n",
        " SiPixelTemplateDBObject_4T_v3_offline\n",
        " SiPixelTemplateDBObject_35T_v3_offline\n",
        " SiPixelTemplateDBObject_38T_v6_offline\n",
        " SiPixelQuality_v04_offline\n",
        " SiPixelLorentzAngle_v4_offline\n"
       ]
      }
     ],
     "prompt_number": 12
    },
    {
     "cell_type": "heading",
     "level": 3,
     "metadata": {},
     "source": [
      "DT"
     ]
    },
    {
     "cell_type": "code",
     "collapsed": false,
     "input": [
      "printTags(\"DT\")\n",
      "# print open(\"DT.conf\").read()"
     ],
     "language": "python",
     "metadata": {},
     "outputs": [
      {
       "output_type": "stream",
       "stream": "stdout",
       "text": [
        " DT_t0_cosmic2009_V01_express\n",
        " DTTPGParameters_V01_hlt\n",
        " DT_dead_cosmic2009_V01_hlt\n",
        " DTKeyedConfigList_V06_hlt\n",
        " DT_noise_cosmic2009_V01_hlt\n",
        " DTKeyedConfig_V06_hlt\n",
        " DTTtrig_cosmics_V02_offline\n",
        " DTHVStatus_V05_hlt\n",
        " DTCCBConfig_V06_hlt\n",
        " DTTtrig_V04_offline\n",
        " DTVdrift_V05_offline\n",
        " DTReadOutMapping_compact_V03\n",
        " DTRECO_Geometry_50YV3\n"
       ]
      }
     ],
     "prompt_number": 13
    },
    {
     "cell_type": "heading",
     "level": 3,
     "metadata": {},
     "source": [
      "CSC"
     ]
    },
    {
     "cell_type": "code",
     "collapsed": false,
     "input": [
      "printTags(\"CSC\")\n",
      "# print open(\"CSC.conf\").read()"
     ],
     "language": "python",
     "metadata": {},
     "outputs": [
      {
       "output_type": "stream",
       "stream": "stdout",
       "text": [
        " CSCBadStrips_prompt\n",
        " CSCRECODIGI_Geometry_50YV3\n",
        " CSCGasGainCorrections_v2_offline\n",
        " CSCDBPedestals_v2_offline\n",
        " CSCCrateMap_hlt\n",
        " CSCDBGains_v2_offline\n",
        " CSCDBChipSpeedCorrection_offline\n",
        " CSCDBCrosstalk_v2_offline\n",
        " CSCDDUMap_hlt\n",
        " CSCChamberMap_hlt\n",
        " CSCChamberIndex_hlt\n",
        " CSCDBNoiseMatrix_v2_offline\n",
        " CSCChamberTimeCorrections_offline\n",
        " CSCBadWires_prompt\n",
        " CSCBadChambers_RunDependent_offline\n",
        " CSCRECO_Geometry_50YV3\n"
       ]
      }
     ],
     "prompt_number": 14
    },
    {
     "cell_type": "heading",
     "level": 3,
     "metadata": {},
     "source": [
      "RPC"
     ]
    },
    {
     "cell_type": "code",
     "collapsed": false,
     "input": [
      "printTags(\"RPC\")\n",
      "# print open(\"RPC.conf\").read()"
     ],
     "language": "python",
     "metadata": {},
     "outputs": [
      {
       "output_type": "stream",
       "stream": "stdout",
       "text": [
        " RPCEMap_v3\n",
        " RPCRECO_Geometry_50YV3\n"
       ]
      }
     ],
     "prompt_number": 15
    },
    {
     "cell_type": "heading",
     "level": 3,
     "metadata": {},
     "source": [
      "GEOMETRY"
     ]
    },
    {
     "cell_type": "code",
     "collapsed": false,
     "input": [
      "printTags(\"GEOMETRY\")\n",
      "# print open(\"GEOMETRY.conf\").read()"
     ],
     "language": "python",
     "metadata": {},
     "outputs": [
      {
       "output_type": "stream",
       "stream": "stdout",
       "text": [
        " ZDCRECO_Geometry_61YV4\n",
        " CTRECO_Geometry_61YV4\n",
        " CASTORRECO_Geometry_61YV4\n",
        " TKExtra_Geometry_62YV6\n",
        " TKRECO_Geometry_62YV6\n"
       ]
      }
     ],
     "prompt_number": 16
    },
    {
     "cell_type": "heading",
     "level": 3,
     "metadata": {},
     "source": [
      "Analysis"
     ]
    },
    {
     "cell_type": "code",
     "collapsed": false,
     "input": [
      "printTags(\"ANALYSIS\")\n",
      "# print open(\"ANALYSIS.conf\").read()"
     ],
     "language": "python",
     "metadata": {},
     "outputs": [
      {
       "output_type": "stream",
       "stream": "stdout",
       "text": [
        " BTagMUJETSWPBTAGCSVTwp_v8_offline\n",
        " BTagTTBARWPBTAGCSVMwp_v8_offline\n",
        " BTagMUJETSWPBTAGJBPMwp_v8_offline\n",
        " BTagTTBARWPBTAGSSVHPTwp_v8_offline\n",
        " BTagMUJETSWPBTAGTCHELtable_v8_offline\n",
        " BTagTTBARDISCRIMBTAGJPtable_v8_offline\n",
        " BTagMISTAGSSVHPTtable_v8_offline\n",
        " BTagMUJETSWPBTAGCSVLtable_v8_offline\n",
        " BTagMISTAGJBPMtable_v8_offline\n",
        " BTagTTBARDISCRIMBTAGSSVHEwp_v8_offline\n",
        " BTagMUJETSWPBTAGCSVMtable_v8_offline\n",
        " BTagMISTAGJPTwp_v8_offline\n",
        " BTagTTBARWPBTAGSSVHPTtable_v8_offline\n",
        " BTagTTBARWPBTAGJPLwp_v8_offline\n",
        " BTagMISTAGJPMwp_v8_offline\n",
        " BTagTTBARWPBTAGTCHEMwp_v8_offline\n",
        " JetCorrectorParametersCollection_AK5Calo_v1_hlt\n",
        " BTagMISTAGJBPMwp_v8_offline\n",
        " BTagMUJETSWPBTAGSSVHPTtable_v8_offline\n",
        " BTagTTBARWPBTAGJBPMtable_v8_offline\n",
        " BTagMISTAGTCHPMwp_v8_offline\n",
        " BTagMUJETSWPBTAGCSVTtable_v8_offline\n",
        " BTagMUJETSWPBTAGTCHPTtable_v8_offline\n",
        " BTagMISTAGTCHELwp_v8_offline\n",
        " BTagTTBARDISCRIMBTAGSSVHPtable_v8_offline\n",
        " BTagTTBARWPBTAGTCHELtable_v8_offline\n",
        " BTagTTBARWPBTAGTCHPTwp_v8_offline\n",
        " BTagTTBARDISCRIMBTAGSSVHPwp_v8_offline\n",
        " BTagMUJETSWPBTAGJBPLwp_v8_offline\n",
        " BTagMUJETSWPBTAGJBPTwp_v8_offline\n",
        " BTagTTBARWPBTAGTCHETtable_v8_offline\n",
        " BTagTTBARWPBTAGTCHPLwp_v8_offline\n",
        " BTagTTBARWPBTAGSSVHETwp_v8_offline\n",
        " BTagTTBARWPBTAGTCHETwp_v8_offline\n",
        " BTagMUJETSWPBTAGSSVHPTwp_v8_offline\n",
        " BTagTTBARWPBTAGCSVTtable_v8_offline\n",
        " BTagMUJETSWPBTAGCSVMwp_v8_offline\n",
        " BTagMISTAGTCHEMwp_v8_offline\n",
        " BTagTTBARWPBTAGCSVLwp_v8_offline\n",
        " BTagMUJETSWPBTAGJPMwp_v8_offline\n",
        " BTagMISTAGCSVLtable_v8_offline\n",
        " BTagTTBARDISCRIMBTAGJBPtable_v8_offline\n",
        " BTagTTBARWPBTAGJPTtable_v8_offline\n",
        " BTagMISTAGJBPLwp_v8_offline\n",
        " BTagMISTAGCSVTtable_v8_offline\n",
        " BTagTTBARDISCRIMBTAGTCHPtable_v8_offline\n",
        " BTagTTBARWPBTAGTCHPLtable_v8_offline\n",
        " BTagTTBARDISCRIMBTAGJBPwp_v8_offline\n",
        " BTagMISTAGTCHELtable_v8_offline\n",
        " BTagMUJETSWPBTAGJPLtable_v8_offline\n",
        " BTagMUJETSWPBTAGJPLwp_v8_offline\n",
        " BTagMUJETSWPBTAGTCHELwp_v8_offline\n",
        " BTagMUJETSWPBTAGTCHEMwp_v8_offline\n",
        " BTagTTBARDISCRIMBTAGTCHPwp_v8_offline\n",
        " BTagMUJETSWPBTAGJPMtable_v8_offline\n",
        " BTagTTBARWPBTAGJPMtable_v8_offline\n",
        " BTagMUJETSWPBTAGTCHPMtable_v8_offline\n",
        " BTagTTBARWPBTAGJPLtable_v8_offline\n",
        " BTagMUJETSWPBTAGTCHPMwp_v8_offline\n",
        " BTagTTBARWPBTAGJPMwp_v8_offline\n",
        " BTagTTBARWPBTAGJBPMwp_v8_offline\n",
        " BTagMISTAGTCHPTwp_v8_offline\n",
        " BTagTTBARWPBTAGCSVMtable_v8_offline\n",
        " BTagMUJETSWPBTAGJPTtable_v8_offline\n",
        " BTagTTBARWPBTAGTCHPTtable_v8_offline\n",
        " BTagMISTAGJBPTwp_v8_offline\n",
        " BTagMISTAGJBPLtable_v8_offline\n",
        " BTagMUJETSWPBTAGJBPLtable_v8_offline\n",
        " BTagTTBARWPBTAGSSVHETtable_v8_offline\n",
        " BTagMISTAGSSVHEMwp_v8_offline\n",
        " BTagTTBARWPBTAGTCHPMtable_v8_offline\n",
        " BTagTTBARWPBTAGJPTwp_v8_offline\n",
        " BTagMUJETSWPBTAGJBPTtable_v8_offline\n",
        " BTagTTBARWPBTAGSSVHEMwp_v8_offline\n",
        " BTagMUJETSWPBTAGTCHPTwp_v8_offline\n",
        " BTagMISTAGJPLwp_v8_offline\n",
        " BTagTTBARWPBTAGJBPTtable_v8_offline\n",
        " BTagTTBARWPBTAGSSVHEMtable_v8_offline\n",
        " BTagMISTAGJBPTtable_v8_offline\n",
        " BTagMUJETSWPBTAGTCHEMtable_v8_offline\n",
        " BTagMISTAGJPMtable_v8_offline\n",
        " BTagTTBARDISCRIMBTAGTCHEwp_v8_offline\n",
        " BTagTTBARWPBTAGTCHELwp_v8_offline\n",
        " BTagTTBARDISCRIMBTAGCSVtable_v8_offline\n",
        " BTagMISTAGCSVLwp_v8_offline\n",
        " BTagMISTAGJPLtable_v8_offline\n",
        " BTagMUJETSWPBTAGJPTwp_v8_offline\n",
        " BTagMISTAGSSVHEMtable_v8_offline\n",
        " BTagMISTAGCSVTwp_v8_offline\n",
        " BTagMISTAGCSVMtable_v8_offline\n",
        " BTagMUJETSWPBTAGSSVHEMwp_v8_offline\n",
        " BTagMISTAGTCHEMtable_v8_offline\n",
        " BTagTTBARDISCRIMBTAGTCHEtable_v8_offline\n",
        " BTagTTBARWPBTAGCSVLtable_v8_offline\n",
        " BTagMISTAGJPTtable_v8_offline\n",
        " BTagTTBARWPBTAGJBPLtable_v8_offline\n",
        " BTagTTBARWPBTAGTCHEMtable_v8_offline\n",
        " BTagTTBARWPBTAGJBPTwp_v8_offline\n",
        " BTagMISTAGTCHPTtable_v8_offline\n",
        " BTagTTBARDISCRIMBTAGSSVHEtable_v8_offline\n",
        " BTagTTBARWPBTAGTCHPMwp_v8_offline\n",
        " BTagTTBARDISCRIMBTAGJPwp_v8_offline\n",
        " BTagTTBARWPBTAGCSVTwp_v8_offline\n",
        " BTagMISTAGSSVHPTwp_v8_offline\n",
        " BTagTTBARWPBTAGJBPLwp_v8_offline\n",
        " BTagMUJETSWPBTAGJBPMtable_v8_offline\n",
        " BTagMUJETSWPBTAGSSVHEMtable_v8_offline\n",
        " BTagTTBARDISCRIMBTAGCSVwp_v8_offline\n",
        " BTagMISTAGTCHPMtable_v8_offline\n",
        " BTagMISTAGCSVMwp_v8_offline\n",
        " BTagMUJETSWPBTAGCSVLwp_v8_offline\n",
        " JetCorrectorParametersCollection_Fall12_V5_DATA_AK7Calo\n",
        " JetCorrectorParametersCollection_Fall12_V5_DATA_KT4Calo\n",
        " JetCorrectorParametersCollection_Fall12_V5_DATA_AK5JPT\n",
        " JetCorrectorParametersCollection_Fall12_V5_DATA_KT6Calo\n",
        " JetCorrectorParametersCollection_Fall12_V5_DATA_AK7JPT\n",
        " JetCorrectorParametersCollection_Fall12_V5_DATA_AK5TRK\n",
        " JetCorrectorParametersCollection_Fall12_V5_DATA_IC5Calo\n",
        " JetCorrectorParametersCollection_Fall12_V5_DATA_AK5Calo\n"
       ]
      }
     ],
     "prompt_number": 17
    },
    {
     "cell_type": "heading",
     "level": 3,
     "metadata": {},
     "source": [
      "HI"
     ]
    },
    {
     "cell_type": "code",
     "collapsed": false,
     "input": [
      "printTags(\"HI\")\n",
      "# print open(\"HI.conf\").read()"
     ],
     "language": "python",
     "metadata": {},
     "outputs": [
      {
       "output_type": "stream",
       "stream": "stdout",
       "text": [
        " CentralityTable_HFhits40_Glauber2010A_v3_effB_offline\n",
        " CentralityTable_HFtowers40_Glauber2010A_v3_effB_offline\n",
        " CentralityTable_PixelHits40_Glauber2010A_v3_effB_offline\n"
       ]
      }
     ],
     "prompt_number": 18
    },
    {
     "cell_type": "heading",
     "level": 3,
     "metadata": {},
     "source": [
      "PHYSICSTOOLS"
     ]
    },
    {
     "cell_type": "code",
     "collapsed": false,
     "input": [
      "printTags(\"PHYSICSTOOLS\")\n",
      "# print open(\"PHYSICSTOOLS.conf\").read()"
     ],
     "language": "python",
     "metadata": {},
     "outputs": [
      {
       "output_type": "stream",
       "stream": "stdout",
       "text": [
        " GBRForest_PFLCCorrection_v0_offline\n",
        " GBRForest_PFGlobalCorrectionEndcapLowR9_v2_offline\n",
        " PFCalibration_v0_offline\n",
        " GBRForest_PFResolution_v0_offline\n",
        " GBRForest_EBCorrection_v0_offline\n",
        " GBRForest_EBUncertainty_v0_offline\n",
        " GBRForest_EEUncertainty_v0_offline\n",
        " GBRForest_PFLocalCorrectionEndcap_v2_offline\n",
        " GBRForest_EECorrection_v0_offline\n",
        " GBRForest_PFGlobalCorrectionBarrel_v2_offline\n",
        " GBRForest_PFGlobalCorrectionEndcapHighR9_v2_offline\n",
        " TauNeuralClassifier_v1_mc\n",
        " EgammaMVA_v1_mc\n",
        " GBRForest_PFLocalCorrectionBarrel_v2_offline\n",
        " MVAComputerContainer_hpstanc_v1\n",
        " GBRForest_PFGlobalCorrection_v0_offline\n",
        " JetCorrectorParametersCollection_AK5PF_v1_hlt\n",
        " GBRForest_MVADuplicate_v0_offline\n",
        " GBRForest_MVASelectorIter4_v0_offline\n",
        " GBRForest_MVASelectorIter5_v0_offline\n",
        " GBRForest_MVASelectorIter6_v0_offline\n",
        " GBRForest_MVASelectorIter2_v0_offline\n",
        " GBRForest_MVASelectorIter3_v0_offline\n",
        " GBRForest_MVASelectorIter0_v0_offline\n",
        " MVAJetTags_v2_mc\n",
        " JetCorrectorParametersCollection_AK5PFchs_v1_hlt\n",
        " GBRForest_MVASelectorIter1_v0_offline\n",
        " JetCorrectorParametersCollection_Fall12_V5_DATA_AK5PFchs\n",
        " JetCorrectorParametersCollection_Fall12_V5_DATA_KT6PF\n",
        " JetCorrectorParametersCollection_Fall12_V5_DATA_AK5PF\n",
        " JetCorrectorParametersCollection_Fall12_V5_DATA_AK7PF\n",
        " JetCorrectorParametersCollection_Fall12_V5_DATA_AK7PFchs\n",
        " JetCorrectorParametersCollection_Fall12_V5_DATA_IC5PF\n",
        " JetCorrectorParametersCollection_Fall12_V5_DATA_KT4PF\n"
       ]
      }
     ],
     "prompt_number": 19
    },
    {
     "cell_type": "heading",
     "level": 3,
     "metadata": {},
     "source": [
      "OTHERS"
     ]
    },
    {
     "cell_type": "code",
     "collapsed": false,
     "input": [
      "printTags(\"OTHERS\")\n",
      "# print open(\"OTHERS.conf\").read()"
     ],
     "language": "python",
     "metadata": {},
     "outputs": [
      {
       "output_type": "stream",
       "stream": "stdout",
       "text": [
        " DQMXMLFile_SiStripDQM_v1_offline\n",
        " AlCaRecoTriggerBits_SiStripDQM_v2_offline\n",
        " runinfo_31X_hlt\n",
        " AlcaRecoTriggerBits_JetMET_DQM_v0_hlt\n",
        " AlCaRecoTriggerBits_MuonDQM_v1_offline\n",
        " AlCaRecoHLTpaths8e29_1e31_v16_offline\n",
        " DropBoxMetadata_v0_offline\n",
        " DQMReferenceHistogramRootFileRcd_v06_offline\n",
        " DQMXMLFile_SiPixelDQM_v1_offline\n"
       ]
      }
     ],
     "prompt_number": 20
    },
    {
     "cell_type": "code",
     "collapsed": false,
     "input": [],
     "language": "python",
     "metadata": {},
     "outputs": [],
     "prompt_number": 20
    }
   ],
   "metadata": {}
  }
 ]
}