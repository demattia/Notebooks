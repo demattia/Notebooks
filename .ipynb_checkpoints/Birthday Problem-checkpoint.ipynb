{
 "metadata": {
  "name": "",
  "signature": "sha256:946ac7fec845b2709053c17aa55fc13ca5a176ac9db6ba7b825ee7f61f3624c6"
 },
 "nbformat": 3,
 "nbformat_minor": 0,
 "worksheets": [
  {
   "cells": [
    {
     "cell_type": "code",
     "collapsed": false,
     "input": [
      "from pylab import *\n",
      "%pylab inline"
     ],
     "language": "python",
     "metadata": {},
     "outputs": [
      {
       "output_type": "stream",
       "stream": "stdout",
       "text": [
        "Populating the interactive namespace from numpy and matplotlib\n"
       ]
      },
      {
       "output_type": "stream",
       "stream": "stderr",
       "text": [
        "WARNING: pylab import has clobbered these variables: ['linalg', 'draw_if_interactive', 'random', 'save', 'load', 'power', 'info', 'fft']\n",
        "`%matplotlib` prevents importing * from pylab and numpy\n"
       ]
      }
     ],
     "prompt_number": 1
    },
    {
     "cell_type": "markdown",
     "metadata": {},
     "source": [
      "**The birthday problem**: find the probability that at least two people in a group of N have the same birthday.\n",
      "Assume that the probability is the same for every day of the year and ignore leap years.\n",
      "\n",
      "It is simpler to compute the probability that every person in the group has a different birthday and subtract it from 1.\n",
      "To avoid double counting the probability will be decreasing. The second person has (365-1)/365 possibilities to have a different birthday from the first one. The third person has (365-2)/365 because the first two days have already been taken, and so on. The probability is 1 if there are at least 365 people in the group (pigeonhole principle).\n",
      "\n",
      "The probability exceeds 50% when the group is of at least 23 people."
     ]
    },
    {
     "cell_type": "code",
     "collapsed": false,
     "input": [
      "x=[]\n",
      "y=[]\n",
      "for i in range(100):\n",
      "    p = 1\n",
      "    x.append(i)\n",
      "    for j in range(i):\n",
      "        p *= (365.-j)/365.\n",
      "    y.append(1 - p)"
     ],
     "language": "python",
     "metadata": {},
     "outputs": [],
     "prompt_number": 2
    },
    {
     "cell_type": "code",
     "collapsed": false,
     "input": [
      "figure()\n",
      "plot(x,y,'r')\n",
      "show()"
     ],
     "language": "python",
     "metadata": {},
     "outputs": [
      {
       "metadata": {},
       "output_type": "display_data",
       "png": "[encoded data removed]",
       "text": [
        "<matplotlib.figure.Figure at 0x10753e690>"
       ]
      }
     ],
     "prompt_number": 3
    },
    {
     "cell_type": "code",
     "collapsed": false,
     "input": [],
     "language": "python",
     "metadata": {},
     "outputs": []
    }
   ],
   "metadata": {}
  }
 ]
}