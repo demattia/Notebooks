{
 "metadata": {
  "name": ""
 },
 "nbformat": 3,
 "nbformat_minor": 0,
 "worksheets": [
  {
   "cells": [
    {
     "cell_type": "code",
     "collapsed": false,
     "input": [
      "from openpyxl import load_workbook\n",
      "import csv\n",
      "def update_xlsx(src, dest):\n",
      "    #Open an xlsx for reading\n",
      "    wb = load_workbook(filename = dest, keep_vba=True)\n",
      "    #Get the current Active Sheet\n",
      "    # ws = wb.get_active_sheet()\n",
      "    # print ws.title\n",
      "    #You can also select a particular sheet\n",
      "    #based on sheet name\n",
      "    ws = wb.get_sheet_by_name(\"OnPeak\")\n",
      "    #Open the csv file\n",
      "    with open(src,'rU') as fin:\n",
      "        #read the csv\n",
      "        reader = csv.reader(fin)\n",
      "        #enumerate the rows, so that you can\n",
      "        #get the row index for the xlsx\n",
      "        for index,row in enumerate(reader):\n",
      "            if index < 6: continue\n",
      "            print row\n",
      "            #Asssuming space sepeated,\n",
      "            #Split the row to cells (column)\n",
      "            # row = row[0].split(',')\n",
      "            #Access the particular cell and assign\n",
      "            #the value from the csv row\n",
      "            print ws.cell(row=index,column=0).value, ws.cell(row=index,column=1).value, ws.cell(row=index,column=2).value, ws.cell(row=index,column=3).value, ws.cell(row=index,column=4).value\n",
      "            # ws.cell(row=index,column=1).value = row[index-6]\n",
      "            # ws.cell(row=index,column=2).value = row[index-6]\n",
      "            ws.cell(row=index,column=3).value = row[3]\n",
      "            ws.cell(row=index,column=4).value = row[4]\n",
      "    #save the csb file\n",
      "    wb.save(dest)"
     ],
     "language": "python",
     "metadata": {},
     "outputs": [],
     "prompt_number": 127
    },
    {
     "cell_type": "code",
     "collapsed": false,
     "input": [
      "update_xlsx(\"Jul_2013_Q2.csv\", \"Jul_2013_Q2.xlsm\")"
     ],
     "language": "python",
     "metadata": {},
     "outputs": [
      {
       "output_type": "stream",
       "stream": "stdout",
       "text": [
        "['REMNTNCT18 KV   GT3', 'POSSUMP414 KV   G3', '0', '2', '4']\n",
        "REMNTNCT18 KV   GT3 POSSUMP414 KV   G3 0 0 0\n",
        "['BATHCO  20 KV   GM1', 'DOMINION HUB', '0', '0', '0']\n",
        "BATHCO  20 KV   GM1 DOMINION HUB 0 0 0\n",
        "['FLUVANNA18 KV   GS12', 'DOMINION HUB', '0', '0', '0']\n",
        "FLUVANNA18 KV   GS12 DOMINION HUB 0 0 0\n",
        "['BEARGRDN18 KV   CT1B', 'SHORTPMP35 KV   LANIER', '0', '0', '0']\n",
        "BEARGRDN18 KV   CT1B SHORTPMP35 KV   LANIER 0 0 0\n",
        "['FLUVANNA18 KV   GS12', 'NANNA4  22 KV   G1', '0', '0', '0']\n",
        "FLUVANNA18 KV   GS12 NANNA4  22 KV   G1 0 0 0\n",
        "['FLUVANNA18 KV   GT22', 'SURRY4  22 KV   G2', '15', '10', '0.3']\n",
        "FLUVANNA18 KV   GT22 SURRY4  22 KV   G2 15 10 0.3\n",
        "['BATHCO  20 KV   GM2', 'LOUISACT13.8 KV G1', '15', '0', '0']\n",
        "BATHCO  20 KV   GM2 LOUISACT13.8 KV G1 15 0 0\n",
        "['BATH COUNTY GEN', 'LOUISACT13.8 KV G1', '0', '0', '0']\n",
        "BATH COUNTY GEN LOUISACT13.8 KV G1 0 0 0\n",
        "['CUSHAW  2 KV    G15', 'LOUISACT13.8 KV G1', '0', '0', '0']\n",
        "CUSHAW  2 KV    G15 LOUISACT13.8 KV G1 0 0 0\n",
        "['BREMO4  13 KV   G3', 'SANNA   230 KV  G1', '0', '0', '0']\n",
        "BREMO4  13 KV   G3 SANNA   230 KV  G1 0 0 0\n",
        "['BREMO4  17 KV   G4', 'SPRUANCE13.8 KV NUG1', '0', '0', '0']\n",
        "BREMO4  17 KV   G4 SPRUANCE13.8 KV NUG1 0 0 0\n",
        "['CLOVER  25 KV   G2', 'GASTON4 14 KV   G1', '25', '23', '1']\n",
        "CLOVER  25 KV   G2 GASTON4 14 KV   G1 25 23 1\n",
        "['CLOVER  25 KV   G2', 'RORAPIDS14 KV   G1', '22', '0', '0.5']\n",
        "CLOVER  25 KV   G2 RORAPIDS14 KV   G1 22 0 0.5\n",
        "['LUMBERTON', 'SURRY4  22 KV   G2', '0', '0', '0']\n",
        "LUMBERTON SURRY4  22 KV   G2 0 0 0\n",
        "['LUMBERTON', 'OPOSSUMC18 KV   SYNCHRON', '0', '0', '0']\n",
        "LUMBERTON OPOSSUMC18 KV   SYNCHRON 0 0 0\n"
       ]
      }
     ],
     "prompt_number": 128
    },
    {
     "cell_type": "code",
     "collapsed": false,
     "input": [],
     "language": "python",
     "metadata": {},
     "outputs": [],
     "prompt_number": 54
    }
   ],
   "metadata": {}
  }
 ]
}