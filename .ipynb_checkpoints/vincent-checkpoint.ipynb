{
 "metadata": {
  "name": ""
 },
 "nbformat": 3,
 "nbformat_minor": 0,
 "worksheets": [
  {
   "cells": [
    {
     "cell_type": "code",
     "collapsed": false,
     "input": [
      "from vincent import *"
     ],
     "language": "python",
     "metadata": {},
     "outputs": [],
     "prompt_number": 1
    },
    {
     "cell_type": "heading",
     "level": 2,
     "metadata": {},
     "source": [
      "Visualization"
     ]
    },
    {
     "cell_type": "markdown",
     "metadata": {},
     "source": [
      "The top-most element of Vega JSON documents is implemented by the `Visualization` class. Visualizations contain all information for rendering a complete document. \n",
      "\n",
      "We'll start by creating a new `Visualization`."
     ]
    },
    {
     "cell_type": "code",
     "collapsed": false,
     "input": [
      "vis = Visualization(width=400, height=200)"
     ],
     "language": "python",
     "metadata": {},
     "outputs": [],
     "prompt_number": 2
    },
    {
     "cell_type": "markdown",
     "metadata": {},
     "source": [
      "The keywords `width` and `height` are Vega document keys. All valid Vega keys can be specified as keywords in the class constructors. The keys are implemented as class properties - complete with doc strings - and can be explored via help (and tab-completion in ipython)."
     ]
    },
    {
     "cell_type": "code",
     "collapsed": false,
     "input": [
      "help(Visualization)"
     ],
     "language": "python",
     "metadata": {},
     "outputs": [
      {
       "output_type": "stream",
       "stream": "stdout",
       "text": [
        "Help on class Visualization in module vincent.visualization:\n",
        "\n",
        "class Visualization(vincent.core.GrammarClass)\n",
        " |  Visualization container class.\n",
        " |  \n",
        " |  This class defines the full visualization. Calling its ``to_json``\n",
        " |  method should return a complete Vega definition.\n",
        " |  \n",
        " |  The sub-elements of the visualization are stored in the ``data``,\n",
        " |  ``axes``, ``marks``, and ``scales`` attributes. See the docs for each\n",
        " |  attribute for details.\n",
        " |  \n",
        " |  Method resolution order:\n",
        " |      Visualization\n",
        " |      vincent.core.GrammarClass\n",
        " |      __builtin__.object\n",
        " |  \n",
        " |  Methods defined here:\n",
        " |  \n",
        " |  __init__(self, *args, **kwargs)\n",
        " |      Initialize a Visualization\n",
        " |      \n",
        " |      In addition to setting any attributes, this sets the data, marks,\n",
        " |      scales, and axes properties to empty KeyedLists if they aren't\n",
        " |      defined by the arguments.\n",
        " |  \n",
        " |  axis_titles(self, x=None, y=None)\n",
        " |      Apply axis titles to the figure.\n",
        " |      \n",
        " |      This is a convenience method for manually modifying the \"Axes\" mark.\n",
        " |      \n",
        " |      Parameters\n",
        " |      ----------\n",
        " |      x: string, default 'null'\n",
        " |          X-axis title\n",
        " |      y: string, default 'null'\n",
        " |          Y-axis title\n",
        " |      \n",
        " |      Example\n",
        " |      -------\n",
        " |      >>>vis.axis_titles(y=\"Data 1\", x=\"Data 2\")\n",
        " |  \n",
        " |  colors(self, brew=None)\n",
        " |      Convenience method for adding color brewer scales to charts with a\n",
        " |      color scale, such as stacked or grouped bars.\n",
        " |      \n",
        " |      See the colors here: http://colorbrewer2.org/\n",
        " |      \n",
        " |      Or here: http://bl.ocks.org/mbostock/5577023\n",
        " |      \n",
        " |      This assumes that a 'color' scale exists on your chart.\n",
        " |      \n",
        " |      Parameters\n",
        " |      ----------\n",
        " |      brew: string, default None\n",
        " |          Color brewer scheme (BuGn, YlOrRd, etc)\n",
        " |  \n",
        " |  display(self)\n",
        " |      Display visualization inline in IPython notebook\n",
        " |  \n",
        " |  legend(self, title=None, scale='color')\n",
        " |      Convience method for adding a legend to the figure.\n",
        " |      \n",
        " |      Important: This defaults to the color scale that is generated with\n",
        " |      Line, Area, Stacked Line, etc charts. For bar charts, the scale ref is\n",
        " |      usually 'y'.\n",
        " |      \n",
        " |      Parameters\n",
        " |      ----------\n",
        " |      title: string, default None\n",
        " |          Legend Title\n",
        " |      scale: string, default 'color'\n",
        " |          Scale reference for legend\n",
        " |  \n",
        " |  validate(self, require_all=True, scale='colors')\n",
        " |      Validate the visualization contents.\n",
        " |      \n",
        " |      Parameters\n",
        " |      ----------\n",
        " |      require_all : boolean, default True\n",
        " |          If True (default), then all fields ``data``, ``scales``,\n",
        " |          ``axes``, and ``marks`` must be defined. The user is allowed to\n",
        " |          disable this if the intent is to define the elements\n",
        " |          client-side.\n",
        " |      \n",
        " |      If the contents of the visualization are not valid Vega, then a\n",
        " |      :class:`ValidationError` is raised.\n",
        " |  \n",
        " |  ----------------------------------------------------------------------\n",
        " |  Data descriptors defined here:\n",
        " |  \n",
        " |  axes\n",
        " |      list or KeyedList of ``Axis`` : Axis definitions\n",
        " |      \n",
        " |      Axes define the locations of the data being mapped by the scales.\n",
        " |      See the :class:`Axis` class for details.\n",
        " |  \n",
        " |  data\n",
        " |      list or KeyedList of ``Data`` : Data definitions\n",
        " |      \n",
        " |      This defines the data being visualized. See the :class:`Data` class\n",
        " |      for details.\n",
        " |  \n",
        " |  height\n",
        " |      int : Height of the visualization in pixels\n",
        " |      \n",
        " |      Default is 500 if undefined.\n",
        " |  \n",
        " |  legends\n",
        " |      list or KeyedList of ``Legends`` : Legend definitions\n",
        " |      \n",
        " |      Legends visualize scales, and take one or more scales as their input.\n",
        " |      They can be customized via a LegendProperty object.\n",
        " |  \n",
        " |  marks\n",
        " |      list or KeyedList of ``Mark`` : Mark definitions\n",
        " |      \n",
        " |      Marks are the visual objects (such as lines, bars, etc.) that\n",
        " |      represent the data in the visualization space. See the :class:`Mark`\n",
        " |      class for details.\n",
        " |  \n",
        " |  name\n",
        " |      string : Name of the visualization (optional)\n",
        " |  \n",
        " |  padding\n",
        " |      int or dict : Padding around visualization\n",
        " |      \n",
        " |      The padding defines the distance between the edge of the\n",
        " |      visualization canvas to the visualization box. It does not count as\n",
        " |      part of the visualization width/height. Values cannot be negative.\n",
        " |      \n",
        " |      If a dict, padding must have all keys ``''top'``, ``'left'``,\n",
        " |      ``'right'``, and ``'bottom'`` with int values.\n",
        " |  \n",
        " |  scales\n",
        " |      list or KeyedList of ``Scale`` : Scale definitions\n",
        " |      \n",
        " |      Scales map the data from the domain of the data to some\n",
        " |      visualization space (such as an x-axis). See the :class:`Scale`\n",
        " |      class for details.\n",
        " |  \n",
        " |  viewport\n",
        " |      2-element list of ints : Dimensions of the viewport\n",
        " |      \n",
        " |      The viewport is a bounding box containing the visualization. If the\n",
        " |      dimensions of the visualization are larger than the viewport, then\n",
        " |      the visualization will be scrollable.\n",
        " |      \n",
        " |      If undefined, then the full visualization is shown.\n",
        " |  \n",
        " |  width\n",
        " |      int : Width of the visualization in pixels\n",
        " |      \n",
        " |      Default is 500 if undefined.\n",
        " |  \n",
        " |  ----------------------------------------------------------------------\n",
        " |  Methods inherited from vincent.core.GrammarClass:\n",
        " |  \n",
        " |  from_json(self)\n",
        " |      Load object from JSON\n",
        " |      \n",
        " |      Not yet implemented.\n",
        " |  \n",
        " |  to_json(self, path=None, html_out=False, html_path='vega_template.html', validate=False, pretty_print=True)\n",
        " |      Convert object to JSON\n",
        " |      \n",
        " |      Parameters\n",
        " |      ----------\n",
        " |      path: string, default None\n",
        " |          Path to write JSON out. If there is no path provided, JSON\n",
        " |          will be returned as a string to the console.\n",
        " |      html_out: boolean, default False\n",
        " |          If True, vincent will output an simple HTML scaffold to\n",
        " |          visualize the vega json output.\n",
        " |      html_path: string, default 'vega_template.html'\n",
        " |          Path for the html file (if html_out=True)\n",
        " |      validate : boolean\n",
        " |          If True, call the object's `validate` method before\n",
        " |          serializing. Default is False.\n",
        " |      pretty_print : boolean\n",
        " |          If True (default), JSON is printed in more-readable form with\n",
        " |          indentation and spaces.\n",
        " |      \n",
        " |      Returns\n",
        " |      -------\n",
        " |      string\n",
        " |          JSON serialization of the class's grammar properties.\n",
        " |  \n",
        " |  ----------------------------------------------------------------------\n",
        " |  Data descriptors inherited from vincent.core.GrammarClass:\n",
        " |  \n",
        " |  __dict__\n",
        " |      dictionary for instance variables (if defined)\n",
        " |  \n",
        " |  __weakref__\n",
        " |      list of weak references to the object (if defined)\n",
        "\n"
       ]
      }
     ],
     "prompt_number": 3
    },
    {
     "cell_type": "markdown",
     "metadata": {},
     "source": [
      "This will already dump some JSON, but there isn't enough yet to define a valid Vega document:"
     ]
    },
    {
     "cell_type": "code",
     "collapsed": false,
     "input": [
      "print(vis.to_json())"
     ],
     "language": "python",
     "metadata": {},
     "outputs": [
      {
       "output_type": "stream",
       "stream": "stdout",
       "text": [
        "{\n",
        "  \"axes\": [],\n",
        "  \"data\": [],\n",
        "  \"height\": 200,\n",
        "  \"legends\": [],\n",
        "  \"marks\": [],\n",
        "  \"scales\": [],\n",
        "  \"width\": 400\n",
        "}\n"
       ]
      }
     ],
     "prompt_number": 4
    },
    {
     "cell_type": "markdown",
     "metadata": {},
     "source": [
      "Vincent only creates JSON data for keys that have been explicitly defined. For example, though the property `padding` already exists,"
     ]
    },
    {
     "cell_type": "code",
     "collapsed": false,
     "input": [
      "hasattr(vis, 'padding')"
     ],
     "language": "python",
     "metadata": {},
     "outputs": [
      {
       "metadata": {},
       "output_type": "pyout",
       "prompt_number": 5,
       "text": [
        "True"
       ]
      }
     ],
     "prompt_number": 5
    },
    {
     "cell_type": "markdown",
     "metadata": {},
     "source": [
      "it doesn't show up in the JSON output until it's been assigned. Similarly, Vega properties that *have* been assigned can also be deleted, which will prevent them from appearing in the encoded JSON. For example,"
     ]
    },
    {
     "cell_type": "code",
     "collapsed": false,
     "input": [
      "del vis.width\n",
      "print(vis.to_json())"
     ],
     "language": "python",
     "metadata": {},
     "outputs": [
      {
       "output_type": "stream",
       "stream": "stdout",
       "text": [
        "{\n",
        "  \"axes\": [],\n",
        "  \"data\": [],\n",
        "  \"height\": 200,\n",
        "  \"legends\": [],\n",
        "  \"marks\": [],\n",
        "  \"scales\": []\n",
        "}\n"
       ]
      }
     ],
     "prompt_number": 6
    },
    {
     "cell_type": "markdown",
     "metadata": {},
     "source": [
      "has removed `\"width\"` from the returned JSON. We'd like our width defined though, so let's put it back.\n"
     ]
    },
    {
     "cell_type": "code",
     "collapsed": false,
     "input": [
      "vis.width = 400"
     ],
     "language": "python",
     "metadata": {},
     "outputs": [],
     "prompt_number": 7
    },
    {
     "cell_type": "markdown",
     "metadata": {},
     "source": [
      "We can add margins around the edges by setting the `padding` property to a 4-element dict:"
     ]
    },
    {
     "cell_type": "code",
     "collapsed": false,
     "input": [
      "vis.padding = {'top': 10, 'left': 30, 'bottom': 20, 'right': 10}\n",
      "print(vis.to_json())"
     ],
     "language": "python",
     "metadata": {},
     "outputs": [
      {
       "output_type": "stream",
       "stream": "stdout",
       "text": [
        "{\n",
        "  \"axes\": [],\n",
        "  \"data\": [],\n",
        "  \"height\": 200,\n",
        "  \"legends\": [],\n",
        "  \"marks\": [],\n",
        "  \"padding\": {\n",
        "    \"bottom\": 20,\n",
        "    \"left\": 30,\n",
        "    \"right\": 10,\n",
        "    \"top\": 10\n",
        "  },\n",
        "  \"scales\": [],\n",
        "  \"width\": 400\n",
        "}\n"
       ]
      }
     ],
     "prompt_number": 8
    },
    {
     "cell_type": "markdown",
     "metadata": {},
     "source": [
      "Because valid JSON does not make valid Vega, Vincent tries to prevent us from generating documents that won't render figures in the client (usually the browser). For example, setting the `padding` property with an invalid `'above'` key raises a `ValueError`."
     ]
    },
    {
     "cell_type": "code",
     "collapsed": false,
     "input": [
      "try:\n",
      " vis.padding = {'above': 10, 'left': 30, 'bottom': 20, 'right': 10}\n",
      "except ValueError as e:\n",
      " print(e)"
     ],
     "language": "python",
     "metadata": {},
     "outputs": [
      {
       "output_type": "stream",
       "stream": "stdout",
       "text": [
        "Padding must have keys \"top\", \"left\", \"right\", \"bottom\".\n"
       ]
      }
     ],
     "prompt_number": 9
    },
    {
     "cell_type": "markdown",
     "metadata": {},
     "source": [
      "Vincent always raises `ValueError` if it thinks a property assignment isn't valid Vega. Otherwise we might spend quite some time debugging our documents in the client.\n",
      "\n",
      "Next we'll look at defining document data."
     ]
    },
    {
     "cell_type": "heading",
     "level": 2,
     "metadata": {},
     "source": [
      "Data"
     ]
    },
    {
     "cell_type": "markdown",
     "metadata": {},
     "source": [
      "Data in Vega is defined in tabular form. Though it's certainly possible to set the data manually, it's much easier to use the class methods `Data.from_iters`, `Data.from_pandas`, and `Data.from_numpy`."
     ]
    },
    {
     "cell_type": "code",
     "collapsed": false,
     "input": [
      "mydata = Data.from_mult_iters(x=['A', 'B', 'C', 'D', 'E', 'F', 'G', 'H', 'I'], y=[28, 55, 43, 91, 81, 53, 19, 87, 52], idx='x')\n",
      "print(mydata.to_json(pretty_print=False))"
     ],
     "language": "python",
     "metadata": {},
     "outputs": [
      {
       "output_type": "stream",
       "stream": "stdout",
       "text": [
        "{\"name\": \"table\", \"values\": [{\"col\": \"y\", \"idx\": \"A\", \"val\": 28}, {\"col\": \"y\", \"idx\": \"B\", \"val\": 55}, {\"col\": \"y\", \"idx\": \"C\", \"val\": 43}, {\"col\": \"y\", \"idx\": \"D\", \"val\": 91}, {\"col\": \"y\", \"idx\": \"E\", \"val\": 81}, {\"col\": \"y\", \"idx\": \"F\", \"val\": 53}, {\"col\": \"y\", \"idx\": \"G\", \"val\": 19}, {\"col\": \"y\", \"idx\": \"H\", \"val\": 87}, {\"col\": \"y\", \"idx\": \"I\", \"val\": 52}]}\n"
       ]
      }
     ],
     "prompt_number": 10
    },
    {
     "cell_type": "markdown",
     "metadata": {},
     "source": [
      "Note that in Vega, all data must have a name. Vincent will set the data name to `'table'` if it isn't provided.\n",
      "\n",
      "Let's add this data to our visualization:"
     ]
    },
    {
     "cell_type": "code",
     "collapsed": false,
     "input": [
      "vis.data.append(mydata)"
     ],
     "language": "python",
     "metadata": {},
     "outputs": [],
     "prompt_number": 11
    },
    {
     "cell_type": "markdown",
     "metadata": {},
     "source": [
      "The data in the Vega JSON document is an array, allowing us to define multiple data sets in one document. The data elements (as well as scales and axes) can be accessed by their location,"
     ]
    },
    {
     "cell_type": "code",
     "collapsed": false,
     "input": [
      "vis.data[0].values[0]"
     ],
     "language": "python",
     "metadata": {},
     "outputs": [
      {
       "metadata": {},
       "output_type": "pyout",
       "prompt_number": 12,
       "text": [
        "{'col': 'y', 'idx': 'A', 'val': 28}"
       ]
      }
     ],
     "prompt_number": 12
    },
    {
     "cell_type": "markdown",
     "metadata": {},
     "source": [
      "or by their name,"
     ]
    },
    {
     "cell_type": "code",
     "collapsed": false,
     "input": [
      "vis.data['table'].values[0]"
     ],
     "language": "python",
     "metadata": {},
     "outputs": [
      {
       "metadata": {},
       "output_type": "pyout",
       "prompt_number": 13,
       "text": [
        "{'col': 'y', 'idx': 'A', 'val': 28}"
       ]
      }
     ],
     "prompt_number": 13
    },
    {
     "cell_type": "markdown",
     "metadata": {},
     "source": [
      "Assignments by name are also possible."
     ]
    },
    {
     "cell_type": "code",
     "collapsed": false,
     "input": [
      "vis.data['table'] = mydata"
     ],
     "language": "python",
     "metadata": {},
     "outputs": [],
     "prompt_number": 14
    },
    {
     "cell_type": "markdown",
     "metadata": {},
     "source": [
      "In this case the key of the data (`'table'`) must match the `name` property of the assigned object, or a `ValidationError` is raised. Data can also point to an external source by setting the `url` property. See the Vega documentation for more info.\n",
      "\n",
      "Let's add some scales to our visualization."
     ]
    },
    {
     "cell_type": "heading",
     "level": 2,
     "metadata": {},
     "source": [
      "Scales"
     ]
    },
    {
     "cell_type": "markdown",
     "metadata": {},
     "source": [
      "Scales map the data from the space of the data (the domain of the scale) to the space of the visualization (the range of the scale). These are defined using the `Scale` class."
     ]
    },
    {
     "cell_type": "code",
     "collapsed": false,
     "input": [
      "vis.scales['x'] = Scale(name='x', type='ordinal', range='width')"
     ],
     "language": "python",
     "metadata": {},
     "outputs": [],
     "prompt_number": 15
    },
    {
     "cell_type": "markdown",
     "metadata": {},
     "source": [
      "The domain of the scales is usually defined by referencing a field of the data. These reference are defined by the `DataRef` class."
     ]
    },
    {
     "cell_type": "code",
     "collapsed": false,
     "input": [
      "vis.scales['x'].domain = DataRef(data='table', field='data.idx')\n",
      "vis.scales['x'].to_json(pretty_print=False)"
     ],
     "language": "python",
     "metadata": {},
     "outputs": [
      {
       "metadata": {},
       "output_type": "pyout",
       "prompt_number": 16,
       "text": [
        "'{\"domain\": {\"data\": \"table\", \"field\": \"data.idx\"}, \"name\": \"x\", \"range\": \"width\", \"type\": \"ordinal\"}'"
       ]
      }
     ],
     "prompt_number": 16
    },
    {
     "cell_type": "markdown",
     "metadata": {},
     "source": [
      "Our x-data is ordinal (since it's letters), but our y-data is quantitative. If the `type` property is undefined, Vega defaults to a `linear` type."
     ]
    },
    {
     "cell_type": "code",
     "collapsed": false,
     "input": [
      "vis.scales.append(Scale(name='y', range='height', nice=True, domain=DataRef(data='table', field='data.val')))"
     ],
     "language": "python",
     "metadata": {},
     "outputs": [],
     "prompt_number": 17
    },
    {
     "cell_type": "markdown",
     "metadata": {},
     "source": [
      "Now let's add some axes to define the visualization space."
     ]
    },
    {
     "cell_type": "heading",
     "level": 2,
     "metadata": {},
     "source": [
      "Axes"
     ]
    },
    {
     "cell_type": "markdown",
     "metadata": {},
     "source": [
      "Axes provide a guide for translating spatial relationships about data. They are defined, naturally, by the `Axis` class."
     ]
    },
    {
     "cell_type": "code",
     "collapsed": false,
     "input": [
      "vis.axes.extend([Axis(type='x', scale='x'), Axis(type='y', scale='y')])"
     ],
     "language": "python",
     "metadata": {},
     "outputs": [],
     "prompt_number": 18
    },
    {
     "cell_type": "markdown",
     "metadata": {},
     "source": [
      "While Vega generally doesn't care if we label our data `'x'` or `'y'` (as opposed to, say, `'time'`), the axes are the exception. Here, `'x'` is always used to refer to the horizontal axis, while `'y'` refers to the vertical axis. Also note that while the `data` and `scales` properties are keyed according to the `name` property of their contents, the `axes` property is keyed according to the `type` property."
     ]
    },
    {
     "cell_type": "heading",
     "level": 2,
     "metadata": {},
     "source": [
      "Marks"
     ]
    },
    {
     "cell_type": "markdown",
     "metadata": {},
     "source": [
      "Marks are the most fundamental part of the visualization; they're what the viewer sees. All marks in Vega have a `type`, such as `line`, `rect`, ect. To add the bars to our bar chart, we add `rect` marks:"
     ]
    },
    {
     "cell_type": "code",
     "collapsed": false,
     "input": [
      "bars = Mark(type='rect')"
     ],
     "language": "python",
     "metadata": {},
     "outputs": [],
     "prompt_number": 19
    },
    {
     "cell_type": "markdown",
     "metadata": {},
     "source": [
      "We define the data set the Marks represent by assigning the `from_` property to a `MarkRef`:"
     ]
    },
    {
     "cell_type": "code",
     "collapsed": false,
     "input": [
      "bars.from_ = MarkRef(data='table')"
     ],
     "language": "python",
     "metadata": {},
     "outputs": [],
     "prompt_number": 20
    },
    {
     "cell_type": "markdown",
     "metadata": {},
     "source": [
      "Though `from_` is used for the property name - `from` would be invalid Python syntax - the JSON field is still `\"from\"`:"
     ]
    },
    {
     "cell_type": "code",
     "collapsed": false,
     "input": [
      "bars.to_json(pretty_print=False)"
     ],
     "language": "python",
     "metadata": {},
     "outputs": [
      {
       "metadata": {},
       "output_type": "pyout",
       "prompt_number": 21,
       "text": [
        "'{\"from\": {\"data\": \"table\"}, \"type\": \"rect\"}'"
       ]
      }
     ],
     "prompt_number": 21
    },
    {
     "cell_type": "markdown",
     "metadata": {},
     "source": [
      "The appearance of the marks are determined by the `properties` property. The `properties` is set to a `MarkProperties` object that has `enter`, `exit`, `hover`, and `update`, which correspond to different events that may alter the mark's appearance. Each property of the `MarkProperties` object can be set to a `PropertySet` class that specifies the appearance details, such as color, stroke, etc.. Finally, each property of PropertySet is set to a `ValueRef` class. The `ValueRef`s link the details of the mark's appearance to the data via the scales.\n",
      "\n",
      "This might sound a bit complicated, because it is. Maintaining the flexibility of something like a visualization grammar requires multiple levels of abstraction. "
     ]
    },
    {
     "cell_type": "code",
     "collapsed": false,
     "input": [
      "bars.properties = MarkProperties()\n",
      "bars.properties.enter = PropertySet()\n",
      "\n",
      "# Set the x-location of the bars to the data's x field, mapped through the x scale. Internally vincent tidies the data to 'idx'\n",
      "bars.properties.enter.x = ValueRef(scale='x', field='data.idx')\n",
      "# Use \"band\" to set the width of the bars to be flush against one another, minus a 1-pixel offset.\n",
      "bars.properties.enter.width = ValueRef(scale='x', band=True, offset=-1)\n",
      "# Set the height of the bars to the data's y field, mapped through the y scale.Internally vincent tidies the data to 'val'\n",
      "bars.properties.enter.y = ValueRef(scale='y', field='data.val')\n",
      "# Set the bottom of the bars to the x-axis.\n",
      "bars.properties.enter.y2 = ValueRef(scale='y', value=0)\n",
      "\n",
      "bars.properties.update = PropertySet()\n",
      "# On the \"update\" event (see the Vega docs for details), set the color of the bars to \"steelblue\".\n",
      "bars.properties.update.fill = ValueRef(value='steelblue')\n",
      "# On the \"hover\" event, set the color of the bars to \"red\".\n",
      "bars.properties.hover = PropertySet()\n",
      "bars.properties.hover.fill = ValueRef(value='red')"
     ],
     "language": "python",
     "metadata": {},
     "outputs": [],
     "prompt_number": 22
    },
    {
     "cell_type": "markdown",
     "metadata": {},
     "source": [
      "As one might imagine, some fairly complex, dynamic marks can be defined. Use your imagination.\n",
      "\n",
      "Now adding the marks to the visualization,"
     ]
    },
    {
     "cell_type": "code",
     "collapsed": false,
     "input": [
      "vis.marks.append(bars)"
     ],
     "language": "python",
     "metadata": {},
     "outputs": [],
     "prompt_number": 27
    },
    {
     "cell_type": "markdown",
     "metadata": {},
     "source": [
      "Finally, visualizing it in the Notebook: "
     ]
    },
    {
     "cell_type": "code",
     "collapsed": false,
     "input": [
      "import vincent\n",
      "vincent.core.initialize_notebook()\n",
      "vis.display()"
     ],
     "language": "python",
     "metadata": {},
     "outputs": [
      {
       "javascript": [
        "\n",
        "    require.config({paths: {d3: \"http://d3js.org/d3.v3.min\"}});\n",
        "    require([\"d3\"], function(d3) {\n",
        "      window.d3 = d3;\n",
        "    });\n",
        "    "
       ],
       "metadata": {},
       "output_type": "display_data",
       "text": [
        "<IPython.core.display.Javascript at 0x10c0e2350>"
       ]
      },
      {
       "javascript": [
        "$.getScript(\"http://d3js.org/d3.geo.projection.v0.min.js\", function() {\n",
        "        $.getScript(\"http://wrobstory.github.io/d3-cloud/d3.layout.cloud.js\", function() {\n",
        "            $.getScript(\"http://d3js.org/topojson.v1.min.js\", function() {\n",
        "                $.getScript(\"http://trifacta.github.com/vega/vega.js\", function() {\n",
        "                        $([IPython.events]).trigger(\"vega_loaded.vincent\");\n",
        "                })\n",
        "            })\n",
        "        })\n",
        "    });"
       ],
       "metadata": {},
       "output_type": "display_data",
       "text": [
        "<IPython.core.display.Javascript at 0x109479250>"
       ]
      },
      {
       "html": [
        "<div id=\"vis25942\"></div>"
       ],
       "metadata": {},
       "output_type": "display_data",
       "text": [
        "<IPython.core.display.HTML at 0x10c0e2350>"
       ]
      },
      {
       "javascript": [
        "\n",
        "( function() {\n",
        "  var _do_plot = function() {\n",
        "    if ( typeof vg == 'undefined' ) {\n",
        "      $([IPython.events]).on(\"vega_loaded.vincent\", _do_plot);\n",
        "      return;\n",
        "    }\n",
        "    vg.parse.spec({\"axes\": [{\"scale\": \"x\", \"type\": \"x\"}, {\"scale\": \"y\", \"type\": \"y\"}], \"data\": [{\"name\": \"table\", \"values\": [{\"col\": \"y\", \"idx\": \"A\", \"val\": 28}, {\"col\": \"y\", \"idx\": \"B\", \"val\": 55}, {\"col\": \"y\", \"idx\": \"C\", \"val\": 43}, {\"col\": \"y\", \"idx\": \"D\", \"val\": 91}, {\"col\": \"y\", \"idx\": \"E\", \"val\": 81}, {\"col\": \"y\", \"idx\": \"F\", \"val\": 53}, {\"col\": \"y\", \"idx\": \"G\", \"val\": 19}, {\"col\": \"y\", \"idx\": \"H\", \"val\": 87}, {\"col\": \"y\", \"idx\": \"I\", \"val\": 52}]}], \"height\": 200, \"legends\": [], \"marks\": [{\"from\": {\"data\": \"table\"}, \"properties\": {\"enter\": {\"width\": {\"band\": true, \"offset\": -1, \"scale\": \"x\"}, \"x\": {\"field\": \"data.idx\", \"scale\": \"x\"}, \"y\": {\"field\": \"data.val\", \"scale\": \"y\"}, \"y2\": {\"scale\": \"y\", \"value\": 0}}, \"hover\": {\"fill\": {\"value\": \"gray\"}}, \"update\": {\"fill\": {\"value\": \"steelblue\"}}}, \"type\": \"rect\"}], \"padding\": {\"bottom\": 20, \"left\": 30, \"right\": 10, \"top\": 10}, \"scales\": [{\"domain\": {\"data\": \"table\", \"field\": \"data.idx\"}, \"name\": \"x\", \"range\": \"width\", \"type\": \"ordinal\"}, {\"domain\": {\"data\": \"table\", \"field\": \"data.val\"}, \"name\": \"y\", \"nice\": true, \"range\": \"height\"}], \"width\": 800}, function(chart) {\n",
        "      chart({el: \"#vis25942\"}).update();\n",
        "    });\n",
        "  };\n",
        "  _do_plot();\n",
        "})();\n"
       ],
       "metadata": {},
       "output_type": "display_data",
       "text": [
        "<IPython.core.display.Javascript at 0x10c0e29d0>"
       ]
      }
     ],
     "prompt_number": 26
    },
    {
     "cell_type": "markdown",
     "metadata": {},
     "source": [
      "Once the visualization is defined, it's fairly easy to change it's properties:"
     ]
    },
    {
     "cell_type": "code",
     "collapsed": false,
     "input": [
      "vis.marks[0].properties.hover.fill.value = 'gray'\n",
      "vis.width = 800\n",
      "vis.display()"
     ],
     "language": "python",
     "metadata": {},
     "outputs": [
      {
       "html": [
        "<div id=\"vis3201\"></div>"
       ],
       "metadata": {},
       "output_type": "display_data",
       "text": [
        "<IPython.core.display.HTML at 0x10c0e2650>"
       ]
      },
      {
       "javascript": [
        "\n",
        "( function() {\n",
        "  var _do_plot = function() {\n",
        "    if ( typeof vg == 'undefined' ) {\n",
        "      $([IPython.events]).on(\"vega_loaded.vincent\", _do_plot);\n",
        "      return;\n",
        "    }\n",
        "    vg.parse.spec({\"axes\": [{\"scale\": \"x\", \"type\": \"x\"}, {\"scale\": \"y\", \"type\": \"y\"}], \"data\": [{\"name\": \"table\", \"values\": [{\"col\": \"y\", \"idx\": \"A\", \"val\": 28}, {\"col\": \"y\", \"idx\": \"B\", \"val\": 55}, {\"col\": \"y\", \"idx\": \"C\", \"val\": 43}, {\"col\": \"y\", \"idx\": \"D\", \"val\": 91}, {\"col\": \"y\", \"idx\": \"E\", \"val\": 81}, {\"col\": \"y\", \"idx\": \"F\", \"val\": 53}, {\"col\": \"y\", \"idx\": \"G\", \"val\": 19}, {\"col\": \"y\", \"idx\": \"H\", \"val\": 87}, {\"col\": \"y\", \"idx\": \"I\", \"val\": 52}]}], \"height\": 200, \"legends\": [], \"marks\": [{\"from\": {\"data\": \"table\"}, \"properties\": {\"enter\": {\"width\": {\"band\": true, \"offset\": -1, \"scale\": \"x\"}, \"x\": {\"field\": \"data.idx\", \"scale\": \"x\"}, \"y\": {\"field\": \"data.val\", \"scale\": \"y\"}, \"y2\": {\"scale\": \"y\", \"value\": 0}}, \"hover\": {\"fill\": {\"value\": \"gray\"}}, \"update\": {\"fill\": {\"value\": \"steelblue\"}}}, \"type\": \"rect\"}, {\"from\": {\"data\": \"table\"}, \"properties\": {\"enter\": {\"width\": {\"band\": true, \"offset\": -1, \"scale\": \"x\"}, \"x\": {\"field\": \"data.idx\", \"scale\": \"x\"}, \"y\": {\"field\": \"data.val\", \"scale\": \"y\"}, \"y2\": {\"scale\": \"y\", \"value\": 0}}, \"hover\": {\"fill\": {\"value\": \"gray\"}}, \"update\": {\"fill\": {\"value\": \"steelblue\"}}}, \"type\": \"rect\"}], \"padding\": {\"bottom\": 20, \"left\": 30, \"right\": 10, \"top\": 10}, \"scales\": [{\"domain\": {\"data\": \"table\", \"field\": \"data.idx\"}, \"name\": \"x\", \"range\": \"width\", \"type\": \"ordinal\"}, {\"domain\": {\"data\": \"table\", \"field\": \"data.val\"}, \"name\": \"y\", \"nice\": true, \"range\": \"height\"}], \"width\": 800}, function(chart) {\n",
        "      chart({el: \"#vis3201\"}).update();\n",
        "    });\n",
        "  };\n",
        "  _do_plot();\n",
        "})();\n"
       ],
       "metadata": {},
       "output_type": "display_data",
       "text": [
        "<IPython.core.display.Javascript at 0x10c0e2790>"
       ]
      }
     ],
     "prompt_number": 28
    },
    {
     "cell_type": "code",
     "collapsed": false,
     "input": [],
     "language": "python",
     "metadata": {},
     "outputs": []
    }
   ],
   "metadata": {}
  }
 ]
}