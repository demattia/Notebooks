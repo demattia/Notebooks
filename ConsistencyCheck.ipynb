{
 "metadata": {
  "name": "ConsistencyCheck"
 },
 "nbformat": 3,
 "nbformat_minor": 0,
 "worksheets": [
  {
   "cells": [
    {
     "cell_type": "code",
     "collapsed": false,
     "input": [
      "import ROOT\n",
      "from rootpy.io import root_open\n",
      "from rootpy.plotting import Hist, Hist2D, HistStack, Legend, Canvas\n",
      "import rootpy.plotting.root2matplotlib as rplt\n",
      "import matplotlib.pyplot as plt"
     ],
     "language": "python",
     "metadata": {},
     "outputs": [],
     "prompt_number": 65
    },
    {
     "cell_type": "markdown",
     "metadata": {},
     "source": [
      "This is not checking all the histograms. It is skipping the THStack containing the background MC. However, for checking compatibility, if the signal MC and the data both agree perfectly, it is highly unlikely that the background MC disagrees."
     ]
    },
    {
     "cell_type": "code",
     "collapsed": false,
     "input": [
      "def getKeyNames( f ):\n",
      "    return [key.GetName() for key in f.GetListOfKeys()]\n",
      "\n",
      "f2 = root_open(\"output_2muTrack_promptReco_original.root\", \"READ\")\n",
      "with root_open(\"output_2muTrack_promptReco.root\", \"READ\") as f:\n",
      "    keyList = getKeyNames(f)\n",
      "    for key in keyList:\n",
      "        # print key\n",
      "        i = 0\n",
      "        for a in f.Get(key).GetListOfPrimitives():\n",
      "            a2 = f2.Get(key).GetListOfPrimitives()[i]\n",
      "            i += 1\n",
      "            j = 0\n",
      "            for b in a.GetListOfPrimitives():\n",
      "                b2 = a2.GetListOfPrimitives()[j]\n",
      "                j += 1\n",
      "                if isinstance(b, ROOT.TH1F):\n",
      "                    difference = b2.GetEntries() - b.GetEntries()\n",
      "                    if difference != 0:\n",
      "                        print \"difference =\", difference"
     ],
     "language": "python",
     "metadata": {},
     "outputs": [],
     "prompt_number": 100
    },
    {
     "cell_type": "code",
     "collapsed": false,
     "input": [],
     "language": "python",
     "metadata": {},
     "outputs": []
    }
   ],
   "metadata": {}
  }
 ]
}