{
 "metadata": {
  "name": ""
 },
 "nbformat": 3,
 "nbformat_minor": 0,
 "worksheets": [
  {
   "cells": [
    {
     "cell_type": "heading",
     "level": 1,
     "metadata": {},
     "source": [
      "Lepton Reconstruction Efficiency vs Lxy from MC"
     ]
    },
    {
     "cell_type": "markdown",
     "metadata": {},
     "source": [
      "We compute the lepton (e or $\\mu$) reconstruction efficiency as a function of the decay length for MC. We use the MC sample: HTo2LongLivedTo4F_MH1000_MFF350_CTau35To3500\n",
      "\n",
      "We select generated muons or electrons coming from long lived decays (we use only the middle lifetime) that pass the acceptance:\n",
      "\n",
      "- $p_T > 26$ GeV/c for muons\n",
      "- $p_T > 40(25)$ GeV/c for the first (second) electron\n",
      "- $\\eta < 2.0$\n",
      "- $L_{xy} < 50$ cm\n",
      "\n",
      "and we define the **lepton reconstruction efficiency** as the fraction of times a generated lepton has a matching reconstructed lepton.\n",
      "\n",
      "We also compute a **dilepton reconstruction efficiency** defined as the fraction of times a generated dilepton decaying to the chosen lepton species is found to have a matching reconstructed dilepton candidate of the same species."
     ]
    },
    {
     "cell_type": "code",
     "collapsed": false,
     "input": [
      "import ROOT\n",
      "from ROOT import TH1F, TEfficiency, TLegend\n",
      "import rootnotes\n",
      "import rootprint\n",
      "\n",
      "ROOT.gROOT.LoadMacro(\"interface/Loader.C+\")\n",
      "\n",
      "# Bins in the histograms\n",
      "nBins = 25"
     ],
     "language": "python",
     "metadata": {
      "slideshow": {
       "slide_type": "skip"
      }
     },
     "outputs": [],
     "prompt_number": 1
    },
    {
     "cell_type": "code",
     "collapsed": false,
     "input": [
      "inputFile = ROOT.TFile(\"/Users/demattia/HTo4F/histograms.root\", \"READ\")"
     ],
     "language": "python",
     "metadata": {},
     "outputs": [],
     "prompt_number": 2
    },
    {
     "cell_type": "markdown",
     "metadata": {},
     "source": [
      "The following function checks if the lepton matches the type wanted and if it comes from a long lived particle.\n",
      "The second requirement comes from the fact that we only know how many leptons of the given type were produced from the decay of long lived particles, not the total number of leptons produced in the collision."
     ]
    },
    {
     "cell_type": "code",
     "collapsed": false,
     "input": [
      "def isMatchedLepton(lepton, chosenPdgId, signalPdgIds):\n",
      "    if lepton.isCentralTrack and abs(lepton.genPdgId) == chosenPdgId:\n",
      "        for signalPdgId in signalPdgIds:\n",
      "            if lepton.genSignalOriginPdgId == signalPdgId:\n",
      "                return True\n",
      "    return False"
     ],
     "language": "python",
     "metadata": {},
     "outputs": [],
     "prompt_number": 3
    },
    {
     "cell_type": "code",
     "collapsed": false,
     "input": [
      "def isSelectedSignal(event, signalPdgIds):\n",
      "    selectedSignal1 = False\n",
      "    selectedSignal2 = False\n",
      "    for signalPdgId in signalPdgIds:\n",
      "        if event.ll1_motherPdgId == signalPdgId:\n",
      "            selectedSignal1 = True\n",
      "        if event.ll2_motherPdgId == signalPdgId:\n",
      "            selectedSignal2 = True\n",
      "    if selectedSignal1 == False or selectedSignal2 == False:\n",
      "        return False\n",
      "    return True"
     ],
     "language": "python",
     "metadata": {},
     "outputs": [],
     "prompt_number": 4
    },
    {
     "cell_type": "markdown",
     "metadata": {},
     "source": [
      "This function fills the numerator and denominator histograms for computing the reconstruction efficiency for leptons within the acceptance as a function of transverse decay length."
     ]
    },
    {
     "cell_type": "raw",
     "metadata": {},
     "source": [
      "def computeLeptonEff(event, leptonEffNum, leptonEffDen, chosenPdgId, signalPdgIds, ptCut, etCut, etaCut, LxyCut):\n",
      "    # Use only the selected signals (or comment this out to gain some speed if using all possible signals)\n",
      "    if not isSelectedSignal(event, signalPdgIds):\n",
      "        return\n",
      "\n",
      "    # count how many leptons are generated within the acceptance\n",
      "    if abs(event.ll1_daughter1_PdgId) == chosenPdgId and event.ll1_decayLength2D < LxyCut:\n",
      "        if event.ll1_daughter1_Pt > etCut and abs(event.ll1_daughter1_Eta) < etaCut:\n",
      "            if etCut == ptCut or ( not( abs(event.ll1_daughter1_Eta)>1.442 and abs(event.ll1_daughter1_Eta)<1.56 ) ):\n",
      "                leptonEffDen.Fill(event.ll1_decayLength2D)\n",
      "        if event.ll1_daughter2_Pt > etCut and abs(event.ll1_daughter2_Eta) < etaCut:\n",
      "            if etCut == ptCut or ( not( abs(event.ll1_daughter2_Eta)>1.442 and abs(event.ll1_daughter2_Eta)<1.56 ) ):\n",
      "                leptonEffDen.Fill(event.ll1_decayLength2D)\n",
      "    if abs(event.ll2_daughter1_PdgId) == chosenPdgId and event.ll2_decayLength2D < LxyCut:\n",
      "        if event.ll2_daughter1_Pt > etCut and abs(event.ll2_daughter1_Eta) < etaCut:\n",
      "            if etCut == ptCut or ( not( abs(event.ll2_daughter1_Eta)>1.442 and abs(event.ll2_daughter1_Eta)<1.56 ) ):\n",
      "                leptonEffDen.Fill(event.ll2_decayLength2D)\n",
      "        if event.ll2_daughter2_Pt > etCut and abs(event.ll2_daughter2_Eta) < etaCut:\n",
      "            if etCut == ptCut or ( not( abs(event.ll2_daughter2_Eta)>1.442 and abs(event.ll2_daughter2_Eta)<1.56 ) ):\n",
      "                leptonEffDen.Fill(event.ll2_decayLength2D)\n",
      "\n",
      "    # Compute the efficiency for leptons\n",
      "    for lepton in event.leptons_:\n",
      "        if isMatchedLepton(lepton, chosenPdgId, signalPdgIds):\n",
      "            if lepton.genSignalOriginLxy < LxyCut and lepton.genPt > etCut and abs(lepton.genEta) < etaCut and \\\n",
      "            lepton.pt > ptCut and abs(lepton.eta) < etaCut:\n",
      "                if etCut == ptCut or ( (lepton.photonEt > etCut) and \\\n",
      "                abs(lepton.photonEta) < 2.5 and \\\n",
      "                not( abs(lepton.photonEta)>1.442 and abs(lepton.photonEta)<1.56 ) and \\\n",
      "                not( abs(lepton.genEta)>1.442 and abs(lepton.genEta)<1.56 ) ):\n",
      "\n",
      "                    leptonEffNum.Fill(lepton.genSignalOriginLxy)\n"
     ]
    },
    {
     "cell_type": "markdown",
     "metadata": {},
     "source": [
      "Computing the tracking efficiency:\n",
      "\n",
      "- denominator: number of generated particles passing the acceptance\n",
      "- numerator: number of generated particles passing the acceptance with matching reconstructed tracks passing pt and eta cuts (not Et cuts because it would imply photon matching which is not part of the tracking efficiency)\n",
      "\n",
      "Note that the eta exclusion region is not part of the generated acceptance. It is a cut on the reconstructed photon."
     ]
    },
    {
     "cell_type": "code",
     "collapsed": false,
     "input": [
      "def computeLeptonEff(event, leptonEffNum, leptonEffDen, chosenPdgId, signalPdgIds, ptCut, etCut, etaCut, LxyCut):\n",
      "    # Use only the selected signals (or comment this out to gain some speed if using all possible signals)\n",
      "    if not isSelectedSignal(event, signalPdgIds):\n",
      "        return\n",
      "\n",
      "    # count how many leptons are generated within the acceptance\n",
      "    if abs(event.ll1_daughter1_PdgId) == chosenPdgId and event.ll1_decayLength2D < LxyCut:\n",
      "        if event.ll1_daughter1_Pt > etCut and abs(event.ll1_daughter1_Eta) < etaCut:\n",
      "            leptonEffDen.Fill(event.ll1_decayLength2D)\n",
      "        if event.ll1_daughter2_Pt > etCut and abs(event.ll1_daughter2_Eta) < etaCut:\n",
      "            leptonEffDen.Fill(event.ll1_decayLength2D)\n",
      "    if abs(event.ll2_daughter1_PdgId) == chosenPdgId and event.ll2_decayLength2D < LxyCut:\n",
      "        if event.ll2_daughter1_Pt > etCut and abs(event.ll2_daughter1_Eta) < etaCut:\n",
      "            leptonEffDen.Fill(event.ll2_decayLength2D)\n",
      "        if event.ll2_daughter2_Pt > etCut and abs(event.ll2_daughter2_Eta) < etaCut:\n",
      "            leptonEffDen.Fill(event.ll2_decayLength2D)\n",
      "\n",
      "    # Compute the efficiency for leptons\n",
      "    for lepton in event.leptons_:\n",
      "        if isMatchedLepton(lepton, chosenPdgId, signalPdgIds):\n",
      "            if lepton.genSignalOriginLxy < LxyCut and lepton.genPt > etCut and abs(lepton.genEta) < etaCut and \\\n",
      "            lepton.pt > ptCut and abs(lepton.eta) < etaCut and lepton.hasPhotonMatch:\n",
      "                leptonEffNum.Fill(lepton.genSignalOriginLxy)\n",
      "                    "
     ],
     "language": "python",
     "metadata": {},
     "outputs": [],
     "prompt_number": 5
    },
    {
     "cell_type": "markdown",
     "metadata": {},
     "source": [
      "This function draws the numerator and denominator histograms"
     ]
    },
    {
     "cell_type": "code",
     "collapsed": false,
     "input": [
      "def drawCheck(name, leptonEffNum, leptonEffDen):\n",
      "    leptonEffCheckCanvas = rootnotes.canvas(name, (800, 400))\n",
      "    leptonEffCheckCanvas.Divide(2,1)\n",
      "    leptonEffCheckCanvas.cd(1)\n",
      "    leptonEffNum.Draw()\n",
      "    leptonEffCheckCanvas.cd(2)\n",
      "    leptonEffDen.Draw()\n",
      "    return leptonEffCheckCanvas"
     ],
     "language": "python",
     "metadata": {},
     "outputs": [],
     "prompt_number": 6
    },
    {
     "cell_type": "code",
     "collapsed": false,
     "input": [
      "def drawEff(name, leptonEffNum, leptonEffDen):\n",
      "    leptonEffCanvas = rootnotes.canvas(name, (600, 600))\n",
      "    leptonEff = TEfficiency(leptonEffNum, leptonEffDen)\n",
      "    leptonEff.Draw()\n",
      "    ROOT.gPad.Update()\n",
      "    leptonEff.GetPaintedGraph().GetYaxis().SetRangeUser(0, 1.1)\n",
      "    # need to return the TEfficiency or it will be deleted\n",
      "    return leptonEffCanvas, leptonEff"
     ],
     "language": "python",
     "metadata": {},
     "outputs": [],
     "prompt_number": 7
    },
    {
     "cell_type": "heading",
     "level": 2,
     "metadata": {},
     "source": [
      "Muons"
     ]
    },
    {
     "cell_type": "code",
     "collapsed": false,
     "input": [
      "directory = inputFile.Get(\"muTrackAnalysis\")\n",
      "tree = directory.Get(\"outputTree\")\n",
      "\n",
      "chosenPdgId = 13\n",
      "\n",
      "signalPdgIds = []\n",
      "# signalPdgIds.append(6001113)\n",
      "signalPdgIds.append(6002113)\n",
      "# signalPdgIds.append(6003113)\n",
      "\n",
      "# Acceptance cuts (for muons)\n",
      "ptCut = 26.\n",
      "etCut = ptCut\n",
      "etaCut = 2.\n",
      "LxyCut = 50.\n",
      "\n",
      "leptonEffNum = TH1F(\"LeptonEffNum\", \"lepton eff num\", nBins, 0, 50)\n",
      "leptonEffDen = TH1F(\"LeptonEffDenom\", \"lepton eff denom\", nBins, 0, 50)\n",
      "\n",
      "# num = 0\n",
      "for event in tree:\n",
      "    # num += 1\n",
      "    computeLeptonEff(event.candidates, leptonEffNum, leptonEffDen, chosenPdgId, signalPdgIds, ptCut, etCut, etaCut, LxyCut)\n",
      "    # if num == 10:\n",
      "    #     break"
     ],
     "language": "python",
     "metadata": {},
     "outputs": [],
     "prompt_number": 8
    },
    {
     "cell_type": "code",
     "collapsed": false,
     "input": [
      "drawCheck(\"LeptonRecoEfficiencyCheckCanvas\", leptonEffNum, leptonEffDen)"
     ],
     "language": "python",
     "metadata": {},
     "outputs": [
      {
       "metadata": {},
       "output_type": "pyout",
       "png": "[encoded data removed]",
       "prompt_number": 9,
       "text": [
        "<ROOT.TCanvas object (\"LeptonRecoEfficiencyCheckCanvas\") at 0x7fb2d5d26670>"
       ]
      }
     ],
     "prompt_number": 9
    },
    {
     "cell_type": "code",
     "collapsed": false,
     "input": [
      "canvasAndEff = drawEff(\"LeptonRecoEfficiencyCanvas\", leptonEffNum, leptonEffDen)\n",
      "canvasAndEff[0]"
     ],
     "language": "python",
     "metadata": {},
     "outputs": [
      {
       "metadata": {},
       "output_type": "pyout",
       "png": "[encoded data removed]",
       "prompt_number": 10,
       "text": [
        "<ROOT.TCanvas object (\"LeptonRecoEfficiencyCanvas\") at 0x7fb2d6027770>"
       ]
      }
     ],
     "prompt_number": 10
    },
    {
     "cell_type": "heading",
     "level": 2,
     "metadata": {},
     "source": [
      "Electrons"
     ]
    },
    {
     "cell_type": "code",
     "collapsed": false,
     "input": [
      "directory = inputFile.Get(\"eTrackAnalysis\")\n",
      "tree = directory.Get(\"outputTree\")\n",
      "\n",
      "chosenPdgId = 11\n",
      "# Acceptance cuts (for electrons)\n",
      "ptCutElecLow = 21.\n",
      "etCutElecLow = 25.\n",
      "ptCutElecHigh = 36.\n",
      "etCutElecHigh = 40.\n",
      "\n",
      "leptonEffNumElecLow = TH1F(\"LeptonEffNumElecLow\", \"lepton eff num for lower Et electron\", nBins, 0, 50)\n",
      "leptonEffDenElecLow = TH1F(\"LeptonEffDenomElecLow\", \"lepton eff denom for lower Et electron\", nBins, 0, 50)\n",
      "leptonEffNumElecHigh = TH1F(\"LeptonEffNumElecHigh\", \"lepton eff num for higher Et electron\", nBins, 0, 50)\n",
      "leptonEffDenElecHigh = TH1F(\"LeptonEffDenomElecHigh\", \"lepton eff denom for higher Et electron\", nBins, 0, 50)\n",
      "\n",
      "for event in tree:\n",
      "    # Lower pt electron\n",
      "    computeLeptonEff(event.candidates, leptonEffNumElecLow, leptonEffDenElecLow, \\\n",
      "                     chosenPdgId, signalPdgIds, ptCutElecLow, etCutElecLow, etaCut, LxyCut)\n",
      "    # Higher pt electron\n",
      "    computeLeptonEff(event.candidates, leptonEffNumElecHigh, leptonEffDenElecHigh, \\\n",
      "                     chosenPdgId, signalPdgIds, ptCutElecHigh, etCutElecHigh, etaCut, LxyCut)"
     ],
     "language": "python",
     "metadata": {},
     "outputs": [],
     "prompt_number": 11
    },
    {
     "cell_type": "heading",
     "level": 3,
     "metadata": {},
     "source": [
      "Electrons Lower Pt"
     ]
    },
    {
     "cell_type": "code",
     "collapsed": false,
     "input": [
      "canvas = drawCheck(\"LeptonRecoEfficiencyCheckCanvasElecLow\", leptonEffNumElecLow, leptonEffDenElecLow)\n",
      "canvas"
     ],
     "language": "python",
     "metadata": {},
     "outputs": [
      {
       "metadata": {},
       "output_type": "pyout",
       "png": "[encoded data removed]",
       "prompt_number": 12,
       "text": [
        "<ROOT.TCanvas object (\"LeptonRecoEfficiencyCheckCanvasElecLow\") at 0x7fb2d6096e90>"
       ]
      }
     ],
     "prompt_number": 12
    },
    {
     "cell_type": "code",
     "collapsed": false,
     "input": [
      "canvasAndEffElecLow = drawEff(\"LeptonRecoEfficiencyCanvasElecLow\", leptonEffNumElecLow, leptonEffDenElecLow)\n",
      "canvasAndEffElecLow[0]"
     ],
     "language": "python",
     "metadata": {},
     "outputs": [
      {
       "metadata": {},
       "output_type": "pyout",
       "png": "[encoded data removed]",
       "prompt_number": 13,
       "text": [
        "<ROOT.TCanvas object (\"LeptonRecoEfficiencyCanvasElecLow\") at 0x7fb2d5f14d50>"
       ]
      }
     ],
     "prompt_number": 13
    },
    {
     "cell_type": "heading",
     "level": 3,
     "metadata": {},
     "source": [
      "Electrons Higher Pt"
     ]
    },
    {
     "cell_type": "code",
     "collapsed": false,
     "input": [
      "canvas = drawCheck(\"LeptonRecoEfficiencyCheckCanvasElecHigh\", leptonEffNumElecHigh, leptonEffDenElecHigh)\n",
      "canvas"
     ],
     "language": "python",
     "metadata": {},
     "outputs": [
      {
       "metadata": {},
       "output_type": "pyout",
       "png": "[encoded data removed]",
       "prompt_number": 14,
       "text": [
        "<ROOT.TCanvas object (\"LeptonRecoEfficiencyCheckCanvasElecHigh\") at 0x7fb2d5e73c30>"
       ]
      }
     ],
     "prompt_number": 14
    },
    {
     "cell_type": "code",
     "collapsed": false,
     "input": [
      "canvasAndEffElecHigh = drawEff(\"LeptonRecoEfficiencyCanvasElecHigh\", leptonEffNumElecHigh, leptonEffDenElecHigh)\n",
      "canvasAndEffElecHigh[0]"
     ],
     "language": "python",
     "metadata": {},
     "outputs": [
      {
       "metadata": {},
       "output_type": "pyout",
       "png": "[encoded data removed]",
       "prompt_number": 15,
       "text": [
        "<ROOT.TCanvas object (\"LeptonRecoEfficiencyCanvasElecHigh\") at 0x7fb2d5e730d0>"
       ]
      }
     ],
     "prompt_number": 15
    },
    {
     "cell_type": "heading",
     "level": 2,
     "metadata": {},
     "source": [
      "Overlay of all efficiencies"
     ]
    },
    {
     "cell_type": "code",
     "collapsed": false,
     "input": [
      "leptonEffOverlayCanvas = rootnotes.canvas(\"LeptonEffOverlay\", (800, 800))\n",
      "canvasAndEff[1].Draw()\n",
      "# canvasAndEff[1].GetPaintedGraph().GetXaxis().SetTitle(\"L_{xy} [cm]\")\n",
      "# canvasAndEff[1].GetPaintedGraph().GetYaxis().SetTitle(\"Tracking Efficiency\")\n",
      "canvasAndEff[1].SetTitle(\"myTitle; L_{xy} [cm] ; Tracking Efficiency\"); \n",
      "ROOT.gPad.Update()\n",
      "canvasAndEffElecLow[1].Draw(\"same\")\n",
      "canvasAndEffElecLow[1].SetLineColor(2)\n",
      "canvasAndEffElecHigh[1].Draw(\"same\")\n",
      "canvasAndEffElecHigh[1].SetLineColor(4)\n",
      "legend = TLegend(0.45,0.7,0.85,0.9)\n",
      "legend.AddEntry(canvasAndEff[1], \"Muon Efficiency\", \"l\")\n",
      "legend.AddEntry(canvasAndEffElecLow[1], \"Low E_{T} electron Efficiency\", \"l\")\n",
      "legend.AddEntry(canvasAndEffElecHigh[1], \"High E_{T} electron Efficiency\", \"l\")\n",
      "legend.SetFillColor(0)\n",
      "legend.SetLineColor(0)\n",
      "legend.Draw(\"same\")\n",
      "leptonEffOverlayCanvas\n",
      "# leptonEffOverlayCanvas.SaveAs(\"leptonEffOverlay.pdf\")"
     ],
     "language": "python",
     "metadata": {},
     "outputs": [
      {
       "metadata": {},
       "output_type": "pyout",
       "png": "[encoded data removed]",
       "prompt_number": 16,
       "text": [
        "<ROOT.TCanvas object (\"LeptonEffOverlay\") at 0x7fb2d5d4ae40>"
       ]
      }
     ],
     "prompt_number": 16
    },
    {
     "cell_type": "heading",
     "level": 2,
     "metadata": {},
     "source": [
      "Computing the systematic uncertainty for electrons"
     ]
    },
    {
     "cell_type": "markdown",
     "metadata": {},
     "source": [
      "Definitions:\n",
      "\n",
      "- $\\mu_{syst} = \\frac{\\epsilon_{\\mu}^{Data} - \\epsilon_{\\mu}^{MC}}{\\epsilon_{\\mu}^{MC}}$\n",
      "- $e_{syst} = \\frac{\\epsilon_{e}^{Data} - \\epsilon_{e}^{MC}}{\\epsilon_{e}^{MC}}$\n",
      "\n",
      "**Assumption 1**: The difference between electrons and muons is proportional to the tracker material budget.\n",
      "\n",
      "**Assumption 2**: The systematic on the tracking efficiency does not depend on the efficiency. This means that muon and electron systematics will be the same if material effects are perfectly described in the simulation even though the efficiency values can be different.\n",
      "\n",
      "Note that assumption 2 is likely false. However, if the systematic increases as a function of the efficiency, and because the muon tracking efficiency is generally higher than the one for electrons, this assumption would lead to an overestimate of the systematic for electrons.\n",
      "\n",
      "We define $a$ as the relative difference of the efficiency for electrons and muons:\n",
      "\n",
      "$a = \\frac{\\epsilon_{\\mu} - \\epsilon_{e}}{\\epsilon_{\\mu}}$\n",
      "\n",
      "then\n",
      "\n",
      "$\\epsilon_{e} = \\epsilon_{\\mu}\\cdot(1 - a)$\n",
      "\n",
      "and the relative variation of $a$ between data and MC, which from assumption 1 depends linearly on the material, is\n",
      "\n",
      "$k = \\frac{a^{MC} - a^{Data}}{a^{MC}}$.\n",
      "\n",
      "We can compute $a^{MC}$ from our MC efficiencies and $k$ is constrained by the uncertainty on the material (10%).\n",
      "\n",
      "We want to express the systematic on electrons as a function of the systematic on muons using $k$ and $a^{MC}$.\n",
      "\n",
      "From the definition of systematic we can write\n",
      "\n",
      "$e_{syst} = \\frac{\\epsilon_{e}^{Data} - \\epsilon_{e}^{MC}}{\\epsilon_{e}^{MC}} = \\frac{(1-a^{Data})\\cdot\\epsilon_{\\mu}^{Data} - (1-a^{MC})\\cdot\\epsilon_{\\mu}^{MC}}{(1-a^{MC})\\cdot\\epsilon_{\\mu}^{MC}}$\n",
      "\n",
      "By adding and subtracting $a^{MC}\\cdot\\epsilon_{\\mu}^{Data}$ at the numerator we get\n",
      "\n",
      "$e_{syst} = \\mu_{syst} + \\frac{a^{MC} - a^{Data}}{1 - a^{MC}}\\cdot\\frac{\\epsilon_{\\mu}^{Data}}{\\epsilon_{\\mu}^{MC}}$\n",
      "\n",
      "Using the fact that $\\frac{\\epsilon_{\\mu}^{Data}}{\\epsilon_{\\mu}^{MC}} = \\mu_{syst} + 1$ and that $a^{MC} - a^{Data} = k\\cdot a^{MC}$ we get\n",
      "\n",
      "$e_{syst} = \\mu_{syst} + \\frac{k\\cdot a^{MC}}{1 - a^{MC}}\\cdot(1 + \\mu_{syst})$\n",
      "\n",
      "However, we can assume the material systematic and the rest of the tracking efficiency systematics to be uncorrelated, in which case the expected value of $\\mu_{syst}$ when considering variations due to the material is zero. The expression of the electron systematic due to the material is then\n",
      "\n",
      "$e^{material}_{syst} = \\frac{a^{MC}}{1 - a^{MC}}\\cdot syst_{material}$\n",
      "\n",
      "where we wrote $k$ as $syst_{material}$ for clarity.\n",
      "\n",
      "We compute this systematic below."
     ]
    },
    {
     "cell_type": "markdown",
     "metadata": {},
     "source": [
      "Maximum absolute relative difference between muons and electrons efficiency in MC ($|a^{MC}|$):"
     ]
    },
    {
     "cell_type": "code",
     "collapsed": false,
     "input": [
      "effMaxRelDiff = 0\n",
      "binIndex = 0\n",
      "\n",
      "effRelDiffX = []\n",
      "effRelDiffXErr = []\n",
      "effRelDiffY = []\n",
      "effRelDiffYErr = []\n",
      "\n",
      "for i in range(1, nBins+1):\n",
      "    muEff = canvasAndEff[1].GetEfficiency(i)\n",
      "    # diff = max( abs(muEff - canvasAndEffElecLow[1].GetEfficiency(i)),\n",
      "    #             abs(muEff - canvasAndEffElecHigh[1].GetEfficiency(i)) )/muEff\n",
      "    if abs(muEff - canvasAndEffElecLow[1].GetEfficiency(i)) > abs(muEff - canvasAndEffElecHigh[1].GetEfficiency(i)):\n",
      "        diff = (muEff - canvasAndEffElecLow[1].GetEfficiency(i))/muEff\n",
      "    else:\n",
      "        diff = (muEff - canvasAndEffElecHigh[1].GetEfficiency(i))/muEff\n",
      "\n",
      "    muEffMaxErrTerm = max( canvasAndEff[1].GetEfficiencyErrorLow(i),\n",
      "                           canvasAndEff[1].GetEfficiencyErrorUp(i) )/muEff\n",
      "    if abs(muEff - canvasAndEffElecLow[1].GetEfficiency(i)) > abs(muEff - canvasAndEffElecHigh[1].GetEfficiency(i)):\n",
      "        eMaxErrTerm = max( canvasAndEffElecLow[1].GetEfficiencyErrorLow(i),\n",
      "                           canvasAndEffElecLow[1].GetEfficiencyErrorUp(i) )/canvasAndEffElecLow[1].GetEfficiency(i)\n",
      "    else:\n",
      "        eMaxErrTerm = max( canvasAndEffElecHigh[1].GetEfficiencyErrorLow(i),\n",
      "                           canvasAndEffElecHigh[1].GetEfficiencyErrorUp(i) )/canvasAndEffElecHigh[1].GetEfficiency(i)\n",
      "    diffErr = abs(diff*ROOT.Math.sqrt(eMaxErrTerm**2 + muEffMaxErrTerm**2))\n",
      "    # print \"error[\"+str(i)+\"] =\", diffErr\n",
      "    \n",
      "    effRelDiffX.append(2*i-1)\n",
      "    effRelDiffXErr.append(1)\n",
      "    effRelDiffY.append(diff)\n",
      "    effRelDiffYErr.append(diffErr)\n",
      "\n",
      "    if diff > effMaxRelDiff:\n",
      "        effMaxRelDiff = diff\n",
      "        binIndex = i\n",
      "\n",
      "print effMaxRelDiff\n",
      "print binIndex"
     ],
     "language": "python",
     "metadata": {},
     "outputs": [
      {
       "output_type": "stream",
       "stream": "stdout",
       "text": [
        "0.396938162898\n",
        "25\n"
       ]
      }
     ],
     "prompt_number": 17
    },
    {
     "cell_type": "markdown",
     "metadata": {},
     "source": [
      "Plot of $a^{MC}$ as a function of Lxy. The error is estimated from the error propagation on the efficiencies.\n",
      "By writing $a^{MC} = 1-\\epsilon_{e}/\\epsilon_{\\mu}$ we can compute the error as $\\sigma_{a^{MC}} = a^{MC}\\cdot\\sqrt{(\\frac{\\sigma_{\\epsilon_{e}}}{\\epsilon_{e}})^2 + (\\frac{\\sigma_{\\epsilon_{\\mu}}}{\\epsilon_{\\mu}})^2}$."
     ]
    },
    {
     "cell_type": "code",
     "collapsed": false,
     "input": [
      "from array import array\n",
      "import math\n",
      "effRelDiffCanvas = rootnotes.canvas(\"EffRelDiffCanvas\", (600,600))\n",
      "effRelDiffGraph = ROOT.TGraphErrors(nBins, array('d', effRelDiffX), array('d', effRelDiffY),\n",
      "                                    array('d', effRelDiffXErr), array('d', effRelDiffYErr))\n",
      "effRelDiffGraph.Draw(\"AP\")\n",
      "effRelDiffGraph.GetXaxis().SetTitle(\"Lxy [cm]\")\n",
      "effRelDiffGraph.GetYaxis().SetTitle(\"#alpha^{MC}\")\n",
      "effRelDiffCanvas\n",
      "# effRelDiffCanvas.SaveAs(\"aMCvsLxy.pdf\")"
     ],
     "language": "python",
     "metadata": {},
     "outputs": [
      {
       "metadata": {},
       "output_type": "pyout",
       "png": "[encoded data removed]",
       "prompt_number": 18,
       "text": [
        "<ROOT.TCanvas object (\"EffRelDiffCanvas\") at 0x7fb2d5d45b50>"
       ]
      }
     ],
     "prompt_number": 18
    },
    {
     "cell_type": "markdown",
     "metadata": {},
     "source": [
      "To avoid overestimating excessively the systematic we compute a weighted average of the $\\alpha^{MC}$ using the Lxy distribution of the signal sample.\n",
      "By doing this we avoid being dominated by $\\alpha^{MC}$ at high Lxy values where there is the least amount of the statistics."
     ]
    },
    {
     "cell_type": "code",
     "collapsed": false,
     "input": [
      "def computeEffMaxRelDiff(decayLength, canvasAndEff, canvasAndEffElecLow, canvasAndEffElecHigh):\n",
      "    index = canvasAndEff[1].FindFixBin(decayLength)\n",
      "    # print decayLength, index\n",
      "    muEff = canvasAndEff[1].GetEfficiency(index)\n",
      "    return muEff, canvasAndEffElecLow[1].GetEfficiency(index), canvasAndEffElecHigh[1].GetEfficiency(index),\\\n",
      "           max( abs(muEff - canvasAndEffElecLow[1].GetEfficiency(index))/muEff, \\\n",
      "                abs(muEff - canvasAndEffElecHigh[1].GetEfficiency(index))/muEff )"
     ],
     "language": "python",
     "metadata": {},
     "outputs": [],
     "prompt_number": 19
    },
    {
     "cell_type": "code",
     "collapsed": false,
     "input": [
      "totalDiff = 0\n",
      "totalMuEff = 0\n",
      "totalELowEff = 0\n",
      "totalEHighEff = 0\n",
      "totalNum = 0\n",
      "\n",
      "for event in tree:\n",
      "    if not isSelectedSignal(event.candidates, signalPdgIds):\n",
      "        continue\n",
      "        \n",
      "        \n",
      "\n",
      "    if abs(event.candidates.ll1_daughter1_PdgId) == chosenPdgId and event.candidates.ll1_decayLength2D < LxyCut:\n",
      "        if event.candidates.ll1_daughter1_Pt > etCut and abs(event.candidates.ll1_daughter1_Eta) < etaCut:\n",
      "            muEff, eLowEff, eHighEff, diff =  computeEffMaxRelDiff(event.candidates.ll1_decayLength2D,\\\n",
      "                                                                   canvasAndEff, canvasAndEffElecLow,\\\n",
      "                                                                   canvasAndEffElecHigh)\n",
      "            totalMuEff += muEff\n",
      "            totalELowEff += eLowEff\n",
      "            totalEHighEff += eHighEff\n",
      "            totalDiff += diff\n",
      "            totalNum += 1\n",
      "        if event.candidates.ll1_daughter2_Pt > etCut and abs(event.candidates.ll1_daughter2_Eta) < etaCut:\n",
      "            muEff, eLowEff, eHighEff, diff =  computeEffMaxRelDiff(event.candidates.ll1_decayLength2D,\\\n",
      "                                                                   canvasAndEff, canvasAndEffElecLow,\\\n",
      "                                                                   canvasAndEffElecHigh)\n",
      "            totalMuEff += muEff\n",
      "            totalELowEff += eLowEff\n",
      "            totalEHighEff += eHighEff\n",
      "            totalDiff += diff\n",
      "            totalNum += 1\n",
      "\n",
      "    if abs(event.candidates.ll2_daughter1_PdgId) == chosenPdgId and event.candidates.ll2_decayLength2D < LxyCut:\n",
      "        if event.candidates.ll2_daughter1_Pt > etCut and abs(event.candidates.ll2_daughter1_Eta) < etaCut:\n",
      "            muEff, eLowEff, eHighEff, diff =  computeEffMaxRelDiff(event.candidates.ll2_decayLength2D,\\\n",
      "                                                                   canvasAndEff, canvasAndEffElecLow,\\\n",
      "                                                                   canvasAndEffElecHigh)\n",
      "            totalMuEff += muEff\n",
      "            totalELowEff += eLowEff\n",
      "            totalEHighEff += eHighEff\n",
      "            totalDiff += diff\n",
      "            totalNum += 1\n",
      "        if event.candidates.ll2_daughter2_Pt > etCut and abs(event.candidates.ll2_daughter2_Eta) < etaCut:\n",
      "            muEff, eLowEff, eHighEff, diff =  computeEffMaxRelDiff(event.candidates.ll2_decayLength2D,\\\n",
      "                                                                   canvasAndEff, canvasAndEffElecLow,\\\n",
      "                                                                   canvasAndEffElecHigh)\n",
      "            totalMuEff += muEff\n",
      "            totalELowEff += eLowEff\n",
      "            totalEHighEff += eHighEff\n",
      "            totalDiff += diff\n",
      "            totalNum += 1\n"
     ],
     "language": "python",
     "metadata": {},
     "outputs": [],
     "prompt_number": 20
    },
    {
     "cell_type": "code",
     "collapsed": false,
     "input": [
      "effMaxRelDiff = totalDiff/totalNum\n",
      "print \"average relative tracking efficiency variation =\", effMaxRelDiff\n",
      "averageMuEff = totalMuEff/totalNum\n",
      "print \"average muon tracking efficiency =\", averageMuEff\n",
      "averageELowEff = totalELowEff/totalNum\n",
      "print \"average lower pT electron tracking efficiency =\", averageELowEff\n",
      "averageEHighEff = totalEHighEff/totalNum\n",
      "print \"average higher pT electron tracking efficiency =\", averageEHighEff"
     ],
     "language": "python",
     "metadata": {},
     "outputs": [
      {
       "output_type": "stream",
       "stream": "stdout",
       "text": [
        "average relative tracking efficiency variation = 0.233743739027\n",
        "average muon tracking efficiency = 0.612046904208\n",
        "average lower pT electron tracking efficiency = 0.492144657378\n",
        "average higher pT electron tracking efficiency = 0.468878801137\n"
       ]
      }
     ],
     "prompt_number": 21
    },
    {
     "cell_type": "markdown",
     "metadata": {},
     "source": [
      "From which we can derive the electron systematic as a function of $\\mu_{syst}$, $a^{MC}$ and $k$.\n",
      "Note that we compare to the single muon systematic and double the final result to obtain the double electron systematic to compare with the doublemuon systematic.\n",
      "We use the numbers from the paper:\n",
      "\n",
      "- 6.1% from cosmics -> 0.061/2\n",
      "- 9.8% from track embedding -> 0.098/2"
     ]
    },
    {
     "cell_type": "code",
     "collapsed": false,
     "input": [
      "#Divide the dimuon systematic by half. They were doubled to get the dimuon in the AN\n",
      "muSyst = ROOT.Math.sqrt((0.061/2)**2 + (0.098/2)**2)\n",
      "print \"dimuon syst =\", 2*muSyst\n",
      "k = 0.1\n",
      "materialTerm = k*effMaxRelDiff/(1-effMaxRelDiff)\n",
      "# eSyst = muSyst + materialTerm*(1+muSyst)\n",
      "# print \"dielectron syst =\", 2*eSyst"
     ],
     "language": "python",
     "metadata": {},
     "outputs": [
      {
       "output_type": "stream",
       "stream": "stdout",
       "text": [
        "dimuon syst = 0.115433963806\n"
       ]
      }
     ],
     "prompt_number": 22
    },
    {
     "cell_type": "markdown",
     "metadata": {},
     "source": [
      "The dielectron systematic is ~6% bigger than the dimuon systematic."
     ]
    },
    {
     "cell_type": "code",
     "collapsed": false,
     "input": [
      "# print muSyst*averageMuEff\n",
      "# print eSyst*averageEHighEff\n",
      "# print eSyst*averageELowEff\n",
      "print \"electron systematic due to material systematic =\", materialTerm"
     ],
     "language": "python",
     "metadata": {},
     "outputs": [
      {
       "output_type": "stream",
       "stream": "stdout",
       "text": [
        "electron systematic due to material systematic = 0.0305046432809\n"
       ]
      }
     ],
     "prompt_number": 23
    },
    {
     "cell_type": "markdown",
     "metadata": {},
     "source": [
      "To get an estimate of the total electron systematic we take the sum in quadrature of the two terms of the electron systematic equation:\n",
      "\n",
      "$e_{syst} = \\sqrt{\\mu_{syst}^2 + \\mbox{material}_{syst}^2}$\n",
      "\n",
      "where material$_{syst} = \\frac{k\\cdot a^{MC}}{1 - a^{MC}}$. The result is (note that these are single muon and single electron systematics):"
     ]
    },
    {
     "cell_type": "code",
     "collapsed": false,
     "input": [
      "print \"mu_syst =\", muSyst\n",
      "e_syst = ROOT.Math.sqrt(muSyst**2+(materialTerm)**2)\n",
      "print \"e_syst =\", e_syst"
     ],
     "language": "python",
     "metadata": {},
     "outputs": [
      {
       "output_type": "stream",
       "stream": "stdout",
       "text": [
        "mu_syst = 0.0577169819031\n",
        "e_syst = 0.0652823349896\n"
       ]
      }
     ],
     "prompt_number": 24
    },
    {
     "cell_type": "markdown",
     "metadata": {},
     "source": [
      "And the resulting di-electron systematic is twice as big:"
     ]
    },
    {
     "cell_type": "code",
     "collapsed": false,
     "input": [
      "print \"di-electron systematic =\", 2*e_syst"
     ],
     "language": "python",
     "metadata": {},
     "outputs": [
      {
       "output_type": "stream",
       "stream": "stdout",
       "text": [
        "di-electron systematic = 0.130564669979\n"
       ]
      }
     ],
     "prompt_number": 25
    },
    {
     "cell_type": "heading",
     "level": 2,
     "metadata": {},
     "source": [
      "Conclusions"
     ]
    },
    {
     "cell_type": "markdown",
     "metadata": {},
     "source": [
      "The 10% uncertainty on the material can be related to an uncertainty on the relative difference between $a^{MC}$ and $a^{Data}$.\n",
      "The variation $k$ is relative to $a^{MC}$. Also, $a^{MC}$ describes a variation relative to the **muon** efficiency.\n",
      "\n",
      "In the case of perfect material description ($k=0$) the systematic for muons and electrons will be the same.\n",
      "\n",
      "If $k =$ 10% the electron systematic on tracking efficiency is given by\n",
      "\n",
      "$e_{syst} = \\sqrt{\\mu_{syst}^2 + (\\frac{k\\cdot a^{MC}}{1 - a^{MC}})^2}$\n",
      "\n",
      "and the resulting dielectron systematic is 13%, an absolute 1.5% bigger than the corresponding dimuon systematic.\n",
      "\n",
      "If the muon systematic is zero the electron systematic from material description is $\\frac{k\\cdot a^{MC}}{1 - a^{MC}} = $ 3%."
     ]
    },
    {
     "cell_type": "code",
     "collapsed": false,
     "input": [
      "ROOT.Math.sqrt(0.1**2 + (materialTerm*(1+0.1))**2)"
     ],
     "language": "python",
     "metadata": {},
     "outputs": [
      {
       "metadata": {},
       "output_type": "pyout",
       "prompt_number": 26,
       "text": [
        "0.10547959635231552"
       ]
      }
     ],
     "prompt_number": 26
    },
    {
     "cell_type": "code",
     "collapsed": false,
     "input": [
      "ROOT.Math.sqrt(0.02**2 + 0.061**2 + 0.098**2 + 0.062**2 + (materialTerm*(1+0.1))**2)"
     ],
     "language": "python",
     "metadata": {},
     "outputs": [
      {
       "metadata": {},
       "output_type": "pyout",
       "prompt_number": 27,
       "text": [
        "0.1367294600539599"
       ]
      }
     ],
     "prompt_number": 27
    },
    {
     "cell_type": "code",
     "collapsed": false,
     "input": [
      "ROOT.Math.sqrt(0.02**2 + 0.061**2 + 0.098**2 + 0.062**2)"
     ],
     "language": "python",
     "metadata": {},
     "outputs": [
      {
       "metadata": {},
       "output_type": "pyout",
       "prompt_number": 28,
       "text": [
        "0.1325481044753187"
       ]
      }
     ],
     "prompt_number": 28
    },
    {
     "cell_type": "markdown",
     "metadata": {},
     "source": [
      "$\\epsilon_{e} = \\epsilon_{\\mu}\\cdot(1-a)$\n",
      "\n",
      "$\\rightarrow \\delta(\\epsilon_{e}) = -\\epsilon_{\\mu} \\cdot \\delta(a)$\n",
      "\n",
      "which since: $\\delta(a)/a = \\delta(k)/k$ means:\n",
      "\n",
      "$syst(\\epsilon_{e}) = \\epsilon_{\\mu} \\cdot syst(a) = \\epsilon_{\\mu} \\cdot a \\cdot [syst(k) / k]\n",
      "\\rightarrow syst(\\epsilon_{e}) / \\epsilon_{e} = [a/(1-a)] \\cdot 0.1$"
     ]
    },
    {
     "cell_type": "code",
     "collapsed": false,
     "input": [
      "leptonTip = TH1F(\"LeptonTip\", \"lepton tip\", 100, -50, 50)\n",
      "leptonLip = TH1F(\"LeptonLip\", \"lepton lip\", 100, -50, 50)\n",
      "leptonHasPhotonMatch = TH1F(\"HasPhotonMatch\", \"has photon match\", 2, 0, 2)"
     ],
     "language": "python",
     "metadata": {},
     "outputs": [],
     "prompt_number": 29
    },
    {
     "cell_type": "code",
     "collapsed": false,
     "input": [
      "for event in tree:\n",
      "    # Lower pt electron\n",
      "    for lepton in event.candidates.leptons_:\n",
      "        leptonTip.Fill(lepton.tip)\n",
      "        leptonLip.Fill(lepton.lip)\n",
      "        leptonHasPhotonMatch.Fill(lepton.hasPhotonMatch)"
     ],
     "language": "python",
     "metadata": {},
     "outputs": [],
     "prompt_number": 30
    },
    {
     "cell_type": "code",
     "collapsed": false,
     "input": [
      "leptonTipLipCanvas = rootnotes.canvas(\"TipLip\", (800, 400))\n",
      "leptonTipLipCanvas.Divide(2,2)\n",
      "leptonTipLipCanvas.cd(1)\n",
      "leptonTip.Draw()\n",
      "leptonTipLipCanvas.cd(2)\n",
      "leptonLip.Draw()\n",
      "leptonTipLipCanvas.cd(3)\n",
      "leptonHasPhotonMatch.Draw()\n",
      "leptonTipLipCanvas"
     ],
     "language": "python",
     "metadata": {},
     "outputs": [
      {
       "metadata": {},
       "output_type": "pyout",
       "png": "[encoded data removed]",
       "prompt_number": 31,
       "text": [
        "<ROOT.TCanvas object (\"TipLip\") at 0x7fb2d5e81c60>"
       ]
      }
     ],
     "prompt_number": 31
    },
    {
     "cell_type": "code",
     "collapsed": false,
     "input": [
      "oldInputFile = ROOT.TFile(\"/Users/demattia/histograms.root\", \"READ\")\n",
      "oldDirectory = oldInputFile.Get(\"eTrackAnalysis\")\n",
      "oldTree = oldDirectory.Get(\"outputTree\")\n",
      "oldLeptonHasPhotonMatch = TH1F(\"OldLeptonHasPhotonMatch\", \"old has photon match\", 2, 0, 2)"
     ],
     "language": "python",
     "metadata": {},
     "outputs": [],
     "prompt_number": 32
    },
    {
     "cell_type": "code",
     "collapsed": false,
     "input": [
      "for event in oldTree:\n",
      "    # Lower pt electron\n",
      "    for lepton in event.candidates.leptons_:\n",
      "        oldLeptonHasPhotonMatch.Fill(lepton.hasPhotonMatch)"
     ],
     "language": "python",
     "metadata": {},
     "outputs": [],
     "prompt_number": 33
    },
    {
     "cell_type": "code",
     "collapsed": false,
     "input": [
      "oldLeptonHasPhotomMatchCanvas = rootnotes.canvas(\"OldHasPhotonMatchCanvas\", (800, 400))\n",
      "oldLeptonHasPhotonMatch.Draw()\n",
      "oldLeptonHasPhotomMatchCanvas"
     ],
     "language": "python",
     "metadata": {},
     "outputs": [
      {
       "metadata": {},
       "output_type": "pyout",
       "png": "[encoded data removed]",
       "prompt_number": 34,
       "text": [
        "<ROOT.TCanvas object (\"OldHasPhotonMatchCanvas\") at 0x7fb2d5e76870>"
       ]
      }
     ],
     "prompt_number": 34
    },
    {
     "cell_type": "code",
     "collapsed": false,
     "input": [],
     "language": "python",
     "metadata": {},
     "outputs": [],
     "prompt_number": 34
    }
   ],
   "metadata": {}
  }
 ]
}