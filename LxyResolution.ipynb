{
 "metadata": {
  "name": "",
  "signature": "sha256:2596a988b448e1b44e5c4d6df1151510ed060e0f1d071deb3c2568aebd824cc2"
 },
 "nbformat": 3,
 "nbformat_minor": 0,
 "worksheets": [
  {
   "cells": [
    {
     "cell_type": "code",
     "collapsed": false,
     "input": [
      "import ROOT\n",
      "from ROOT import TCanvas\n",
      "import rootprint\n",
      "import rootnotes\n",
      "from array import array"
     ],
     "language": "python",
     "metadata": {},
     "outputs": [],
     "prompt_number": 1
    },
    {
     "cell_type": "code",
     "collapsed": false,
     "input": [
      "ROOT.gStyle.SetOptStat(0000000)"
     ],
     "language": "python",
     "metadata": {},
     "outputs": [],
     "prompt_number": 2
    },
    {
     "cell_type": "code",
     "collapsed": false,
     "input": [
      "inputFile = ROOT.TFile(\"/home/demattia/cmslpc/uscms_data/d3/demattia/DisplacedLeptons/RefittedStandAloneMuons/Analysis/CMSSW_5_3_8/src/AnalysisMacros/Latest_Version_Code_June_19/WeightedFiles/HTo2LongLivedTo4F_MH400_MFF50_CTau8To800_analysis_20140602_weighted_2saMu.root\")\n",
      "\n",
      "# inputFile = ROOT.TFile(\"/home/demattia/cmslpc/uscms_data/d3/demattia/DisplacedLeptons/RefittedStandAloneMuons/Analysis/CMSSW_5_3_8/src/AnalysisMacros/Latest_Version_Code_June_19/WeightedFiles_NoTrigger/HTo2LongLivedTo4F_MH400_MFF50_CTau8To800_analysis_20140602_weighted_2saMu.root\")\n",
      "\n",
      "# inputFile = ROOT.TFile(\"/home/demattia/cmslpc/uscms_data/d3/demattia/DisplacedLeptons/RefittedStandAloneMuons/Analysis/CMSSW_5_3_8/src/AnalysisMacros/Latest_Version_Code_June_19/WeightedFiles_Trigger/HTo2LongLivedTo4F_MH400_MFF50_CTau8To800_analysis_20140602_weighted_2saMu.root\")\n",
      "\n"
     ],
     "language": "python",
     "metadata": {},
     "outputs": [],
     "prompt_number": 3
    },
    {
     "cell_type": "heading",
     "level": 1,
     "metadata": {},
     "source": [
      "Data"
     ]
    },
    {
     "cell_type": "markdown",
     "metadata": {},
     "source": [
      "We run over the cosmic data analysis trees and check when given two good back to back RSA we can reconstruct a SV."
     ]
    },
    {
     "cell_type": "code",
     "collapsed": false,
     "input": [
      "from RefittedStandAloneMuons import *\n",
      "from ProgressBar import ProgressBar"
     ],
     "language": "python",
     "metadata": {},
     "outputs": [],
     "prompt_number": 3
    },
    {
     "cell_type": "code",
     "collapsed": false,
     "input": [
      "ROOT.gROOT.LoadMacro(\"interfaceRefittedStandAloneMuons/Loader.C+\")"
     ],
     "language": "python",
     "metadata": {},
     "outputs": [
      {
       "metadata": {},
       "output_type": "pyout",
       "prompt_number": 4,
       "text": [
        "0"
       ]
      }
     ],
     "prompt_number": 4
    },
    {
     "cell_type": "code",
     "collapsed": false,
     "input": [
      "inputData = ROOT.TFile(\"/home/demattia/cmslpc/eos/uscms/store/user/lpcdve/noreplica/DisplacedLeptons/Trees/DYJets50_analysis_20140601/histograms.root\", \"READ\")\n",
      "\n"
     ],
     "language": "python",
     "metadata": {},
     "outputs": [
      {
       "output_type": "stream",
       "stream": "stderr",
       "text": [
        "TStreamerInfo::BuildCheck:0: RuntimeWarning: \n",
        "   The StreamerInfo of class TreeDipseudoLeptonCandidate read from file /home/demattia/cmslpc/eos/uscms/store/user/lpcdve/noreplica/DisplacedLeptons/Trees/DYJets50_analysis_20140601/histograms.root\n",
        "   has the same version (=1) as the active class but a different checksum.\n",
        "   You should update the version to ClassDef(TreeDipseudoLeptonCandidate,2).\n",
        "   Do not try to write objects with the current class definition,\n",
        "   the files will not be readable.\n",
        "\n",
        "TStreamerInfo::CompareContent:0: RuntimeWarning: The following data member of\n",
        "the on-file layout version 1 of class 'TreeDipseudoLeptonCandidate' differs from \n",
        "the in-memory layout version 1:\n",
        "   vector<pair<Int_t,Float_t> > tkMatches; //\n",
        "vs\n",
        "   vector<pair<int,float> > tkMatches; //\n"
       ]
      }
     ],
     "prompt_number": 5
    },
    {
     "cell_type": "heading",
     "level": 3,
     "metadata": {},
     "source": [
      "Resolution with Tracker Tracks"
     ]
    },
    {
     "cell_type": "code",
     "collapsed": false,
     "input": [
      "directory = inputData.Get(\"muTrackAnalysis\")\n",
      "tree = directory.Get(\"outputTree\")\n",
      "\n",
      "cosmicVsD0 = ROOT.TH1F(\"cosmicVsD0\", \"cosmicVsD0\", 100, 0, 0.01)\n",
      "cosmicVsD0Vertex = ROOT.TH1F(\"cosmicVsD0Vertex\", \"cosmicVsD0Vertex\", 100, 0, 0.01)\n",
      "cosmicVsLxyVertex = ROOT.TH1F(\"cosmicVsLxyVertex\", \"cosmicVsLxyVertex\", 100, 0, 0.01)\n",
      "cosmicVsVx = ROOT.TH1F(\"cosmicVsVx\", \"cosmicVsVx\", 100, 0, 0.01)\n",
      "cosmicVsVy = ROOT.TH1F(\"cosmicVsVy\", \"cosmicVsVy\", 100, 0, 0.01)\n",
      "\n",
      "p = ProgressBar(tree.GetEntries())\n",
      "\n",
      "num = 0\n",
      "for event in tree:\n",
      "    if num%(event.GetEntries()/100) == 0:\n",
      "        p.animate(num)\n",
      "    \n",
      "    num += 1\n",
      "    \n",
      "    for cand in event.candidates.candidates_:\n",
      "        # print cand.cosine\n",
      "        # if cand.cosine < -0.99 and cand.leptonPtL > 26. and cand.leptonPtH > 26. and \\\n",
      "        # abs(cand.leptonEtaL) < 2. and abs(cand.leptonEtaH) < 2.:\n",
      "        leptonL = get_lepton(event.candidates.leptons_, cand.leptonIndexL)\n",
      "        leptonH = get_lepton(event.candidates.leptons_, cand.leptonIndexH)\n",
      "        # if not leptonL.isStandAloneMuon or not leptonH.isStandAloneMuon:\n",
      "        if not leptonL.isCentralTrack or not leptonH.isCentralTrack:\n",
      "            continue\n",
      "            # if not(leptonL.dtStationsWithValidHits+leptonL.cscStationsWithValidHits >= 2 and \\\n",
      "            # leptonH.dtStationsWithValidHits+leptonH.cscStationsWithValidHits >= 2):\n",
      "            #     continue\n",
      "            # print \"found\"\n",
      "        if cand.validVertex == True:\n",
      "            cosmicVsD0Vertex.Fill(cand.decayLength_PV/cand.decayLengthSignificance_PV)\n",
      "            cosmicVsLxyVertex.Fill(cand.decayLength_PV)\n",
      "            # print \"found and valid vertex\"\n",
      "            pass\n",
      "        # else:\n",
      "            # print \"found, but no valid vertex\"\n",
      "    if num > 10000:\n",
      "        break\n",
      "    pass"
     ],
     "language": "python",
     "metadata": {},
     "outputs": [
      {
       "output_type": "stream",
       "stream": "stdout",
       "text": [
        "\r",
        " [                       0%                       ]"
       ]
      },
      {
       "output_type": "stream",
       "stream": "stderr",
       "text": [
        "TFile::Append:0: RuntimeWarning: Replacing existing TH1: cosmicVsD0 (Potential memory leak).\n",
        "TFile::Append:0: RuntimeWarning: Replacing existing TH1: cosmicVsD0Vertex (Potential memory leak).\n",
        "TFile::Append:0: RuntimeWarning: Replacing existing TH1: cosmicVsLxyVertex (Potential memory leak).\n"
       ]
      }
     ],
     "prompt_number": 41
    },
    {
     "cell_type": "code",
     "collapsed": false,
     "input": [
      "cEffData = ROOT.TCanvas()\n",
      "#cosmicVsD0.Draw()\n",
      "cosmicVsD0Vertex.Draw()\n",
      "#cosmicVsD0Vertex.SetLineColor(2)\n",
      "# cosmicVsLxyVertex.Draw()\n",
      "# cosmicVsLxyVertex.Fit(\"gaus\", \"\", \"\", 0.001, 0.01)\n",
      "#cosmicVsLxyVertex.SetLineColor(3)\n",
      "cEffData"
     ],
     "language": "python",
     "metadata": {},
     "outputs": [
      {
       "metadata": {},
       "output_type": "pyout",
       "png": "[encoded data removed]",
       "prompt_number": 42,
       "text": [
        "<ROOT.TCanvas object (\"c1_n21\") at 0x4904d20>"
       ]
      }
     ],
     "prompt_number": 42
    },
    {
     "cell_type": "heading",
     "level": 3,
     "metadata": {},
     "source": [
      "Resolution with RefittedStandAloneMuons"
     ]
    },
    {
     "cell_type": "markdown",
     "metadata": {},
     "source": [
      "Compute Lxy resolution by looking at the x and y coordinates separately."
     ]
    },
    {
     "cell_type": "code",
     "collapsed": false,
     "input": [
      "directory = inputData.Get(\"muTrackAnalysis\")\n",
      "tree = directory.Get(\"outputTree\")\n",
      "\n",
      "cosmicVsD0 = ROOT.TH1F(\"cosmicVsD0\", \"cosmicVsD0\", 100, 0, 20)\n",
      "cosmicVsD0Vertex = ROOT.TH1F(\"cosmicVsD0Vertex\", \"cosmicVsD0Vertex\", 100, 0, 20)\n",
      "cosmicVsLxyVertex = ROOT.TH1F(\"cosmicVsLxyVertex\", \"cosmicVsLxyVertex\", 100, 0, 20)\n",
      "cosmicVsVx = ROOT.TH1F(\"cosmicVsVx\", \"cosmicVsVx\", 100, -10, 10)\n",
      "cosmicVsVy = ROOT.TH1F(\"cosmicVsVy\", \"cosmicVsVy\", 100, -10, 10)\n",
      "\n",
      "p = ProgressBar(tree.GetEntries())\n",
      "\n",
      "num = 0\n",
      "for event in tree:\n",
      "    if num%(event.GetEntries()/100) == 0:\n",
      "        p.animate(num)\n",
      "    \n",
      "    num += 1\n",
      "    \n",
      "    for cand in event.candidates.candidates_:\n",
      "        # print cand.cosine\n",
      "        if not(cand.cosine > -0.75 and cand.leptonPtL > 26. and cand.leptonPtH > 26. and \\\n",
      "        abs(cand.leptonEtaL) < 2. and abs(cand.leptonEtaH) < 2.):\n",
      "            continue\n",
      "        leptonL = get_lepton(event.candidates.leptons_, cand.leptonIndexL)\n",
      "        leptonH = get_lepton(event.candidates.leptons_, cand.leptonIndexH)\n",
      "        if not leptonL.isStandAloneMuon or not leptonH.isStandAloneMuon:\n",
      "        # if not leptonL.isCentralTrack or not leptonH.isCentralTrack:\n",
      "            continue\n",
      "        # if not(leptonL.dtStationsWithValidHits+leptonL.cscStationsWithValidHits >= 2 and \\\n",
      "        # leptonH.dtStationsWithValidHits+leptonH.cscStationsWithValidHits >= 2):\n",
      "        #     continue\n",
      "            # print \"found\"\n",
      "        if cand.validVertex == True:\n",
      "            LxyError = cand.decayLength_PV/cand.decayLengthSignificance_PV\n",
      "            cosmicVsD0Vertex.Fill(leptonH.d0_PV)\n",
      "            cosmicVsLxyVertex.Fill(cand.decayLength_PV)\n",
      "            cosmicVsVx.Fill(event.candidates.pv_x - cand.vx)\n",
      "            cosmicVsVy.Fill(event.candidates.pv_y - cand.vy)\n",
      "            # print \"found and valid vertex\"\n",
      "            pass\n",
      "        # else:\n",
      "            # print \"found, but no valid vertex\"\n",
      "    if num > 30000:\n",
      "        break\n",
      "    pass"
     ],
     "language": "python",
     "metadata": {},
     "outputs": [
      {
       "output_type": "stream",
       "stream": "stdout",
       "text": [
        "\r",
        " [                       0%                       ]"
       ]
      },
      {
       "output_type": "stream",
       "stream": "stdout",
       "text": [
        "\r",
        " [                       0%                       ]  1 of 1904679 complete"
       ]
      }
     ],
     "prompt_number": 6
    },
    {
     "cell_type": "code",
     "collapsed": false,
     "input": [
      "cEffData = ROOT.TCanvas(\"\", \"\", 800, 400)\n",
      "cEffData.Divide(2,1)\n",
      "#cosmicVsD0.Draw()\n",
      "# cEffData.cd(1)\n",
      "# cosmicVsD0Vertex.Draw()\n",
      "cEffData.cd(1)\n",
      "cosmicVsLxyVertex.Draw()\n",
      "cosmicVsLxyVertex.SetTitle(\"\")\n",
      "cosmicVsLxyVertex.GetYaxis().SetTitle(\"Entries\")\n",
      "cosmicVsLxyVertex.GetYaxis().SetTitleOffset(1.5)\n",
      "cosmicVsLxyVertex.GetXaxis().SetTitle(\"Lxy [cm]\")\n",
      "# cosmicVsLxyVertex.Fit(\"gaus\", \"\", \"\", 2, 6)\n",
      "cEffData.cd(2)\n",
      "cosmicVsVx.Draw()\n",
      "cosmicVsVx.SetTitle(\"\")\n",
      "cosmicVsVx.GetYaxis().SetTitle(\"Entries\")\n",
      "cosmicVsVx.GetYaxis().SetTitleOffset(1.5)\n",
      "cosmicVsVx.GetXaxis().SetTitle(\"Vertex distance [cm]\")\n",
      "cosmicVsVx.Fit(\"gaus\")\n",
      "cosmicVsVy.Draw(\"same\")\n",
      "\n",
      "leg = ROOT.TLegend(0.6,0.7,0.85,0.89)\n",
      "leg.SetBorderSize(0)\n",
      "leg.AddEntry(cosmicVsVx,\"x_{PV} - x_{SV}\",\"l\")\n",
      "leg.AddEntry(cosmicVsVy,\"y_{PV} - y_{SV}\",\"l\")\n",
      "leg.Draw()\n",
      "\n",
      "cosmicVsVy.SetLineColor(2)\n",
      "#cosmicVsLxyVertex.SetLineColor(3)\n",
      "cEffData"
     ],
     "language": "python",
     "metadata": {},
     "outputs": [
      {
       "output_type": "stream",
       "stream": "stderr",
       "text": [
        "TCanvas::Constructor:0: RuntimeWarning: Deleting canvas with same name: \n"
       ]
      },
      {
       "metadata": {},
       "output_type": "pyout",
       "png": "[encoded data removed]",
       "prompt_number": 10,
       "text": [
        "<ROOT.TCanvas object at 0x45dcdc0>"
       ]
      }
     ],
     "prompt_number": 10
    },
    {
     "cell_type": "code",
     "collapsed": false,
     "input": [],
     "language": "python",
     "metadata": {},
     "outputs": []
    }
   ],
   "metadata": {}
  }
 ]
}