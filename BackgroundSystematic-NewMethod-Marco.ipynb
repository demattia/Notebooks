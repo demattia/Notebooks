{
 "metadata": {
  "name": "",
  "signature": "sha256:8d52ca60f61e7a0778e3e0cdf480d5cf1572302bfa025bf046700220263d5761"
 },
 "nbformat": 3,
 "nbformat_minor": 0,
 "worksheets": [
  {
   "cells": [
    {
     "cell_type": "code",
     "collapsed": false,
     "input": [
      "from math import sqrt, exp\n",
      "import ROOT\n",
      "from ROOT import TFile, TDirectory, TH1F, TCanvas, TLegend, TLine, TText, TPad, TF1, TGraph, TGraphErrors\n",
      "import rootnotes\n",
      "import rootprint\n",
      "ROOT.gStyle.SetErrorX(0) #To remove horizontal bars...\n",
      "#gStyle.SetTitleYSize(0.02)"
     ],
     "language": "python",
     "metadata": {},
     "outputs": [],
     "prompt_number": 1
    },
    {
     "cell_type": "heading",
     "level": 1,
     "metadata": {},
     "source": [
      "Background"
     ]
    },
    {
     "cell_type": "markdown",
     "metadata": {},
     "source": [
      "We have 2D d0Sig vs. LxySig plots for both control region of data. We sliced LxySig axis into the bins each of which has a width of 0.25. Note that at least for this purpose, we cut on d0Sig, absolute value of which is to be less than several numbers. "
     ]
    },
    {
     "cell_type": "code",
     "collapsed": false,
     "input": [
      "def LxySig_distribution(x, fit=True, input_alpha=0):\n",
      "    # rootprint\n",
      "    final_region_dist = ROOT.TH1F(\"final_region\"+str(x), \"\", 80, 0, 20)\n",
      "    control_region_dist = ROOT.TH1F(\"control_region\"+str(x), \"\", 80, 0, 20)\n",
      "\n",
      "    # Some Histogram Settings\n",
      "    control_region_dist.GetXaxis().SetTitle(\"L_{xy}/#sigma_{L_{xy}}\")\n",
      "    control_region_dist.GetYaxis().SetTitle(\"Number of events\")\n",
      "    control_region_dist.SetTitle(\"#scale[0.8]{CMS Preliminary #sqrt{s} = 8 TeV, L = 20.5 fb^{-1}}\")\n",
      "\n",
      "    control_region_dist.SetStats(0)\n",
      "    control_region_dist.SetMarkerStyle(21)\n",
      "    control_region_dist.SetMarkerColor(1)\n",
      "    control_region_dist.SetLineColor(1)\n",
      "    control_region_dist.Sumw2\n",
      "    \n",
      "    final_region_dist.GetXaxis().SetTitle(\"L_{xy}/#sigma_{L_{xy}}\")\n",
      "    final_region_dist.GetYaxis().SetTitle(\"Number of events\")\n",
      "    final_region_dist.SetTitle(\"#scale[0.8]{CMS Preliminary #sqrt{s} = 8 TeV, L = 20.5 fb^{-1}}\")\n",
      "\n",
      "    final_region_dist.SetStats(0)\n",
      "    final_region_dist.SetMarkerStyle(24)\n",
      "    final_region_dist.SetMarkerColor(1)\n",
      "    final_region_dist.SetLineColor(1)\n",
      "    final_region_dist.Sumw2\n",
      "    \n",
      "\n",
      "    # Loop to write down new histos\n",
      "    for i in range(1,80):\n",
      "        # The bin width is 0.25, to start at 4 we start from bin 16 (+1 since it counts from 1 not 0).\n",
      "        # This gives the Lxy/sigma distribution for d0/sigma > 4.\n",
      "        # print i,nMinus1_looseCollCuts.Integral(i, i, 4*x+1, 160), nMinus1_looseCollCuts.Integral(i, i, 4*x+1, 160)\n",
      "        control_region_dist.SetBinContent(i, nMinus1_looseControlCollCuts.Integral(i, i, 4*x+1, 160))\n",
      "        final_region_dist.SetBinContent(i, nMinus1_looseCollCuts.Integral(i, i, 4*x+1, 160))\n",
      "    control_region_dist.Rebin(2)\n",
      "    final_region_dist.Rebin(2)\n",
      "\n",
      "    # Line\n",
      "    line = TLine(6, 0, 6, 100)\n",
      "    line.SetLineColor(4)\n",
      "    line.SetLineStyle(2)\n",
      "\n",
      "    # Text\n",
      "    text1 = TText(7, 1, \"Excluded Region\")\n",
      "    text2 = TText(9, 100, \"Data\")\n",
      "\n",
      "    # Add fit function\n",
      "    # Actual one\n",
      "    f1 = TF1(\"f1\",\"[0]*exp([1]*x)\", 3, 9)\n",
      "    f1.SetLineColor(2)\n",
      "    f1.SetParameter(1, -0.3376)\n",
      "    \n",
      "    # +20%\n",
      "    f2 = TF1(\"f2\",\"[0]*exp([1]*x)\", 3, 20)\n",
      "\n",
      "    # Fit histogram\n",
      "    if fit:\n",
      "        control_region_dist.Fit(\"f1\", \"R\")\n",
      "        alpha = f1.GetParameter(1)\n",
      "        norm = f1.GetParameter(0)/(-alpha*exp(-7*alpha))\n",
      "    else:\n",
      "        alpha = input_alpha\n",
      "        norm = control_region_dist.Integral(control_region_dist.FindBin(7), control_region_dist.FindBin(20))\n",
      "    \n",
      "    print \"norm control region =\", norm\n",
      "    print \"alpha control region =\", alpha\n",
      "    \n",
      "    #f1.SetParameter(0, -alpha*exp(-7*alpha)*norm)\n",
      "    #f1.SetParameter(1, alpha)\n",
      "    \n",
      "    canvas=TCanvas(\"\", \"\", 800, 400)\n",
      "    canvas.Divide(2,1)\n",
      "    canvas.cd(1)\n",
      "    control_region_dist.Draw(\"e\")\n",
      "    if not fit:\n",
      "        control_region_dist.GetYaxis().SetNdivisions(3)\n",
      "\n",
      "    #alpha_high = alpha*1.2\n",
      "    #f2.SetParameter(0, -alpha_high*exp(-7*alpha_high)*norm)\n",
      "    #f2.SetParameter(1, alpha_high)\n",
      "\n",
      "    \n",
      "    #alpha_low = alpha*0.8\n",
      "    f1.Draw(\"fcsame\")\n",
      "    #f3 = TF1(\"f3\",\"[0]*exp([1]*x)\", 7, 20)\n",
      "    #f3.SetLineColor(4)\n",
      "    #f3.SetParameter(0, -2*alpha_low*exp(-7*alpha_low)*norm)\n",
      "    #f3.SetParameter(1, alpha_low)\n",
      "    # f4.SetParameter(0, alpha*exp(7*alpha))\n",
      "    # f4.SetParameter(1, -alpha)\n",
      "    #f3.Draw(\"fcsame\")\n",
      "\n",
      "    # Legend\n",
      "    leg = TLegend(0.45,0.7,0.85,0.85)\n",
      "    leg.SetFillColor(0)\n",
      "    leg.SetLineColor(0)\n",
      "    # leg.SetTextAlign(12)\n",
      "    leg.AddEntry(\"f1\", \"Background fit control region\", \"l\")\n",
      "    #leg.AddEntry(\"f3\", \"#splitline{Background fit shape}{variation and normalization x 2}\", \"l\")\n",
      "    leg.Draw(\"same\")\n",
      "    # line.Draw()\n",
      "    # text1.Draw()\n",
      "    # text2.Draw()\n",
      "    \n",
      "    canvas.cd(2)\n",
      "\n",
      "    # Add fit function\n",
      "    # Actual one\n",
      "    f4 = TF1(\"f4\",\"[0]*exp([1]*x)\", 3, 9)\n",
      "    f4.SetLineColor(2)\n",
      "    f4.SetParameter(1, -0.3376)\n",
      "    final_region_dist.Fit(\"f4\", \"R\")\n",
      "    final_region_dist.Draw(\"e\")\n",
      "\n",
      "    if fit:\n",
      "        f4.Draw(\"fcsame\")\n",
      "        alpha_s = f4.GetParameter(1)\n",
      "        norm_s = f4.GetParameter(0)/(-alpha*exp(-7*alpha))\n",
      "    \n",
      "    # Legend\n",
      "    leg4 = TLegend(0.45,0.7,0.85,0.85)\n",
      "    leg4.SetFillColor(0)\n",
      "    leg4.SetLineColor(0)\n",
      "    # leg.SetTextAlign(12)\n",
      "    leg4.AddEntry(\"f4\", \"Background fit signal region\", \"l\")\n",
      "    #leg.AddEntry(\"f3\", \"#splitline{Background fit shape}{variation and normalization x 2}\", \"l\")\n",
      "    leg4.Draw(\"same\")\n",
      "    # line.Draw()\n",
      "    # text1.Draw()\n",
      "    # text2.Draw()\n",
      "\n",
      "    print \"norm signal region =\", norm_s\n",
      "    print \"alpha signal region =\", alpha_s\n",
      "    \n",
      "    canvas.Draw()\n",
      "    # canvas.SetLogy(True)\n",
      "\n",
      "    # canvas\n",
      "    return canvas, control_region_dist, f1, f2, f4, alpha, leg, final_region_dist, leg4"
     ],
     "language": "python",
     "metadata": {},
     "outputs": [],
     "prompt_number": 2
    },
    {
     "cell_type": "code",
     "collapsed": false,
     "input": [
      "%%rootprint\n",
      "#inputFileData = TFile.Open(\"/home/demattia/cmslpc/uscms_data/d3/msolmaz/myworkingspace/phys_698_spring_2014/CMSSW_5_3_8/src/AnalysisMacros/Version_Newest_Samples_August_6/CombinedFiles/Track_Rejection_Removed/Data22Jan_combined_2saMu.root\")\n",
      "#inputFileData = TFile.Open(\"test.root\")\n",
      "inputFileData = TFile.Open(\"/home/demattia/cmslpc/uscmst1b_scratch/lpc1/lpcmuon/zhenhu/RefittedStandAloneMuons/CMSSW_5_3_8/src/AnalysisMacros/DileptonMacros/CombinedFiles/Data22Jan_combined_2saMu_final.root\")\n",
      "# inputFileData = TFile.Open(\"/home/demattia/cmslpc/uscms_data/d3/demattia/DisplacedLeptons/RefittedStandAloneMuons/Version_9_5_2014/CMSSW_5_3_8/src/AnalysisMacros/DileptonMacros/CombinedFiles/Data22Jan_combined_2saMu.root\")\n",
      "\n",
      "#nMinus1_looseCollCuts = inputFileData.Get(\"nMinus1_leptonD0Sig_vs_LxySig_looseCollCuts\")\n",
      "#nMinus1_looseControlCollCuts = inputFileData.Get(\"nMinus1_leptonD0Sig_vs_LxySig_looseControlCollCuts\")\n",
      "nMinus1_looseCollCuts = inputFileData.Get(\"MinLeptonD0Sig_vs_MinLxySig_finalCollCuts\")\n",
      "nMinus1_looseControlCollCuts = inputFileData.Get(\"MinLeptonD0Sig_vs_MinLxySig_controlCollCuts\")\n",
      "\n",
      "resultnotkrej4 = LxySig_distribution(4, fit=True)\n",
      "resultnotkrej4[0].SaveAs(\"No_MET_track_rejection_removed_d0_greater_4_bckg_estimation_LxySig_different_function_fit.pdf\")\n",
      "\n",
      "alpha = resultnotkrej4[5]\n"
     ],
     "language": "python",
     "metadata": {},
     "outputs": [
      {
       "output_type": "stream",
       "stream": "stdout",
       "text": [
        "norm control region = 2.56275580306\n",
        "alpha control region = -0.541387429212\n",
        "norm signal region = 1.29019080096\n",
        "alpha signal region = -0.521491863137\n",
        " FCN=7.75318 FROM MIGRAD    STATUS=CONVERGED     130 CALLS         131 TInfo in <TCanvas::Print>: pdf file No_MET_track_rejection_removed_d0_greater_4_bckg_estimation_LxySig_different_function_fit.pdf has been created\n",
        "  FIRST   \n",
        "  NO.   NAME      VALUE            ERROR          SIZE      DERIVATIVE \n",
        "   1  p0           6.13856e+01   3.94440e+01   1.41431e-02  -1.39179e-05\n",
        "   2  p1          -5.41387e-01   1.36473e-01   4.89655e-05  -4.15938e-03\n",
        " FCN=5.39575 FROM MIGRAD    STATUS=CONVERGED     134 CALLS         135 TOTAL\n",
        "                     EDM=1.12122e-07    STRATEGY= 1      ERROR MATRIX ACCURATE \n",
        "  EXT PARAMETER                                   STEP         FIRST   \n",
        "  NO.   NAME      VALUE            ERROR          SIZE      DERIVATIVE \n",
        "   1  p0           3.09039e+01   3.92117e+01   8.20059e-03   1.28942e-05\n",
        "   2  p1          -5.21492e-01   2.83302e-01   5.93882e-05   3.40273e-03\n",
        "\n"
       ]
      }
     ],
     "prompt_number": 3
    },
    {
     "cell_type": "code",
     "collapsed": false,
     "input": [
      "canvas = TCanvas(\"\", \"\", 800, 400)\n",
      "canvas.Divide(2,1)\n",
      "canvas.cd(1)\n",
      "nMinus1_looseControlCollCuts.Draw(\"COLZ\")\n",
      "canvas.cd(2)\n",
      "nMinus1_looseCollCuts.Draw(\"COLZ\")\n",
      "canvas"
     ],
     "language": "python",
     "metadata": {},
     "outputs": [
      {
       "output_type": "stream",
       "stream": "stderr",
       "text": [
        "TCanvas::Constructor:0: RuntimeWarning: Deleting canvas with same name: \n"
       ]
      },
      {
       "metadata": {},
       "output_type": "pyout",
       "png": "[encoded data removed]",
       "prompt_number": 4,
       "text": [
        "<ROOT.TCanvas object at 0x3991080>"
       ]
      }
     ],
     "prompt_number": 4
    },
    {
     "cell_type": "code",
     "collapsed": false,
     "input": [
      "print resultnotkrej4[2].Integral(12, 10000)\n",
      "print resultnotkrej4[4].Integral(12, 10000)\n",
      "print resultnotkrej4[2].Integral(7, 10000)\n",
      "print resultnotkrej4[4].Integral(7, 10000)"
     ],
     "language": "python",
     "metadata": {},
     "outputs": [
      {
       "output_type": "stream",
       "stream": "stdout",
       "text": [
        "0.170170205121\n",
        "0.112797960505\n",
        "2.56182667659\n",
        "1.53007706997\n"
       ]
      }
     ],
     "prompt_number": 5
    },
    {
     "cell_type": "code",
     "collapsed": false,
     "input": [
      "#inputFileData = TFile.Open(\"/home/demattia/cmslpc//uscmst1b_scratch/lpc1/lpcmuon/zhenhu/RefittedStandAloneMuons/CMSSW_5_3_8/src/AnalysisMacros/DileptonMacros/CombinedFiles/Data22Jan_combined_2saMu.root\")\n",
      "#nMinus1_looseControlCollCuts = inputFileData.Get(\"nMinus1_leptonD0Sig_vs_LxySig_controlCollCuts\")\n",
      "#nMinus1_looseCollCuts = inputFileData.Get(\"MinLeptonD0Sig_vs_MinLxySig_finalCollCuts\")\n",
      "#nMinus1_looseControlCollCuts = inputFileData.Get(\"MinLeptonD0Sig_vs_MinLxySig_controlCollCuts\")\n",
      "\n",
      "result4 = LxySig_distribution(4, input_alpha=alpha)\n",
      "result4[0].SaveAs(\"No_MET_track_rejection_removed_d0_greater_4_bckg_estimation_LxySig_different_function.pdf\")\n",
      "result4[0]\n",
      "\n"
     ],
     "language": "python",
     "metadata": {},
     "outputs": [
      {
       "output_type": "stream",
       "stream": "stdout",
       "text": [
        "norm control region = 2.56275580306\n",
        "alpha control region = -0.541387429212\n",
        "norm signal region = 1.29019080096\n",
        "alpha signal region = -0.521491863137\n"
       ]
      },
      {
       "output_type": "stream",
       "stream": "stderr",
       "text": [
        "TFile::Append:0: RuntimeWarning: Replacing existing TH1: final_region4 (Potential memory leak).\n",
        "TFile::Append:0: RuntimeWarning: Replacing existing TH1: control_region4 (Potential memory leak).\n",
        "TCanvas::Constructor:0: RuntimeWarning: Deleting canvas with same name: \n"
       ]
      },
      {
       "metadata": {},
       "output_type": "pyout",
       "png": "[encoded data removed]",
       "prompt_number": 6,
       "text": [
        "<ROOT.TCanvas object at 0x3fbe740>"
       ]
      }
     ],
     "prompt_number": 6
    },
    {
     "cell_type": "markdown",
     "metadata": {},
     "source": [
      "d0Sig > 4"
     ]
    },
    {
     "cell_type": "markdown",
     "metadata": {},
     "source": [
      "exp(-alpha*x) where alpha = 0.3376+-0.0424"
     ]
    },
    {
     "cell_type": "code",
     "collapsed": false,
     "input": [
      "result4[2].Integral(12, 10000)"
     ],
     "language": "python",
     "metadata": {},
     "outputs": [
      {
       "metadata": {},
       "output_type": "pyout",
       "prompt_number": 7,
       "text": [
        "0.17017020512079672"
       ]
      }
     ],
     "prompt_number": 7
    },
    {
     "cell_type": "code",
     "collapsed": false,
     "input": [
      "result4[4].Integral(12, 10000)"
     ],
     "language": "python",
     "metadata": {},
     "outputs": [
      {
       "metadata": {},
       "output_type": "pyout",
       "prompt_number": 8,
       "text": [
        "0.11279796050453555"
       ]
      }
     ],
     "prompt_number": 8
    },
    {
     "cell_type": "code",
     "collapsed": false,
     "input": [
      "result4[3].Integral(12, 10000)"
     ],
     "language": "python",
     "metadata": {},
     "outputs": [
      {
       "metadata": {},
       "output_type": "pyout",
       "prompt_number": 9,
       "text": [
        "0.0"
       ]
      }
     ],
     "prompt_number": 9
    },
    {
     "cell_type": "code",
     "collapsed": false,
     "input": [
      "print resultnotkrej4[1].GetNbinsX()\n",
      "print resultnotkrej4[1].GetXaxis().GetXmax()\n",
      "print resultnotkrej4[1].FindBin(7)\n",
      "print resultnotkrej4[1].Integral(resultnotkrej4[1].FindBin(7), resultnotkrej4[1].FindBin(20))\n"
     ],
     "language": "python",
     "metadata": {},
     "outputs": [
      {
       "output_type": "stream",
       "stream": "stdout",
       "text": [
        "40\n",
        "20.0\n",
        "15\n",
        "12.0\n"
       ]
      }
     ],
     "prompt_number": 10
    },
    {
     "cell_type": "markdown",
     "metadata": {},
     "source": [
      "We normalize the shape to the number of events observed in the same range of the fit from the Lxy/sigma distribution after the full selection in the signal and constrol regions."
     ]
    },
    {
     "cell_type": "code",
     "collapsed": false,
     "input": [
      "lxy_final_signal = inputFileData.Get(\"nMinus1_DileptonAbsLxySig_finalCollCuts\")\n",
      "lxy_final_control = inputFileData.Get(\"nMinus1_DileptonAbsLxySig_controlCollCuts\")\n",
      "c_final = TCanvas(\"c_final\", \"c_final\", 800, 400)\n",
      "c_final.Divide(2,1)\n",
      "c_final.cd(1)\n",
      "lxy_final_control.Draw()\n",
      "c_final.cd(2)\n",
      "lxy_final_signal.Draw()\n",
      "c_final"
     ],
     "language": "python",
     "metadata": {},
     "outputs": [
      {
       "metadata": {},
       "output_type": "pyout",
       "png": "[encoded data removed]",
       "prompt_number": 11,
       "text": [
        "<ROOT.TCanvas object (\"c_final\") at 0x4010ef0>"
       ]
      }
     ],
     "prompt_number": 11
    },
    {
     "cell_type": "code",
     "collapsed": false,
     "input": [
      "signal_integral = lxy_final_signal.Integral(3, 41)\n",
      "control_integral = lxy_final_control.Integral(3, 41)\n",
      "print \"signal integral =\", signal_integral\n",
      "print \"control integral =\", control_integral"
     ],
     "language": "python",
     "metadata": {},
     "outputs": [
      {
       "output_type": "stream",
       "stream": "stdout",
       "text": [
        "signal integral = 6.0\n",
        "control integral = 3.0\n"
       ]
      }
     ],
     "prompt_number": 12
    },
    {
     "cell_type": "code",
     "collapsed": false,
     "input": [
      "f_s = result4[4]\n",
      "f_c = result4[2]\n",
      "alpha_s = f_s.GetParameter(1)\n",
      "alpha_c = f_c.GetParameter(1)\n",
      "print \"alpha_s =\", alpha_s\n",
      "print \"alpha_c =\", alpha_c"
     ],
     "language": "python",
     "metadata": {},
     "outputs": [
      {
       "output_type": "stream",
       "stream": "stdout",
       "text": [
        "alpha_s = -0.521491863137\n",
        "alpha_c = -0.541387429212\n"
       ]
      }
     ],
     "prompt_number": 13
    },
    {
     "cell_type": "code",
     "collapsed": false,
     "input": [
      "signal_norm = -signal_integral*alpha_s/(exp(alpha_s*3) - exp(alpha_s*10))\n",
      "control_norm = -control_integral*alpha_c/(exp(alpha_c*3) - exp(alpha_c*10))\n",
      "print signal_norm\n",
      "print control_norm"
     ],
     "language": "python",
     "metadata": {},
     "outputs": [
      {
       "output_type": "stream",
       "stream": "stdout",
       "text": [
        "15.3558498442\n",
        "8.43184752179\n"
       ]
      }
     ],
     "prompt_number": 14
    },
    {
     "cell_type": "code",
     "collapsed": false,
     "input": [
      "signal_background = -signal_norm*exp(alpha_s*12)/alpha_s"
     ],
     "language": "python",
     "metadata": {},
     "outputs": [],
     "prompt_number": 15
    },
    {
     "cell_type": "code",
     "collapsed": false,
     "input": [
      "control_background = -control_norm*exp(alpha_c*12)/alpha_c"
     ],
     "language": "python",
     "metadata": {},
     "outputs": [],
     "prompt_number": 16
    },
    {
     "cell_type": "code",
     "collapsed": false,
     "input": [
      "print \"background in signal region =\", signal_background\n",
      "print \"background in control region =\", control_background\n",
      "print \"systematic =\", abs(1-control_background/signal_background)"
     ],
     "language": "python",
     "metadata": {},
     "outputs": [
      {
       "output_type": "stream",
       "stream": "stdout",
       "text": [
        "background in signal region = 0.0563967215108\n",
        "background in control region = 0.0234939315973\n",
        "systematic = 0.583416713455\n"
       ]
      }
     ],
     "prompt_number": 17
    },
    {
     "cell_type": "heading",
     "level": 3,
     "metadata": {},
     "source": [
      "Conclusions"
     ]
    },
    {
     "cell_type": "markdown",
     "metadata": {},
     "source": [
      "When fitting the background in the control region and using the range 3-9 (same as the signal) we have:\n",
      "- background in signal region = 0.0563967215108\n",
      "- background in control region = 0.0234939315973\n",
      "- systematic = 0.583416713455\n",
      "\n",
      "In the control region we can also perform a fit of the full range 3-20. If we do so we obtain:\n",
      "- background in signal region = 0.0563967215108\n",
      "- background in control region = 0.0281358031678\n",
      "- systematic = 0.501109241564\n",
      "\n",
      "We take the largest of the two (58%) as systematic uncertainty.\n",
      "\n",
      "Note that this is an uncertainty on a small background expectation. The expectations as estimated above are < 0.1 event for both the signal and the control region. Even assuming a 100% uncertainty would still lead to a small expected background."
     ]
    },
    {
     "cell_type": "code",
     "collapsed": false,
     "input": [],
     "language": "python",
     "metadata": {},
     "outputs": [],
     "prompt_number": 17
    }
   ],
   "metadata": {}
  }
 ]
}