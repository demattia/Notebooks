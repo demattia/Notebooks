{
 "metadata": {
  "name": "",
  "signature": "sha256:7ba04fc697ce443963864774e7dec2e42f461b9388385d497ed388342ad57532"
 },
 "nbformat": 3,
 "nbformat_minor": 0,
 "worksheets": [
  {
   "cells": [
    {
     "cell_type": "code",
     "collapsed": false,
     "input": [
      "from math import sqrt, exp\n",
      "import ROOT\n",
      "from ROOT import TFile, TDirectory, TH1F, TCanvas, TLegend, TLine, TText, TPad, TF1, TGraph, TGraphErrors\n",
      "import rootnotes\n",
      "import rootprint\n",
      "ROOT.gStyle.SetErrorX(0) #To remove horizontal bars...\n",
      "#gStyle.SetTitleYSize(0.02)"
     ],
     "language": "python",
     "metadata": {},
     "outputs": [],
     "prompt_number": 1
    },
    {
     "cell_type": "heading",
     "level": 1,
     "metadata": {},
     "source": [
      "Background"
     ]
    },
    {
     "cell_type": "markdown",
     "metadata": {},
     "source": [
      "We have 2D d0Sig vs. LxySig plots for both control region of data. We sliced LxySig axis into the bins each of which has a width of 0.25. Note that at least for this purpose, we cut on d0Sig, absolute value of which is to be less than several numbers. "
     ]
    },
    {
     "cell_type": "code",
     "collapsed": false,
     "input": [
      "# Fill the Lxy/sigma histograms from the 2D distrubtions\n",
      "def LxySig_distribution(x, nMinus1_looseCollCuts, nMinus1_looseControlCollCuts):\n",
      "    # rootprint\n",
      "    final_region_dist = ROOT.TH1F(\"final_region\"+str(x), \"\", 160, 0, 40)\n",
      "    control_region_dist = ROOT.TH1F(\"control_region\"+str(x), \"\", 160, 0, 40)\n",
      "\n",
      "    # Some Histogram Settings\n",
      "    control_region_dist.GetXaxis().SetTitle(\"L_{xy}/#sigma_{L_{xy}}\")\n",
      "    control_region_dist.GetYaxis().SetTitle(\"Number of events\")\n",
      "    control_region_dist.SetTitle(\"#scale[0.8]{CMS Preliminary #sqrt{s} = 8 TeV, L = 20.5 fb^{-1}}\")\n",
      "\n",
      "    control_region_dist.SetStats(0)\n",
      "    control_region_dist.SetMarkerStyle(21)\n",
      "    control_region_dist.SetMarkerColor(1)\n",
      "    control_region_dist.SetLineColor(1)\n",
      "    control_region_dist.Sumw2\n",
      "    \n",
      "    final_region_dist.GetXaxis().SetTitle(\"L_{xy}/#sigma_{L_{xy}}\")\n",
      "    final_region_dist.GetYaxis().SetTitle(\"Number of events\")\n",
      "    final_region_dist.SetTitle(\"#scale[0.8]{CMS Preliminary #sqrt{s} = 8 TeV, L = 20.5 fb^{-1}}\")\n",
      "\n",
      "    final_region_dist.SetStats(0)\n",
      "    final_region_dist.SetMarkerStyle(24)\n",
      "    final_region_dist.SetMarkerColor(1)\n",
      "    final_region_dist.SetLineColor(1)\n",
      "    final_region_dist.Sumw2\n",
      "    \n",
      "\n",
      "    # Loop to write down new histos\n",
      "    for i in range(1, 160):\n",
      "        # The bin width is 0.25, to start at 4 we start from bin 16 (+1 since it counts from 1 not 0).\n",
      "        # This gives the Lxy/sigma distribution for d0/sigma > 4.\n",
      "        # print i,nMinus1_looseCollCuts.Integral(i, i, 4*x+1, 160), nMinus1_looseCollCuts.Integral(i, i, 4*x+1, 160)\n",
      "        control_region_dist.SetBinContent(i, nMinus1_looseControlCollCuts.Integral(i, i, 4*x+1, 160))\n",
      "        final_region_dist.SetBinContent(i, nMinus1_looseCollCuts.Integral(i, i, 4*x+1, 160))\n",
      "    control_region_dist.Rebin(2)\n",
      "    final_region_dist.Rebin(2)\n",
      "\n",
      "    return final_region_dist, control_region_dist\n",
      "\n",
      "\n",
      "# Fit the Lxy/sigma distribution\n",
      "def LxySig_distribution_fit(final_region_dist, control_region_dist, fSignal, fControl):\n",
      "    \n",
      "    # Line\n",
      "    line = TLine(9, 0, 9, 10)\n",
      "    line.SetLineColor(4)\n",
      "    line.SetLineStyle(2)\n",
      "\n",
      "    # Text\n",
      "    text1 = TText(12, 4, \"Excluded Region\")\n",
      "\n",
      "    \n",
      "    \n",
      "    fControl.SetLineColor(2)\n",
      "    \n",
      "    control_region_dist.Fit(fControl, \"R\")    \n",
      "    canvas=TCanvas(\"\", \"\", 800, 400)\n",
      "    canvas.Divide(2,1)\n",
      "    canvas.cd(1)\n",
      "    control_region_dist.Draw(\"e\")\n",
      "    control_region_dist.GetYaxis().SetNdivisions(3)\n",
      "    fControl.Draw(\"fcsame\")\n",
      "\n",
      "    # Legend\n",
      "    leg = TLegend(0.45,0.7,0.85,0.85)\n",
      "    leg.SetFillColor(0)\n",
      "    leg.SetLineColor(0)\n",
      "    # leg.SetTextAlign(12)\n",
      "    leg.AddEntry(fControl, \"Background fit control region\", \"l\")\n",
      "    leg.Draw(\"same\")\n",
      "\n",
      "    canvas.cd(2)\n",
      "\n",
      "    fSignal.SetLineColor(2)\n",
      "    final_region_dist.Fit(fSignal, \"R\")\n",
      "    final_region_dist.Draw(\"e\")\n",
      "    fSignal.Draw(\"fcsame\")\n",
      "    \n",
      "    # Legend\n",
      "    leg4 = TLegend(0.45,0.7,0.85,0.85)\n",
      "    leg4.SetFillColor(0)\n",
      "    leg4.SetLineColor(0)\n",
      "    # leg.SetTextAlign(12)\n",
      "    leg4.AddEntry(fSignal, \"Background fit signal region\", \"l\")\n",
      "    leg4.Draw(\"same\")\n",
      "    line.Draw()\n",
      "    text1.Draw()\n",
      "\n",
      "    canvas.Draw()\n",
      "    # canvas.SetLogy(True)\n",
      "\n",
      "    return canvas, control_region_dist, leg, final_region_dist, leg4, line, text1\n",
      "\n",
      "\n",
      "# This function prints the chi2 of the functions fitted in control and signal region\n",
      "def print_chi2(fSignal, fControl):\n",
      "    if fSignal.GetNDF() != 0:\n",
      "        normChi2Signal = fSignal.GetChisquare()/fSignal.GetNDF()\n",
      "        print \"Chi2/ndf signal region =\", str(fSignal.GetChisquare())+\"/\"+str(fSignal.GetNDF()), \"=\", normChi2Signal\n",
      "    else:\n",
      "        \"Error: signal fit NDOF =\", fSignal.GetNDF()\n",
      "    if fControl.GetNDF() != 0:\n",
      "        normChi2Control = fControl.GetChisquare()/fControl.GetNDF()\n",
      "        print \"Chi2/ndf control region =\", str(fControl.GetChisquare())+\"/\"+str(fControl.GetNDF()), \"=\", normChi2Control\n",
      "    else:\n",
      "        \"Error: control fit NDOF =\", fControl.GetNDF()\n",
      "    print\n",
      "\n",
      "\n",
      "# prints the estimated events in the fitted regions before and after rescaling. Estimates systematic uncertainty.\n",
      "def estimate_systematic(fSignal, signal_integral, fControl, control_integral):\n",
      "    scale_factor_signal = signal_integral/fSignal.Integral(3,9)\n",
      "    scale_factor_control = control_integral/fControl.Integral(3,9)\n",
      "\n",
      "    signal_background = scale_factor_signal*fSignal.Integral(12, 10000)\n",
      "    control_background = scale_factor_control*fControl.Integral(12, 10000)\n",
      "\n",
      "    print \"Events from fit in signal region for 3 < lxy/sigma < 9 =\", fSignal.Integral(3, 9)\n",
      "    print \"Events from fit in control region for 3 < lxy/sigma < 9 =\", fControl.Integral(3, 9)\n",
      "    print \"Events from fit in signal region for lxy/sigma > 12 =\", fSignal.Integral(12, 10000)\n",
      "    print \"Events from fit in control region for lxy/sigma > 12 =\", fControl.Integral(12, 10000)\n",
      "    print \"Systematic from original fit =\", abs(1-fSignal.Integral(12, 10000)/fControl.Integral(12, 10000))\n",
      "    print\n",
      "    print \"Observed events in signal region in the range [3;9] =\", signal_integral\n",
      "    print \"Observed events in control region in the range [3;9] =\", control_integral\n",
      "    print\n",
      "    print \"scale factor signal region =\", scale_factor_signal\n",
      "    print \"scale factor control region =\", scale_factor_control\n",
      "    print\n",
      "    print \"background in signal region =\", signal_background\n",
      "    print \"background in control region =\", control_background\n",
      "    print\n",
      "    print \"systematic =\", abs(1-signal_background/control_background)"
     ],
     "language": "python",
     "metadata": {},
     "outputs": [],
     "prompt_number": 2
    },
    {
     "cell_type": "code",
     "collapsed": false,
     "input": [
      "# inputFileData = TFile.Open(\"Data22Jan_combined_2saMu.root\")\n",
      "\n",
      "# inputFileData = TFile.Open(\"Data22Jan_combined_2saMu_final_FORBACKGROUNDSYSTEMATIC.root\")\n",
      "# postfix = \"\"\n",
      "\n",
      "inputFileData = TFile.Open(\"Data22Jan_combined_2saMu_final_FORBACKGROUNDSYSTEMATIC_Cut2Both.root\")\n",
      "postfix = \"_CutBoth2\"\n",
      "\n",
      "# inputFileData = TFile.Open(\"Data22Jan_combined_2saMu_final_FORBACKGROUNDSYSTEMATIC_OtherRelaxedCuts.root\")\n",
      "# postfix = \"_OtherRelaxedCuts\"\n",
      "\n",
      "nMinus1_looseCollCuts = inputFileData.Get(\"MinLeptonD0Sig_vs_MinLxySig_finalCollCuts\")\n",
      "nMinus1_looseControlCollCuts = inputFileData.Get(\"MinLeptonD0Sig_vs_MinLxySig_controlCollCuts\")\n",
      "\n",
      "canvas = TCanvas(\"\", \"\", 800, 400)\n",
      "canvas.Divide(2,1)\n",
      "canvas.cd(1)\n",
      "nMinus1_looseControlCollCuts.Draw(\"COLZ\")\n",
      "canvas.cd(2)\n",
      "nMinus1_looseCollCuts.Draw(\"COLZ\")\n",
      "canvas"
     ],
     "language": "python",
     "metadata": {},
     "outputs": [
      {
       "output_type": "stream",
       "stream": "stderr",
       "text": [
        "TCanvas::Constructor:0: RuntimeWarning: Deleting canvas with same name: \n"
       ]
      },
      {
       "metadata": {},
       "output_type": "pyout",
       "png": "[encoded data removed]",
       "prompt_number": 25,
       "text": [
        "<ROOT.TCanvas object at 0x7f9a494ec760>"
       ]
      }
     ],
     "prompt_number": 25
    },
    {
     "cell_type": "code",
     "collapsed": false,
     "input": [
      "final_region_dist, control_region_dist = LxySig_distribution(4, nMinus1_looseCollCuts, nMinus1_looseControlCollCuts)\n",
      "c_dist = TCanvas(\"c_dist\", \"c_dist\", 800, 400)\n",
      "c_dist.Divide(2, 1)\n",
      "c_dist.cd(1)\n",
      "control_region_dist.Draw(\"E\")\n",
      "c_dist.cd(2)\n",
      "final_region_dist.Draw(\"E\")\n",
      "c_dist"
     ],
     "language": "python",
     "metadata": {},
     "outputs": [
      {
       "output_type": "stream",
       "stream": "stderr",
       "text": [
        "TCanvas::Constructor:0: RuntimeWarning: Deleting canvas with same name: c_dist\n"
       ]
      },
      {
       "metadata": {},
       "output_type": "pyout",
       "png": "[encoded data removed]",
       "prompt_number": 40,
       "text": [
        "<ROOT.TCanvas object (\"c_dist\") at 0x7f9a49a98d80>"
       ]
      }
     ],
     "prompt_number": 40
    },
    {
     "cell_type": "code",
     "collapsed": false,
     "input": [
      "signal_integral_relaxed_cuts_0_9 = signal_region_dist.Integral(signal_region_dist.FindBin(3),\n",
      "                                                               signal_region_dist.FindBin(9))\n",
      "control_integral_relaxed_cuts_0_9 = control_region_dist.Integral(control_region_dist.FindBin(3),\n",
      "                                                                 control_region_dist.FindBin(9))\n",
      "print \"Observed candidates in the signal region [0,9] =\", signal_integral_relaxed_cuts_0_9\n",
      "print \"Observed candidates in the control region [0,9] =\", control_integral_relaxed_cuts_0_9\n",
      "signal_integral_relaxed_cuts = signal_region_dist.Integral(signal_region_dist.FindBin(12),\n",
      "                                                           signal_region_dist.FindBin(1000))\n",
      "control_integral_relaxed_cuts = control_region_dist.Integral(control_region_dist.FindBin(12),\n",
      "                                                             control_region_dist.FindBin(1000))\n",
      "print \"Observed candidates in the signal region > 12 =\", signal_integral_relaxed_cuts\n",
      "print \"Observed candidates in the control region > 12 =\", control_integral_relaxed_cuts\n",
      "\n",
      "print \"Ratio of > 12 / [0,9] in the signal region =\", signal_integral_relaxed_cuts/signal_integral_relaxed_cuts_0_9\n",
      "print \"Ratio of > 12 / [0,9] in the control region =\", control_integral_relaxed_cuts/control_integral_relaxed_cuts_0_9"
     ],
     "language": "python",
     "metadata": {},
     "outputs": [
      {
       "output_type": "stream",
       "stream": "stdout",
       "text": [
        "Observed candidates in the signal region [0,9] = 66.0\n",
        "Observed candidates in the control region [0,9] = 95.0\n",
        "Observed candidates in the signal region > 12 = 0.0\n",
        "Observed candidates in the control region > 12 = 11.0\n",
        "Ratio of > 12 / [0,9] in the signal region = 0.0\n",
        "Ratio of > 12 / [0,9] in the control region = 0.115789473684\n"
       ]
      }
     ],
     "prompt_number": 41
    },
    {
     "cell_type": "markdown",
     "metadata": {},
     "source": [
      "Count the number of events in $3 < L_{xy}/\\sigma < 9$ after the full selection. This number will be used to scale the function fitted with the relaxed selection. "
     ]
    },
    {
     "cell_type": "code",
     "collapsed": false,
     "input": [
      "inputFileDataFullSelection = TFile.Open(\"Data22Jan_combined_2saMu.root\")\n",
      "lxy_final_signal = inputFileDataFullSelection.Get(\"nMinus1_DileptonAbsLxySig_finalCollCuts\")\n",
      "lxy_final_control = inputFileDataFullSelection.Get(\"nMinus1_DileptonAbsLxySig_controlCollCuts\")\n",
      "signal_integral = lxy_final_signal.Integral(lxy_final_signal.FindBin(3), lxy_final_signal.FindBin(9))\n",
      "control_integral = lxy_final_control.Integral(lxy_final_control.FindBin(3), lxy_final_control.FindBin(9))\n",
      "\n",
      "c_final = TCanvas(\"c_final\", \"c_final\", 800, 400)\n",
      "c_final.Divide(2,1)\n",
      "c_final.cd(1)\n",
      "lxy_final_control.Draw()\n",
      "c_final.cd(2)\n",
      "lxy_final_signal.Draw()\n",
      "c_final"
     ],
     "language": "python",
     "metadata": {},
     "outputs": [
      {
       "metadata": {},
       "output_type": "pyout",
       "png": "[encoded data removed]",
       "prompt_number": 5,
       "text": [
        "<ROOT.TCanvas object (\"c_final\") at 0x7f9a496f4600>"
       ]
      }
     ],
     "prompt_number": 5
    },
    {
     "cell_type": "heading",
     "level": 2,
     "metadata": {},
     "source": [
      "Exponential Fit"
     ]
    },
    {
     "cell_type": "markdown",
     "metadata": {},
     "source": [
      "We perform an exponential fit in the range $3 < L_{xy}/\\sigma < 9$ in both signal and control region."
     ]
    },
    {
     "cell_type": "code",
     "collapsed": false,
     "input": [
      "%%rootprint\n",
      "fControl = TF1(\"fControl\",\"[0]*exp([1]*x)\", 3, 9)\n",
      "fSignal = TF1(\"fSignal\",\"[0]*exp([1]*x)\", 3, 9)\n",
      "\n",
      "result = LxySig_distribution_fit(final_region_dist, control_region_dist, fSignal, fControl)\n",
      "\n",
      "print_chi2(fSignal, fControl)"
     ],
     "language": "python",
     "metadata": {},
     "outputs": [
      {
       "output_type": "stream",
       "stream": "stdout",
       "text": [
        "Chi2/ndf signal region = 4.09040304689/9 = 0.454489227433\n",
        "Chi2/ndf control region = 20.5373118458/10 = 2.05373118458\n",
        "\n",
        " FCN=20.5373 FROM MIGRAD    STATUS=CONVERGED     154 CALLS         155 TOTAL\n",
        "                     EDM=9.63433e-08    STRATEGY= 1      ERROR MATRIX ACCURATE \n",
        "  EXT PARAMETER                                   STEP         FIRST   \n",
        "  NO.   NAME      VALUE            ERROR          SIZE      DERIVATIVE \n",
        "   1  p0           6.21893e+01   2.53852e+01   1.65249e-02  -2.26393e-05\n",
        "   2  p1          -4.32792e-01   8.07721e-02   5.26438e-05  -1.78007e-03\n",
        " FCN=4.0904 FROM MIGRAD    STATUS=CONVERGED     161 CALLS         162 TOTAL\n",
        "                     EDM=3.64389e-08    STRATEGY= 1      ERROR MATRIX ACCURATE \n",
        "  EXT PARAMETER                                   STEP         FIRST   \n",
        "  NO.   NAME      VALUE            ERROR          SIZE      DERIVATIVE \n",
        "   1  p0           1.08823e+02   5.66840e+01   1.52209e-02  -1.05321e-05\n",
        "   2  p1          -5.81752e-01   1.12709e-01   3.03098e-05  -7.15333e-03\n",
        "\n"
       ]
      },
      {
       "output_type": "stream",
       "stream": "stderr",
       "text": [
        "TCanvas::Constructor:0: RuntimeWarning: Deleting canvas with same name: \n"
       ]
      }
     ],
     "prompt_number": 6
    },
    {
     "cell_type": "code",
     "collapsed": false,
     "input": [
      "result[0].SaveAs(\"No_MET_track_rejection_removed_d0_greater_4_bckg_estimation_LxySig_different_function_fit\"+postfix+\".pdf\")\n",
      "result[0]"
     ],
     "language": "python",
     "metadata": {},
     "outputs": [
      {
       "metadata": {},
       "output_type": "pyout",
       "png": "[encoded data removed]",
       "prompt_number": 7,
       "text": [
        "<ROOT.TCanvas object at 0x7f9a49b0e550>"
       ]
      }
     ],
     "prompt_number": 7
    },
    {
     "cell_type": "markdown",
     "metadata": {},
     "source": [
      "We normalize the shape to the number of events observed in the same range of the fit from the Lxy/sigma distribution after the full selection in the signal and control regions."
     ]
    },
    {
     "cell_type": "code",
     "collapsed": false,
     "input": [
      "estimate_systematic(fSignal, signal_integral, fControl, control_integral)"
     ],
     "language": "python",
     "metadata": {},
     "outputs": [
      {
       "output_type": "stream",
       "stream": "stdout",
       "text": [
        "Events from fit in signal region for 3 < lxy/sigma < 9 = 31.6651622013\n",
        "Events from fit in control region for 3 < lxy/sigma < 9 = 36.3017251291\n",
        "Events from fit in signal region for lxy/sigma > 12 = 5.80588247446e-13\n",
        "Events from fit in control region for lxy/sigma > 12 = 0.797855181971\n",
        "Systematic from original fit = 0.999999999999\n",
        "\n",
        "Observed events in signal region in the range [3;9] = 3.0\n",
        "Observed events in control region in the range [3;9] = 3.0\n",
        "\n",
        "scale factor signal region = 0.0947413432128\n",
        "scale factor control region = 0.0826407006645\n",
        "\n",
        "background in signal region = 5.50057104166e-14\n",
        "background in control region = 0.0659353112669\n",
        "\n",
        "systematic = 0.999999999999\n"
       ]
      }
     ],
     "prompt_number": 8
    },
    {
     "cell_type": "heading",
     "level": 2,
     "metadata": {},
     "source": [
      "Exponential Fit - Extendend Range in Control Region"
     ]
    },
    {
     "cell_type": "code",
     "collapsed": false,
     "input": [
      "%%rootprint\n",
      "fControlExt = TF1(\"fControlExt\",\"[0]*exp([1]*x)\", 3, 30)\n",
      "fControlExt.SetParLimits(0,0,100);\n",
      "resultExt = LxySig_distribution_fit(final_region_dist, control_region_dist, fSignal, fControlExt)\n",
      "\n",
      "print_chi2(fSignal, fControlExt)"
     ],
     "language": "python",
     "metadata": {},
     "outputs": [
      {
       "output_type": "stream",
       "stream": "stdout",
       "text": [
        "Chi2/ndf signal region = 4.09040303912/9 = 0.454489226569\n",
        "Chi2/ndf control region = 31.4934361681/25 = 1.25973744672\n",
        "\n",
        " FCN=31.4934 FROM MIGRAD    STATUS=CONVERGED      84 CALLS          85 TOTAL\n",
        "                     EDM=1.85315e-08    STRATEGY= 1      ERROR MATRIX ACCURATE \n",
        "  EXT PARAMETER                                   STEP         FIRST   \n",
        "  NO.   NAME      VALUE            ERROR          SIZE      DERIVATIVE \n",
        "   1  p0           3.73426e+01   1.46732e+01   2.36327e-04  -2.26335e-03\n",
        "   2  p1          -3.28895e-01   6.61410e-02   5.07435e-05  -1.00222e-02\n",
        " FCN=4.0904 FROM MIGRAD    STATUS=CONVERGED      26 CALLS          27 TOTAL\n",
        "                     EDM=2.08932e-08    STRATEGY= 1      ERROR MATRIX ACCURATE \n",
        "  EXT PARAMETER                                   STEP         FIRST   \n",
        "  NO.   NAME      VALUE            ERROR          SIZE      DERIVATIVE \n",
        "   1  p0           1.08823e+02   5.66885e+01   1.52367e-02   2.08708e-06\n",
        "   2  p1          -5.81751e-01   1.12716e-01   3.02962e-05  -7.77442e-04\n",
        "\n"
       ]
      },
      {
       "output_type": "stream",
       "stream": "stderr",
       "text": [
        "TCanvas::Constructor:0: RuntimeWarning: Deleting canvas with same name: \n"
       ]
      }
     ],
     "prompt_number": 9
    },
    {
     "cell_type": "code",
     "collapsed": false,
     "input": [
      "resultExt[0].SaveAs(\"No_MET_track_rejection_removed_d0_greater_4_bckg_estimation_LxySig_different_function_fitExt\"+postfix+\".pdf\")\n",
      "resultExt[0]"
     ],
     "language": "python",
     "metadata": {},
     "outputs": [
      {
       "metadata": {},
       "output_type": "pyout",
       "png": "[encoded data removed]",
       "prompt_number": 10,
       "text": [
        "<ROOT.TCanvas object at 0x7f9a49948d30>"
       ]
      }
     ],
     "prompt_number": 10
    },
    {
     "cell_type": "code",
     "collapsed": false,
     "input": [
      "estimate_systematic(fSignal, signal_integral, fControlExt, control_integral)"
     ],
     "language": "python",
     "metadata": {},
     "outputs": [
      {
       "output_type": "stream",
       "stream": "stdout",
       "text": [
        "Events from fit in signal region for 3 < lxy/sigma < 9 = 31.6655156222\n",
        "Events from fit in control region for 3 < lxy/sigma < 9 = 36.4454914156\n",
        "Events from fit in signal region for lxy/sigma > 12 = 5.80643930759e-13\n",
        "Events from fit in control region for lxy/sigma > 12 = 2.1932965871\n",
        "Systematic from original fit = 1.0\n",
        "\n",
        "Observed events in signal region in the range [3;9] = 3.0\n",
        "Observed events in control region in the range [3;9] = 3.0\n",
        "\n",
        "scale factor signal region = 0.0947402857985\n",
        "scale factor control region = 0.0823147084447\n",
        "\n",
        "background in signal region = 5.50103719473e-14\n",
        "background in control region = 0.1805405691\n",
        "\n",
        "systematic = 1.0\n"
       ]
      }
     ],
     "prompt_number": 11
    },
    {
     "cell_type": "heading",
     "level": 2,
     "metadata": {},
     "source": [
      "Polynomial Fit"
     ]
    },
    {
     "cell_type": "code",
     "collapsed": false,
     "input": [
      "%%rootprint\n",
      "fControlPol = TF1(\"fControlPol\",\"[0]/(x*x)\", 3, 9)\n",
      "# fControlPol.SetParLimits(0,0,100);\n",
      "fSignalPol = TF1(\"fSignalPol\",\"[0]/(x*x)\", 3, 9)\n",
      "# fSignalPol.SetParLimits(0,0,100);\n",
      "\n",
      "resultPol = LxySig_distribution_fit(final_region_dist, control_region_dist, fSignalPol, fControlPol)\n",
      "\n",
      "print_chi2(fSignalPol, fControlPol)"
     ],
     "language": "python",
     "metadata": {},
     "outputs": [
      {
       "output_type": "stream",
       "stream": "stdout",
       "text": [
        "Chi2/ndf signal region = 6.65874868129/10 = 0.665874868129\n",
        "Chi2/ndf control region = 21.6418957826/11 = 1.96744507115\n",
        "\n",
        " FCN=21.6419 FROM MIGRAD    STATUS=CONVERGED      12 CALLS          13 TOTAL\n",
        "                     EDM=2.81414e-15    STRATEGY= 1      ERROR MATRIX ACCURATE \n",
        "  EXT PARAMETER                                   STEP         FIRST   \n",
        "  NO.   NAME      VALUE            ERROR          SIZE      DERIVATIVE \n",
        "   1  p0           1.61089e+02   1.90697e+01   4.43064e-02   3.93408e-09\n",
        " FCN=6.65875 FROM MIGRAD    STATUS=CONVERGED      12 CALLS          13 TOTAL\n",
        "                     EDM=3.19313e-16    STRATEGY= 1      ERROR MATRIX ACCURATE \n",
        "  EXT PARAMETER                                   STEP         FIRST   \n",
        "  NO.   NAME      VALUE            ERROR          SIZE      DERIVATIVE \n",
        "   1  p0           1.39193e+02   1.80692e+01   2.44165e-02   1.39857e-09\n",
        "\n"
       ]
      },
      {
       "output_type": "stream",
       "stream": "stderr",
       "text": [
        "TCanvas::Constructor:0: RuntimeWarning: Deleting canvas with same name: \n"
       ]
      }
     ],
     "prompt_number": 12
    },
    {
     "cell_type": "code",
     "collapsed": false,
     "input": [
      "resultPol[0].SaveAs(\"No_MET_track_rejection_removed_d0_greater_4_bckg_estimation_LxySig_different_function_fitPol\"+postfix+\".pdf\")\n",
      "resultPol[0]"
     ],
     "language": "python",
     "metadata": {},
     "outputs": [
      {
       "metadata": {},
       "output_type": "pyout",
       "png": "[encoded data removed]",
       "prompt_number": 13,
       "text": [
        "<ROOT.TCanvas object at 0x7f9a49a63f50>"
       ]
      }
     ],
     "prompt_number": 13
    },
    {
     "cell_type": "code",
     "collapsed": false,
     "input": [
      "estimate_systematic(fSignalPol, signal_integral, fControlPol, control_integral)"
     ],
     "language": "python",
     "metadata": {},
     "outputs": [
      {
       "output_type": "stream",
       "stream": "stdout",
       "text": [
        "Events from fit in signal region for 3 < lxy/sigma < 9 = 30.9317662201\n",
        "Events from fit in control region for 3 < lxy/sigma < 9 = 35.7975678481\n",
        "Events from fit in signal region for lxy/sigma > 12 = 11.5854930377\n",
        "Events from fit in control region for lxy/sigma > 12 = 13.4079790375\n",
        "Systematic from original fit = 0.135925480989\n",
        "\n",
        "Observed events in signal region in the range [3;9] = 3.0\n",
        "Observed events in control region in the range [3;9] = 3.0\n",
        "\n",
        "scale factor signal region = 0.0969876721119\n",
        "scale factor control region = 0.0838045761301\n",
        "\n",
        "background in signal region = 1.12365\n",
        "background in control region = 1.12365\n",
        "\n",
        "systematic = 4.4408920985e-16\n"
       ]
      }
     ],
     "prompt_number": 14
    },
    {
     "cell_type": "heading",
     "level": 2,
     "metadata": {},
     "source": [
      "Polynomial Fit - Full Range"
     ]
    },
    {
     "cell_type": "code",
     "collapsed": false,
     "input": [
      "%%rootprint\n",
      "fControlPolExt = TF1(\"fControlPolExt\",\"[0]*1/(x*x)\", 3, 40)\n",
      "# fControlPolExt.SetParLimits(0,0,100);\n",
      "\n",
      "resultPolExt = LxySig_distribution_fit(final_region_dist, control_region_dist, fSignalPol, fControlPolExt)\n",
      "\n",
      "print_chi2(fSignalPol, fControlPolExt)"
     ],
     "language": "python",
     "metadata": {},
     "outputs": [
      {
       "output_type": "stream",
       "stream": "stdout",
       "text": [
        "Chi2/ndf signal region = 6.65874868129/10 = 0.665874868129\n",
        "Chi2/ndf control region = 26.0082596719/26 = 1.00031767969\n",
        "\n",
        " FCN=26.0083 FROM MIGRAD    STATUS=CONVERGED      12 CALLS          13 TOTAL\n",
        "                     EDM=5.91894e-15    STRATEGY= 1      ERROR MATRIX ACCURATE \n",
        "  EXT PARAMETER                                   STEP         FIRST   \n",
        "  NO.   NAME      VALUE            ERROR          SIZE      DERIVATIVE \n",
        "   1  p0           1.64452e+02   1.75314e+01   4.44868e-02  -6.20611e-09\n",
        " FCN=6.65875 FROM MIGRAD    STATUS=CONVERGED      12 CALLS          13 TOTAL\n",
        "                     EDM=5.40029e-24    STRATEGY= 1      ERROR MATRIX ACCURATE \n",
        "  EXT PARAMETER                                   STEP         FIRST   \n",
        "  NO.   NAME      VALUE            ERROR          SIZE      DERIVATIVE \n",
        "   1  p0           1.39193e+02   1.80692e+01   2.44166e-02   1.81880e-13\n",
        "\n"
       ]
      },
      {
       "output_type": "stream",
       "stream": "stderr",
       "text": [
        "TCanvas::Constructor:0: RuntimeWarning: Deleting canvas with same name: \n"
       ]
      }
     ],
     "prompt_number": 15
    },
    {
     "cell_type": "code",
     "collapsed": false,
     "input": [
      "resultPolExt[0].SaveAs(\"No_MET_track_rejection_removed_d0_greater_4_bckg_estimation_LxySig_different_function_fitPolExt\"+postfix+\".pdf\")\n",
      "resultPolExt[0]"
     ],
     "language": "python",
     "metadata": {},
     "outputs": [
      {
       "metadata": {},
       "output_type": "pyout",
       "png": "[encoded data removed]",
       "prompt_number": 16,
       "text": [
        "<ROOT.TCanvas object at 0x7f9a49459030>"
       ]
      }
     ],
     "prompt_number": 16
    },
    {
     "cell_type": "code",
     "collapsed": false,
     "input": [
      "estimate_systematic(fSignalPol, signal_integral, fControlPolExt, control_integral)"
     ],
     "language": "python",
     "metadata": {},
     "outputs": [
      {
       "output_type": "stream",
       "stream": "stdout",
       "text": [
        "Events from fit in signal region for 3 < lxy/sigma < 9 = 30.9317661694\n",
        "Events from fit in control region for 3 < lxy/sigma < 9 = 36.5448029855\n",
        "Events from fit in signal region for lxy/sigma > 12 = 11.5854930187\n",
        "Events from fit in control region for lxy/sigma > 12 = 13.6878559582\n",
        "Systematic from original fit = 0.153593298022\n",
        "\n",
        "Observed events in signal region in the range [3;9] = 3.0\n",
        "Observed events in control region in the range [3;9] = 3.0\n",
        "\n",
        "scale factor signal region = 0.096987672271\n",
        "scale factor control region = 0.0820910158194\n",
        "\n",
        "background in signal region = 1.12365\n",
        "background in control region = 1.12365\n",
        "\n",
        "systematic = 2.22044604925e-16\n"
       ]
      }
     ],
     "prompt_number": 17
    },
    {
     "cell_type": "markdown",
     "metadata": {},
     "source": [
      "By construction when using a function of the form $a/x^{n}$ and forcing to rescale the background to the same number in the range 3-9 the systematic will be 0. In this case, we instead take the systematic as the difference in the estimated background from the fitted function before rescaling (i.e. in the relaxed cut fit)."
     ]
    },
    {
     "cell_type": "code",
     "collapsed": false,
     "input": [
      "signal_region_dist = result[3]\n",
      "control_region_dist = result[1]\n",
      "signal_count = signal_region_dist.Integral(signal_region_dist.FindBin(3), signal_region_dist.FindBin(9))\n",
      "control_count = control_region_dist.Integral(control_region_dist.FindBin(3), control_region_dist.FindBin(9))\n",
      "print \"Events from count in signal region for 3 < lxy/sigma < 9 =\", signal_count\n",
      "print \"Events from count in control region for 3 < lxy/sigma < 9 =\", control_count\n",
      "print\n",
      "print \"Systematic from count in 3 < lxy/sigma < 9 =\", abs(1 - signal_count/control_count)"
     ],
     "language": "python",
     "metadata": {},
     "outputs": [
      {
       "output_type": "stream",
       "stream": "stdout",
       "text": [
        "Events from count in signal region for 3 < lxy/sigma < 9 = 66.0\n",
        "Events from count in control region for 3 < lxy/sigma < 9 = 95.0\n",
        "\n",
        "Systematic from count in 3 < lxy/sigma < 9 = 0.305263157895\n"
       ]
      }
     ],
     "prompt_number": 18
    },
    {
     "cell_type": "heading",
     "level": 2,
     "metadata": {},
     "source": [
      "From Cumulative Tail Distribution"
     ]
    },
    {
     "cell_type": "markdown",
     "metadata": {},
     "source": [
      "We take the maximum deviation from 1 in the cumulative tail distribution of $L_{xy}/\\sigma > x$ for $x$ in the range 0-9."
     ]
    },
    {
     "cell_type": "code",
     "collapsed": false,
     "input": [
      "def fill_cumulative_distribution(final_region_dist, upper_limit):\n",
      "    last_bin = final_region_dist.FindBin(upper_limit)\n",
      "    signal_cumulative_tail = TH1F(\"signal_cumulative_tail\", \"signal_cumulative_tail\", last_bin, 0, upper_limit)\n",
      "    for x in range(0, last_bin):\n",
      "        signal_cumulative_tail.SetBinContent(x, final_region_dist.Integral(x, last_bin))\n",
      "    return signal_cumulative_tail"
     ],
     "language": "python",
     "metadata": {},
     "outputs": [],
     "prompt_number": 19
    },
    {
     "cell_type": "code",
     "collapsed": false,
     "input": [
      "signal_cumulative_tail = fill_cumulative_distribution(final_region_dist, 9)\n",
      "control_cumulative_tail = fill_cumulative_distribution(control_region_dist, 9)\n",
      "signal_cumulative_tail.Sumw2\n",
      "control_cumulative_tail.Sumw2\n",
      "\n",
      "cumulative_ratio = signal_cumulative_tail.Clone(\"cumulative_ratio\")\n",
      "for x in range(0, signal_cumulative_tail.GetNbinsX()):\n",
      "    signal_bin_content = signal_cumulative_tail.GetBinContent(x)\n",
      "    control_bin_content = control_cumulative_tail.GetBinContent(x)\n",
      "    if control_bin_content != 0 and signal_bin_content != 0:\n",
      "        cumulative_ratio.SetBinContent(x, abs(1 - signal_bin_content/control_bin_content))\n",
      "    else:\n",
      "        cumulative_ratio.SetBinContent(x, 0)\n",
      "\n",
      "c_cumulative = TCanvas(\"c_cumulative\", \"c_cumulative\", 800, 400)\n",
      "c_cumulative.Divide(2, 1)\n",
      "c_cumulative.cd(1)\n",
      "signal_cumulative_tail.Draw(\"E\")\n",
      "signal_cumulative_tail.GetXaxis().SetTitle(\"L_{xy}/#sigma_{L_{xy}}\")\n",
      "signal_cumulative_tail.GetYaxis().SetTitle(\"Number of events with x < L_{xy}/#sigma_{L_{xy}} < 9\")\n",
      "signal_cumulative_tail.SetMarkerStyle(22)\n",
      "signal_cumulative_tail.GetYaxis().SetRangeUser(0, 200)\n",
      "control_cumulative_tail.Draw(\"ESame\")\n",
      "control_cumulative_tail.SetMarkerStyle(21)\n",
      "leg = TLegend(0.5,0.7,0.85,0.9)\n",
      "leg.SetFillColor(0)\n",
      "leg.SetBorderSize(0)\n",
      "leg.AddEntry(signal_cumulative_tail,\"Signal region\",\"lp\");\n",
      "leg.AddEntry(control_cumulative_tail,\"Control region\",\"lp\");\n",
      "leg.Draw(\"same\")\n",
      "c_cumulative.cd(2)\n",
      "cumulative_ratio.Draw()\n",
      "cumulative_ratio.GetXaxis().SetTitle(\"L_{xy}/#sigma_{L_{xy}}\")\n",
      "cumulative_ratio.GetYaxis().SetTitle(\"|1-signal/background|\")\n",
      "c_cumulative.SaveAs(\"CumulativeSyst\"+postfix+\".pdf\")\n",
      "c_cumulative"
     ],
     "language": "python",
     "metadata": {},
     "outputs": [
      {
       "output_type": "stream",
       "stream": "stderr",
       "text": [
        "TFile::Append:0: RuntimeWarning: Replacing existing TH1: signal_cumulative_tail (Potential memory leak).\n",
        "TFile::Append:0: RuntimeWarning: Replacing existing TH1: signal_cumulative_tail (Potential memory leak).\n",
        "TCanvas::Constructor:0: RuntimeWarning: Deleting canvas with same name: c_cumulative\n"
       ]
      },
      {
       "metadata": {},
       "output_type": "pyout",
       "png": "[encoded data removed]",
       "prompt_number": 43,
       "text": [
        "<ROOT.TCanvas object (\"c_cumulative\") at 0x7f9a4954cf10>"
       ]
      }
     ],
     "prompt_number": 43
    },
    {
     "cell_type": "code",
     "collapsed": false,
     "input": [
      "cumulative_ratio.GetMaximum()"
     ],
     "language": "python",
     "metadata": {},
     "outputs": [
      {
       "metadata": {},
       "output_type": "pyout",
       "prompt_number": 21,
       "text": [
        "0.5833333134651184"
       ]
      }
     ],
     "prompt_number": 21
    },
    {
     "cell_type": "code",
     "collapsed": false,
     "input": [],
     "language": "python",
     "metadata": {},
     "outputs": [],
     "prompt_number": 21
    }
   ],
   "metadata": {}
  }
 ]
}