{
 "metadata": {
  "name": "",
  "signature": "sha256:322378fa04c8d1113770ac41d483319987434e2c909583d4bab101049acdf5a2"
 },
 "nbformat": 3,
 "nbformat_minor": 0,
 "worksheets": [
  {
   "cells": [
    {
     "cell_type": "raw",
     "metadata": {},
     "source": [
      "import os\n",
      "import rootnotes\n",
      "import rootprint\n",
      "import ROOT\n",
      "from ROOT import TFile, TCanvas"
     ]
    },
    {
     "cell_type": "code",
     "collapsed": false,
     "input": [
      "ROOT.gStyle.SetOptStat(0000000)\n",
      "ROOT.gStyle.SetPadLeftMargin(0.12)\n",
      "ROOT.gStyle.SetPadRightMargin(0.12)\n",
      "ROOT.gStyle.SetPadTopMargin(0.12)\n",
      "ROOT.gStyle.SetPadBottomMargin(0.12)"
     ],
     "language": "python",
     "metadata": {},
     "outputs": [],
     "prompt_number": 2
    },
    {
     "cell_type": "code",
     "collapsed": false,
     "input": [
      "def saveToPdf(input_file, h_name, x_title = \"p_{T} [GeV/c]\", y_title = \"Entries\", draw_options = \"\"):\n",
      "    c = TCanvas(h_name+\"_canvas\", h_name+\"_canvas\", 400, 400)\n",
      "    h = input_file.Get(h_name)\n",
      "    # Ugly workaround to make the palette draw properly and accessible\n",
      "    if draw_options == \"COLZ\":\n",
      "        h.Draw()\n",
      "        c.Update()\n",
      "        h.Draw(draw_options)\n",
      "        c.Update()\n",
      "        h.Draw(draw_options)\n",
      "    else:\n",
      "        h.Draw(draw_options)\n",
      "    h.SetTitle(\"\")\n",
      "    h.GetXaxis().SetTitle(x_title)\n",
      "    h.GetXaxis().SetTitleOffset(1.4)\n",
      "    h.GetXaxis().SetLabelSize(0.035)\n",
      "    h.GetXaxis().SetTitleSize(0.035)\n",
      "    h.GetYaxis().SetTitle(y_title)\n",
      "    h.GetYaxis().SetTitleOffset(1.4)\n",
      "    h.GetYaxis().SetTitleSize(0.035)\n",
      "    h.GetYaxis().SetLabelSize(0.035)\n",
      "    if draw_options == \"COLZ\":\n",
      "        pal = h.GetListOfFunctions().FindObject(\"palette\")\n",
      "        if pal:\n",
      "            pal.GetAxis().SetLabelSize(0.035)\n",
      "            pal.GetAxis().SetTitleSize(0.035)\n",
      "            # pal.GetAxis().SetTitleOffset(1.4)\n",
      "            pal.GetAxis().SetTitle(\"Entries\")\n",
      "    c.Update()\n",
      "    return h, c"
     ],
     "language": "python",
     "metadata": {},
     "outputs": [],
     "prompt_number": 3
    },
    {
     "cell_type": "code",
     "collapsed": false,
     "input": [
      "def get_plots(input_file):\n",
      "    hc = dict()\n",
      "    hc[\"MuonPtLow\"] = saveToPdf(input_file, \"MuonPtLow\", x_title = \"p_{T} [cm]\")\n",
      "    hc[\"MuonPtHigh\"] = saveToPdf(input_file, \"MuonPtHigh\", x_title = \"p_{T} [cm]\")\n",
      "    hc[\"genPtLow\"] = saveToPdf(input_file, \"genPtLow\", x_title = \"p_{T} [cm]\")\n",
      "    hc[\"genPtHigh\"] = saveToPdf(input_file, \"genPtHigh\", x_title = \"p_{T} [cm]\")\n",
      "    return hc"
     ],
     "language": "python",
     "metadata": {},
     "outputs": [],
     "prompt_number": 4
    },
    {
     "cell_type": "code",
     "collapsed": false,
     "input": [
      "input_file = TFile(\"/home/demattia/cmslpc/uscms_data/d3/demattia/NewStandAloneMuonAlgo/PullRequest/RecoStudy/SingleMuPt1000_RECO/TriggerEfficiencyPlots.root\")\n",
      "hc = get_plots(input_file)\n",
      "\n",
      "\n",
      "input_file_doSeedRefit_1 = TFile(\"/home/demattia/cmslpc/uscms_data/d3/demattia/NewStandAloneMuonAlgo/PullRequest/RecoStudy/SingleMuPt1000_RERECO_doSeedRefit_1_v1/TriggerEfficiencyPlots.root\")\n",
      "hc_doSeedRefit_1 = get_plots(input_file_doSeedRefit_1)\n",
      "input_file_doSeedRefit_3 = TFile(\"/home/demattia/cmslpc/uscms_data/d3/demattia/NewStandAloneMuonAlgo/PullRequest/RecoStudy/SingleMuPt1000_RERECO_doSeedRefit_3_v1/TriggerEfficiencyPlots.root\")\n",
      "hc_doSeedRefit_3 = get_plots(input_file_doSeedRefit_3)\n",
      "input_file_doSeedRefit_5 = TFile(\"/home/demattia/cmslpc/uscms_data/d3/demattia/NewStandAloneMuonAlgo/PullRequest/RecoStudy/SingleMuPt1000_RERECO_doSeedRefit_5_v1/TriggerEfficiencyPlots.root\")\n",
      "hc_doSeedRefit_5 = get_plots(input_file_doSeedRefit_5)\n",
      "\n",
      "\n",
      "input_file_doRefit_1 = TFile(\"/home/demattia/cmslpc/uscms_data/d3/demattia/NewStandAloneMuonAlgo/PullRequest/RecoStudy/SingleMuPt1000_RERECO_doRefit_1_v1/TriggerEfficiencyPlots.root\")\n",
      "hc_doRefit_1 = get_plots(input_file_doRefit_1)\n",
      "input_file_doRefit_3 = TFile(\"/home/demattia/cmslpc/uscms_data/d3/demattia/NewStandAloneMuonAlgo/PullRequest/RecoStudy/SingleMuPt1000_RERECO_doRefit_3_v1/TriggerEfficiencyPlots.root\")\n",
      "hc_doRefit_3 = get_plots(input_file_doRefit_3)\n",
      "input_file_doRefit_5 = TFile(\"/home/demattia/cmslpc/uscms_data/d3/demattia/NewStandAloneMuonAlgo/PullRequest/RecoStudy/SingleMuPt1000_RERECO_doRefit_5_v1/TriggerEfficiencyPlots.root\")\n",
      "hc_doRefit_5 = get_plots(input_file_doRefit_5)\n",
      "\n",
      "input_file_doRefit_doSeedRefit_1 = TFile(\"/home/demattia/cmslpc/uscms_data/d3/demattia/NewStandAloneMuonAlgo/PullRequest/RecoStudy/SingleMuPt1000_RERECO_doRefit_doSeedRefit_1_v1/TriggerEfficiencyPlots.root\")\n",
      "hc_doRefit_doSeedRefit_1 = get_plots(input_file_doRefit_doSeedRefit_1)\n",
      "input_file_doRefit_doSeedRefit_3 = TFile(\"/home/demattia/cmslpc/uscms_data/d3/demattia/NewStandAloneMuonAlgo/PullRequest/RecoStudy/SingleMuPt1000_RERECO_doRefit_doSeedRefit_3_v1/TriggerEfficiencyPlots.root\")\n",
      "hc_doRefit_doSeedRefit_3 = get_plots(input_file_doRefit_doSeedRefit_3)\n",
      "input_file_doRefit_doSeedRefit_5 = TFile(\"/home/demattia/cmslpc/uscms_data/d3/demattia/NewStandAloneMuonAlgo/PullRequest/RecoStudy/SingleMuPt1000_RERECO_doRefit_doSeedRefit_5_v1/TriggerEfficiencyPlots.root\")\n",
      "hc_doRefit_doSeedRefit_5 = get_plots(input_file_doRefit_doSeedRefit_5)\n"
     ],
     "language": "python",
     "metadata": {},
     "outputs": [
      {
       "output_type": "stream",
       "stream": "stderr",
       "text": [
        "TCanvas::Constructor:0: RuntimeWarning: Deleting canvas with same name: MuonPtLow_canvas\n",
        "TCanvas::Constructor:0: RuntimeWarning: Deleting canvas with same name: MuonPtHigh_canvas\n",
        "TCanvas::Constructor:0: RuntimeWarning: Deleting canvas with same name: genPtLow_canvas\n",
        "TCanvas::Constructor:0: RuntimeWarning: Deleting canvas with same name: genPtHigh_canvas\n",
        "TCanvas::Constructor:0: RuntimeWarning: Deleting canvas with same name: MuonPtLow_canvas\n"
       ]
      },
      {
       "output_type": "stream",
       "stream": "stderr",
       "text": [
        "TCanvas::Constructor:0: RuntimeWarning: Deleting canvas with same name: MuonPtHigh_canvas\n",
        "TCanvas::Constructor:0: RuntimeWarning: Deleting canvas with same name: genPtLow_canvas\n",
        "TCanvas::Constructor:0: RuntimeWarning: Deleting canvas with same name: genPtHigh_canvas\n",
        "TCanvas::Constructor:0: RuntimeWarning: Deleting canvas with same name: MuonPtLow_canvas\n"
       ]
      },
      {
       "output_type": "stream",
       "stream": "stderr",
       "text": [
        "TCanvas::Constructor:0: RuntimeWarning: Deleting canvas with same name: MuonPtHigh_canvas\n",
        "TCanvas::Constructor:0: RuntimeWarning: Deleting canvas with same name: genPtLow_canvas\n",
        "TCanvas::Constructor:0: RuntimeWarning: Deleting canvas with same name: genPtHigh_canvas\n",
        "TCanvas::Constructor:0: RuntimeWarning: Deleting canvas with same name: MuonPtLow_canvas\n"
       ]
      },
      {
       "output_type": "stream",
       "stream": "stderr",
       "text": [
        "TCanvas::Constructor:0: RuntimeWarning: Deleting canvas with same name: MuonPtHigh_canvas\n",
        "TCanvas::Constructor:0: RuntimeWarning: Deleting canvas with same name: genPtLow_canvas\n",
        "TCanvas::Constructor:0: RuntimeWarning: Deleting canvas with same name: genPtHigh_canvas\n",
        "TCanvas::Constructor:0: RuntimeWarning: Deleting canvas with same name: MuonPtLow_canvas\n"
       ]
      },
      {
       "output_type": "stream",
       "stream": "stderr",
       "text": [
        "TCanvas::Constructor:0: RuntimeWarning: Deleting canvas with same name: MuonPtHigh_canvas\n",
        "TCanvas::Constructor:0: RuntimeWarning: Deleting canvas with same name: genPtLow_canvas\n",
        "TCanvas::Constructor:0: RuntimeWarning: Deleting canvas with same name: genPtHigh_canvas\n",
        "TCanvas::Constructor:0: RuntimeWarning: Deleting canvas with same name: MuonPtLow_canvas\n"
       ]
      },
      {
       "output_type": "stream",
       "stream": "stderr",
       "text": [
        "TCanvas::Constructor:0: RuntimeWarning: Deleting canvas with same name: MuonPtHigh_canvas\n",
        "TCanvas::Constructor:0: RuntimeWarning: Deleting canvas with same name: genPtLow_canvas\n",
        "TCanvas::Constructor:0: RuntimeWarning: Deleting canvas with same name: genPtHigh_canvas\n",
        "TCanvas::Constructor:0: RuntimeWarning: Deleting canvas with same name: MuonPtLow_canvas\n"
       ]
      },
      {
       "output_type": "stream",
       "stream": "stderr",
       "text": [
        "TCanvas::Constructor:0: RuntimeWarning: Deleting canvas with same name: MuonPtHigh_canvas\n",
        "TCanvas::Constructor:0: RuntimeWarning: Deleting canvas with same name: genPtLow_canvas\n",
        "TCanvas::Constructor:0: RuntimeWarning: Deleting canvas with same name: genPtHigh_canvas\n",
        "TCanvas::Constructor:0: RuntimeWarning: Deleting canvas with same name: MuonPtLow_canvas\n"
       ]
      },
      {
       "output_type": "stream",
       "stream": "stderr",
       "text": [
        "TCanvas::Constructor:0: RuntimeWarning: Deleting canvas with same name: MuonPtHigh_canvas\n",
        "TCanvas::Constructor:0: RuntimeWarning: Deleting canvas with same name: genPtLow_canvas\n",
        "TCanvas::Constructor:0: RuntimeWarning: Deleting canvas with same name: genPtHigh_canvas\n",
        "TCanvas::Constructor:0: RuntimeWarning: Deleting canvas with same name: MuonPtLow_canvas\n"
       ]
      },
      {
       "output_type": "stream",
       "stream": "stderr",
       "text": [
        "TCanvas::Constructor:0: RuntimeWarning: Deleting canvas with same name: MuonPtHigh_canvas\n",
        "TCanvas::Constructor:0: RuntimeWarning: Deleting canvas with same name: genPtLow_canvas\n",
        "TCanvas::Constructor:0: RuntimeWarning: Deleting canvas with same name: genPtHigh_canvas\n"
       ]
      }
     ],
     "prompt_number": 5
    },
    {
     "cell_type": "code",
     "collapsed": false,
     "input": [
      "print \"---- Original ----\"\n",
      "print\n",
      "print \"Efficiency for high pt muon =\", hc[\"MuonPtHigh\"][0].GetEntries()/hc[\"genPtHigh\"][0].GetEntries()\n",
      "print \"Efficiency for low pt muon =\", hc[\"MuonPtLow\"][0].GetEntries()/hc[\"genPtLow\"][0].GetEntries()\n",
      "print\n",
      "print \"---- Seed Refit ----\"\n",
      "print\n",
      "print \"DoSeedRefit with 1 iteration\"\n",
      "print \"Efficiency for high pt muon =\", hc_doSeedRefit_1[\"MuonPtHigh\"][0].GetEntries()/hc_doSeedRefit_1[\"genPtHigh\"][0].GetEntries()\n",
      "print \"Efficiency for low pt muon =\", hc_doSeedRefit_1[\"MuonPtLow\"][0].GetEntries()/hc_doSeedRefit_1[\"genPtLow\"][0].GetEntries()\n",
      "print\n",
      "print \"DoSeedRefit with 3 iterations\"\n",
      "print \"Efficiency for high pt muon =\", hc_doSeedRefit_3[\"MuonPtHigh\"][0].GetEntries()/hc_doSeedRefit_3[\"genPtHigh\"][0].GetEntries()\n",
      "print \"Efficiency for low pt muon =\", hc_doSeedRefit_3[\"MuonPtLow\"][0].GetEntries()/hc_doSeedRefit_3[\"genPtLow\"][0].GetEntries()\n",
      "print\n",
      "print \"DoSeedRefit with 5 iterations\"\n",
      "print \"Efficiency for high pt muon =\", hc_doSeedRefit_5[\"MuonPtHigh\"][0].GetEntries()/hc_doSeedRefit_5[\"genPtHigh\"][0].GetEntries()\n",
      "print \"Efficiency for low pt muon =\", hc_doSeedRefit_5[\"MuonPtLow\"][0].GetEntries()/hc_doSeedRefit_5[\"genPtLow\"][0].GetEntries()\n",
      "print\n",
      "print \"---- Track Refit ----\"\n",
      "print\n",
      "print \"DoRefit with 1 iteration\"\n",
      "print \"Efficiency for high pt muon =\", hc_doRefit_1[\"MuonPtHigh\"][0].GetEntries()/hc_doRefit_1[\"genPtHigh\"][0].GetEntries()\n",
      "print \"Efficiency for low pt muon =\", hc_doRefit_1[\"MuonPtLow\"][0].GetEntries()/hc_doRefit_1[\"genPtLow\"][0].GetEntries()\n",
      "print\n",
      "print \"DoRefit with 3 iterations\"\n",
      "print \"Efficiency for high pt muon =\", hc_doRefit_3[\"MuonPtHigh\"][0].GetEntries()/hc_doRefit_3[\"genPtHigh\"][0].GetEntries()\n",
      "print \"Efficiency for low pt muon =\", hc_doRefit_3[\"MuonPtLow\"][0].GetEntries()/hc_doRefit_3[\"genPtLow\"][0].GetEntries()\n",
      "print\n",
      "print \"DoRefit with 5 iterations\"\n",
      "print \"Efficiency for high pt muon =\", hc_doRefit_5[\"MuonPtHigh\"][0].GetEntries()/hc_doRefit_5[\"genPtHigh\"][0].GetEntries()\n",
      "print \"Efficiency for low pt muon =\", hc_doRefit_5[\"MuonPtLow\"][0].GetEntries()/hc_doRefit_5[\"genPtLow\"][0].GetEntries()\n",
      "print\n",
      "print \"---- Seed Refit and Track Refit ----\"\n",
      "print\n",
      "print \"DoSeedRefit and DoRefit with 1 iteration\"\n",
      "print \"Efficiency for high pt muon =\", hc_doRefit_doSeedRefit_1[\"MuonPtHigh\"][0].GetEntries()/hc_doRefit_doSeedRefit_1[\"genPtHigh\"][0].GetEntries()\n",
      "print \"Efficiency for low pt muon =\", hc_doRefit_doSeedRefit_1[\"MuonPtLow\"][0].GetEntries()/hc_doRefit_doSeedRefit_1[\"genPtLow\"][0].GetEntries()\n",
      "print\n",
      "print \"DoSeedRefit and DoRefit with 3 iterations\"\n",
      "print \"Efficiency for high pt muon =\", hc_doRefit_doSeedRefit_3[\"MuonPtHigh\"][0].GetEntries()/hc_doRefit_doSeedRefit_3[\"genPtHigh\"][0].GetEntries()\n",
      "print \"Efficiency for low pt muon =\", hc_doRefit_doSeedRefit_3[\"MuonPtLow\"][0].GetEntries()/hc_doRefit_doSeedRefit_3[\"genPtLow\"][0].GetEntries()\n",
      "print\n",
      "print \"DoSeedRefit and DoRefit with 5 iterations\"\n",
      "print \"Efficiency for high pt muon =\", hc_doRefit_doSeedRefit_5[\"MuonPtHigh\"][0].GetEntries()/hc_doRefit_doSeedRefit_5[\"genPtHigh\"][0].GetEntries()\n",
      "print \"Efficiency for low pt muon =\", hc_doRefit_doSeedRefit_5[\"MuonPtLow\"][0].GetEntries()/hc_doRefit_doSeedRefit_5[\"genPtLow\"][0].GetEntries()\n"
     ],
     "language": "python",
     "metadata": {},
     "outputs": [
      {
       "output_type": "stream",
       "stream": "stdout",
       "text": [
        "---- Original ----\n",
        "\n",
        "Efficiency for high pt muon = 0.90169\n",
        "Efficiency for low pt muon = 0.90008\n",
        "\n",
        "---- Seed Refit ----\n",
        "\n",
        "DoSeedRefit with 1 iteration\n",
        "Efficiency for high pt muon = 0.90169\n",
        "Efficiency for low pt muon = 0.90008\n",
        "\n",
        "DoSeedRefit with 3 iterations\n",
        "Efficiency for high pt muon = 0.90169\n",
        "Efficiency for low pt muon = 0.90008\n",
        "\n",
        "DoSeedRefit with 5 iterations\n",
        "Efficiency for high pt muon = 0.90169\n",
        "Efficiency for low pt muon = 0.90008\n",
        "\n",
        "---- Track Refit ----\n",
        "\n",
        "DoRefit with 1 iteration\n",
        "Efficiency for high pt muon = 0.86429\n",
        "Efficiency for low pt muon = 0.8626\n",
        "\n",
        "DoRefit with 3 iterations\n",
        "Efficiency for high pt muon = 0.845849246231\n",
        "Efficiency for low pt muon = 0.844422110553\n",
        "\n",
        "DoRefit with 5 iterations\n",
        "Efficiency for high pt muon = 0.84325\n",
        "Efficiency for low pt muon = 0.84161\n",
        "\n",
        "---- Seed Refit and Track Refit ----\n",
        "\n",
        "DoSeedRefit and DoRefit with 1 iteration\n",
        "Efficiency for high pt muon = 0.86429\n",
        "Efficiency for low pt muon = 0.8626\n",
        "\n",
        "DoSeedRefit and DoRefit with 3 iterations\n",
        "Efficiency for high pt muon = 0.84578\n",
        "Efficiency for low pt muon = 0.84437\n",
        "\n",
        "DoSeedRefit and DoRefit with 5 iterations\n",
        "Efficiency for high pt muon = 0.84325\n",
        "Efficiency for low pt muon = 0.84168\n"
       ]
      }
     ],
     "prompt_number": 6
    },
    {
     "cell_type": "raw",
     "metadata": {},
     "source": [
      "# Original\n",
      "Total matches = 98837\n",
      "Charge matches = 95977\n",
      "Charge match efficiency = 0.971063468134\n",
      "\n",
      "\n",
      "# doRefit_1\n",
      "Total matches = 95583\n",
      "Charge matches = 88673\n",
      "Charge match efficiency = 0.927706809788\n",
      "\n",
      "# doRefit_3\n",
      "Total matches = 95738\n",
      "Charge matches = 88837\n",
      "Charge match efficiency = 0.927917859157\n",
      "\n",
      "# doRefit_5\n",
      "Total matches = 95583\n",
      "Charge matches = 88673\n",
      "Charge match efficiency = 0.927706809788\n",
      "\n",
      "\n",
      "# doSeedRefit_1\n",
      "Total matches = 98837\n",
      "Charge matches = 95977\n",
      "Charge match efficiency = 0.971063468134\n",
      "\n",
      "# doSeedRefit_3\n",
      "Total matches = 98837\n",
      "Charge matches = 95977\n",
      "Charge match efficiency = 0.971063468134\n",
      "\n",
      "# doSeedRefit_5\n",
      "Total matches = 98837\n",
      "Charge matches = 95977\n",
      "Charge match efficiency = 0.971063468134\n",
      "\n",
      "\n",
      "# doRefit_doSeedRefit_1\n",
      "Total matches = 96788\n",
      "Charge matches = 89813\n",
      "Charge match efficiency = 0.927935281233\n",
      "\n",
      "# doRefit_doSeedRefit_3\n",
      "Total matches = 95739\n",
      "Charge matches = 88838\n",
      "Charge match efficiency = 0.92791861206\n",
      "\n",
      "# doRefit_doSeedRefit_5\n",
      "Total matches = 96788\n",
      "Charge matches = 89813\n",
      "Charge match efficiency = 0.927935281233"
     ]
    },
    {
     "cell_type": "markdown",
     "metadata": {},
     "source": [
      "The refit does not seem to improve things for prompt muons. However, the seed refit seems to improve charge assignment significantly and it does not loose any efficiency, while the refit looses some efficiency."
     ]
    },
    {
     "cell_type": "heading",
     "level": 2,
     "metadata": {},
     "source": [
      "Global Muons"
     ]
    },
    {
     "cell_type": "code",
     "collapsed": false,
     "input": [
      "# input_file = TFile(\"/home/demattia/cmslpc/uscms_data/d3/demattia/NewStandAloneMuonAlgo/PullRequest/RecoStudy/SingleMuPt1000_RECO/GlobalMuons/TriggerEfficiencyPlots.root\")\n",
      "# hc = get_plots(input_file)\n",
      "\n",
      "\n",
      "input_file_doSeedRefit_1 = TFile(\"/home/demattia/cmslpc/uscms_data/d3/demattia/NewStandAloneMuonAlgo/PullRequest/RecoStudy/SingleMuPt1000_RERECO_doSeedRefit_1_v1/GlobalMuons/TriggerEfficiencyPlots.root\")\n",
      "hc_doSeedRefit_1 = get_plots(input_file_doSeedRefit_1)\n",
      "input_file_doSeedRefit_3 = TFile(\"/home/demattia/cmslpc/uscms_data/d3/demattia/NewStandAloneMuonAlgo/PullRequest/RecoStudy/SingleMuPt1000_RERECO_doSeedRefit_3_v1/GlobalMuons/TriggerEfficiencyPlots.root\")\n",
      "hc_doSeedRefit_3 = get_plots(input_file_doSeedRefit_3)\n",
      "input_file_doSeedRefit_5 = TFile(\"/home/demattia/cmslpc/uscms_data/d3/demattia/NewStandAloneMuonAlgo/PullRequest/RecoStudy/SingleMuPt1000_RERECO_doSeedRefit_5_v1/GlobalMuons/TriggerEfficiencyPlots.root\")\n",
      "hc_doSeedRefit_5 = get_plots(input_file_doSeedRefit_5)\n",
      "\n",
      "\n",
      "input_file_doRefit_1 = TFile(\"/home/demattia/cmslpc/uscms_data/d3/demattia/NewStandAloneMuonAlgo/PullRequest/RecoStudy/SingleMuPt1000_RERECO_doRefit_1_v1/GlobalMuons/TriggerEfficiencyPlots.root\")\n",
      "hc_doRefit_1 = get_plots(input_file_doRefit_1)\n",
      "input_file_doRefit_3 = TFile(\"/home/demattia/cmslpc/uscms_data/d3/demattia/NewStandAloneMuonAlgo/PullRequest/RecoStudy/SingleMuPt1000_RERECO_doRefit_3_v1/GlobalMuons/TriggerEfficiencyPlots.root\")\n",
      "hc_doRefit_3 = get_plots(input_file_doRefit_3)\n",
      "input_file_doRefit_5 = TFile(\"/home/demattia/cmslpc/uscms_data/d3/demattia/NewStandAloneMuonAlgo/PullRequest/RecoStudy/SingleMuPt1000_RERECO_doRefit_5_v1/GlobalMuons/TriggerEfficiencyPlots.root\")\n",
      "hc_doRefit_5 = get_plots(input_file_doRefit_5)\n",
      "\n",
      "\n",
      "input_file_doRefit_doSeedRefit_1 = TFile(\"/home/demattia/cmslpc/uscms_data/d3/demattia/NewStandAloneMuonAlgo/PullRequest/RecoStudy/SingleMuPt1000_RERECO_doRefit_doSeedRefit_1_v1/GlobalMuons/TriggerEfficiencyPlots.root\")\n",
      "hc_doRefit_doSeedRefit_1 = get_plots(input_file_doRefit_doSeedRefit_1)\n",
      "input_file_doRefit_doSeedRefit_3 = TFile(\"/home/demattia/cmslpc/uscms_data/d3/demattia/NewStandAloneMuonAlgo/PullRequest/RecoStudy/SingleMuPt1000_RERECO_doRefit_doSeedRefit_3_v1/GlobalMuons/TriggerEfficiencyPlots.root\")\n",
      "hc_doRefit_doSeedRefit_3 = get_plots(input_file_doRefit_doSeedRefit_3)\n",
      "input_file_doRefit_doSeedRefit_5 = TFile(\"/home/demattia/cmslpc/uscms_data/d3/demattia/NewStandAloneMuonAlgo/PullRequest/RecoStudy/SingleMuPt1000_RERECO_doRefit_doSeedRefit_5_v1/GlobalMuons/TriggerEfficiencyPlots.root\")\n",
      "hc_doRefit_doSeedRefit_5 = get_plots(input_file_doRefit_doSeedRefit_5)\n"
     ],
     "language": "python",
     "metadata": {},
     "outputs": [
      {
       "output_type": "stream",
       "stream": "stderr",
       "text": [
        "TCanvas::Constructor:0: RuntimeWarning: Deleting canvas with same name: MuonPtLow_canvas\n",
        "TCanvas::Constructor:0: RuntimeWarning: Deleting canvas with same name: MuonPtHigh_canvas\n",
        "TCanvas::Constructor:0: RuntimeWarning: Deleting canvas with same name: genPtLow_canvas\n",
        "TCanvas::Constructor:0: RuntimeWarning: Deleting canvas with same name: genPtHigh_canvas\n",
        "TCanvas::Constructor:0: RuntimeWarning: Deleting canvas with same name: MuonPtLow_canvas\n"
       ]
      },
      {
       "output_type": "stream",
       "stream": "stderr",
       "text": [
        "TCanvas::Constructor:0: RuntimeWarning: Deleting canvas with same name: MuonPtHigh_canvas\n",
        "TCanvas::Constructor:0: RuntimeWarning: Deleting canvas with same name: genPtLow_canvas\n",
        "TCanvas::Constructor:0: RuntimeWarning: Deleting canvas with same name: genPtHigh_canvas\n",
        "TCanvas::Constructor:0: RuntimeWarning: Deleting canvas with same name: MuonPtLow_canvas\n"
       ]
      },
      {
       "output_type": "stream",
       "stream": "stderr",
       "text": [
        "TCanvas::Constructor:0: RuntimeWarning: Deleting canvas with same name: MuonPtHigh_canvas\n",
        "TCanvas::Constructor:0: RuntimeWarning: Deleting canvas with same name: genPtLow_canvas\n",
        "TCanvas::Constructor:0: RuntimeWarning: Deleting canvas with same name: genPtHigh_canvas\n",
        "TCanvas::Constructor:0: RuntimeWarning: Deleting canvas with same name: MuonPtLow_canvas\n"
       ]
      },
      {
       "output_type": "stream",
       "stream": "stderr",
       "text": [
        "TCanvas::Constructor:0: RuntimeWarning: Deleting canvas with same name: MuonPtHigh_canvas\n",
        "TCanvas::Constructor:0: RuntimeWarning: Deleting canvas with same name: genPtLow_canvas\n",
        "TCanvas::Constructor:0: RuntimeWarning: Deleting canvas with same name: genPtHigh_canvas\n",
        "TCanvas::Constructor:0: RuntimeWarning: Deleting canvas with same name: MuonPtLow_canvas\n"
       ]
      },
      {
       "output_type": "stream",
       "stream": "stderr",
       "text": [
        "TCanvas::Constructor:0: RuntimeWarning: Deleting canvas with same name: MuonPtHigh_canvas\n",
        "TCanvas::Constructor:0: RuntimeWarning: Deleting canvas with same name: genPtLow_canvas\n",
        "TCanvas::Constructor:0: RuntimeWarning: Deleting canvas with same name: genPtHigh_canvas\n",
        "TCanvas::Constructor:0: RuntimeWarning: Deleting canvas with same name: MuonPtLow_canvas\n"
       ]
      },
      {
       "output_type": "stream",
       "stream": "stderr",
       "text": [
        "TCanvas::Constructor:0: RuntimeWarning: Deleting canvas with same name: MuonPtHigh_canvas\n",
        "TCanvas::Constructor:0: RuntimeWarning: Deleting canvas with same name: genPtLow_canvas\n",
        "TCanvas::Constructor:0: RuntimeWarning: Deleting canvas with same name: genPtHigh_canvas\n",
        "TCanvas::Constructor:0: RuntimeWarning: Deleting canvas with same name: MuonPtLow_canvas\n"
       ]
      },
      {
       "output_type": "stream",
       "stream": "stderr",
       "text": [
        "TCanvas::Constructor:0: RuntimeWarning: Deleting canvas with same name: MuonPtHigh_canvas\n",
        "TCanvas::Constructor:0: RuntimeWarning: Deleting canvas with same name: genPtLow_canvas\n",
        "TCanvas::Constructor:0: RuntimeWarning: Deleting canvas with same name: genPtHigh_canvas\n",
        "TCanvas::Constructor:0: RuntimeWarning: Deleting canvas with same name: MuonPtLow_canvas\n"
       ]
      },
      {
       "output_type": "stream",
       "stream": "stderr",
       "text": [
        "TCanvas::Constructor:0: RuntimeWarning: Deleting canvas with same name: MuonPtHigh_canvas\n",
        "TCanvas::Constructor:0: RuntimeWarning: Deleting canvas with same name: genPtLow_canvas\n",
        "TCanvas::Constructor:0: RuntimeWarning: Deleting canvas with same name: genPtHigh_canvas\n",
        "TCanvas::Constructor:0: RuntimeWarning: Deleting canvas with same name: MuonPtLow_canvas\n"
       ]
      },
      {
       "output_type": "stream",
       "stream": "stderr",
       "text": [
        "TCanvas::Constructor:0: RuntimeWarning: Deleting canvas with same name: MuonPtHigh_canvas\n",
        "TCanvas::Constructor:0: RuntimeWarning: Deleting canvas with same name: genPtLow_canvas\n",
        "TCanvas::Constructor:0: RuntimeWarning: Deleting canvas with same name: genPtHigh_canvas\n"
       ]
      }
     ],
     "prompt_number": 15
    },
    {
     "cell_type": "code",
     "collapsed": false,
     "input": [
      "print \"---- Original ----\"\n",
      "print\n",
      "# print \"Efficiency for high pt muon =\", hc[\"MuonPtHigh\"][0].GetEntries()/hc[\"genPtHigh\"][0].GetEntries()\n",
      "# print \"Efficiency for low pt muon =\", hc[\"MuonPtLow\"][0].GetEntries()/hc[\"genPtLow\"][0].GetEntries()\n",
      "print\n",
      "print \"---- Seed Refit ----\"\n",
      "print\n",
      "print \"DoSeedRefit with 1 iteration\"\n",
      "print \"Efficiency for high pt muon =\", hc_doSeedRefit_1[\"MuonPtHigh\"][0].GetEntries()/hc_doSeedRefit_1[\"genPtHigh\"][0].GetEntries()\n",
      "print \"Efficiency for low pt muon =\", hc_doSeedRefit_1[\"MuonPtLow\"][0].GetEntries()/hc_doSeedRefit_1[\"genPtLow\"][0].GetEntries()\n",
      "print\n",
      "print \"DoSeedRefit with 3 iterations\"\n",
      "# print \"Efficiency for high pt muon =\", hc_doSeedRefit_3[\"MuonPtHigh\"][0].GetEntries()/hc_doSeedRefit_3[\"genPtHigh\"][0].GetEntries()\n",
      "# print \"Efficiency for low pt muon =\", hc_doSeedRefit_3[\"MuonPtLow\"][0].GetEntries()/hc_doSeedRefit_3[\"genPtLow\"][0].GetEntries()\n",
      "print\n",
      "print \"DoSeedRefit with 5 iterations\"\n",
      "# print \"Efficiency for high pt muon =\", hc_doSeedRefit_5[\"MuonPtHigh\"][0].GetEntries()/hc_doSeedRefit_5[\"genPtHigh\"][0].GetEntries()\n",
      "# print \"Efficiency for low pt muon =\", hc_doSeedRefit_5[\"MuonPtLow\"][0].GetEntries()/hc_doSeedRefit_5[\"genPtLow\"][0].GetEntries()\n",
      "print\n",
      "print \"---- Track Refit ----\"\n",
      "print\n",
      "print \"DoRefit with 1 iteration\"\n",
      "print \"Efficiency for high pt muon =\", hc_doRefit_1[\"MuonPtHigh\"][0].GetEntries()/hc_doRefit_1[\"genPtHigh\"][0].GetEntries()\n",
      "print \"Efficiency for low pt muon =\", hc_doRefit_1[\"MuonPtLow\"][0].GetEntries()/hc_doRefit_1[\"genPtLow\"][0].GetEntries()\n",
      "print\n",
      "print \"DoRefit with 3 iterations\"\n",
      "print \"Efficiency for high pt muon =\", hc_doRefit_3[\"MuonPtHigh\"][0].GetEntries()/hc_doRefit_3[\"genPtHigh\"][0].GetEntries()\n",
      "print \"Efficiency for low pt muon =\", hc_doRefit_3[\"MuonPtLow\"][0].GetEntries()/hc_doRefit_3[\"genPtLow\"][0].GetEntries()\n",
      "print\n",
      "print \"DoRefit with 5 iterations\"\n",
      "print \"Efficiency for high pt muon =\", hc_doRefit_5[\"MuonPtHigh\"][0].GetEntries()/hc_doRefit_5[\"genPtHigh\"][0].GetEntries()\n",
      "print \"Efficiency for low pt muon =\", hc_doRefit_5[\"MuonPtLow\"][0].GetEntries()/hc_doRefit_5[\"genPtLow\"][0].GetEntries()\n",
      "print\n",
      "print \"---- Seed Refit and Track Refit ----\"\n",
      "print\n",
      "print \"DoSeedRefit and DoRefit with 1 iteration\"\n",
      "print \"Efficiency for high pt muon =\", hc_doRefit_doSeedRefit_1[\"MuonPtHigh\"][0].GetEntries()/hc_doRefit_doSeedRefit_1[\"genPtHigh\"][0].GetEntries()\n",
      "print \"Efficiency for low pt muon =\", hc_doRefit_doSeedRefit_1[\"MuonPtLow\"][0].GetEntries()/hc_doRefit_doSeedRefit_1[\"genPtLow\"][0].GetEntries()\n",
      "print\n",
      "print \"DoSeedRefit and DoRefit with 3 iterations\"\n",
      "print \"Efficiency for high pt muon =\", hc_doRefit_doSeedRefit_3[\"MuonPtHigh\"][0].GetEntries()/hc_doRefit_doSeedRefit_3[\"genPtHigh\"][0].GetEntries()\n",
      "print \"Efficiency for low pt muon =\", hc_doRefit_doSeedRefit_3[\"MuonPtLow\"][0].GetEntries()/hc_doRefit_doSeedRefit_3[\"genPtLow\"][0].GetEntries()\n",
      "print\n",
      "print \"DoSeedRefit and DoRefit with 5 iterations\"\n",
      "print \"Efficiency for high pt muon =\", hc_doRefit_doSeedRefit_5[\"MuonPtHigh\"][0].GetEntries()/hc_doRefit_doSeedRefit_5[\"genPtHigh\"][0].GetEntries()\n",
      "print \"Efficiency for low pt muon =\", hc_doRefit_doSeedRefit_5[\"MuonPtLow\"][0].GetEntries()/hc_doRefit_doSeedRefit_5[\"genPtLow\"][0].GetEntries()\n"
     ],
     "language": "python",
     "metadata": {},
     "outputs": [
      {
       "output_type": "stream",
       "stream": "stdout",
       "text": [
        " ---- Original ----\n",
        "\n",
        "\n",
        "---- Seed Refit ----\n",
        "\n",
        "DoSeedRefit with 1 iteration\n",
        "Efficiency for high pt muon = 0.95708\n",
        "Efficiency for low pt muon = 0.95679\n",
        "\n",
        "DoSeedRefit with 3 iterations\n",
        "\n",
        "DoSeedRefit with 5 iterations\n",
        "\n",
        "---- Track Refit ----\n",
        "\n",
        "DoRefit with 1 iteration\n",
        "Efficiency for high pt muon = 0.95222\n",
        "Efficiency for low pt muon = 0.9517\n",
        "\n",
        "DoRefit with 3 iterations\n",
        "Efficiency for high pt muon = 0.949798994975\n",
        "Efficiency for low pt muon = 0.949718592965\n",
        "\n",
        "DoRefit with 5 iterations\n",
        "Efficiency for high pt muon = 0.94902\n",
        "Efficiency for low pt muon = 0.94918\n",
        "\n",
        "---- Seed Refit and Track Refit ----\n",
        "\n",
        "DoSeedRefit and DoRefit with 1 iteration\n",
        "Efficiency for high pt muon = 0.95222\n",
        "Efficiency for low pt muon = 0.9517\n",
        "\n",
        "DoSeedRefit and DoRefit with 3 iterations\n",
        "Efficiency for high pt muon = 0.94974\n",
        "Efficiency for low pt muon = 0.94964\n",
        "\n",
        "DoSeedRefit and DoRefit with 5 iterations\n",
        "Efficiency for high pt muon = 0.94903\n",
        "Efficiency for low pt muon = 0.94919\n"
       ]
      }
     ],
     "prompt_number": 17
    },
    {
     "cell_type": "raw",
     "metadata": {},
     "source": [
      "# Original\n",
      "Total matches = 100450\n",
      "Charge matches = 100434\n",
      "Charge match efficiency = 0.999840716775\n",
      "\n",
      "\n",
      "# doRefit_1\n",
      "Total matches = 100279\n",
      "Charge matches = 100264\n",
      "Charge match efficiency = 0.999850417336\n",
      "\n",
      "# doRefit_3\n",
      "Total matches = 100178\n",
      "Charge matches = 100164\n",
      "Charge match efficiency = 0.999860248757\n",
      "\n",
      "# doRefit_5\n",
      "Total matches = 100163\n",
      "Charge matches = 100149\n",
      "Charge match efficiency = 0.999860227829\n",
      "\n",
      "\n",
      "# doSeedRefit_1\n",
      "Total matches = 100450\n",
      "Charge matches = 100434\n",
      "Charge match efficiency = 0.999840716775\n",
      "\n",
      "# doSeedRefit_3\n",
      "Total matches = 100180\n",
      "Charge matches = 100166\n",
      "Charge match efficiency = 0.999860251547\n",
      "\n",
      "# doSeedRefit_5\n",
      "Total matches = 100164\n",
      "Charge matches = 100150\n",
      "Charge match efficiency = 0.999860229224\n",
      "\n",
      "\n",
      "# doRefit_doSeedRefit_1\n",
      "Total matches = 100279\n",
      "Charge matches = 100264\n",
      "Charge match efficiency = 0.999850417336\n",
      "\n",
      "# doRefit_doSeedRefit_5\n",
      "Total matches = 100164\n",
      "Charge matches = 100150\n",
      "Charge match efficiency = 0.999860229224\n"
     ]
    },
    {
     "cell_type": "heading",
     "level": 2,
     "metadata": {},
     "source": [
      "Conclusions on Muons from $Z\\rightarrow\\mu\\mu$ Decays"
     ]
    },
    {
     "cell_type": "markdown",
     "metadata": {},
     "source": [
      "Activating the refit of the seed has essentially no consequence on the globalMuons or standAloneMuons_UpdatedAtVtx.\n"
     ]
    },
    {
     "cell_type": "code",
     "collapsed": false,
     "input": [
      "colz = saveToPdf(input_file, \"DeltaRhoOverRhoVsPt\", x_title = \"p_{T} [GeV/c]\", y_title = \"#Delta#rho/#rho\", draw_options = \"COLZ\")"
     ],
     "language": "python",
     "metadata": {},
     "outputs": [],
     "prompt_number": 7
    },
    {
     "cell_type": "code",
     "collapsed": false,
     "input": [
      "colz[1]"
     ],
     "language": "python",
     "metadata": {},
     "outputs": [
      {
       "metadata": {},
       "output_type": "pyout",
       "png": "[encoded data removed]",
       "prompt_number": 8,
       "text": [
        "<ROOT.TCanvas object (\"DeltaRhoOverRhoVsPt_canvas\") at 0x30cdc50>"
       ]
      }
     ],
     "prompt_number": 8
    },
    {
     "cell_type": "code",
     "collapsed": false,
     "input": [
      "colz_doSeedRefit_1 = saveToPdf(input_file_doSeedRefit_1, \"DeltaRhoOverRhoVsPt\", x_title = \"p_{T} [GeV/c]\", y_title = \"#Delta#rho/#rho\", draw_options = \"COLZ\")\n",
      "\n"
     ],
     "language": "python",
     "metadata": {},
     "outputs": [
      {
       "output_type": "stream",
       "stream": "stderr",
       "text": [
        "TCanvas::Constructor:0: RuntimeWarning: Deleting canvas with same name: DeltaRhoOverRhoVsPt_canvas\n"
       ]
      }
     ],
     "prompt_number": 13
    },
    {
     "cell_type": "code",
     "collapsed": false,
     "input": [
      "colz_doSeedRefit_1[1]"
     ],
     "language": "python",
     "metadata": {},
     "outputs": [
      {
       "metadata": {},
       "output_type": "pyout",
       "png": "[encoded data removed]",
       "prompt_number": 14,
       "text": [
        "<ROOT.TCanvas object (\"DeltaRhoOverRhoVsPt_canvas\") at 0x3b73120>"
       ]
      }
     ],
     "prompt_number": 14
    },
    {
     "cell_type": "code",
     "collapsed": false,
     "input": [],
     "language": "python",
     "metadata": {},
     "outputs": []
    }
   ],
   "metadata": {}
  }
 ]
}