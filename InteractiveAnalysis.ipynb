{
 "metadata": {
  "name": ""
 },
 "nbformat": 3,
 "nbformat_minor": 0,
 "worksheets": [
  {
   "cells": [
    {
     "cell_type": "heading",
     "level": 1,
     "metadata": {},
     "source": [
      "The Dan Brown Analysis"
     ]
    },
    {
     "cell_type": "markdown",
     "metadata": {},
     "source": [
      "Consider one of the signal MC files:\n",
      "\n",
      "/afs/cern.ch/work/e/ejclemen/public/ForDL2012/HTo2LongLivedTo4F_MH1000_MFF150_CTau10To1000_analysis_20131120/histograms.root"
     ]
    },
    {
     "cell_type": "code",
     "collapsed": false,
     "input": [
      "import ROOT\n",
      "from ROOT import gROOT, TCanvas, TF1, TFile, TTree, gRandom, TH1F\n",
      "import rootnotes\n",
      "import utils\n",
      "from interactiveAnalysis import *\n",
      "import os"
     ],
     "language": "python",
     "metadata": {},
     "outputs": []
    },
    {
     "cell_type": "code",
     "collapsed": false,
     "input": [
      "ia = InteractiveAnalysis(\"/Users/demattia/histograms.root\")"
     ],
     "language": "python",
     "metadata": {},
     "outputs": []
    },
    {
     "cell_type": "code",
     "collapsed": false,
     "input": [
      "help()"
     ],
     "language": "python",
     "metadata": {},
     "outputs": []
    },
    {
     "cell_type": "code",
     "collapsed": false,
     "input": [
      "c1 = rootnotes.canvas(\"dimuonMass\", (500,350))\n",
      "ia.cuts.clear()\n",
      "ia.plot(\"dimu.mass\")\n",
      "c1"
     ],
     "language": "python",
     "metadata": {},
     "outputs": []
    },
    {
     "cell_type": "markdown",
     "metadata": {},
     "source": [
      "You should see a histogram of dimuon mass from the signal Monte Carlo. The tail of the distribution extends up to 5000 GeV, but most of the interesting part is below 1000 GeV. Run"
     ]
    },
    {
     "cell_type": "code",
     "collapsed": false,
     "input": [
      "c2 = rootnotes.canvas(\"dimuonMass2\", (500,350))\n",
      "ia.cuts.clear()\n",
      "ia.cuts.append(\"dimu.mass < 1000\")\n",
      "ia.plot(\"dimu.mass\")\n",
      "c2"
     ],
     "language": "python",
     "metadata": {},
     "outputs": []
    },
    {
     "cell_type": "markdown",
     "metadata": {},
     "source": [
      "to see more detail on this region. All subsequent plot(...) commands will use this cut. (See help() for more information, such as how to remove cuts.)\n",
      "The distribution is complicated; it seems to have contributions from several sources. Now run the following to produce plots with increasing vertex chi2/ndof cuts and see what this does to the mass distribution. What do you think is happening?"
     ]
    },
    {
     "cell_type": "code",
     "collapsed": false,
     "input": [
      "c3 = rootnotes.canvas(\"dimuonMass3\", (500,350))\n",
      "ia.cuts.clear()\n",
      "ia.cuts.append(\"dimu.mass < 1000\")\n",
      "ia.cuts.append(\"dimu.vertexChi2 < 100\")\n",
      "ia.plot(\"dimu.mass\")\n",
      "c3"
     ],
     "language": "python",
     "metadata": {},
     "outputs": []
    },
    {
     "cell_type": "code",
     "collapsed": false,
     "input": [
      "c4 = rootnotes.canvas(\"dimuonMass4\", (500,350))\n",
      "ia.cuts.clear()\n",
      "ia.cuts.append(\"dimu.mass < 1000\")\n",
      "ia.cuts.append(\"dimu.vertexChi2 < 10\")\n",
      "ia.plot(\"dimu.mass\")\n",
      "c4"
     ],
     "language": "python",
     "metadata": {},
     "outputs": []
    },
    {
     "cell_type": "code",
     "collapsed": false,
     "input": [
      "c5 = rootnotes.canvas(\"dimuonMass5\", (500,350))\n",
      "ia.cuts.clear()\n",
      "ia.cuts.append(\"dimu.mass < 1000\")\n",
      "ia.cuts.append(\"dimu.vertexChi2 < 5\")\n",
      "ia.plot(\"dimu.mass\")\n",
      "c5"
     ],
     "language": "python",
     "metadata": {},
     "outputs": []
    },
    {
     "cell_type": "code",
     "collapsed": false,
     "input": [
      "c6 = rootnotes.canvas(\"dimuonMass6\", (500,350))\n",
      "ia.cuts.clear()\n",
      "ia.cuts.append(\"dimu.mass < 1000\")\n",
      "ia.cuts.append(\"dimu.vertexChi2 < 1\")\n",
      "ia.plot(\"dimu.mass\")\n",
      "c6"
     ],
     "language": "python",
     "metadata": {},
     "outputs": []
    },
    {
     "cell_type": "markdown",
     "metadata": {},
     "source": [
      "This analysis script is showing you events from the same signal Monte Carlo that you generated in Exercise 2. Before writing large, complex data analysis algorithms, it's essential to become familiar with the data. One of the best ways to learn about a dataset is to explore it interactively with a ROOT TTree. TTrees are optimized to apply cuts and make plots quickly, and this interactiveAnalysis.py script is a wrapper around TTrees to provide an easier interface. (We want you to be spending this time thinking about physics problems, not ROOT problems.)"
     ]
    },
    {
     "cell_type": "markdown",
     "metadata": {},
     "source": [
      "**Question 4-1**: The signal dimuons are supposed to be displaced. Are they? How would you convince yourself that they are? Make the plot!"
     ]
    },
    {
     "cell_type": "code",
     "collapsed": false,
     "input": [],
     "language": "python",
     "metadata": {},
     "outputs": []
    },
    {
     "cell_type": "markdown",
     "metadata": {},
     "source": [
      "Create an InteractiveAnalysis object using a data file:\n",
      "\n",
      "/afs/cern.ch/work/e/ejclemen/public/ForDL2012/Data_Mu_Run2012B22Jan_analysis_20130909/histograms.root\n",
      "\n",
      "The Monte Carlo sample shows you the signal only, and it is fake (simulated). The data sample shows you all contributions from Standard Model backgrounds and possibly a real signal. You can do the same kind of interactive exploration on the real data that you did in the Monte Carlo.\n",
      "Ordinarily, you wouldn't do this. Ordinarily, it's good practice to \"blind\" the signal region somehow so that you don't let your personal expectations bias your analysis of the data. (Blinding techniques allow you to see enough of the data to find potentially harmful detector effects, but not enough to make a discovery.)\n",
      "\n",
      "However, we don't have time for that. Suppose that the fate of the world depends on whether displaced dimuons exist or not. (It could happen: maybe aliens want to know.) You have exactly one hour to search for the signal and convince yourself that it is real or that it is not real. The Long Exercise as a whole is about preparing a convincing case for the outside world, in the form of a presentation on Saturday, but this sub-exercise is about preparing a convincing case for yourself."
     ]
    },
    {
     "cell_type": "markdown",
     "metadata": {},
     "source": [
      "**Question 4-2**: Make whatever plots you need to, in the data and the Monte Carlo, to convince yourself that displaced dimuons do or do not exist. You have one hour.\n",
      "\n",
      "Uncomment and run the next line to see a hint."
     ]
    },
    {
     "cell_type": "code",
     "collapsed": false,
     "input": [
      "# print open(\"interactiveAnalysisHint.txt\").read()"
     ],
     "language": "python",
     "metadata": {},
     "outputs": []
    },
    {
     "cell_type": "code",
     "collapsed": false,
     "input": [],
     "language": "python",
     "metadata": {},
     "outputs": []
    },
    {
     "cell_type": "markdown",
     "metadata": {},
     "source": [
      "No one has looked carefully at this 2012 sample of displaced dimuons yet, so it's quite possible that you could make a discovery.\n"
     ]
    },
    {
     "cell_type": "code",
     "collapsed": false,
     "input": [],
     "language": "python",
     "metadata": {},
     "outputs": []
    }
   ],
   "metadata": {}
  }
 ]
}