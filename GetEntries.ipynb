{
 "metadata": {
  "name": "GetEntries"
 },
 "nbformat": 3,
 "nbformat_minor": 0,
 "worksheets": [
  {
   "cells": [
    {
     "cell_type": "code",
     "collapsed": false,
     "input": [
      "import ROOT\n",
      "import rootnotes"
     ],
     "language": "python",
     "metadata": {},
     "outputs": [],
     "prompt_number": "*"
    },
    {
     "cell_type": "code",
     "collapsed": false,
     "input": [
      "inputFile = ROOT.TFile(\"/afs/cern.ch/work/z/zhenhu/Displaced/CMSSW_5_3_8/src/AnalysisMacros/DileptonMacros/CombinedFiles/Data22Jan_combined_2eTrack.root\", \"READ\")\n",
      "d0SigCanvas = rootnotes.canvas(\"d0SigCanvas\", (400, 400))\n",
      "hist_m = inputFile.Get(\"minLeptonAbsD0Sig_deltaPhiMinus_removedLifetimeCuts\")\n",
      "hist_m.Draw()\n",
      "d0SigCanvas"
     ],
     "language": "python",
     "metadata": {},
     "outputs": [],
     "prompt_number": "*"
    },
    {
     "cell_type": "code",
     "collapsed": false,
     "input": [
      "def printentries(runName,cut,anaType):\n",
      "    directory = \"/afs/cern.ch/work/z/zhenhu/Displaced/CMSSW_5_3_8/src/AnalysisMacros/DileptonMacros/WeightedFiles/\"\n",
      "    if anaType: \n",
      "        anaTypeName = \"Data_Photon_\"\n",
      "        suffix = \"_analysis_20130731_weighted_2eTrack.root\"\n",
      "    else:\n",
      "        anaTypeName = \"Data_Mu_\"\n",
      "        suffix = \"_analysis_20130731_weighted_2muTrack.root\"\n",
      "    inputFile = ROOT.TFile(directory+anaTypeName+runName+suffix)\n",
      "    hist_m = inputFile.Get(\"minLeptonAbsD0Sig_deltaPhiMinus_removedLifetimeCuts\")\n",
      "    entries_m = hist_m.Integral(hist_m.FindBin(cut),hist_m.FindBin(1000))\n",
      "    hist_p = inputFile.Get(\"minLeptonAbsD0Sig_deltaPhiPlus_removedLifetimeCuts\")\n",
      "    entries_p = hist_p.Integral(hist_p.FindBin(cut),hist_p.FindBin(1000))\n",
      "    diff = ROOT.fabs(entries_m - entries_p)\n",
      "    err = ROOT.sqrt(entries_m)\n",
      "    print runName,\"\\t\",anaTypeName.strip(\"_\"),entries_m,entries_p,\"\\t\",diff,err\n",
      "\n",
      "runNames = [\"Run2012A1\",\"Run2012A2\",\"Run2012B1\",\"Run2012C1\",\"Run2012C2\",\"Run2012D1\",\"Run2012A22Jan\",\"Run2012B22Jan\",\"Run2012C22Jan\",\"Run2012D22Jan\"]\n",
      "cut = 4\n",
      "anaType = False\n",
      "for runName in runNames:\n",
      "    printentries(runName,cut,anaType)"
     ],
     "language": "python",
     "metadata": {},
     "outputs": [
      {
       "output_type": "stream",
       "stream": "stdout",
       "text": [
        "Run2012A1 \tData_Mu 0.0 1.0 \t1.0 0.0\n",
        "Run2012A2"
       ]
      },
      {
       "output_type": "stream",
       "stream": "stdout",
       "text": [
        " \tData_Mu 0.0 0.0 \t0.0 0.0\n",
        "Run2012B1"
       ]
      },
      {
       "output_type": "stream",
       "stream": "stdout",
       "text": [
        " \tData_Mu 2.0 5.0 \t3.0 1.41421356237\n",
        "Run2012C1"
       ]
      },
      {
       "output_type": "stream",
       "stream": "stdout",
       "text": [
        " \tData_Mu 0.0 1.0 \t1.0 0.0\n",
        "Run2012C2 \tData_Mu 1.0 3.0 \t2.0 1.0\n",
        "Run2012D1"
       ]
      },
      {
       "output_type": "stream",
       "stream": "stdout",
       "text": [
        " \tData_Mu 3.0 17.0 \t14.0 1.73205080757\n",
        "Run2012A22Jan \tData_Mu 0.0 3.0 \t3.0 0.0\n",
        "Run2012B22Jan \tData_Mu 5.0 7.0 \t2.0 2.2360679775\n",
        "Run2012C22Jan"
       ]
      },
      {
       "output_type": "stream",
       "stream": "stdout",
       "text": [
        " \tData_Mu 3.0 5.0 \t2.0 1.73205080757\n",
        "Run2012D22Jan \tData_Mu 6.0 12.0 \t6.0 2.44948974278\n"
       ]
      }
     ],
     "prompt_number": 29
    },
    {
     "cell_type": "code",
     "collapsed": false,
     "input": [
      "def printentries(runName,cut,anaType):\n",
      "    directory = \"/afs/cern.ch/work/z/zhenhu/Displaced/CMSSW_5_3_8/src/AnalysisMacros/DileptonMacros/CombinedFiles/\"\n",
      "    if anaType: \n",
      "        anaTypeName = \"\"\n",
      "        suffix = \"_2eTrack.root\"\n",
      "    else:\n",
      "        anaTypeName = \"\"\n",
      "        suffix = \"_2muTrack.root\"\n",
      "    inputFile = ROOT.TFile(directory+anaTypeName+runName+suffix)\n",
      "    hist_m = inputFile.Get(\"minLeptonAbsD0Sig_deltaPhiMinus_removedLifetimeCuts\")\n",
      "    entries_m = hist_m.Integral(hist_m.FindBin(cut),hist_m.FindBin(1000))\n",
      "    hist_p = inputFile.Get(\"minLeptonAbsD0Sig_deltaPhiPlus_removedLifetimeCuts\")\n",
      "    entries_p = hist_p.Integral(hist_p.FindBin(cut),hist_p.FindBin(1000))\n",
      "    diff = ROOT.fabs(entries_m - entries_p)\n",
      "    err = ROOT.sqrt(entries_m)\n",
      "    print runName,\"\\t\",anaTypeName.strip(\"_\"),entries_m,entries_p,\"\\t\",diff,err\n",
      "\n",
      "runNames = [\"Data_combined\",\"Data22Jan_combined\"]\n",
      "cut = 5\n",
      "anaType = True\n",
      "for runName in runNames:\n",
      "    printentries(runName,cut,anaType)"
     ],
     "language": "python",
     "metadata": {},
     "outputs": [
      {
       "output_type": "stream",
       "stream": "stdout",
       "text": [
        "Data_combined \t 57.0 44.0 \t13.0 7.54983443527\n",
        "Data22Jan_combined \t 84.0 79.0 \t5.0 9.16515138991\n"
       ]
      }
     ],
     "prompt_number": 32
    },
    {
     "cell_type": "code",
     "collapsed": false,
     "input": [],
     "language": "python",
     "metadata": {},
     "outputs": []
    }
   ],
   "metadata": {}
  }
 ]
}