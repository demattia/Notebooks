{
 "cells": [
  {
   "cell_type": "code",
   "execution_count": 1,
   "metadata": {
    "collapsed": false
   },
   "outputs": [],
   "source": [
    "import math\n",
    "from math import sqrt,sin,cos,atan,asin"
   ]
  },
  {
   "cell_type": "code",
   "execution_count": 2,
   "metadata": {
    "collapsed": false
   },
   "outputs": [],
   "source": [
    "pt = 2\n",
    "rho = pt/(3.8114*0.003)\n",
    "phi0 = math.pi/2.\n",
    "\n",
    "R = 100\n",
    "# R = 22\n",
    "\n",
    "d0 = 1.\n",
    "\n",
    "# Prompt track\n",
    "x0 = 0.\n",
    "y0 = 0.\n",
    "\n",
    "charge = 1"
   ]
  },
  {
   "cell_type": "code",
   "execution_count": 3,
   "metadata": {
    "collapsed": false
   },
   "outputs": [],
   "source": [
    "def compute(x0, y0, R, rho, phi0, charge):\n",
    "    # Coordinates of the center of curvature of the track\n",
    "    xc = -charge*rho*sin(phi0) + x0\n",
    "    yc = charge*rho*cos(phi0) + y0\n",
    "    print \"xc =\", xc, \"yc =\", yc\n",
    "\n",
    "    x = (xc**2 - rho**2 + R**2)/(2*xc)\n",
    "    y = 1/(2*xc)*sqrt(4*xc**2*R**2-(xc**2-rho**2+R**2)**2)\n",
    "    a = sqrt((x-x0)**2 + (y-y0)**2)\n",
    "    theta = 2*asin(a/(2*rho))\n",
    "    l = rho*theta\n",
    "    print \"arc length =\", l\n",
    "    print \"x =\", x, \"y =\", y\n",
    "    phi = atan(y/x)\n",
    "    print \"phi =\", phi\n",
    "    DeltaPhi = phi - phi0\n",
    "    print \"DeltaPhi =\", DeltaPhi\n",
    "    return phi, DeltaPhi, l"
   ]
  },
  {
   "cell_type": "code",
   "execution_count": 4,
   "metadata": {
    "collapsed": false
   },
   "outputs": [
    {
     "name": "stdout",
     "output_type": "stream",
     "text": [
      "xc = -174.913854926 yc = 1.07103846281e-14\n",
      "arc length = 101.414542261\n",
      "x = -28.5855 y = -95.8272883356\n",
      "phi = 1.28089778701\n",
      "DeltaPhi = -0.289898539781\n"
     ]
    }
   ],
   "source": [
    "phi, DeltaPhi, l = compute(x0, y0, R, rho, phi0, charge)"
   ]
  },
  {
   "cell_type": "code",
   "execution_count": 5,
   "metadata": {
    "collapsed": false
   },
   "outputs": [
    {
     "name": "stdout",
     "output_type": "stream",
     "text": [
      "xc = -173.913854926 yc = 1.07103846281e-14\n",
      "arc length = 101.708933903\n",
      "x = -27.7469908715 y = -96.0734328396\n",
      "phi = 1.28963672022\n",
      "DeltaPhi = -0.281159606577\n"
     ]
    }
   ],
   "source": [
    "phiPrime, DeltaPhiPrime, lPrime = compute(x0+d0, y0, R, rho, phi0, charge)"
   ]
  },
  {
   "cell_type": "code",
   "execution_count": 6,
   "metadata": {
    "collapsed": false
   },
   "outputs": [
    {
     "name": "stdout",
     "output_type": "stream",
     "text": [
      "0.00677627510733\n"
     ]
    }
   ],
   "source": [
    "print (phiPrime - phi)/phiPrime"
   ]
  },
  {
   "cell_type": "code",
   "execution_count": 7,
   "metadata": {
    "collapsed": false
   },
   "outputs": [
    {
     "name": "stdout",
     "output_type": "stream",
     "text": [
      "phi direct = 1.28089778701\n",
      "phi direct - phi indirect = -2.22044604925e-16\n",
      "phi' direct = 1.27217628058\n",
      "phi' direct - phi' indirect = -0.0174604396395\n"
     ]
    }
   ],
   "source": [
    "phiTerm = R/(2*rho)\n",
    "phiTermDisplaced = ((rho+d0)**2+R**2-rho**2)/(2*R*(rho+d0))\n",
    "phiDirect = phi0-asin(phiTerm)\n",
    "print \"phi direct =\", phiDirect\n",
    "print \"phi direct - phi indirect =\", phiDirect - phi\n",
    "phiPrimeDirect = phi0-asin(phiTermDisplaced)\n",
    "print \"phi' direct =\", phiPrimeDirect\n",
    "print \"phi' direct - phi' indirect =\", phiPrimeDirect - phiPrime"
   ]
  },
  {
   "cell_type": "code",
   "execution_count": 8,
   "metadata": {
    "collapsed": false
   },
   "outputs": [
    {
     "name": "stdout",
     "output_type": "stream",
     "text": [
      "corrected phi = -0.000150524318563\n",
      "d0 = -0.0150524318563\n"
     ]
    }
   ],
   "source": [
    "correctedPhi = (phi - (phi0 - charge*phiTerm - charge/6.*phiTerm**3))\n",
    "print \"corrected phi =\", correctedPhi\n",
    "print \"d0 =\", correctedPhi*R"
   ]
  },
  {
   "cell_type": "code",
   "execution_count": 9,
   "metadata": {
    "collapsed": false
   },
   "outputs": [
    {
     "name": "stdout",
     "output_type": "stream",
     "text": [
      "First order prompt:\n",
      "-0.0040435397813\n"
     ]
    }
   ],
   "source": [
    "print \"First order prompt:\"\n",
    "print phiDirect - (phi0 - phiTerm)"
   ]
  },
  {
   "cell_type": "code",
   "execution_count": 10,
   "metadata": {
    "collapsed": false
   },
   "outputs": [
    {
     "name": "stdout",
     "output_type": "stream",
     "text": [
      "Second order prompt:\n",
      "-0.000150524318563\n"
     ]
    }
   ],
   "source": [
    "print \"Second order prompt:\"\n",
    "print phiDirect - (phi0 - phiTerm - 1/6.*phiTerm**3)"
   ]
  },
  {
   "cell_type": "code",
   "execution_count": 11,
   "metadata": {
    "collapsed": false
   },
   "outputs": [
    {
     "name": "stdout",
     "output_type": "stream",
     "text": [
      "First order displaced:\n"
     ]
    },
    {
     "data": {
      "text/plain": [
       "-0.004418440714867078"
      ]
     },
     "execution_count": 11,
     "metadata": {},
     "output_type": "execute_result"
    }
   ],
   "source": [
    "print \"First order displaced:\"\n",
    "phiPrimeDirect - (phi0 - phiTermDisplaced)"
   ]
  },
  {
   "cell_type": "code",
   "execution_count": 12,
   "metadata": {
    "collapsed": false
   },
   "outputs": [
    {
     "name": "stdout",
     "output_type": "stream",
     "text": [
      "Second order displaced:\n"
     ]
    },
    {
     "data": {
      "text/plain": [
       "-0.00017435775216867455"
      ]
     },
     "execution_count": 12,
     "metadata": {},
     "output_type": "execute_result"
    }
   ],
   "source": [
    "print \"Second order displaced:\"\n",
    "phiPrimeDirect - (phi0 - phiTermDisplaced - 1/6.*phiTermDisplaced**3)"
   ]
  },
  {
   "cell_type": "code",
   "execution_count": 13,
   "metadata": {
    "collapsed": false
   },
   "outputs": [
    {
     "name": "stdout",
     "output_type": "stream",
     "text": [
      "Third order displaced:\n"
     ]
    },
    {
     "data": {
      "text/plain": [
       "-0.008355658076176109"
      ]
     },
     "execution_count": 13,
     "metadata": {},
     "output_type": "execute_result"
    }
   ],
   "source": [
    "print \"Third order displaced:\"\n",
    "phiPrimeDirect - (phi0 - phiTerm - 1/6.*phiTermDisplaced**3 - 3./40.*phiTermDisplaced**5)"
   ]
  },
  {
   "cell_type": "code",
   "execution_count": 14,
   "metadata": {
    "collapsed": false
   },
   "outputs": [
    {
     "name": "stdout",
     "output_type": "stream",
     "text": [
      "First order displaced approximate:\n"
     ]
    },
    {
     "data": {
      "text/plain": [
       "-0.0027650462160562217"
      ]
     },
     "execution_count": 14,
     "metadata": {},
     "output_type": "execute_result"
    }
   ],
   "source": [
    "print \"First order displaced approximate:\"\n",
    "simplifiedPhiTermDisplaced = R/(2*rho)+d0/R\n",
    "phiPrimeDirect - (phi0 - simplifiedPhiTermDisplaced)"
   ]
  },
  {
   "cell_type": "code",
   "execution_count": 15,
   "metadata": {
    "collapsed": false
   },
   "outputs": [
    {
     "name": "stdout",
     "output_type": "stream",
     "text": [
      "Second order displaced approximate:\n"
     ]
    },
    {
     "data": {
      "text/plain": [
       "0.001550994068469036"
      ]
     },
     "execution_count": 15,
     "metadata": {},
     "output_type": "execute_result"
    }
   ],
   "source": [
    "print \"Second order displaced approximate:\"\n",
    "phiPrimeDirect - (phi0 - simplifiedPhiTermDisplaced - 1/6.*simplifiedPhiTermDisplaced**3)"
   ]
  },
  {
   "cell_type": "code",
   "execution_count": 16,
   "metadata": {
    "collapsed": false
   },
   "outputs": [
    {
     "name": "stdout",
     "output_type": "stream",
     "text": [
      "Second order displaced more approximate:\n"
     ]
    },
    {
     "data": {
      "text/plain": [
       "0.0011279692466772406"
      ]
     },
     "execution_count": 16,
     "metadata": {},
     "output_type": "execute_result"
    }
   ],
   "source": [
    "print \"Second order displaced more approximate:\"\n",
    "phiPrimeDirect - (phi0 - simplifiedPhiTermDisplaced - 1/6.*phiTerm**3)"
   ]
  },
  {
   "cell_type": "code",
   "execution_count": 17,
   "metadata": {
    "collapsed": false
   },
   "outputs": [
    {
     "name": "stdout",
     "output_type": "stream",
     "text": [
      "corrected phi = -0.0127650462161\n",
      "d0 = -1.27650462161\n",
      "corrected phi = -0.00887203075332\n",
      "d0 = -0.887203075332\n",
      "\n",
      "corrected phi = -0.00872888112375\n",
      "d0 = -0.872888112375\n",
      "\n",
      "corrected phi = -0.0084634653482\n",
      "d0 = -0.84634653482\n",
      "corrected phi = -0.00832031571863\n",
      "d0 = -0.832031571863\n"
     ]
    }
   ],
   "source": [
    "correctedPhi = (phiPrimeDirect - (phi0 - charge*phiTerm))\n",
    "print \"corrected phi =\", correctedPhi\n",
    "print \"d0 =\", correctedPhi*R\n",
    "correctedPhi = (phiPrimeDirect - (phi0 - charge*phiTerm - charge/6.*phiTerm**3))\n",
    "print \"corrected phi =\", correctedPhi\n",
    "print \"d0 =\", correctedPhi*R\n",
    "print\n",
    "correctedPhi = (phiPrimeDirect - (phi0 - charge*phiTerm - charge/6.*phiTerm**3 - charge*3./40.*phiTerm**5))\n",
    "print \"corrected phi =\", correctedPhi\n",
    "print \"d0 =\", correctedPhi*R\n",
    "print\n",
    "correctedPhi = (phiPrimeDirect - (phi0 - charge*phiTerm - charge/6.*phiTerm**3 - 1/2.*d0*(R/(2*rho)**2)))\n",
    "print \"corrected phi =\", correctedPhi\n",
    "print \"d0 =\", correctedPhi*R\n",
    "correctedPhi = (phiPrimeDirect - (phi0 - charge*phiTerm - charge/6.*phiTerm**3 - charge*(phiTerm**5)*3./40.- 1/2.*d0*(R/(2*rho)**2)))\n",
    "print \"corrected phi =\", correctedPhi\n",
    "print \"d0 =\", correctedPhi*R"
   ]
  },
  {
   "cell_type": "code",
   "execution_count": 47,
   "metadata": {
    "collapsed": false
   },
   "outputs": [
    {
     "name": "stdout",
     "output_type": "stream",
     "text": [
      "corrected phi = -0.000174357752169\n",
      "d0 = -0.0174357752169\n",
      "corrected phi = -9.05257498696e-06\n",
      "d0 = -0.000905257498696\n",
      "\n",
      "corrected phi = 0.0\n",
      "d0 = 0.0\n",
      "\n",
      "Correcting with the simplified phi term\n",
      "\n",
      "corrected phi = 0.00155099406847\n",
      "d0 = 0.155099406847\n",
      "corrected phi = 0.00172099677281\n",
      "d0 = 0.172099677281\n",
      "\n",
      "corrected phi = 0.00173041825171\n",
      "d0 = 0.173041825171\n"
     ]
    }
   ],
   "source": [
    "correctedPhi = (phiPrimeDirect - (phi0 - charge*phiTermDisplaced - charge/6.*phiTermDisplaced**3))\n",
    "print \"corrected phi =\", correctedPhi\n",
    "print \"d0 =\", correctedPhi*R\n",
    "correctedPhi = (phiPrimeDirect - (phi0 - charge*phiTermDisplaced - charge/6.*phiTermDisplaced**3 - charge*(phiTermDisplaced**5)*3./40.))\n",
    "print \"corrected phi =\", correctedPhi\n",
    "print \"d0 =\", correctedPhi*R\n",
    "print\n",
    "correctedPhi = (phiPrimeDirect - (phi0 - asin(phiTermDisplaced)))\n",
    "print \"corrected phi =\", correctedPhi\n",
    "print \"d0 =\", correctedPhi*R\n",
    "print\n",
    "print \"Correcting with the simplified phi term\"\n",
    "print\n",
    "correctedPhi = (phiPrimeDirect - (phi0 - charge*simplifiedPhiTermDisplaced - charge/6.*simplifiedPhiTermDisplaced**3))\n",
    "print \"corrected phi =\", correctedPhi\n",
    "print \"d0 =\", correctedPhi*R\n",
    "correctedPhi = (phiPrimeDirect - (phi0 - charge*simplifiedPhiTermDisplaced - charge/6.*simplifiedPhiTermDisplaced**3 - charge*(simplifiedPhiTermDisplaced**5)*3./40.))\n",
    "print \"corrected phi =\", correctedPhi\n",
    "print \"d0 =\", correctedPhi*R\n",
    "print\n",
    "correctedPhi = (phiPrimeDirect - (phi0 - asin(simplifiedPhiTermDisplaced)))\n",
    "print \"corrected phi =\", correctedPhi\n",
    "print \"d0 =\", correctedPhi*R\n",
    "\n"
   ]
  },
  {
   "cell_type": "markdown",
   "metadata": {},
   "source": [
    "The difference between the simplifiedPhiTermDisplaced = $\\frac{\\rho}{2R} + \\frac{d_{0}}{R}$ and the phiTermDisplaced = $\\frac{(\\rho+d_{0})^{2}+R^{2}-\\rho^{2}}{2R(\\rho+d_{0})}$ is significant. We decompose the phiTermDisplaced in its consituent terms and compare the relative importance."
   ]
  },
  {
   "cell_type": "code",
   "execution_count": 85,
   "metadata": {
    "collapsed": false
   },
   "outputs": [
    {
     "name": "stdout",
     "output_type": "stream",
     "text": [
      "1.0 100 0.01\n",
      "phiTerm = 0.285855\n",
      "phiTermDisplaced = 0.294201605501\n",
      "simplifiedPhiTermDisplaced = 0.295855\n",
      "phiTermDisplaced - phiTerm = 0.00834660550119\n",
      "simplifiedPhiTermDisplaced - phiTerm = 0.01\n",
      "\n",
      "Decomposing the simplifiedPhiTermDisplaced\n",
      "\n",
      "main term relative to full term = 96.6106313458%\n",
      "second term relative to full term = 3.37970759111%\n",
      "third term relative to full term = 0.00966106313458%\n",
      "\n",
      "Neglecting the d0 at denominator:\n",
      "\n",
      "Change in the full term = -0.57171%\n",
      "Change in the main term = -0.57171%\n",
      "Change in the second term = -0.57171%\n",
      "Change in the third term = -0.57171%\n",
      "Simplified main term relative to full term = 97.1629639862%\n",
      "\n",
      "simplified:\n",
      "\n",
      "Change in the full term = -0.561993703601%\n",
      "Change in the main term = -0.57171%\n",
      "Change in the second term = -0.57171%\n",
      "Change in the third term = -0.57171%\n"
     ]
    }
   ],
   "source": [
    "print d0, R, d0/R\n",
    "print \"phiTerm =\", phiTerm\n",
    "print \"phiTermDisplaced =\", phiTermDisplaced\n",
    "print \"simplifiedPhiTermDisplaced =\", simplifiedPhiTermDisplaced\n",
    "print \"phiTermDisplaced - phiTerm =\", phiTermDisplaced - phiTerm\n",
    "print \"simplifiedPhiTermDisplaced - phiTerm =\", simplifiedPhiTermDisplaced - phiTerm\n",
    "print\n",
    "print \"Decomposing the simplifiedPhiTermDisplaced\"\n",
    "print\n",
    "mainTerm = R/(2*(rho+d0))\n",
    "print \"main term relative to full term =\", str(100*mainTerm/phiTermDisplaced)+\"%\"\n",
    "secondTerm = 2*rho*d0/(2*R*(rho+d0))\n",
    "print \"second term relative to full term =\", str(100*secondTerm/phiTermDisplaced)+\"%\"\n",
    "thirdTerm = d0**2/(2*R*(rho+d0))\n",
    "print \"third term relative to full term =\", str(100*thirdTerm/phiTermDisplaced)+\"%\"\n",
    "\n",
    "print\n",
    "print \"Neglecting the d0 at denominator:\"\n",
    "print\n",
    "a = (2*rho*d0+d0**2+R**2)/(2*R*rho)\n",
    "print \"Change in the full term =\", str(100*(phiTermDisplaced-a)/phiTermDisplaced)+\"%\"\n",
    "print \"Change in the main term =\", str(100*(mainTerm-R/(2*rho))/mainTerm)+\"%\"\n",
    "print \"Change in the second term =\", str(100*(secondTerm-2*rho*d0/(2*R*rho))/secondTerm)+\"%\"\n",
    "print \"Change in the third term =\", str(100*(thirdTerm-d0**2/(2*R*rho))/thirdTerm)+\"%\"\n",
    "\n",
    "print \"Simplified main term relative to full term =\", str(100*R/(2*rho)/phiTermDisplaced)+\"%\"\n",
    "\n",
    "\n",
    "print\n",
    "print \"simplified:\"\n",
    "print\n",
    "a = (2*rho*d0+R**2)/(2*R*rho)\n",
    "print \"Change in the full term =\", str(100*(phiTermDisplaced-a)/phiTermDisplaced)+\"%\"\n",
    "print \"Change in the main term =\", str(100*(mainTerm-R**2/(2*R*rho))/mainTerm)+\"%\"\n",
    "print \"Change in the second term =\", str(100*(secondTerm-2*rho*d0/(2*R*rho))/secondTerm)+\"%\"\n",
    "print \"Change in the third term =\", str(100*(thirdTerm-d0**2/(2*R*rho))/thirdTerm)+\"%\""
   ]
  },
  {
   "cell_type": "code",
   "execution_count": 131,
   "metadata": {
    "collapsed": false
   },
   "outputs": [
    {
     "name": "stdout",
     "output_type": "stream",
     "text": [
      "R1 = 29.3808492467\n",
      "phi1 = 0.167235439667\n",
      "R2 = -117.521842745\n",
      "R3 = 128.714380319\n",
      "R4 = 29.0649350983\n",
      "R5 = 48.2681094238\n",
      "R6 = 21.9761638809\n"
     ]
    }
   ],
   "source": [
    "\n",
    "69.016032577738841\n",
    "89.273652183285705\n",
    "\n",
    "print \"R1 =\", 0.2703/sin(0.161-0.1518)\n",
    "R1 = -21.65\n",
    "print \"phi1 =\", 0.1518 - asin(R1/(2*41.96/0.003/3.8114)+0.2703/R1)\n",
    "\n",
    "print \"R2 =\", -0.2703/sin(0.1541-0.1518)\n",
    "print \"R3 =\", -0.2703/sin(0.1497-0.1518)\n",
    "print \"R4 =\", -0.2703/sin(0.1425-0.1518)\n",
    "print \"R5 =\", -0.2703/sin(0.1462-0.1518)\n",
    "print \"R6 =\", -0.2703/sin(0.1395-0.1518)"
   ]
  },
  {
   "cell_type": "code",
   "execution_count": 7,
   "metadata": {
    "collapsed": false
   },
   "outputs": [],
   "source": [
    "from sympy import *"
   ]
  },
  {
   "cell_type": "code",
   "execution_count": 10,
   "metadata": {
    "collapsed": false
   },
   "outputs": [
    {
     "data": {
      "text/plain": [
       "R**6 + 3*R**4*d0**2 + 6*R**4*d0*rho + 3*R**2*d0**4 + 12*R**2*d0**3*rho + 12*R**2*d0**2*rho**2 + d0**6 + 6*d0**5*rho + 12*d0**4*rho**2 + 8*d0**3*rho**3"
      ]
     },
     "execution_count": 10,
     "metadata": {},
     "output_type": "execute_result"
    }
   ],
   "source": [
    "rho = Symbol('rho')\n",
    "R = Symbol('R')\n",
    "d0 = Symbol('d0')\n",
    "expand(((2*rho*d0 + d0**2 + R**2))**3)"
   ]
  },
  {
   "cell_type": "code",
   "execution_count": 12,
   "metadata": {
    "collapsed": false
   },
   "outputs": [
    {
     "data": {
      "text/plain": [
       "d0**3 + 3*d0**2*rho + 3*d0*rho**2 + rho**3"
      ]
     },
     "execution_count": 12,
     "metadata": {},
     "output_type": "execute_result"
    }
   ],
   "source": [
    "expand((rho+d0)**3)"
   ]
  },
  {
   "cell_type": "code",
   "execution_count": 14,
   "metadata": {
    "collapsed": false
   },
   "outputs": [
    {
     "data": {
      "text/plain": [
       "R*d0*rho/(8*(3*d0*rho**2 + rho**3))"
      ]
     },
     "execution_count": 14,
     "metadata": {},
     "output_type": "execute_result"
    }
   ],
   "source": [
    "6*R**4*d0*rho/(8*R**3*(3*d0*rho**2 + rho**3))/6"
   ]
  },
  {
   "cell_type": "code",
   "execution_count": 10,
   "metadata": {
    "collapsed": false
   },
   "outputs": [
    {
     "name": "stdout",
     "output_type": "stream",
     "text": [
      "d0**2 = 0.25\n",
      "2*rho*d0 = 174.0\n",
      "R**2 = 10000\n",
      "rho+d0 = 174.5\n",
      "d0*(rho+d0) = 87.25\n",
      "d0*rho = 87.0\n"
     ]
    }
   ],
   "source": [
    "\n",
    "\n",
    "d0 = 0.5\n",
    "R = 100\n",
    "rho = 174\n",
    "\n",
    "print \"d0**2 =\", d0**2\n",
    "print \"2*rho*d0 =\", 2*rho*d0\n",
    "print \"R**2 =\", R**2\n",
    "print \"rho+d0 =\", rho+d0\n",
    "print \"d0*(rho+d0) =\", d0*(rho+d0)\n",
    "print \"d0*rho =\", d0*rho"
   ]
  },
  {
   "cell_type": "code",
   "execution_count": 12,
   "metadata": {
    "collapsed": false
   },
   "outputs": [
    {
     "data": {
      "text/plain": [
       "-1.0080784086449734"
      ]
     },
     "execution_count": 12,
     "metadata": {},
     "output_type": "execute_result"
    }
   ],
   "source": [
    "-22.1816/22.1072+0.167272/35.4917"
   ]
  },
  {
   "cell_type": "code",
   "execution_count": 16,
   "metadata": {
    "collapsed": false
   },
   "outputs": [
    {
     "name": "stdout",
     "output_type": "stream",
     "text": [
      "0.0450969032405\n",
      "-0.0352317\n",
      "-11.9498161359\n"
     ]
    }
   ],
   "source": [
    "print 0.994585/22.1072+0.00382296/35.4917\n",
    "print -0.119539+0.0843073\n",
    "print -0.119539/(1/22.1072-1/35.4917)-0.0843073/(1/22.1072-1/35.4917)"
   ]
  },
  {
   "cell_type": "code",
   "execution_count": 1,
   "metadata": {
    "collapsed": false
   },
   "outputs": [
    {
     "data": {
      "text/plain": [
       "-0.981551125704893"
      ]
     },
     "execution_count": 1,
     "metadata": {},
     "output_type": "execute_result"
    }
   ],
   "source": [
    "-33.7994/22.1072+18.9585/35.4917+0.102829/50.6335+1.5087/68.3771-0.0222567/88.5511-1.15026/107.746"
   ]
  },
  {
   "cell_type": "code",
   "execution_count": 1,
   "metadata": {
    "collapsed": false
   },
   "outputs": [
    {
     "data": {
      "text/plain": [
       "0.0023496847001711185"
      ]
     },
     "execution_count": 1,
     "metadata": {},
     "output_type": "execute_result"
    }
   ],
   "source": [
    "-1.599999950728558/22.1072+2.661461430953231/35.4917+0.0093679547982225/50.6335+0.002465514864157081/68.3771+0.0970485470738601/88.5511-0.1703482638128572/107.746"
   ]
  },
  {
   "cell_type": "code",
   "execution_count": null,
   "metadata": {
    "collapsed": true
   },
   "outputs": [],
   "source": []
  }
 ],
 "metadata": {
  "kernelspec": {
   "display_name": "Python 2",
   "language": "python",
   "name": "python2"
  },
  "language_info": {
   "codemirror_mode": {
    "name": "ipython",
    "version": 2
   },
   "file_extension": ".py",
   "mimetype": "text/x-python",
   "name": "python",
   "nbconvert_exporter": "python",
   "pygments_lexer": "ipython2",
   "version": "2.7.6"
  }
 },
 "nbformat": 4,
 "nbformat_minor": 0
}
