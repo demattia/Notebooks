{
 "cells": [
  {
   "cell_type": "code",
   "execution_count": 1,
   "metadata": {
    "collapsed": false
   },
   "outputs": [],
   "source": [
    "import math\n",
    "from math import sqrt,sin,cos,atan,asin"
   ]
  },
  {
   "cell_type": "code",
   "execution_count": 2,
   "metadata": {
    "collapsed": false
   },
   "outputs": [],
   "source": [
    "pt = 2\n",
    "rho = pt/(3.8114*0.003)\n",
    "phi0 = math.pi/2.\n",
    "\n",
    "R = 100\n",
    "# R = 22\n",
    "\n",
    "d0 = 1.\n",
    "\n",
    "# Prompt track\n",
    "x0 = 0.\n",
    "y0 = 0.\n",
    "\n",
    "charge = 1"
   ]
  },
  {
   "cell_type": "code",
   "execution_count": 3,
   "metadata": {
    "collapsed": false
   },
   "outputs": [],
   "source": [
    "def compute(x0, y0, R, rho, phi0, charge):\n",
    "    # Coordinates of the center of curvature of the track\n",
    "    xc = -charge*rho*sin(phi0) + x0\n",
    "    yc = charge*rho*cos(phi0) + y0\n",
    "    print \"xc =\", xc, \"yc =\", yc\n",
    "\n",
    "    x = (xc**2 - rho**2 + R**2)/(2*xc)\n",
    "    y = 1/(2*xc)*sqrt(4*xc**2*R**2-(xc**2-rho**2+R**2)**2)\n",
    "    a = sqrt((x-x0)**2 + (y-y0)**2)\n",
    "    theta = 2*asin(a/(2*rho))\n",
    "    l = rho*theta\n",
    "    print \"arc length =\", l\n",
    "    print \"x =\", x, \"y =\", y\n",
    "    phi = atan(y/x)\n",
    "    print \"phi =\", phi\n",
    "    DeltaPhi = phi - phi0\n",
    "    print \"DeltaPhi =\", DeltaPhi\n",
    "    return phi, DeltaPhi, l"
   ]
  },
  {
   "cell_type": "code",
   "execution_count": 4,
   "metadata": {
    "collapsed": false
   },
   "outputs": [
    {
     "name": "stdout",
     "output_type": "stream",
     "text": [
      "xc = -174.913854926 yc = 1.07103846281e-14\n",
      "arc length = 101.414542261\n",
      "x = -28.5855 y = -95.8272883356\n",
      "phi = 1.28089778701\n",
      "DeltaPhi = -0.289898539781\n"
     ]
    }
   ],
   "source": [
    "phi, DeltaPhi, l = compute(x0, y0, R, rho, phi0, charge)"
   ]
  },
  {
   "cell_type": "code",
   "execution_count": 5,
   "metadata": {
    "collapsed": false
   },
   "outputs": [
    {
     "name": "stdout",
     "output_type": "stream",
     "text": [
      "xc = -173.913854926 yc = 1.07103846281e-14\n",
      "arc length = 101.708933903\n",
      "x = -27.7469908715 y = -96.0734328396\n",
      "phi = 1.28963672022\n",
      "DeltaPhi = -0.281159606577\n"
     ]
    }
   ],
   "source": [
    "phiPrime, DeltaPhiPrime, lPrime = compute(x0+d0, y0, R, rho, phi0, charge)"
   ]
  },
  {
   "cell_type": "code",
   "execution_count": 6,
   "metadata": {
    "collapsed": false
   },
   "outputs": [
    {
     "name": "stdout",
     "output_type": "stream",
     "text": [
      "0.00677627510733\n"
     ]
    }
   ],
   "source": [
    "print (phiPrime - phi)/phiPrime"
   ]
  },
  {
   "cell_type": "code",
   "execution_count": 7,
   "metadata": {
    "collapsed": false
   },
   "outputs": [
    {
     "name": "stdout",
     "output_type": "stream",
     "text": [
      "phi direct = 1.28089778701\n",
      "phi direct - phi indirect = -2.22044604925e-16\n",
      "phi' direct = 1.27217628058\n",
      "phi' direct - phi' indirect = -0.0174604396395\n"
     ]
    }
   ],
   "source": [
    "phiTerm = R/(2*rho)\n",
    "phiTermDisplaced = ((rho+d0)**2+R**2-rho**2)/(2*R*(rho+d0))\n",
    "phiDirect = phi0-asin(phiTerm)\n",
    "print \"phi direct =\", phiDirect\n",
    "print \"phi direct - phi indirect =\", phiDirect - phi\n",
    "phiPrimeDirect = phi0-asin(phiTermDisplaced)\n",
    "print \"phi' direct =\", phiPrimeDirect\n",
    "print \"phi' direct - phi' indirect =\", phiPrimeDirect - phiPrime"
   ]
  },
  {
   "cell_type": "code",
   "execution_count": 8,
   "metadata": {
    "collapsed": false
   },
   "outputs": [
    {
     "name": "stdout",
     "output_type": "stream",
     "text": [
      "corrected phi = -0.000150524318563\n",
      "d0 = -0.0150524318563\n"
     ]
    }
   ],
   "source": [
    "correctedPhi = (phi - (phi0 - charge*phiTerm - charge/6.*phiTerm**3))\n",
    "print \"corrected phi =\", correctedPhi\n",
    "print \"d0 =\", correctedPhi*R"
   ]
  },
  {
   "cell_type": "code",
   "execution_count": 9,
   "metadata": {
    "collapsed": false
   },
   "outputs": [
    {
     "name": "stdout",
     "output_type": "stream",
     "text": [
      "First order prompt:\n",
      "-0.0040435397813\n"
     ]
    }
   ],
   "source": [
    "print \"First order prompt:\"\n",
    "print phiDirect - (phi0 - phiTerm)"
   ]
  },
  {
   "cell_type": "code",
   "execution_count": 10,
   "metadata": {
    "collapsed": false
   },
   "outputs": [
    {
     "name": "stdout",
     "output_type": "stream",
     "text": [
      "Second order prompt:\n",
      "-0.000150524318563\n"
     ]
    }
   ],
   "source": [
    "print \"Second order prompt:\"\n",
    "print phiDirect - (phi0 - phiTerm - 1/6.*phiTerm**3)"
   ]
  },
  {
   "cell_type": "code",
   "execution_count": 11,
   "metadata": {
    "collapsed": false
   },
   "outputs": [
    {
     "name": "stdout",
     "output_type": "stream",
     "text": [
      "First order displaced:\n"
     ]
    },
    {
     "data": {
      "text/plain": [
       "-0.004418440714867078"
      ]
     },
     "execution_count": 11,
     "metadata": {},
     "output_type": "execute_result"
    }
   ],
   "source": [
    "print \"First order displaced:\"\n",
    "phiPrimeDirect - (phi0 - phiTermDisplaced)"
   ]
  },
  {
   "cell_type": "code",
   "execution_count": 12,
   "metadata": {
    "collapsed": false
   },
   "outputs": [
    {
     "name": "stdout",
     "output_type": "stream",
     "text": [
      "Second order displaced:\n"
     ]
    },
    {
     "data": {
      "text/plain": [
       "-0.00017435775216867455"
      ]
     },
     "execution_count": 12,
     "metadata": {},
     "output_type": "execute_result"
    }
   ],
   "source": [
    "print \"Second order displaced:\"\n",
    "phiPrimeDirect - (phi0 - phiTermDisplaced - 1/6.*phiTermDisplaced**3)"
   ]
  },
  {
   "cell_type": "code",
   "execution_count": 13,
   "metadata": {
    "collapsed": false
   },
   "outputs": [
    {
     "name": "stdout",
     "output_type": "stream",
     "text": [
      "Third order displaced:\n"
     ]
    },
    {
     "data": {
      "text/plain": [
       "-0.008355658076176109"
      ]
     },
     "execution_count": 13,
     "metadata": {},
     "output_type": "execute_result"
    }
   ],
   "source": [
    "print \"Third order displaced:\"\n",
    "phiPrimeDirect - (phi0 - phiTerm - 1/6.*phiTermDisplaced**3 - 3./40.*phiTermDisplaced**5)"
   ]
  },
  {
   "cell_type": "code",
   "execution_count": 14,
   "metadata": {
    "collapsed": false
   },
   "outputs": [
    {
     "name": "stdout",
     "output_type": "stream",
     "text": [
      "First order displaced approximate:\n"
     ]
    },
    {
     "data": {
      "text/plain": [
       "-0.0027650462160562217"
      ]
     },
     "execution_count": 14,
     "metadata": {},
     "output_type": "execute_result"
    }
   ],
   "source": [
    "print \"First order displaced approximate:\"\n",
    "simplifiedPhiTermDisplaced = R/(2*rho)+d0/R\n",
    "phiPrimeDirect - (phi0 - simplifiedPhiTermDisplaced)"
   ]
  },
  {
   "cell_type": "code",
   "execution_count": 15,
   "metadata": {
    "collapsed": false
   },
   "outputs": [
    {
     "name": "stdout",
     "output_type": "stream",
     "text": [
      "Second order displaced approximate:\n"
     ]
    },
    {
     "data": {
      "text/plain": [
       "0.001550994068469036"
      ]
     },
     "execution_count": 15,
     "metadata": {},
     "output_type": "execute_result"
    }
   ],
   "source": [
    "print \"Second order displaced approximate:\"\n",
    "phiPrimeDirect - (phi0 - simplifiedPhiTermDisplaced - 1/6.*simplifiedPhiTermDisplaced**3)"
   ]
  },
  {
   "cell_type": "code",
   "execution_count": 16,
   "metadata": {
    "collapsed": false
   },
   "outputs": [
    {
     "name": "stdout",
     "output_type": "stream",
     "text": [
      "Second order displaced more approximate:\n"
     ]
    },
    {
     "data": {
      "text/plain": [
       "0.0011279692466772406"
      ]
     },
     "execution_count": 16,
     "metadata": {},
     "output_type": "execute_result"
    }
   ],
   "source": [
    "print \"Second order displaced more approximate:\"\n",
    "phiPrimeDirect - (phi0 - simplifiedPhiTermDisplaced - 1/6.*phiTerm**3)"
   ]
  },
  {
   "cell_type": "code",
   "execution_count": 17,
   "metadata": {
    "collapsed": false
   },
   "outputs": [
    {
     "name": "stdout",
     "output_type": "stream",
     "text": [
      "corrected phi = -0.0127650462161\n",
      "d0 = -1.27650462161\n",
      "corrected phi = -0.00887203075332\n",
      "d0 = -0.887203075332\n",
      "\n",
      "corrected phi = -0.00872888112375\n",
      "d0 = -0.872888112375\n",
      "\n",
      "corrected phi = -0.0084634653482\n",
      "d0 = -0.84634653482\n",
      "corrected phi = -0.00832031571863\n",
      "d0 = -0.832031571863\n"
     ]
    }
   ],
   "source": [
    "correctedPhi = (phiPrimeDirect - (phi0 - charge*phiTerm))\n",
    "print \"corrected phi =\", correctedPhi\n",
    "print \"d0 =\", correctedPhi*R\n",
    "correctedPhi = (phiPrimeDirect - (phi0 - charge*phiTerm - charge/6.*phiTerm**3))\n",
    "print \"corrected phi =\", correctedPhi\n",
    "print \"d0 =\", correctedPhi*R\n",
    "print\n",
    "correctedPhi = (phiPrimeDirect - (phi0 - charge*phiTerm - charge/6.*phiTerm**3 - charge*3./40.*phiTerm**5))\n",
    "print \"corrected phi =\", correctedPhi\n",
    "print \"d0 =\", correctedPhi*R\n",
    "print\n",
    "correctedPhi = (phiPrimeDirect - (phi0 - charge*phiTerm - charge/6.*phiTerm**3 - 1/2.*d0*(R/(2*rho)**2)))\n",
    "print \"corrected phi =\", correctedPhi\n",
    "print \"d0 =\", correctedPhi*R\n",
    "correctedPhi = (phiPrimeDirect - (phi0 - charge*phiTerm - charge/6.*phiTerm**3 - charge*(phiTerm**5)*3./40.- 1/2.*d0*(R/(2*rho)**2)))\n",
    "print \"corrected phi =\", correctedPhi\n",
    "print \"d0 =\", correctedPhi*R"
   ]
  },
  {
   "cell_type": "code",
   "execution_count": 47,
   "metadata": {
    "collapsed": false
   },
   "outputs": [
    {
     "name": "stdout",
     "output_type": "stream",
     "text": [
      "corrected phi = -0.000174357752169\n",
      "d0 = -0.0174357752169\n",
      "corrected phi = -9.05257498696e-06\n",
      "d0 = -0.000905257498696\n",
      "\n",
      "corrected phi = 0.0\n",
      "d0 = 0.0\n",
      "\n",
      "Correcting with the simplified phi term\n",
      "\n",
      "corrected phi = 0.00155099406847\n",
      "d0 = 0.155099406847\n",
      "corrected phi = 0.00172099677281\n",
      "d0 = 0.172099677281\n",
      "\n",
      "corrected phi = 0.00173041825171\n",
      "d0 = 0.173041825171\n"
     ]
    }
   ],
   "source": [
    "correctedPhi = (phiPrimeDirect - (phi0 - charge*phiTermDisplaced - charge/6.*phiTermDisplaced**3))\n",
    "print \"corrected phi =\", correctedPhi\n",
    "print \"d0 =\", correctedPhi*R\n",
    "correctedPhi = (phiPrimeDirect - (phi0 - charge*phiTermDisplaced - charge/6.*phiTermDisplaced**3 - charge*(phiTermDisplaced**5)*3./40.))\n",
    "print \"corrected phi =\", correctedPhi\n",
    "print \"d0 =\", correctedPhi*R\n",
    "print\n",
    "correctedPhi = (phiPrimeDirect - (phi0 - asin(phiTermDisplaced)))\n",
    "print \"corrected phi =\", correctedPhi\n",
    "print \"d0 =\", correctedPhi*R\n",
    "print\n",
    "print \"Correcting with the simplified phi term\"\n",
    "print\n",
    "correctedPhi = (phiPrimeDirect - (phi0 - charge*simplifiedPhiTermDisplaced - charge/6.*simplifiedPhiTermDisplaced**3))\n",
    "print \"corrected phi =\", correctedPhi\n",
    "print \"d0 =\", correctedPhi*R\n",
    "correctedPhi = (phiPrimeDirect - (phi0 - charge*simplifiedPhiTermDisplaced - charge/6.*simplifiedPhiTermDisplaced**3 - charge*(simplifiedPhiTermDisplaced**5)*3./40.))\n",
    "print \"corrected phi =\", correctedPhi\n",
    "print \"d0 =\", correctedPhi*R\n",
    "print\n",
    "correctedPhi = (phiPrimeDirect - (phi0 - asin(simplifiedPhiTermDisplaced)))\n",
    "print \"corrected phi =\", correctedPhi\n",
    "print \"d0 =\", correctedPhi*R\n",
    "\n"
   ]
  },
  {
   "cell_type": "markdown",
   "metadata": {},
   "source": [
    "The difference between the simplifiedPhiTermDisplaced = $\\frac{\\rho}{2R} + \\frac{d_{0}}{R}$ and the phiTermDisplaced = $\\frac{(\\rho+d_{0})^{2}+R^{2}-\\rho^{2}}{2R(\\rho+d_{0})}$ is significant. We decompose the phiTermDisplaced in its consituent terms and compare the relative importance."
   ]
  },
  {
   "cell_type": "code",
   "execution_count": 85,
   "metadata": {
    "collapsed": false
   },
   "outputs": [
    {
     "name": "stdout",
     "output_type": "stream",
     "text": [
      "1.0 100 0.01\n",
      "phiTerm = 0.285855\n",
      "phiTermDisplaced = 0.294201605501\n",
      "simplifiedPhiTermDisplaced = 0.295855\n",
      "phiTermDisplaced - phiTerm = 0.00834660550119\n",
      "simplifiedPhiTermDisplaced - phiTerm = 0.01\n",
      "\n",
      "Decomposing the simplifiedPhiTermDisplaced\n",
      "\n",
      "main term relative to full term = 96.6106313458%\n",
      "second term relative to full term = 3.37970759111%\n",
      "third term relative to full term = 0.00966106313458%\n",
      "\n",
      "Neglecting the d0 at denominator:\n",
      "\n",
      "Change in the full term = -0.57171%\n",
      "Change in the main term = -0.57171%\n",
      "Change in the second term = -0.57171%\n",
      "Change in the third term = -0.57171%\n",
      "Simplified main term relative to full term = 97.1629639862%\n",
      "\n",
      "simplified:\n",
      "\n",
      "Change in the full term = -0.561993703601%\n",
      "Change in the main term = -0.57171%\n",
      "Change in the second term = -0.57171%\n",
      "Change in the third term = -0.57171%\n"
     ]
    }
   ],
   "source": [
    "print d0, R, d0/R\n",
    "print \"phiTerm =\", phiTerm\n",
    "print \"phiTermDisplaced =\", phiTermDisplaced\n",
    "print \"simplifiedPhiTermDisplaced =\", simplifiedPhiTermDisplaced\n",
    "print \"phiTermDisplaced - phiTerm =\", phiTermDisplaced - phiTerm\n",
    "print \"simplifiedPhiTermDisplaced - phiTerm =\", simplifiedPhiTermDisplaced - phiTerm\n",
    "print\n",
    "print \"Decomposing the simplifiedPhiTermDisplaced\"\n",
    "print\n",
    "mainTerm = R/(2*(rho+d0))\n",
    "print \"main term relative to full term =\", str(100*mainTerm/phiTermDisplaced)+\"%\"\n",
    "secondTerm = 2*rho*d0/(2*R*(rho+d0))\n",
    "print \"second term relative to full term =\", str(100*secondTerm/phiTermDisplaced)+\"%\"\n",
    "thirdTerm = d0**2/(2*R*(rho+d0))\n",
    "print \"third term relative to full term =\", str(100*thirdTerm/phiTermDisplaced)+\"%\"\n",
    "\n",
    "print\n",
    "print \"Neglecting the d0 at denominator:\"\n",
    "print\n",
    "a = (2*rho*d0+d0**2+R**2)/(2*R*rho)\n",
    "print \"Change in the full term =\", str(100*(phiTermDisplaced-a)/phiTermDisplaced)+\"%\"\n",
    "print \"Change in the main term =\", str(100*(mainTerm-R/(2*rho))/mainTerm)+\"%\"\n",
    "print \"Change in the second term =\", str(100*(secondTerm-2*rho*d0/(2*R*rho))/secondTerm)+\"%\"\n",
    "print \"Change in the third term =\", str(100*(thirdTerm-d0**2/(2*R*rho))/thirdTerm)+\"%\"\n",
    "\n",
    "print \"Simplified main term relative to full term =\", str(100*R/(2*rho)/phiTermDisplaced)+\"%\"\n",
    "\n",
    "\n",
    "print\n",
    "print \"simplified:\"\n",
    "print\n",
    "a = (2*rho*d0+R**2)/(2*R*rho)\n",
    "print \"Change in the full term =\", str(100*(phiTermDisplaced-a)/phiTermDisplaced)+\"%\"\n",
    "print \"Change in the main term =\", str(100*(mainTerm-R**2/(2*R*rho))/mainTerm)+\"%\"\n",
    "print \"Change in the second term =\", str(100*(secondTerm-2*rho*d0/(2*R*rho))/secondTerm)+\"%\"\n",
    "print \"Change in the third term =\", str(100*(thirdTerm-d0**2/(2*R*rho))/thirdTerm)+\"%\""
   ]
  },
  {
   "cell_type": "code",
   "execution_count": 131,
   "metadata": {
    "collapsed": false
   },
   "outputs": [
    {
     "name": "stdout",
     "output_type": "stream",
     "text": [
      "R1 = 29.3808492467\n",
      "phi1 = 0.167235439667\n",
      "R2 = -117.521842745\n",
      "R3 = 128.714380319\n",
      "R4 = 29.0649350983\n",
      "R5 = 48.2681094238\n",
      "R6 = 21.9761638809\n"
     ]
    }
   ],
   "source": [
    "\n",
    "69.016032577738841\n",
    "89.273652183285705\n",
    "\n",
    "print \"R1 =\", 0.2703/sin(0.161-0.1518)\n",
    "R1 = -21.65\n",
    "print \"phi1 =\", 0.1518 - asin(R1/(2*41.96/0.003/3.8114)+0.2703/R1)\n",
    "\n",
    "print \"R2 =\", -0.2703/sin(0.1541-0.1518)\n",
    "print \"R3 =\", -0.2703/sin(0.1497-0.1518)\n",
    "print \"R4 =\", -0.2703/sin(0.1425-0.1518)\n",
    "print \"R5 =\", -0.2703/sin(0.1462-0.1518)\n",
    "print \"R6 =\", -0.2703/sin(0.1395-0.1518)"
   ]
  },
  {
   "cell_type": "code",
   "execution_count": 7,
   "metadata": {
    "collapsed": false
   },
   "outputs": [],
   "source": [
    "from sympy import *"
   ]
  },
  {
   "cell_type": "code",
   "execution_count": 10,
   "metadata": {
    "collapsed": false
   },
   "outputs": [
    {
     "data": {
      "text/plain": [
       "R**6 + 3*R**4*d0**2 + 6*R**4*d0*rho + 3*R**2*d0**4 + 12*R**2*d0**3*rho + 12*R**2*d0**2*rho**2 + d0**6 + 6*d0**5*rho + 12*d0**4*rho**2 + 8*d0**3*rho**3"
      ]
     },
     "execution_count": 10,
     "metadata": {},
     "output_type": "execute_result"
    }
   ],
   "source": [
    "rho = Symbol('rho')\n",
    "R = Symbol('R')\n",
    "d0 = Symbol('d0')\n",
    "expand(((2*rho*d0 + d0**2 + R**2))**3)"
   ]
  },
  {
   "cell_type": "code",
   "execution_count": 12,
   "metadata": {
    "collapsed": false
   },
   "outputs": [
    {
     "data": {
      "text/plain": [
       "d0**3 + 3*d0**2*rho + 3*d0*rho**2 + rho**3"
      ]
     },
     "execution_count": 12,
     "metadata": {},
     "output_type": "execute_result"
    }
   ],
   "source": [
    "expand((rho+d0)**3)"
   ]
  },
  {
   "cell_type": "code",
   "execution_count": 14,
   "metadata": {
    "collapsed": false
   },
   "outputs": [
    {
     "data": {
      "text/plain": [
       "R*d0*rho/(8*(3*d0*rho**2 + rho**3))"
      ]
     },
     "execution_count": 14,
     "metadata": {},
     "output_type": "execute_result"
    }
   ],
   "source": [
    "6*R**4*d0*rho/(8*R**3*(3*d0*rho**2 + rho**3))/6"
   ]
  },
  {
   "cell_type": "code",
   "execution_count": 10,
   "metadata": {
    "collapsed": false
   },
   "outputs": [
    {
     "name": "stdout",
     "output_type": "stream",
     "text": [
      "d0**2 = 0.25\n",
      "2*rho*d0 = 174.0\n",
      "R**2 = 10000\n",
      "rho+d0 = 174.5\n",
      "d0*(rho+d0) = 87.25\n",
      "d0*rho = 87.0\n"
     ]
    }
   ],
   "source": [
    "\n",
    "\n",
    "d0 = 0.5\n",
    "R = 100\n",
    "rho = 174\n",
    "\n",
    "print \"d0**2 =\", d0**2\n",
    "print \"2*rho*d0 =\", 2*rho*d0\n",
    "print \"R**2 =\", R**2\n",
    "print \"rho+d0 =\", rho+d0\n",
    "print \"d0*(rho+d0) =\", d0*(rho+d0)\n",
    "print \"d0*rho =\", d0*rho"
   ]
  },
  {
   "cell_type": "code",
   "execution_count": 12,
   "metadata": {
    "collapsed": false
   },
   "outputs": [
    {
     "data": {
      "text/plain": [
       "-1.0080784086449734"
      ]
     },
     "execution_count": 12,
     "metadata": {},
     "output_type": "execute_result"
    }
   ],
   "source": [
    "-22.1816/22.1072+0.167272/35.4917"
   ]
  },
  {
   "cell_type": "code",
   "execution_count": 16,
   "metadata": {
    "collapsed": false
   },
   "outputs": [
    {
     "name": "stdout",
     "output_type": "stream",
     "text": [
      "0.0450969032405\n",
      "-0.0352317\n",
      "-11.9498161359\n"
     ]
    }
   ],
   "source": [
    "print 0.994585/22.1072+0.00382296/35.4917\n",
    "print -0.119539+0.0843073\n",
    "print -0.119539/(1/22.1072-1/35.4917)-0.0843073/(1/22.1072-1/35.4917)"
   ]
  },
  {
   "cell_type": "code",
   "execution_count": 1,
   "metadata": {
    "collapsed": false
   },
   "outputs": [
    {
     "data": {
      "text/plain": [
       "-0.981551125704893"
      ]
     },
     "execution_count": 1,
     "metadata": {},
     "output_type": "execute_result"
    }
   ],
   "source": [
    "-33.7994/22.1072+18.9585/35.4917+0.102829/50.6335+1.5087/68.3771-0.0222567/88.5511-1.15026/107.746"
   ]
  },
  {
   "cell_type": "code",
   "execution_count": 1,
   "metadata": {
    "collapsed": false
   },
   "outputs": [
    {
     "data": {
      "text/plain": [
       "0.0023496847001711185"
      ]
     },
     "execution_count": 1,
     "metadata": {},
     "output_type": "execute_result"
    }
   ],
   "source": [
    "-1.599999950728558/22.1072+2.661461430953231/35.4917+0.0093679547982225/50.6335+0.002465514864157081/68.3771+0.0970485470738601/88.5511-0.1703482638128572/107.746"
   ]
  },
  {
   "cell_type": "code",
   "execution_count": 2,
   "metadata": {
    "collapsed": false
   },
   "outputs": [
    {
     "data": {
      "text/plain": [
       "0.99999171373104"
      ]
     },
     "execution_count": 2,
     "metadata": {},
     "output_type": "execute_result"
    }
   ],
   "source": [
    "-1.58954632671847+2.639044929381313+0.008708703743717461+0.009624966266848278+0.09164181376325994-0.1594823727056288"
   ]
  },
  {
   "cell_type": "code",
   "execution_count": 4,
   "metadata": {
    "collapsed": false
   },
   "outputs": [
    {
     "data": {
      "text/plain": [
       "0.0004644843465931659"
      ]
     },
     "execution_count": 4,
     "metadata": {},
     "output_type": "execute_result"
    }
   ],
   "source": [
    "0.2*(-1.58954632671847/22.1072+2.639044929381313/35.4917+0.008708703743717461/50.6335+0.009624966266848278/68.3771+0.09164181376325994/88.5511-0.1594823727056288/107.746)"
   ]
  },
  {
   "cell_type": "code",
   "execution_count": null,
   "metadata": {
    "collapsed": true
   },
   "outputs": [],
   "source": []
  },
  {
   "cell_type": "code",
   "execution_count": 5,
   "metadata": {
    "collapsed": false
   },
   "outputs": [
    {
     "data": {
      "text/plain": [
       "0.999994024531274"
      ]
     },
     "execution_count": 5,
     "metadata": {},
     "output_type": "execute_result"
    }
   ],
   "source": [
    "-1.596758466831582+2.65395553492354+0.006227736055086752+0.01200309427677315+0.1021406197363247-0.1775744936288686"
   ]
  },
  {
   "cell_type": "code",
   "execution_count": 6,
   "metadata": {
    "collapsed": false
   },
   "outputs": [
    {
     "data": {
      "text/plain": [
       "0.0023527307426250664"
      ]
     },
     "execution_count": 6,
     "metadata": {},
     "output_type": "execute_result"
    }
   ],
   "source": [
    "-1.596758466831582/22.1072+2.65395553492354/35.4917+0.006227736055086752/50.6335+0.01200309427677315/68.3771+0.1021406197363247/88.5511-0.1775744936288686/107.746"
   ]
  },
  {
   "cell_type": "code",
   "execution_count": null,
   "metadata": {
    "collapsed": true
   },
   "outputs": [],
   "source": []
  },
  {
   "cell_type": "code",
   "execution_count": 7,
   "metadata": {
    "collapsed": false
   },
   "outputs": [
    {
     "data": {
      "text/plain": [
       "0.9999955830181393"
      ]
     },
     "execution_count": 7,
     "metadata": {},
     "output_type": "execute_result"
    }
   ],
   "source": [
    "1.546791185072012-0.4026257348765219-0.2154697610074928+0.1968024912805476+0.4652166245212579-0.5907192219716635"
   ]
  },
  {
   "cell_type": "code",
   "execution_count": 9,
   "metadata": {
    "collapsed": false
   },
   "outputs": [
    {
     "data": {
      "text/plain": [
       "-4.3676241318735265e-05"
      ]
     },
     "execution_count": 9,
     "metadata": {},
     "output_type": "execute_result"
    }
   ],
   "source": [
    "1.546791185072012*22.1072-0.4026257348765219*35.4917-0.2154697610074928*50.6335+0.1968024912805476*68.3771+0.4652166245212579*88.5511-0.5907192219716635*107.746"
   ]
  },
  {
   "cell_type": "code",
   "execution_count": null,
   "metadata": {
    "collapsed": true
   },
   "outputs": [],
   "source": []
  },
  {
   "cell_type": "code",
   "execution_count": 12,
   "metadata": {
    "collapsed": false
   },
   "outputs": [
    {
     "data": {
      "text/plain": [
       "0.9999950293855568"
      ]
     },
     "execution_count": 12,
     "metadata": {},
     "output_type": "execute_result"
    }
   ],
   "source": [
    "1.493963934541313-0.3892546172312293-0.1872519798827216-0.1971433163344931+0.9055430174804489-0.6258620091877609"
   ]
  },
  {
   "cell_type": "code",
   "execution_count": 13,
   "metadata": {
    "collapsed": false
   },
   "outputs": [
    {
     "data": {
      "text/plain": [
       "4.163067914945279e-05"
      ]
     },
     "execution_count": 13,
     "metadata": {},
     "output_type": "execute_result"
    }
   ],
   "source": [
    "1.493963934541313/107.746-0.3892546172312293/88.5511-0.1872519798827216/68.3771-0.1971433163344931/50.6335+0.9055430174804489/35.4917-0.6258620091877609/22.1072"
   ]
  },
  {
   "cell_type": "markdown",
   "metadata": {},
   "source": [
    "With random noise"
   ]
  },
  {
   "cell_type": "code",
   "execution_count": 14,
   "metadata": {
    "collapsed": false
   },
   "outputs": [
    {
     "data": {
      "text/plain": [
       "0.9999926247409766"
      ]
     },
     "execution_count": 14,
     "metadata": {},
     "output_type": "execute_result"
    }
   ],
   "source": [
    "-0.07482321015852725-0.4911228577877493+0.2088134629327499+0.7057402344475511+0.8128496421796584-0.1614646468727062"
   ]
  },
  {
   "cell_type": "code",
   "execution_count": 15,
   "metadata": {
    "collapsed": false
   },
   "outputs": [
    {
     "data": {
      "text/plain": [
       "0.004903942279657212"
      ]
     },
     "execution_count": 15,
     "metadata": {},
     "output_type": "execute_result"
    }
   ],
   "source": [
    "-0.07482321015852725/22.1072-0.4911228577877493/35.4917+0.2088134629327499/50.6335+0.7057402344475511/68.3771+0.8128496421796584/88.5511-0.1614646468727062/107.746"
   ]
  },
  {
   "cell_type": "code",
   "execution_count": null,
   "metadata": {
    "collapsed": true
   },
   "outputs": [],
   "source": [
    "22.1072\n",
    "35.4917\n",
    "50.6335\n",
    "68.3771\n",
    "88.5511\n",
    "107.746"
   ]
  },
  {
   "cell_type": "code",
   "execution_count": 16,
   "metadata": {
    "collapsed": false
   },
   "outputs": [
    {
     "data": {
      "text/plain": [
       "0.9999986897701153"
      ]
     },
     "execution_count": 16,
     "metadata": {},
     "output_type": "execute_result"
    }
   ],
   "source": [
    "0.01117677490934665-0.6235364714205051+0.6279167707207386+0.06418241707331312+1.115537932247159-0.195278733759937"
   ]
  },
  {
   "cell_type": "code",
   "execution_count": 17,
   "metadata": {
    "collapsed": false
   },
   "outputs": [
    {
     "data": {
      "text/plain": [
       "0.0070621977995456164"
      ]
     },
     "execution_count": 17,
     "metadata": {},
     "output_type": "execute_result"
    }
   ],
   "source": [
    "0.01117677490934665/22.1072-0.6235364714205051/35.4917+0.6279167707207386/50.6335+0.06418241707331312/68.3771+1.115537932247159/88.5511-0.195278733759937/107.746"
   ]
  },
  {
   "cell_type": "code",
   "execution_count": null,
   "metadata": {
    "collapsed": true
   },
   "outputs": [],
   "source": []
  },
  {
   "cell_type": "code",
   "execution_count": 18,
   "metadata": {
    "collapsed": false
   },
   "outputs": [
    {
     "data": {
      "text/plain": [
       "1.0000187244168848"
      ]
     },
     "execution_count": 18,
     "metadata": {},
     "output_type": "execute_result"
    }
   ],
   "source": [
    "-0.2501105312923206+0.05842735387091935+0.2065959571283057+0.2805891918539007+0.3352927258010845+0.3692240270549952"
   ]
  },
  {
   "cell_type": "code",
   "execution_count": 28,
   "metadata": {
    "collapsed": false
   },
   "outputs": [
    {
     "data": {
      "text/plain": [
       "0.0011459406460460966"
      ]
     },
     "execution_count": 28,
     "metadata": {},
     "output_type": "execute_result"
    }
   ],
   "source": [
    "0.2*(-0.2501105312923206/22.1072+0.05842735387091935/35.4917+0.2065959571283057/50.6335+0.2805891918539007/68.3771+0.3352927258010845/88.5511+0.3692240270549952/107.746)"
   ]
  },
  {
   "cell_type": "code",
   "execution_count": 20,
   "metadata": {
    "collapsed": false
   },
   "outputs": [
    {
     "data": {
      "text/plain": [
       "0.9999329067679398"
      ]
     },
     "execution_count": 20,
     "metadata": {},
     "output_type": "execute_result"
    }
   ],
   "source": [
    "-0.2273383616901517+0.1492682766423534+0.305955848409638+0.1945157311302008+0.2149829521481953+0.3625484601277039"
   ]
  },
  {
   "cell_type": "code",
   "execution_count": 25,
   "metadata": {
    "collapsed": false
   },
   "outputs": [
    {
     "data": {
      "text/plain": [
       "0.0017204410740519688"
      ]
     },
     "execution_count": 25,
     "metadata": {},
     "output_type": "execute_result"
    }
   ],
   "source": [
    "0.2*(-0.2273383616901517/22.1072+0.1492682766423534/35.4917+0.305955848409638/50.6335+0.1945157311302008/68.3771+0.2149829521481953/88.5511+0.3625484601277039/107.746)"
   ]
  },
  {
   "cell_type": "code",
   "execution_count": 29,
   "metadata": {
    "collapsed": false
   },
   "outputs": [
    {
     "data": {
      "text/plain": [
       "0.0010601738500177413"
      ]
     },
     "execution_count": 29,
     "metadata": {},
     "output_type": "execute_result"
    }
   ],
   "source": [
    "0.2*(-0.2542197543754361/22.1072+0.04665887594932261/35.4917+0.1963475662115377/50.6335+0.2862721169134737/68.3771+0.344458322150049/88.5511+0.3804740725586762/107.746)"
   ]
  },
  {
   "cell_type": "code",
   "execution_count": null,
   "metadata": {
    "collapsed": true
   },
   "outputs": [],
   "source": []
  },
  {
   "cell_type": "code",
   "execution_count": 32,
   "metadata": {
    "collapsed": false
   },
   "outputs": [
    {
     "data": {
      "text/plain": [
       "0.9999926247409889"
      ]
     },
     "execution_count": 32,
     "metadata": {},
     "output_type": "execute_result"
    }
   ],
   "source": [
    "-0.0748232101535440051-0.4911228594811484146+0.20881346531683+0.7057402327770050826+0.8128496444336032854-0.1614646481517569831"
   ]
  },
  {
   "cell_type": "code",
   "execution_count": 33,
   "metadata": {
    "collapsed": false
   },
   "outputs": [
    {
     "data": {
      "text/plain": [
       "0.004903942268406377"
      ]
     },
     "execution_count": 33,
     "metadata": {},
     "output_type": "execute_result"
    }
   ],
   "source": [
    "-0.0748232101535440051/22.1072-0.4911228594811484146/35.4917+0.20881346531683/50.6335+0.7057402327770050826/68.3771+0.8128496444336032854/88.5511-0.1614646481517569831/107.746"
   ]
  },
  {
   "cell_type": "code",
   "execution_count": null,
   "metadata": {
    "collapsed": true
   },
   "outputs": [],
   "source": []
  },
  {
   "cell_type": "code",
   "execution_count": 34,
   "metadata": {
    "collapsed": false
   },
   "outputs": [
    {
     "data": {
      "text/plain": [
       "0.9999919699643338"
      ]
     },
     "execution_count": 34,
     "metadata": {},
     "output_type": "execute_result"
    }
   ],
   "source": [
    "-0.2541281827024179544+0.04616059193768304222+0.1968804186570089453+0.2861766819614973425+0.3446110351058409333+0.3802914250047213744"
   ]
  },
  {
   "cell_type": "code",
   "execution_count": 35,
   "metadata": {
    "collapsed": false
   },
   "outputs": [
    {
     "data": {
      "text/plain": [
       "0.005300129368273001"
      ]
     },
     "execution_count": 35,
     "metadata": {},
     "output_type": "execute_result"
    }
   ],
   "source": [
    "-0.2541281827024179544/22.1072+0.04616059193768304222/35.4917+0.1968804186570089453/50.6335+0.2861766819614973425/68.3771+0.3446110351058409333/88.5511+0.3802914250047213744/107.746"
   ]
  },
  {
   "cell_type": "code",
   "execution_count": null,
   "metadata": {
    "collapsed": true
   },
   "outputs": [],
   "source": []
  },
  {
   "cell_type": "code",
   "execution_count": 36,
   "metadata": {
    "collapsed": false
   },
   "outputs": [
    {
     "data": {
      "text/plain": [
       "0.9999963000000001"
      ]
     },
     "execution_count": 36,
     "metadata": {},
     "output_type": "execute_result"
    }
   ],
   "source": [
    "-0.25121+0.0452463+0.197508+0.290647+0.345024+0.372781"
   ]
  },
  {
   "cell_type": "code",
   "execution_count": 37,
   "metadata": {
    "collapsed": false
   },
   "outputs": [
    {
     "data": {
      "text/plain": [
       "0.005419100775766178"
      ]
     },
     "execution_count": 37,
     "metadata": {},
     "output_type": "execute_result"
    }
   ],
   "source": [
    "-0.25121/22.1072+0.0452463/35.4917+0.197508/50.6335+0.290647/68.3771+0.345024/88.5511+0.372781/107.746"
   ]
  },
  {
   "cell_type": "code",
   "execution_count": 38,
   "metadata": {
    "collapsed": false
   },
   "outputs": [
    {
     "data": {
      "text/plain": [
       "0.0052964008217954404"
      ]
     },
     "execution_count": 38,
     "metadata": {},
     "output_type": "execute_result"
    }
   ],
   "source": [
    "-0.254317/22.1072+0.0466731/35.4917+0.194865/50.6335+0.287931/68.3771+0.347155/88.5511+0.377683/107.746"
   ]
  },
  {
   "cell_type": "code",
   "execution_count": 39,
   "metadata": {
    "collapsed": false
   },
   "outputs": [
    {
     "data": {
      "text/plain": [
       "0.9999901"
      ]
     },
     "execution_count": 39,
     "metadata": {},
     "output_type": "execute_result"
    }
   ],
   "source": [
    "-0.254317+0.0466731+0.194865+0.287931+0.347155+0.377683"
   ]
  },
  {
   "cell_type": "code",
   "execution_count": 44,
   "metadata": {
    "collapsed": false
   },
   "outputs": [
    {
     "data": {
      "text/plain": [
       "0.0010584042385113344"
      ]
     },
     "execution_count": 44,
     "metadata": {},
     "output_type": "execute_result"
    }
   ],
   "source": [
    "0.2*(-0.254292/22.1072+0.046347/35.4917+0.196132/50.6335+0.28641/68.3771+0.345023/88.5511+0.380374/107.746)"
   ]
  },
  {
   "cell_type": "markdown",
   "metadata": {},
   "source": [
    "+/- 1 cm"
   ]
  },
  {
   "cell_type": "code",
   "execution_count": 42,
   "metadata": {
    "collapsed": false
   },
   "outputs": [
    {
     "data": {
      "text/plain": [
       "0.0003906365198976698"
      ]
     },
     "execution_count": 42,
     "metadata": {},
     "output_type": "execute_result"
    }
   ],
   "source": [
    "-0.38293/22.1072+0.00931809/35.4917+0.207457/50.6335+0.323251/68.3771+0.398582/88.5511+0.444317/107.746"
   ]
  },
  {
   "cell_type": "code",
   "execution_count": 45,
   "metadata": {
    "collapsed": false
   },
   "outputs": [
    {
     "data": {
      "text/plain": [
       "0.00039379843192783627"
      ]
     },
     "execution_count": 45,
     "metadata": {},
     "output_type": "execute_result"
    }
   ],
   "source": [
    "-0.382362/22.1072+0.0104548/35.4917+0.203684/50.6335+0.322751/68.3771+0.400276/88.5511+0.445194/107.746"
   ]
  },
  {
   "cell_type": "code",
   "execution_count": 46,
   "metadata": {
    "collapsed": false
   },
   "outputs": [
    {
     "data": {
      "text/plain": [
       "0.0006398648248784199"
      ]
     },
     "execution_count": 46,
     "metadata": {},
     "output_type": "execute_result"
    }
   ],
   "source": [
    "-0.12432378613/22.1072-0.41267444581/35.4917+0.31215747914/50.6335-0.45860837763/68.3771+1.39606213826/88.5511+0.28738999911/107.746\n"
   ]
  },
  {
   "cell_type": "code",
   "execution_count": 47,
   "metadata": {
    "collapsed": false
   },
   "outputs": [
    {
     "data": {
      "text/plain": [
       "0.0003942796898108404"
      ]
     },
     "execution_count": 47,
     "metadata": {},
     "output_type": "execute_result"
    }
   ],
   "source": [
    "-0.382538/22.1072+0.0105103/35.4917+0.204601/50.6335+0.322678/68.3771+0.398573/88.5511+0.446171/107.746"
   ]
  },
  {
   "cell_type": "code",
   "execution_count": null,
   "metadata": {
    "collapsed": true
   },
   "outputs": [],
   "source": []
  },
  {
   "cell_type": "code",
   "execution_count": null,
   "metadata": {
    "collapsed": true
   },
   "outputs": [],
   "source": [
    "-356.876\n",
    " 162.419\n",
    " 37.6923\n",
    " 7.56692\n",
    "-30.0337\n",
    " 21.8688"
   ]
  }
 ],
 "metadata": {
  "kernelspec": {
   "display_name": "Python 2",
   "language": "python",
   "name": "python2"
  },
  "language_info": {
   "codemirror_mode": {
    "name": "ipython",
    "version": 2
   },
   "file_extension": ".py",
   "mimetype": "text/x-python",
   "name": "python",
   "nbconvert_exporter": "python",
   "pygments_lexer": "ipython2",
   "version": "2.7.6"
  }
 },
 "nbformat": 4,
 "nbformat_minor": 0
}
