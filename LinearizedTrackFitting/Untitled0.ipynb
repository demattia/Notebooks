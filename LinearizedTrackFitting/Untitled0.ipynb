{
 "cells": [
  {
   "cell_type": "code",
   "execution_count": 1,
   "metadata": {
    "collapsed": true
   },
   "outputs": [],
   "source": [
    "import sys\n",
    "sys.path.append('/Users/demattia/Desktop/Notebooks')\n",
    "import rootprint\n",
    "import rootnotes\n",
    "from array import array\n",
    "# import LinearFitterHistograms\n",
    "\n",
    "from ROOT import TFile, TH1F, TCanvas, TLegend, TGraphErrors\n",
    "import math\n",
    "from itertools import chain"
   ]
  },
  {
   "cell_type": "code",
   "execution_count": 50,
   "metadata": {
    "collapsed": false
   },
   "outputs": [],
   "source": [
    "# Phi only\n",
    "# --------\n",
    "# Phi only, no charge split\n",
    "# input_file_name = \"/Users/demattia/RemoteProjects/Test/CombinationsTest/PhiOnly/Pt_2_3/linearFitterHistograms.root\"\n",
    "# input_file_name = \"/Users/demattia/RemoteProjects/Test/CombinationsTest/PhiOnly/Pt_3_5/linearFitterHistograms.root\"\n",
    "# input_file_name = \"/Users/demattia/RemoteProjects/Test/CombinationsTest/PhiOnly/Pt_2_5/linearFitterHistograms.root\"\n",
    "# input_file_name = \"/Users/demattia/RemoteProjects/Test/CombinationsTest/PhiOnly/Pt_2_10/linearFitterHistograms.root\"\n",
    "# input_file_name = \"/Users/demattia/RemoteProjects/Test/CombinationsTest/PhiOnly/Pt_5_10/linearFitterHistograms.root\"\n",
    "# input_file_name = \"/Users/demattia/RemoteProjects/Test/CombinationsTest/PhiOnly/Pt_10_30/linearFitterHistograms.root\"\n",
    "# input_file_name = \"/Users/demattia/RemoteProjects/Test/CombinationsTest/PhiOnly/Pt_50_80/linearFitterHistograms.root\"\n",
    "# input_file_name = \"/Users/demattia/RemoteProjects/Test/CombinationsTest/PhiOnly/Pt_100_more/linearFitterHistograms.root\"\n",
    "# input_file_name = \"/Users/demattia/RemoteProjects/Test/CombinationsTest/PhiOnly/Pt_2_more/linearFitterHistograms.root\"\n",
    "# input_file_name = \"/Users/demattia/RemoteProjects/Test/CombinationsTest/PhiOnly/Pt_5_more/linearFitterHistograms.root\"\n",
    "# input_file_name = \"/Users/demattia/RemoteProjects/Test/CombinationsTest/PhiOnly/Pt_10_more/linearFitterHistograms.root\"\n",
    "# input_file_name = \"/Users/demattia/RemoteProjects/Test/CombinationsTest/PhiOnly/Pt_2_10/ApplyOnPt_2_more/linearFitterHistograms.root\"\n",
    "# input_file_name = \"/Users/demattia/RemoteProjects/Test/CombinationsTest/PhiOnly/Pt_10_more/ApplyOnPt_2_more/linearFitterHistograms.root\"\n",
    "\n",
    "# Phi only, no charge split, fixed phi means to 0\n",
    "# input_file_name = \"/Users/demattia/RemoteProjects/Test/CombinationsTest/PhiOnly_NoChargeSplit_FixMeansPhi/Pt_2_5/linearFitterHistograms.root\"\n",
    "# input_file_name = \"/Users/demattia/RemoteProjects/Test/CombinationsTest/PhiOnly_NoChargeSplit_FixMeansPhi/Pt_10_30/linearFitterHistograms.root\"\n",
    "# input_file_name = \"/Users/demattia/RemoteProjects/Test/CombinationsTest/PhiOnly_NoChargeSplit_FixMeansPhi/Pt_50_80/linearFitterHistograms.root\"\n",
    "# input_file_name = \"/Users/demattia/RemoteProjects/Test/CombinationsTest/PhiOnly_NoChargeSplit_FixMeansPhi/Pt_100_more/linearFitterHistograms.root\"\n",
    "\n",
    "# Phi only, charge split\n",
    "# input_file_name = \"/Users/demattia/RemoteProjects/Test/CombinationsTest/PhiOnly_ChargeSplit/Pt_2_5/linearFitterHistograms.root\"\n",
    "# input_file_name = \"/Users/demattia/RemoteProjects/Test/CombinationsTest/PhiOnly_ChargeSplit/Pt_10_30/linearFitterHistograms.root\"\n",
    "# input_file_name = \"/Users/demattia/RemoteProjects/Test/CombinationsTest/PhiOnly_ChargeSplit/Pt_50_80/linearFitterHistograms.root\"\n",
    "# input_file_name = \"/Users/demattia/RemoteProjects/Test/CombinationsTest/PhiOnly_ChargeSplit/Pt_100_more/linearFitterHistograms.root\"\n",
    "\n",
    "# Phi only, charge split, fixed phi means to 0\n",
    "# input_file_name = \"/Users/demattia/RemoteProjects/Test/CombinationsTest/PhiOnly_ChargeSplit_FixMeansPhi/Pt_2_5/linearFitterHistograms.root\"\n",
    "# input_file_name = \"/Users/demattia/RemoteProjects/Test/CombinationsTest/PhiOnly_ChargeSplit_FixMeansPhi/Pt_10_30/linearFitterHistograms.root\"\n",
    "# input_file_name = \"/Users/demattia/RemoteProjects/Test/CombinationsTest/PhiOnly_ChargeSplit_FixMeansPhi/Pt_50_80/linearFitterHistograms.root\"\n",
    "# input_file_name = \"/Users/demattia/RemoteProjects/Test/CombinationsTest/PhiOnly_ChargeSplit_FixMeansPhi/Pt_100_more/linearFitterHistograms.root\"\n",
    "\n",
    "\n",
    "# Phi-R\n",
    "# -----\n",
    "# Phi-R, no charge split\n",
    "# input_file_name = \"/Users/demattia/RemoteProjects/Test/CombinationsTest/PhiR/Pt_2_5/linearFitterHistograms.root\"\n",
    "# input_file_name = \"/Users/demattia/RemoteProjects/Test/CombinationsTest/PhiR/Pt_10_30/linearFitterHistograms.root\"\n",
    "# input_file_name = \"/Users/demattia/RemoteProjects/Test/CombinationsTest/PhiR/Pt_50_80/linearFitterHistograms.root\"\n",
    "# input_file_name = \"/Users/demattia/RemoteProjects/Test/CombinationsTest/PhiR/Pt_100_more/linearFitterHistograms.root\"\n",
    "\n",
    "# Phi-R, no charge split, fixed phi means to 0\n",
    "# input_file_name = \"/Users/demattia/RemoteProjects/Test/CombinationsTest/PhiR_NoChargeSplit_FixMeansPhi/Pt_2_5/linearFitterHistograms.root\"\n",
    "# input_file_name = \"/Users/demattia/RemoteProjects/Test/CombinationsTest/PhiR_NoChargeSplit_FixMeansPhi/Pt_10_30/linearFitterHistograms.root\"\n",
    "# input_file_name = \"/Users/demattia/RemoteProjects/Test/CombinationsTest/PhiR_NoChargeSplit_FixMeansPhi/Pt_50_80/linearFitterHistograms.root\"\n",
    "# input_file_name = \"/Users/demattia/RemoteProjects/Test/CombinationsTest/PhiR_NoChargeSplit_FixMeansPhi/Pt_100_more/linearFitterHistograms.root\"\n",
    "\n",
    "# Phi-R, charge split\n",
    "# input_file_name = \"/Users/demattia/RemoteProjects/Test/CombinationsTest/PhiR_ChargeSplit/Pt_2_5/linearFitterHistograms.root\"\n",
    "# input_file_name = \"/Users/demattia/RemoteProjects/Test/CombinationsTest/PhiR_ChargeSplit/Pt_10_30/linearFitterHistograms.root\"\n",
    "# input_file_name = \"/Users/demattia/RemoteProjects/Test/CombinationsTest/PhiR_ChargeSplit/Pt_50_80/linearFitterHistograms.root\"\n",
    "# input_file_name = \"/Users/demattia/RemoteProjects/Test/CombinationsTest/PhiR_ChargeSplit/Pt_100_more/linearFitterHistograms.root\"\n",
    "# input_file_name = \"/Users/demattia/RemoteProjects/Test/CombinationsTest/PhiR_ChargeSplit/Pt_2_more/linearFitterHistograms.root\"\n",
    "# input_file_name = \"/Users/demattia/RemoteProjects/Test/CombinationsTest/PhiR_ChargeSplit/Pt_5_more/linearFitterHistograms.root\"\n",
    "# input_file_name = \"/Users/demattia/RemoteProjects/Test/CombinationsTest/PhiR_ChargeSplit/Pt_10_more/linearFitterHistograms.root\"\n",
    "\n",
    "# Phi-R, charge split, fixed phi means to 0\n",
    "# input_file_name = \"/Users/demattia/RemoteProjects/Test/CombinationsTest/PhiR_ChargeSplit_FixMeansPhi/Pt_2_5/linearFitterHistograms.root\"\n",
    "# input_file_name = \"/Users/demattia/RemoteProjects/Test/CombinationsTest/PhiR_ChargeSplit_FixMeansPhi/Pt_10_30/linearFitterHistograms.root\"\n",
    "# input_file_name = \"/Users/demattia/RemoteProjects/Test/CombinationsTest/PhiR_ChargeSplit_FixMeansPhi/Pt_50_80/linearFitterHistograms.root\"\n",
    "# input_file_name = \"/Users/demattia/RemoteProjects/Test/CombinationsTest/PhiR_ChargeSplit_FixMeansPhi/Pt_100_more/linearFitterHistograms.root\"\n",
    "\n",
    "\n",
    "# Phi-Phi/R\n",
    "# ---------\n",
    "# Phi-Phi/R, no charge split\n",
    "# input_file_name = \"/Users/demattia/RemoteProjects/Test/CombinationsTest/PhiPhiOverR/Pt_2_5/linearFitterHistograms.root\"\n",
    "# input_file_name = \"/Users/demattia/RemoteProjects/Test/CombinationsTest/PhiPhiOverR/Pt_10_30/linearFitterHistograms.root\"\n",
    "# input_file_name = \"/Users/demattia/RemoteProjects/Test/CombinationsTest/PhiPhiOverR/Pt_50_80/linearFitterHistograms.root\"\n",
    "# input_file_name = \"/Users/demattia/RemoteProjects/Test/CombinationsTest/PhiPhiOverR/Pt_100_more/linearFitterHistograms.root\"\n",
    "\n",
    "# Phi-Phi/R, no charge split, fixed phi means to 0\n",
    "# input_file_name = \"/Users/demattia/RemoteProjects/Test/CombinationsTest/PhiPhiOverR_NoChargeSplit_FixMeansPhi/Pt_2_5/linearFitterHistograms.root\"\n",
    "# input_file_name = \"/Users/demattia/RemoteProjects/Test/CombinationsTest/PhiPhiOverR_NoChargeSplit_FixMeansPhi/Pt_10_30/linearFitterHistograms.root\"\n",
    "# input_file_name = \"/Users/demattia/RemoteProjects/Test/CombinationsTest/PhiPhiOverR_NoChargeSplit_FixMeansPhi/Pt_50_80/linearFitterHistograms.root\"\n",
    "# input_file_name = \"/Users/demattia/RemoteProjects/Test/CombinationsTest/PhiPhiOverR_NoChargeSplit_FixMeansPhi/Pt_100_more/linearFitterHistograms.root\"\n",
    "\n",
    "# Phi-Phi/R, charge split\n",
    "# input_file_name = \"/Users/demattia/RemoteProjects/Test/CombinationsTest/PhiPhiOverR_ChargeSplit/Pt_2_5/linearFitterHistograms.root\"\n",
    "# input_file_name = \"/Users/demattia/RemoteProjects/Test/CombinationsTest/PhiPhiOverR_ChargeSplit/Pt_10_30/linearFitterHistograms.root\"\n",
    "# input_file_name = \"/Users/demattia/RemoteProjects/Test/CombinationsTest/PhiPhiOverR_ChargeSplit/Pt_50_80/linearFitterHistograms.root\"\n",
    "# input_file_name = \"/Users/demattia/RemoteProjects/Test/CombinationsTest/PhiPhiOverR_ChargeSplit/Pt_100_more/linearFitterHistograms.root\"\n",
    "\n",
    "# Phi-Phi/R, charge split, fixed phi means to 0\n",
    "# input_file_name = \"/Users/demattia/RemoteProjects/Test/CombinationsTest/PhiPhiOverR_ChargeSplit_FixMeansPhi/Pt_2_5/linearFitterHistograms.root\"\n",
    "# input_file_name = \"/Users/demattia/RemoteProjects/Test/CombinationsTest/PhiPhiOverR_ChargeSplit_FixMeansPhi/Pt_10_30/linearFitterHistograms.root\"\n",
    "# input_file_name = \"/Users/demattia/RemoteProjects/Test/CombinationsTest/PhiPhiOverR_ChargeSplit_FixMeansPhi/Pt_50_80/linearFitterHistograms.root\"\n",
    "# input_file_name = \"/Users/demattia/RemoteProjects/Test/CombinationsTest/PhiPhiOverR_ChargeSplit_FixMeansPhi/Pt_100_more/linearFitterHistograms.root\"\n",
    "\n",
    "\n",
    "# Phi, 1/R\n",
    "# --------\n",
    "# Phi-1/R, no charge split\n",
    "# input_file_name = \"/Users/demattia/RemoteProjects/Test/CombinationsTest/PhiOneOverR/Pt_2_5/linearFitterHistograms.root\"\n",
    "# input_file_name = \"/Users/demattia/RemoteProjects/Test/CombinationsTest/PhiOneOverR/Pt_10_30/linearFitterHistograms.root\"\n",
    "# input_file_name = \"/Users/demattia/RemoteProjects/Test/CombinationsTest/PhiOneOverR/Pt_50_80/linearFitterHistograms.root\"\n",
    "# input_file_name = \"/Users/demattia/RemoteProjects/Test/CombinationsTest/PhiOneOverR/Pt_100_more/linearFitterHistograms.root\"\n",
    "\n",
    "# Phi-1/R, no charge split, fixed phi means to 0\n",
    "# input_file_name = \"/Users/demattia/RemoteProjects/Test/CombinationsTest/PhiOneOverR_NoChargeSplit_FixMeansPhi/Pt_2_5/linearFitterHistograms.root\"\n",
    "# input_file_name = \"/Users/demattia/RemoteProjects/Test/CombinationsTest/PhiOneOverR_NoChargeSplit_FixMeansPhi/Pt_10_30/linearFitterHistograms.root\"\n",
    "# input_file_name = \"/Users/demattia/RemoteProjects/Test/CombinationsTest/PhiOneOverR_NoChargeSplit_FixMeansPhi/Pt_50_80/linearFitterHistograms.root\"\n",
    "# input_file_name = \"/Users/demattia/RemoteProjects/Test/CombinationsTest/PhiOneOverR_NoChargeSplit_FixMeansPhi/Pt_100_more/linearFitterHistograms.root\"\n",
    "\n",
    "# Phi-1/R, charge split\n",
    "# input_file_name = \"/Users/demattia/RemoteProjects/Test/CombinationsTest/PhiOneOverR_ChargeSplit/Pt_2_5/linearFitterHistograms.root\"\n",
    "# input_file_name = \"/Users/demattia/RemoteProjects/Test/CombinationsTest/PhiOneOverR_ChargeSplit/Pt_10_30/linearFitterHistograms.root\"\n",
    "# input_file_name = \"/Users/demattia/RemoteProjects/Test/CombinationsTest/PhiOneOverR_ChargeSplit/Pt_50_80/linearFitterHistograms.root\"\n",
    "# input_file_name = \"/Users/demattia/RemoteProjects/Test/CombinationsTest/PhiOneOverR_ChargeSplit/Pt_100_more/linearFitterHistograms.root\"\n",
    "\n",
    "# Phi-1/R, charge split, fixed phi means to 0\n",
    "# input_file_name = \"/Users/demattia/RemoteProjects/Test/CombinationsTest/PhiOneOverR_ChargeSplit_FixMeansPhi/Pt_2_5/linearFitterHistograms.root\"\n",
    "# input_file_name = \"/Users/demattia/RemoteProjects/Test/CombinationsTest/PhiOneOverR_ChargeSplit_FixMeansPhi/Pt_10_30/linearFitterHistograms.root\"\n",
    "# input_file_name = \"/Users/demattia/RemoteProjects/Test/CombinationsTest/PhiOneOverR_ChargeSplit_FixMeansPhi/Pt_50_80/linearFitterHistograms.root\"\n",
    "# input_file_name = \"/Users/demattia/RemoteProjects/Test/CombinationsTest/PhiOneOverR_ChargeSplit_FixMeansPhi/Pt_100_more/linearFitterHistograms.root\"\n",
    "\n",
    "\n",
    "# Phi-ChargeOverPtCorrectedR\n",
    "# input_file_name = \"/Users/demattia/RemoteProjects/Test/CombinationsTest/ChargeOverPtCorrectedR/Pt_2_3/linearFitterHistograms.root\"\n",
    "# input_file_name = \"/Users/demattia/RemoteProjects/Test/CombinationsTest/ChargeOverPtCorrectedR/Pt_3_5/linearFitterHistograms.root\"\n",
    "# input_file_name = \"/Users/demattia/RemoteProjects/Test/CombinationsTest/ChargeOverPtCorrectedR/Pt_2_5/linearFitterHistograms.root\"\n",
    "# input_file_name = \"/Users/demattia/RemoteProjects/Test/CombinationsTest/ChargeOverPtCorrectedR/Pt_2_10/linearFitterHistograms.root\"\n",
    "# input_file_name = \"/Users/demattia/RemoteProjects/Test/CombinationsTest/ChargeOverPtCorrectedR/Pt_2_more/linearFitterHistograms.root\"\n",
    "# input_file_name = \"/Users/demattia/RemoteProjects/Test/CombinationsTest/ChargeOverPtCorrectedR/Pt_5_more/linearFitterHistograms.root\"\n",
    "# input_file_name = \"/Users/demattia/RemoteProjects/Test/CombinationsTest/ChargeOverPtCorrectedR/Pt_10_more/linearFitterHistograms.root\"\n",
    "# input_file_name = \"/Users/demattia/RemoteProjects/Test/CombinationsTest/ChargeOverPtCorrectedR/Pt_2_10/ApplyOnPt_2_more/linearFitterHistograms.root\"\n",
    "# input_file_name = \"/Users/demattia/RemoteProjects/Test/CombinationsTest/ChargeOverPtCorrectedR/Pt_10_more/ApplyOnPt_2_more/linearFitterHistograms.root\"\n",
    "\n",
    "# Phi-ChargeOverPtCorrectedRCube\n",
    "# input_file_name = \"/Users/demattia/RemoteProjects/Test/CombinationsTest/ChargeOverPtCorrectedRCube/Pt_2_3/linearFitterHistograms.root\"\n",
    "# input_file_name = \"/Users/demattia/RemoteProjects/Test/CombinationsTest/ChargeOverPtCorrectedRCube/Pt_3_5/linearFitterHistograms.root\"\n",
    "# input_file_name = \"/Users/demattia/RemoteProjects/Test/CombinationsTest/ChargeOverPtCorrectedRCube/Pt_2_5/linearFitterHistograms.root\"\n",
    "# input_file_name = \"/Users/demattia/RemoteProjects/Test/CombinationsTest/ChargeOverPtCorrectedRCube/Pt_2_10/linearFitterHistograms.root\"\n",
    "# input_file_name = \"/Users/demattia/RemoteProjects/Test/CombinationsTest/ChargeOverPtCorrectedRCube/Pt_2_more/linearFitterHistograms.root\"\n",
    "# input_file_name = \"/Users/demattia/RemoteProjects/Test/CombinationsTest/ChargeOverPtCorrectedRCube/Pt_5_more/linearFitterHistograms.root\"\n",
    "# input_file_name = \"/Users/demattia/RemoteProjects/Test/CombinationsTest/ChargeOverPtCorrectedRCube/Pt_10_more/linearFitterHistograms.root\"\n",
    "# input_file_name = \"/Users/demattia/RemoteProjects/Test/CombinationsTest/ChargeOverPtCorrectedRCube/Pt_2_10/ApplyOnPt_2_more/linearFitterHistograms.root\"\n",
    "# input_file_name = \"/Users/demattia/RemoteProjects/Test/CombinationsTest/ChargeOverPtCorrectedRCube/Pt_10_more/ApplyOnPt_2_more/linearFitterHistograms.root\"\n",
    "\n",
    "# Phi, DeltaS, DeltaS*R\n",
    "# ---------------------\n",
    "# input_file_name = \"/Users/demattia/RemoteProjects/Test/CombinationsTest/PhiDeltaSDeltaSR/Pt_2_3/linearFitterHistograms.root\"\n",
    "# input_file_name = \"/Users/demattia/RemoteProjects/Test/CombinationsTest/PhiDeltaSDeltaSR/Pt_3_5/linearFitterHistograms.root\"\n",
    "# input_file_name = \"/Users/demattia/RemoteProjects/Test/CombinationsTest/PhiDeltaSDeltaSR/Pt_2_more/linearFitterHistograms.root\"\n",
    "# input_file_name = \"/Users/demattia/RemoteProjects/Test/CombinationsTest/PhiDeltaSDeltaSR/Pt_5_more/linearFitterHistograms.root\"\n",
    "# input_file_name = \"/Users/demattia/RemoteProjects/Test/CombinationsTest/PhiDeltaSDeltaSR/Pt_10_more/linearFitterHistograms.root\"\n",
    "# input_file_name = \"/Users/demattia/RemoteProjects/Test/CombinationsTest/PhiDeltaSDeltaSR/Pt_2_5/linearFitterHistograms.root\"\n",
    "# input_file_name = \"/Users/demattia/RemoteProjects/Test/CombinationsTest/PhiDeltaSDeltaSR/Pt_2_10/linearFitterHistograms.root\"\n",
    "\n",
    "# Phi, DeltaS\n",
    "# -----------\n",
    "# input_file_name = \"/Users/demattia/RemoteProjects/Test/CombinationsTest/PhiDeltaS/Pt_2_3/linearFitterHistograms.root\"\n",
    "\n",
    "# Phi, R*DeltaS\n",
    "# -----------------\n",
    "# input_file_name = \"/Users/demattia/RemoteProjects/Test/CombinationsTest/PhiDeltaSDeltaSR/Pt_2_3/linearFitterHistograms.root\"\n",
    "\n",
    "\n",
    "# Training 10_30\n",
    "# input_file_name = \"/Users/demattia/RemoteProjects/Test/CombinationsTest/PhiOnly/Pt_10_30/ApplyOnPt_50_80/linearFitterHistograms.root\"\n",
    "# input_file_name = \"/Users/demattia/RemoteProjects/Test/CombinationsTest/PhiOnly/Pt_10_30/ApplyOnPt_100_more/linearFitterHistograms.root\"\n",
    "\n",
    "\n",
    "# input_file_name = \"/Users/demattia/RemoteProjects/Test/CombinationsTest/CorrectedPhi/Pt_2_3/linearFitterHistograms.root\"\n",
    "# input_file_name = \"/Users/demattia/RemoteProjects/Test/CombinationsTest/CorrectedPhi/Pt_3_5/linearFitterHistograms.root\"\n",
    "# input_file_name = \"/Users/demattia/RemoteProjects/Test/CombinationsTest/CorrectedPhi/Pt_2_5/linearFitterHistograms.root\"\n",
    "# input_file_name = \"/Users/demattia/RemoteProjects/Test/CombinationsTest/CorrectedPhi/Pt_2_10/linearFitterHistograms.root\"\n",
    "# input_file_name = \"/Users/demattia/RemoteProjects/Test/CombinationsTest/CorrectedPhi/Pt_5_10/linearFitterHistograms.root\"\n",
    "# input_file_name = \"/Users/demattia/RemoteProjects/Test/CombinationsTest/CorrectedPhi/Pt_10_30/linearFitterHistograms.root\"\n",
    "# input_file_name = \"/Users/demattia/RemoteProjects/Test/CombinationsTest/CorrectedPhi/Pt_50_80/linearFitterHistograms.root\"\n",
    "# input_file_name = \"/Users/demattia/RemoteProjects/Test/CombinationsTest/CorrectedPhi/Pt_100_more/linearFitterHistograms.root\"\n",
    "# input_file_name = \"/Users/demattia/RemoteProjects/Test/CombinationsTest/CorrectedPhi/Pt_2_more/linearFitterHistograms.root\"\n",
    "# input_file_name = \"/Users/demattia/RemoteProjects/Test/CombinationsTest/CorrectedPhi/Pt_5_more/linearFitterHistograms.root\"\n",
    "# input_file_name = \"/Users/demattia/RemoteProjects/Test/CombinationsTest/CorrectedPhi/Pt_10_more/linearFitterHistograms.root\"\n",
    "\n",
    "\n",
    "# input_file_name = \"/Users/demattia/RemoteProjects/Test/CombinationsTest/CorrectedPhiSecondOrder/Pt_2_10/linearFitterHistograms.root\"\n",
    "# input_file_name = \"/Users/demattia/RemoteProjects/Test/CombinationsTest/CorrectedPhiSecondOrder/Pt_2_more/linearFitterHistograms.root\"\n",
    "# input_file_name = \"/Users/demattia/RemoteProjects/Test/CombinationsTest/CorrectedPhiSecondOrder/Pt_5_more/linearFitterHistograms.root\"\n",
    "# input_file_name = \"/Users/demattia/RemoteProjects/Test/CombinationsTest/CorrectedPhiSecondOrder/Pt_10_more/linearFitterHistograms.root\"\n",
    "# input_file_name = \"/Users/demattia/RemoteProjects/Test/CombinationsTest/CorrectedPhiSecondOrder/Pt_10_more/ApplyOnPt_2_more/linearFitterHistograms.root\"\n",
    "\n",
    "\n",
    "# input_file_name = \"/Users/demattia/RemoteProjects/Test/CombinationsTest/CorrectedPhiSecondOrderChargeOverPtCorrectedR/Pt_2_more/linearFitterHistograms.root\"\n",
    "# input_file_name = \"/Users/demattia/RemoteProjects/Test/CombinationsTest/CorrectedPhiSecondOrderChargeOverPtCorrectedR/Pt_5_more/linearFitterHistograms.root\"\n",
    "# input_file_name = \"/Users/demattia/RemoteProjects/Test/CombinationsTest/CorrectedPhiSecondOrderChargeOverPtCorrectedR/Pt_10_more/linearFitterHistograms.root\"\n",
    "\n",
    "# input_file_name = \"/Users/demattia/RemoteProjects/Test/CombinationsTest/CorrectedZ/Pt_2_more/linearFitterHistograms.root\"\n",
    "# input_file_name = \"/Users/demattia/RemoteProjects/Test/CombinationsTest/CorrectedZ/Pt_5_more/linearFitterHistograms.root\"\n",
    "# input_file_name = \"/Users/demattia/RemoteProjects/Test/CombinationsTest/CorrectedZ/Pt_10_more/linearFitterHistograms.root\"\n",
    "\n",
    "# input_file_name = \"/Users/demattia/RemoteProjects/Test/CombinationsTest/CorrectedZSecondOrder/Pt_2_more/linearFitterHistograms.root\"\n",
    "\n",
    "# input_file_name = \"/Users/demattia/RemoteProjects/Test/CombinationsTest/CorrectedPhiCorrectedZ/Pt_2_more/linearFitterHistograms.root\"\n",
    "\n",
    "# input_file_name = \"/Users/demattia/RemoteProjects/Test/CombinationsTest/CorrectedPhiSecondOrderCorrectedZ/Pt_2_more/linearFitterHistograms.root\"\n",
    "# input_file_name = \"/Users/demattia/RemoteProjects/Test/CombinationsTest/CorrectedPhiSecondOrderCorrectedZ/Pt_2_10/linearFitterHistograms.root\"\n",
    "# input_file_name = \"/Users/demattia/RemoteProjects/Test/CombinationsTest/CorrectedPhiSecondOrderCorrectedZ/Pt_10_more/linearFitterHistograms.root\"\n",
    "\n",
    "# input_file_name = \"/Users/demattia/RemoteProjects/Test/CombinationsTest/PhiZ/Pt_2_10/linearFitterHistograms.root\"\n",
    "# input_file_name = \"/Users/demattia/RemoteProjects/Test/CombinationsTest/PhiZ/Pt_10_more/linearFitterHistograms.root\"\n",
    "\n",
    "\n",
    "# Five out of six for the transverse plane\n",
    "# input_file_name = \"/Users/demattia/RemoteProjects/Test/FiveOutOfSix/PhiOnly_All/Pt_2_10/linearFitterHistograms.root\"\n",
    "# input_file_name = \"/Users/demattia/RemoteProjects/Test/FiveOutOfSix/CorrectedPhiSecondOrder_All/Pt_2_10/linearFitterHistograms.root\"\n",
    "# input_file_name = \"/Users/demattia/RemoteProjects/Test/FiveOutOfSix/CorrectedPhiSecondOrder_Removed_5/Pt_2_10/linearFitterHistograms.root\"\n",
    "# input_file_name = \"/Users/demattia/RemoteProjects/Test/FiveOutOfSix/CorrectedPhiSecondOrder_Removed_6/Pt_2_10/linearFitterHistograms.root\"\n",
    "# input_file_name = \"/Users/demattia/RemoteProjects/Test/FiveOutOfSix/CorrectedPhiSecondOrder_Removed_7/Pt_2_10/linearFitterHistograms.root\"\n",
    "# input_file_name = \"/Users/demattia/RemoteProjects/Test/FiveOutOfSix/CorrectedPhiSecondOrder_Removed_8/Pt_2_10/linearFitterHistograms.root\"\n",
    "# input_file_name = \"/Users/demattia/RemoteProjects/Test/FiveOutOfSix/CorrectedPhiSecondOrder_Removed_9/Pt_2_10/linearFitterHistograms.root\"\n",
    "# input_file_name = \"/Users/demattia/RemoteProjects/Test/FiveOutOfSix/CorrectedPhiSecondOrder_Removed_10/Pt_2_10/linearFitterHistograms.root\"\n",
    "# input_file_name = \"/Users/demattia/RemoteProjects/Test/FiveOutOfSix/CorrectedPhiSecondOrder_All/Pt_10_more/linearFitterHistograms.root\"\n",
    "# input_file_name = \"/Users/demattia/RemoteProjects/Test/FiveOutOfSix/CorrectedPhiSecondOrder_Removed_5/Pt_10_more/linearFitterHistograms.root\"\n",
    "# input_file_name = \"/Users/demattia/RemoteProjects/Test/FiveOutOfSix/CorrectedPhiSecondOrder_Removed_6/Pt_10_more/linearFitterHistograms.root\"\n",
    "# input_file_name = \"/Users/demattia/RemoteProjects/Test/FiveOutOfSix/CorrectedPhiSecondOrder_Removed_7/Pt_10_more/linearFitterHistograms.root\"\n",
    "# input_file_name = \"/Users/demattia/RemoteProjects/Test/FiveOutOfSix/CorrectedPhiSecondOrder_Removed_8/Pt_10_more/linearFitterHistograms.root\"\n",
    "# input_file_name = \"/Users/demattia/RemoteProjects/Test/FiveOutOfSix/CorrectedPhiSecondOrder_Removed_9/Pt_10_more/linearFitterHistograms.root\"\n",
    "# input_file_name = \"/Users/demattia/RemoteProjects/Test/FiveOutOfSix/CorrectedPhiSecondOrder_Removed_10/Pt_10_more/linearFitterHistograms.root\"\n",
    "\n",
    "# Five out of six for the longitudinal direction\n",
    "# input_file_name = \"/Users/demattia/RemoteProjects/Test/FiveOutOfSix/CorrectedZSecondOrder_All/Pt_2_more/linearFitterHistograms.root\"\n",
    "# input_file_name = \"/Users/demattia/RemoteProjects/Test/FiveOutOfSix/CorrectedZSecondOrder_Removed_5/Pt_2_more/linearFitterHistograms.root\"\n",
    "# input_file_name = \"/Users/demattia/RemoteProjects/Test/FiveOutOfSix/CorrectedZSecondOrder_Removed_6/Pt_2_more/linearFitterHistograms.root\"\n",
    "# input_file_name = \"/Users/demattia/RemoteProjects/Test/FiveOutOfSix/CorrectedZSecondOrder_Removed_7/Pt_2_more/linearFitterHistograms.root\"\n",
    "# input_file_name = \"/Users/demattia/RemoteProjects/Test/FiveOutOfSix/CorrectedZSecondOrder_Removed_10/Pt_2_more/linearFitterHistograms.root\"\n",
    "\n",
    "\n",
    "\n",
    "\n",
    "input_file_name = \"/Users/demattia/RemoteProjects/Test/linearFitterHistograms.root\"\n",
    "# input_file_name = \"/Users/demattia/RemoteProjects/Test/fullLinearFitterHistograms.root\"\n"
   ]
  },
  {
   "cell_type": "code",
   "execution_count": 51,
   "metadata": {
    "collapsed": false
   },
   "outputs": [],
   "source": [
    "def compute_bins(pts, pt_min, pt_max, total_bins):\n",
    "    bin_size = (pt_max - pt_min)/total_bins\n",
    "    pt_bins = []\n",
    "    for pt in pts:\n",
    "        pt_bins.append(int((pt-pt_min)/bin_size)+1)\n",
    "    return pt_bins\n",
    "\n",
    "\n",
    "def fit_slices(input_file_name, h_name, bin_values, value_min, value_max, total_bins,\n",
    "               mean_y_min, mean_y_max, sigma_y_min, sigma_y_max,\n",
    "               x_title, y_title, sigma_y_title):\n",
    "    input_file = TFile(input_file_name, \"READ\")\n",
    "    h = input_file.FindObjectAny(h_name)\n",
    "    c1 = TCanvas(\"c1\", \"c1\", 600, 600)\n",
    "    c1.SetRightMargin(0.15)\n",
    "    c1.SetBottomMargin(0.15)\n",
    "    h.Draw()\n",
    "    c1.Update()\n",
    "    h.Draw(\"COLZ\")\n",
    "    c1.Update()\n",
    "    h.Draw(\"COLZ\")\n",
    "    h.GetXaxis().SetRangeUser(bin_values[0], bin_values[-1])\n",
    "    h.SetTitle(\"\")\n",
    "    h.GetXaxis().SetTitle(x_title)\n",
    "    h.GetXaxis().SetTitleOffset(1.4)\n",
    "    h.GetXaxis().SetLabelSize(0.035)\n",
    "    h.GetXaxis().SetTitleSize(0.035)\n",
    "    h.GetYaxis().SetTitle(y_title)\n",
    "    h.GetYaxis().SetTitleOffset(1.6)\n",
    "    h.GetYaxis().SetTitleSize(0.035)\n",
    "    h.GetYaxis().SetLabelSize(0.035)\n",
    "    pal = h.GetListOfFunctions().FindObject(\"palette\")\n",
    "    if pal:\n",
    "        pal.GetAxis().SetLabelSize(0.035)\n",
    "        pal.GetAxis().SetTitleSize(0.035)\n",
    "        pal.GetAxis().SetTitleOffset(1.4)\n",
    "        pal.GetAxis().SetTitle(\"Entries\")\n",
    "        c1.Update()\n",
    "    # c1\n",
    "\n",
    "    bin_edges = compute_bins(bin_values, value_min, value_max, total_bins)\n",
    "    print \"bin_edges =\", bin_edges\n",
    "    projections = []\n",
    "    bin_center = []\n",
    "    bin_size = []\n",
    "    mean = []\n",
    "    meanError = []\n",
    "    sigma = []\n",
    "    sigmaError = []\n",
    "\n",
    "    c2 = TCanvas(\"c2\", \"c2\", 400, 800)\n",
    "    c2.Divide(2, len(bin_edges)/2)\n",
    "    for i in range(len(bin_edges)-1):\n",
    "        c2.cd(i+1)\n",
    "        bin_center.append((bin_values[i+1]+bin_values[i])/2.)\n",
    "        bin_size.append((bin_values[i+1]-bin_values[i])/2.)\n",
    "        projY = h.ProjectionY(h.GetName()+\"_py\"+str(i), bin_edges[i], bin_edges[i+1]-1)\n",
    "        mean.append(0.)\n",
    "        meanError.append(0.)\n",
    "        sigma.append(0.)\n",
    "        sigmaError.append(0.)\n",
    "        if projY.GetEntries() > 0:\n",
    "            projections.append(projY)\n",
    "            projY.Fit(\"gaus\")\n",
    "            try:\n",
    "                mean[-1] = projY.GetFunction(\"gaus\").GetParameter(1)\n",
    "                meanError[-1] = projY.GetFunction(\"gaus\").GetParError(1)\n",
    "                sigma[-1] = projY.GetFunction(\"gaus\").GetParameter(2)\n",
    "                sigmaError[-1] = projY.GetFunction(\"gaus\").GetParError(2)\n",
    "            except:\n",
    "                pass\n",
    "\n",
    "    hMeans = TGraphErrors(len(bin_edges), array('d', bin_center), array('d', mean), array('d', bin_size), array('d', meanError))\n",
    "    hSigmas = TGraphErrors(len(bin_edges), array('d', bin_center), array('d', sigma), array('d', bin_size), array('d', sigmaError))\n",
    "\n",
    "    c3 = TCanvas(\"Resolutions\", \"Resolutions\", 800, 400)\n",
    "    c3.Divide(2, 1)\n",
    "    c3.cd(1)\n",
    "    hMeans.Draw(\"APE\")\n",
    "    hMeans.SetTitle(\"\")\n",
    "    hMeans.SetMarkerStyle(20)\n",
    "    hMeans.SetMarkerSize(0.5)\n",
    "    hMeans.GetYaxis().SetRangeUser(mean_y_min, mean_y_max)\n",
    "    hMeans.GetXaxis().SetTitle(x_title)\n",
    "    hMeans.GetYaxis().SetTitleOffset(1.5)\n",
    "    hMeans.GetYaxis().SetTitle(y_title + \" means\")\n",
    "    c3.cd(2)\n",
    "    hSigmas.Draw(\"APE\")\n",
    "    hSigmas.SetTitle(\"\")\n",
    "    hSigmas.SetMarkerStyle(20)\n",
    "    hSigmas.SetMarkerSize(0.5)\n",
    "    hSigmas.GetYaxis().SetRangeUser(sigma_y_min, sigma_y_max)\n",
    "    hSigmas.GetXaxis().SetTitle(x_title)\n",
    "    hSigmas.GetYaxis().SetTitleOffset(1.5)\n",
    "    hSigmas.GetYaxis().SetTitle(sigma_y_title)\n",
    "    # c3\n",
    "    \n",
    "    return c1, c2, c3, hMeans, hSigmas, projections, h, bin_values, value_min, value_max, total_bins, input_file\n",
    "\n",
    "\n",
    "def draw_chi2ndof(input_file_name):\n",
    "    input_file = TFile(input_file_name, \"READ\")\n",
    "    h = input_file.FindObjectAny(\"normChi2_summary\")\n",
    "    print h\n",
    "    c = TCanvas(\"c_chi2Ndof\", \"c_chi2Ndof\", 600, 600)\n",
    "    h.Draw()\n",
    "    h.SetTitle(\"\")\n",
    "    h.GetXaxis().SetTitle(\"\\chi^2/ndof\")\n",
    "    h.GetXaxis().SetTitleOffset(1.2)\n",
    "    h.GetYaxis().SetTitle(\"Entries\")\n",
    "    h.GetYaxis().SetTitleOffset(1.4)\n",
    "    return c, h, input_file"
   ]
  },
  {
   "cell_type": "markdown",
   "metadata": {},
   "source": [
    "## Pt Bias and Resolution"
   ]
  },
  {
   "cell_type": "code",
   "execution_count": 52,
   "metadata": {
    "collapsed": false
   },
   "outputs": [
    {
     "name": "stdout",
     "output_type": "stream",
     "text": [
      "bin_edges = [191, 192, 193, 194, 195, 196, 197, 198, 199, 203, 204, 205, 206, 207, 208, 209, 210, 211]\n"
     ]
    },
    {
     "name": "stderr",
     "output_type": "stream",
     "text": [
      "TCanvas::Constructor:0: RuntimeWarning: Deleting canvas with same name: c1\n",
      "TCanvas::Constructor:0: RuntimeWarning: Deleting canvas with same name: c2\n",
      "TCanvas::Constructor:0: RuntimeWarning: Deleting canvas with same name: Resolutions\n"
     ]
    },
    {
     "data": {
      "image/png": "[encoded data removed]",
      "text/plain": [
       "<ROOT.TCanvas object (\"Resolutions\") at 0x7fcd671728a0>"
      ]
     },
     "execution_count": 52,
     "metadata": {},
     "output_type": "execute_result"
    }
   ],
   "source": [
    "pt_bin_edge = []\n",
    "\n",
    "# pt_min = -10.\n",
    "# pt_max = 10.\n",
    "# pt_bin_edge = [10*n for n in chain(range(-20, -9), range(10, 21))]\n",
    "# pt_bin_edge = [n for n in chain(range(-10, -1), range(2, 11))]\n",
    "# pt_bin_edge = [n for n in chain(range(-30, -9), range(10, 31))]\n",
    "# pt_bin_edge = [50*n for n in chain(range(-20, 0), range(1, 22))]\n",
    "\n",
    "min_x = -0.005\n",
    "max_x = 0.005\n",
    "min_x = -0.02\n",
    "max_x = 0.02\n",
    "# min_x = -0.05\n",
    "# max_x = 0.05\n",
    "\n",
    "\n",
    "# pt_min = -10.\n",
    "# pt_max = 10.\n",
    "pt_bin_edge = [n for n in chain(range(-10, -1), range(2, 11))]\n",
    "# pt_min = -30.\n",
    "# pt_max = 30.\n",
    "# pt_bin_edge = [n for n in chain(range(-30, -9), range(10, 31))]\n",
    "# pt_min = -200.\n",
    "# pt_max = 200.\n",
    "# pt_bin_edge = [10*n for n in chain(range(-20, -9), range(10, 21))]\n",
    "# pt_bin_edge = [10*n for n in chain(range(-20, -4), range(5, 21))]\n",
    "# pt_min = -1000.\n",
    "# pt_max = 1000.\n",
    "# pt_bin_edge = [100*n for n in chain(range(-10, -1), range(1, 11))]\n",
    "\n",
    "# Full pt range\n",
    "# pt_bin_edge = [n for n in chain(range(-200, -1), range(2, 201))]\n",
    "# pt_bin_edge = [10*n for n in chain(range(-20, -2), range(2, 21))]+[n for n in chain(range(-20, -1), range(2, 21))]\n",
    "\n",
    "# pt_bin_edge = [10*n for n in chain(range(-20, -1), range(2, 21))]\n",
    "\n",
    "\n",
    "\n",
    "total_bins = 400\n",
    "\n",
    "# min_x = -1.\n",
    "# max_x = 1.\n",
    "pt_min = -200.\n",
    "pt_max = 200.\n",
    "\n",
    "\n",
    "if input_file_name.find(\"Pt_2_more\") != -1:\n",
    "    # pt_bin_edge = [10*n for n in chain(range(-20, -1), range(2, 21))]\n",
    "    # pt_bin_edge = [n for n in chain(range(-20, -1), range(2, 21))]\n",
    "    pt_bin_edge = [n for n in chain(range(-200, -1), range(2, 201))]\n",
    "    # pt_bin_edge = [n for n in range(2, 101)]\n",
    "    # pt_bin_edge = [10*n for n in range(-20, -2)]+[n for n in chain(range(-19, -1), range(2, 11))]\n",
    "    pt_bin_edge = [10*n for n in chain(range(-20, -2), range(2, 21))]+[n for n in chain(range(-20, -1), range(2, 21))]\n",
    "    # pt_bin_edge = [10*n for n in range(6, 21)]+[2*n for n in range(1, 31)]\n",
    "    # pt_bin_edge = [10*n for n in range(-20, -2)]+[2*n for n in range(-19, -1)]\n",
    "    # pt_bin_edge = [10*n for n in range(-20, -5)] + [n for n in chain(range(-50, -1), range(2, 51))] + [10*n for n in range(6, 21)]\n",
    "    pt_min = -200.\n",
    "    pt_max = 200.\n",
    "elif input_file_name.find(\"Pt_2_3\") != -1:\n",
    "    pt_bin_edge = [n for n in chain(range(-3, -1), range(2, 4))]\n",
    "    pt_min = -200.\n",
    "    pt_max = 200.\n",
    "elif input_file_name.find(\"Pt_3_5\") != -1:\n",
    "    pt_bin_edge = [n for n in chain(range(-5, -1), range(2, 6))]\n",
    "    pt_min = -200.\n",
    "    pt_max = 200.\n",
    "elif input_file_name.find(\"Pt_2_5\") != -1:\n",
    "    pt_bin_edge = [n for n in chain(range(-5, -1), range(2, 6))]\n",
    "    pt_min = -200.\n",
    "    pt_max = 200.\n",
    "elif input_file_name.find(\"Pt_2_5\") != -1:\n",
    "    pt_bin_edge = [n for n in chain(range(-5, -1), range(2, 6))]\n",
    "    pt_min = -200.\n",
    "    pt_max = 200.\n",
    "elif input_file_name.find(\"Pt_2_10\") != -1:\n",
    "    pt_bin_edge = [n for n in chain(range(-10, -1), range(2, 11))]\n",
    "    pt_min = -200.\n",
    "    pt_max = 200.\n",
    "elif input_file_name.find(\"Pt_5_10\") != -1:\n",
    "    pt_bin_edge = [n for n in chain(range(-10, -1), range(2, 11))]\n",
    "    pt_min = -200.\n",
    "    pt_max = 200.\n",
    "elif input_file_name.find(\"Pt_10_30\") != -1:\n",
    "    pt_bin_edge = [n for n in chain(range(-30, -9), range(10, 31))]\n",
    "    pt_min = -200.\n",
    "    pt_max = 200.\n",
    "elif input_file_name.find(\"Pt_50_80\") != -1:\n",
    "    pt_bin_edge = [5*n for n in chain(range(-16, -9), range(10, 17))]\n",
    "    pt_min = -200.\n",
    "    pt_max = 200.\n",
    "elif input_file_name.find(\"Pt_100_more\") != -1:\n",
    "    # pt_bin_edge = [-200, -190, -180, -170, -160, -150, -100, 100, 150, 200]\n",
    "    pt_bin_edge = [10*n for n in chain(range(-20, -9), range(10, 21))]\n",
    "    pt_min = -200.\n",
    "    pt_max = 200.\n",
    "elif input_file_name.find(\"Pt_5_more\") != -1:\n",
    "    pt_bin_edge = [5*n for n in chain(range(-40, -1), range(1, 41))]\n",
    "    # pt_bin_edge = [n for n in chain(range(-200, -4), range(5, 201))]\n",
    "    pt_min = -200.\n",
    "    pt_max = 200.\n",
    "elif input_file_name.find(\"Pt_10_more\") != -1:\n",
    "    pt_bin_edge = [10*n for n in chain(range(-20, 0), range(1, 21))]\n",
    "    # pt_bin_edge = [n for n in chain(range(-200, -9), range(10, 201))]\n",
    "    pt_min = -200.\n",
    "    pt_max = 200.\n",
    "\n",
    "o = fit_slices(input_file_name, \"deltaPtOverPtVsPt\", pt_bin_edge, pt_min, pt_max, total_bins,\n",
    "               # min_x, max_x, 0., 0.05,\n",
    "               2*min_x, 2*max_x, 0., 0.2,\n",
    "               \"c*p_{T} [GeV/c]\", \"#Delta p_{T}/p_{T}\", \"p_{T} resolution / p_{T}\")\n",
    "\n",
    "o[2]"
   ]
  },
  {
   "cell_type": "markdown",
   "metadata": {
    "collapsed": false
   },
   "source": [
    "o[1]"
   ]
  },
  {
   "cell_type": "code",
   "execution_count": 53,
   "metadata": {
    "collapsed": false
   },
   "outputs": [
    {
     "data": {
      "image/png": "[encoded data removed]",
      "text/plain": [
       "<ROOT.TCanvas object (\"c1\") at 0x7fcd66f8d470>"
      ]
     },
     "execution_count": 53,
     "metadata": {},
     "output_type": "execute_result"
    }
   ],
   "source": [
    "o[0]"
   ]
  },
  {
   "cell_type": "markdown",
   "metadata": {},
   "source": [
    "## 1/Pt Bias and Resolution"
   ]
  },
  {
   "cell_type": "code",
   "execution_count": 54,
   "metadata": {
    "collapsed": false
   },
   "outputs": [
    {
     "name": "stdout",
     "output_type": "stream",
     "text": [
      "bin_edges = [117, 118, 119, 119, 121, 122, 123]\n"
     ]
    },
    {
     "name": "stderr",
     "output_type": "stream",
     "text": [
      "TCanvas::Constructor:0: RuntimeWarning: Deleting canvas with same name: c1\n",
      "TCanvas::Constructor:0: RuntimeWarning: Deleting canvas with same name: c2\n",
      "TCanvas::Constructor:0: RuntimeWarning: Deleting canvas with same name: Resolutions\n"
     ]
    }
   ],
   "source": [
    "curvature_bin_edge = [n/200. for n in chain(range(-3, 0), range(-1, 3))]\n",
    "\n",
    "oc = fit_slices(input_file_name, \"deltaCurvatureOverCurvatureVsCurvature\", curvature_bin_edge, -0.6, 0.6, 240, min_x, max_x, 0., 0.08,\n",
    "               \"c*p_{T} [GeV/c]\", \"#Delta p_{T}/p_{T}\", \"p_{T} resolution / p_{T}\")\n",
    "\n",
    "# oc[2]"
   ]
  },
  {
   "cell_type": "code",
   "execution_count": 55,
   "metadata": {
    "collapsed": false
   },
   "outputs": [],
   "source": [
    "# oc[1]"
   ]
  },
  {
   "cell_type": "code",
   "execution_count": 56,
   "metadata": {
    "collapsed": false
   },
   "outputs": [],
   "source": [
    "# oc[0]"
   ]
  },
  {
   "cell_type": "markdown",
   "metadata": {},
   "source": [
    "## Phi Bias and Resolution"
   ]
  },
  {
   "cell_type": "code",
   "execution_count": 57,
   "metadata": {
    "collapsed": false,
    "scrolled": false
   },
   "outputs": [
    {
     "name": "stdout",
     "output_type": "stream",
     "text": [
      "bin_edges = [191, 192, 193, 194, 195, 196, 197, 198, 199, 203, 204, 205, 206, 207, 208, 209, 210, 211]\n"
     ]
    },
    {
     "name": "stderr",
     "output_type": "stream",
     "text": [
      "TCanvas::Constructor:0: RuntimeWarning: Deleting canvas with same name: c1\n",
      "TCanvas::Constructor:0: RuntimeWarning: Deleting canvas with same name: c2\n",
      "TCanvas::Constructor:0: RuntimeWarning: Deleting canvas with same name: Resolutions\n"
     ]
    },
    {
     "data": {
      "image/png": "[encoded data removed]",
      "text/plain": [
       "<ROOT.TCanvas object (\"Resolutions\") at 0x7fcd66de00b0>"
      ]
     },
     "execution_count": 57,
     "metadata": {},
     "output_type": "execute_result"
    }
   ],
   "source": [
    "min_x_phi = -0.001\n",
    "max_x_phi = 0.001\n",
    "# min_x_phi = -0.01\n",
    "# max_x_phi = 0.01\n",
    "ophi = fit_slices(input_file_name, \"deltaPhiVsPt\", pt_bin_edge, pt_min, pt_max, total_bins,\n",
    "#                     min_x_phi, max_x_phi, 0., 0.002,\n",
    "                   10*min_x_phi, 10*max_x_phi, 0., 0.01,\n",
    "                  \"c*p_{T} [GeV/c]\", \"#Delta#phi\", \"#Delta#phi sigmas\")\n",
    "ophi[2]"
   ]
  },
  {
   "cell_type": "code",
   "execution_count": 58,
   "metadata": {
    "collapsed": false
   },
   "outputs": [
    {
     "data": {
      "image/png": "[encoded data removed]",
      "text/plain": [
       "<ROOT.TCanvas object (\"c2\") at 0x7fcd6722aee0>"
      ]
     },
     "execution_count": 58,
     "metadata": {},
     "output_type": "execute_result"
    }
   ],
   "source": [
    "ophi[1]"
   ]
  },
  {
   "cell_type": "code",
   "execution_count": 59,
   "metadata": {
    "collapsed": false
   },
   "outputs": [
    {
     "data": {
      "image/png": "[encoded data removed]",
      "text/plain": [
       "<ROOT.TCanvas object (\"c1\") at 0x7fcd6716e090>"
      ]
     },
     "execution_count": 59,
     "metadata": {},
     "output_type": "execute_result"
    }
   ],
   "source": [
    "ophi[0]"
   ]
  },
  {
   "cell_type": "markdown",
   "metadata": {
    "collapsed": false
   },
   "source": [
    "## $\\chi^2/ndof$"
   ]
  },
  {
   "cell_type": "code",
   "execution_count": 60,
   "metadata": {
    "collapsed": false
   },
   "outputs": [
    {
     "name": "stdout",
     "output_type": "stream",
     "text": [
      "<ROOT.TH1F object (\"normChi2_summary\") at 0x7fcd672321c0>\n"
     ]
    },
    {
     "name": "stderr",
     "output_type": "stream",
     "text": [
      "TCanvas::Constructor:0: RuntimeWarning: Deleting canvas with same name: c_chi2Ndof\n"
     ]
    },
    {
     "data": {
      "image/png": "[encoded data removed]",
      "text/plain": [
       "<ROOT.TCanvas object (\"c_chi2Ndof\") at 0x7fcd672326f0>"
      ]
     },
     "execution_count": 60,
     "metadata": {},
     "output_type": "execute_result"
    }
   ],
   "source": [
    "c_chi2Ndof = draw_chi2ndof(input_file_name)\n",
    "c_chi2Ndof[0]"
   ]
  },
  {
   "cell_type": "markdown",
   "metadata": {
    "collapsed": true
   },
   "source": [
    "##Z Bias and Resolution"
   ]
  },
  {
   "cell_type": "code",
   "execution_count": 61,
   "metadata": {
    "collapsed": false
   },
   "outputs": [
    {
     "name": "stderr",
     "output_type": "stream",
     "text": [
      "TCanvas::Constructor:0: RuntimeWarning: Deleting canvas with same name: c1\n"
     ]
    },
    {
     "ename": "ReferenceError",
     "evalue": "attempt to access a null-pointer",
     "output_type": "error",
     "traceback": [
      "\u001b[0;31m---------------------------------------------------------------------------\u001b[0m",
      "\u001b[0;31mReferenceError\u001b[0m                            Traceback (most recent call last)",
      "\u001b[0;32m<ipython-input-61-f5d6b4d82f0a>\u001b[0m in \u001b[0;36m<module>\u001b[0;34m()\u001b[0m\n\u001b[1;32m      9\u001b[0m                   \u001b[0mmin_x_z0\u001b[0m\u001b[0;34m,\u001b[0m \u001b[0mmax_x_z0\u001b[0m\u001b[0;34m,\u001b[0m \u001b[0;36m0.\u001b[0m\u001b[0;34m,\u001b[0m \u001b[0;36m0.2\u001b[0m\u001b[0;34m,\u001b[0m\u001b[0;34m\u001b[0m\u001b[0m\n\u001b[1;32m     10\u001b[0m  \u001b[0;31m#                  min_x_z0, max_x_z0, 0., 0.3,\u001b[0m\u001b[0;34m\u001b[0m\u001b[0;34m\u001b[0m\u001b[0m\n\u001b[0;32m---> 11\u001b[0;31m                   \"z_{0} [cm]\", \"#Deltaz_{0} [cm]\", \"z_{0} resolution [cm]\")\n\u001b[0m\u001b[1;32m     12\u001b[0m \u001b[0;34m\u001b[0m\u001b[0m\n\u001b[1;32m     13\u001b[0m \u001b[0mo_z0\u001b[0m\u001b[0;34m[\u001b[0m\u001b[0;36m2\u001b[0m\u001b[0;34m]\u001b[0m\u001b[0;34m\u001b[0m\u001b[0m\n",
      "\u001b[0;32m<ipython-input-51-b8b88ea199f7>\u001b[0m in \u001b[0;36mfit_slices\u001b[0;34m(input_file_name, h_name, bin_values, value_min, value_max, total_bins, mean_y_min, mean_y_max, sigma_y_min, sigma_y_max, x_title, y_title, sigma_y_title)\u001b[0m\n\u001b[1;32m     15\u001b[0m     \u001b[0mc1\u001b[0m\u001b[0;34m.\u001b[0m\u001b[0mSetRightMargin\u001b[0m\u001b[0;34m(\u001b[0m\u001b[0;36m0.15\u001b[0m\u001b[0;34m)\u001b[0m\u001b[0;34m\u001b[0m\u001b[0m\n\u001b[1;32m     16\u001b[0m     \u001b[0mc1\u001b[0m\u001b[0;34m.\u001b[0m\u001b[0mSetBottomMargin\u001b[0m\u001b[0;34m(\u001b[0m\u001b[0;36m0.15\u001b[0m\u001b[0;34m)\u001b[0m\u001b[0;34m\u001b[0m\u001b[0m\n\u001b[0;32m---> 17\u001b[0;31m     \u001b[0mh\u001b[0m\u001b[0;34m.\u001b[0m\u001b[0mDraw\u001b[0m\u001b[0;34m(\u001b[0m\u001b[0;34m)\u001b[0m\u001b[0;34m\u001b[0m\u001b[0m\n\u001b[0m\u001b[1;32m     18\u001b[0m     \u001b[0mc1\u001b[0m\u001b[0;34m.\u001b[0m\u001b[0mUpdate\u001b[0m\u001b[0;34m(\u001b[0m\u001b[0;34m)\u001b[0m\u001b[0;34m\u001b[0m\u001b[0m\n\u001b[1;32m     19\u001b[0m     \u001b[0mh\u001b[0m\u001b[0;34m.\u001b[0m\u001b[0mDraw\u001b[0m\u001b[0;34m(\u001b[0m\u001b[0;34m\"COLZ\"\u001b[0m\u001b[0;34m)\u001b[0m\u001b[0;34m\u001b[0m\u001b[0m\n",
      "\u001b[0;31mReferenceError\u001b[0m: attempt to access a null-pointer"
     ]
    }
   ],
   "source": [
    "z0_min = -20.\n",
    "z0_max = 20.\n",
    "total_bins_z0 = 400\n",
    "min_x_z0 = -0.02\n",
    "max_x_z0 = 0.02\n",
    "z0_bin_edge = [n for n in range(int(z0_min), int(z0_max)+1)]\n",
    "\n",
    "o_z0 = fit_slices(input_file_name, \"deltaZ0VsZ0\", z0_bin_edge, z0_min, z0_max, total_bins_z0,\n",
    "                  min_x_z0, max_x_z0, 0., 0.2,\n",
    " #                  min_x_z0, max_x_z0, 0., 0.3,\n",
    "                  \"z_{0} [cm]\", \"#Deltaz_{0} [cm]\", \"z_{0} resolution [cm]\")\n",
    "\n",
    "o_z0[2]"
   ]
  },
  {
   "cell_type": "code",
   "execution_count": 62,
   "metadata": {
    "collapsed": false
   },
   "outputs": [
    {
     "ename": "NameError",
     "evalue": "name 'o_z0' is not defined",
     "output_type": "error",
     "traceback": [
      "\u001b[0;31m---------------------------------------------------------------------------\u001b[0m",
      "\u001b[0;31mNameError\u001b[0m                                 Traceback (most recent call last)",
      "\u001b[0;32m<ipython-input-62-a63eb512d30a>\u001b[0m in \u001b[0;36m<module>\u001b[0;34m()\u001b[0m\n\u001b[0;32m----> 1\u001b[0;31m \u001b[0mo_z0\u001b[0m\u001b[0;34m[\u001b[0m\u001b[0;36m1\u001b[0m\u001b[0;34m]\u001b[0m\u001b[0;34m\u001b[0m\u001b[0m\n\u001b[0m",
      "\u001b[0;31mNameError\u001b[0m: name 'o_z0' is not defined"
     ]
    }
   ],
   "source": [
    "o_z0[1]"
   ]
  },
  {
   "cell_type": "code",
   "execution_count": 63,
   "metadata": {
    "collapsed": false
   },
   "outputs": [
    {
     "ename": "NameError",
     "evalue": "name 'o_z0' is not defined",
     "output_type": "error",
     "traceback": [
      "\u001b[0;31m---------------------------------------------------------------------------\u001b[0m",
      "\u001b[0;31mNameError\u001b[0m                                 Traceback (most recent call last)",
      "\u001b[0;32m<ipython-input-63-e0ef1c4f0e2c>\u001b[0m in \u001b[0;36m<module>\u001b[0;34m()\u001b[0m\n\u001b[0;32m----> 1\u001b[0;31m \u001b[0mo_z0\u001b[0m\u001b[0;34m[\u001b[0m\u001b[0;36m0\u001b[0m\u001b[0;34m]\u001b[0m\u001b[0;34m\u001b[0m\u001b[0m\n\u001b[0m",
      "\u001b[0;31mNameError\u001b[0m: name 'o_z0' is not defined"
     ]
    }
   ],
   "source": [
    "o_z0[0]"
   ]
  },
  {
   "cell_type": "code",
   "execution_count": 64,
   "metadata": {
    "collapsed": false
   },
   "outputs": [
    {
     "ename": "ReferenceError",
     "evalue": "attempt to access a null-pointer",
     "output_type": "error",
     "traceback": [
      "\u001b[0;31m---------------------------------------------------------------------------\u001b[0m",
      "\u001b[0;31mReferenceError\u001b[0m                            Traceback (most recent call last)",
      "\u001b[0;32m<ipython-input-64-25f018b94401>\u001b[0m in \u001b[0;36m<module>\u001b[0;34m()\u001b[0m\n\u001b[1;32m     10\u001b[0m o_z0 = fit_slices(input_file_name, \"deltaZ0VsEta\", eta_bin_edge, eta_min, eta_max, total_bins_eta,\n\u001b[1;32m     11\u001b[0m                   \u001b[0mmin_x_z0\u001b[0m\u001b[0;34m,\u001b[0m \u001b[0mmax_x_z0\u001b[0m\u001b[0;34m,\u001b[0m \u001b[0;36m0.\u001b[0m\u001b[0;34m,\u001b[0m \u001b[0;36m0.55\u001b[0m\u001b[0;34m,\u001b[0m\u001b[0;34m\u001b[0m\u001b[0m\n\u001b[0;32m---> 12\u001b[0;31m                   \"#eta\", \"#Deltaz_{0} [cm]\", \"z_{0} resolution [cm]\")\n\u001b[0m\u001b[1;32m     13\u001b[0m \u001b[0;34m\u001b[0m\u001b[0m\n\u001b[1;32m     14\u001b[0m \u001b[0mo_z0\u001b[0m\u001b[0;34m[\u001b[0m\u001b[0;36m2\u001b[0m\u001b[0;34m]\u001b[0m\u001b[0;34m\u001b[0m\u001b[0m\n",
      "\u001b[0;32m<ipython-input-51-b8b88ea199f7>\u001b[0m in \u001b[0;36mfit_slices\u001b[0;34m(input_file_name, h_name, bin_values, value_min, value_max, total_bins, mean_y_min, mean_y_max, sigma_y_min, sigma_y_max, x_title, y_title, sigma_y_title)\u001b[0m\n\u001b[1;32m     15\u001b[0m     \u001b[0mc1\u001b[0m\u001b[0;34m.\u001b[0m\u001b[0mSetRightMargin\u001b[0m\u001b[0;34m(\u001b[0m\u001b[0;36m0.15\u001b[0m\u001b[0;34m)\u001b[0m\u001b[0;34m\u001b[0m\u001b[0m\n\u001b[1;32m     16\u001b[0m     \u001b[0mc1\u001b[0m\u001b[0;34m.\u001b[0m\u001b[0mSetBottomMargin\u001b[0m\u001b[0;34m(\u001b[0m\u001b[0;36m0.15\u001b[0m\u001b[0;34m)\u001b[0m\u001b[0;34m\u001b[0m\u001b[0m\n\u001b[0;32m---> 17\u001b[0;31m     \u001b[0mh\u001b[0m\u001b[0;34m.\u001b[0m\u001b[0mDraw\u001b[0m\u001b[0;34m(\u001b[0m\u001b[0;34m)\u001b[0m\u001b[0;34m\u001b[0m\u001b[0m\n\u001b[0m\u001b[1;32m     18\u001b[0m     \u001b[0mc1\u001b[0m\u001b[0;34m.\u001b[0m\u001b[0mUpdate\u001b[0m\u001b[0;34m(\u001b[0m\u001b[0;34m)\u001b[0m\u001b[0;34m\u001b[0m\u001b[0m\n\u001b[1;32m     19\u001b[0m     \u001b[0mh\u001b[0m\u001b[0;34m.\u001b[0m\u001b[0mDraw\u001b[0m\u001b[0;34m(\u001b[0m\u001b[0;34m\"COLZ\"\u001b[0m\u001b[0;34m)\u001b[0m\u001b[0;34m\u001b[0m\u001b[0m\n",
      "\u001b[0;31mReferenceError\u001b[0m: attempt to access a null-pointer"
     ]
    }
   ],
   "source": [
    "eta_min = -2.5\n",
    "eta_max = 2.5\n",
    "total_bins_eta = 500\n",
    "min_x_z0 = -0.1\n",
    "max_x_z0 = 0.1\n",
    "eta_bin_edge = [n/10. for n in range(int(eta_min*10), int(eta_max*10)+1)]\n",
    "# eta_bin_edge = [n/100. for n in range(int(eta_min*100), int(eta_max*100)+1)]\n",
    "# eta_bin_edge = [n/100. for n in range(1, int(eta_max*100)+1)]\n",
    "\n",
    "o_z0 = fit_slices(input_file_name, \"deltaZ0VsEta\", eta_bin_edge, eta_min, eta_max, total_bins_eta,\n",
    "                  min_x_z0, max_x_z0, 0., 0.55,\n",
    "                  \"#eta\", \"#Deltaz_{0} [cm]\", \"z_{0} resolution [cm]\")\n",
    "\n",
    "o_z0[2]"
   ]
  },
  {
   "cell_type": "code",
   "execution_count": 65,
   "metadata": {
    "collapsed": false
   },
   "outputs": [
    {
     "ename": "NameError",
     "evalue": "name 'o_z0' is not defined",
     "output_type": "error",
     "traceback": [
      "\u001b[0;31m---------------------------------------------------------------------------\u001b[0m",
      "\u001b[0;31mNameError\u001b[0m                                 Traceback (most recent call last)",
      "\u001b[0;32m<ipython-input-65-a63eb512d30a>\u001b[0m in \u001b[0;36m<module>\u001b[0;34m()\u001b[0m\n\u001b[0;32m----> 1\u001b[0;31m \u001b[0mo_z0\u001b[0m\u001b[0;34m[\u001b[0m\u001b[0;36m1\u001b[0m\u001b[0;34m]\u001b[0m\u001b[0;34m\u001b[0m\u001b[0m\n\u001b[0m",
      "\u001b[0;31mNameError\u001b[0m: name 'o_z0' is not defined"
     ]
    }
   ],
   "source": [
    "o_z0[1]"
   ]
  },
  {
   "cell_type": "code",
   "execution_count": 66,
   "metadata": {
    "collapsed": false
   },
   "outputs": [
    {
     "ename": "NameError",
     "evalue": "name 'o_z0' is not defined",
     "output_type": "error",
     "traceback": [
      "\u001b[0;31m---------------------------------------------------------------------------\u001b[0m",
      "\u001b[0;31mNameError\u001b[0m                                 Traceback (most recent call last)",
      "\u001b[0;32m<ipython-input-66-e0ef1c4f0e2c>\u001b[0m in \u001b[0;36m<module>\u001b[0;34m()\u001b[0m\n\u001b[0;32m----> 1\u001b[0;31m \u001b[0mo_z0\u001b[0m\u001b[0;34m[\u001b[0m\u001b[0;36m0\u001b[0m\u001b[0;34m]\u001b[0m\u001b[0;34m\u001b[0m\u001b[0m\n\u001b[0m",
      "\u001b[0;31mNameError\u001b[0m: name 'o_z0' is not defined"
     ]
    }
   ],
   "source": [
    "o_z0[0]"
   ]
  },
  {
   "cell_type": "markdown",
   "metadata": {},
   "source": [
    "##$cot\\theta$ bias and resolution"
   ]
  },
  {
   "cell_type": "code",
   "execution_count": 67,
   "metadata": {
    "collapsed": false
   },
   "outputs": [
    {
     "ename": "ReferenceError",
     "evalue": "attempt to access a null-pointer",
     "output_type": "error",
     "traceback": [
      "\u001b[0;31m---------------------------------------------------------------------------\u001b[0m",
      "\u001b[0;31mReferenceError\u001b[0m                            Traceback (most recent call last)",
      "\u001b[0;32m<ipython-input-67-789d57893099>\u001b[0m in \u001b[0;36m<module>\u001b[0;34m()\u001b[0m\n\u001b[1;32m      4\u001b[0m o_cotTheta = fit_slices(input_file_name, \"deltaCotThetaVsEta\", eta_bin_edge,\n\u001b[1;32m      5\u001b[0m                         \u001b[0meta_min\u001b[0m\u001b[0;34m,\u001b[0m \u001b[0meta_max\u001b[0m\u001b[0;34m,\u001b[0m \u001b[0mtotal_bins_eta\u001b[0m\u001b[0;34m,\u001b[0m \u001b[0mmin_x_eta\u001b[0m\u001b[0;34m,\u001b[0m \u001b[0mmax_x_eta\u001b[0m\u001b[0;34m,\u001b[0m \u001b[0;36m0.\u001b[0m\u001b[0;34m,\u001b[0m \u001b[0;36m0.005\u001b[0m\u001b[0;34m,\u001b[0m\u001b[0;34m\u001b[0m\u001b[0m\n\u001b[0;32m----> 6\u001b[0;31m                         \"#eta\", \"#Deltacot#theta\", \"cot#theta resolution\")\n\u001b[0m\u001b[1;32m      7\u001b[0m \u001b[0;34m\u001b[0m\u001b[0m\n\u001b[1;32m      8\u001b[0m \u001b[0mo_cotTheta\u001b[0m\u001b[0;34m[\u001b[0m\u001b[0;36m2\u001b[0m\u001b[0;34m]\u001b[0m\u001b[0;34m\u001b[0m\u001b[0m\n",
      "\u001b[0;32m<ipython-input-51-b8b88ea199f7>\u001b[0m in \u001b[0;36mfit_slices\u001b[0;34m(input_file_name, h_name, bin_values, value_min, value_max, total_bins, mean_y_min, mean_y_max, sigma_y_min, sigma_y_max, x_title, y_title, sigma_y_title)\u001b[0m\n\u001b[1;32m     15\u001b[0m     \u001b[0mc1\u001b[0m\u001b[0;34m.\u001b[0m\u001b[0mSetRightMargin\u001b[0m\u001b[0;34m(\u001b[0m\u001b[0;36m0.15\u001b[0m\u001b[0;34m)\u001b[0m\u001b[0;34m\u001b[0m\u001b[0m\n\u001b[1;32m     16\u001b[0m     \u001b[0mc1\u001b[0m\u001b[0;34m.\u001b[0m\u001b[0mSetBottomMargin\u001b[0m\u001b[0;34m(\u001b[0m\u001b[0;36m0.15\u001b[0m\u001b[0;34m)\u001b[0m\u001b[0;34m\u001b[0m\u001b[0m\n\u001b[0;32m---> 17\u001b[0;31m     \u001b[0mh\u001b[0m\u001b[0;34m.\u001b[0m\u001b[0mDraw\u001b[0m\u001b[0;34m(\u001b[0m\u001b[0;34m)\u001b[0m\u001b[0;34m\u001b[0m\u001b[0m\n\u001b[0m\u001b[1;32m     18\u001b[0m     \u001b[0mc1\u001b[0m\u001b[0;34m.\u001b[0m\u001b[0mUpdate\u001b[0m\u001b[0;34m(\u001b[0m\u001b[0;34m)\u001b[0m\u001b[0;34m\u001b[0m\u001b[0m\n\u001b[1;32m     19\u001b[0m     \u001b[0mh\u001b[0m\u001b[0;34m.\u001b[0m\u001b[0mDraw\u001b[0m\u001b[0;34m(\u001b[0m\u001b[0;34m\"COLZ\"\u001b[0m\u001b[0;34m)\u001b[0m\u001b[0;34m\u001b[0m\u001b[0m\n",
      "\u001b[0;31mReferenceError\u001b[0m: attempt to access a null-pointer"
     ]
    }
   ],
   "source": [
    "min_x_eta = -0.002\n",
    "max_x_eta = 0.002\n",
    "\n",
    "o_cotTheta = fit_slices(input_file_name, \"deltaCotThetaVsEta\", eta_bin_edge,\n",
    "                        eta_min, eta_max, total_bins_eta, min_x_eta, max_x_eta, 0., 0.005,\n",
    "                        \"#eta\", \"#Deltacot#theta\", \"cot#theta resolution\")\n",
    "\n",
    "o_cotTheta[2]"
   ]
  },
  {
   "cell_type": "code",
   "execution_count": 68,
   "metadata": {
    "collapsed": false
   },
   "outputs": [
    {
     "ename": "NameError",
     "evalue": "name 'o_cotTheta' is not defined",
     "output_type": "error",
     "traceback": [
      "\u001b[0;31m---------------------------------------------------------------------------\u001b[0m",
      "\u001b[0;31mNameError\u001b[0m                                 Traceback (most recent call last)",
      "\u001b[0;32m<ipython-input-68-f53e40a26dc9>\u001b[0m in \u001b[0;36m<module>\u001b[0;34m()\u001b[0m\n\u001b[0;32m----> 1\u001b[0;31m \u001b[0mo_cotTheta\u001b[0m\u001b[0;34m[\u001b[0m\u001b[0;36m1\u001b[0m\u001b[0;34m]\u001b[0m\u001b[0;34m\u001b[0m\u001b[0m\n\u001b[0m",
      "\u001b[0;31mNameError\u001b[0m: name 'o_cotTheta' is not defined"
     ]
    }
   ],
   "source": [
    "o_cotTheta[1]"
   ]
  },
  {
   "cell_type": "code",
   "execution_count": 69,
   "metadata": {
    "collapsed": false
   },
   "outputs": [
    {
     "ename": "NameError",
     "evalue": "name 'o_cotTheta' is not defined",
     "output_type": "error",
     "traceback": [
      "\u001b[0;31m---------------------------------------------------------------------------\u001b[0m",
      "\u001b[0;31mNameError\u001b[0m                                 Traceback (most recent call last)",
      "\u001b[0;32m<ipython-input-69-fb25c9874259>\u001b[0m in \u001b[0;36m<module>\u001b[0;34m()\u001b[0m\n\u001b[0;32m----> 1\u001b[0;31m \u001b[0mo_cotTheta\u001b[0m\u001b[0;34m[\u001b[0m\u001b[0;36m0\u001b[0m\u001b[0;34m]\u001b[0m\u001b[0;34m\u001b[0m\u001b[0m\n\u001b[0m",
      "\u001b[0;31mNameError\u001b[0m: name 'o_cotTheta' is not defined"
     ]
    }
   ],
   "source": [
    "o_cotTheta[0]"
   ]
  },
  {
   "cell_type": "markdown",
   "metadata": {},
   "source": [
    "##$\\cot\\theta$ Bias and Resolution vs $z0$"
   ]
  },
  {
   "cell_type": "code",
   "execution_count": 70,
   "metadata": {
    "collapsed": false,
    "scrolled": false
   },
   "outputs": [
    {
     "ename": "ReferenceError",
     "evalue": "attempt to access a null-pointer",
     "output_type": "error",
     "traceback": [
      "\u001b[0;31m---------------------------------------------------------------------------\u001b[0m",
      "\u001b[0;31mReferenceError\u001b[0m                            Traceback (most recent call last)",
      "\u001b[0;32m<ipython-input-70-edce83c546ee>\u001b[0m in \u001b[0;36m<module>\u001b[0;34m()\u001b[0m\n\u001b[1;32m      1\u001b[0m o_cotThetaVsZ0 = fit_slices(input_file_name, \"deltaCotThetaVsZ0\", z0_bin_edge, z0_min, z0_max, total_bins_z0,\n\u001b[1;32m      2\u001b[0m                             \u001b[0mmin_x_eta\u001b[0m\u001b[0;34m,\u001b[0m \u001b[0mmax_x_eta\u001b[0m\u001b[0;34m,\u001b[0m \u001b[0;36m0.\u001b[0m\u001b[0;34m,\u001b[0m \u001b[0;36m0.005\u001b[0m\u001b[0;34m,\u001b[0m\u001b[0;34m\u001b[0m\u001b[0m\n\u001b[0;32m----> 3\u001b[0;31m                             \"z_{0} [cm]\", \"#Deltacot#theta\", \"cot#theta resolution [cm]\")\n\u001b[0m\u001b[1;32m      4\u001b[0m \u001b[0;34m\u001b[0m\u001b[0m\n\u001b[1;32m      5\u001b[0m \u001b[0mo_cotThetaVsZ0\u001b[0m\u001b[0;34m[\u001b[0m\u001b[0;36m2\u001b[0m\u001b[0;34m]\u001b[0m\u001b[0;34m\u001b[0m\u001b[0m\n",
      "\u001b[0;32m<ipython-input-51-b8b88ea199f7>\u001b[0m in \u001b[0;36mfit_slices\u001b[0;34m(input_file_name, h_name, bin_values, value_min, value_max, total_bins, mean_y_min, mean_y_max, sigma_y_min, sigma_y_max, x_title, y_title, sigma_y_title)\u001b[0m\n\u001b[1;32m     15\u001b[0m     \u001b[0mc1\u001b[0m\u001b[0;34m.\u001b[0m\u001b[0mSetRightMargin\u001b[0m\u001b[0;34m(\u001b[0m\u001b[0;36m0.15\u001b[0m\u001b[0;34m)\u001b[0m\u001b[0;34m\u001b[0m\u001b[0m\n\u001b[1;32m     16\u001b[0m     \u001b[0mc1\u001b[0m\u001b[0;34m.\u001b[0m\u001b[0mSetBottomMargin\u001b[0m\u001b[0;34m(\u001b[0m\u001b[0;36m0.15\u001b[0m\u001b[0;34m)\u001b[0m\u001b[0;34m\u001b[0m\u001b[0m\n\u001b[0;32m---> 17\u001b[0;31m     \u001b[0mh\u001b[0m\u001b[0;34m.\u001b[0m\u001b[0mDraw\u001b[0m\u001b[0;34m(\u001b[0m\u001b[0;34m)\u001b[0m\u001b[0;34m\u001b[0m\u001b[0m\n\u001b[0m\u001b[1;32m     18\u001b[0m     \u001b[0mc1\u001b[0m\u001b[0;34m.\u001b[0m\u001b[0mUpdate\u001b[0m\u001b[0;34m(\u001b[0m\u001b[0;34m)\u001b[0m\u001b[0;34m\u001b[0m\u001b[0m\n\u001b[1;32m     19\u001b[0m     \u001b[0mh\u001b[0m\u001b[0;34m.\u001b[0m\u001b[0mDraw\u001b[0m\u001b[0;34m(\u001b[0m\u001b[0;34m\"COLZ\"\u001b[0m\u001b[0;34m)\u001b[0m\u001b[0;34m\u001b[0m\u001b[0m\n",
      "\u001b[0;31mReferenceError\u001b[0m: attempt to access a null-pointer"
     ]
    }
   ],
   "source": [
    "o_cotThetaVsZ0 = fit_slices(input_file_name, \"deltaCotThetaVsZ0\", z0_bin_edge, z0_min, z0_max, total_bins_z0,\n",
    "                            min_x_eta, max_x_eta, 0., 0.005,\n",
    "                            \"z_{0} [cm]\", \"#Deltacot#theta\", \"cot#theta resolution [cm]\")\n",
    "\n",
    "o_cotThetaVsZ0[2]"
   ]
  },
  {
   "cell_type": "code",
   "execution_count": 71,
   "metadata": {
    "collapsed": false
   },
   "outputs": [
    {
     "ename": "NameError",
     "evalue": "name 'o_cotThetaVsZ0' is not defined",
     "output_type": "error",
     "traceback": [
      "\u001b[0;31m---------------------------------------------------------------------------\u001b[0m",
      "\u001b[0;31mNameError\u001b[0m                                 Traceback (most recent call last)",
      "\u001b[0;32m<ipython-input-71-0b4ece908900>\u001b[0m in \u001b[0;36m<module>\u001b[0;34m()\u001b[0m\n\u001b[0;32m----> 1\u001b[0;31m \u001b[0mo_cotThetaVsZ0\u001b[0m\u001b[0;34m[\u001b[0m\u001b[0;36m1\u001b[0m\u001b[0;34m]\u001b[0m\u001b[0;34m\u001b[0m\u001b[0m\n\u001b[0m",
      "\u001b[0;31mNameError\u001b[0m: name 'o_cotThetaVsZ0' is not defined"
     ]
    }
   ],
   "source": [
    "o_cotThetaVsZ0[1]"
   ]
  },
  {
   "cell_type": "code",
   "execution_count": 72,
   "metadata": {
    "collapsed": false
   },
   "outputs": [
    {
     "ename": "NameError",
     "evalue": "name 'o_cotThetaVsZ0' is not defined",
     "output_type": "error",
     "traceback": [
      "\u001b[0;31m---------------------------------------------------------------------------\u001b[0m",
      "\u001b[0;31mNameError\u001b[0m                                 Traceback (most recent call last)",
      "\u001b[0;32m<ipython-input-72-828b3fd2663e>\u001b[0m in \u001b[0;36m<module>\u001b[0;34m()\u001b[0m\n\u001b[0;32m----> 1\u001b[0;31m \u001b[0mo_cotThetaVsZ0\u001b[0m\u001b[0;34m[\u001b[0m\u001b[0;36m0\u001b[0m\u001b[0;34m]\u001b[0m\u001b[0;34m\u001b[0m\u001b[0m\n\u001b[0m",
      "\u001b[0;31mNameError\u001b[0m: name 'o_cotThetaVsZ0' is not defined"
     ]
    }
   ],
   "source": [
    "o_cotThetaVsZ0[0]"
   ]
  },
  {
   "cell_type": "markdown",
   "metadata": {},
   "source": [
    "##Other biases and resolutions"
   ]
  },
  {
   "cell_type": "markdown",
   "metadata": {},
   "source": [
    "###z bias and resolution vs $p_{T}$ "
   ]
  },
  {
   "cell_type": "code",
   "execution_count": 73,
   "metadata": {
    "collapsed": false
   },
   "outputs": [
    {
     "ename": "ReferenceError",
     "evalue": "attempt to access a null-pointer",
     "output_type": "error",
     "traceback": [
      "\u001b[0;31m---------------------------------------------------------------------------\u001b[0m",
      "\u001b[0;31mReferenceError\u001b[0m                            Traceback (most recent call last)",
      "\u001b[0;32m<ipython-input-73-0a9711bf9790>\u001b[0m in \u001b[0;36m<module>\u001b[0;34m()\u001b[0m\n\u001b[1;32m      1\u001b[0m ophi = fit_slices(input_file_name, \"deltaZ0VsPt\", pt_bin_edge, pt_min, pt_max, total_bins,\n\u001b[1;32m      2\u001b[0m                   \u001b[0mmin_x_z0\u001b[0m\u001b[0;34m,\u001b[0m \u001b[0mmax_x_z0\u001b[0m\u001b[0;34m,\u001b[0m \u001b[0;36m0.\u001b[0m\u001b[0;34m,\u001b[0m \u001b[0;36m0.5\u001b[0m\u001b[0;34m,\u001b[0m\u001b[0;34m\u001b[0m\u001b[0m\n\u001b[0;32m----> 3\u001b[0;31m                   \"c*p_{T} [GeV/c]\", \"#Deltaz_{0} [cm]\", \"z_{0} resolution [cm]\")\n\u001b[0m\u001b[1;32m      4\u001b[0m \u001b[0mophi\u001b[0m\u001b[0;34m[\u001b[0m\u001b[0;36m2\u001b[0m\u001b[0;34m]\u001b[0m\u001b[0;34m\u001b[0m\u001b[0m\n",
      "\u001b[0;32m<ipython-input-51-b8b88ea199f7>\u001b[0m in \u001b[0;36mfit_slices\u001b[0;34m(input_file_name, h_name, bin_values, value_min, value_max, total_bins, mean_y_min, mean_y_max, sigma_y_min, sigma_y_max, x_title, y_title, sigma_y_title)\u001b[0m\n\u001b[1;32m     15\u001b[0m     \u001b[0mc1\u001b[0m\u001b[0;34m.\u001b[0m\u001b[0mSetRightMargin\u001b[0m\u001b[0;34m(\u001b[0m\u001b[0;36m0.15\u001b[0m\u001b[0;34m)\u001b[0m\u001b[0;34m\u001b[0m\u001b[0m\n\u001b[1;32m     16\u001b[0m     \u001b[0mc1\u001b[0m\u001b[0;34m.\u001b[0m\u001b[0mSetBottomMargin\u001b[0m\u001b[0;34m(\u001b[0m\u001b[0;36m0.15\u001b[0m\u001b[0;34m)\u001b[0m\u001b[0;34m\u001b[0m\u001b[0m\n\u001b[0;32m---> 17\u001b[0;31m     \u001b[0mh\u001b[0m\u001b[0;34m.\u001b[0m\u001b[0mDraw\u001b[0m\u001b[0;34m(\u001b[0m\u001b[0;34m)\u001b[0m\u001b[0;34m\u001b[0m\u001b[0m\n\u001b[0m\u001b[1;32m     18\u001b[0m     \u001b[0mc1\u001b[0m\u001b[0;34m.\u001b[0m\u001b[0mUpdate\u001b[0m\u001b[0;34m(\u001b[0m\u001b[0;34m)\u001b[0m\u001b[0;34m\u001b[0m\u001b[0m\n\u001b[1;32m     19\u001b[0m     \u001b[0mh\u001b[0m\u001b[0;34m.\u001b[0m\u001b[0mDraw\u001b[0m\u001b[0;34m(\u001b[0m\u001b[0;34m\"COLZ\"\u001b[0m\u001b[0;34m)\u001b[0m\u001b[0;34m\u001b[0m\u001b[0m\n",
      "\u001b[0;31mReferenceError\u001b[0m: attempt to access a null-pointer"
     ]
    }
   ],
   "source": [
    "ophi = fit_slices(input_file_name, \"deltaZ0VsPt\", pt_bin_edge, pt_min, pt_max, total_bins,\n",
    "                  min_x_z0, max_x_z0, 0., 0.5,\n",
    "                  \"c*p_{T} [GeV/c]\", \"#Deltaz_{0} [cm]\", \"z_{0} resolution [cm]\")\n",
    "ophi[2]"
   ]
  },
  {
   "cell_type": "code",
   "execution_count": 74,
   "metadata": {
    "collapsed": false
   },
   "outputs": [
    {
     "data": {
      "text/plain": [
       "None"
      ]
     },
     "execution_count": 74,
     "metadata": {},
     "output_type": "execute_result"
    }
   ],
   "source": [
    "ophi[0]"
   ]
  },
  {
   "cell_type": "markdown",
   "metadata": {},
   "source": [
    "###cot($\\theta$) bias and resolution vs $p_{T}$"
   ]
  },
  {
   "cell_type": "code",
   "execution_count": 75,
   "metadata": {
    "collapsed": false
   },
   "outputs": [
    {
     "name": "stderr",
     "output_type": "stream",
     "text": [
      "TCanvas::Constructor:0: RuntimeWarning: Deleting canvas with same name: c1\n"
     ]
    },
    {
     "ename": "ReferenceError",
     "evalue": "attempt to access a null-pointer",
     "output_type": "error",
     "traceback": [
      "\u001b[0;31m---------------------------------------------------------------------------\u001b[0m",
      "\u001b[0;31mReferenceError\u001b[0m                            Traceback (most recent call last)",
      "\u001b[0;32m<ipython-input-75-26c5514be5db>\u001b[0m in \u001b[0;36m<module>\u001b[0;34m()\u001b[0m\n\u001b[1;32m      1\u001b[0m ophi = fit_slices(input_file_name, \"deltaCotThetaVsPt\", pt_bin_edge, pt_min, pt_max, total_bins,\n\u001b[1;32m      2\u001b[0m                   \u001b[0mmin_x_eta\u001b[0m\u001b[0;34m,\u001b[0m \u001b[0mmax_x_eta\u001b[0m\u001b[0;34m,\u001b[0m \u001b[0;36m0.\u001b[0m\u001b[0;34m,\u001b[0m \u001b[0;36m0.01\u001b[0m\u001b[0;34m,\u001b[0m\u001b[0;34m\u001b[0m\u001b[0m\n\u001b[0;32m----> 3\u001b[0;31m                   \"c*p_{T} [GeV/c]\", \"#Deltacot(#theta) [cm]\", \"cot(#theta) resolution [cm]\")\n\u001b[0m\u001b[1;32m      4\u001b[0m \u001b[0mophi\u001b[0m\u001b[0;34m[\u001b[0m\u001b[0;36m2\u001b[0m\u001b[0;34m]\u001b[0m\u001b[0;34m\u001b[0m\u001b[0m\n",
      "\u001b[0;32m<ipython-input-51-b8b88ea199f7>\u001b[0m in \u001b[0;36mfit_slices\u001b[0;34m(input_file_name, h_name, bin_values, value_min, value_max, total_bins, mean_y_min, mean_y_max, sigma_y_min, sigma_y_max, x_title, y_title, sigma_y_title)\u001b[0m\n\u001b[1;32m     15\u001b[0m     \u001b[0mc1\u001b[0m\u001b[0;34m.\u001b[0m\u001b[0mSetRightMargin\u001b[0m\u001b[0;34m(\u001b[0m\u001b[0;36m0.15\u001b[0m\u001b[0;34m)\u001b[0m\u001b[0;34m\u001b[0m\u001b[0m\n\u001b[1;32m     16\u001b[0m     \u001b[0mc1\u001b[0m\u001b[0;34m.\u001b[0m\u001b[0mSetBottomMargin\u001b[0m\u001b[0;34m(\u001b[0m\u001b[0;36m0.15\u001b[0m\u001b[0;34m)\u001b[0m\u001b[0;34m\u001b[0m\u001b[0m\n\u001b[0;32m---> 17\u001b[0;31m     \u001b[0mh\u001b[0m\u001b[0;34m.\u001b[0m\u001b[0mDraw\u001b[0m\u001b[0;34m(\u001b[0m\u001b[0;34m)\u001b[0m\u001b[0;34m\u001b[0m\u001b[0m\n\u001b[0m\u001b[1;32m     18\u001b[0m     \u001b[0mc1\u001b[0m\u001b[0;34m.\u001b[0m\u001b[0mUpdate\u001b[0m\u001b[0;34m(\u001b[0m\u001b[0;34m)\u001b[0m\u001b[0;34m\u001b[0m\u001b[0m\n\u001b[1;32m     19\u001b[0m     \u001b[0mh\u001b[0m\u001b[0;34m.\u001b[0m\u001b[0mDraw\u001b[0m\u001b[0;34m(\u001b[0m\u001b[0;34m\"COLZ\"\u001b[0m\u001b[0;34m)\u001b[0m\u001b[0;34m\u001b[0m\u001b[0m\n",
      "\u001b[0;31mReferenceError\u001b[0m: attempt to access a null-pointer"
     ]
    }
   ],
   "source": [
    "ophi = fit_slices(input_file_name, \"deltaCotThetaVsPt\", pt_bin_edge, pt_min, pt_max, total_bins,\n",
    "                  min_x_eta, max_x_eta, 0., 0.01,\n",
    "                  \"c*p_{T} [GeV/c]\", \"#Deltacot(#theta) [cm]\", \"cot(#theta) resolution [cm]\")\n",
    "ophi[2]"
   ]
  },
  {
   "cell_type": "code",
   "execution_count": 76,
   "metadata": {
    "collapsed": false
   },
   "outputs": [
    {
     "data": {
      "text/plain": [
       "None"
      ]
     },
     "execution_count": 76,
     "metadata": {},
     "output_type": "execute_result"
    }
   ],
   "source": [
    "ophi[0]"
   ]
  },
  {
   "cell_type": "markdown",
   "metadata": {},
   "source": [
    "### $p_{T}$ relative bias and resolution vs $\\eta$"
   ]
  },
  {
   "cell_type": "code",
   "execution_count": 77,
   "metadata": {
    "collapsed": false
   },
   "outputs": [
    {
     "name": "stdout",
     "output_type": "stream",
     "text": [
      "bin_edges = [1, 11, 21, 30, 40, 51, 61, 71, 81, 90, 101, 111, 121, 131, 141, 151, 161, 171, 181, 191, 201, 211, 221, 230, 241, 251, 261, 271, 281, 291, 301, 311, 321, 331, 341, 351, 361, 371, 381, 391, 401, 410, 421, 431, 441, 451, 460, 471, 481, 491, 501]\n"
     ]
    },
    {
     "name": "stderr",
     "output_type": "stream",
     "text": [
      "TCanvas::Constructor:0: RuntimeWarning: Deleting canvas with same name: c1\n",
      "TCanvas::Constructor:0: RuntimeWarning: Deleting canvas with same name: c2\n",
      "Fit:0: RuntimeWarning: Abnormal termination of minimization.\n",
      "TCanvas::Constructor:0: RuntimeWarning: Deleting canvas with same name: Resolutions\n"
     ]
    },
    {
     "data": {
      "image/png": "[encoded data removed]",
      "text/plain": [
       "<ROOT.TCanvas object (\"Resolutions\") at 0x7fcd67326590>"
      ]
     },
     "execution_count": 77,
     "metadata": {},
     "output_type": "execute_result"
    }
   ],
   "source": [
    "ophi = fit_slices(input_file_name, \"deltaPtOverPtVsEta\", eta_bin_edge, eta_min, eta_max, total_bins_eta,\n",
    "                  min_x, max_x, 0., 0.10,\n",
    "#                   min_x, max_x, 0., 0.05,\n",
    "                  \"#eta\", \"#Deltap_{T}/p_{T}\", \"p_{T} relative resolution\")\n",
    "ophi[2]"
   ]
  },
  {
   "cell_type": "code",
   "execution_count": 78,
   "metadata": {
    "collapsed": false
   },
   "outputs": [
    {
     "data": {
      "image/png": "[encoded data removed]",
      "text/plain": [
       "<ROOT.TCanvas object (\"c1\") at 0x7fcd67170f30>"
      ]
     },
     "execution_count": 78,
     "metadata": {},
     "output_type": "execute_result"
    }
   ],
   "source": [
    "ophi[0]"
   ]
  },
  {
   "cell_type": "code",
   "execution_count": 79,
   "metadata": {
    "collapsed": false
   },
   "outputs": [],
   "source": [
    "# ophi[1]"
   ]
  },
  {
   "cell_type": "markdown",
   "metadata": {},
   "source": [
    "### $\\phi$ bias and resolution vs $\\eta$"
   ]
  },
  {
   "cell_type": "code",
   "execution_count": 80,
   "metadata": {
    "collapsed": false
   },
   "outputs": [
    {
     "name": "stdout",
     "output_type": "stream",
     "text": [
      "bin_edges = [1, 11, 21, 30, 40, 51, 61, 71, 81, 90, 101, 111, 121, 131, 141, 151, 161, 171, 181, 191, 201, 211, 221, 230, 241, 251, 261, 271, 281, 291, 301, 311, 321, 331, 341, 351, 361, 371, 381, 391, 401, 410, 421, 431, 441, 451, 460, 471, 481, 491, 501]\n"
     ]
    },
    {
     "name": "stderr",
     "output_type": "stream",
     "text": [
      "TCanvas::Constructor:0: RuntimeWarning: Deleting canvas with same name: c1\n",
      "TCanvas::Constructor:0: RuntimeWarning: Deleting canvas with same name: c2\n",
      "TCanvas::Constructor:0: RuntimeWarning: Deleting canvas with same name: Resolutions\n"
     ]
    },
    {
     "data": {
      "image/png": "[encoded data removed]",
      "text/plain": [
       "<ROOT.TCanvas object (\"Resolutions\") at 0x7fcd66de6ec0>"
      ]
     },
     "execution_count": 80,
     "metadata": {},
     "output_type": "execute_result"
    }
   ],
   "source": [
    "ophi = fit_slices(input_file_name, \"deltaPhiVsEta\", eta_bin_edge, eta_min, eta_max, total_bins_eta, 0.5*min_x_phi, 0.5*max_x_phi,\n",
    "                  0., 0.01,\n",
    "                  \"#eta\", \"#Delta#phi\", \"#phi resolution\")\n",
    "ophi[2]"
   ]
  },
  {
   "cell_type": "code",
   "execution_count": 81,
   "metadata": {
    "collapsed": false
   },
   "outputs": [
    {
     "data": {
      "image/png": "[encoded data removed]",
      "text/plain": [
       "<ROOT.TCanvas object (\"c1\") at 0x7fcd67223c00>"
      ]
     },
     "execution_count": 81,
     "metadata": {},
     "output_type": "execute_result"
    }
   ],
   "source": [
    "ophi[0]"
   ]
  },
  {
   "cell_type": "markdown",
   "metadata": {
    "collapsed": true
   },
   "source": [
    "##$d_{0}$ bias and resolution"
   ]
  },
  {
   "cell_type": "code",
   "execution_count": 82,
   "metadata": {
    "collapsed": false
   },
   "outputs": [
    {
     "name": "stderr",
     "output_type": "stream",
     "text": [
      "TCanvas::Constructor:0: RuntimeWarning: Deleting canvas with same name: c1\n"
     ]
    },
    {
     "ename": "ReferenceError",
     "evalue": "attempt to access a null-pointer",
     "output_type": "error",
     "traceback": [
      "\u001b[0;31m---------------------------------------------------------------------------\u001b[0m",
      "\u001b[0;31mReferenceError\u001b[0m                            Traceback (most recent call last)",
      "\u001b[0;32m<ipython-input-82-e0649f453c6b>\u001b[0m in \u001b[0;36m<module>\u001b[0;34m()\u001b[0m\n\u001b[1;32m      2\u001b[0m                   \u001b[0mmin_x\u001b[0m\u001b[0;34m,\u001b[0m \u001b[0mmax_x\u001b[0m\u001b[0;34m,\u001b[0m \u001b[0;36m0.\u001b[0m\u001b[0;34m,\u001b[0m \u001b[0;36m0.1\u001b[0m\u001b[0;34m,\u001b[0m\u001b[0;34m\u001b[0m\u001b[0m\n\u001b[1;32m      3\u001b[0m \u001b[0;31m#                 5*min_x, 5*max_x, 0., 0.3,\u001b[0m\u001b[0;34m\u001b[0m\u001b[0;34m\u001b[0m\u001b[0m\n\u001b[0;32m----> 4\u001b[0;31m                  \"p_{T} [GeV/c]\", \"#Deltad_{0} [cm]\", \"d_{0} resolution [cm]\")\n\u001b[0m\u001b[1;32m      5\u001b[0m \u001b[0mod0\u001b[0m\u001b[0;34m[\u001b[0m\u001b[0;36m2\u001b[0m\u001b[0;34m]\u001b[0m\u001b[0;34m\u001b[0m\u001b[0m\n\u001b[1;32m      6\u001b[0m \u001b[0;31m# od0[2].SaveAs(\"FitThisD0VsPt.root\")\u001b[0m\u001b[0;34m\u001b[0m\u001b[0;34m\u001b[0m\u001b[0m\n",
      "\u001b[0;32m<ipython-input-51-b8b88ea199f7>\u001b[0m in \u001b[0;36mfit_slices\u001b[0;34m(input_file_name, h_name, bin_values, value_min, value_max, total_bins, mean_y_min, mean_y_max, sigma_y_min, sigma_y_max, x_title, y_title, sigma_y_title)\u001b[0m\n\u001b[1;32m     15\u001b[0m     \u001b[0mc1\u001b[0m\u001b[0;34m.\u001b[0m\u001b[0mSetRightMargin\u001b[0m\u001b[0;34m(\u001b[0m\u001b[0;36m0.15\u001b[0m\u001b[0;34m)\u001b[0m\u001b[0;34m\u001b[0m\u001b[0m\n\u001b[1;32m     16\u001b[0m     \u001b[0mc1\u001b[0m\u001b[0;34m.\u001b[0m\u001b[0mSetBottomMargin\u001b[0m\u001b[0;34m(\u001b[0m\u001b[0;36m0.15\u001b[0m\u001b[0;34m)\u001b[0m\u001b[0;34m\u001b[0m\u001b[0m\n\u001b[0;32m---> 17\u001b[0;31m     \u001b[0mh\u001b[0m\u001b[0;34m.\u001b[0m\u001b[0mDraw\u001b[0m\u001b[0;34m(\u001b[0m\u001b[0;34m)\u001b[0m\u001b[0;34m\u001b[0m\u001b[0m\n\u001b[0m\u001b[1;32m     18\u001b[0m     \u001b[0mc1\u001b[0m\u001b[0;34m.\u001b[0m\u001b[0mUpdate\u001b[0m\u001b[0;34m(\u001b[0m\u001b[0;34m)\u001b[0m\u001b[0;34m\u001b[0m\u001b[0m\n\u001b[1;32m     19\u001b[0m     \u001b[0mh\u001b[0m\u001b[0;34m.\u001b[0m\u001b[0mDraw\u001b[0m\u001b[0;34m(\u001b[0m\u001b[0;34m\"COLZ\"\u001b[0m\u001b[0;34m)\u001b[0m\u001b[0;34m\u001b[0m\u001b[0m\n",
      "\u001b[0;31mReferenceError\u001b[0m: attempt to access a null-pointer"
     ]
    }
   ],
   "source": [
    "od0 = fit_slices(input_file_name, \"deltaD0VsPt\", pt_bin_edge, pt_min, pt_max, 400,\n",
    "                  min_x, max_x, 0., 0.1,\n",
    "#                 5*min_x, 5*max_x, 0., 0.3,\n",
    "                 \"p_{T} [GeV/c]\", \"#Deltad_{0} [cm]\", \"d_{0} resolution [cm]\")\n",
    "od0[2]\n",
    "# od0[2].SaveAs(\"FitThisD0VsPt.root\")"
   ]
  },
  {
   "cell_type": "code",
   "execution_count": 83,
   "metadata": {
    "collapsed": false
   },
   "outputs": [
    {
     "ename": "NameError",
     "evalue": "name 'od0' is not defined",
     "output_type": "error",
     "traceback": [
      "\u001b[0;31m---------------------------------------------------------------------------\u001b[0m",
      "\u001b[0;31mNameError\u001b[0m                                 Traceback (most recent call last)",
      "\u001b[0;32m<ipython-input-83-151dd07640d8>\u001b[0m in \u001b[0;36m<module>\u001b[0;34m()\u001b[0m\n\u001b[0;32m----> 1\u001b[0;31m \u001b[0mod0\u001b[0m\u001b[0;34m[\u001b[0m\u001b[0;36m1\u001b[0m\u001b[0;34m]\u001b[0m\u001b[0;34m\u001b[0m\u001b[0m\n\u001b[0m",
      "\u001b[0;31mNameError\u001b[0m: name 'od0' is not defined"
     ]
    }
   ],
   "source": [
    "od0[1]"
   ]
  },
  {
   "cell_type": "code",
   "execution_count": 84,
   "metadata": {
    "collapsed": false
   },
   "outputs": [
    {
     "ename": "NameError",
     "evalue": "name 'od0' is not defined",
     "output_type": "error",
     "traceback": [
      "\u001b[0;31m---------------------------------------------------------------------------\u001b[0m",
      "\u001b[0;31mNameError\u001b[0m                                 Traceback (most recent call last)",
      "\u001b[0;32m<ipython-input-84-62e2bb128e5d>\u001b[0m in \u001b[0;36m<module>\u001b[0;34m()\u001b[0m\n\u001b[0;32m----> 1\u001b[0;31m \u001b[0mod0\u001b[0m\u001b[0;34m[\u001b[0m\u001b[0;36m0\u001b[0m\u001b[0;34m]\u001b[0m\u001b[0;34m\u001b[0m\u001b[0m\n\u001b[0m",
      "\u001b[0;31mNameError\u001b[0m: name 'od0' is not defined"
     ]
    }
   ],
   "source": [
    "od0[0]"
   ]
  },
  {
   "cell_type": "markdown",
   "metadata": {},
   "source": [
    "###$p_{T}$ vs $d_{0}$"
   ]
  },
  {
   "cell_type": "code",
   "execution_count": 85,
   "metadata": {
    "collapsed": false
   },
   "outputs": [
    {
     "name": "stdout",
     "output_type": "stream",
     "text": [
      "bin_edges = [1, 6, 10, 16, 20, 26, 31, 36, 41, 45, 51, 56, 61, 66, 71, 76, 81, 86, 91, 96, 101, 106, 111, 115, 121, 126, 131, 136, 141, 146, 151, 156, 161, 166, 171, 176, 181, 186, 191, 196, 201]\n"
     ]
    },
    {
     "name": "stderr",
     "output_type": "stream",
     "text": [
      "TCanvas::Constructor:0: RuntimeWarning: Deleting canvas with same name: c2\n",
      "TCanvas::Constructor:0: RuntimeWarning: Deleting canvas with same name: Resolutions\n"
     ]
    },
    {
     "data": {
      "image/png": "[encoded data removed]",
      "text/plain": [
       "<ROOT.TCanvas object (\"Resolutions\") at 0x7fcd67321c10>"
      ]
     },
     "execution_count": 85,
     "metadata": {},
     "output_type": "execute_result"
    }
   ],
   "source": [
    "total_bins_d0 = 200\n",
    "d0_min = -1.\n",
    "d0_max = 1.\n",
    "min_x_d0 = -0.1\n",
    "max_x_d0 = 0.1\n",
    "# d0_bin_edge = [n/10. for n in range(int(d0_min*10), int(d0_max*10)+1)]\n",
    "d0_bin_edge = [n/20. for n in range(int(d0_min*20), int(d0_max*20)+1)]\n",
    "\n",
    "\n",
    "\n",
    "od0 = fit_slices(input_file_name, \"deltaPtOverPtVsD0\", d0_bin_edge, d0_min, d0_max, total_bins_d0,\n",
    "                   min_x, max_x, 0., 0.02,\n",
    "#                  min_x, max_x, 0., 0.1,\n",
    "                  \"d_{0} [cm]\", \"#Delta p_{T}/p_{T}\", \"p_{T} relative resolution [cm]\")\n",
    "od0[2]"
   ]
  },
  {
   "cell_type": "code",
   "execution_count": 86,
   "metadata": {
    "collapsed": false
   },
   "outputs": [
    {
     "data": {
      "image/png": "[encoded data removed]",
      "text/plain": [
       "<ROOT.TCanvas object (\"c2\") at 0x7fcd66ba4050>"
      ]
     },
     "execution_count": 86,
     "metadata": {},
     "output_type": "execute_result"
    }
   ],
   "source": [
    "od0[1]"
   ]
  },
  {
   "cell_type": "code",
   "execution_count": 87,
   "metadata": {
    "collapsed": false
   },
   "outputs": [
    {
     "data": {
      "image/png": "[encoded data removed]",
      "text/plain": [
       "<ROOT.TCanvas object (\"c1\") at 0x7fcd67223c00>"
      ]
     },
     "execution_count": 87,
     "metadata": {},
     "output_type": "execute_result"
    }
   ],
   "source": [
    "od0[0]"
   ]
  },
  {
   "cell_type": "markdown",
   "metadata": {},
   "source": [
    "###$d_{0}$ vs $d_{0}$"
   ]
  },
  {
   "cell_type": "code",
   "execution_count": 88,
   "metadata": {
    "collapsed": false
   },
   "outputs": [
    {
     "name": "stderr",
     "output_type": "stream",
     "text": [
      "TCanvas::Constructor:0: RuntimeWarning: Deleting canvas with same name: c1\n"
     ]
    },
    {
     "ename": "ReferenceError",
     "evalue": "attempt to access a null-pointer",
     "output_type": "error",
     "traceback": [
      "\u001b[0;31m---------------------------------------------------------------------------\u001b[0m",
      "\u001b[0;31mReferenceError\u001b[0m                            Traceback (most recent call last)",
      "\u001b[0;32m<ipython-input-88-95221c95b8a1>\u001b[0m in \u001b[0;36m<module>\u001b[0;34m()\u001b[0m\n\u001b[1;32m      2\u001b[0m                  \u001b[0mmin_x\u001b[0m\u001b[0;34m,\u001b[0m \u001b[0mmax_x\u001b[0m\u001b[0;34m,\u001b[0m \u001b[0;36m0.\u001b[0m\u001b[0;34m,\u001b[0m \u001b[0;36m0.1\u001b[0m\u001b[0;34m,\u001b[0m\u001b[0;34m\u001b[0m\u001b[0m\n\u001b[1;32m      3\u001b[0m \u001b[0;31m#                 50*min_x, 50*max_x, 0., 0.5,\u001b[0m\u001b[0;34m\u001b[0m\u001b[0;34m\u001b[0m\u001b[0m\n\u001b[0;32m----> 4\u001b[0;31m                  \"d_{0} [cm]\", \"#Delta d_{0} [cm]\", \"d_{0} resolution [cm]\")\n\u001b[0m\u001b[1;32m      5\u001b[0m \u001b[0mod0\u001b[0m\u001b[0;34m[\u001b[0m\u001b[0;36m2\u001b[0m\u001b[0;34m]\u001b[0m\u001b[0;34m\u001b[0m\u001b[0m\n\u001b[1;32m      6\u001b[0m \u001b[0;31m# od0[2].SaveAs(\"FitThisD0.root\")\u001b[0m\u001b[0;34m\u001b[0m\u001b[0;34m\u001b[0m\u001b[0m\n",
      "\u001b[0;32m<ipython-input-51-b8b88ea199f7>\u001b[0m in \u001b[0;36mfit_slices\u001b[0;34m(input_file_name, h_name, bin_values, value_min, value_max, total_bins, mean_y_min, mean_y_max, sigma_y_min, sigma_y_max, x_title, y_title, sigma_y_title)\u001b[0m\n\u001b[1;32m     15\u001b[0m     \u001b[0mc1\u001b[0m\u001b[0;34m.\u001b[0m\u001b[0mSetRightMargin\u001b[0m\u001b[0;34m(\u001b[0m\u001b[0;36m0.15\u001b[0m\u001b[0;34m)\u001b[0m\u001b[0;34m\u001b[0m\u001b[0m\n\u001b[1;32m     16\u001b[0m     \u001b[0mc1\u001b[0m\u001b[0;34m.\u001b[0m\u001b[0mSetBottomMargin\u001b[0m\u001b[0;34m(\u001b[0m\u001b[0;36m0.15\u001b[0m\u001b[0;34m)\u001b[0m\u001b[0;34m\u001b[0m\u001b[0m\n\u001b[0;32m---> 17\u001b[0;31m     \u001b[0mh\u001b[0m\u001b[0;34m.\u001b[0m\u001b[0mDraw\u001b[0m\u001b[0;34m(\u001b[0m\u001b[0;34m)\u001b[0m\u001b[0;34m\u001b[0m\u001b[0m\n\u001b[0m\u001b[1;32m     18\u001b[0m     \u001b[0mc1\u001b[0m\u001b[0;34m.\u001b[0m\u001b[0mUpdate\u001b[0m\u001b[0;34m(\u001b[0m\u001b[0;34m)\u001b[0m\u001b[0;34m\u001b[0m\u001b[0m\n\u001b[1;32m     19\u001b[0m     \u001b[0mh\u001b[0m\u001b[0;34m.\u001b[0m\u001b[0mDraw\u001b[0m\u001b[0;34m(\u001b[0m\u001b[0;34m\"COLZ\"\u001b[0m\u001b[0;34m)\u001b[0m\u001b[0;34m\u001b[0m\u001b[0m\n",
      "\u001b[0;31mReferenceError\u001b[0m: attempt to access a null-pointer"
     ]
    }
   ],
   "source": [
    "od0 = fit_slices(input_file_name, \"deltaD0VsD0\", d0_bin_edge, d0_min, d0_max, 200,\n",
    "                 min_x, max_x, 0., 0.1,\n",
    "#                 50*min_x, 50*max_x, 0., 0.5,\n",
    "                 \"d_{0} [cm]\", \"#Delta d_{0} [cm]\", \"d_{0} resolution [cm]\")\n",
    "od0[2]\n",
    "# od0[2].SaveAs(\"FitThisD0.root\")"
   ]
  },
  {
   "cell_type": "code",
   "execution_count": 89,
   "metadata": {
    "collapsed": false
   },
   "outputs": [
    {
     "data": {
      "image/png": "[encoded data removed]",
      "text/plain": [
       "<ROOT.TCanvas object (\"c2\") at 0x7fcd66ba4050>"
      ]
     },
     "execution_count": 89,
     "metadata": {},
     "output_type": "execute_result"
    }
   ],
   "source": [
    "od0[1]"
   ]
  },
  {
   "cell_type": "code",
   "execution_count": 90,
   "metadata": {
    "collapsed": false
   },
   "outputs": [
    {
     "data": {
      "text/plain": [
       "None"
      ]
     },
     "execution_count": 90,
     "metadata": {},
     "output_type": "execute_result"
    }
   ],
   "source": [
    "od0[0]"
   ]
  },
  {
   "cell_type": "markdown",
   "metadata": {},
   "source": [
    "##$\\phi$ Bias and Resolution vs $d_{0}$"
   ]
  },
  {
   "cell_type": "code",
   "execution_count": 91,
   "metadata": {
    "collapsed": false
   },
   "outputs": [
    {
     "name": "stdout",
     "output_type": "stream",
     "text": [
      "bin_edges = [1, 6, 10, 16, 20, 26, 31, 36, 41, 45, 51, 56, 61, 66, 71, 76, 81, 86, 91, 96, 101, 106, 111, 115, 121, 126, 131, 136, 141, 146, 151, 156, 161, 166, 171, 176, 181, 186, 191, 196, 201]\n"
     ]
    },
    {
     "name": "stderr",
     "output_type": "stream",
     "text": [
      "TCanvas::Constructor:0: RuntimeWarning: Deleting canvas with same name: c1\n",
      "TCanvas::Constructor:0: RuntimeWarning: Deleting canvas with same name: c2\n",
      "TCanvas::Constructor:0: RuntimeWarning: Deleting canvas with same name: Resolutions\n"
     ]
    },
    {
     "data": {
      "image/png": "[encoded data removed]",
      "text/plain": [
       "<ROOT.TCanvas object (\"Resolutions\") at 0x7fcd66f2ebc0>"
      ]
     },
     "execution_count": 91,
     "metadata": {},
     "output_type": "execute_result"
    }
   ],
   "source": [
    "ophi = fit_slices(input_file_name, \"deltaPhiVsD0\", d0_bin_edge, d0_min, d0_max, 200,\n",
    "#                  min_x_phi, max_x_phi, 0., 0.002,\n",
    "                    10*min_x_phi, 10*max_x_phi, 0., 0.01,\n",
    "                  \"d_{0} [cm]\", \"#Delta#phi\", \"#Delta#phi sigmas\")\n",
    "ophi[2]\n",
    "# ophi[2].SaveAs(\"FitThisPhi0.root\")"
   ]
  },
  {
   "cell_type": "code",
   "execution_count": 140,
   "metadata": {
    "collapsed": false
   },
   "outputs": [
    {
     "data": {
      "image/png": "[encoded data removed]",
      "text/plain": [
       "<ROOT.TCanvas object (\"c2\") at 0x7fca4024b700>"
      ]
     },
     "execution_count": 140,
     "metadata": {},
     "output_type": "execute_result"
    }
   ],
   "source": [
    "ophi[1]"
   ]
  },
  {
   "cell_type": "code",
   "execution_count": 141,
   "metadata": {
    "collapsed": false
   },
   "outputs": [
    {
     "data": {
      "image/png": "[encoded data removed]",
      "text/plain": [
       "<ROOT.TCanvas object (\"c1\") at 0x7fca3fddcad0>"
      ]
     },
     "execution_count": 141,
     "metadata": {},
     "output_type": "execute_result"
    }
   ],
   "source": [
    "ophi[0]"
   ]
  },
  {
   "cell_type": "markdown",
   "metadata": {},
   "source": [
    "##$d_{0}$ Bias and Resolution vs $\\phi$"
   ]
  },
  {
   "cell_type": "code",
   "execution_count": 142,
   "metadata": {
    "collapsed": false
   },
   "outputs": [
    {
     "name": "stderr",
     "output_type": "stream",
     "text": [
      "TCanvas::Constructor:0: RuntimeWarning: Deleting canvas with same name: c1\n"
     ]
    },
    {
     "ename": "ReferenceError",
     "evalue": "attempt to access a null-pointer",
     "output_type": "error",
     "traceback": [
      "\u001b[0;31m---------------------------------------------------------------------------\u001b[0m",
      "\u001b[0;31mReferenceError\u001b[0m                            Traceback (most recent call last)",
      "\u001b[0;32m<ipython-input-142-0438bee825f7>\u001b[0m in \u001b[0;36m<module>\u001b[0;34m()\u001b[0m\n\u001b[1;32m      9\u001b[0m \u001b[0;31m#                 min_x_phi, max_x_phi, 0., 0.05,\u001b[0m\u001b[0;34m\u001b[0m\u001b[0;34m\u001b[0m\u001b[0m\n\u001b[1;32m     10\u001b[0m                  \u001b[0;36m200\u001b[0m\u001b[0;34m*\u001b[0m\u001b[0mmin_x_phi\u001b[0m\u001b[0;34m,\u001b[0m \u001b[0;36m200\u001b[0m\u001b[0;34m*\u001b[0m\u001b[0mmax_x_phi\u001b[0m\u001b[0;34m,\u001b[0m \u001b[0;36m0.\u001b[0m\u001b[0;34m,\u001b[0m \u001b[0;36m0.5\u001b[0m\u001b[0;34m,\u001b[0m\u001b[0;34m\u001b[0m\u001b[0m\n\u001b[0;32m---> 11\u001b[0;31m                  \"#phi [rad]\", \"#Delta d_{0} [cm]\", \"d_{0} resolution [cm]\")\n\u001b[0m\u001b[1;32m     12\u001b[0m \u001b[0mod0\u001b[0m\u001b[0;34m[\u001b[0m\u001b[0;36m2\u001b[0m\u001b[0;34m]\u001b[0m\u001b[0;34m\u001b[0m\u001b[0m\n",
      "\u001b[0;32m<ipython-input-99-a28bfb7e282e>\u001b[0m in \u001b[0;36mfit_slices\u001b[0;34m(input_file_name, h_name, bin_values, value_min, value_max, total_bins, mean_y_min, mean_y_max, sigma_y_min, sigma_y_max, x_title, y_title, sigma_y_title)\u001b[0m\n\u001b[1;32m     15\u001b[0m     \u001b[0mc1\u001b[0m\u001b[0;34m.\u001b[0m\u001b[0mSetRightMargin\u001b[0m\u001b[0;34m(\u001b[0m\u001b[0;36m0.15\u001b[0m\u001b[0;34m)\u001b[0m\u001b[0;34m\u001b[0m\u001b[0m\n\u001b[1;32m     16\u001b[0m     \u001b[0mc1\u001b[0m\u001b[0;34m.\u001b[0m\u001b[0mSetBottomMargin\u001b[0m\u001b[0;34m(\u001b[0m\u001b[0;36m0.15\u001b[0m\u001b[0;34m)\u001b[0m\u001b[0;34m\u001b[0m\u001b[0m\n\u001b[0;32m---> 17\u001b[0;31m     \u001b[0mh\u001b[0m\u001b[0;34m.\u001b[0m\u001b[0mDraw\u001b[0m\u001b[0;34m(\u001b[0m\u001b[0;34m)\u001b[0m\u001b[0;34m\u001b[0m\u001b[0m\n\u001b[0m\u001b[1;32m     18\u001b[0m     \u001b[0mc1\u001b[0m\u001b[0;34m.\u001b[0m\u001b[0mUpdate\u001b[0m\u001b[0;34m(\u001b[0m\u001b[0;34m)\u001b[0m\u001b[0;34m\u001b[0m\u001b[0m\n\u001b[1;32m     19\u001b[0m     \u001b[0mh\u001b[0m\u001b[0;34m.\u001b[0m\u001b[0mDraw\u001b[0m\u001b[0;34m(\u001b[0m\u001b[0;34m\"COLZ\"\u001b[0m\u001b[0;34m)\u001b[0m\u001b[0;34m\u001b[0m\u001b[0m\n",
      "\u001b[0;31mReferenceError\u001b[0m: attempt to access a null-pointer"
     ]
    }
   ],
   "source": [
    "total_bins_phi = 400\n",
    "# phi_min = 0.\n",
    "# phi_max = 0.8\n",
    "phi_min = -3.14\n",
    "phi_max = 3.14\n",
    "# phi_bin_edge = [n/100. for n in range(int(phi_min*100), int(phi_max*100)+1)]\n",
    "phi_bin_edge = [n/10. for n in range(int(phi_min*10), int(phi_max*10)+1)]\n",
    "od0 = fit_slices(input_file_name, \"deltaD0VsPhi\", phi_bin_edge, phi_min, phi_max, total_bins_phi,\n",
    "#                 min_x_phi, max_x_phi, 0., 0.05,\n",
    "                 200*min_x_phi, 200*max_x_phi, 0., 0.5,\n",
    "                 \"#phi [rad]\", \"#Delta d_{0} [cm]\", \"d_{0} resolution [cm]\")\n",
    "od0[2]"
   ]
  },
  {
   "cell_type": "code",
   "execution_count": 143,
   "metadata": {
    "collapsed": false
   },
   "outputs": [
    {
     "data": {
      "text/plain": [
       "None"
      ]
     },
     "execution_count": 143,
     "metadata": {},
     "output_type": "execute_result"
    }
   ],
   "source": [
    "od0[0]"
   ]
  },
  {
   "cell_type": "markdown",
   "metadata": {},
   "source": [
    "$\\phi = \\phi_0 - \\mbox{arcsin}\\left(\\frac{R}{2\\rho}\\right)$\n",
    "\n",
    "$\\phi \\simeq \\phi_0 - \\left(\\frac{R}{2\\rho}\\right) - \\frac16\\left(\\frac{R}{2\\rho}\\right)^3$\n",
    "\n",
    "$\\phi' = \\phi + \\frac{R - R'}{2\\rho} + \\frac16\\left(\\frac{R}{2\\rho}\\right)^3$\n",
    "\n",
    "$z \\simeq z_{0} + R\\cdot\\cot\\theta + \\frac{1}{24}\\frac{R^3}{\\rho^2}\\cot\\theta$\n",
    "\n",
    "$z' = z - \\left(R-R' + \\frac{1}{24}\\frac{R^3}{\\rho^2}\\right)\\cot\\theta$"
   ]
  },
  {
   "cell_type": "code",
   "execution_count": 144,
   "metadata": {
    "collapsed": false
   },
   "outputs": [
    {
     "name": "stdout",
     "output_type": "stream",
     "text": [
      "-16.1237319131\n",
      "-44.5907450947\n",
      "-80.1626353515\n",
      "234.304054632\n",
      "-2.16351571783\n",
      "-91.2558932872\n"
     ]
    }
   ],
   "source": [
    "corr = 1.-0.003247\n",
    "print -16.07137815554572628381039440067009831739255921316531512554132044745688655932/corr\n",
    "print -44.445958945364831196399373919163544418684093313729806110169783687503288266602/corr\n",
    "print -79.902347274530882808710047307097943270991386464072842634794540484304293971799/corr\n",
    "print 233.54326936685254054147639635237595777669327377491201481383699620825805067339/corr\n",
    "print -2.1564907822930671472805419435301878958157022763275076334726616590751972336921/corr\n",
    "print -90.959585401735369862992942401063385916387249592231435754549868630692488849246/corr"
   ]
  },
  {
   "cell_type": "code",
   "execution_count": null,
   "metadata": {
    "collapsed": true
   },
   "outputs": [],
   "source": []
  }
 ],
 "metadata": {
  "kernelspec": {
   "display_name": "Python 2",
   "language": "python",
   "name": "python2"
  },
  "language_info": {
   "codemirror_mode": {
    "name": "ipython",
    "version": 2
   },
   "file_extension": ".py",
   "mimetype": "text/x-python",
   "name": "python",
   "nbconvert_exporter": "python",
   "pygments_lexer": "ipython2",
   "version": "2.7.6"
  }
 },
 "nbformat": 4,
 "nbformat_minor": 0
}
