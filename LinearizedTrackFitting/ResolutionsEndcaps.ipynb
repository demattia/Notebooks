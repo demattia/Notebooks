{
 "cells": [
  {
   "cell_type": "code",
   "execution_count": 1,
   "metadata": {
    "collapsed": true
   },
   "outputs": [],
   "source": [
    "import sys\n",
    "sys.path.append('/Users/demattia/Desktop/Notebooks')\n",
    "import rootprint\n",
    "import rootnotes\n",
    "from array import array\n",
    "# import LinearFitterHistograms\n",
    "\n",
    "from ROOT import TFile, TH1F, TCanvas, TLegend, TGraphErrors\n",
    "import math\n",
    "from itertools import chain"
   ]
  },
  {
   "cell_type": "code",
   "execution_count": 1081,
   "metadata": {
    "collapsed": false
   },
   "outputs": [],
   "source": [
    "# Phi only\n",
    "# --------\n",
    "# Phi only, no charge split\n",
    "# input_file_name = \"/Users/demattia/RemoteProjects/Test/CombinationsTest/PhiOnly/Pt_2_3/linearFitterHistograms.root\"\n",
    "# input_file_name = \"/Users/demattia/RemoteProjects/Test/CombinationsTest/PhiOnly/Pt_3_5/linearFitterHistograms.root\"\n",
    "# input_file_name = \"/Users/demattia/RemoteProjects/Test/CombinationsTest/PhiOnly/Pt_2_5/linearFitterHistograms.root\"\n",
    "# input_file_name = \"/Users/demattia/RemoteProjects/Test/CombinationsTest/PhiOnly/Pt_2_10/linearFitterHistograms.root\"\n",
    "# input_file_name = \"/Users/demattia/RemoteProjects/Test/CombinationsTest/PhiOnly/Pt_5_10/linearFitterHistograms.root\"\n",
    "# input_file_name = \"/Users/demattia/RemoteProjects/Test/CombinationsTest/PhiOnly/Pt_10_30/linearFitterHistograms.root\"\n",
    "# input_file_name = \"/Users/demattia/RemoteProjects/Test/CombinationsTest/PhiOnly/Pt_50_80/linearFitterHistograms.root\"\n",
    "# input_file_name = \"/Users/demattia/RemoteProjects/Test/CombinationsTest/PhiOnly/Pt_100_more/linearFitterHistograms.root\"\n",
    "# input_file_name = \"/Users/demattia/RemoteProjects/Test/CombinationsTest/PhiOnly/Pt_2_more/linearFitterHistograms.root\"\n",
    "# input_file_name = \"/Users/demattia/RemoteProjects/Test/CombinationsTest/PhiOnly/Pt_5_more/linearFitterHistograms.root\"\n",
    "# input_file_name = \"/Users/demattia/RemoteProjects/Test/CombinationsTest/PhiOnly/Pt_10_more/linearFitterHistograms.root\"\n",
    "# input_file_name = \"/Users/demattia/RemoteProjects/Test/CombinationsTest/PhiOnly/Pt_2_10/ApplyOnPt_2_more/linearFitterHistograms.root\"\n",
    "# input_file_name = \"/Users/demattia/RemoteProjects/Test/CombinationsTest/PhiOnly/Pt_10_more/ApplyOnPt_2_more/linearFitterHistograms.root\"\n",
    "\n",
    "# Phi only, no charge split, fixed phi means to 0\n",
    "# input_file_name = \"/Users/demattia/RemoteProjects/Test/CombinationsTest/PhiOnly_NoChargeSplit_FixMeansPhi/Pt_2_5/linearFitterHistograms.root\"\n",
    "# input_file_name = \"/Users/demattia/RemoteProjects/Test/CombinationsTest/PhiOnly_NoChargeSplit_FixMeansPhi/Pt_10_30/linearFitterHistograms.root\"\n",
    "# input_file_name = \"/Users/demattia/RemoteProjects/Test/CombinationsTest/PhiOnly_NoChargeSplit_FixMeansPhi/Pt_50_80/linearFitterHistograms.root\"\n",
    "# input_file_name = \"/Users/demattia/RemoteProjects/Test/CombinationsTest/PhiOnly_NoChargeSplit_FixMeansPhi/Pt_100_more/linearFitterHistograms.root\"\n",
    "\n",
    "# Phi only, charge split\n",
    "# input_file_name = \"/Users/demattia/RemoteProjects/Test/CombinationsTest/PhiOnly_ChargeSplit/Pt_2_5/linearFitterHistograms.root\"\n",
    "# input_file_name = \"/Users/demattia/RemoteProjects/Test/CombinationsTest/PhiOnly_ChargeSplit/Pt_10_30/linearFitterHistograms.root\"\n",
    "# input_file_name = \"/Users/demattia/RemoteProjects/Test/CombinationsTest/PhiOnly_ChargeSplit/Pt_50_80/linearFitterHistograms.root\"\n",
    "# input_file_name = \"/Users/demattia/RemoteProjects/Test/CombinationsTest/PhiOnly_ChargeSplit/Pt_100_more/linearFitterHistograms.root\"\n",
    "\n",
    "# Phi only, charge split, fixed phi means to 0\n",
    "# input_file_name = \"/Users/demattia/RemoteProjects/Test/CombinationsTest/PhiOnly_ChargeSplit_FixMeansPhi/Pt_2_5/linearFitterHistograms.root\"\n",
    "# input_file_name = \"/Users/demattia/RemoteProjects/Test/CombinationsTest/PhiOnly_ChargeSplit_FixMeansPhi/Pt_10_30/linearFitterHistograms.root\"\n",
    "# input_file_name = \"/Users/demattia/RemoteProjects/Test/CombinationsTest/PhiOnly_ChargeSplit_FixMeansPhi/Pt_50_80/linearFitterHistograms.root\"\n",
    "# input_file_name = \"/Users/demattia/RemoteProjects/Test/CombinationsTest/PhiOnly_ChargeSplit_FixMeansPhi/Pt_100_more/linearFitterHistograms.root\"\n",
    "\n",
    "\n",
    "# Phi-R\n",
    "# -----\n",
    "# Phi-R, no charge split\n",
    "# input_file_name = \"/Users/demattia/RemoteProjects/Test/CombinationsTest/PhiR/Pt_2_5/linearFitterHistograms.root\"\n",
    "# input_file_name = \"/Users/demattia/RemoteProjects/Test/CombinationsTest/PhiR/Pt_10_30/linearFitterHistograms.root\"\n",
    "# input_file_name = \"/Users/demattia/RemoteProjects/Test/CombinationsTest/PhiR/Pt_50_80/linearFitterHistograms.root\"\n",
    "# input_file_name = \"/Users/demattia/RemoteProjects/Test/CombinationsTest/PhiR/Pt_100_more/linearFitterHistograms.root\"\n",
    "\n",
    "# Phi-R, no charge split, fixed phi means to 0\n",
    "# input_file_name = \"/Users/demattia/RemoteProjects/Test/CombinationsTest/PhiR_NoChargeSplit_FixMeansPhi/Pt_2_5/linearFitterHistograms.root\"\n",
    "# input_file_name = \"/Users/demattia/RemoteProjects/Test/CombinationsTest/PhiR_NoChargeSplit_FixMeansPhi/Pt_10_30/linearFitterHistograms.root\"\n",
    "# input_file_name = \"/Users/demattia/RemoteProjects/Test/CombinationsTest/PhiR_NoChargeSplit_FixMeansPhi/Pt_50_80/linearFitterHistograms.root\"\n",
    "# input_file_name = \"/Users/demattia/RemoteProjects/Test/CombinationsTest/PhiR_NoChargeSplit_FixMeansPhi/Pt_100_more/linearFitterHistograms.root\"\n",
    "\n",
    "# Phi-R, charge split\n",
    "# input_file_name = \"/Users/demattia/RemoteProjects/Test/CombinationsTest/PhiR_ChargeSplit/Pt_2_5/linearFitterHistograms.root\"\n",
    "# input_file_name = \"/Users/demattia/RemoteProjects/Test/CombinationsTest/PhiR_ChargeSplit/Pt_10_30/linearFitterHistograms.root\"\n",
    "# input_file_name = \"/Users/demattia/RemoteProjects/Test/CombinationsTest/PhiR_ChargeSplit/Pt_50_80/linearFitterHistograms.root\"\n",
    "# input_file_name = \"/Users/demattia/RemoteProjects/Test/CombinationsTest/PhiR_ChargeSplit/Pt_100_more/linearFitterHistograms.root\"\n",
    "# input_file_name = \"/Users/demattia/RemoteProjects/Test/CombinationsTest/PhiR_ChargeSplit/Pt_2_more/linearFitterHistograms.root\"\n",
    "# input_file_name = \"/Users/demattia/RemoteProjects/Test/CombinationsTest/PhiR_ChargeSplit/Pt_5_more/linearFitterHistograms.root\"\n",
    "# input_file_name = \"/Users/demattia/RemoteProjects/Test/CombinationsTest/PhiR_ChargeSplit/Pt_10_more/linearFitterHistograms.root\"\n",
    "\n",
    "# Phi-R, charge split, fixed phi means to 0\n",
    "# input_file_name = \"/Users/demattia/RemoteProjects/Test/CombinationsTest/PhiR_ChargeSplit_FixMeansPhi/Pt_2_5/linearFitterHistograms.root\"\n",
    "# input_file_name = \"/Users/demattia/RemoteProjects/Test/CombinationsTest/PhiR_ChargeSplit_FixMeansPhi/Pt_10_30/linearFitterHistograms.root\"\n",
    "# input_file_name = \"/Users/demattia/RemoteProjects/Test/CombinationsTest/PhiR_ChargeSplit_FixMeansPhi/Pt_50_80/linearFitterHistograms.root\"\n",
    "# input_file_name = \"/Users/demattia/RemoteProjects/Test/CombinationsTest/PhiR_ChargeSplit_FixMeansPhi/Pt_100_more/linearFitterHistograms.root\"\n",
    "\n",
    "\n",
    "# Phi-Phi/R\n",
    "# ---------\n",
    "# Phi-Phi/R, no charge split\n",
    "# input_file_name = \"/Users/demattia/RemoteProjects/Test/CombinationsTest/PhiPhiOverR/Pt_2_5/linearFitterHistograms.root\"\n",
    "# input_file_name = \"/Users/demattia/RemoteProjects/Test/CombinationsTest/PhiPhiOverR/Pt_10_30/linearFitterHistograms.root\"\n",
    "# input_file_name = \"/Users/demattia/RemoteProjects/Test/CombinationsTest/PhiPhiOverR/Pt_50_80/linearFitterHistograms.root\"\n",
    "# input_file_name = \"/Users/demattia/RemoteProjects/Test/CombinationsTest/PhiPhiOverR/Pt_100_more/linearFitterHistograms.root\"\n",
    "\n",
    "# Phi-Phi/R, no charge split, fixed phi means to 0\n",
    "# input_file_name = \"/Users/demattia/RemoteProjects/Test/CombinationsTest/PhiPhiOverR_NoChargeSplit_FixMeansPhi/Pt_2_5/linearFitterHistograms.root\"\n",
    "# input_file_name = \"/Users/demattia/RemoteProjects/Test/CombinationsTest/PhiPhiOverR_NoChargeSplit_FixMeansPhi/Pt_10_30/linearFitterHistograms.root\"\n",
    "# input_file_name = \"/Users/demattia/RemoteProjects/Test/CombinationsTest/PhiPhiOverR_NoChargeSplit_FixMeansPhi/Pt_50_80/linearFitterHistograms.root\"\n",
    "# input_file_name = \"/Users/demattia/RemoteProjects/Test/CombinationsTest/PhiPhiOverR_NoChargeSplit_FixMeansPhi/Pt_100_more/linearFitterHistograms.root\"\n",
    "\n",
    "# Phi-Phi/R, charge split\n",
    "# input_file_name = \"/Users/demattia/RemoteProjects/Test/CombinationsTest/PhiPhiOverR_ChargeSplit/Pt_2_5/linearFitterHistograms.root\"\n",
    "# input_file_name = \"/Users/demattia/RemoteProjects/Test/CombinationsTest/PhiPhiOverR_ChargeSplit/Pt_10_30/linearFitterHistograms.root\"\n",
    "# input_file_name = \"/Users/demattia/RemoteProjects/Test/CombinationsTest/PhiPhiOverR_ChargeSplit/Pt_50_80/linearFitterHistograms.root\"\n",
    "# input_file_name = \"/Users/demattia/RemoteProjects/Test/CombinationsTest/PhiPhiOverR_ChargeSplit/Pt_100_more/linearFitterHistograms.root\"\n",
    "\n",
    "# Phi-Phi/R, charge split, fixed phi means to 0\n",
    "# input_file_name = \"/Users/demattia/RemoteProjects/Test/CombinationsTest/PhiPhiOverR_ChargeSplit_FixMeansPhi/Pt_2_5/linearFitterHistograms.root\"\n",
    "# input_file_name = \"/Users/demattia/RemoteProjects/Test/CombinationsTest/PhiPhiOverR_ChargeSplit_FixMeansPhi/Pt_10_30/linearFitterHistograms.root\"\n",
    "# input_file_name = \"/Users/demattia/RemoteProjects/Test/CombinationsTest/PhiPhiOverR_ChargeSplit_FixMeansPhi/Pt_50_80/linearFitterHistograms.root\"\n",
    "# input_file_name = \"/Users/demattia/RemoteProjects/Test/CombinationsTest/PhiPhiOverR_ChargeSplit_FixMeansPhi/Pt_100_more/linearFitterHistograms.root\"\n",
    "\n",
    "\n",
    "# Phi, 1/R\n",
    "# --------\n",
    "# Phi-1/R, no charge split\n",
    "# input_file_name = \"/Users/demattia/RemoteProjects/Test/CombinationsTest/PhiOneOverR/Pt_2_5/linearFitterHistograms.root\"\n",
    "# input_file_name = \"/Users/demattia/RemoteProjects/Test/CombinationsTest/PhiOneOverR/Pt_10_30/linearFitterHistograms.root\"\n",
    "# input_file_name = \"/Users/demattia/RemoteProjects/Test/CombinationsTest/PhiOneOverR/Pt_50_80/linearFitterHistograms.root\"\n",
    "# input_file_name = \"/Users/demattia/RemoteProjects/Test/CombinationsTest/PhiOneOverR/Pt_100_more/linearFitterHistograms.root\"\n",
    "\n",
    "# Phi-1/R, no charge split, fixed phi means to 0\n",
    "# input_file_name = \"/Users/demattia/RemoteProjects/Test/CombinationsTest/PhiOneOverR_NoChargeSplit_FixMeansPhi/Pt_2_5/linearFitterHistograms.root\"\n",
    "# input_file_name = \"/Users/demattia/RemoteProjects/Test/CombinationsTest/PhiOneOverR_NoChargeSplit_FixMeansPhi/Pt_10_30/linearFitterHistograms.root\"\n",
    "# input_file_name = \"/Users/demattia/RemoteProjects/Test/CombinationsTest/PhiOneOverR_NoChargeSplit_FixMeansPhi/Pt_50_80/linearFitterHistograms.root\"\n",
    "# input_file_name = \"/Users/demattia/RemoteProjects/Test/CombinationsTest/PhiOneOverR_NoChargeSplit_FixMeansPhi/Pt_100_more/linearFitterHistograms.root\"\n",
    "\n",
    "# Phi-1/R, charge split\n",
    "# input_file_name = \"/Users/demattia/RemoteProjects/Test/CombinationsTest/PhiOneOverR_ChargeSplit/Pt_2_5/linearFitterHistograms.root\"\n",
    "# input_file_name = \"/Users/demattia/RemoteProjects/Test/CombinationsTest/PhiOneOverR_ChargeSplit/Pt_10_30/linearFitterHistograms.root\"\n",
    "# input_file_name = \"/Users/demattia/RemoteProjects/Test/CombinationsTest/PhiOneOverR_ChargeSplit/Pt_50_80/linearFitterHistograms.root\"\n",
    "# input_file_name = \"/Users/demattia/RemoteProjects/Test/CombinationsTest/PhiOneOverR_ChargeSplit/Pt_100_more/linearFitterHistograms.root\"\n",
    "\n",
    "# Phi-1/R, charge split, fixed phi means to 0\n",
    "# input_file_name = \"/Users/demattia/RemoteProjects/Test/CombinationsTest/PhiOneOverR_ChargeSplit_FixMeansPhi/Pt_2_5/linearFitterHistograms.root\"\n",
    "# input_file_name = \"/Users/demattia/RemoteProjects/Test/CombinationsTest/PhiOneOverR_ChargeSplit_FixMeansPhi/Pt_10_30/linearFitterHistograms.root\"\n",
    "# input_file_name = \"/Users/demattia/RemoteProjects/Test/CombinationsTest/PhiOneOverR_ChargeSplit_FixMeansPhi/Pt_50_80/linearFitterHistograms.root\"\n",
    "# input_file_name = \"/Users/demattia/RemoteProjects/Test/CombinationsTest/PhiOneOverR_ChargeSplit_FixMeansPhi/Pt_100_more/linearFitterHistograms.root\"\n",
    "\n",
    "\n",
    "# Phi-ChargeOverPtCorrectedR\n",
    "# input_file_name = \"/Users/demattia/RemoteProjects/Test/CombinationsTest/ChargeOverPtCorrectedR/Pt_2_3/linearFitterHistograms.root\"\n",
    "# input_file_name = \"/Users/demattia/RemoteProjects/Test/CombinationsTest/ChargeOverPtCorrectedR/Pt_3_5/linearFitterHistograms.root\"\n",
    "# input_file_name = \"/Users/demattia/RemoteProjects/Test/CombinationsTest/ChargeOverPtCorrectedR/Pt_2_5/linearFitterHistograms.root\"\n",
    "# input_file_name = \"/Users/demattia/RemoteProjects/Test/CombinationsTest/ChargeOverPtCorrectedR/Pt_2_10/linearFitterHistograms.root\"\n",
    "# input_file_name = \"/Users/demattia/RemoteProjects/Test/CombinationsTest/ChargeOverPtCorrectedR/Pt_2_more/linearFitterHistograms.root\"\n",
    "# input_file_name = \"/Users/demattia/RemoteProjects/Test/CombinationsTest/ChargeOverPtCorrectedR/Pt_5_more/linearFitterHistograms.root\"\n",
    "# input_file_name = \"/Users/demattia/RemoteProjects/Test/CombinationsTest/ChargeOverPtCorrectedR/Pt_10_more/linearFitterHistograms.root\"\n",
    "# input_file_name = \"/Users/demattia/RemoteProjects/Test/CombinationsTest/ChargeOverPtCorrectedR/Pt_2_10/ApplyOnPt_2_more/linearFitterHistograms.root\"\n",
    "# input_file_name = \"/Users/demattia/RemoteProjects/Test/CombinationsTest/ChargeOverPtCorrectedR/Pt_10_more/ApplyOnPt_2_more/linearFitterHistograms.root\"\n",
    "\n",
    "# Phi-ChargeOverPtCorrectedRCube\n",
    "# input_file_name = \"/Users/demattia/RemoteProjects/Test/CombinationsTest/ChargeOverPtCorrectedRCube/Pt_2_3/linearFitterHistograms.root\"\n",
    "# input_file_name = \"/Users/demattia/RemoteProjects/Test/CombinationsTest/ChargeOverPtCorrectedRCube/Pt_3_5/linearFitterHistograms.root\"\n",
    "# input_file_name = \"/Users/demattia/RemoteProjects/Test/CombinationsTest/ChargeOverPtCorrectedRCube/Pt_2_5/linearFitterHistograms.root\"\n",
    "# input_file_name = \"/Users/demattia/RemoteProjects/Test/CombinationsTest/ChargeOverPtCorrectedRCube/Pt_2_10/linearFitterHistograms.root\"\n",
    "# input_file_name = \"/Users/demattia/RemoteProjects/Test/CombinationsTest/ChargeOverPtCorrectedRCube/Pt_2_more/linearFitterHistograms.root\"\n",
    "# input_file_name = \"/Users/demattia/RemoteProjects/Test/CombinationsTest/ChargeOverPtCorrectedRCube/Pt_5_more/linearFitterHistograms.root\"\n",
    "# input_file_name = \"/Users/demattia/RemoteProjects/Test/CombinationsTest/ChargeOverPtCorrectedRCube/Pt_10_more/linearFitterHistograms.root\"\n",
    "# input_file_name = \"/Users/demattia/RemoteProjects/Test/CombinationsTest/ChargeOverPtCorrectedRCube/Pt_2_10/ApplyOnPt_2_more/linearFitterHistograms.root\"\n",
    "# input_file_name = \"/Users/demattia/RemoteProjects/Test/CombinationsTest/ChargeOverPtCorrectedRCube/Pt_10_more/ApplyOnPt_2_more/linearFitterHistograms.root\"\n",
    "\n",
    "# Phi, DeltaS, DeltaS*R\n",
    "# ---------------------\n",
    "# input_file_name = \"/Users/demattia/RemoteProjects/Test/CombinationsTest/PhiDeltaSDeltaSR/Pt_2_3/linearFitterHistograms.root\"\n",
    "# input_file_name = \"/Users/demattia/RemoteProjects/Test/CombinationsTest/PhiDeltaSDeltaSR/Pt_3_5/linearFitterHistograms.root\"\n",
    "# input_file_name = \"/Users/demattia/RemoteProjects/Test/CombinationsTest/PhiDeltaSDeltaSR/Pt_2_more/linearFitterHistograms.root\"\n",
    "# input_file_name = \"/Users/demattia/RemoteProjects/Test/CombinationsTest/PhiDeltaSDeltaSR/Pt_5_more/linearFitterHistograms.root\"\n",
    "# input_file_name = \"/Users/demattia/RemoteProjects/Test/CombinationsTest/PhiDeltaSDeltaSR/Pt_10_more/linearFitterHistograms.root\"\n",
    "# input_file_name = \"/Users/demattia/RemoteProjects/Test/CombinationsTest/PhiDeltaSDeltaSR/Pt_2_5/linearFitterHistograms.root\"\n",
    "# input_file_name = \"/Users/demattia/RemoteProjects/Test/CombinationsTest/PhiDeltaSDeltaSR/Pt_2_10/linearFitterHistograms.root\"\n",
    "\n",
    "# Phi, DeltaS\n",
    "# -----------\n",
    "# input_file_name = \"/Users/demattia/RemoteProjects/Test/CombinationsTest/PhiDeltaS/Pt_2_3/linearFitterHistograms.root\"\n",
    "\n",
    "# Phi, R*DeltaS\n",
    "# -----------------\n",
    "# input_file_name = \"/Users/demattia/RemoteProjects/Test/CombinationsTest/PhiDeltaSDeltaSR/Pt_2_3/linearFitterHistograms.root\"\n",
    "\n",
    "\n",
    "# Training 10_30\n",
    "# input_file_name = \"/Users/demattia/RemoteProjects/Test/CombinationsTest/PhiOnly/Pt_10_30/ApplyOnPt_50_80/linearFitterHistograms.root\"\n",
    "# input_file_name = \"/Users/demattia/RemoteProjects/Test/CombinationsTest/PhiOnly/Pt_10_30/ApplyOnPt_100_more/linearFitterHistograms.root\"\n",
    "\n",
    "\n",
    "# input_file_name = \"/Users/demattia/RemoteProjects/Test/CombinationsTest/CorrectedPhi/Pt_2_3/linearFitterHistograms.root\"\n",
    "# input_file_name = \"/Users/demattia/RemoteProjects/Test/CombinationsTest/CorrectedPhi/Pt_3_5/linearFitterHistograms.root\"\n",
    "# input_file_name = \"/Users/demattia/RemoteProjects/Test/CombinationsTest/CorrectedPhi/Pt_2_5/linearFitterHistograms.root\"\n",
    "# input_file_name = \"/Users/demattia/RemoteProjects/Test/CombinationsTest/CorrectedPhi/Pt_2_10/linearFitterHistograms.root\"\n",
    "# input_file_name = \"/Users/demattia/RemoteProjects/Test/CombinationsTest/CorrectedPhi/Pt_5_10/linearFitterHistograms.root\"\n",
    "# input_file_name = \"/Users/demattia/RemoteProjects/Test/CombinationsTest/CorrectedPhi/Pt_10_30/linearFitterHistograms.root\"\n",
    "# input_file_name = \"/Users/demattia/RemoteProjects/Test/CombinationsTest/CorrectedPhi/Pt_50_80/linearFitterHistograms.root\"\n",
    "# input_file_name = \"/Users/demattia/RemoteProjects/Test/CombinationsTest/CorrectedPhi/Pt_100_more/linearFitterHistograms.root\"\n",
    "# input_file_name = \"/Users/demattia/RemoteProjects/Test/CombinationsTest/CorrectedPhi/Pt_2_more/linearFitterHistograms.root\"\n",
    "# input_file_name = \"/Users/demattia/RemoteProjects/Test/CombinationsTest/CorrectedPhi/Pt_5_more/linearFitterHistograms.root\"\n",
    "# input_file_name = \"/Users/demattia/RemoteProjects/Test/CombinationsTest/CorrectedPhi/Pt_10_more/linearFitterHistograms.root\"\n",
    "\n",
    "\n",
    "# input_file_name = \"/Users/demattia/RemoteProjects/Test/CombinationsTest/CorrectedPhiSecondOrder/Pt_2_10/linearFitterHistograms.root\"\n",
    "# input_file_name = \"/Users/demattia/RemoteProjects/Test/CombinationsTest/CorrectedPhiSecondOrder/Pt_2_more/linearFitterHistograms.root\"\n",
    "# input_file_name = \"/Users/demattia/RemoteProjects/Test/CombinationsTest/CorrectedPhiSecondOrder/Pt_5_more/linearFitterHistograms.root\"\n",
    "# input_file_name = \"/Users/demattia/RemoteProjects/Test/CombinationsTest/CorrectedPhiSecondOrder/Pt_10_more/linearFitterHistograms.root\"\n",
    "# input_file_name = \"/Users/demattia/RemoteProjects/Test/CombinationsTest/CorrectedPhiSecondOrder/Pt_10_more/ApplyOnPt_2_more/linearFitterHistograms.root\"\n",
    "\n",
    "\n",
    "# input_file_name = \"/Users/demattia/RemoteProjects/Test/CombinationsTest/CorrectedPhiSecondOrderChargeOverPtCorrectedR/Pt_2_more/linearFitterHistograms.root\"\n",
    "# input_file_name = \"/Users/demattia/RemoteProjects/Test/CombinationsTest/CorrectedPhiSecondOrderChargeOverPtCorrectedR/Pt_5_more/linearFitterHistograms.root\"\n",
    "# input_file_name = \"/Users/demattia/RemoteProjects/Test/CombinationsTest/CorrectedPhiSecondOrderChargeOverPtCorrectedR/Pt_10_more/linearFitterHistograms.root\"\n",
    "\n",
    "# input_file_name = \"/Users/demattia/RemoteProjects/Test/CombinationsTest/CorrectedZ/Pt_2_more/linearFitterHistograms.root\"\n",
    "# input_file_name = \"/Users/demattia/RemoteProjects/Test/CombinationsTest/CorrectedZ/Pt_5_more/linearFitterHistograms.root\"\n",
    "# input_file_name = \"/Users/demattia/RemoteProjects/Test/CombinationsTest/CorrectedZ/Pt_10_more/linearFitterHistograms.root\"\n",
    "\n",
    "# input_file_name = \"/Users/demattia/RemoteProjects/Test/CombinationsTest/CorrectedZSecondOrder/Pt_2_more/linearFitterHistograms.root\"\n",
    "\n",
    "# input_file_name = \"/Users/demattia/RemoteProjects/Test/CombinationsTest/CorrectedPhiCorrectedZ/Pt_2_more/linearFitterHistograms.root\"\n",
    "\n",
    "# input_file_name = \"/Users/demattia/RemoteProjects/Test/CombinationsTest/CorrectedPhiSecondOrderCorrectedZ/Pt_2_more/linearFitterHistograms.root\"\n",
    "# input_file_name = \"/Users/demattia/RemoteProjects/Test/CombinationsTest/CorrectedPhiSecondOrderCorrectedZ/Pt_2_10/linearFitterHistograms.root\"\n",
    "# input_file_name = \"/Users/demattia/RemoteProjects/Test/CombinationsTest/CorrectedPhiSecondOrderCorrectedZ/Pt_10_more/linearFitterHistograms.root\"\n",
    "\n",
    "# input_file_name = \"/Users/demattia/RemoteProjects/Test/CombinationsTest/PhiZ/Pt_2_10/linearFitterHistograms.root\"\n",
    "# input_file_name = \"/Users/demattia/RemoteProjects/Test/CombinationsTest/PhiZ/Pt_10_more/linearFitterHistograms.root\"\n",
    "\n",
    "\n",
    "\n",
    "input_file_name = \"/Users/demattia/RemoteProjects/Test/linearFitterHistograms.root\"\n",
    "\n",
    "# input_file_name = \"/Users/demattia/RemoteProjects/Test/fullLinearFitterHistograms.root\""
   ]
  },
  {
   "cell_type": "code",
   "execution_count": 1082,
   "metadata": {
    "collapsed": false
   },
   "outputs": [],
   "source": [
    "def compute_bins(pts, pt_min, pt_max, total_bins):\n",
    "    bin_size = (pt_max - pt_min)/total_bins\n",
    "    pt_bins = []\n",
    "    for pt in pts:\n",
    "        pt_bins.append(int((pt-pt_min)/bin_size)+1)\n",
    "    return pt_bins\n",
    "\n",
    "\n",
    "def fit_slices(input_file_name, h_name, bin_values, value_min, value_max, total_bins,\n",
    "               mean_y_min, mean_y_max, sigma_y_min, sigma_y_max,\n",
    "               x_title, y_title, sigma_y_title):\n",
    "    input_file = TFile(input_file_name, \"READ\")\n",
    "    h = input_file.FindObjectAny(h_name)\n",
    "    h.SetTitle(\"\")\n",
    "    c1 = TCanvas(\"c1\", \"c1\", 600, 600)\n",
    "    c1.SetRightMargin(0.15)\n",
    "    c1.SetBottomMargin(0.15)\n",
    "    h.Draw()\n",
    "    c1.Update()\n",
    "    h.Draw(\"COLZ\")\n",
    "    c1.Update()\n",
    "    h.Draw(\"COLZ\")\n",
    "    h.GetXaxis().SetRangeUser(bin_values[0], bin_values[-1])\n",
    "    h.SetTitle(\"\")\n",
    "    h.GetXaxis().SetTitle(x_title)\n",
    "    h.GetXaxis().SetTitleOffset(1.4)\n",
    "    h.GetXaxis().SetLabelSize(0.035)\n",
    "    h.GetXaxis().SetTitleSize(0.035)\n",
    "    h.GetYaxis().SetTitle(y_title)\n",
    "    h.GetYaxis().SetTitleOffset(1.6)\n",
    "    h.GetYaxis().SetTitleSize(0.035)\n",
    "    h.GetYaxis().SetLabelSize(0.035)\n",
    "    pal = h.GetListOfFunctions().FindObject(\"palette\")\n",
    "    if pal:\n",
    "        pal.GetAxis().SetLabelSize(0.035)\n",
    "        pal.GetAxis().SetTitleSize(0.035)\n",
    "        pal.GetAxis().SetTitleOffset(1.4)\n",
    "        pal.GetAxis().SetTitle(\"Entries\")\n",
    "        c1.Update()\n",
    "    # c1\n",
    "\n",
    "    bin_edges = compute_bins(bin_values, value_min, value_max, total_bins)\n",
    "    print \"bin_edges =\", bin_edges\n",
    "    projections = []\n",
    "    bin_center = []\n",
    "    bin_size = []\n",
    "    mean = []\n",
    "    meanError = []\n",
    "    sigma = []\n",
    "    sigmaError = []\n",
    "\n",
    "    c2 = TCanvas(\"c2\", \"c2\", 400, 800)\n",
    "    c2.Divide(2, len(bin_edges)/2)\n",
    "    for i in range(len(bin_edges)-1):\n",
    "        c2.cd(i+1)\n",
    "        bin_center.append((bin_values[i+1]+bin_values[i])/2.)\n",
    "        bin_size.append((bin_values[i+1]-bin_values[i])/2.)\n",
    "        projY = h.ProjectionY(h.GetName()+\"_py\"+str(i), bin_edges[i], bin_edges[i+1]-1)\n",
    "        mean.append(0.)\n",
    "        meanError.append(0.)\n",
    "        sigma.append(0.)\n",
    "        sigmaError.append(0.)\n",
    "        if projY.GetEntries() > 0:\n",
    "            projections.append(projY)\n",
    "            projY.Fit(\"gaus\")\n",
    "            try:\n",
    "                mean[-1] = projY.GetFunction(\"gaus\").GetParameter(1)\n",
    "                meanError[-1] = projY.GetFunction(\"gaus\").GetParError(1)\n",
    "                sigma[-1] = projY.GetFunction(\"gaus\").GetParameter(2)\n",
    "                sigmaError[-1] = projY.GetFunction(\"gaus\").GetParError(2)\n",
    "            except:\n",
    "                pass\n",
    "\n",
    "    hMeans = TGraphErrors(len(bin_edges), array('d', bin_center), array('d', mean), array('d', bin_size), array('d', meanError))\n",
    "    hSigmas = TGraphErrors(len(bin_edges), array('d', bin_center), array('d', sigma), array('d', bin_size), array('d', sigmaError))\n",
    "\n",
    "    c3 = TCanvas(\"Resolutions\", \"Resolutions\", 800, 400)\n",
    "    c3.Divide(2, 1)\n",
    "    c3.cd(1)\n",
    "    hMeans.Draw(\"APE\")\n",
    "    hMeans.SetTitle(\"\")\n",
    "    hMeans.SetMarkerStyle(20)\n",
    "    hMeans.SetMarkerSize(0.5)\n",
    "    hMeans.GetYaxis().SetRangeUser(mean_y_min, mean_y_max)\n",
    "    hMeans.GetXaxis().SetTitle(x_title)\n",
    "    hMeans.GetYaxis().SetTitleOffset(1.5)\n",
    "    hMeans.GetYaxis().SetTitle(y_title + \" means\")\n",
    "    c3.cd(2)\n",
    "    hSigmas.Draw(\"APE\")\n",
    "    hSigmas.SetTitle(\"\")\n",
    "    hSigmas.SetMarkerStyle(20)\n",
    "    hSigmas.SetMarkerSize(0.5)\n",
    "    hSigmas.GetYaxis().SetRangeUser(sigma_y_min, sigma_y_max)\n",
    "    hSigmas.GetXaxis().SetTitle(x_title)\n",
    "    hSigmas.GetYaxis().SetTitleOffset(1.5)\n",
    "    hSigmas.GetYaxis().SetTitle(sigma_y_title)\n",
    "    # c3\n",
    "    \n",
    "    return c1, c2, c3, hMeans, hSigmas, projections, h, bin_values, value_min, value_max, total_bins, input_file\n",
    "\n",
    "\n",
    "def draw_chi2ndof(input_file_name):\n",
    "    input_file = TFile(input_file_name, \"READ\")\n",
    "    h = input_file.FindObjectAny(\"normChi2_summary\")\n",
    "    h.SetTitle(\"\")\n",
    "    print h\n",
    "    c = TCanvas(\"c_chi2Ndof\", \"c_chi2Ndof\", 600, 600)\n",
    "    h.Draw()\n",
    "    h.GetXaxis().SetTitle(\"\\chi^2/ndof\")\n",
    "    h.GetXaxis().SetTitleOffset(1.2)\n",
    "    h.GetYaxis().SetTitle(\"Entries\")\n",
    "    h.GetYaxis().SetTitleOffset(1.4)\n",
    "    return c, h, input_file"
   ]
  },
  {
   "cell_type": "markdown",
   "metadata": {},
   "source": [
    "## Pt Bias and Resolution"
   ]
  },
  {
   "cell_type": "code",
   "execution_count": 1085,
   "metadata": {
    "collapsed": false
   },
   "outputs": [
    {
     "name": "stderr",
     "output_type": "stream",
     "text": [
      "TCanvas::Constructor:0: RuntimeWarning: Deleting canvas with same name: c1\n",
      "TCanvas::Constructor:0: RuntimeWarning: Deleting canvas with same name: c2\n",
      "TCanvas::Constructor:0: RuntimeWarning: Deleting canvas with same name: Resolutions\n"
     ]
    },
    {
     "name": "stdout",
     "output_type": "stream",
     "text": [
      "bin_edges = [1, 11, 21, 31, 41, 51, 61, 71, 81, 91, 101, 111, 121, 131, 141, 151, 161, 171, 221, 231, 241, 251, 261, 271, 281, 291, 301, 311, 321, 331, 341, 351, 361, 371, 381, 391, 401, 181, 182, 183, 184, 185, 186, 187, 188, 189, 190, 191, 192, 193, 194, 195, 196, 197, 198, 199, 203, 204, 205, 206, 207, 208, 209, 210, 211, 212, 213, 214, 215, 216, 217, 218, 219, 220, 221]\n"
     ]
    },
    {
     "data": {
      "image/png": "[encoded data removed]",
      "text/plain": [
       "<ROOT.TCanvas object (\"Resolutions\") at 0x7ffe1c985190>"
      ]
     },
     "execution_count": 1085,
     "metadata": {},
     "output_type": "execute_result"
    }
   ],
   "source": [
    "pt_bin_edge = []\n",
    "\n",
    "# pt_min = -10.\n",
    "# pt_max = 10.\n",
    "# pt_bin_edge = [10*n for n in chain(range(-20, -9), range(10, 21))]\n",
    "# pt_bin_edge = [n for n in chain(range(-10, -1), range(2, 11))]\n",
    "# pt_bin_edge = [n for n in chain(range(-30, -9), range(10, 31))]\n",
    "# pt_bin_edge = [50*n for n in chain(range(-20, 0), range(1, 22))]\n",
    "\n",
    "min_x = -0.005\n",
    "max_x = 0.005\n",
    "min_x = -0.02\n",
    "max_x = 0.02\n",
    "# min_x = -0.05\n",
    "# max_x = 0.05\n",
    "\n",
    "\n",
    "pt_min = -10.\n",
    "pt_max = 10.\n",
    "pt_bin_edge = [n for n in chain(range(-10, -1), range(2, 11))]\n",
    "# pt_min = -30.\n",
    "# pt_max = 30.\n",
    "# pt_bin_edge = [n for n in chain(range(-30, -9), range(10, 31))]\n",
    "# pt_min = -200.\n",
    "# pt_max = 200.\n",
    "# pt_bin_edge = [10*n for n in chain(range(-20, -9), range(10, 21))]\n",
    "# pt_bin_edge = [10*n for n in chain(range(-20, -4), range(5, 21))]\n",
    "# pt_min = -1000.\n",
    "# pt_max = 1000.\n",
    "# pt_bin_edge = [100*n for n in chain(range(-10, -1), range(1, 11))]\n",
    "\n",
    "# Full pt range\n",
    "# pt_bin_edge = [n for n in chain(range(-200, -1), range(2, 201))]\n",
    "pt_bin_edge = [10*n for n in chain(range(-20, -2), range(2, 21))]+[n for n in chain(range(-20, -1), range(2, 21))]\n",
    "\n",
    "# pt_bin_edge = [10*n for n in chain(range(-20, -1), range(2, 21))]\n",
    "\n",
    "\n",
    "\n",
    "total_bins = 400\n",
    "\n",
    "# min_x = -1.\n",
    "# max_x = 1.\n",
    "pt_min = -200.\n",
    "pt_max = 200.\n",
    "\n",
    "\n",
    "if input_file_name.find(\"Pt_2_more\") != -1:\n",
    "    # pt_bin_edge = [10*n for n in chain(range(-20, -1), range(2, 21))]\n",
    "    # pt_bin_edge = [n for n in chain(range(-20, -1), range(2, 21))]\n",
    "    pt_bin_edge = [n for n in chain(range(-200, -1), range(2, 201))]\n",
    "    # pt_bin_edge = [n for n in range(2, 101)]\n",
    "    # pt_bin_edge = [10*n for n in range(-20, -2)]+[n for n in chain(range(-19, -1), range(2, 11))]\n",
    "    # pt_bin_edge = [10*n for n in chain(range(-20, -2), range(2, 21))]+[n for n in chain(range(-20, -1), range(2, 21))]\n",
    "    # pt_bin_edge = [10*n for n in range(6, 21)]+[2*n for n in range(1, 31)]\n",
    "    # pt_bin_edge = [10*n for n in range(-20, -2)]+[2*n for n in range(-19, -1)]\n",
    "    pt_bin_edge = [10*n for n in range(-20, -5)] + [n for n in chain(range(-50, -1), range(2, 51))] + [10*n for n in range(6, 21)]\n",
    "    pt_min = -200.\n",
    "    pt_max = 200.\n",
    "elif input_file_name.find(\"Pt_2_3\") != -1:\n",
    "    pt_bin_edge = [n for n in chain(range(-3, -1), range(2, 4))]\n",
    "    pt_min = -200.\n",
    "    pt_max = 200.\n",
    "elif input_file_name.find(\"Pt_3_5\") != -1:\n",
    "    pt_bin_edge = [n for n in chain(range(-5, -1), range(2, 6))]\n",
    "    pt_min = -200.\n",
    "    pt_max = 200.\n",
    "elif input_file_name.find(\"Pt_2_5\") != -1:\n",
    "    pt_bin_edge = [n for n in chain(range(-5, -1), range(2, 6))]\n",
    "    pt_min = -200.\n",
    "    pt_max = 200.\n",
    "elif input_file_name.find(\"Pt_2_5\") != -1:\n",
    "    pt_bin_edge = [n for n in chain(range(-5, -1), range(2, 6))]\n",
    "    pt_min = -200.\n",
    "    pt_max = 200.\n",
    "elif input_file_name.find(\"Pt_2_10\") != -1:\n",
    "    pt_bin_edge = [n for n in chain(range(-10, -1), range(2, 11))]\n",
    "    pt_min = -200.\n",
    "    pt_max = 200.\n",
    "elif input_file_name.find(\"Pt_5_10\") != -1:\n",
    "    pt_bin_edge = [n for n in chain(range(-10, -1), range(2, 11))]\n",
    "    pt_min = -200.\n",
    "    pt_max = 200.\n",
    "elif input_file_name.find(\"Pt_10_30\") != -1:\n",
    "    pt_bin_edge = [n for n in chain(range(-30, -9), range(10, 31))]\n",
    "    pt_min = -200.\n",
    "    pt_max = 200.\n",
    "elif input_file_name.find(\"Pt_50_80\") != -1:\n",
    "    pt_bin_edge = [5*n for n in chain(range(-16, -9), range(10, 17))]\n",
    "    pt_min = -200.\n",
    "    pt_max = 200.\n",
    "elif input_file_name.find(\"Pt_100_more\") != -1:\n",
    "    # pt_bin_edge = [-200, -190, -180, -170, -160, -150, -100, 100, 150, 200]\n",
    "    pt_bin_edge = [10*n for n in chain(range(-20, -9), range(10, 21))]\n",
    "    pt_min = -200.\n",
    "    pt_max = 200.\n",
    "elif input_file_name.find(\"Pt_5_more\") != -1:\n",
    "    pt_bin_edge = [5*n for n in chain(range(-40, -1), range(1, 41))]\n",
    "    # pt_bin_edge = [n for n in chain(range(-200, -4), range(5, 201))]\n",
    "    pt_min = -200.\n",
    "    pt_max = 200.\n",
    "elif input_file_name.find(\"Pt_10_more\") != -1:\n",
    "    pt_bin_edge = [10*n for n in chain(range(-20, 0), range(1, 21))]\n",
    "    # pt_bin_edge = [n for n in chain(range(-200, -9), range(10, 201))]\n",
    "    pt_min = -200.\n",
    "    pt_max = 200.\n",
    "\n",
    "o = fit_slices(input_file_name, \"deltaPtOverPtVsPt\", pt_bin_edge, pt_min, pt_max, total_bins, min_x, max_x, 0., 0.5,\n",
    "               \"c*p_{T} [GeV/c]\", \"#Delta p_{T}/p_{T}\", \"p_{T} resolution / p_{T}\")\n",
    "\n",
    "o[2]"
   ]
  },
  {
   "cell_type": "code",
   "execution_count": 1086,
   "metadata": {
    "collapsed": false
   },
   "outputs": [
    {
     "data": {
      "image/png": "[encoded data removed]",
      "text/plain": [
       "<ROOT.TCanvas object (\"c2\") at 0x7ffe1c87f8a0>"
      ]
     },
     "execution_count": 1086,
     "metadata": {},
     "output_type": "execute_result"
    }
   ],
   "source": [
    "o[1]"
   ]
  },
  {
   "cell_type": "code",
   "execution_count": 1087,
   "metadata": {
    "collapsed": false
   },
   "outputs": [
    {
     "data": {
      "image/png": "[encoded data removed]",
      "text/plain": [
       "<ROOT.TCanvas object (\"c1\") at 0x7ffe1cd275c0>"
      ]
     },
     "execution_count": 1087,
     "metadata": {},
     "output_type": "execute_result"
    }
   ],
   "source": [
    "o[0]"
   ]
  },
  {
   "cell_type": "markdown",
   "metadata": {},
   "source": [
    "## 1/Pt Bias and Resolution"
   ]
  },
  {
   "cell_type": "code",
   "execution_count": 1088,
   "metadata": {
    "collapsed": false
   },
   "outputs": [
    {
     "name": "stdout",
     "output_type": "stream",
     "text": [
      "bin_edges = [117, 118, 119, 119, 121, 122, 123]\n"
     ]
    },
    {
     "name": "stderr",
     "output_type": "stream",
     "text": [
      "TCanvas::Constructor:0: RuntimeWarning: Deleting canvas with same name: c1\n",
      "TCanvas::Constructor:0: RuntimeWarning: Deleting canvas with same name: c2\n",
      "TCanvas::Constructor:0: RuntimeWarning: Deleting canvas with same name: Resolutions\n"
     ]
    }
   ],
   "source": [
    "curvature_bin_edge = [n/200. for n in chain(range(-3, 0), range(-1, 3))]\n",
    "\n",
    "oc = fit_slices(input_file_name, \"deltaCurvatureOverCurvatureVsCurvature\", curvature_bin_edge, -0.6, 0.6, 240, min_x, max_x, 0., 0.08,\n",
    "               \"c*p_{T} [GeV/c]\", \"#Delta p_{T}/p_{T}\", \"p_{T} resolution / p_{T}\")\n",
    "\n",
    "# oc[2]"
   ]
  },
  {
   "cell_type": "code",
   "execution_count": 1089,
   "metadata": {
    "collapsed": false
   },
   "outputs": [],
   "source": [
    "# oc[1]"
   ]
  },
  {
   "cell_type": "code",
   "execution_count": 1090,
   "metadata": {
    "collapsed": false
   },
   "outputs": [],
   "source": [
    "# oc[0]"
   ]
  },
  {
   "cell_type": "markdown",
   "metadata": {},
   "source": [
    "## Phi Bias and Resolution"
   ]
  },
  {
   "cell_type": "code",
   "execution_count": 1091,
   "metadata": {
    "collapsed": false,
    "scrolled": false
   },
   "outputs": [
    {
     "name": "stdout",
     "output_type": "stream",
     "text": [
      "bin_edges = [1, 11, 21, 31, 41, 51, 61, 71, 81, 91, 101, 111, 121, 131, 141, 151, 161, 171, 221, 231, 241, 251, 261, 271, 281, 291, 301, 311, 321, 331, 341, 351, 361, 371, 381, 391, 401, 181, 182, 183, 184, 185, 186, 187, 188, 189, 190, 191, 192, 193, 194, 195, 196, 197, 198, 199, 203, 204, 205, 206, 207, 208, 209, 210, 211, 212, 213, 214, 215, 216, 217, 218, 219, 220, 221]\n"
     ]
    },
    {
     "name": "stderr",
     "output_type": "stream",
     "text": [
      "TCanvas::Constructor:0: RuntimeWarning: Deleting canvas with same name: c1\n",
      "TCanvas::Constructor:0: RuntimeWarning: Deleting canvas with same name: c2\n",
      "TCanvas::Constructor:0: RuntimeWarning: Deleting canvas with same name: Resolutions\n"
     ]
    },
    {
     "data": {
      "image/png": "[encoded data removed]",
      "text/plain": [
       "<ROOT.TCanvas object (\"Resolutions\") at 0x7ffe1cc18e30>"
      ]
     },
     "execution_count": 1091,
     "metadata": {},
     "output_type": "execute_result"
    }
   ],
   "source": [
    "min_x_phi = -0.001\n",
    "max_x_phi = 0.001\n",
    "# min_x_phi = -0.01\n",
    "# max_x_phi = 0.01\n",
    "ophi = fit_slices(input_file_name, \"deltaPhiVsPt\", pt_bin_edge, pt_min, pt_max, total_bins,\n",
    "                   min_x_phi, max_x_phi, 0., 0.002,\n",
    "#                   10*min_x_phi, 10*max_x_phi, 0., 0.01,\n",
    "                  \"c*p_{T} [GeV/c]\", \"#Delta#phi\", \"#Delta#phi sigmas\")\n",
    "ophi[2]"
   ]
  },
  {
   "cell_type": "code",
   "execution_count": 1092,
   "metadata": {
    "collapsed": false
   },
   "outputs": [
    {
     "data": {
      "image/png": "[encoded data removed]",
      "text/plain": [
       "<ROOT.TCanvas object (\"c2\") at 0x7ffe1ca53d70>"
      ]
     },
     "execution_count": 1092,
     "metadata": {},
     "output_type": "execute_result"
    }
   ],
   "source": [
    "ophi[1]"
   ]
  },
  {
   "cell_type": "code",
   "execution_count": 1093,
   "metadata": {
    "collapsed": false
   },
   "outputs": [
    {
     "data": {
      "image/png": "[encoded data removed]",
      "text/plain": [
       "<ROOT.TCanvas object (\"c1\") at 0x7ffe1cc56480>"
      ]
     },
     "execution_count": 1093,
     "metadata": {},
     "output_type": "execute_result"
    }
   ],
   "source": [
    "ophi[0]"
   ]
  },
  {
   "cell_type": "markdown",
   "metadata": {
    "collapsed": false
   },
   "source": [
    "## $\\chi^2/ndof$"
   ]
  },
  {
   "cell_type": "code",
   "execution_count": 1094,
   "metadata": {
    "collapsed": false
   },
   "outputs": [
    {
     "name": "stdout",
     "output_type": "stream",
     "text": [
      "<ROOT.TH1F object (\"normChi2_summary\") at 0x7ffe1ca4cb80>\n"
     ]
    },
    {
     "name": "stderr",
     "output_type": "stream",
     "text": [
      "TCanvas::Constructor:0: RuntimeWarning: Deleting canvas with same name: c_chi2Ndof\n"
     ]
    },
    {
     "data": {
      "image/png": "[encoded data removed]",
      "text/plain": [
       "<ROOT.TCanvas object (\"c_chi2Ndof\") at 0x7ffe1cac1790>"
      ]
     },
     "execution_count": 1094,
     "metadata": {},
     "output_type": "execute_result"
    }
   ],
   "source": [
    "c_chi2Ndof = draw_chi2ndof(input_file_name)\n",
    "c_chi2Ndof[0]"
   ]
  },
  {
   "cell_type": "markdown",
   "metadata": {
    "collapsed": true
   },
   "source": [
    "##Z Bias and Resolution"
   ]
  },
  {
   "cell_type": "code",
   "execution_count": 1095,
   "metadata": {
    "collapsed": false
   },
   "outputs": [
    {
     "ename": "AttributeError",
     "evalue": "'TObject' object has no attribute 'SetTitle'",
     "output_type": "error",
     "traceback": [
      "\u001b[0;31m---------------------------------------------------------------------------\u001b[0m",
      "\u001b[0;31mAttributeError\u001b[0m                            Traceback (most recent call last)",
      "\u001b[0;32m<ipython-input-1095-68584aa8728e>\u001b[0m in \u001b[0;36m<module>\u001b[0;34m()\u001b[0m\n\u001b[1;32m      9\u001b[0m                   \u001b[0mmin_x_z0\u001b[0m\u001b[0;34m,\u001b[0m \u001b[0mmax_x_z0\u001b[0m\u001b[0;34m,\u001b[0m \u001b[0;36m0.\u001b[0m\u001b[0;34m,\u001b[0m \u001b[0;36m1.\u001b[0m\u001b[0;34m,\u001b[0m\u001b[0;34m\u001b[0m\u001b[0m\n\u001b[1;32m     10\u001b[0m                   \u001b[0;31m# min_x_z0, max_x_z0, 0., 10.,\u001b[0m\u001b[0;34m\u001b[0m\u001b[0;34m\u001b[0m\u001b[0m\n\u001b[0;32m---> 11\u001b[0;31m                   \"z_{0} [cm]\", \"#Deltaz_{0} [cm]\", \"z_{0} resolution [cm]\")\n\u001b[0m\u001b[1;32m     12\u001b[0m \u001b[0;34m\u001b[0m\u001b[0m\n\u001b[1;32m     13\u001b[0m \u001b[0mo_z0\u001b[0m\u001b[0;34m[\u001b[0m\u001b[0;36m2\u001b[0m\u001b[0;34m]\u001b[0m\u001b[0;34m\u001b[0m\u001b[0m\n",
      "\u001b[0;32m<ipython-input-1082-a7d785b6acf2>\u001b[0m in \u001b[0;36mfit_slices\u001b[0;34m(input_file_name, h_name, bin_values, value_min, value_max, total_bins, mean_y_min, mean_y_max, sigma_y_min, sigma_y_max, x_title, y_title, sigma_y_title)\u001b[0m\n\u001b[1;32m     12\u001b[0m     \u001b[0minput_file\u001b[0m \u001b[0;34m=\u001b[0m \u001b[0mTFile\u001b[0m\u001b[0;34m(\u001b[0m\u001b[0minput_file_name\u001b[0m\u001b[0;34m,\u001b[0m \u001b[0;34m\"READ\"\u001b[0m\u001b[0;34m)\u001b[0m\u001b[0;34m\u001b[0m\u001b[0m\n\u001b[1;32m     13\u001b[0m     \u001b[0mh\u001b[0m \u001b[0;34m=\u001b[0m \u001b[0minput_file\u001b[0m\u001b[0;34m.\u001b[0m\u001b[0mFindObjectAny\u001b[0m\u001b[0;34m(\u001b[0m\u001b[0mh_name\u001b[0m\u001b[0;34m)\u001b[0m\u001b[0;34m\u001b[0m\u001b[0m\n\u001b[0;32m---> 14\u001b[0;31m     \u001b[0mh\u001b[0m\u001b[0;34m.\u001b[0m\u001b[0mSetTitle\u001b[0m\u001b[0;34m(\u001b[0m\u001b[0;34m\"\"\u001b[0m\u001b[0;34m)\u001b[0m\u001b[0;34m\u001b[0m\u001b[0m\n\u001b[0m\u001b[1;32m     15\u001b[0m     \u001b[0mc1\u001b[0m \u001b[0;34m=\u001b[0m \u001b[0mTCanvas\u001b[0m\u001b[0;34m(\u001b[0m\u001b[0;34m\"c1\"\u001b[0m\u001b[0;34m,\u001b[0m \u001b[0;34m\"c1\"\u001b[0m\u001b[0;34m,\u001b[0m \u001b[0;36m600\u001b[0m\u001b[0;34m,\u001b[0m \u001b[0;36m600\u001b[0m\u001b[0;34m)\u001b[0m\u001b[0;34m\u001b[0m\u001b[0m\n\u001b[1;32m     16\u001b[0m     \u001b[0mc1\u001b[0m\u001b[0;34m.\u001b[0m\u001b[0mSetRightMargin\u001b[0m\u001b[0;34m(\u001b[0m\u001b[0;36m0.15\u001b[0m\u001b[0;34m)\u001b[0m\u001b[0;34m\u001b[0m\u001b[0m\n",
      "\u001b[0;31mAttributeError\u001b[0m: 'TObject' object has no attribute 'SetTitle'"
     ]
    }
   ],
   "source": [
    "z0_min = -20.\n",
    "z0_max = 20.\n",
    "total_bins_z0 = 400\n",
    "min_x_z0 = -0.5\n",
    "max_x_z0 = 0.5\n",
    "z0_bin_edge = [n for n in range(int(z0_min), int(z0_max)+1)]\n",
    "\n",
    "o_z0 = fit_slices(input_file_name, \"deltaZ0VsZ0\", z0_bin_edge, z0_min, z0_max, total_bins_z0,\n",
    "                  min_x_z0, max_x_z0, 0., 1.,\n",
    "                  # min_x_z0, max_x_z0, 0., 10.,\n",
    "                  \"z_{0} [cm]\", \"#Deltaz_{0} [cm]\", \"z_{0} resolution [cm]\")\n",
    "\n",
    "o_z0[2]"
   ]
  },
  {
   "cell_type": "code",
   "execution_count": 1096,
   "metadata": {
    "collapsed": false
   },
   "outputs": [
    {
     "data": {
      "text/plain": [
       "None"
      ]
     },
     "execution_count": 1096,
     "metadata": {},
     "output_type": "execute_result"
    }
   ],
   "source": [
    "o_z0[1]"
   ]
  },
  {
   "cell_type": "code",
   "execution_count": 1097,
   "metadata": {
    "collapsed": false
   },
   "outputs": [
    {
     "data": {
      "text/plain": [
       "None"
      ]
     },
     "execution_count": 1097,
     "metadata": {},
     "output_type": "execute_result"
    }
   ],
   "source": [
    "o_z0[0]"
   ]
  },
  {
   "cell_type": "code",
   "execution_count": 1098,
   "metadata": {
    "collapsed": false
   },
   "outputs": [
    {
     "ename": "AttributeError",
     "evalue": "'TObject' object has no attribute 'SetTitle'",
     "output_type": "error",
     "traceback": [
      "\u001b[0;31m---------------------------------------------------------------------------\u001b[0m",
      "\u001b[0;31mAttributeError\u001b[0m                            Traceback (most recent call last)",
      "\u001b[0;32m<ipython-input-1098-44e8ce8cb9cd>\u001b[0m in \u001b[0;36m<module>\u001b[0;34m()\u001b[0m\n\u001b[1;32m     12\u001b[0m                   \u001b[0mmin_x_z0\u001b[0m\u001b[0;34m,\u001b[0m \u001b[0mmax_x_z0\u001b[0m\u001b[0;34m,\u001b[0m \u001b[0;36m0.\u001b[0m\u001b[0;34m,\u001b[0m \u001b[0;36m0.55\u001b[0m\u001b[0;34m,\u001b[0m\u001b[0;34m\u001b[0m\u001b[0m\n\u001b[1;32m     13\u001b[0m                   \u001b[0;31m# 10*min_x_z0, 10*max_x_z0, 0., 10.,\u001b[0m\u001b[0;34m\u001b[0m\u001b[0;34m\u001b[0m\u001b[0m\n\u001b[0;32m---> 14\u001b[0;31m                   \"#eta\", \"#Deltaz_{0} [cm]\", \"z_{0} resolution [cm]\")\n\u001b[0m\u001b[1;32m     15\u001b[0m \u001b[0;34m\u001b[0m\u001b[0m\n\u001b[1;32m     16\u001b[0m \u001b[0mo_z0\u001b[0m\u001b[0;34m[\u001b[0m\u001b[0;36m2\u001b[0m\u001b[0;34m]\u001b[0m\u001b[0;34m\u001b[0m\u001b[0m\n",
      "\u001b[0;32m<ipython-input-1082-a7d785b6acf2>\u001b[0m in \u001b[0;36mfit_slices\u001b[0;34m(input_file_name, h_name, bin_values, value_min, value_max, total_bins, mean_y_min, mean_y_max, sigma_y_min, sigma_y_max, x_title, y_title, sigma_y_title)\u001b[0m\n\u001b[1;32m     12\u001b[0m     \u001b[0minput_file\u001b[0m \u001b[0;34m=\u001b[0m \u001b[0mTFile\u001b[0m\u001b[0;34m(\u001b[0m\u001b[0minput_file_name\u001b[0m\u001b[0;34m,\u001b[0m \u001b[0;34m\"READ\"\u001b[0m\u001b[0;34m)\u001b[0m\u001b[0;34m\u001b[0m\u001b[0m\n\u001b[1;32m     13\u001b[0m     \u001b[0mh\u001b[0m \u001b[0;34m=\u001b[0m \u001b[0minput_file\u001b[0m\u001b[0;34m.\u001b[0m\u001b[0mFindObjectAny\u001b[0m\u001b[0;34m(\u001b[0m\u001b[0mh_name\u001b[0m\u001b[0;34m)\u001b[0m\u001b[0;34m\u001b[0m\u001b[0m\n\u001b[0;32m---> 14\u001b[0;31m     \u001b[0mh\u001b[0m\u001b[0;34m.\u001b[0m\u001b[0mSetTitle\u001b[0m\u001b[0;34m(\u001b[0m\u001b[0;34m\"\"\u001b[0m\u001b[0;34m)\u001b[0m\u001b[0;34m\u001b[0m\u001b[0m\n\u001b[0m\u001b[1;32m     15\u001b[0m     \u001b[0mc1\u001b[0m \u001b[0;34m=\u001b[0m \u001b[0mTCanvas\u001b[0m\u001b[0;34m(\u001b[0m\u001b[0;34m\"c1\"\u001b[0m\u001b[0;34m,\u001b[0m \u001b[0;34m\"c1\"\u001b[0m\u001b[0;34m,\u001b[0m \u001b[0;36m600\u001b[0m\u001b[0;34m,\u001b[0m \u001b[0;36m600\u001b[0m\u001b[0;34m)\u001b[0m\u001b[0;34m\u001b[0m\u001b[0m\n\u001b[1;32m     16\u001b[0m     \u001b[0mc1\u001b[0m\u001b[0;34m.\u001b[0m\u001b[0mSetRightMargin\u001b[0m\u001b[0;34m(\u001b[0m\u001b[0;36m0.15\u001b[0m\u001b[0;34m)\u001b[0m\u001b[0;34m\u001b[0m\u001b[0m\n",
      "\u001b[0;31mAttributeError\u001b[0m: 'TObject' object has no attribute 'SetTitle'"
     ]
    }
   ],
   "source": [
    "eta_min = -2.5\n",
    "# eta_min = 1.5\n",
    "eta_max = 2.5\n",
    "total_bins_eta = 500\n",
    "min_x_z0 = -1.\n",
    "max_x_z0 = 1.\n",
    "# eta_bin_edge = [n/10. for n in range(int(eta_min*10), int(eta_max*10)+1)]\n",
    "eta_bin_edge = [n/10. for n in range(int(eta_min*10), int(eta_max*10)+1)]\n",
    "# eta_bin_edge = [n/100. for n in range(1, int(eta_max*100)+1)]\n",
    "\n",
    "o_z0 = fit_slices(input_file_name, \"deltaZ0VsEta\", eta_bin_edge, eta_min, eta_max, total_bins_eta,\n",
    "                  min_x_z0, max_x_z0, 0., 0.55,\n",
    "                  # 10*min_x_z0, 10*max_x_z0, 0., 10.,\n",
    "                  \"#eta\", \"#Deltaz_{0} [cm]\", \"z_{0} resolution [cm]\")\n",
    "\n",
    "o_z0[2]"
   ]
  },
  {
   "cell_type": "code",
   "execution_count": 1099,
   "metadata": {
    "collapsed": false
   },
   "outputs": [
    {
     "data": {
      "text/plain": [
       "None"
      ]
     },
     "execution_count": 1099,
     "metadata": {},
     "output_type": "execute_result"
    }
   ],
   "source": [
    "o_z0[1]"
   ]
  },
  {
   "cell_type": "code",
   "execution_count": 1100,
   "metadata": {
    "collapsed": false
   },
   "outputs": [
    {
     "data": {
      "text/plain": [
       "None"
      ]
     },
     "execution_count": 1100,
     "metadata": {},
     "output_type": "execute_result"
    }
   ],
   "source": [
    "o_z0[0]"
   ]
  },
  {
   "cell_type": "markdown",
   "metadata": {},
   "source": [
    "##$cot\\theta$ bias and resolution"
   ]
  },
  {
   "cell_type": "code",
   "execution_count": 1101,
   "metadata": {
    "collapsed": false
   },
   "outputs": [
    {
     "ename": "AttributeError",
     "evalue": "'TObject' object has no attribute 'SetTitle'",
     "output_type": "error",
     "traceback": [
      "\u001b[0;31m---------------------------------------------------------------------------\u001b[0m",
      "\u001b[0;31mAttributeError\u001b[0m                            Traceback (most recent call last)",
      "\u001b[0;32m<ipython-input-1101-ab9a01b286a0>\u001b[0m in \u001b[0;36m<module>\u001b[0;34m()\u001b[0m\n\u001b[1;32m      5\u001b[0m                         \u001b[0meta_min\u001b[0m\u001b[0;34m,\u001b[0m \u001b[0meta_max\u001b[0m\u001b[0;34m,\u001b[0m \u001b[0mtotal_bins_eta\u001b[0m\u001b[0;34m,\u001b[0m \u001b[0mmin_x_eta\u001b[0m\u001b[0;34m,\u001b[0m \u001b[0mmax_x_eta\u001b[0m\u001b[0;34m,\u001b[0m \u001b[0;36m0.\u001b[0m\u001b[0;34m,\u001b[0m \u001b[0;36m0.05\u001b[0m\u001b[0;34m,\u001b[0m\u001b[0;34m\u001b[0m\u001b[0m\n\u001b[1;32m      6\u001b[0m                         \u001b[0;31m# eta_min, eta_max, total_bins_eta, min_x_eta, max_x_eta, 0., 0.1,\u001b[0m\u001b[0;34m\u001b[0m\u001b[0;34m\u001b[0m\u001b[0m\n\u001b[0;32m----> 7\u001b[0;31m                         \"#eta\", \"#Deltacot#theta\", \"cot#theta resolution\")\n\u001b[0m\u001b[1;32m      8\u001b[0m \u001b[0;34m\u001b[0m\u001b[0m\n\u001b[1;32m      9\u001b[0m \u001b[0mo_cotTheta\u001b[0m\u001b[0;34m[\u001b[0m\u001b[0;36m2\u001b[0m\u001b[0;34m]\u001b[0m\u001b[0;34m\u001b[0m\u001b[0m\n",
      "\u001b[0;32m<ipython-input-1082-a7d785b6acf2>\u001b[0m in \u001b[0;36mfit_slices\u001b[0;34m(input_file_name, h_name, bin_values, value_min, value_max, total_bins, mean_y_min, mean_y_max, sigma_y_min, sigma_y_max, x_title, y_title, sigma_y_title)\u001b[0m\n\u001b[1;32m     12\u001b[0m     \u001b[0minput_file\u001b[0m \u001b[0;34m=\u001b[0m \u001b[0mTFile\u001b[0m\u001b[0;34m(\u001b[0m\u001b[0minput_file_name\u001b[0m\u001b[0;34m,\u001b[0m \u001b[0;34m\"READ\"\u001b[0m\u001b[0;34m)\u001b[0m\u001b[0;34m\u001b[0m\u001b[0m\n\u001b[1;32m     13\u001b[0m     \u001b[0mh\u001b[0m \u001b[0;34m=\u001b[0m \u001b[0minput_file\u001b[0m\u001b[0;34m.\u001b[0m\u001b[0mFindObjectAny\u001b[0m\u001b[0;34m(\u001b[0m\u001b[0mh_name\u001b[0m\u001b[0;34m)\u001b[0m\u001b[0;34m\u001b[0m\u001b[0m\n\u001b[0;32m---> 14\u001b[0;31m     \u001b[0mh\u001b[0m\u001b[0;34m.\u001b[0m\u001b[0mSetTitle\u001b[0m\u001b[0;34m(\u001b[0m\u001b[0;34m\"\"\u001b[0m\u001b[0;34m)\u001b[0m\u001b[0;34m\u001b[0m\u001b[0m\n\u001b[0m\u001b[1;32m     15\u001b[0m     \u001b[0mc1\u001b[0m \u001b[0;34m=\u001b[0m \u001b[0mTCanvas\u001b[0m\u001b[0;34m(\u001b[0m\u001b[0;34m\"c1\"\u001b[0m\u001b[0;34m,\u001b[0m \u001b[0;34m\"c1\"\u001b[0m\u001b[0;34m,\u001b[0m \u001b[0;36m600\u001b[0m\u001b[0;34m,\u001b[0m \u001b[0;36m600\u001b[0m\u001b[0;34m)\u001b[0m\u001b[0;34m\u001b[0m\u001b[0m\n\u001b[1;32m     16\u001b[0m     \u001b[0mc1\u001b[0m\u001b[0;34m.\u001b[0m\u001b[0mSetRightMargin\u001b[0m\u001b[0;34m(\u001b[0m\u001b[0;36m0.15\u001b[0m\u001b[0;34m)\u001b[0m\u001b[0;34m\u001b[0m\u001b[0m\n",
      "\u001b[0;31mAttributeError\u001b[0m: 'TObject' object has no attribute 'SetTitle'"
     ]
    }
   ],
   "source": [
    "min_x_eta = -0.02\n",
    "max_x_eta = 0.02\n",
    "\n",
    "o_cotTheta = fit_slices(input_file_name, \"deltaCotThetaVsEta\", eta_bin_edge,\n",
    "                        eta_min, eta_max, total_bins_eta, min_x_eta, max_x_eta, 0., 0.05,\n",
    "                        # eta_min, eta_max, total_bins_eta, min_x_eta, max_x_eta, 0., 0.1,\n",
    "                        \"#eta\", \"#Deltacot#theta\", \"cot#theta resolution\")\n",
    "\n",
    "o_cotTheta[2]"
   ]
  },
  {
   "cell_type": "code",
   "execution_count": 1102,
   "metadata": {
    "collapsed": false
   },
   "outputs": [
    {
     "data": {
      "text/plain": [
       "None"
      ]
     },
     "execution_count": 1102,
     "metadata": {},
     "output_type": "execute_result"
    }
   ],
   "source": [
    "o_cotTheta[0]"
   ]
  },
  {
   "cell_type": "code",
   "execution_count": 1103,
   "metadata": {
    "collapsed": false
   },
   "outputs": [
    {
     "ename": "AttributeError",
     "evalue": "'TObject' object has no attribute 'SetTitle'",
     "output_type": "error",
     "traceback": [
      "\u001b[0;31m---------------------------------------------------------------------------\u001b[0m",
      "\u001b[0;31mAttributeError\u001b[0m                            Traceback (most recent call last)",
      "\u001b[0;32m<ipython-input-1103-d128ee8475fd>\u001b[0m in \u001b[0;36m<module>\u001b[0;34m()\u001b[0m\n\u001b[1;32m      5\u001b[0m                         \u001b[0meta_min\u001b[0m\u001b[0;34m,\u001b[0m \u001b[0meta_max\u001b[0m\u001b[0;34m,\u001b[0m \u001b[0;36m400\u001b[0m\u001b[0;34m,\u001b[0m \u001b[0mmin_x_eta\u001b[0m\u001b[0;34m,\u001b[0m \u001b[0mmax_x_eta\u001b[0m\u001b[0;34m,\u001b[0m \u001b[0;36m0.\u001b[0m\u001b[0;34m,\u001b[0m \u001b[0;36m0.005\u001b[0m\u001b[0;34m,\u001b[0m\u001b[0;34m\u001b[0m\u001b[0m\n\u001b[1;32m      6\u001b[0m                         \u001b[0;31m# eta_min, eta_max, 400, min_x_eta, max_x_eta, 0., 0.05,\u001b[0m\u001b[0;34m\u001b[0m\u001b[0;34m\u001b[0m\u001b[0m\n\u001b[0;32m----> 7\u001b[0;31m                         \"#eta\", \"#Delta#eta\", \"#eta resolution\")\n\u001b[0m\u001b[1;32m      8\u001b[0m \u001b[0;34m\u001b[0m\u001b[0m\n\u001b[1;32m      9\u001b[0m \u001b[0mo_cotTheta\u001b[0m\u001b[0;34m[\u001b[0m\u001b[0;36m2\u001b[0m\u001b[0;34m]\u001b[0m\u001b[0;34m\u001b[0m\u001b[0m\n",
      "\u001b[0;32m<ipython-input-1082-a7d785b6acf2>\u001b[0m in \u001b[0;36mfit_slices\u001b[0;34m(input_file_name, h_name, bin_values, value_min, value_max, total_bins, mean_y_min, mean_y_max, sigma_y_min, sigma_y_max, x_title, y_title, sigma_y_title)\u001b[0m\n\u001b[1;32m     12\u001b[0m     \u001b[0minput_file\u001b[0m \u001b[0;34m=\u001b[0m \u001b[0mTFile\u001b[0m\u001b[0;34m(\u001b[0m\u001b[0minput_file_name\u001b[0m\u001b[0;34m,\u001b[0m \u001b[0;34m\"READ\"\u001b[0m\u001b[0;34m)\u001b[0m\u001b[0;34m\u001b[0m\u001b[0m\n\u001b[1;32m     13\u001b[0m     \u001b[0mh\u001b[0m \u001b[0;34m=\u001b[0m \u001b[0minput_file\u001b[0m\u001b[0;34m.\u001b[0m\u001b[0mFindObjectAny\u001b[0m\u001b[0;34m(\u001b[0m\u001b[0mh_name\u001b[0m\u001b[0;34m)\u001b[0m\u001b[0;34m\u001b[0m\u001b[0m\n\u001b[0;32m---> 14\u001b[0;31m     \u001b[0mh\u001b[0m\u001b[0;34m.\u001b[0m\u001b[0mSetTitle\u001b[0m\u001b[0;34m(\u001b[0m\u001b[0;34m\"\"\u001b[0m\u001b[0;34m)\u001b[0m\u001b[0;34m\u001b[0m\u001b[0m\n\u001b[0m\u001b[1;32m     15\u001b[0m     \u001b[0mc1\u001b[0m \u001b[0;34m=\u001b[0m \u001b[0mTCanvas\u001b[0m\u001b[0;34m(\u001b[0m\u001b[0;34m\"c1\"\u001b[0m\u001b[0;34m,\u001b[0m \u001b[0;34m\"c1\"\u001b[0m\u001b[0;34m,\u001b[0m \u001b[0;36m600\u001b[0m\u001b[0;34m,\u001b[0m \u001b[0;36m600\u001b[0m\u001b[0;34m)\u001b[0m\u001b[0;34m\u001b[0m\u001b[0m\n\u001b[1;32m     16\u001b[0m     \u001b[0mc1\u001b[0m\u001b[0;34m.\u001b[0m\u001b[0mSetRightMargin\u001b[0m\u001b[0;34m(\u001b[0m\u001b[0;36m0.15\u001b[0m\u001b[0;34m)\u001b[0m\u001b[0;34m\u001b[0m\u001b[0m\n",
      "\u001b[0;31mAttributeError\u001b[0m: 'TObject' object has no attribute 'SetTitle'"
     ]
    }
   ],
   "source": [
    "min_x_eta = -0.02\n",
    "max_x_eta = 0.02\n",
    "\n",
    "o_cotTheta = fit_slices(input_file_name, \"deltaEtaVsEta\", eta_bin_edge,\n",
    "                        eta_min, eta_max, 400, min_x_eta, max_x_eta, 0., 0.005,\n",
    "                        # eta_min, eta_max, 400, min_x_eta, max_x_eta, 0., 0.05,\n",
    "                        \"#eta\", \"#Delta#eta\", \"#eta resolution\")\n",
    "\n",
    "o_cotTheta[2]"
   ]
  },
  {
   "cell_type": "code",
   "execution_count": 1104,
   "metadata": {
    "collapsed": false
   },
   "outputs": [
    {
     "data": {
      "text/plain": [
       "None"
      ]
     },
     "execution_count": 1104,
     "metadata": {},
     "output_type": "execute_result"
    }
   ],
   "source": [
    "o_cotTheta[0]"
   ]
  },
  {
   "cell_type": "markdown",
   "metadata": {},
   "source": [
    "##$\\cot\\theta$ Bias and Resolution vs $z0$"
   ]
  },
  {
   "cell_type": "code",
   "execution_count": 1105,
   "metadata": {
    "collapsed": false,
    "scrolled": false
   },
   "outputs": [
    {
     "ename": "AttributeError",
     "evalue": "'TObject' object has no attribute 'SetTitle'",
     "output_type": "error",
     "traceback": [
      "\u001b[0;31m---------------------------------------------------------------------------\u001b[0m",
      "\u001b[0;31mAttributeError\u001b[0m                            Traceback (most recent call last)",
      "\u001b[0;32m<ipython-input-1105-6936240d225d>\u001b[0m in \u001b[0;36m<module>\u001b[0;34m()\u001b[0m\n\u001b[1;32m      1\u001b[0m o_cotThetaVsZ0 = fit_slices(input_file_name, \"deltaCotThetaVsZ0\", z0_bin_edge, z0_min, z0_max, total_bins_z0,\n\u001b[1;32m      2\u001b[0m                             \u001b[0mmin_x_eta\u001b[0m\u001b[0;34m,\u001b[0m \u001b[0mmax_x_eta\u001b[0m\u001b[0;34m,\u001b[0m \u001b[0;36m0.\u001b[0m\u001b[0;34m,\u001b[0m \u001b[0;36m0.03\u001b[0m\u001b[0;34m,\u001b[0m\u001b[0;34m\u001b[0m\u001b[0m\n\u001b[0;32m----> 3\u001b[0;31m                             \"z_{0} [cm]\", \"#Deltacot#theta\", \"cot#theta resolution [cm]\")\n\u001b[0m\u001b[1;32m      4\u001b[0m \u001b[0;34m\u001b[0m\u001b[0m\n\u001b[1;32m      5\u001b[0m \u001b[0mo_cotThetaVsZ0\u001b[0m\u001b[0;34m[\u001b[0m\u001b[0;36m2\u001b[0m\u001b[0;34m]\u001b[0m\u001b[0;34m\u001b[0m\u001b[0m\n",
      "\u001b[0;32m<ipython-input-1082-a7d785b6acf2>\u001b[0m in \u001b[0;36mfit_slices\u001b[0;34m(input_file_name, h_name, bin_values, value_min, value_max, total_bins, mean_y_min, mean_y_max, sigma_y_min, sigma_y_max, x_title, y_title, sigma_y_title)\u001b[0m\n\u001b[1;32m     12\u001b[0m     \u001b[0minput_file\u001b[0m \u001b[0;34m=\u001b[0m \u001b[0mTFile\u001b[0m\u001b[0;34m(\u001b[0m\u001b[0minput_file_name\u001b[0m\u001b[0;34m,\u001b[0m \u001b[0;34m\"READ\"\u001b[0m\u001b[0;34m)\u001b[0m\u001b[0;34m\u001b[0m\u001b[0m\n\u001b[1;32m     13\u001b[0m     \u001b[0mh\u001b[0m \u001b[0;34m=\u001b[0m \u001b[0minput_file\u001b[0m\u001b[0;34m.\u001b[0m\u001b[0mFindObjectAny\u001b[0m\u001b[0;34m(\u001b[0m\u001b[0mh_name\u001b[0m\u001b[0;34m)\u001b[0m\u001b[0;34m\u001b[0m\u001b[0m\n\u001b[0;32m---> 14\u001b[0;31m     \u001b[0mh\u001b[0m\u001b[0;34m.\u001b[0m\u001b[0mSetTitle\u001b[0m\u001b[0;34m(\u001b[0m\u001b[0;34m\"\"\u001b[0m\u001b[0;34m)\u001b[0m\u001b[0;34m\u001b[0m\u001b[0m\n\u001b[0m\u001b[1;32m     15\u001b[0m     \u001b[0mc1\u001b[0m \u001b[0;34m=\u001b[0m \u001b[0mTCanvas\u001b[0m\u001b[0;34m(\u001b[0m\u001b[0;34m\"c1\"\u001b[0m\u001b[0;34m,\u001b[0m \u001b[0;34m\"c1\"\u001b[0m\u001b[0;34m,\u001b[0m \u001b[0;36m600\u001b[0m\u001b[0;34m,\u001b[0m \u001b[0;36m600\u001b[0m\u001b[0;34m)\u001b[0m\u001b[0;34m\u001b[0m\u001b[0m\n\u001b[1;32m     16\u001b[0m     \u001b[0mc1\u001b[0m\u001b[0;34m.\u001b[0m\u001b[0mSetRightMargin\u001b[0m\u001b[0;34m(\u001b[0m\u001b[0;36m0.15\u001b[0m\u001b[0;34m)\u001b[0m\u001b[0;34m\u001b[0m\u001b[0m\n",
      "\u001b[0;31mAttributeError\u001b[0m: 'TObject' object has no attribute 'SetTitle'"
     ]
    }
   ],
   "source": [
    "o_cotThetaVsZ0 = fit_slices(input_file_name, \"deltaCotThetaVsZ0\", z0_bin_edge, z0_min, z0_max, total_bins_z0,\n",
    "                            min_x_eta, max_x_eta, 0., 0.03,\n",
    "                            \"z_{0} [cm]\", \"#Deltacot#theta\", \"cot#theta resolution [cm]\")\n",
    "\n",
    "o_cotThetaVsZ0[2]"
   ]
  },
  {
   "cell_type": "code",
   "execution_count": 1106,
   "metadata": {
    "collapsed": false
   },
   "outputs": [
    {
     "data": {
      "text/plain": [
       "None"
      ]
     },
     "execution_count": 1106,
     "metadata": {},
     "output_type": "execute_result"
    }
   ],
   "source": [
    "o_cotThetaVsZ0[1]"
   ]
  },
  {
   "cell_type": "code",
   "execution_count": 1107,
   "metadata": {
    "collapsed": false
   },
   "outputs": [
    {
     "data": {
      "text/plain": [
       "None"
      ]
     },
     "execution_count": 1107,
     "metadata": {},
     "output_type": "execute_result"
    }
   ],
   "source": [
    "o_cotThetaVsZ0[0]"
   ]
  },
  {
   "cell_type": "markdown",
   "metadata": {},
   "source": [
    "##Other biases and resolutions"
   ]
  },
  {
   "cell_type": "markdown",
   "metadata": {},
   "source": [
    "###z bias and resolution vs $p_{T}$ "
   ]
  },
  {
   "cell_type": "code",
   "execution_count": 1108,
   "metadata": {
    "collapsed": false
   },
   "outputs": [
    {
     "ename": "AttributeError",
     "evalue": "'TObject' object has no attribute 'SetTitle'",
     "output_type": "error",
     "traceback": [
      "\u001b[0;31m---------------------------------------------------------------------------\u001b[0m",
      "\u001b[0;31mAttributeError\u001b[0m                            Traceback (most recent call last)",
      "\u001b[0;32m<ipython-input-1108-5e45352ce64f>\u001b[0m in \u001b[0;36m<module>\u001b[0;34m()\u001b[0m\n\u001b[1;32m      2\u001b[0m                   \u001b[0;31m# 10*min_x_z0, 10*max_x_z0, 0., 2.,\u001b[0m\u001b[0;34m\u001b[0m\u001b[0;34m\u001b[0m\u001b[0m\n\u001b[1;32m      3\u001b[0m                   \u001b[0mmin_x_z0\u001b[0m\u001b[0;34m,\u001b[0m \u001b[0mmax_x_z0\u001b[0m\u001b[0;34m,\u001b[0m \u001b[0;36m0.\u001b[0m\u001b[0;34m,\u001b[0m \u001b[0;36m2.\u001b[0m\u001b[0;34m,\u001b[0m\u001b[0;34m\u001b[0m\u001b[0m\n\u001b[0;32m----> 4\u001b[0;31m                   \"c*p_{T} [GeV/c]\", \"#Deltaz_{0} [cm]\", \"z_{0} resolution [cm]\")\n\u001b[0m\u001b[1;32m      5\u001b[0m \u001b[0mophi\u001b[0m\u001b[0;34m[\u001b[0m\u001b[0;36m2\u001b[0m\u001b[0;34m]\u001b[0m\u001b[0;34m\u001b[0m\u001b[0m\n",
      "\u001b[0;32m<ipython-input-1082-a7d785b6acf2>\u001b[0m in \u001b[0;36mfit_slices\u001b[0;34m(input_file_name, h_name, bin_values, value_min, value_max, total_bins, mean_y_min, mean_y_max, sigma_y_min, sigma_y_max, x_title, y_title, sigma_y_title)\u001b[0m\n\u001b[1;32m     12\u001b[0m     \u001b[0minput_file\u001b[0m \u001b[0;34m=\u001b[0m \u001b[0mTFile\u001b[0m\u001b[0;34m(\u001b[0m\u001b[0minput_file_name\u001b[0m\u001b[0;34m,\u001b[0m \u001b[0;34m\"READ\"\u001b[0m\u001b[0;34m)\u001b[0m\u001b[0;34m\u001b[0m\u001b[0m\n\u001b[1;32m     13\u001b[0m     \u001b[0mh\u001b[0m \u001b[0;34m=\u001b[0m \u001b[0minput_file\u001b[0m\u001b[0;34m.\u001b[0m\u001b[0mFindObjectAny\u001b[0m\u001b[0;34m(\u001b[0m\u001b[0mh_name\u001b[0m\u001b[0;34m)\u001b[0m\u001b[0;34m\u001b[0m\u001b[0m\n\u001b[0;32m---> 14\u001b[0;31m     \u001b[0mh\u001b[0m\u001b[0;34m.\u001b[0m\u001b[0mSetTitle\u001b[0m\u001b[0;34m(\u001b[0m\u001b[0;34m\"\"\u001b[0m\u001b[0;34m)\u001b[0m\u001b[0;34m\u001b[0m\u001b[0m\n\u001b[0m\u001b[1;32m     15\u001b[0m     \u001b[0mc1\u001b[0m \u001b[0;34m=\u001b[0m \u001b[0mTCanvas\u001b[0m\u001b[0;34m(\u001b[0m\u001b[0;34m\"c1\"\u001b[0m\u001b[0;34m,\u001b[0m \u001b[0;34m\"c1\"\u001b[0m\u001b[0;34m,\u001b[0m \u001b[0;36m600\u001b[0m\u001b[0;34m,\u001b[0m \u001b[0;36m600\u001b[0m\u001b[0;34m)\u001b[0m\u001b[0;34m\u001b[0m\u001b[0m\n\u001b[1;32m     16\u001b[0m     \u001b[0mc1\u001b[0m\u001b[0;34m.\u001b[0m\u001b[0mSetRightMargin\u001b[0m\u001b[0;34m(\u001b[0m\u001b[0;36m0.15\u001b[0m\u001b[0;34m)\u001b[0m\u001b[0;34m\u001b[0m\u001b[0m\n",
      "\u001b[0;31mAttributeError\u001b[0m: 'TObject' object has no attribute 'SetTitle'"
     ]
    }
   ],
   "source": [
    "ophi = fit_slices(input_file_name, \"deltaZ0VsPt\", pt_bin_edge, pt_min, pt_max, total_bins,\n",
    "                  # 10*min_x_z0, 10*max_x_z0, 0., 2.,\n",
    "                  min_x_z0, max_x_z0, 0., 2.,\n",
    "                  \"c*p_{T} [GeV/c]\", \"#Deltaz_{0} [cm]\", \"z_{0} resolution [cm]\")\n",
    "ophi[2]"
   ]
  },
  {
   "cell_type": "code",
   "execution_count": 1109,
   "metadata": {
    "collapsed": false
   },
   "outputs": [
    {
     "data": {
      "image/png": "[encoded data removed]",
      "text/plain": [
       "<ROOT.TCanvas object (\"c1\") at 0x7ffe1cc56480>"
      ]
     },
     "execution_count": 1109,
     "metadata": {},
     "output_type": "execute_result"
    }
   ],
   "source": [
    "ophi[0]"
   ]
  },
  {
   "cell_type": "markdown",
   "metadata": {},
   "source": [
    "###cot($\\theta$) bias and resolution vs $p_{T}$"
   ]
  },
  {
   "cell_type": "code",
   "execution_count": 1110,
   "metadata": {
    "collapsed": false
   },
   "outputs": [
    {
     "ename": "AttributeError",
     "evalue": "'TObject' object has no attribute 'SetTitle'",
     "output_type": "error",
     "traceback": [
      "\u001b[0;31m---------------------------------------------------------------------------\u001b[0m",
      "\u001b[0;31mAttributeError\u001b[0m                            Traceback (most recent call last)",
      "\u001b[0;32m<ipython-input-1110-5f0e27a3c25d>\u001b[0m in \u001b[0;36m<module>\u001b[0;34m()\u001b[0m\n\u001b[1;32m      1\u001b[0m ophi = fit_slices(input_file_name, \"deltaCotThetaVsPt\", pt_bin_edge, pt_min, pt_max, total_bins,\n\u001b[1;32m      2\u001b[0m                   \u001b[0mmin_x_eta\u001b[0m\u001b[0;34m,\u001b[0m \u001b[0mmax_x_eta\u001b[0m\u001b[0;34m,\u001b[0m \u001b[0;36m0.\u001b[0m\u001b[0;34m,\u001b[0m \u001b[0;36m0.05\u001b[0m\u001b[0;34m,\u001b[0m\u001b[0;34m\u001b[0m\u001b[0m\n\u001b[0;32m----> 3\u001b[0;31m                   \"c*p_{T} [GeV/c]\", \"#Deltacot(#theta) [cm]\", \"cot(#theta) resolution [cm]\")\n\u001b[0m\u001b[1;32m      4\u001b[0m \u001b[0mophi\u001b[0m\u001b[0;34m[\u001b[0m\u001b[0;36m2\u001b[0m\u001b[0;34m]\u001b[0m\u001b[0;34m\u001b[0m\u001b[0m\n",
      "\u001b[0;32m<ipython-input-1082-a7d785b6acf2>\u001b[0m in \u001b[0;36mfit_slices\u001b[0;34m(input_file_name, h_name, bin_values, value_min, value_max, total_bins, mean_y_min, mean_y_max, sigma_y_min, sigma_y_max, x_title, y_title, sigma_y_title)\u001b[0m\n\u001b[1;32m     12\u001b[0m     \u001b[0minput_file\u001b[0m \u001b[0;34m=\u001b[0m \u001b[0mTFile\u001b[0m\u001b[0;34m(\u001b[0m\u001b[0minput_file_name\u001b[0m\u001b[0;34m,\u001b[0m \u001b[0;34m\"READ\"\u001b[0m\u001b[0;34m)\u001b[0m\u001b[0;34m\u001b[0m\u001b[0m\n\u001b[1;32m     13\u001b[0m     \u001b[0mh\u001b[0m \u001b[0;34m=\u001b[0m \u001b[0minput_file\u001b[0m\u001b[0;34m.\u001b[0m\u001b[0mFindObjectAny\u001b[0m\u001b[0;34m(\u001b[0m\u001b[0mh_name\u001b[0m\u001b[0;34m)\u001b[0m\u001b[0;34m\u001b[0m\u001b[0m\n\u001b[0;32m---> 14\u001b[0;31m     \u001b[0mh\u001b[0m\u001b[0;34m.\u001b[0m\u001b[0mSetTitle\u001b[0m\u001b[0;34m(\u001b[0m\u001b[0;34m\"\"\u001b[0m\u001b[0;34m)\u001b[0m\u001b[0;34m\u001b[0m\u001b[0m\n\u001b[0m\u001b[1;32m     15\u001b[0m     \u001b[0mc1\u001b[0m \u001b[0;34m=\u001b[0m \u001b[0mTCanvas\u001b[0m\u001b[0;34m(\u001b[0m\u001b[0;34m\"c1\"\u001b[0m\u001b[0;34m,\u001b[0m \u001b[0;34m\"c1\"\u001b[0m\u001b[0;34m,\u001b[0m \u001b[0;36m600\u001b[0m\u001b[0;34m,\u001b[0m \u001b[0;36m600\u001b[0m\u001b[0;34m)\u001b[0m\u001b[0;34m\u001b[0m\u001b[0m\n\u001b[1;32m     16\u001b[0m     \u001b[0mc1\u001b[0m\u001b[0;34m.\u001b[0m\u001b[0mSetRightMargin\u001b[0m\u001b[0;34m(\u001b[0m\u001b[0;36m0.15\u001b[0m\u001b[0;34m)\u001b[0m\u001b[0;34m\u001b[0m\u001b[0m\n",
      "\u001b[0;31mAttributeError\u001b[0m: 'TObject' object has no attribute 'SetTitle'"
     ]
    }
   ],
   "source": [
    "ophi = fit_slices(input_file_name, \"deltaCotThetaVsPt\", pt_bin_edge, pt_min, pt_max, total_bins,\n",
    "                  min_x_eta, max_x_eta, 0., 0.05,\n",
    "                  \"c*p_{T} [GeV/c]\", \"#Deltacot(#theta) [cm]\", \"cot(#theta) resolution [cm]\")\n",
    "ophi[2]"
   ]
  },
  {
   "cell_type": "code",
   "execution_count": 1111,
   "metadata": {
    "collapsed": false
   },
   "outputs": [
    {
     "data": {
      "image/png": "[encoded data removed]",
      "text/plain": [
       "<ROOT.TCanvas object (\"c1\") at 0x7ffe1cc56480>"
      ]
     },
     "execution_count": 1111,
     "metadata": {},
     "output_type": "execute_result"
    }
   ],
   "source": [
    "ophi[0]"
   ]
  },
  {
   "cell_type": "markdown",
   "metadata": {},
   "source": [
    "### $p_{T}$ relative bias and resolution vs $\\eta$"
   ]
  },
  {
   "cell_type": "code",
   "execution_count": 1112,
   "metadata": {
    "collapsed": false
   },
   "outputs": [
    {
     "name": "stdout",
     "output_type": "stream",
     "text": [
      "bin_edges = [1, 11, 21, 30, 40, 51, 61, 71, 81, 90, 101, 111, 121, 131, 141, 151, 161, 171, 181, 191, 201, 211, 221, 230, 241, 251, 261, 271, 281, 291, 301, 311, 321, 331, 341, 351, 361, 371, 381, 391, 401, 410, 421, 431, 441, 451, 460, 471, 481, 491, 501]\n"
     ]
    },
    {
     "name": "stderr",
     "output_type": "stream",
     "text": [
      "TCanvas::Constructor:0: RuntimeWarning: Deleting canvas with same name: c1\n",
      "TCanvas::Constructor:0: RuntimeWarning: Deleting canvas with same name: c2\n",
      "TCanvas::Constructor:0: RuntimeWarning: Deleting canvas with same name: Resolutions\n"
     ]
    },
    {
     "data": {
      "image/png": "[encoded data removed]",
      "text/plain": [
       "<ROOT.TCanvas object (\"Resolutions\") at 0x7ffe1cbac880>"
      ]
     },
     "execution_count": 1112,
     "metadata": {},
     "output_type": "execute_result"
    }
   ],
   "source": [
    "# Note: the bins should be changed from 100 to 400 at some point.\n",
    "ophi = fit_slices(input_file_name, \"deltaPtOverPtVsEta\", eta_bin_edge, eta_min, eta_max, 500,\n",
    "#                  min_x, max_x, 0., 0.01,\n",
    "                  min_x, max_x, 0., 0.1,\n",
    "                  \"#eta\", \"#Deltap_{T}/p_{T}\", \"p_{T} relative resolution\")\n",
    "ophi[2]"
   ]
  },
  {
   "cell_type": "code",
   "execution_count": 1113,
   "metadata": {
    "collapsed": false
   },
   "outputs": [
    {
     "data": {
      "image/png": "[encoded data removed]",
      "text/plain": [
       "<ROOT.TCanvas object (\"c1\") at 0x7ffe1cb819e0>"
      ]
     },
     "execution_count": 1113,
     "metadata": {},
     "output_type": "execute_result"
    }
   ],
   "source": [
    "ophi[0]"
   ]
  },
  {
   "cell_type": "code",
   "execution_count": 1114,
   "metadata": {
    "collapsed": false
   },
   "outputs": [],
   "source": [
    "# ophi[1]"
   ]
  },
  {
   "cell_type": "markdown",
   "metadata": {},
   "source": [
    "### $\\phi$ bias and resolution vs $\\eta$"
   ]
  },
  {
   "cell_type": "code",
   "execution_count": 1115,
   "metadata": {
    "collapsed": false
   },
   "outputs": [
    {
     "name": "stdout",
     "output_type": "stream",
     "text": [
      "bin_edges = [1, 11, 21, 30, 40, 51, 61, 71, 81, 90, 101, 111, 121, 131, 141, 151, 161, 171, 181, 191, 201, 211, 221, 230, 241, 251, 261, 271, 281, 291, 301, 311, 321, 331, 341, 351, 361, 371, 381, 391, 401, 410, 421, 431, 441, 451, 460, 471, 481, 491, 501]\n"
     ]
    },
    {
     "name": "stderr",
     "output_type": "stream",
     "text": [
      "TCanvas::Constructor:0: RuntimeWarning: Deleting canvas with same name: c1\n",
      "TCanvas::Constructor:0: RuntimeWarning: Deleting canvas with same name: c2\n",
      "TCanvas::Constructor:0: RuntimeWarning: Deleting canvas with same name: Resolutions\n"
     ]
    },
    {
     "data": {
      "image/png": "[encoded data removed]",
      "text/plain": [
       "<ROOT.TCanvas object (\"Resolutions\") at 0x7ffe1c9c7310>"
      ]
     },
     "execution_count": 1115,
     "metadata": {},
     "output_type": "execute_result"
    }
   ],
   "source": [
    "ophi = fit_slices(input_file_name, \"deltaPhiVsEta\", eta_bin_edge, eta_min, eta_max, 500, 0.5*min_x_phi, 0.5*max_x_phi,\n",
    "                  0., 0.002,\n",
    "                  \"#eta\", \"#Delta#phi\", \"#phi resolution\")\n",
    "ophi[2]"
   ]
  },
  {
   "cell_type": "code",
   "execution_count": 1116,
   "metadata": {
    "collapsed": false
   },
   "outputs": [
    {
     "data": {
      "image/png": "[encoded data removed]",
      "text/plain": [
       "<ROOT.TCanvas object (\"c1\") at 0x7ffe1ca69a20>"
      ]
     },
     "execution_count": 1116,
     "metadata": {},
     "output_type": "execute_result"
    }
   ],
   "source": [
    "ophi[0]"
   ]
  },
  {
   "cell_type": "markdown",
   "metadata": {
    "collapsed": true
   },
   "source": [
    "##$d_{0}$ bias and resolution"
   ]
  },
  {
   "cell_type": "code",
   "execution_count": 1117,
   "metadata": {
    "collapsed": false
   },
   "outputs": [
    {
     "ename": "AttributeError",
     "evalue": "'TObject' object has no attribute 'SetTitle'",
     "output_type": "error",
     "traceback": [
      "\u001b[0;31m---------------------------------------------------------------------------\u001b[0m",
      "\u001b[0;31mAttributeError\u001b[0m                            Traceback (most recent call last)",
      "\u001b[0;32m<ipython-input-1117-8c1dab3232d7>\u001b[0m in \u001b[0;36m<module>\u001b[0;34m()\u001b[0m\n\u001b[1;32m      2\u001b[0m                  \u001b[0mmin_x\u001b[0m\u001b[0;34m,\u001b[0m \u001b[0mmax_x\u001b[0m\u001b[0;34m,\u001b[0m \u001b[0;36m0.\u001b[0m\u001b[0;34m,\u001b[0m \u001b[0;36m0.1\u001b[0m\u001b[0;34m,\u001b[0m\u001b[0;34m\u001b[0m\u001b[0m\n\u001b[1;32m      3\u001b[0m \u001b[0;31m#                 2*min_x, 2*max_x, 0., 0.3,\u001b[0m\u001b[0;34m\u001b[0m\u001b[0;34m\u001b[0m\u001b[0m\n\u001b[0;32m----> 4\u001b[0;31m                  \"p_{T} [GeV/c]\", \"#Deltad_{0} [cm]\", \"d_{0} resolution [cm]\")\n\u001b[0m\u001b[1;32m      5\u001b[0m \u001b[0mod0\u001b[0m\u001b[0;34m[\u001b[0m\u001b[0;36m2\u001b[0m\u001b[0;34m]\u001b[0m\u001b[0;34m\u001b[0m\u001b[0m\n",
      "\u001b[0;32m<ipython-input-1082-a7d785b6acf2>\u001b[0m in \u001b[0;36mfit_slices\u001b[0;34m(input_file_name, h_name, bin_values, value_min, value_max, total_bins, mean_y_min, mean_y_max, sigma_y_min, sigma_y_max, x_title, y_title, sigma_y_title)\u001b[0m\n\u001b[1;32m     12\u001b[0m     \u001b[0minput_file\u001b[0m \u001b[0;34m=\u001b[0m \u001b[0mTFile\u001b[0m\u001b[0;34m(\u001b[0m\u001b[0minput_file_name\u001b[0m\u001b[0;34m,\u001b[0m \u001b[0;34m\"READ\"\u001b[0m\u001b[0;34m)\u001b[0m\u001b[0;34m\u001b[0m\u001b[0m\n\u001b[1;32m     13\u001b[0m     \u001b[0mh\u001b[0m \u001b[0;34m=\u001b[0m \u001b[0minput_file\u001b[0m\u001b[0;34m.\u001b[0m\u001b[0mFindObjectAny\u001b[0m\u001b[0;34m(\u001b[0m\u001b[0mh_name\u001b[0m\u001b[0;34m)\u001b[0m\u001b[0;34m\u001b[0m\u001b[0m\n\u001b[0;32m---> 14\u001b[0;31m     \u001b[0mh\u001b[0m\u001b[0;34m.\u001b[0m\u001b[0mSetTitle\u001b[0m\u001b[0;34m(\u001b[0m\u001b[0;34m\"\"\u001b[0m\u001b[0;34m)\u001b[0m\u001b[0;34m\u001b[0m\u001b[0m\n\u001b[0m\u001b[1;32m     15\u001b[0m     \u001b[0mc1\u001b[0m \u001b[0;34m=\u001b[0m \u001b[0mTCanvas\u001b[0m\u001b[0;34m(\u001b[0m\u001b[0;34m\"c1\"\u001b[0m\u001b[0;34m,\u001b[0m \u001b[0;34m\"c1\"\u001b[0m\u001b[0;34m,\u001b[0m \u001b[0;36m600\u001b[0m\u001b[0;34m,\u001b[0m \u001b[0;36m600\u001b[0m\u001b[0;34m)\u001b[0m\u001b[0;34m\u001b[0m\u001b[0m\n\u001b[1;32m     16\u001b[0m     \u001b[0mc1\u001b[0m\u001b[0;34m.\u001b[0m\u001b[0mSetRightMargin\u001b[0m\u001b[0;34m(\u001b[0m\u001b[0;36m0.15\u001b[0m\u001b[0;34m)\u001b[0m\u001b[0;34m\u001b[0m\u001b[0m\n",
      "\u001b[0;31mAttributeError\u001b[0m: 'TObject' object has no attribute 'SetTitle'"
     ]
    }
   ],
   "source": [
    "od0 = fit_slices(input_file_name, \"deltaD0VsPt\", pt_bin_edge, pt_min, pt_max, 400,\n",
    "                 min_x, max_x, 0., 0.1,\n",
    "#                 2*min_x, 2*max_x, 0., 0.3,\n",
    "                 \"p_{T} [GeV/c]\", \"#Deltad_{0} [cm]\", \"d_{0} resolution [cm]\")\n",
    "od0[2]"
   ]
  },
  {
   "cell_type": "code",
   "execution_count": 1118,
   "metadata": {
    "collapsed": false
   },
   "outputs": [
    {
     "data": {
      "text/plain": [
       "None"
      ]
     },
     "execution_count": 1118,
     "metadata": {},
     "output_type": "execute_result"
    }
   ],
   "source": [
    "od0[1]"
   ]
  },
  {
   "cell_type": "code",
   "execution_count": 1119,
   "metadata": {
    "collapsed": false
   },
   "outputs": [
    {
     "data": {
      "text/plain": [
       "None"
      ]
     },
     "execution_count": 1119,
     "metadata": {},
     "output_type": "execute_result"
    }
   ],
   "source": [
    "od0[0]"
   ]
  },
  {
   "cell_type": "markdown",
   "metadata": {},
   "source": [
    "###$p_{T}$ vs $d_{0}$"
   ]
  },
  {
   "cell_type": "code",
   "execution_count": 1120,
   "metadata": {
    "collapsed": false
   },
   "outputs": [
    {
     "name": "stdout",
     "output_type": "stream",
     "text": [
      "bin_edges = [1, 10, 20, 31, 41, 51, 61, 71, 81, 91, 101, 111, 121, 131, 141, 151, 161, 171, 181, 191, 201]\n"
     ]
    },
    {
     "name": "stderr",
     "output_type": "stream",
     "text": [
      "TCanvas::Constructor:0: RuntimeWarning: Deleting canvas with same name: c1\n",
      "TCanvas::Constructor:0: RuntimeWarning: Deleting canvas with same name: c2\n",
      "TCanvas::Constructor:0: RuntimeWarning: Deleting canvas with same name: Resolutions\n"
     ]
    },
    {
     "data": {
      "image/png": "[encoded data removed]",
      "text/plain": [
       "<ROOT.TCanvas object (\"Resolutions\") at 0x7ffe1cb9d540>"
      ]
     },
     "execution_count": 1120,
     "metadata": {},
     "output_type": "execute_result"
    }
   ],
   "source": [
    "total_bins_d0 = 200\n",
    "d0_min = -1.\n",
    "d0_max = 1.\n",
    "min_x_d0 = -0.1\n",
    "max_x_d0 = 0.1\n",
    "d0_bin_edge = [n/10. for n in range(int(d0_min*10), int(d0_max*10)+1)]\n",
    "\n",
    "\n",
    "od0 = fit_slices(input_file_name, \"deltaPtOverPtVsD0\", d0_bin_edge, d0_min, d0_max, total_bins_d0,\n",
    "                  min_x, max_x, 0., 0.02,\n",
    "#                  min_x, max_x, 0., 0.1,\n",
    "                  \"d_{0} [cm]\", \"#Delta p_{T}/p_{T}\", \"p_{T} relative resolution [cm]\")\n",
    "od0[2]"
   ]
  },
  {
   "cell_type": "code",
   "execution_count": 1121,
   "metadata": {
    "collapsed": false
   },
   "outputs": [
    {
     "data": {
      "image/png": "[encoded data removed]",
      "text/plain": [
       "<ROOT.TCanvas object (\"c2\") at 0x7ffe1c8b85f0>"
      ]
     },
     "execution_count": 1121,
     "metadata": {},
     "output_type": "execute_result"
    }
   ],
   "source": [
    "od0[1]"
   ]
  },
  {
   "cell_type": "code",
   "execution_count": 1122,
   "metadata": {
    "collapsed": false
   },
   "outputs": [
    {
     "data": {
      "image/png": "[encoded data removed]",
      "text/plain": [
       "<ROOT.TCanvas object (\"c1\") at 0x7ffe1cacb5c0>"
      ]
     },
     "execution_count": 1122,
     "metadata": {},
     "output_type": "execute_result"
    }
   ],
   "source": [
    "od0[0]"
   ]
  },
  {
   "cell_type": "markdown",
   "metadata": {},
   "source": [
    "###$d_{0}$ vs $d_{0}$"
   ]
  },
  {
   "cell_type": "code",
   "execution_count": 1123,
   "metadata": {
    "collapsed": false
   },
   "outputs": [
    {
     "ename": "AttributeError",
     "evalue": "'TObject' object has no attribute 'SetTitle'",
     "output_type": "error",
     "traceback": [
      "\u001b[0;31m---------------------------------------------------------------------------\u001b[0m",
      "\u001b[0;31mAttributeError\u001b[0m                            Traceback (most recent call last)",
      "\u001b[0;32m<ipython-input-1123-5fa72b99c0b1>\u001b[0m in \u001b[0;36m<module>\u001b[0;34m()\u001b[0m\n\u001b[1;32m      2\u001b[0m                  \u001b[0;36m10\u001b[0m\u001b[0;34m*\u001b[0m\u001b[0mmin_x\u001b[0m\u001b[0;34m,\u001b[0m \u001b[0;36m10\u001b[0m\u001b[0;34m*\u001b[0m\u001b[0mmax_x\u001b[0m\u001b[0;34m,\u001b[0m \u001b[0;36m0.\u001b[0m\u001b[0;34m,\u001b[0m \u001b[0;36m0.1\u001b[0m\u001b[0;34m,\u001b[0m\u001b[0;34m\u001b[0m\u001b[0m\n\u001b[1;32m      3\u001b[0m \u001b[0;31m#                 10*min_x, 10*max_x, 0., 0.5,\u001b[0m\u001b[0;34m\u001b[0m\u001b[0;34m\u001b[0m\u001b[0m\n\u001b[0;32m----> 4\u001b[0;31m                  \"d_{0} [cm]\", \"#Delta d_{0} [cm]\", \"d_{0} resolution [cm]\")\n\u001b[0m\u001b[1;32m      5\u001b[0m \u001b[0mod0\u001b[0m\u001b[0;34m[\u001b[0m\u001b[0;36m2\u001b[0m\u001b[0;34m]\u001b[0m\u001b[0;34m\u001b[0m\u001b[0m\n",
      "\u001b[0;32m<ipython-input-1082-a7d785b6acf2>\u001b[0m in \u001b[0;36mfit_slices\u001b[0;34m(input_file_name, h_name, bin_values, value_min, value_max, total_bins, mean_y_min, mean_y_max, sigma_y_min, sigma_y_max, x_title, y_title, sigma_y_title)\u001b[0m\n\u001b[1;32m     12\u001b[0m     \u001b[0minput_file\u001b[0m \u001b[0;34m=\u001b[0m \u001b[0mTFile\u001b[0m\u001b[0;34m(\u001b[0m\u001b[0minput_file_name\u001b[0m\u001b[0;34m,\u001b[0m \u001b[0;34m\"READ\"\u001b[0m\u001b[0;34m)\u001b[0m\u001b[0;34m\u001b[0m\u001b[0m\n\u001b[1;32m     13\u001b[0m     \u001b[0mh\u001b[0m \u001b[0;34m=\u001b[0m \u001b[0minput_file\u001b[0m\u001b[0;34m.\u001b[0m\u001b[0mFindObjectAny\u001b[0m\u001b[0;34m(\u001b[0m\u001b[0mh_name\u001b[0m\u001b[0;34m)\u001b[0m\u001b[0;34m\u001b[0m\u001b[0m\n\u001b[0;32m---> 14\u001b[0;31m     \u001b[0mh\u001b[0m\u001b[0;34m.\u001b[0m\u001b[0mSetTitle\u001b[0m\u001b[0;34m(\u001b[0m\u001b[0;34m\"\"\u001b[0m\u001b[0;34m)\u001b[0m\u001b[0;34m\u001b[0m\u001b[0m\n\u001b[0m\u001b[1;32m     15\u001b[0m     \u001b[0mc1\u001b[0m \u001b[0;34m=\u001b[0m \u001b[0mTCanvas\u001b[0m\u001b[0;34m(\u001b[0m\u001b[0;34m\"c1\"\u001b[0m\u001b[0;34m,\u001b[0m \u001b[0;34m\"c1\"\u001b[0m\u001b[0;34m,\u001b[0m \u001b[0;36m600\u001b[0m\u001b[0;34m,\u001b[0m \u001b[0;36m600\u001b[0m\u001b[0;34m)\u001b[0m\u001b[0;34m\u001b[0m\u001b[0m\n\u001b[1;32m     16\u001b[0m     \u001b[0mc1\u001b[0m\u001b[0;34m.\u001b[0m\u001b[0mSetRightMargin\u001b[0m\u001b[0;34m(\u001b[0m\u001b[0;36m0.15\u001b[0m\u001b[0;34m)\u001b[0m\u001b[0;34m\u001b[0m\u001b[0m\n",
      "\u001b[0;31mAttributeError\u001b[0m: 'TObject' object has no attribute 'SetTitle'"
     ]
    }
   ],
   "source": [
    "od0 = fit_slices(input_file_name, \"deltaD0VsD0\", d0_bin_edge, d0_min, d0_max, 200,\n",
    "                 10*min_x, 10*max_x, 0., 0.1,\n",
    "#                 10*min_x, 10*max_x, 0., 0.5,\n",
    "                 \"d_{0} [cm]\", \"#Delta d_{0} [cm]\", \"d_{0} resolution [cm]\")\n",
    "od0[2]"
   ]
  },
  {
   "cell_type": "code",
   "execution_count": 1124,
   "metadata": {
    "collapsed": false
   },
   "outputs": [
    {
     "data": {
      "image/png": "[encoded data removed]",
      "text/plain": [
       "<ROOT.TCanvas object (\"c2\") at 0x7ffe1c8b85f0>"
      ]
     },
     "execution_count": 1124,
     "metadata": {},
     "output_type": "execute_result"
    }
   ],
   "source": [
    "od0[1]"
   ]
  },
  {
   "cell_type": "code",
   "execution_count": 1125,
   "metadata": {
    "collapsed": false
   },
   "outputs": [
    {
     "data": {
      "image/png": "[encoded data removed]",
      "text/plain": [
       "<ROOT.TCanvas object (\"c1\") at 0x7ffe1cacb5c0>"
      ]
     },
     "execution_count": 1125,
     "metadata": {},
     "output_type": "execute_result"
    }
   ],
   "source": [
    "od0[0]"
   ]
  },
  {
   "cell_type": "markdown",
   "metadata": {},
   "source": [
    "##$\\phi$ Bias and Resolution vs $d_{0}$"
   ]
  },
  {
   "cell_type": "code",
   "execution_count": 425,
   "metadata": {
    "collapsed": false
   },
   "outputs": [
    {
     "name": "stderr",
     "output_type": "stream",
     "text": [
      "TCanvas::Constructor:0: RuntimeWarning: Deleting canvas with same name: c1\n"
     ]
    },
    {
     "ename": "ReferenceError",
     "evalue": "attempt to access a null-pointer",
     "output_type": "error",
     "traceback": [
      "\u001b[0;31m---------------------------------------------------------------------------\u001b[0m",
      "\u001b[0;31mReferenceError\u001b[0m                            Traceback (most recent call last)",
      "\u001b[0;32m<ipython-input-425-3767798149cc>\u001b[0m in \u001b[0;36m<module>\u001b[0;34m()\u001b[0m\n\u001b[1;32m      2\u001b[0m \u001b[0;31m#                   min_x_phi, max_x_phi, 0., 0.002,\u001b[0m\u001b[0;34m\u001b[0m\u001b[0;34m\u001b[0m\u001b[0m\n\u001b[1;32m      3\u001b[0m                    \u001b[0;36m10\u001b[0m\u001b[0;34m*\u001b[0m\u001b[0mmin_x_phi\u001b[0m\u001b[0;34m,\u001b[0m \u001b[0;36m10\u001b[0m\u001b[0;34m*\u001b[0m\u001b[0mmax_x_phi\u001b[0m\u001b[0;34m,\u001b[0m \u001b[0;36m0.\u001b[0m\u001b[0;34m,\u001b[0m \u001b[0;36m0.01\u001b[0m\u001b[0;34m,\u001b[0m\u001b[0;34m\u001b[0m\u001b[0m\n\u001b[0;32m----> 4\u001b[0;31m                   \"d_{0} [cm]\", \"#Delta#phi\", \"#Delta#phi sigmas\")\n\u001b[0m\u001b[1;32m      5\u001b[0m \u001b[0mophi\u001b[0m\u001b[0;34m[\u001b[0m\u001b[0;36m2\u001b[0m\u001b[0;34m]\u001b[0m\u001b[0;34m\u001b[0m\u001b[0m\n",
      "\u001b[0;32m<ipython-input-383-ce34d0ed338f>\u001b[0m in \u001b[0;36mfit_slices\u001b[0;34m(input_file_name, h_name, bin_values, value_min, value_max, total_bins, mean_y_min, mean_y_max, sigma_y_min, sigma_y_max, x_title, y_title, sigma_y_title)\u001b[0m\n\u001b[1;32m     15\u001b[0m     \u001b[0mc1\u001b[0m\u001b[0;34m.\u001b[0m\u001b[0mSetRightMargin\u001b[0m\u001b[0;34m(\u001b[0m\u001b[0;36m0.15\u001b[0m\u001b[0;34m)\u001b[0m\u001b[0;34m\u001b[0m\u001b[0m\n\u001b[1;32m     16\u001b[0m     \u001b[0mc1\u001b[0m\u001b[0;34m.\u001b[0m\u001b[0mSetBottomMargin\u001b[0m\u001b[0;34m(\u001b[0m\u001b[0;36m0.15\u001b[0m\u001b[0;34m)\u001b[0m\u001b[0;34m\u001b[0m\u001b[0m\n\u001b[0;32m---> 17\u001b[0;31m     \u001b[0mh\u001b[0m\u001b[0;34m.\u001b[0m\u001b[0mDraw\u001b[0m\u001b[0;34m(\u001b[0m\u001b[0;34m)\u001b[0m\u001b[0;34m\u001b[0m\u001b[0m\n\u001b[0m\u001b[1;32m     18\u001b[0m     \u001b[0mc1\u001b[0m\u001b[0;34m.\u001b[0m\u001b[0mUpdate\u001b[0m\u001b[0;34m(\u001b[0m\u001b[0;34m)\u001b[0m\u001b[0;34m\u001b[0m\u001b[0m\n\u001b[1;32m     19\u001b[0m     \u001b[0mh\u001b[0m\u001b[0;34m.\u001b[0m\u001b[0mDraw\u001b[0m\u001b[0;34m(\u001b[0m\u001b[0;34m\"COLZ\"\u001b[0m\u001b[0;34m)\u001b[0m\u001b[0;34m\u001b[0m\u001b[0m\n",
      "\u001b[0;31mReferenceError\u001b[0m: attempt to access a null-pointer"
     ]
    }
   ],
   "source": [
    "ophi = fit_slices(input_file_name, \"deltaPhiVsD0\", d0_bin_edge, d0_min, d0_max, 200,\n",
    "#                   min_x_phi, max_x_phi, 0., 0.002,\n",
    "                   10*min_x_phi, 10*max_x_phi, 0., 0.01,\n",
    "                  \"d_{0} [cm]\", \"#Delta#phi\", \"#Delta#phi sigmas\")\n",
    "ophi[2]"
   ]
  },
  {
   "cell_type": "code",
   "execution_count": 426,
   "metadata": {
    "collapsed": false
   },
   "outputs": [
    {
     "data": {
      "text/plain": [
       "None"
      ]
     },
     "execution_count": 426,
     "metadata": {},
     "output_type": "execute_result"
    }
   ],
   "source": [
    "ophi[1]"
   ]
  },
  {
   "cell_type": "code",
   "execution_count": 427,
   "metadata": {
    "collapsed": false
   },
   "outputs": [
    {
     "data": {
      "text/plain": [
       "None"
      ]
     },
     "execution_count": 427,
     "metadata": {},
     "output_type": "execute_result"
    }
   ],
   "source": [
    "ophi[0]"
   ]
  },
  {
   "cell_type": "markdown",
   "metadata": {},
   "source": [
    "##$d_{0}$ Bias and Resolution vs $\\phi$"
   ]
  },
  {
   "cell_type": "code",
   "execution_count": 428,
   "metadata": {
    "collapsed": false
   },
   "outputs": [
    {
     "name": "stderr",
     "output_type": "stream",
     "text": [
      "TCanvas::Constructor:0: RuntimeWarning: Deleting canvas with same name: c1\n"
     ]
    },
    {
     "ename": "ReferenceError",
     "evalue": "attempt to access a null-pointer",
     "output_type": "error",
     "traceback": [
      "\u001b[0;31m---------------------------------------------------------------------------\u001b[0m",
      "\u001b[0;31mReferenceError\u001b[0m                            Traceback (most recent call last)",
      "\u001b[0;32m<ipython-input-428-6605d6612492>\u001b[0m in \u001b[0;36m<module>\u001b[0;34m()\u001b[0m\n\u001b[1;32m     10\u001b[0m \u001b[0;31m#                  200*min_x_phi, 200*max_x_phi, 0., 0.5,\u001b[0m\u001b[0;34m\u001b[0m\u001b[0;34m\u001b[0m\u001b[0m\n\u001b[1;32m     11\u001b[0m                   \u001b[0;36m5\u001b[0m\u001b[0;34m*\u001b[0m\u001b[0mmin_x_phi\u001b[0m\u001b[0;34m,\u001b[0m \u001b[0;36m5\u001b[0m\u001b[0;34m*\u001b[0m\u001b[0mmax_x_phi\u001b[0m\u001b[0;34m,\u001b[0m \u001b[0;36m0.\u001b[0m\u001b[0;34m,\u001b[0m \u001b[0;36m0.05\u001b[0m\u001b[0;34m,\u001b[0m\u001b[0;34m\u001b[0m\u001b[0m\n\u001b[0;32m---> 12\u001b[0;31m                  \"#phi [rad]\", \"#Delta d_{0} [cm]\", \"d_{0} resolution [cm]\")\n\u001b[0m\u001b[1;32m     13\u001b[0m \u001b[0mod0\u001b[0m\u001b[0;34m[\u001b[0m\u001b[0;36m2\u001b[0m\u001b[0;34m]\u001b[0m\u001b[0;34m\u001b[0m\u001b[0m\n",
      "\u001b[0;32m<ipython-input-383-ce34d0ed338f>\u001b[0m in \u001b[0;36mfit_slices\u001b[0;34m(input_file_name, h_name, bin_values, value_min, value_max, total_bins, mean_y_min, mean_y_max, sigma_y_min, sigma_y_max, x_title, y_title, sigma_y_title)\u001b[0m\n\u001b[1;32m     15\u001b[0m     \u001b[0mc1\u001b[0m\u001b[0;34m.\u001b[0m\u001b[0mSetRightMargin\u001b[0m\u001b[0;34m(\u001b[0m\u001b[0;36m0.15\u001b[0m\u001b[0;34m)\u001b[0m\u001b[0;34m\u001b[0m\u001b[0m\n\u001b[1;32m     16\u001b[0m     \u001b[0mc1\u001b[0m\u001b[0;34m.\u001b[0m\u001b[0mSetBottomMargin\u001b[0m\u001b[0;34m(\u001b[0m\u001b[0;36m0.15\u001b[0m\u001b[0;34m)\u001b[0m\u001b[0;34m\u001b[0m\u001b[0m\n\u001b[0;32m---> 17\u001b[0;31m     \u001b[0mh\u001b[0m\u001b[0;34m.\u001b[0m\u001b[0mDraw\u001b[0m\u001b[0;34m(\u001b[0m\u001b[0;34m)\u001b[0m\u001b[0;34m\u001b[0m\u001b[0m\n\u001b[0m\u001b[1;32m     18\u001b[0m     \u001b[0mc1\u001b[0m\u001b[0;34m.\u001b[0m\u001b[0mUpdate\u001b[0m\u001b[0;34m(\u001b[0m\u001b[0;34m)\u001b[0m\u001b[0;34m\u001b[0m\u001b[0m\n\u001b[1;32m     19\u001b[0m     \u001b[0mh\u001b[0m\u001b[0;34m.\u001b[0m\u001b[0mDraw\u001b[0m\u001b[0;34m(\u001b[0m\u001b[0;34m\"COLZ\"\u001b[0m\u001b[0;34m)\u001b[0m\u001b[0;34m\u001b[0m\u001b[0m\n",
      "\u001b[0;31mReferenceError\u001b[0m: attempt to access a null-pointer"
     ]
    }
   ],
   "source": [
    "total_bins_phi = 400\n",
    "# phi_min = 0.\n",
    "# phi_max = 0.8\n",
    "phi_min = -3.14\n",
    "phi_max = 3.14\n",
    "# phi_bin_edge = [n/100. for n in range(int(phi_min*100), int(phi_max*100)+1)]\n",
    "phi_bin_edge = [n/10. for n in range(int(phi_min*10), int(phi_max*10)+1)]\n",
    "od0 = fit_slices(input_file_name, \"deltaD0VsPhi\", phi_bin_edge, phi_min, phi_max, total_bins_phi,\n",
    "#                 min_x_phi, max_x_phi, 0., 0.05,\n",
    "#                  200*min_x_phi, 200*max_x_phi, 0., 0.5,\n",
    "                  5*min_x_phi, 5*max_x_phi, 0., 0.05,\n",
    "                 \"#phi [rad]\", \"#Delta d_{0} [cm]\", \"d_{0} resolution [cm]\")\n",
    "od0[2]"
   ]
  },
  {
   "cell_type": "code",
   "execution_count": 429,
   "metadata": {
    "collapsed": false
   },
   "outputs": [
    {
     "data": {
      "text/plain": [
       "None"
      ]
     },
     "execution_count": 429,
     "metadata": {},
     "output_type": "execute_result"
    }
   ],
   "source": [
    "od0[0]"
   ]
  },
  {
   "cell_type": "markdown",
   "metadata": {},
   "source": [
    "$\\phi = \\phi_0 - \\mbox{arcsin}\\left(\\frac{R}{2\\rho}\\right)$\n",
    "\n",
    "$\\phi \\simeq \\phi_0 - \\left(\\frac{R}{2\\rho}\\right) - \\frac16\\left(\\frac{R}{2\\rho}\\right)^3$\n",
    "\n",
    "$\\phi' = \\phi + \\frac{R - R'}{2\\rho} + \\frac16\\left(\\frac{R}{2\\rho}\\right)^3$\n",
    "\n",
    "$z \\simeq z_{0} + R\\cdot\\cot\\theta + \\frac{1}{24}\\frac{R^3}{\\rho^2}\\cot\\theta$\n",
    "\n",
    "$z' = z - \\left(R-R' + \\frac{1}{24}\\frac{R^3}{\\rho^2}\\right)\\cot\\theta$"
   ]
  },
  {
   "cell_type": "code",
   "execution_count": null,
   "metadata": {
    "collapsed": true
   },
   "outputs": [],
   "source": []
  },
  {
   "cell_type": "markdown",
   "metadata": {},
   "source": [
    "##1/Pz Bias and Resolution"
   ]
  },
  {
   "cell_type": "code",
   "execution_count": 430,
   "metadata": {
    "collapsed": false
   },
   "outputs": [
    {
     "name": "stderr",
     "output_type": "stream",
     "text": [
      "TCanvas::Constructor:0: RuntimeWarning: Deleting canvas with same name: c1\n"
     ]
    },
    {
     "ename": "ReferenceError",
     "evalue": "attempt to access a null-pointer",
     "output_type": "error",
     "traceback": [
      "\u001b[0;31m---------------------------------------------------------------------------\u001b[0m",
      "\u001b[0;31mReferenceError\u001b[0m                            Traceback (most recent call last)",
      "\u001b[0;32m<ipython-input-430-f47ea3e84fd2>\u001b[0m in \u001b[0;36m<module>\u001b[0;34m()\u001b[0m\n\u001b[1;32m      1\u001b[0m o = fit_slices(input_file_name, \"deltaPzOverPzVsPz\", pt_bin_edge, pt_min, pt_max, total_bins, min_x, max_x, 0., 0.2,\n\u001b[0;32m----> 2\u001b[0;31m                \"c*p_{z} [GeV/c]\", \"#Delta p_{z}/p_{z}\", \"p_{z} resolution / p_{z}\")\n\u001b[0m\u001b[1;32m      3\u001b[0m \u001b[0;34m\u001b[0m\u001b[0m\n\u001b[1;32m      4\u001b[0m \u001b[0mo\u001b[0m\u001b[0;34m[\u001b[0m\u001b[0;36m2\u001b[0m\u001b[0;34m]\u001b[0m\u001b[0;34m\u001b[0m\u001b[0m\n",
      "\u001b[0;32m<ipython-input-383-ce34d0ed338f>\u001b[0m in \u001b[0;36mfit_slices\u001b[0;34m(input_file_name, h_name, bin_values, value_min, value_max, total_bins, mean_y_min, mean_y_max, sigma_y_min, sigma_y_max, x_title, y_title, sigma_y_title)\u001b[0m\n\u001b[1;32m     15\u001b[0m     \u001b[0mc1\u001b[0m\u001b[0;34m.\u001b[0m\u001b[0mSetRightMargin\u001b[0m\u001b[0;34m(\u001b[0m\u001b[0;36m0.15\u001b[0m\u001b[0;34m)\u001b[0m\u001b[0;34m\u001b[0m\u001b[0m\n\u001b[1;32m     16\u001b[0m     \u001b[0mc1\u001b[0m\u001b[0;34m.\u001b[0m\u001b[0mSetBottomMargin\u001b[0m\u001b[0;34m(\u001b[0m\u001b[0;36m0.15\u001b[0m\u001b[0;34m)\u001b[0m\u001b[0;34m\u001b[0m\u001b[0m\n\u001b[0;32m---> 17\u001b[0;31m     \u001b[0mh\u001b[0m\u001b[0;34m.\u001b[0m\u001b[0mDraw\u001b[0m\u001b[0;34m(\u001b[0m\u001b[0;34m)\u001b[0m\u001b[0;34m\u001b[0m\u001b[0m\n\u001b[0m\u001b[1;32m     18\u001b[0m     \u001b[0mc1\u001b[0m\u001b[0;34m.\u001b[0m\u001b[0mUpdate\u001b[0m\u001b[0;34m(\u001b[0m\u001b[0;34m)\u001b[0m\u001b[0;34m\u001b[0m\u001b[0m\n\u001b[1;32m     19\u001b[0m     \u001b[0mh\u001b[0m\u001b[0;34m.\u001b[0m\u001b[0mDraw\u001b[0m\u001b[0;34m(\u001b[0m\u001b[0;34m\"COLZ\"\u001b[0m\u001b[0;34m)\u001b[0m\u001b[0;34m\u001b[0m\u001b[0m\n",
      "\u001b[0;31mReferenceError\u001b[0m: attempt to access a null-pointer"
     ]
    }
   ],
   "source": [
    "o = fit_slices(input_file_name, \"deltaPzOverPzVsPz\", pt_bin_edge, pt_min, pt_max, total_bins, min_x, max_x, 0., 0.2,\n",
    "               \"c*p_{z} [GeV/c]\", \"#Delta p_{z}/p_{z}\", \"p_{z} resolution / p_{z}\")\n",
    "\n",
    "o[2]"
   ]
  },
  {
   "cell_type": "code",
   "execution_count": 431,
   "metadata": {
    "collapsed": false
   },
   "outputs": [
    {
     "name": "stderr",
     "output_type": "stream",
     "text": [
      "TCanvas::Constructor:0: RuntimeWarning: Deleting canvas with same name: c1\n"
     ]
    },
    {
     "ename": "ReferenceError",
     "evalue": "attempt to access a null-pointer",
     "output_type": "error",
     "traceback": [
      "\u001b[0;31m---------------------------------------------------------------------------\u001b[0m",
      "\u001b[0;31mReferenceError\u001b[0m                            Traceback (most recent call last)",
      "\u001b[0;32m<ipython-input-431-1894e28e0d8b>\u001b[0m in \u001b[0;36m<module>\u001b[0;34m()\u001b[0m\n\u001b[1;32m      1\u001b[0m ophi = fit_slices(input_file_name, \"deltaPzOverPzVsEta\", eta_bin_edge, eta_min, eta_max, 500,\n\u001b[1;32m      2\u001b[0m                   \u001b[0mmin_x\u001b[0m\u001b[0;34m,\u001b[0m \u001b[0mmax_x\u001b[0m\u001b[0;34m,\u001b[0m \u001b[0;36m0.\u001b[0m\u001b[0;34m,\u001b[0m \u001b[0;36m0.1\u001b[0m\u001b[0;34m,\u001b[0m\u001b[0;34m\u001b[0m\u001b[0m\n\u001b[0;32m----> 3\u001b[0;31m                   \"#eta\", \"#Deltap_{z}/p_{z}\", \"p_{z} relative resolution\")\n\u001b[0m\u001b[1;32m      4\u001b[0m \u001b[0mophi\u001b[0m\u001b[0;34m[\u001b[0m\u001b[0;36m2\u001b[0m\u001b[0;34m]\u001b[0m\u001b[0;34m\u001b[0m\u001b[0m\n",
      "\u001b[0;32m<ipython-input-383-ce34d0ed338f>\u001b[0m in \u001b[0;36mfit_slices\u001b[0;34m(input_file_name, h_name, bin_values, value_min, value_max, total_bins, mean_y_min, mean_y_max, sigma_y_min, sigma_y_max, x_title, y_title, sigma_y_title)\u001b[0m\n\u001b[1;32m     15\u001b[0m     \u001b[0mc1\u001b[0m\u001b[0;34m.\u001b[0m\u001b[0mSetRightMargin\u001b[0m\u001b[0;34m(\u001b[0m\u001b[0;36m0.15\u001b[0m\u001b[0;34m)\u001b[0m\u001b[0;34m\u001b[0m\u001b[0m\n\u001b[1;32m     16\u001b[0m     \u001b[0mc1\u001b[0m\u001b[0;34m.\u001b[0m\u001b[0mSetBottomMargin\u001b[0m\u001b[0;34m(\u001b[0m\u001b[0;36m0.15\u001b[0m\u001b[0;34m)\u001b[0m\u001b[0;34m\u001b[0m\u001b[0m\n\u001b[0;32m---> 17\u001b[0;31m     \u001b[0mh\u001b[0m\u001b[0;34m.\u001b[0m\u001b[0mDraw\u001b[0m\u001b[0;34m(\u001b[0m\u001b[0;34m)\u001b[0m\u001b[0;34m\u001b[0m\u001b[0m\n\u001b[0m\u001b[1;32m     18\u001b[0m     \u001b[0mc1\u001b[0m\u001b[0;34m.\u001b[0m\u001b[0mUpdate\u001b[0m\u001b[0;34m(\u001b[0m\u001b[0;34m)\u001b[0m\u001b[0;34m\u001b[0m\u001b[0m\n\u001b[1;32m     19\u001b[0m     \u001b[0mh\u001b[0m\u001b[0;34m.\u001b[0m\u001b[0mDraw\u001b[0m\u001b[0;34m(\u001b[0m\u001b[0;34m\"COLZ\"\u001b[0m\u001b[0;34m)\u001b[0m\u001b[0;34m\u001b[0m\u001b[0m\n",
      "\u001b[0;31mReferenceError\u001b[0m: attempt to access a null-pointer"
     ]
    }
   ],
   "source": [
    "ophi = fit_slices(input_file_name, \"deltaPzOverPzVsEta\", eta_bin_edge, eta_min, eta_max, 500,\n",
    "                  min_x, max_x, 0., 0.1,\n",
    "                  \"#eta\", \"#Deltap_{z}/p_{z}\", \"p_{z} relative resolution\")\n",
    "ophi[2]"
   ]
  },
  {
   "cell_type": "code",
   "execution_count": null,
   "metadata": {
    "collapsed": true
   },
   "outputs": [],
   "source": []
  },
  {
   "cell_type": "code",
   "execution_count": null,
   "metadata": {
    "collapsed": true
   },
   "outputs": [],
   "source": []
  },
  {
   "cell_type": "code",
   "execution_count": null,
   "metadata": {
    "collapsed": true
   },
   "outputs": [],
   "source": []
  },
  {
   "cell_type": "code",
   "execution_count": 432,
   "metadata": {
    "collapsed": true
   },
   "outputs": [],
   "source": [
    "p1 = (0.8011218584666692, 0.7806726011268028, -0.4580003391942949,\n",
    "      0.8154098095918906, 2.403558021795071, -4.341816039444899)\n",
    "\n",
    "p2 = (1.094420656412059, -0.0351059779287913, -0.3012850394844819,\n",
    "      0.3750653855429497, 1.002260424975083, -1.134827247631327)"
   ]
  },
  {
   "cell_type": "code",
   "execution_count": 433,
   "metadata": {
    "collapsed": true
   },
   "outputs": [],
   "source": [
    "p11 = (2.577822510655389, -0.5577868766465199, 1.447995502344507,\n",
    "       0.7093984774699404, -5.985922429037098, 1.808959130735879)\n",
    "p21 = (0.872190954649759, 0.9063933077180197, 0.2423671747271533,\n",
    "       -1.039890343856892, -0.2648719674813415, 0.2836447718476091)"
   ]
  },
  {
   "cell_type": "code",
   "execution_count": 434,
   "metadata": {
    "collapsed": false
   },
   "outputs": [
    {
     "name": "stdout",
     "output_type": "stream",
     "text": [
      "0.310774638345\n",
      "-1.399589402\n",
      "-0.316299559255\n",
      "1.14943834176\n",
      "-0.401535110134\n",
      "-2.40017364996\n",
      "\n",
      "1.25479477926\n",
      "-0.0387315061021\n",
      "-1.24309341735\n",
      "-0.360677823156\n",
      "-3.78394299142\n",
      "-4.00087489799\n"
     ]
    }
   ],
   "source": [
    "for i in range(len(p1)):\n",
    "    print p1[i]/p11[i]\n",
    "\n",
    "print \"\"\n",
    "    \n",
    "for i in range(len(p2)):\n",
    "    print p2[i]/p21[i]\n",
    "\n"
   ]
  },
  {
   "cell_type": "code",
   "execution_count": 435,
   "metadata": {
    "collapsed": true
   },
   "outputs": [],
   "source": [
    "p12 = (3.246354239256722, 1.299425516536766, 0.8657178535810635,\n",
    "       -6.465286438227688, 0.4838183250371889, 0.5703342836853535)\n",
    "p22 = (1.980361044721573, -0.5613602632967232, 0.2718933565120522,\n",
    "       -0.9423104993484825, 0.06693226930136592, 0.1838072320234546)"
   ]
  },
  {
   "cell_type": "code",
   "execution_count": 436,
   "metadata": {
    "collapsed": false
   },
   "outputs": [
    {
     "name": "stdout",
     "output_type": "stream",
     "text": [
      "0.246775859756\n",
      "0.600782877658\n",
      "-0.529041115763\n",
      "-0.126121219436\n",
      "4.96789372666\n",
      "-7.6127565248\n",
      "\n",
      "0.552636934224\n",
      "0.0625373404997\n",
      "-1.10810004095\n",
      "-0.398027386729\n",
      "14.9742483773\n",
      "-6.174007601\n"
     ]
    }
   ],
   "source": [
    "for i in range(len(p1)):\n",
    "    print p1[i]/p12[i]\n",
    "\n",
    "print \"\"\n",
    "    \n",
    "for i in range(len(p2)):\n",
    "    print p2[i]/p22[i]"
   ]
  },
  {
   "cell_type": "code",
   "execution_count": null,
   "metadata": {
    "collapsed": true
   },
   "outputs": [],
   "source": []
  }
 ],
 "metadata": {
  "kernelspec": {
   "display_name": "Python 2",
   "language": "python",
   "name": "python2"
  },
  "language_info": {
   "codemirror_mode": {
    "name": "ipython",
    "version": 2
   },
   "file_extension": ".py",
   "mimetype": "text/x-python",
   "name": "python",
   "nbconvert_exporter": "python",
   "pygments_lexer": "ipython2",
   "version": "2.7.6"
  }
 },
 "nbformat": 4,
 "nbformat_minor": 0
}
