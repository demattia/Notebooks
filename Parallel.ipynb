{
 "metadata": {
  "name": ""
 },
 "nbformat": 3,
 "nbformat_minor": 0,
 "worksheets": [
  {
   "cells": [
    {
     "cell_type": "heading",
     "level": 1,
     "metadata": {},
     "source": [
      "IPython Parallel Push/Execute/Pull Demo"
     ]
    },
    {
     "cell_type": "markdown",
     "metadata": {},
     "source": [
      "Example taken from: http://nbviewer.ipython.org/3866987\n",
      "\n",
      "This notebook performs a very simple dot product of the same two random (square) matrices on all ipengines. It then gathers the results from all ipengines and confirms that all results are the same. This mostly demos how the push, execute, and pull pipeline works in the IPython Parallel client. "
     ]
    },
    {
     "cell_type": "heading",
     "level": 2,
     "metadata": {},
     "source": [
      "1. Allocate random matrices locally"
     ]
    },
    {
     "cell_type": "code",
     "collapsed": false,
     "input": [
      "import numpy as np"
     ],
     "language": "python",
     "metadata": {},
     "outputs": [],
     "prompt_number": 2
    },
    {
     "cell_type": "code",
     "collapsed": false,
     "input": [
      "N = 2000"
     ],
     "language": "python",
     "metadata": {},
     "outputs": [],
     "prompt_number": 11
    },
    {
     "cell_type": "code",
     "collapsed": false,
     "input": [
      "%time\n",
      "a = np.random.randn(N, N)\n",
      "b = np.random.randn(N, N)"
     ],
     "language": "python",
     "metadata": {},
     "outputs": [
      {
       "output_type": "stream",
       "stream": "stdout",
       "text": [
        "1 loops, best of 3: 332 ms per loop\n"
       ]
      }
     ],
     "prompt_number": 15
    },
    {
     "cell_type": "heading",
     "level": 2,
     "metadata": {},
     "source": [
      "2. Compute their dot product locally"
     ]
    },
    {
     "cell_type": "code",
     "collapsed": false,
     "input": [
      "%time\n",
      "c = np.dot(a,b)"
     ],
     "language": "python",
     "metadata": {},
     "outputs": [
      {
       "output_type": "stream",
       "stream": "stdout",
       "text": [
        "1 loops, best of 3: 20.1 s per loop\n"
       ]
      }
     ],
     "prompt_number": 16
    },
    {
     "cell_type": "heading",
     "level": 2,
     "metadata": {},
     "source": [
      "3. Initialize the IPython Parallel Client"
     ]
    },
    {
     "cell_type": "code",
     "collapsed": false,
     "input": [
      "from IPython.parallel import Client\n",
      "cl = Client()\n",
      "cl.ids"
     ],
     "language": "python",
     "metadata": {},
     "outputs": [
      {
       "output_type": "stream",
       "stream": "stderr",
       "text": [
        "/Library/Python/2.7/site-packages/IPython/parallel/client/client.py:444: RuntimeWarning: \n",
        "            Controller appears to be listening on localhost, but not on this machine.\n",
        "            If this is true, you should specify Client(...,sshserver='you@192.168.1.79')\n",
        "            or instruct your controller to listen on an external IP.\n",
        "  RuntimeWarning)\n"
       ]
      },
      {
       "metadata": {},
       "output_type": "pyout",
       "prompt_number": 17,
       "text": [
        "[0, 1, 2, 3]"
       ]
      }
     ],
     "prompt_number": 17
    },
    {
     "cell_type": "heading",
     "level": 2,
     "metadata": {},
     "source": [
      "4. Fetch a 'view' from the IPython parallel client"
     ]
    },
    {
     "cell_type": "code",
     "collapsed": false,
     "input": [
      "v = cl[:]"
     ],
     "language": "python",
     "metadata": {},
     "outputs": [],
     "prompt_number": 18
    },
    {
     "cell_type": "heading",
     "level": 2,
     "metadata": {},
     "source": [
      "5. Import NumPy on all IPEngines"
     ]
    },
    {
     "cell_type": "code",
     "collapsed": false,
     "input": [
      "%time\n",
      "v.execute('import numpy as np', block=True)"
     ],
     "language": "python",
     "metadata": {},
     "outputs": [
      {
       "output_type": "stream",
       "stream": "stdout",
       "text": [
        "100 loops, best of 3: 6.72 ms per loop\n"
       ]
      }
     ],
     "prompt_number": 19
    },
    {
     "cell_type": "heading",
     "level": 2,
     "metadata": {},
     "source": [
      "6. Push both random matrices to all IPEngines"
     ]
    },
    {
     "cell_type": "code",
     "collapsed": false,
     "input": [
      "%time\n",
      "v.push(dict(a=a, b=b), block=True)"
     ],
     "language": "python",
     "metadata": {},
     "outputs": [],
     "prompt_number": "*"
    },
    {
     "cell_type": "heading",
     "level": 2,
     "metadata": {},
     "source": [
      "7. Compute dot product on all IPEngines"
     ]
    },
    {
     "cell_type": "markdown",
     "metadata": {},
     "source": [
      "NOTE: We add 'print c' to the execute statement below in order to demo the display_outputs() function which shows the stdout, if any, of all remote engines as a result of executing the command. In general you do not need to print variables in order to interact with them."
     ]
    },
    {
     "cell_type": "code",
     "collapsed": false,
     "input": [
      "%time\n",
      "r = v.execute('c = np.dot(a,b); print c', block=True)"
     ],
     "language": "python",
     "metadata": {},
     "outputs": [
      {
       "output_type": "stream",
       "stream": "stdout",
       "text": [
        "CPU times: user 3 \u00b5s, sys: 0 ns, total: 3 \u00b5s\n",
        "Wall time: 5.96 \u00b5s\n"
       ]
      }
     ],
     "prompt_number": 25
    },
    {
     "cell_type": "code",
     "collapsed": false,
     "input": [
      "r.display_outputs()"
     ],
     "language": "python",
     "metadata": {},
     "outputs": [
      {
       "output_type": "stream",
       "stream": "stdout",
       "text": [
        "[stdout:0] \n",
        "[[-48.0755178   27.55610374 -40.93992936 ..., -44.72033356  33.29546943\n",
        "  -75.6587437 ]\n",
        " [ 55.6149025  -56.58532146   8.8424335  ...,  29.19131233   1.25551384\n",
        "   62.14469556]\n",
        " [-60.31729197 -16.63225973  -2.90046498 ...,  27.35779834 -60.12903114\n",
        "  -21.0305051 ]\n",
        " ..., \n",
        " [ 18.44583717  17.35079102 -29.96259649 ..., -17.93472043  13.61007677\n",
        "  -35.01226644]\n",
        " [ 50.50864979 -44.36807347  -5.2315899  ...,  11.9175971    9.69134323\n",
        "   57.0547514 ]\n",
        " [ 43.23419646 -78.25716312  43.59034575 ...,  -2.83726476  82.45031877\n",
        "   49.00817094]]\n",
        "[stdout:1] \n",
        "[[-48.0755178   27.55610374 -40.93992936 ..., -44.72033356  33.29546943\n",
        "  -75.6587437 ]\n",
        " [ 55.6149025  -56.58532146   8.8424335  ...,  29.19131233   1.25551384\n",
        "   62.14469556]\n",
        " [-60.31729197 -16.63225973  -2.90046498 ...,  27.35779834 -60.12903114\n",
        "  -21.0305051 ]\n",
        " ..., \n",
        " [ 18.44583717  17.35079102 -29.96259649 ..., -17.93472043  13.61007677\n",
        "  -35.01226644]\n",
        " [ 50.50864979 -44.36807347  -5.2315899  ...,  11.9175971    9.69134323\n",
        "   57.0547514 ]\n",
        " [ 43.23419646 -78.25716312  43.59034575 ...,  -2.83726476  82.45031877\n",
        "   49.00817094]]\n",
        "[stdout:2] \n",
        "[[-48.0755178   27.55610374 -40.93992936 ..., -44.72033356  33.29546943\n",
        "  -75.6587437 ]\n",
        " [ 55.6149025  -56.58532146   8.8424335  ...,  29.19131233   1.25551384\n",
        "   62.14469556]\n",
        " [-60.31729197 -16.63225973  -2.90046498 ...,  27.35779834 -60.12903114\n",
        "  -21.0305051 ]\n",
        " ..., \n",
        " [ 18.44583717  17.35079102 -29.96259649 ..., -17.93472043  13.61007677\n",
        "  -35.01226644]\n",
        " [ 50.50864979 -44.36807347  -5.2315899  ...,  11.9175971    9.69134323\n",
        "   57.0547514 ]\n",
        " [ 43.23419646 -78.25716312  43.59034575 ...,  -2.83726476  82.45031877\n",
        "   49.00817094]]\n",
        "[stdout:3] \n",
        "[[-48.0755178   27.55610374 -40.93992936 ..., -44.72033356  33.29546943\n",
        "  -75.6587437 ]\n",
        " [ 55.6149025  -56.58532146   8.8424335  ...,  29.19131233   1.25551384\n",
        "   62.14469556]\n",
        " [-60.31729197 -16.63225973  -2.90046498 ...,  27.35779834 -60.12903114\n",
        "  -21.0305051 ]\n",
        " ..., \n",
        " [ 18.44583717  17.35079102 -29.96259649 ..., -17.93472043  13.61007677\n",
        "  -35.01226644]\n",
        " [ 50.50864979 -44.36807347  -5.2315899  ...,  11.9175971    9.69134323\n",
        "   57.0547514 ]\n",
        " [ 43.23419646 -78.25716312  43.59034575 ...,  -2.83726476  82.45031877\n",
        "   49.00817094]]\n"
       ]
      }
     ],
     "prompt_number": 26
    },
    {
     "cell_type": "heading",
     "level": 2,
     "metadata": {},
     "source": [
      "8. Pull the results from all IPEngines"
     ]
    },
    {
     "cell_type": "code",
     "collapsed": false,
     "input": [
      "dot = v.pull('c', block=True)"
     ],
     "language": "python",
     "metadata": {},
     "outputs": [],
     "prompt_number": 27
    },
    {
     "cell_type": "code",
     "collapsed": false,
     "input": [
      "print dot"
     ],
     "language": "python",
     "metadata": {},
     "outputs": [
      {
       "output_type": "stream",
       "stream": "stdout",
       "text": [
        "[array([[-48.0755178 ,  27.55610374, -40.93992936, ..., -44.72033356,\n",
        "         33.29546943, -75.6587437 ],\n",
        "       [ 55.6149025 , -56.58532146,   8.8424335 , ...,  29.19131233,\n",
        "          1.25551384,  62.14469556],\n",
        "       [-60.31729197, -16.63225973,  -2.90046498, ...,  27.35779834,\n",
        "        -60.12903114, -21.0305051 ],\n",
        "       ..., \n",
        "       [ 18.44583717,  17.35079102, -29.96259649, ..., -17.93472043,\n",
        "         13.61007677, -35.01226644],\n",
        "       [ 50.50864979, -44.36807347,  -5.2315899 , ...,  11.9175971 ,\n",
        "          9.69134323,  57.0547514 ],\n",
        "       [ 43.23419646, -78.25716312,  43.59034575, ...,  -2.83726476,\n",
        "         82.45031877,  49.00817094]]), array([[-48.0755178 ,  27.55610374, -40.93992936, ..., -44.72033356,\n",
        "         33.29546943, -75.6587437 ],\n",
        "       [ 55.6149025 , -56.58532146,   8.8424335 , ...,  29.19131233,\n",
        "          1.25551384,  62.14469556],\n",
        "       [-60.31729197, -16.63225973,  -2.90046498, ...,  27.35779834,\n",
        "        -60.12903114, -21.0305051 ],\n",
        "       ..., \n",
        "       [ 18.44583717,  17.35079102, -29.96259649, ..., -17.93472043,\n",
        "         13.61007677, -35.01226644],\n",
        "       [ 50.50864979, -44.36807347,  -5.2315899 , ...,  11.9175971 ,\n",
        "          9.69134323,  57.0547514 ],\n",
        "       [ 43.23419646, -78.25716312,  43.59034575, ...,  -2.83726476,\n",
        "         82.45031877,  49.00817094]]), array([[-48.0755178 ,  27.55610374, -40.93992936, ..., -44.72033356,\n",
        "         33.29546943, -75.6587437 ],\n",
        "       [ 55.6149025 , -56.58532146,   8.8424335 , ...,  29.19131233,\n",
        "          1.25551384,  62.14469556],\n",
        "       [-60.31729197, -16.63225973,  -2.90046498, ...,  27.35779834,\n",
        "        -60.12903114, -21.0305051 ],\n",
        "       ..., \n",
        "       [ 18.44583717,  17.35079102, -29.96259649, ..., -17.93472043,\n",
        "         13.61007677, -35.01226644],\n",
        "       [ 50.50864979, -44.36807347,  -5.2315899 , ...,  11.9175971 ,\n",
        "          9.69134323,  57.0547514 ],\n",
        "       [ 43.23419646, -78.25716312,  43.59034575, ...,  -2.83726476,\n",
        "         82.45031877,  49.00817094]]), array([[-48.0755178 ,  27.55610374, -40.93992936, ..., -44.72033356,\n",
        "         33.29546943, -75.6587437 ],\n",
        "       [ 55.6149025 , -56.58532146,   8.8424335 , ...,  29.19131233,\n",
        "          1.25551384,  62.14469556],\n",
        "       [-60.31729197, -16.63225973,  -2.90046498, ...,  27.35779834,\n",
        "        -60.12903114, -21.0305051 ],\n",
        "       ..., \n",
        "       [ 18.44583717,  17.35079102, -29.96259649, ..., -17.93472043,\n",
        "         13.61007677, -35.01226644],\n",
        "       [ 50.50864979, -44.36807347,  -5.2315899 , ...,  11.9175971 ,\n",
        "          9.69134323,  57.0547514 ],\n",
        "       [ 43.23419646, -78.25716312,  43.59034575, ...,  -2.83726476,\n",
        "         82.45031877,  49.00817094]])]\n"
       ]
      }
     ],
     "prompt_number": 28
    },
    {
     "cell_type": "heading",
     "level": 2,
     "metadata": {},
     "source": [
      "9. Check remote results against local results"
     ]
    },
    {
     "cell_type": "code",
     "collapsed": false,
     "input": [
      "assert np.allclose(c, dot[0])"
     ],
     "language": "python",
     "metadata": {},
     "outputs": [],
     "prompt_number": 29
    },
    {
     "cell_type": "code",
     "collapsed": false,
     "input": [
      "assert np.allclose(dot[0], dot[1])"
     ],
     "language": "python",
     "metadata": {},
     "outputs": [],
     "prompt_number": 30
    },
    {
     "cell_type": "code",
     "collapsed": false,
     "input": [
      "assert np.allclose(dot[1], dot[2])"
     ],
     "language": "python",
     "metadata": {},
     "outputs": [],
     "prompt_number": 31
    },
    {
     "cell_type": "code",
     "collapsed": false,
     "input": [],
     "language": "python",
     "metadata": {},
     "outputs": []
    }
   ],
   "metadata": {}
  }
 ]
}