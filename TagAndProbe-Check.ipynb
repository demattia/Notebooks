{
 "metadata": {
  "name": "TagAndProbe-Check"
 },
 "nbformat": 3,
 "nbformat_minor": 0,
 "worksheets": [
  {
   "cells": [
    {
     "cell_type": "code",
     "collapsed": false,
     "input": [
      "import ROOT\n",
      "import rootnotes\n",
      "import utils\n",
      "import math\n",
      "from ROOT import RooRealVar, RooFormulaVar, RooVoigtian, RooChebychev, RooArgList, RooArgSet, RooAddPdf, RooDataSet, RooCategory, RooSimultaneous"
     ],
     "language": "python",
     "metadata": {},
     "outputs": [],
     "prompt_number": 28
    },
    {
     "cell_type": "code",
     "collapsed": false,
     "input": [
      "cd /Users/demattia/CMSSH/soft/Releases/CMSSW_5_3_8/src"
     ],
     "language": "python",
     "metadata": {},
     "outputs": [
      {
       "output_type": "stream",
       "stream": "stdout",
       "text": [
        "/Users/demattia/CMSSH/soft/Releases/CMSSW_5_3_8/src\n"
       ]
      }
     ],
     "prompt_number": 29
    },
    {
     "cell_type": "code",
     "collapsed": false,
     "input": [
      "ROOT.gROOT.LoadMacro(\"Loader.C+\")"
     ],
     "language": "python",
     "metadata": {},
     "outputs": [
      {
       "output_type": "pyout",
       "prompt_number": 30,
       "text": [
        "0"
       ]
      }
     ],
     "prompt_number": 30
    },
    {
     "cell_type": "code",
     "collapsed": false,
     "input": [
      "tree = ROOT.TChain(\"T\")\n",
      "tree.Add(\"/Users/demattia/CMSSH/soft/Releases/CMSSW_5_3_8/src/Analysis/TagAndProbe/test/TagAndProbe_ZMuMu.root\")"
     ],
     "language": "python",
     "metadata": {},
     "outputs": [
      {
       "output_type": "pyout",
       "prompt_number": 31,
       "text": [
        "1"
       ]
      }
     ],
     "prompt_number": 31
    },
    {
     "cell_type": "heading",
     "level": 3,
     "metadata": {},
     "source": [
      "Event loop"
     ]
    },
    {
     "cell_type": "code",
     "collapsed": false,
     "input": [
      "def computeMass(mu1, mu2):\n",
      "    muon1 = ROOT.TLorentzVector()\n",
      "    muon2 = ROOT.TLorentzVector()\n",
      "    muon1.SetPtEtaPhiM(mu1.pt, mu1.eta, mu1.phi, muMass)\n",
      "    muon2.SetPtEtaPhiM(mu2.pt, mu2.eta, mu2.phi, muMass)\n",
      "    return (muon1+muon2).M()"
     ],
     "language": "python",
     "metadata": {},
     "outputs": [],
     "prompt_number": 32
    },
    {
     "cell_type": "code",
     "collapsed": false,
     "input": [
      "hAllMap = ROOT.TH1F(\"hAll\", \"hAll\", 100, 0, 200)\n",
      "\n",
      "allCandidates = 0\n",
      "passCandidates = 0\n",
      "\n",
      "processedEvents = 0\n",
      "\n",
      "oldTrigger = \"HLT_L2DoubleMu23_NoVertex_v\"\n",
      "newTrigger = \"HLT_L2DoubleMu23_NoVertex_2Cha_Angle2p5_v\"\n",
      "\n",
      "for event in tree:\n",
      "    # if processedEvents > 10000:\n",
      "    #     break\n",
      "\n",
      "    # Get the trigger outcome for this event\n",
      "    oldTriggerFired = False\n",
      "    newTriggerFired = False\n",
      "    for name in event.triggerNames:\n",
      "        if name.find(oldTrigger) != -1: oldTriggerFired = True\n",
      "        if name.find(newTrigger) != -1: newTriggerFired = True\n",
      "    \n",
      "    # If none of the two triggers fired we can skip the event\n",
      "    if not oldTriggerFired and not newTriggerFired:\n",
      "        continue\n",
      "\n",
      "    # print \"event number\", processedEvents\n",
      "    processedEvents += 1\n",
      "\n",
      "    # print \"run, event =\", str(event.run)+\",\", event.event\n",
      "    oldTriggerObjects = event.triggerFilterObjectsMap[\"hltL2DoubleMu23NoVertexL2PreFiltered\"]\n",
      "    newTriggerObjects = event.triggerFilterObjectsMap[\"hltL2DoubleMu23NoVertexL2Filtered2ChaAngle2p5\"]\n",
      "    \n",
      "    if len(event.tracks) != 2: continue\n",
      "\n",
      "    if event.tracks[0].pt > 30 and event.tracks[0].pt < 40 and event.tracks[1].pt > 26 and event.tracks[1].pt < 1000:\n",
      "        # for track in event.genParticles:\n",
      "        hAllMap.Fill(computeMass(event.tracks[0], event.tracks[1]))\n"
     ],
     "language": "python",
     "metadata": {},
     "outputs": [
      {
       "output_type": "stream",
       "stream": "stderr",
       "text": [
        "TROOT::Append:0: RuntimeWarning: Replacing existing TH1: hAll (Potential memory leak).\n"
       ]
      }
     ],
     "prompt_number": 33
    },
    {
     "cell_type": "code",
     "collapsed": false,
     "input": [
      "canvas = rootnotes.canvas(\"AllAndPassCanvas\", (800, 400))\n",
      "# canvas.Divide(1)\n",
      "hAllMap.Draw()\n",
      "canvas.SetLogy()\n",
      "canvas"
     ],
     "language": "python",
     "metadata": {},
     "outputs": [
      {
       "output_type": "pyout",
       "png": "[encoded data removed]",
       "prompt_number": 34,
       "text": [
        "<ROOT.TCanvas object (\"AllAndPassCanvas\") at 0x7f9aafb0c380>"
       ]
      }
     ],
     "prompt_number": 34
    },
    {
     "cell_type": "code",
     "collapsed": false,
     "input": [
      "canvas = ROOT.TCanvas(\"AllAndPassCanvas\", \"test\", 800, 400)"
     ],
     "language": "python",
     "metadata": {},
     "outputs": [
      {
       "output_type": "stream",
       "stream": "stderr",
       "text": [
        "TCanvas::Constructor:0: RuntimeWarning: Deleting canvas with same name: AllAndPassCanvas\n"
       ]
      }
     ],
     "prompt_number": 35
    },
    {
     "cell_type": "code",
     "collapsed": false,
     "input": [],
     "language": "python",
     "metadata": {},
     "outputs": []
    }
   ],
   "metadata": {}
  }
 ]
}