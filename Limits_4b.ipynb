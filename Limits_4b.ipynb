{
 "metadata": {
  "name": "",
  "signature": "sha256:81d4757ca2ed54f733865903251d7ff56ed6aceb3a98c820fe4f24f98619fed0"
 },
 "nbformat": 3,
 "nbformat_minor": 0,
 "worksheets": [
  {
   "cells": [
    {
     "cell_type": "code",
     "collapsed": false,
     "input": [
      "%pylab inline"
     ],
     "language": "python",
     "metadata": {},
     "outputs": [
      {
       "output_type": "stream",
       "stream": "stdout",
       "text": [
        "Populating the interactive namespace from numpy and matplotlib\n"
       ]
      }
     ],
     "prompt_number": 1
    },
    {
     "cell_type": "code",
     "collapsed": false,
     "input": [
      "\"\"\"Simple demonstration of MatPlotLib plotting.\"\"\"\n",
      " \n",
      "from matplotlib import pyplot\n",
      " \n",
      "X = [2, 3.5, 5, 15]\n",
      "Y = [4*10**(-4), 4*10**(-4), 4*10**(-4), 4*10**(-4)]\n",
      "\n",
      "X.append(20)\n",
      "Y.append(4.5*10**(-4))\n",
      "X.append(35)\n",
      "Y.append(6*10**(-4))\n",
      "X.append(50)\n",
      "Y.append(7.8*10**(-4))\n",
      "X.append(150)\n",
      "Y.append(1.8*10**(-3))\n",
      "X.append(210)\n",
      "Y.append(2.9*10**(-3))\n",
      "X.append(390)\n",
      "Y.append(4.9*10**(-3))\n",
      "X.append(600)\n",
      "Y.append(7*10**(-3))\n",
      "\n",
      "pyplot.plot( X, Y, '-' )\n",
      "pyplot.title( 'Plotting x*x' )\n",
      "pyplot.xlabel( 'ctau [cm]' )\n",
      "pyplot.ylabel( 'Y Axis' )\n",
      "pyplot.savefig( 'Simple.png' )\n",
      "pyplot.show()\n"
     ],
     "language": "python",
     "metadata": {},
     "outputs": [
      {
       "metadata": {},
       "output_type": "display_data",
       "png": "[encoded data removed]",
       "text": [
        "<matplotlib.figure.Figure at 0x108994e10>"
       ]
      }
     ],
     "prompt_number": 2
    },
    {
     "cell_type": "code",
     "collapsed": false,
     "input": [
      "import ROOT\n",
      "from ROOT import TH1F, TCanvas, TGraph\n",
      "import rootnotes"
     ],
     "language": "python",
     "metadata": {},
     "outputs": [],
     "prompt_number": 3
    },
    {
     "cell_type": "code",
     "collapsed": false,
     "input": [
      "from array import array\n",
      "import math\n",
      "\n",
      "x = [1.5, 2, 3.5, 5, 15]\n",
      "y = [4*10**(-4), 4*10**(-4), 4*10**(-4), 4*10**(-4), 4*10**(-4)]\n",
      "\n",
      "x.append(20)\n",
      "y.append(4.5*10**(-4))\n",
      "x.append(35)\n",
      "y.append(6*10**(-4))\n",
      "x.append(50)\n",
      "y.append(7.8*10**(-4))\n",
      "x.append(150)\n",
      "y.append(1.8*10**(-3))\n",
      "x.append(210)\n",
      "y.append(2.9*10**(-3))\n",
      "x.append(390)\n",
      "y.append(4.9*10**(-3))\n",
      "x.append(600)\n",
      "y.append(7*10**(-3))\n",
      "\n",
      "x.append(10**6)\n",
      "y.append(0.0003452+(10**6)*1.127*10**(-5))\n",
      "\n",
      "\n",
      "nBins = len(x)\n",
      "\n",
      "f = ROOT.TF1(\"line\", \"[0]+[1]*x\", 100, 600)\n",
      "\n",
      "graphCanvas = rootnotes.canvas(\"graphCanvas\", (600, 600))\n",
      "# The lists must be converted to C arrays\n",
      "g = ROOT.TGraph(nBins, array('d', x), array('d', y))\n",
      "# \"A\" option is required because the TGraph will not create the TAxis by default\n",
      "g.SetMarkerStyle(8)\n",
      "g.SetMarkerSize(1.5)\n",
      "g.Draw(\"AP\")\n",
      "g.Fit(\"line\", \"\", \"\", 100, 10**6)\n",
      "\n",
      "\n",
      "ROOT.gStyle.SetOptStat(0000000000)\n",
      "ROOT.gStyle.SetOptFit(0000)\n",
      "\n",
      "\n",
      "\n",
      "xbb = []\n",
      "ybb = []\n",
      "xbb.append(150)\n",
      "ybb.append(2.5*10**(-1))\n",
      "xbb.append(200)\n",
      "ybb.append(3*10**(-1))\n",
      "xbb.append(7000)\n",
      "ybb.append(3.5)\n",
      "xbb.append(3.5*10**5)\n",
      "ybb.append(1.5*10**(2))\n",
      "nBins = len(xbb)\n",
      "\n",
      "gbb = ROOT.TGraph(nBins, array('d', xbb), array('d', ybb))\n",
      "gbb.SetMarkerStyle(21)\n",
      "gbb.SetMarkerColor(2)\n",
      "gbb.SetMarkerSize(1.5)\n",
      "gbb.Draw(\"sameP\")\n",
      "\n",
      "\n",
      "leg = ROOT.TLegend(0.15,0.7,0.6,0.95);\n",
      "leg.AddEntry(g,\"Diplaced jets limit for 2*(X->qq)\",\"p\");\n",
      "leg.AddEntry(gbb,\"Displaced muons limit for 2*(X->bb)\",\"p\");\n",
      "leg.AddEntry(f,\"linear fit to displaced jet limits\",\"l\");\n",
      "leg.SetFillColor(0)\n",
      "leg.SetBorderSize(0)\n",
      "leg.Draw(\"same\");\n",
      "\n",
      "\n",
      "graphCanvas.SetLogx(True)\n",
      "graphCanvas.SetLogy(True)\n",
      "g.GetXaxis().SetTitle(\"c#tau [cm]\")\n",
      "g.GetYaxis().SetTitle(\"#sigma B^{2} [pb]\")\n",
      "g.GetXaxis().SetRangeUser(1, 10**6)\n",
      "g.GetYaxis().SetRangeUser(0.0001, 1000)\n",
      "\n",
      "graphCanvas.SaveAs(\"4bLimitsComparison.pdf\")\n",
      "graphCanvas"
     ],
     "language": "python",
     "metadata": {},
     "outputs": [
      {
       "output_type": "stream",
       "stream": "stderr",
       "text": [
        "TCanvas::Constructor:0: RuntimeWarning: Deleting canvas with same name: graphCanvas\n"
       ]
      },
      {
       "metadata": {},
       "output_type": "pyout",
       "png": "[encoded data removed]",
       "prompt_number": 26,
       "text": [
        "<ROOT.TCanvas object (\"graphCanvas\") at 0x7fd76dbaff10>"
       ]
      }
     ],
     "prompt_number": 26
    },
    {
     "cell_type": "code",
     "collapsed": false,
     "input": [],
     "language": "python",
     "metadata": {},
     "outputs": [],
     "prompt_number": 4
    }
   ],
   "metadata": {}
  }
 ]
}