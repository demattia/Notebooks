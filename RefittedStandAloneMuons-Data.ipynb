{
 "metadata": {
  "name": ""
 },
 "nbformat": 3,
 "nbformat_minor": 0,
 "worksheets": [
  {
   "cells": [
    {
     "cell_type": "heading",
     "level": 1,
     "metadata": {},
     "source": [
      "RefittedStandAloneMuons"
     ]
    },
    {
     "cell_type": "code",
     "collapsed": false,
     "input": [
      "import ROOT\n",
      "from ROOT import TH1F, TH2F, TEfficiency, TLegend\n",
      "import rootnotes\n",
      "import rootprint\n",
      "from RefittedStandAloneMuons import *\n",
      "from ProgressBar import ProgressBar\n",
      "import time\n",
      "\n",
      "ROOT.gROOT.LoadMacro(\"interfaceRefittedStandAloneMuons/Loader.C+\")\n",
      "\n",
      "# Bins in the histograms\n",
      "nBins = 25"
     ],
     "language": "python",
     "metadata": {
      "slideshow": {
       "slide_type": "skip"
      }
     },
     "outputs": [],
     "prompt_number": 1
    },
    {
     "cell_type": "code",
     "collapsed": false,
     "input": [
      "# signalMC = True\n",
      "\n",
      "# input file and tree\n",
      "# Very long-lived MC\n",
      "# inputFile = ROOT.TFile(\"/Users/demattia/HTo2LongLivedTo4F_MH1000_MFF350_CTau3500To350000_analysis_20140314/histograms.root\", \"READ\")\n",
      "\n",
      "# Original input file\n",
      "# inputFile = ROOT.TFile(\"/Users/demattia/HTo2LongLivedTo4F_MH1000_MFF350_CTau35To3500_analysis_20140220/histograms.root\", \"READ\")\n",
      "\n",
      "# Modified d0/sigma calculation. Now taken with the original tracks, rather than the ones refitted to the SV.\n",
      "# inputFile = ROOT.TFile(\"/Users/demattia/HTo2LongLivedTo4F_MH1000_MFF350_CTau35To3500_analysis_ModifiedD0Calc/histograms.root\", \"READ\")\n",
      "\n",
      "signalMC = False\n",
      "\n",
      "# DY50 Background MC\n",
      "# inputFile = ROOT.TFile(\"/Users/demattia/Trees/DYJets50/histograms.root\", \"READ\")\n",
      "\n",
      "# Data\n",
      "inputFile = ROOT.TFile(\"/Users/demattia/Trees/RunD22Jan/histograms.root\", \"READ\")\n",
      "\n",
      "\n",
      "directory = inputFile.Get(\"muTrackAnalysis\")\n",
      "tree = directory.Get(\"outputTree\")\n",
      "\n",
      "# Global variables\n",
      "chosenPdgId = 13\n",
      "\n",
      "signalPdgIds = []\n",
      "# signalPdgIds.append(6001113)\n",
      "signalPdgIds.append(6002113)\n",
      "# signalPdgIds.append(6003113)\n",
      "# signalPdgIds.append(6004113)\n",
      "\n",
      "signalTrigger = \"HLT_L2DoubleMu23_NoVertex_2Cha_Angle2p5_v2\"\n",
      "\n",
      "# Acceptance cuts (for muons)\n",
      "ptCut = 26.\n",
      "etaCut = 2.4\n",
      "LxyCut = 1000000.\n",
      "minStationsWithValidHits = 2\n",
      "isoCut = 0.1\n",
      "cosineCut = -0.79\n",
      "vertexChi2Cut = 5.\n",
      "deltaRCut = 0.2\n",
      "massCut = 15."
     ],
     "language": "python",
     "metadata": {},
     "outputs": [],
     "prompt_number": 2
    },
    {
     "cell_type": "heading",
     "level": 2,
     "metadata": {},
     "source": [
      "Compute Efficiency"
     ]
    },
    {
     "cell_type": "markdown",
     "metadata": {},
     "source": [
      "We compute the refittedStandAloneMuon reconstruction efficiency for MC. We use the MC sample HTo2LongLivedTo4F_MH1000_MFF350_CTau35To3500.\n",
      "\n",
      "We count how many events with a generated particle decaying to muons have at least a reconstructed candidate. This does not need to be matched to the generated particle."
     ]
    },
    {
     "cell_type": "code",
     "collapsed": false,
     "input": [
      "h_RSA_PVrefit = TH1F(\"RSA_PVrefit\", \"refittedStandAloneMuon d0/sigma for PVrefit\", 40, 0, 20)\n",
      "h_RSA_BS = TH1F(\"RSA_BS\", \"refittedStandAloneMuon d0/sigma for BS\", 40, 0, 20)\n",
      "\n",
      "h_Track_PVrefit = TH1F(\"Track_PVrefit\", \"track d0/sigma for PVrefit\", 40, 0, 20)\n",
      "h_Track_BS = TH1F(\"Track_BS\", \"track d0/sigma for BS\", 40, 0, 20)\n",
      "\n",
      "\n",
      "d0VsEtaPhi_PVrefit_AllCuts = ROOT.TProfile2D(\"d0VsEtaPhi_PVrefit_AllCuts\",\n",
      "                                             \"d0VsEtaPhi_PVrefit_AllCuts\", 24, -2.4, 2.4, 32, -3.2, 3.2, 0, 100)\n",
      "d0SigVsEtaPhi_PVrefit_AllCuts = ROOT.TProfile2D(\"d0SigVsEtaPhi_PVrefit_AllCuts\",\n",
      "                                                \"d0SigVsEtaPhi_PVrefit_AllCuts\", 24, -2.4, 2.4, 32, -3.2, 3.2, 0, 1000)\n",
      "\n",
      "\n",
      "d0VsCosine = ROOT.TProfile(\"d0VsCosine\", \"d0VsCosine\", 20, -1, 1, 0, 100)\n",
      "d0SigVsCosine = ROOT.TProfile(\"d0VsCosine\", \"d0VsCosine\", 20, -1, 1, 0, 100)\n",
      "\n",
      "\n",
      "hLxy_PV = TH1F(\"hLxy_PV\", \"Lxy\", 100, 0, 100)\n",
      "hLxySig_PV = TH1F(\"hLxySig_PV\", \"Lxy significance\", 100, 0, 20)\n",
      "hLxyVsGenLxy_PV = TH2F(\"hLxyVsGenLxy_PV\",\n",
      "                       \"Lxy vs genLxy\", 100, 0, 100, 100, 0, 100)\n",
      "hLxySigVsLxy_PV = TH2F(\"hLxySigVsLxy_PV\",\n",
      "                       \"Lxy significance vs Lxy\", 100, 0, 20, 100, 0, 100)\n",
      "\n",
      "hLxy_BS = TH1F(\"hLxy_BS\", \"Lxy\", 100, 0, 100)\n",
      "hLxySig_BS = TH1F(\"hLxySig_BS\", \"Lxy significance\", 100, 0, 20)\n",
      "hLxyVsGenLxy_BS = TH2F(\"hLxyVsGenLxy_BS\",\n",
      "                       \"Lxy vs genLxy\", 100, 0, 100, 100, 0, 100)\n",
      "hLxySigVsLxy_BS = TH2F(\"hLxySigVsLxy_BS\",\n",
      "                       \"Lxy significance vs Lxy\", 100, 0, 20, 100, 0, 100)\n",
      "\n",
      "\n",
      "# Note: we only count the events where at least one candidate decayed to muons.\n",
      "totalEvents = 0\n",
      "triggeredEvents = 0\n",
      "selectedEvents = 0\n",
      "selectedEventsAndComplementary = 0\n",
      "selectedEventsAndComplementaryAndSignalRegion = 0\n",
      "\n",
      "num = 0\n",
      "p = ProgressBar(tree.GetEntries())\n",
      "for event in tree:\n",
      "    cands = event.candidates\n",
      "    if num%(event.GetEntries()/100) == 0:\n",
      "        p.animate(num)\n",
      "    num += 1\n",
      "    # if num == 10000:\n",
      "    #     break\n",
      "    \n",
      "    # Use only muons from long-lived particle decays\n",
      "    if signalMC and not is_selected_signal(cands, signalPdgIds): continue\n",
      "    if not signalMC or decay_to_chosen_pdg_id(cands, \"ll1\", chosenPdgId) or decay_to_chosen_pdg_id(cands, \"ll2\", chosenPdgId):\n",
      "        totalEvents += 1\n",
      "        # The trigger is not applied in the trees for signalMC only.\n",
      "        if signalMC and not signal_trigger_fired(event.triggers, signalTrigger): continue\n",
      "            \n",
      "        triggeredEvents += 1\n",
      "        passesSelection = False\n",
      "        passesSelectionAndComplementary = False\n",
      "        passesSelectionAndComplementaryAndSignalRegion = False\n",
      "\n",
      "        # Track-based\n",
      "        # -----------\n",
      "        passing_candidates = passing_track_based_candidates(cands)\n",
      "        for passing_candidate in passing_candidates:\n",
      "            minD0SigTrack_PVrefit = min(abs(passing_candidate[0].leptonD0SignificanceL_PVrefit_includingPVError),\n",
      "                                        abs(passing_candidate[0].leptonD0SignificanceH_PVrefit_includingPVError))\n",
      "            fill_overflow(h_Track_PVrefit, minD0SigTrack_PVrefit)\n",
      "            minD0SigTrack_BS = min(abs(passing_candidate[0].leptonD0SignificanceL_BS),\n",
      "                                   abs(passing_candidate[0].leptonD0SignificanceH_BS))\n",
      "            fill_overflow(h_Track_BS, minD0SigTrack_BS)\n",
      "        \n",
      "        # continue\n",
      "\n",
      "\n",
      "        # StandAloneMuons\n",
      "        # ---------------\n",
      "        for cand in cands.candidates_:\n",
      "            # Dimuon cuts\n",
      "            if not (cand.cosine > cosineCut and cand.validVertex and cand.vertexChi2 < vertexChi2Cut and\n",
      "                    cand.deltaR > deltaRCut and cand.corrDileptonMass > massCut):\n",
      "                continue\n",
      "            leptonL = get_lepton(cands.leptons_, cand.leptonIndexL)\n",
      "            leptonH = get_lepton(cands.leptons_, cand.leptonIndexH)\n",
      "            # Only use refittedStandAloneMuons\n",
      "            if not leptonL.isStandAloneMuon or not leptonH.isStandAloneMuon: continue\n",
      "            # Muon cuts\n",
      "            if (pass_muon_cuts(leptonL, ptCut, etaCut, isoCut, minStationsWithValidHits) and\n",
      "               pass_muon_cuts(leptonH, ptCut, etaCut, isoCut, minStationsWithValidHits)):\n",
      "                passesSelection = True\n",
      "\n",
      "                # Reject events selected by the track-based analysis\n",
      "                if not is_complementary(leptonL, leptonH, passing_candidates): continue\n",
      "                passesSelectionAndComplementary = True\n",
      "                \n",
      "                # Fill to check the distribution of d0 and d0 significance vs eta and phi\n",
      "                if leptonL.d0Significance_PV_includingPVError > 12.:\n",
      "                    d0VsEtaPhi_PVrefit_AllCuts.Fill(leptonL.eta, leptonL.phi, abs(leptonL.d0_PV))\n",
      "                    d0SigVsEtaPhi_PVrefit_AllCuts.Fill(leptonL.eta, leptonL.phi, abs(leptonL.d0Significance_PV_includingPVError))\n",
      "                    d0VsCosine.Fill(cand.cosine, abs(leptonL.d0_PV))\n",
      "                    d0SigVsCosine.Fill(cand.cosine, abs(leptonL.d0Significance_PV_includingPVError))\n",
      "                if leptonH.d0Significance_PV_includingPVError > 12.:\n",
      "                    d0VsEtaPhi_PVrefit_AllCuts.Fill(leptonH.eta, leptonH.phi, abs(leptonH.d0_PV))\n",
      "                    d0SigVsEtaPhi_PVrefit_AllCuts.Fill(leptonH.eta, leptonH.phi, abs(leptonH.d0Significance_PV_includingPVError))\n",
      "                    d0VsCosine.Fill(cand.cosine, abs(leptonH.d0_PV))\n",
      "                    d0SigVsCosine.Fill(cand.cosine, abs(leptonH.d0Significance_PV_includingPVError))\n",
      "                \n",
      "                # Signal region\n",
      "                if not( abs(cand.dPhiCorr < math.pi/2.) and abs(cand.dPhiCorr >= 0.) ): continue\n",
      "                # Control region\n",
      "                # if not( abs(cand.dPhiCorr < math.pi) and abs(cand.dPhiCorr >= math.pi/2.) ): continue\n",
      "                \n",
      "                passesSelectionAndComplementaryAndSignalRegion = True\n",
      "                \n",
      "                # Lxy\n",
      "                hLxy_PV.Fill(cand.decayLength_PV)\n",
      "                hLxySig_PV.Fill(cand.decayLengthSignificance_PV)\n",
      "                hLxySigVsLxy_PV.Fill(cand.decayLengthSignificance_PV, cand.decayLength_PV)\n",
      "                # if abs(cand.originPdgIdL) == signalPdgIds[0] and abs(cand.originPdgIdH) == signalPdgIds[0]:\n",
      "                hLxyVsGenLxy_PV.Fill(cand.decayLength_PV, cand.genDecayLength2D)\n",
      "\n",
      "                hLxy_BS.Fill(cand.decayLength_BS)\n",
      "                hLxySig_BS.Fill(cand.decayLengthSignificance_BS)\n",
      "                hLxySigVsLxy_BS.Fill(cand.decayLengthSignificance_BS, cand.decayLength_BS)\n",
      "                # if abs(cand.originPdgIdL) == signalPdgIds[0] and abs(cand.originPdgIdH) == signalPdgIds[0]:\n",
      "                hLxyVsGenLxy_BS.Fill(cand.decayLength_BS, cand.genDecayLength2D)\n",
      "\n",
      "                # d0\n",
      "                minD0SigRSA_PVrefit = min(abs(cand.leptonD0SignificanceL_PVrefit_includingPVError),\n",
      "                                          abs(cand.leptonD0SignificanceH_PVrefit_includingPVError))\n",
      "                fill_overflow(h_RSA_PVrefit, minD0SigRSA_PVrefit)\n",
      "                minD0SigRSA_BS = min(abs(cand.leptonD0SignificanceL_BS),\n",
      "                                     abs(cand.leptonD0SignificanceH_BS))\n",
      "                fill_overflow(h_RSA_BS, minD0SigRSA_BS)\n",
      "\n",
      "        if passesSelection:\n",
      "            selectedEvents += 1\n",
      "        if passesSelectionAndComplementary:\n",
      "            selectedEventsAndComplementary += 1\n",
      "        if passesSelectionAndComplementaryAndSignalRegion:\n",
      "            selectedEventsAndComplementaryAndSignalRegion += 1\n"
     ],
     "language": "python",
     "metadata": {},
     "outputs": [
      {
       "output_type": "stream",
       "stream": "stdout",
       "text": [
        "\r",
        " [                       0%                       ]"
       ]
      },
      {
       "output_type": "stream",
       "stream": "stdout",
       "text": [
        "\r",
        " [                       0%                       ]  1 of 2563555 complete"
       ]
      },
      {
       "output_type": "stream",
       "stream": "stdout",
       "text": [
        "\r",
        " [                       1%                       ]  25636 of 2563555 complete"
       ]
      },
      {
       "output_type": "stream",
       "stream": "stdout",
       "text": [
        "\r",
        " [*                      2%                       ]  51271 of 2563555 complete"
       ]
      },
      {
       "output_type": "stream",
       "stream": "stdout",
       "text": [
        "\r",
        " [*                      3%                       ]  76906 of 2563555 complete"
       ]
      },
      {
       "output_type": "stream",
       "stream": "stdout",
       "text": [
        "\r",
        " [**                     4%                       ]  102541 of 2563555 complete"
       ]
      },
      {
       "output_type": "stream",
       "stream": "stdout",
       "text": [
        "\r",
        " [**                     5%                       ]  128176 of 2563555 complete"
       ]
      },
      {
       "output_type": "stream",
       "stream": "stdout",
       "text": [
        "\r",
        " [***                    6%                       ]  153811 of 2563555 complete"
       ]
      },
      {
       "output_type": "stream",
       "stream": "stdout",
       "text": [
        "\r",
        " [***                    7%                       ]  179446 of 2563555 complete"
       ]
      },
      {
       "output_type": "stream",
       "stream": "stdout",
       "text": [
        "\r",
        " [****                   8%                       ]  205081 of 2563555 complete"
       ]
      },
      {
       "output_type": "stream",
       "stream": "stdout",
       "text": [
        "\r",
        " [****                   9%                       ]  230716 of 2563555 complete"
       ]
      },
      {
       "output_type": "stream",
       "stream": "stdout",
       "text": [
        "\r",
        " [*****                 10%                       ]  256351 of 2563555 complete"
       ]
      },
      {
       "output_type": "stream",
       "stream": "stdout",
       "text": [
        "\r",
        " [*****                 11%                       ]  281986 of 2563555 complete"
       ]
      },
      {
       "output_type": "stream",
       "stream": "stdout",
       "text": [
        "\r",
        " [******                12%                       ]  307621 of 2563555 complete"
       ]
      },
      {
       "output_type": "stream",
       "stream": "stdout",
       "text": [
        "\r",
        " [******                13%                       ]  333256 of 2563555 complete"
       ]
      },
      {
       "output_type": "stream",
       "stream": "stdout",
       "text": [
        "\r",
        " [*******               14%                       ]  358891 of 2563555 complete"
       ]
      },
      {
       "output_type": "stream",
       "stream": "stdout",
       "text": [
        "\r",
        " [*******               15%                       ]  384526 of 2563555 complete"
       ]
      },
      {
       "output_type": "stream",
       "stream": "stdout",
       "text": [
        "\r",
        " [********              16%                       ]  410161 of 2563555 complete"
       ]
      },
      {
       "output_type": "stream",
       "stream": "stdout",
       "text": [
        "\r",
        " [********              17%                       ]  435796 of 2563555 complete"
       ]
      },
      {
       "output_type": "stream",
       "stream": "stdout",
       "text": [
        "\r",
        " [*********             18%                       ]  461431 of 2563555 complete"
       ]
      },
      {
       "output_type": "stream",
       "stream": "stdout",
       "text": [
        "\r",
        " [*********             19%                       ]  487066 of 2563555 complete"
       ]
      },
      {
       "output_type": "stream",
       "stream": "stdout",
       "text": [
        "\r",
        " [**********            20%                       ]  512701 of 2563555 complete"
       ]
      },
      {
       "output_type": "stream",
       "stream": "stdout",
       "text": [
        "\r",
        " [**********            21%                       ]  538336 of 2563555 complete"
       ]
      },
      {
       "output_type": "stream",
       "stream": "stdout",
       "text": [
        "\r",
        " [***********           22%                       ]  563971 of 2563555 complete"
       ]
      },
      {
       "output_type": "stream",
       "stream": "stdout",
       "text": [
        "\r",
        " [***********           23%                       ]  589606 of 2563555 complete"
       ]
      },
      {
       "output_type": "stream",
       "stream": "stdout",
       "text": [
        "\r",
        " [************          24%                       ]  615241 of 2563555 complete"
       ]
      },
      {
       "output_type": "stream",
       "stream": "stdout",
       "text": [
        "\r",
        " [************          25%                       ]  640876 of 2563555 complete"
       ]
      },
      {
       "output_type": "stream",
       "stream": "stdout",
       "text": [
        "\r",
        " [************          26%                       ]  666511 of 2563555 complete"
       ]
      },
      {
       "output_type": "stream",
       "stream": "stdout",
       "text": [
        "\r",
        " [*************         27%                       ]  692146 of 2563555 complete"
       ]
      },
      {
       "output_type": "stream",
       "stream": "stdout",
       "text": [
        "\r",
        " [*************         28%                       ]  717781 of 2563555 complete"
       ]
      },
      {
       "output_type": "stream",
       "stream": "stdout",
       "text": [
        "\r",
        " [**************        29%                       ]  743416 of 2563555 complete"
       ]
      },
      {
       "output_type": "stream",
       "stream": "stdout",
       "text": [
        "\r",
        " [**************        30%                       ]  769051 of 2563555 complete"
       ]
      },
      {
       "output_type": "stream",
       "stream": "stdout",
       "text": [
        "\r",
        " [***************       31%                       ]  794686 of 2563555 complete"
       ]
      },
      {
       "output_type": "stream",
       "stream": "stdout",
       "text": [
        "\r",
        " [***************       32%                       ]  820321 of 2563555 complete"
       ]
      },
      {
       "output_type": "stream",
       "stream": "stdout",
       "text": [
        "\r",
        " [****************      33%                       ]  845956 of 2563555 complete"
       ]
      },
      {
       "output_type": "stream",
       "stream": "stdout",
       "text": [
        "\r",
        " [****************      34%                       ]  871591 of 2563555 complete"
       ]
      },
      {
       "output_type": "stream",
       "stream": "stdout",
       "text": [
        "\r",
        " [*****************     35%                       ]  897226 of 2563555 complete"
       ]
      },
      {
       "output_type": "stream",
       "stream": "stdout",
       "text": [
        "\r",
        " [*****************     36%                       ]  922861 of 2563555 complete"
       ]
      },
      {
       "output_type": "stream",
       "stream": "stdout",
       "text": [
        "\r",
        " [******************    37%                       ]  948496 of 2563555 complete"
       ]
      },
      {
       "output_type": "stream",
       "stream": "stdout",
       "text": [
        "\r",
        " [******************    38%                       ]  974131 of 2563555 complete"
       ]
      },
      {
       "output_type": "stream",
       "stream": "stdout",
       "text": [
        "\r",
        " [*******************   39%                       ]  999766 of 2563555 complete"
       ]
      },
      {
       "output_type": "stream",
       "stream": "stdout",
       "text": [
        "\r",
        " [*******************   40%                       ]  1025401 of 2563555 complete"
       ]
      },
      {
       "output_type": "stream",
       "stream": "stdout",
       "text": [
        "\r",
        " [********************  41%                       ]  1051036 of 2563555 complete"
       ]
      },
      {
       "output_type": "stream",
       "stream": "stdout",
       "text": [
        "\r",
        " [********************  42%                       ]  1076671 of 2563555 complete"
       ]
      },
      {
       "output_type": "stream",
       "stream": "stdout",
       "text": [
        "\r",
        " [********************* 43%                       ]  1102306 of 2563555 complete"
       ]
      },
      {
       "output_type": "stream",
       "stream": "stdout",
       "text": [
        "\r",
        " [********************* 44%                       ]  1127941 of 2563555 complete"
       ]
      },
      {
       "output_type": "stream",
       "stream": "stdout",
       "text": [
        "\r",
        " [**********************45%                       ]  1153576 of 2563555 complete"
       ]
      },
      {
       "output_type": "stream",
       "stream": "stdout",
       "text": [
        "\r",
        " [**********************46%                       ]  1179211 of 2563555 complete"
       ]
      },
      {
       "output_type": "stream",
       "stream": "stdout",
       "text": [
        "\r",
        " [**********************47%                       ]  1204846 of 2563555 complete"
       ]
      },
      {
       "output_type": "stream",
       "stream": "stdout",
       "text": [
        "\r",
        " [**********************48%                       ]  1230481 of 2563555 complete"
       ]
      },
      {
       "output_type": "stream",
       "stream": "stdout",
       "text": [
        "\r",
        " [**********************49%                       ]  1256116 of 2563555 complete"
       ]
      },
      {
       "output_type": "stream",
       "stream": "stdout",
       "text": [
        "\r",
        " [**********************50%                       ]  1281751 of 2563555 complete"
       ]
      },
      {
       "output_type": "stream",
       "stream": "stdout",
       "text": [
        "\r",
        " [**********************51%                       ]  1307386 of 2563555 complete"
       ]
      },
      {
       "output_type": "stream",
       "stream": "stdout",
       "text": [
        "\r",
        " [**********************52%                       ]  1333021 of 2563555 complete"
       ]
      },
      {
       "output_type": "stream",
       "stream": "stdout",
       "text": [
        "\r",
        " [**********************53%                       ]  1358656 of 2563555 complete"
       ]
      },
      {
       "output_type": "stream",
       "stream": "stdout",
       "text": [
        "\r",
        " [**********************54%*                      ]  1384291 of 2563555 complete"
       ]
      },
      {
       "output_type": "stream",
       "stream": "stdout",
       "text": [
        "\r",
        " [**********************55%*                      ]  1409926 of 2563555 complete"
       ]
      },
      {
       "output_type": "stream",
       "stream": "stdout",
       "text": [
        "\r",
        " [**********************56%**                     ]  1435561 of 2563555 complete"
       ]
      },
      {
       "output_type": "stream",
       "stream": "stdout",
       "text": [
        "\r",
        " [**********************57%**                     ]  1461196 of 2563555 complete"
       ]
      },
      {
       "output_type": "stream",
       "stream": "stdout",
       "text": [
        "\r",
        " [**********************58%***                    ]  1486831 of 2563555 complete"
       ]
      },
      {
       "output_type": "stream",
       "stream": "stdout",
       "text": [
        "\r",
        " [**********************59%***                    ]  1512466 of 2563555 complete"
       ]
      },
      {
       "output_type": "stream",
       "stream": "stdout",
       "text": [
        "\r",
        " [**********************60%****                   ]  1538101 of 2563555 complete"
       ]
      },
      {
       "output_type": "stream",
       "stream": "stdout",
       "text": [
        "\r",
        " [**********************61%****                   ]  1563736 of 2563555 complete"
       ]
      },
      {
       "output_type": "stream",
       "stream": "stdout",
       "text": [
        "\r",
        " [**********************62%*****                  ]  1589371 of 2563555 complete"
       ]
      },
      {
       "output_type": "stream",
       "stream": "stdout",
       "text": [
        "\r",
        " [**********************63%*****                  ]  1615006 of 2563555 complete"
       ]
      },
      {
       "output_type": "stream",
       "stream": "stdout",
       "text": [
        "\r",
        " [**********************64%******                 ]  1640641 of 2563555 complete"
       ]
      },
      {
       "output_type": "stream",
       "stream": "stdout",
       "text": [
        "\r",
        " [**********************65%******                 ]  1666276 of 2563555 complete"
       ]
      },
      {
       "output_type": "stream",
       "stream": "stdout",
       "text": [
        "\r",
        " [**********************66%*******                ]  1691911 of 2563555 complete"
       ]
      },
      {
       "output_type": "stream",
       "stream": "stdout",
       "text": [
        "\r",
        " [**********************67%*******                ]  1717546 of 2563555 complete"
       ]
      },
      {
       "output_type": "stream",
       "stream": "stdout",
       "text": [
        "\r",
        " [**********************68%********               ]  1743181 of 2563555 complete"
       ]
      },
      {
       "output_type": "stream",
       "stream": "stdout",
       "text": [
        "\r",
        " [**********************69%********               ]  1768816 of 2563555 complete"
       ]
      },
      {
       "output_type": "stream",
       "stream": "stdout",
       "text": [
        "\r",
        " [**********************70%*********              ]  1794451 of 2563555 complete"
       ]
      },
      {
       "output_type": "stream",
       "stream": "stdout",
       "text": [
        "\r",
        " [**********************71%*********              ]  1820086 of 2563555 complete"
       ]
      },
      {
       "output_type": "stream",
       "stream": "stdout",
       "text": [
        "\r",
        " [**********************72%**********             ]  1845721 of 2563555 complete"
       ]
      },
      {
       "output_type": "stream",
       "stream": "stdout",
       "text": [
        "\r",
        " [**********************73%**********             ]  1871356 of 2563555 complete"
       ]
      },
      {
       "output_type": "stream",
       "stream": "stdout",
       "text": [
        "\r",
        " [**********************74%***********            ]  1896991 of 2563555 complete"
       ]
      },
      {
       "output_type": "stream",
       "stream": "stdout",
       "text": [
        "\r",
        " [**********************75%***********            ]  1922626 of 2563555 complete"
       ]
      },
      {
       "output_type": "stream",
       "stream": "stdout",
       "text": [
        "\r",
        " [**********************76%***********            ]  1948261 of 2563555 complete"
       ]
      },
      {
       "output_type": "stream",
       "stream": "stdout",
       "text": [
        "\r",
        " [**********************77%************           ]  1973896 of 2563555 complete"
       ]
      },
      {
       "output_type": "stream",
       "stream": "stdout",
       "text": [
        "\r",
        " [**********************78%************           ]  1999531 of 2563555 complete"
       ]
      },
      {
       "output_type": "stream",
       "stream": "stdout",
       "text": [
        "\r",
        " [**********************79%*************          ]  2025166 of 2563555 complete"
       ]
      },
      {
       "output_type": "stream",
       "stream": "stdout",
       "text": [
        "\r",
        " [**********************80%*************          ]  2050801 of 2563555 complete"
       ]
      },
      {
       "output_type": "stream",
       "stream": "stdout",
       "text": [
        "\r",
        " [**********************81%**************         ]  2076436 of 2563555 complete"
       ]
      },
      {
       "output_type": "stream",
       "stream": "stdout",
       "text": [
        "\r",
        " [**********************82%**************         ]  2102071 of 2563555 complete"
       ]
      },
      {
       "output_type": "stream",
       "stream": "stdout",
       "text": [
        "\r",
        " [**********************83%***************        ]  2127706 of 2563555 complete"
       ]
      },
      {
       "output_type": "stream",
       "stream": "stdout",
       "text": [
        "\r",
        " [**********************84%***************        ]  2153341 of 2563555 complete"
       ]
      },
      {
       "output_type": "stream",
       "stream": "stdout",
       "text": [
        "\r",
        " [**********************85%****************       ]  2178976 of 2563555 complete"
       ]
      },
      {
       "output_type": "stream",
       "stream": "stdout",
       "text": [
        "\r",
        " [**********************86%****************       ]  2204611 of 2563555 complete"
       ]
      },
      {
       "output_type": "stream",
       "stream": "stdout",
       "text": [
        "\r",
        " [**********************87%*****************      ]  2230246 of 2563555 complete"
       ]
      },
      {
       "output_type": "stream",
       "stream": "stdout",
       "text": [
        "\r",
        " [**********************88%*****************      ]  2255881 of 2563555 complete"
       ]
      },
      {
       "output_type": "stream",
       "stream": "stdout",
       "text": [
        "\r",
        " [**********************89%******************     ]  2281516 of 2563555 complete"
       ]
      },
      {
       "output_type": "stream",
       "stream": "stdout",
       "text": [
        "\r",
        " [**********************90%******************     ]  2307151 of 2563555 complete"
       ]
      },
      {
       "output_type": "stream",
       "stream": "stdout",
       "text": [
        "\r",
        " [**********************91%*******************    ]  2332786 of 2563555 complete"
       ]
      },
      {
       "output_type": "stream",
       "stream": "stdout",
       "text": [
        "\r",
        " [**********************92%*******************    ]  2358421 of 2563555 complete"
       ]
      },
      {
       "output_type": "stream",
       "stream": "stdout",
       "text": [
        "\r",
        " [**********************93%********************   ]  2384056 of 2563555 complete"
       ]
      },
      {
       "output_type": "stream",
       "stream": "stdout",
       "text": [
        "\r",
        " [**********************94%********************   ]  2409691 of 2563555 complete"
       ]
      },
      {
       "output_type": "stream",
       "stream": "stdout",
       "text": [
        "\r",
        " [**********************95%*********************  ]  2435326 of 2563555 complete"
       ]
      },
      {
       "output_type": "stream",
       "stream": "stdout",
       "text": [
        "\r",
        " [**********************96%*********************  ]  2460961 of 2563555 complete"
       ]
      },
      {
       "output_type": "stream",
       "stream": "stdout",
       "text": [
        "\r",
        " [**********************97%********************** ]  2486596 of 2563555 complete"
       ]
      },
      {
       "output_type": "stream",
       "stream": "stdout",
       "text": [
        "\r",
        " [**********************98%********************** ]  2512231 of 2563555 complete"
       ]
      },
      {
       "output_type": "stream",
       "stream": "stdout",
       "text": [
        "\r",
        " [**********************99%***********************]  2537866 of 2563555 complete"
       ]
      },
      {
       "output_type": "stream",
       "stream": "stderr",
       "text": [
        "TFile::Append:0: RuntimeWarning: Replacing existing TH1: RSA_PVrefit (Potential memory leak).\n",
        "TFile::Append:0: RuntimeWarning: Replacing existing TH1: RSA_BS (Potential memory leak).\n",
        "TFile::Append:0: RuntimeWarning: Replacing existing TH1: Track_PVrefit (Potential memory leak).\n",
        "TFile::Append:0: RuntimeWarning: Replacing existing TH1: Track_BS (Potential memory leak).\n",
        "TFile::Append:0: RuntimeWarning: Replacing existing TH1: d0VsEtaPhi_PVrefit_AllCuts (Potential memory leak).\n",
        "TFile::Append:0: RuntimeWarning: Replacing existing TH1: d0SigVsEtaPhi_PVrefit_AllCuts (Potential memory leak).\n",
        "TFile::Append:0: RuntimeWarning: Replacing existing TH1: d0VsCosine (Potential memory leak).\n",
        "TFile::Append:0: RuntimeWarning: Replacing existing TH1: d0VsCosine (Potential memory leak).\n",
        "TFile::Append:0: RuntimeWarning: Replacing existing TH1: hLxy_PV (Potential memory leak).\n",
        "TFile::Append:0: RuntimeWarning: Replacing existing TH1: hLxySig_PV (Potential memory leak).\n",
        "TFile::Append:0: RuntimeWarning: Replacing existing TH1: hLxyVsGenLxy_PV (Potential memory leak).\n",
        "TFile::Append:0: RuntimeWarning: Replacing existing TH1: hLxySigVsLxy_PV (Potential memory leak).\n",
        "TFile::Append:0: RuntimeWarning: Replacing existing TH1: hLxy_BS (Potential memory leak).\n",
        "TFile::Append:0: RuntimeWarning: Replacing existing TH1: hLxySig_BS (Potential memory leak).\n",
        "TFile::Append:0: RuntimeWarning: Replacing existing TH1: hLxyVsGenLxy_BS (Potential memory leak).\n",
        "TFile::Append:0: RuntimeWarning: Replacing existing TH1: hLxySigVsLxy_BS (Potential memory leak).\n"
       ]
      }
     ],
     "prompt_number": 20
    },
    {
     "cell_type": "code",
     "collapsed": false,
     "input": [
      "print \"total events =\", totalEvents\n",
      "print \"triggered events =\", triggeredEvents\n",
      "print \"selected events =\", selectedEvents\n",
      "print \"selected events complementary to track-based analysis =\", selectedEventsAndComplementary\n",
      "print \"selected events, complementary, and in signal region =\", selectedEventsAndComplementaryAndSignalRegion"
     ],
     "language": "python",
     "metadata": {},
     "outputs": [
      {
       "output_type": "stream",
       "stream": "stdout",
       "text": [
        "total events = 99999\n",
        "triggered events = 99999\n",
        "selected events = 25092\n",
        "selected events complementary to track-based analysis = 25083\n",
        "selected events, complementary, and in signal region = 11882\n"
       ]
      }
     ],
     "prompt_number": 35
    },
    {
     "cell_type": "markdown",
     "metadata": {},
     "source": [
      "Initial numbers:\n",
      "\n",
      "- total events = 10264\n",
      "- triggered events = 7312\n",
      "\n",
      "Selected events:\n",
      "\n",
      "- dimuon cuts only = 6149\n",
      "- adding trigger matching = 5723\n",
      "- adding pt cut = 5712\n",
      "- adding minStationsWithValidHits cut = 5561\n",
      "- adding isolation cut at 0.1 = 4286\n",
      "- adding isolation cut at 0.05 = 4027\n",
      "- with isolation 0.1 and adding complementarity = 3210\n",
      "- adding requirement to be in signal region = 2856\n",
      "\n",
      "**The isolation cut could be more efficient: recompute isolation accounting for vertex distance.**\n",
      "\n",
      "Selected in the signal region:\n"
     ]
    },
    {
     "cell_type": "code",
     "collapsed": false,
     "input": [
      "def draw_plot(h1, h2):\n",
      "    c = ROOT.TCanvas()\n",
      "    c.SetLogy(True)\n",
      "    h1.Draw()\n",
      "    h1.SetXTitle(\"d_{0}/#sigma\")\n",
      "    h1.GetYaxis().SetRangeUser(0.2, 1E8)\n",
      "    h1.SetLineColor(2)\n",
      "    h2.Draw(\"same\")\n",
      "    h2.SetLineColor(4)\n",
      "    leg = TLegend(0.2,0.7,0.48,0.9)\n",
      "    leg.AddEntry(h1, \"PVrefit\", \"l\")\n",
      "    leg.AddEntry(h2, \"BS\", \"l\")\n",
      "    leg.Draw()\n",
      "    leg.SetFillColor(0)\n",
      "    leg.SetLineColor(0)\n",
      "    return c, leg"
     ],
     "language": "python",
     "metadata": {},
     "outputs": [],
     "prompt_number": 5
    },
    {
     "cell_type": "code",
     "collapsed": false,
     "input": [
      "c_Track_PVrefit = draw_plot(h_Track_PVrefit, h_Track_BS)\n",
      "c_Track_PVrefit[0]"
     ],
     "language": "python",
     "metadata": {},
     "outputs": [
      {
       "metadata": {},
       "output_type": "pyout",
       "png": "[encoded data removed]",
       "prompt_number": 6,
       "text": [
        "<ROOT.TCanvas object (\"c1\") at 0x7ff2aa707f00>"
       ]
      }
     ],
     "prompt_number": 6
    },
    {
     "cell_type": "code",
     "collapsed": false,
     "input": [
      "c_RSA_PVrefit = draw_plot(h_RSA_PVrefit, h_RSA_BS)\n",
      "c_RSA_PVrefit[0]"
     ],
     "language": "python",
     "metadata": {},
     "outputs": [
      {
       "metadata": {},
       "output_type": "pyout",
       "png": "[encoded data removed]",
       "prompt_number": 7,
       "text": [
        "<ROOT.TCanvas object (\"c1_n2\") at 0x7ff2acaaf050>"
       ]
      }
     ],
     "prompt_number": 7
    },
    {
     "cell_type": "code",
     "collapsed": false,
     "input": [
      "def compute_efficiency(cut):\n",
      "    bin_min = h_RSA_BS.FindBin(cut)\n",
      "    bin_max = h_RSA_BS.FindBin(100000)\n",
      "    print \"Track PVrefit : \", h_Track_PVrefit.Integral(bin_min, bin_max)\n",
      "    print \"Track BS ---- : \", h_Track_BS.Integral(bin_min, bin_max)\n",
      "    print \"RSA PVrefit - : \", h_RSA_PVrefit.Integral(bin_min, bin_max)\n",
      "    print \"RSA BS ------ : \", h_RSA_BS.Integral(bin_min, bin_max)\n",
      "    \n",
      "compute_efficiency(12)"
     ],
     "language": "python",
     "metadata": {},
     "outputs": [
      {
       "output_type": "stream",
       "stream": "stdout",
       "text": [
        "Track PVrefit :  555.0\n",
        "Track BS ---- :  555.0\n",
        "RSA PVrefit - :  27.0\n",
        "RSA BS ------ :  70.0\n"
       ]
      }
     ],
     "prompt_number": 8
    },
    {
     "cell_type": "markdown",
     "metadata": {},
     "source": [
      "For Signal MC (1000/350):\n",
      "\n",
      "- PVrefit_signWrtX --------- :  1269.0\n",
      "- BS ----------------------- :  1446.0"
     ]
    },
    {
     "cell_type": "code",
     "collapsed": false,
     "input": [
      "cLxy = ROOT.TCanvas(\"cLxy\", \"cLxy\", 1000, 1000)\n",
      "cLxy.Divide(2,2)\n",
      "cLxy.cd(1)\n",
      "hLxy_PV.Draw()\n",
      "hLxy_BS.Draw(\"same\")\n",
      "hLxy_BS.SetLineColor(2)\n",
      "hLxy_PV.SetXTitle(\"L_{xy} [cm]\")\n",
      "cLxy.cd(2)\n",
      "hLxySig_PV.Draw()\n",
      "hLxySig_BS.Draw(\"same\")\n",
      "hLxySig_PV.SetXTitle(\"L_{xy} significance\")\n",
      "hLxySig_BS.SetLineColor(2)\n",
      "cLxy.cd(3)\n",
      "hLxyVsGenLxy_PV.Draw()\n",
      "hLxyVsGenLxy_PV.SetXTitle(\"L_{xy} [cm]\")\n",
      "hLxyVsGenLxy_PV.SetYTitle(\"generator L_{xy}\")\n",
      "cLxy.cd(4)\n",
      "hLxySigVsLxy_PV.Draw()\n",
      "hLxySigVsLxy_PV.SetXTitle(\"L_{xy} significance\")\n",
      "hLxySigVsLxy_PV.SetYTitle(\"L_{xy} [cm]\")\n",
      "cLxy"
     ],
     "language": "python",
     "metadata": {},
     "outputs": [
      {
       "metadata": {},
       "output_type": "pyout",
       "png": "[encoded data removed]",
       "prompt_number": 9,
       "text": [
        "<ROOT.TCanvas object (\"cLxy\") at 0x7ff2ae8434d0>"
       ]
      }
     ],
     "prompt_number": 9
    },
    {
     "cell_type": "heading",
     "level": 3,
     "metadata": {},
     "source": [
      "Confirm the distribution for passing track-based candidates"
     ]
    },
    {
     "cell_type": "code",
     "collapsed": false,
     "input": [
      "hTrack_D0Sig = TH1F(\"hTrack_D0Sig\", \"hTrack_D0Sig\", 40, 0, 20)\n",
      "\n",
      "num = 0\n",
      "for event in tree:\n",
      "\n",
      "    # num+=1\n",
      "    # if num == 1000:\n",
      "    #     break\n",
      "\n",
      "\n",
      "    cands = event.candidates\n",
      "    if signalMC and not is_selected_signal(cands, signalPdgIds): continue\n",
      "    if not signalMC or decay_to_chosen_pdg_id(cands, \"ll1\", chosenPdgId) or decay_to_chosen_pdg_id(cands, \"ll2\", chosenPdgId):\n",
      "        if signalMC and not signal_trigger_fired(event.triggers, signalTrigger): continue\n",
      "\n",
      "        passing_track_candidates = passing_track_based_candidates(cands)\n",
      "        for cand in passing_track_candidates:\n",
      "            minD0Sig = min(cand[0].leptonD0SignificanceL_PV_includingPVError,\n",
      "                           cand[0].leptonD0SignificanceH_PV_includingPVError)\n",
      "            fill_overflow(hTrack_D0Sig, minD0Sig)"
     ],
     "language": "python",
     "metadata": {},
     "outputs": [],
     "prompt_number": 10
    },
    {
     "cell_type": "code",
     "collapsed": false,
     "input": [
      "cTrack = ROOT.TCanvas()\n",
      "hTrack_D0Sig.Draw()\n",
      "hTrack_D0Sig.GetYaxis().SetRangeUser(0.2, 1E8)\n",
      "cTrack.SetLogy(True)\n",
      "cTrack"
     ],
     "language": "python",
     "metadata": {},
     "outputs": [
      {
       "metadata": {},
       "output_type": "pyout",
       "png": "[encoded data removed]",
       "prompt_number": 11,
       "text": [
        "<ROOT.TCanvas object (\"c1_n4\") at 0x7ff2aba8e640>"
       ]
      }
     ],
     "prompt_number": 11
    },
    {
     "cell_type": "heading",
     "level": 3,
     "metadata": {},
     "source": [
      "Check d0/sigma distribution vs eta and phi"
     ]
    },
    {
     "cell_type": "code",
     "collapsed": false,
     "input": [
      "d0VsEtaPhi_PVrefit = ROOT.TProfile2D(\"d0VsEtaPhi_PVrefit\", \"d0VsEtaPhi_PVrefit\", 24, -2.4, 2.4, 32, -3.2, 3.2, 0, 100)\n",
      "d0SigVsEtaPhi_PVrefit = ROOT.TProfile2D(\"d0SigVsEtaPhi_PVrefit\", \"d0SigVsEtaPhi_PVrefit\", 24, -2.4, 2.4, 32, -3.2, 3.2, 0, 1000)\n",
      "\n",
      "d0VsEtaPhi_PVrefit_Cuts = ROOT.TProfile2D(\"d0VsEtaPhi_PVrefit_Cuts\", \"d0VsEtaPhi_PVrefit_Cuts\", 24, -2.4, 2.4, 32, -3.2, 3.2, 0, 100)\n",
      "d0SigVsEtaPhi_PVrefit_Cuts = ROOT.TProfile2D(\"d0SigVsEtaPhi_PVrefit_Cuts\", \"d0SigVsEtaPhi_PVrefit_Cuts\", 24, -2.4, 2.4, 32, -3.2, 3.2, 0, 1000)\n",
      "\n",
      "num = 0\n",
      "for event in tree:\n",
      "    num+=1\n",
      "    if num == 50000:\n",
      "        break\n",
      "    if signalMC and not signal_trigger_fired(event.triggers, signalTrigger): continue\n",
      "    cands = event.candidates\n",
      "    for lepton in cands.leptons_:\n",
      "        if not lepton.isStandAloneMuon: continue\n",
      "        d0SigVsEtaPhi_PVrefit.Fill(lepton.eta, lepton.phi, abs(lepton.d0Significance_PV_includingPVError))\n",
      "        d0VsEtaPhi_PVrefit.Fill(lepton.eta, lepton.phi, lepton.d0_PV)\n",
      "\n",
      "        if pass_muon_cuts(lepton, ptCut, etaCut, isoCut, minStationsWithValidHits):\n",
      "            d0SigVsEtaPhi_PVrefit_Cuts.Fill(lepton.eta, lepton.phi, abs(lepton.d0Significance_PV_includingPVError))\n",
      "            d0VsEtaPhi_PVrefit_Cuts.Fill(lepton.eta, lepton.phi, lepton.d0_PV)\n",
      "\n",
      "        \n",
      "# pass_muon_cuts(leptonL, ptCut, etaCut, isoCut, minStationsWithValidHits)"
     ],
     "language": "python",
     "metadata": {},
     "outputs": [
      {
       "output_type": "stream",
       "stream": "stderr",
       "text": [
        "TFile::Append:0: RuntimeWarning: Replacing existing TH1: d0VsEtaPhi_PVrefit (Potential memory leak).\n",
        "TFile::Append:0: RuntimeWarning: Replacing existing TH1: d0SigVsEtaPhi_PVrefit (Potential memory leak).\n",
        "TFile::Append:0: RuntimeWarning: Replacing existing TH1: d0VsEtaPhi_PVrefit_Cuts (Potential memory leak).\n",
        "TFile::Append:0: RuntimeWarning: Replacing existing TH1: d0SigVsEtaPhi_PVrefit_Cuts (Potential memory leak).\n"
       ]
      }
     ],
     "prompt_number": 8
    },
    {
     "cell_type": "code",
     "collapsed": false,
     "input": [
      "c_d0SigVsEtaPhi_PVrefit = ROOT.TCanvas(\"c_d0SigVsEtaPhi_PVrefit\", \"c_d0SigVsEtaPhi_PVrefit\", 1200, 1800)\n",
      "c_d0SigVsEtaPhi_PVrefit.Divide(2,4)\n",
      "c_d0SigVsEtaPhi_PVrefit.cd(1)\n",
      "d0VsEtaPhi_PVrefit.Draw(\"COLZ\")\n",
      "c_d0SigVsEtaPhi_PVrefit.cd(2)\n",
      "d0SigVsEtaPhi_PVrefit.Draw(\"COLZ\")\n",
      "# After muon cuts\n",
      "c_d0SigVsEtaPhi_PVrefit.cd(3)\n",
      "d0VsEtaPhi_PVrefit_Cuts.Draw(\"COLZ\")\n",
      "c_d0SigVsEtaPhi_PVrefit.cd(4)\n",
      "d0SigVsEtaPhi_PVrefit_Cuts.Draw(\"COLZ\")\n",
      "# After all cuts (without the d0 significance cut and without signal region cut)\n",
      "c_d0SigVsEtaPhi_PVrefit.cd(5)\n",
      "d0VsEtaPhi_PVrefit_AllCuts.Draw(\"COLZ\")\n",
      "c_d0SigVsEtaPhi_PVrefit.cd(6)\n",
      "d0SigVsEtaPhi_PVrefit_AllCuts.Draw(\"COLZ\")\n",
      "c_d0SigVsEtaPhi_PVrefit.SaveAs(\"d0check.root\")\n",
      "\n",
      "c_d0SigVsEtaPhi_PVrefit.SaveAs(\"d0check.root\")\n",
      "c_d0SigVsEtaPhi_PVrefit"
     ],
     "language": "python",
     "metadata": {},
     "outputs": [
      {
       "output_type": "stream",
       "stream": "stderr",
       "text": [
        "TCanvas::Constructor:0: RuntimeWarning: Deleting canvas with same name: c_d0SigVsEtaPhi_PVrefit\n"
       ]
      },
      {
       "metadata": {},
       "output_type": "pyout",
       "png": "[encoded data removed]",
       "prompt_number": 21,
       "text": [
        "<ROOT.TCanvas object (\"c_d0SigVsEtaPhi_PVrefit\") at 0x7ff678a27950>"
       ]
      }
     ],
     "prompt_number": 21
    },
    {
     "cell_type": "code",
     "collapsed": false,
     "input": [
      "c1 = ROOT.TCanvas(\"c1\", \"c1\", 800, 400)\n",
      "c1.Divide(2,1)\n",
      "c1.cd(1)\n",
      "d0VsCosine.Draw()\n",
      "c1.cd(2)\n",
      "d0SigVsCosine.Draw()\n",
      "c1"
     ],
     "language": "python",
     "metadata": {},
     "outputs": [
      {
       "output_type": "stream",
       "stream": "stderr",
       "text": [
        "TCanvas::Constructor:0: RuntimeWarning: Deleting canvas with same name: c1\n"
       ]
      },
      {
       "metadata": {},
       "output_type": "pyout",
       "png": "[encoded data removed]",
       "prompt_number": 22,
       "text": [
        "<ROOT.TCanvas object (\"c1\") at 0x7ff678fa1290>"
       ]
      }
     ],
     "prompt_number": 22
    },
    {
     "cell_type": "code",
     "collapsed": false,
     "input": [],
     "language": "python",
     "metadata": {},
     "outputs": []
    }
   ],
   "metadata": {}
  }
 ]
}