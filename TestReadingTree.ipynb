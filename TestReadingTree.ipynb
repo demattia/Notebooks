{
 "metadata": {
  "name": "",
  "signature": "sha256:41900f321128c86bd95d242f0c761b7fd8ca82cddf14385514ff582901a83cd6"
 },
 "nbformat": 3,
 "nbformat_minor": 0,
 "worksheets": [
  {
   "cells": [
    {
     "cell_type": "code",
     "collapsed": false,
     "input": [
      "import ROOT\n",
      "import rootnotes\n",
      "import rootprint\n",
      "from ROOT import TTree, TFile, AddressOf, gROOT"
     ],
     "language": "python",
     "metadata": {},
     "outputs": [],
     "prompt_number": 1
    },
    {
     "cell_type": "code",
     "collapsed": false,
     "input": [
      "inputFile = ROOT.TFile(\"/home/demattia/cmslpc/eos/uscms/store/user/lpcdve/noreplica/Cosmics/Trees_MC/cosmicMuons1Leg_MC_SA.root\")\n"
     ],
     "language": "python",
     "metadata": {},
     "outputs": [
      {
       "output_type": "stream",
       "stream": "stderr",
       "text": [
        "TClass::TClass:0: RuntimeWarning: no dictionary for class Track is available\n",
        "TClass::TClass:0: RuntimeWarning: no dictionary for class GenParticle is available\n"
       ]
      }
     ],
     "prompt_number": 4
    },
    {
     "cell_type": "code",
     "collapsed": false,
     "input": [
      "# %%rootprint\n",
      "tree = inputFile.Get(\"T\")"
     ],
     "language": "python",
     "metadata": {},
     "outputs": [],
     "prompt_number": 5
    },
    {
     "cell_type": "code",
     "collapsed": false,
     "input": [
      "%%rootprint\n",
      "tree.Print()"
     ],
     "language": "python",
     "metadata": {},
     "outputs": [
      {
       "output_type": "stream",
       "stream": "stdout",
       "text": [
        "******************************************************************************\n",
        "*Tree    :T         : MuonsTree                                              *\n",
        "*Entries : 10889500 : Total =      9386281769 bytes  File  Size = 5867801778 *\n",
        "*        :          : Tree compression factor =   1.60                       *\n",
        "******************************************************************************\n",
        "*Br    0 :event     : event/i                                                *\n",
        "*Entries : 10889500 : Total  Size=   43736205 bytes  File Size  =   24873169 *\n",
        "*Baskets :     1999 : Basket Size=      32000 bytes  Compression=   1.76     *\n",
        "*............................................................................*\n",
        "*Br    1 :run       : run/i                                                  *\n",
        "*Entries : 10889500 : Total  Size=   43732199 bytes  File Size  =     417688 *\n",
        "*Baskets :     1999 : Basket Size=      32000 bytes  Compression= 104.60     *\n",
        "*............................................................................*\n",
        "*Br    2 :tracks    : vector<Track>                                          *\n",
        "*Entries :10889500 : Total  Size= 3400925813 bytes  File Size  = 2270795954 *\n",
        "*Baskets :   108502 : Basket Size=      32000 bytes  Compression=   1.50     *\n",
        "*............................................................................*\n",
        "*Br    3 :muons     : vector<Track>                                          *\n",
        "*Entries :10889500 : Total  Size= 4477472266 bytes  File Size  = 2931394892 *\n",
        "*Baskets :   142634 : Basket Size=      32000 bytes  Compression=   1.53     *\n",
        "*............................................................................*\n",
        "*Br    4 :genParticles : vector<GenParticle>                                 *\n",
        "*Entries : 10889500 : Total  Size= 1420414750 bytes  File Size  =  637684907 *\n",
        "*Baskets :    45956 : Basket Size=      32000 bytes  Compression=   2.23     *\n",
        "*............................................................................*\n",
        "\n"
       ]
      }
     ],
     "prompt_number": 6
    },
    {
     "cell_type": "code",
     "collapsed": false,
     "input": [
      "for event in tree:\n",
      "    print event.event\n",
      "    print event.muons\n",
      "    #    print muon\n",
      "    break"
     ],
     "language": "python",
     "metadata": {},
     "outputs": [
      {
       "output_type": "stream",
       "stream": "stdout",
       "text": [
        "724401084\n",
        "<ROOT.vector<Track> object at 0x49d9d10>"
       ]
      },
      {
       "output_type": "stream",
       "stream": "stdout",
       "text": [
        "\n"
       ]
      }
     ],
     "prompt_number": 7
    },
    {
     "cell_type": "code",
     "collapsed": false,
     "input": [
      "gROOT.ProcessLine(\\\n",
      "\"class TreeTrack : public TObject\\\n",
      "{\\\n",
      "public:\\\n",
      "  double pt, ptError, eta, etaError, phi, phiError;\\\n",
      "  int charge;\\\n",
      "  double dxy, dxyError, dz, dzError;\\\n",
      "  double vx, vy, vz;\\\n",
      "  double chi2, normalizedChi2;\\\n",
      "  double referencePointRadius, referencePointZ;\\\n",
      "  int nHits, nValidHits, nValidPlusInvalidHits;\\\n",
      "  double innermostHitRadius, innermostHitZ;\\\n",
      "\\\n",
      "  double genPt, genEta, genPhi;\\\n",
      "  int genCharge;\\\n",
      "  double genDxy, genDxyError, genDz, genDzError;\\\n",
      "  double genVx, genVy, genVz;\\\n",
      "\\\n",
      "};\")"
     ],
     "language": "python",
     "metadata": {},
     "outputs": [
      {
       "metadata": {},
       "output_type": "pyout",
       "prompt_number": 2,
       "text": [
        "0L"
       ]
      }
     ],
     "prompt_number": 2
    },
    {
     "cell_type": "code",
     "collapsed": false,
     "input": [
      "from ROOT import TreeTrack"
     ],
     "language": "python",
     "metadata": {},
     "outputs": [],
     "prompt_number": 3
    },
    {
     "cell_type": "code",
     "collapsed": false,
     "input": [
      "a = TreeTrack()"
     ],
     "language": "python",
     "metadata": {},
     "outputs": [],
     "prompt_number": 24
    },
    {
     "cell_type": "code",
     "collapsed": false,
     "input": [
      "a"
     ],
     "language": "python",
     "metadata": {},
     "outputs": [
      {
       "metadata": {},
       "output_type": "pyout",
       "prompt_number": 25,
       "text": [
        "<ROOT.TreeTrack object at 0x3209a90>"
       ]
      }
     ],
     "prompt_number": 25
    },
    {
     "cell_type": "code",
     "collapsed": false,
     "input": [
      "vec = ROOT.std.vector(ROOT.TreeTrack)()\n",
      "tree.SetBranchAddress(\"muons\",vec)"
     ],
     "language": "python",
     "metadata": {},
     "outputs": [
      {
       "ename": "TypeError",
       "evalue": "none of the 4 overloaded methods succeeded. Full details:\n  (file \"_vector.h\", line 88) Function start(0) is not defined in current scope \n  vector<TreeTrack>::vector<TreeTrack>(vector<TreeTrack>::size_type n, const TreeTrack& value = TreeTrack()) =>\n    takes at least 1 arguments (0 given)\n  vector<TreeTrack>::vector<TreeTrack>(const vector<TreeTrack>& x) =>\n    takes at least 1 arguments (0 given)\n  vector<TreeTrack>::vector<TreeTrack>(vector<TreeTrack>::const_iterator first, vector<TreeTrack>::const_iterator last) =>\n    takes at least 2 arguments (0 given)",
       "output_type": "pyerr",
       "traceback": [
        "\u001b[1;31m---------------------------------------------------------------------------\u001b[0m\n\u001b[1;31mTypeError\u001b[0m                                 Traceback (most recent call last)",
        "\u001b[1;32m<ipython-input-9-1fc1204db6e4>\u001b[0m in \u001b[0;36m<module>\u001b[1;34m()\u001b[0m\n\u001b[1;32m----> 1\u001b[1;33m \u001b[0mvec\u001b[0m \u001b[1;33m=\u001b[0m \u001b[0mROOT\u001b[0m\u001b[1;33m.\u001b[0m\u001b[0mstd\u001b[0m\u001b[1;33m.\u001b[0m\u001b[0mvector\u001b[0m\u001b[1;33m(\u001b[0m\u001b[0mROOT\u001b[0m\u001b[1;33m.\u001b[0m\u001b[0mTreeTrack\u001b[0m\u001b[1;33m)\u001b[0m\u001b[1;33m(\u001b[0m\u001b[1;33m)\u001b[0m\u001b[1;33m\u001b[0m\u001b[0m\n\u001b[0m\u001b[0;32m      2\u001b[0m \u001b[0mtree\u001b[0m\u001b[1;33m.\u001b[0m\u001b[0mSetBranchAddress\u001b[0m\u001b[1;33m(\u001b[0m\u001b[1;34m\"muons\"\u001b[0m\u001b[1;33m,\u001b[0m\u001b[0mvec\u001b[0m\u001b[1;33m)\u001b[0m\u001b[1;33m\u001b[0m\u001b[0m\n",
        "\u001b[1;31mTypeError\u001b[0m: none of the 4 overloaded methods succeeded. Full details:\n  (file \"_vector.h\", line 88) Function start(0) is not defined in current scope \n  vector<TreeTrack>::vector<TreeTrack>(vector<TreeTrack>::size_type n, const TreeTrack& value = TreeTrack()) =>\n    takes at least 1 arguments (0 given)\n  vector<TreeTrack>::vector<TreeTrack>(const vector<TreeTrack>& x) =>\n    takes at least 1 arguments (0 given)\n  vector<TreeTrack>::vector<TreeTrack>(vector<TreeTrack>::const_iterator first, vector<TreeTrack>::const_iterator last) =>\n    takes at least 2 arguments (0 given)"
       ]
      }
     ],
     "prompt_number": 9
    },
    {
     "cell_type": "code",
     "collapsed": false,
     "input": [
      "N = tree.GetEntries()"
     ],
     "language": "python",
     "metadata": {},
     "outputs": [],
     "prompt_number": 33
    },
    {
     "cell_type": "code",
     "collapsed": false,
     "input": [
      "N"
     ],
     "language": "python",
     "metadata": {},
     "outputs": [
      {
       "metadata": {},
       "output_type": "pyout",
       "prompt_number": 34,
       "text": [
        "10889500L"
       ]
      }
     ],
     "prompt_number": 34
    },
    {
     "cell_type": "code",
     "collapsed": false,
     "input": [
      "for i in range(2):\n",
      "    vec.clear()\n",
      "    tree.GetEntry(i)\n",
      "    print vec"
     ],
     "language": "python",
     "metadata": {},
     "outputs": [
      {
       "ename": "SystemError",
       "evalue": "problem in C++; program state has been reset",
       "output_type": "pyerr",
       "traceback": [
        "\u001b[1;31m---------------------------------------------------------------------------\u001b[0m\n\u001b[1;31mSystemError\u001b[0m                               Traceback (most recent call last)",
        "\u001b[1;32m<ipython-input-36-f24f01cc940c>\u001b[0m in \u001b[0;36m<module>\u001b[1;34m()\u001b[0m\n\u001b[0;32m      1\u001b[0m \u001b[1;32mfor\u001b[0m \u001b[0mi\u001b[0m \u001b[1;32min\u001b[0m \u001b[0mrange\u001b[0m\u001b[1;33m(\u001b[0m\u001b[1;36m2\u001b[0m\u001b[1;33m)\u001b[0m\u001b[1;33m:\u001b[0m\u001b[1;33m\u001b[0m\u001b[0m\n\u001b[0;32m      2\u001b[0m     \u001b[0mvec\u001b[0m\u001b[1;33m.\u001b[0m\u001b[0mclear\u001b[0m\u001b[1;33m(\u001b[0m\u001b[1;33m)\u001b[0m\u001b[1;33m\u001b[0m\u001b[0m\n\u001b[1;32m----> 3\u001b[1;33m     \u001b[0mtree\u001b[0m\u001b[1;33m.\u001b[0m\u001b[0mGetEntry\u001b[0m\u001b[1;33m(\u001b[0m\u001b[0mi\u001b[0m\u001b[1;33m)\u001b[0m\u001b[1;33m\u001b[0m\u001b[0m\n\u001b[0m\u001b[0;32m      4\u001b[0m     \u001b[1;32mprint\u001b[0m \u001b[0mvec\u001b[0m\u001b[1;33m\u001b[0m\u001b[0m\n",
        "\u001b[1;31mSystemError\u001b[0m: problem in C++; program state has been reset"
       ]
      }
     ],
     "prompt_number": 36
    },
    {
     "cell_type": "code",
     "collapsed": false,
     "input": [],
     "language": "python",
     "metadata": {},
     "outputs": []
    }
   ],
   "metadata": {}
  }
 ]
}