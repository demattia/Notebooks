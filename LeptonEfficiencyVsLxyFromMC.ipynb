{
 "metadata": {
  "name": "",
<<<<<<< HEAD
  "signature": "sha256:1f942d74da1bcda92b1e2438a052ed6e8683143b5e187039dc47423d1704d2ff"
=======
  "signature": "sha256:845039a2a66794e7fff50ad0fe4bff720515b23a63190fe3024727ab04873f75"
>>>>>>> 906a95bcc56d3ed7061b2df61d04773443a33409
 },
 "nbformat": 3,
 "nbformat_minor": 0,
 "worksheets": [
  {
   "cells": [
    {
     "cell_type": "heading",
     "level": 1,
     "metadata": {},
     "source": [
      "Lepton Reconstruction Efficiency vs Lxy from MC"
     ]
    },
    {
     "cell_type": "markdown",
     "metadata": {},
     "source": [
      "We compute the lepton (e or $\\mu$) reconstruction efficiency as a function of the decay length for MC. We use the MC sample: HTo2LongLivedTo4F_MH1000_MFF350_CTau35To3500\n",
      "\n",
      "We select generated muons or electrons coming from long lived decays (we use only the middle lifetime) that pass the acceptance:\n",
      "\n",
      "- $p_T > 26$ GeV/c for muons\n",
      "- $p_T > 40(25)$ GeV/c for the first (second) electron\n",
      "- $\\eta < 2.0$\n",
      "- $L_{xy} < 50$ cm\n",
      "\n",
      "and we define the **lepton reconstruction efficiency** as the fraction of times a generated lepton has a matching reconstructed lepton.\n",
      "\n",
      "We also compute a **dilepton reconstruction efficiency** defined as the fraction of times a generated dilepton decaying to the chosen lepton species is found to have a matching reconstructed dilepton candidate of the same species."
     ]
    },
    {
     "cell_type": "code",
     "collapsed": false,
     "input": [
      "import ROOT\n",
      "from ROOT import TH1F, TEfficiency, TLegend\n",
      "import rootnotes\n",
      "import rootprint\n",
      "\n",
      "ROOT.gROOT.LoadMacro(\"interface/Loader.C+\")\n",
      "\n",
      "# Bins in the histograms\n",
      "nBins = 25"
     ],
     "language": "python",
     "metadata": {
      "slideshow": {
       "slide_type": "skip"
      }
     },
     "outputs": [],
     "prompt_number": 1
    },
    {
     "cell_type": "code",
     "collapsed": false,
     "input": [
      "inputFile = ROOT.TFile(\"/Users/demattia/HTo4F/histograms.root\", \"READ\")"
     ],
     "language": "python",
     "metadata": {},
     "outputs": [],
     "prompt_number": 2
    },
    {
     "cell_type": "markdown",
     "metadata": {},
     "source": [
      "The following function checks if the lepton matches the type wanted and if it comes from a long lived particle.\n",
      "The second requirement comes from the fact that we only know how many leptons of the given type were produced from the decay of long lived particles, not the total number of leptons produced in the collision."
     ]
    },
    {
     "cell_type": "code",
     "collapsed": false,
     "input": [
      "def isMatchedLepton(lepton, chosenPdgId, signalPdgIds):\n",
      "    if lepton.isCentralTrack and abs(lepton.genPdgId) == chosenPdgId:\n",
      "        for signalPdgId in signalPdgIds:\n",
      "            if lepton.genSignalOriginPdgId == signalPdgId:\n",
      "                return True\n",
      "    return False"
     ],
     "language": "python",
     "metadata": {},
     "outputs": [],
     "prompt_number": 3
    },
    {
     "cell_type": "code",
     "collapsed": false,
     "input": [
      "def isSelectedSignal(event, signalPdgIds):\n",
      "    selectedSignal1 = False\n",
      "    selectedSignal2 = False\n",
      "    for signalPdgId in signalPdgIds:\n",
      "        if event.ll1_motherPdgId == signalPdgId:\n",
      "            selectedSignal1 = True\n",
      "        if event.ll2_motherPdgId == signalPdgId:\n",
      "            selectedSignal2 = True\n",
      "    if selectedSignal1 == False or selectedSignal2 == False:\n",
      "        return False\n",
      "    return True"
     ],
     "language": "python",
     "metadata": {},
     "outputs": [],
     "prompt_number": 4
    },
    {
     "cell_type": "markdown",
     "metadata": {},
     "source": [
      "This function fills the numerator and denominator histograms for computing the reconstruction efficiency for leptons within the acceptance as a function of transverse decay length."
     ]
    },
    {
     "cell_type": "raw",
     "metadata": {},
     "source": [
      "def computeLeptonEff(event, leptonEffNum, leptonEffDen, chosenPdgId, signalPdgIds, ptCut, etCut, etaCut, LxyCut):\n",
      "    # Use only the selected signals (or comment this out to gain some speed if using all possible signals)\n",
      "    if not isSelectedSignal(event, signalPdgIds):\n",
      "        return\n",
      "\n",
      "    # count how many leptons are generated within the acceptance\n",
      "    if abs(event.ll1_daughter1_PdgId) == chosenPdgId and event.ll1_decayLength2D < LxyCut:\n",
      "        if event.ll1_daughter1_Pt > etCut and abs(event.ll1_daughter1_Eta) < etaCut:\n",
      "            if etCut == ptCut or ( not( abs(event.ll1_daughter1_Eta)>1.442 and abs(event.ll1_daughter1_Eta)<1.56 ) ):\n",
      "                leptonEffDen.Fill(event.ll1_decayLength2D)\n",
      "        if event.ll1_daughter2_Pt > etCut and abs(event.ll1_daughter2_Eta) < etaCut:\n",
      "            if etCut == ptCut or ( not( abs(event.ll1_daughter2_Eta)>1.442 and abs(event.ll1_daughter2_Eta)<1.56 ) ):\n",
      "                leptonEffDen.Fill(event.ll1_decayLength2D)\n",
      "    if abs(event.ll2_daughter1_PdgId) == chosenPdgId and event.ll2_decayLength2D < LxyCut:\n",
      "        if event.ll2_daughter1_Pt > etCut and abs(event.ll2_daughter1_Eta) < etaCut:\n",
      "            if etCut == ptCut or ( not( abs(event.ll2_daughter1_Eta)>1.442 and abs(event.ll2_daughter1_Eta)<1.56 ) ):\n",
      "                leptonEffDen.Fill(event.ll2_decayLength2D)\n",
      "        if event.ll2_daughter2_Pt > etCut and abs(event.ll2_daughter2_Eta) < etaCut:\n",
      "            if etCut == ptCut or ( not( abs(event.ll2_daughter2_Eta)>1.442 and abs(event.ll2_daughter2_Eta)<1.56 ) ):\n",
      "                leptonEffDen.Fill(event.ll2_decayLength2D)\n",
      "\n",
      "    # Compute the efficiency for leptons\n",
      "    for lepton in event.leptons_:\n",
      "        if isMatchedLepton(lepton, chosenPdgId, signalPdgIds):\n",
      "            if lepton.genSignalOriginLxy < LxyCut and lepton.genPt > etCut and abs(lepton.genEta) < etaCut and \\\n",
      "            lepton.pt > ptCut and abs(lepton.eta) < etaCut:\n",
      "                if etCut == ptCut or ( (lepton.photonEt > etCut) and \\\n",
      "                abs(lepton.photonEta) < 2.5 and \\\n",
      "                not( abs(lepton.photonEta)>1.442 and abs(lepton.photonEta)<1.56 ) and \\\n",
      "                not( abs(lepton.genEta)>1.442 and abs(lepton.genEta)<1.56 ) ):\n",
      "\n",
      "                    leptonEffNum.Fill(lepton.genSignalOriginLxy)\n"
     ]
    },
    {
     "cell_type": "markdown",
     "metadata": {},
     "source": [
      "Computing the tracking efficiency:\n",
      "\n",
      "- denominator: number of generated particles passing the acceptance\n",
      "- numerator: number of generated particles passing the acceptance with matching reconstructed tracks passing pt and eta cuts (not Et cuts because it would imply photon matching which is not part of the tracking efficiency)\n",
      "\n",
      "Note that the eta exclusion region is not part of the generated acceptance. It is a cut on the reconstructed photon."
     ]
    },
    {
     "cell_type": "code",
     "collapsed": false,
     "input": [
      "def computeLeptonEff(event, leptonEffNum, leptonEffDen, chosenPdgId, signalPdgIds, ptCut, etCut, etaCut, LxyCut):\n",
      "    # Use only the selected signals (or comment this out to gain some speed if using all possible signals)\n",
      "    if not isSelectedSignal(event, signalPdgIds):\n",
      "        return\n",
      "\n",
      "    # count how many leptons are generated within the acceptance\n",
      "    if abs(event.ll1_daughter1_PdgId) == chosenPdgId and event.ll1_decayLength2D < LxyCut:\n",
      "        if event.ll1_daughter1_Pt > etCut and abs(event.ll1_daughter1_Eta) < etaCut:\n",
      "            leptonEffDen.Fill(event.ll1_decayLength2D)\n",
      "        if event.ll1_daughter2_Pt > etCut and abs(event.ll1_daughter2_Eta) < etaCut:\n",
      "            leptonEffDen.Fill(event.ll1_decayLength2D)\n",
      "    if abs(event.ll2_daughter1_PdgId) == chosenPdgId and event.ll2_decayLength2D < LxyCut:\n",
      "        if event.ll2_daughter1_Pt > etCut and abs(event.ll2_daughter1_Eta) < etaCut:\n",
      "            leptonEffDen.Fill(event.ll2_decayLength2D)\n",
      "        if event.ll2_daughter2_Pt > etCut and abs(event.ll2_daughter2_Eta) < etaCut:\n",
      "            leptonEffDen.Fill(event.ll2_decayLength2D)\n",
      "\n",
      "    # Compute the efficiency for leptons\n",
      "    for lepton in event.leptons_:\n",
      "        if isMatchedLepton(lepton, chosenPdgId, signalPdgIds):\n",
      "            if lepton.genSignalOriginLxy < LxyCut and lepton.genPt > etCut and abs(lepton.genEta) < etaCut and \\\n",
      "            lepton.pt > ptCut and abs(lepton.eta) < etaCut:\n",
      "                leptonEffNum.Fill(lepton.genSignalOriginLxy)\n",
      "                    "
     ],
     "language": "python",
     "metadata": {},
     "outputs": [],
     "prompt_number": 5
    },
    {
     "cell_type": "markdown",
     "metadata": {},
     "source": [
      "This function draws the numerator and denominator histograms"
     ]
    },
    {
     "cell_type": "code",
     "collapsed": false,
     "input": [
      "def drawCheck(name, leptonEffNum, leptonEffDen):\n",
      "    leptonEffCheckCanvas = rootnotes.canvas(name, (800, 400))\n",
      "    leptonEffCheckCanvas.Divide(2,1)\n",
      "    leptonEffCheckCanvas.cd(1)\n",
      "    leptonEffNum.Draw()\n",
      "    leptonEffCheckCanvas.cd(2)\n",
      "    leptonEffDen.Draw()\n",
      "    return leptonEffCheckCanvas"
     ],
     "language": "python",
     "metadata": {},
     "outputs": [],
     "prompt_number": 6
    },
    {
     "cell_type": "code",
     "collapsed": false,
     "input": [
      "def drawEff(name, leptonEffNum, leptonEffDen):\n",
      "    leptonEffCanvas = rootnotes.canvas(name, (600, 600))\n",
      "    leptonEff = TEfficiency(leptonEffNum, leptonEffDen)\n",
      "    leptonEff.Draw()\n",
      "    ROOT.gPad.Update()\n",
      "    leptonEff.GetPaintedGraph().GetYaxis().SetRangeUser(0, 1.1)\n",
      "    # need to return the TEfficiency or it will be deleted\n",
      "    return leptonEffCanvas, leptonEff"
     ],
     "language": "python",
     "metadata": {},
     "outputs": [],
     "prompt_number": 7
    },
    {
     "cell_type": "heading",
     "level": 2,
     "metadata": {},
     "source": [
      "Muons"
     ]
    },
    {
     "cell_type": "code",
     "collapsed": false,
     "input": [
      "directory = inputFile.Get(\"muTrackAnalysis\")\n",
      "tree = directory.Get(\"outputTree\")\n",
      "\n",
      "chosenPdgId = 13\n",
      "\n",
      "signalPdgIds = []\n",
      "# signalPdgIds.append(6001113)\n",
      "signalPdgIds.append(6002113)\n",
      "# signalPdgIds.append(6003113)\n",
      "\n",
      "# Acceptance cuts (for muons)\n",
      "ptCut = 26.\n",
      "etCut = ptCut\n",
      "etaCut = 2.\n",
      "LxyCut = 50.\n",
      "\n",
      "leptonEffNum = TH1F(\"LeptonEffNum\", \"lepton eff num\", nBins, 0, 50)\n",
      "leptonEffDen = TH1F(\"LeptonEffDenom\", \"lepton eff denom\", nBins, 0, 50)\n",
      "\n",
      "# num = 0\n",
      "for event in tree:\n",
      "    # num += 1\n",
      "    computeLeptonEff(event.candidates, leptonEffNum, leptonEffDen, chosenPdgId, signalPdgIds, ptCut, etCut, etaCut, LxyCut)\n",
      "    # if num == 10:\n",
      "    #     break"
     ],
     "language": "python",
     "metadata": {},
     "outputs": [],
     "prompt_number": 8
    },
    {
     "cell_type": "code",
     "collapsed": false,
     "input": [
      "drawCheck(\"LeptonRecoEfficiencyCheckCanvas\", leptonEffNum, leptonEffDen)"
     ],
     "language": "python",
     "metadata": {},
     "outputs": [
      {
       "metadata": {},
       "output_type": "pyout",
       "png": "iVBORw0KGgoAAAANSUhEUgAAAxwAAAF0CAIAAAAmXahBAAAABmJLR0QAAAAAAAD5Q7t/AAAgAElE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\nRU5ErkJggg==\n",
       "prompt_number": 9,
       "text": [
        "<ROOT.TCanvas object (\"LeptonRecoEfficiencyCheckCanvas\") at 0x7f8f0f9397b0>"
       ]
      }
     ],
     "prompt_number": 9
    },
    {
     "cell_type": "code",
     "collapsed": false,
     "input": [
      "canvasAndEff = drawEff(\"LeptonRecoEfficiencyCanvas\", leptonEffNum, leptonEffDen)\n",
      "canvasAndEff[0]"
     ],
     "language": "python",
     "metadata": {},
     "outputs": [
      {
       "metadata": {},
       "output_type": "pyout",
       "png": "iVBORw0KGgoAAAANSUhEUgAAAlQAAAI8CAIAAAC4XaJJAAAABmJLR0QAAAAAAAD5Q7t/AAAXiElE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\n",
       "prompt_number": 10,
       "text": [
        "<ROOT.TCanvas object (\"LeptonRecoEfficiencyCanvas\") at 0x7f8f0d081800>"
       ]
      }
     ],
     "prompt_number": 10
    },
    {
     "cell_type": "heading",
     "level": 2,
     "metadata": {},
     "source": [
      "Electrons"
     ]
    },
    {
     "cell_type": "code",
     "collapsed": false,
     "input": [
      "directory = inputFile.Get(\"eTrackAnalysis\")\n",
      "tree = directory.Get(\"outputTree\")\n",
      "\n",
      "chosenPdgId = 11\n",
      "# Acceptance cuts (for electrons)\n",
      "ptCutElecLow = 21.\n",
      "etCutElecLow = 25.\n",
      "ptCutElecHigh = 36.\n",
      "etCutElecHigh = 40.\n",
      "\n",
      "leptonEffNumElecLow = TH1F(\"LeptonEffNumElecLow\", \"lepton eff num for lower Et electron\", nBins, 0, 50)\n",
      "leptonEffDenElecLow = TH1F(\"LeptonEffDenomElecLow\", \"lepton eff denom for lower Et electron\", nBins, 0, 50)\n",
      "leptonEffNumElecHigh = TH1F(\"LeptonEffNumElecHigh\", \"lepton eff num for higher Et electron\", nBins, 0, 50)\n",
      "leptonEffDenElecHigh = TH1F(\"LeptonEffDenomElecHigh\", \"lepton eff denom for higher Et electron\", nBins, 0, 50)\n",
      "\n",
      "for event in tree:\n",
      "    # Lower pt electron\n",
      "    computeLeptonEff(event.candidates, leptonEffNumElecLow, leptonEffDenElecLow, \\\n",
      "                     chosenPdgId, signalPdgIds, ptCutElecLow, etCutElecLow, etaCut, LxyCut)\n",
      "    # Higher pt electron\n",
      "    computeLeptonEff(event.candidates, leptonEffNumElecHigh, leptonEffDenElecHigh, \\\n",
      "                     chosenPdgId, signalPdgIds, ptCutElecHigh, etCutElecHigh, etaCut, LxyCut)"
     ],
     "language": "python",
     "metadata": {},
     "outputs": [],
     "prompt_number": 11
    },
    {
     "cell_type": "heading",
     "level": 3,
     "metadata": {},
     "source": [
      "Electrons Lower Pt"
     ]
    },
    {
     "cell_type": "code",
     "collapsed": false,
     "input": [
      "canvas = drawCheck(\"LeptonRecoEfficiencyCheckCanvasElecLow\", leptonEffNumElecLow, leptonEffDenElecLow)\n",
      "canvas"
     ],
     "language": "python",
     "metadata": {},
     "outputs": [
      {
       "metadata": {},
       "output_type": "pyout",
       "png": "iVBORw0KGgoAAAANSUhEUgAAAxwAAAF0CAIAAAAmXahBAAAABmJLR0QAAAAAAAD5Q7t/AAAgAElE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\nAQAkIKgCAEhAUAUAkMD/AykqxgLTjPAHAAAAAElFTkSuQmCC\n",
       "prompt_number": 12,
       "text": [
        "<ROOT.TCanvas object (\"LeptonRecoEfficiencyCheckCanvasElecLow\") at 0x7f8f0f96c080>"
       ]
      }
     ],
     "prompt_number": 12
    },
    {
     "cell_type": "code",
     "collapsed": false,
     "input": [
      "canvasAndEffElecLow = drawEff(\"LeptonRecoEfficiencyCanvasElecLow\", leptonEffNumElecLow, leptonEffDenElecLow)\n",
      "canvasAndEffElecLow[0]"
     ],
     "language": "python",
     "metadata": {},
     "outputs": [
      {
       "metadata": {},
       "output_type": "pyout",
       "png": "iVBORw0KGgoAAAANSUhEUgAAAlQAAAI8CAIAAAC4XaJJAAAABmJLR0QAAAAAAAD5Q7t/AAAXeUlE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\n+AEQjvgBEI74ARCO+AEQjvgBEM7/AtULG3YKARWnAAAAAElFTkSuQmCC\n",
       "prompt_number": 13,
       "text": [
        "<ROOT.TCanvas object (\"LeptonRecoEfficiencyCanvasElecLow\") at 0x7f8f1075cc00>"
       ]
      }
     ],
     "prompt_number": 13
    },
    {
     "cell_type": "heading",
     "level": 3,
     "metadata": {},
     "source": [
      "Electrons Higher Pt"
     ]
    },
    {
     "cell_type": "code",
     "collapsed": false,
     "input": [
      "canvas = drawCheck(\"LeptonRecoEfficiencyCheckCanvasElecHigh\", leptonEffNumElecHigh, leptonEffDenElecHigh)\n",
      "canvas"
     ],
     "language": "python",
     "metadata": {},
     "outputs": [
      {
       "metadata": {},
       "output_type": "pyout",
       "png": "iVBORw0KGgoAAAANSUhEUgAAAxwAAAF0CAIAAAAmXahBAAAABmJLR0QAAAAAAAD5Q7t/AAAgAElE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\nSEBSBQCQwP8HLeXt2XQ/x1gAAAAASUVORK5CYII=\n",
       "prompt_number": 14,
       "text": [
        "<ROOT.TCanvas object (\"LeptonRecoEfficiencyCheckCanvasElecHigh\") at 0x7f8f1075dcb0>"
       ]
      }
     ],
     "prompt_number": 14
    },
    {
     "cell_type": "code",
     "collapsed": false,
     "input": [
      "canvasAndEffElecHigh = drawEff(\"LeptonRecoEfficiencyCanvasElecHigh\", leptonEffNumElecHigh, leptonEffDenElecHigh)\n",
      "canvasAndEffElecHigh[0]"
     ],
     "language": "python",
     "metadata": {},
     "outputs": [
      {
       "metadata": {},
       "output_type": "pyout",
       "png": "iVBORw0KGgoAAAANSUhEUgAAAlQAAAI8CAIAAAC4XaJJAAAABmJLR0QAAAAAAAD5Q7t/AAAXcUlE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\niB8A4YgfAOGIHwDh/AcdveXRYF0wkAAAAABJRU5ErkJggg==\n",
       "prompt_number": 15,
       "text": [
        "<ROOT.TCanvas object (\"LeptonRecoEfficiencyCanvasElecHigh\") at 0x7f8f0d403c40>"
       ]
      }
     ],
     "prompt_number": 15
    },
    {
     "cell_type": "heading",
     "level": 2,
     "metadata": {},
     "source": [
      "Overlay of all efficiencies"
     ]
    },
    {
     "cell_type": "code",
     "collapsed": false,
     "input": [
      "leptonEffOverlayCanvas = rootnotes.canvas(\"LeptonEffOverlay\", (800, 800))\n",
      "canvasAndEff[1].Draw()\n",
      "canvasAndEff[1].SetMarkerStyle(20)\n",
      "# canvasAndEff[1].GetPaintedGraph().GetXaxis().SetTitle(\"L_{xy} [cm]\")\n",
      "# canvasAndEff[1].GetPaintedGraph().GetYaxis().SetTitle(\"Tracking Efficiency\")\n",
      "canvasAndEff[1].SetTitle(\"myTitle; L_{xy} [cm] ; Tracking Efficiency\"); \n",
      "ROOT.gPad.Update()\n",
      "canvasAndEffElecLow[1].Draw(\"same\")\n",
      "canvasAndEffElecLow[1].SetMarkerStyle(21)\n",
      "canvasAndEffElecLow[1].SetMarkerColor(2)\n",
      "canvasAndEffElecLow[1].SetLineColor(2)\n",
      "canvasAndEffElecHigh[1].Draw(\"same\")\n",
      "canvasAndEffElecHigh[1].SetLineColor(4)\n",
      "canvasAndEffElecHigh[1].SetMarkerStyle(22)\n",
      "canvasAndEffElecHigh[1].SetMarkerColor(4)\n",
      "legend = TLegend(0.45,0.7,0.85,0.9)\n",
      "legend.AddEntry(canvasAndEff[1], \"Muon Efficiency\", \"lep\")\n",
      "legend.AddEntry(canvasAndEffElecLow[1], \"Low E_{T} electron Efficiency\", \"lep\")\n",
      "legend.AddEntry(canvasAndEffElecHigh[1], \"High E_{T} electron Efficiency\", \"lep\")\n",
      "legend.SetFillColor(0)\n",
      "legend.SetLineColor(0)\n",
      "legend.Draw(\"same\")\n",
      "leptonEffOverlayCanvas\n",
      "# leptonEffOverlayCanvas.SaveAs(\"leptonEffOverlay.pdf\")"
     ],
     "language": "python",
     "metadata": {},
     "outputs": [
      {
       "output_type": "stream",
       "stream": "stderr",
       "text": [
        "TCanvas::Constructor:0: RuntimeWarning: Deleting canvas with same name: LeptonEffOverlay\n"
       ]
      },
      {
       "metadata": {},
       "output_type": "pyout",
       "png": "iVBORw0KGgoAAAANSUhEUgAAAxwAAAMECAIAAAC64LSpAAAABmJLR0QAAAAAAAD5Q7t/AAAgAElE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\nCgAAwIL/DxQeGEq9ZoZfAAAAAElFTkSuQmCC\n",
       "prompt_number": 44,
       "text": [
        "<ROOT.TCanvas object (\"LeptonEffOverlay\") at 0x7f8f0f97e9c0>"
       ]
      }
     ],
     "prompt_number": 44
    },
    {
     "cell_type": "heading",
     "level": 2,
     "metadata": {},
     "source": [
      "Computing the systematic uncertainty for electrons"
     ]
    },
    {
     "cell_type": "markdown",
     "metadata": {},
     "source": [
      "Definitions:\n",
      "\n",
      "- $\\mu_{syst} = \\frac{\\epsilon_{\\mu}^{Data} - \\epsilon_{\\mu}^{MC}}{\\epsilon_{\\mu}^{MC}}$\n",
      "- $e_{syst} = \\frac{\\epsilon_{e}^{Data} - \\epsilon_{e}^{MC}}{\\epsilon_{e}^{MC}}$\n",
      "\n",
      "**Assumption 1**: The difference between electrons and muons is proportional to the tracker material budget.\n",
      "\n",
      "**Assumption 2**: The systematic on the tracking efficiency does not depend on the efficiency. This means that muon and electron systematics will be the same if material effects are perfectly described in the simulation even though the efficiency values can be different.\n",
      "\n",
      "Note that assumption 2 is likely false. However, if the systematic increases as a function of the efficiency, and because the muon tracking efficiency is generally higher than the one for electrons, this assumption would lead to an overestimate of the systematic for electrons.\n",
      "\n",
      "We define $a$ as the relative difference of the efficiency for electrons and muons:\n",
      "\n",
      "$a = \\frac{\\epsilon_{\\mu} - \\epsilon_{e}}{\\epsilon_{\\mu}}$\n",
      "\n",
      "then\n",
      "\n",
      "$\\epsilon_{e} = \\epsilon_{\\mu}\\cdot(1 - a)$\n",
      "\n",
      "and the relative variation of $a$ between data and MC, which from assumption 1 depends linearly on the material, is\n",
      "\n",
      "$k = \\frac{a^{MC} - a^{Data}}{a^{MC}}$.\n",
      "\n",
      "We can compute $a^{MC}$ from our MC efficiencies and $k$ is constrained by the uncertainty on the material (10%).\n",
      "\n",
      "We want to express the systematic on electrons as a function of the systematic on muons using $k$ and $a^{MC}$.\n",
      "\n",
      "From the definition of systematic we can write\n",
      "\n",
      "$e_{syst} = \\frac{\\epsilon_{e}^{Data} - \\epsilon_{e}^{MC}}{\\epsilon_{e}^{MC}} = \\frac{(1-a^{Data})\\cdot\\epsilon_{\\mu}^{Data} - (1-a^{MC})\\cdot\\epsilon_{\\mu}^{MC}}{(1-a^{MC})\\cdot\\epsilon_{\\mu}^{MC}}$\n",
      "\n",
      "By adding and subtracting $a^{MC}\\cdot\\epsilon_{\\mu}^{Data}$ at the numerator we get\n",
      "\n",
      "$e_{syst} = \\mu_{syst} + \\frac{a^{MC} - a^{Data}}{1 - a^{MC}}\\cdot\\frac{\\epsilon_{\\mu}^{Data}}{\\epsilon_{\\mu}^{MC}}$\n",
      "\n",
      "Using the fact that $\\frac{\\epsilon_{\\mu}^{Data}}{\\epsilon_{\\mu}^{MC}} = \\mu_{syst} + 1$ and that $a^{MC} - a^{Data} = k\\cdot a^{MC}$ we get\n",
      "\n",
      "$e_{syst} = \\mu_{syst} + \\frac{k\\cdot a^{MC}}{1 - a^{MC}}\\cdot(1 + \\mu_{syst})$\n",
      "\n",
      "However, we can assume the material systematic and the rest of the tracking efficiency systematics to be uncorrelated, in which case the expected value of $\\mu_{syst}$ when considering variations due to the material is zero. The expression of the electron systematic due to the material is then\n",
      "\n",
      "$e^{material}_{syst} = \\frac{a^{MC}}{1 - a^{MC}}\\cdot syst_{material}$\n",
      "\n",
      "where we wrote $k$ as $syst_{material}$ for clarity.\n",
      "\n",
      "We compute this systematic below."
     ]
    },
    {
     "cell_type": "markdown",
     "metadata": {},
     "source": [
      "Maximum absolute relative difference between muons and electrons efficiency in MC ($|a^{MC}|$):"
     ]
    },
    {
     "cell_type": "code",
     "collapsed": false,
     "input": [
      "effMaxRelDiff = 0\n",
      "binIndex = 0\n",
      "\n",
      "effRelDiffX = []\n",
      "effRelDiffXErr = []\n",
      "effRelDiffY = []\n",
      "effRelDiffYErr = []\n",
      "\n",
      "for i in range(1, nBins+1):\n",
      "    muEff = canvasAndEff[1].GetEfficiency(i)\n",
      "    # diff = max( abs(muEff - canvasAndEffElecLow[1].GetEfficiency(i)),\n",
      "    #             abs(muEff - canvasAndEffElecHigh[1].GetEfficiency(i)) )/muEff\n",
      "    if abs(muEff - canvasAndEffElecLow[1].GetEfficiency(i)) > abs(muEff - canvasAndEffElecHigh[1].GetEfficiency(i)):\n",
      "        diff = (muEff - canvasAndEffElecLow[1].GetEfficiency(i))/muEff\n",
      "    else:\n",
      "        diff = (muEff - canvasAndEffElecHigh[1].GetEfficiency(i))/muEff\n",
      "\n",
      "    muEffMaxErrTerm = max( canvasAndEff[1].GetEfficiencyErrorLow(i),\n",
      "                           canvasAndEff[1].GetEfficiencyErrorUp(i) )/muEff\n",
      "    if abs(muEff - canvasAndEffElecLow[1].GetEfficiency(i)) > abs(muEff - canvasAndEffElecHigh[1].GetEfficiency(i)):\n",
      "        eMaxErrTerm = max( canvasAndEffElecLow[1].GetEfficiencyErrorLow(i),\n",
      "                           canvasAndEffElecLow[1].GetEfficiencyErrorUp(i) )/canvasAndEffElecLow[1].GetEfficiency(i)\n",
      "    else:\n",
      "        eMaxErrTerm = max( canvasAndEffElecHigh[1].GetEfficiencyErrorLow(i),\n",
      "                           canvasAndEffElecHigh[1].GetEfficiencyErrorUp(i) )/canvasAndEffElecHigh[1].GetEfficiency(i)\n",
      "    diffErr = abs(diff*ROOT.Math.sqrt(eMaxErrTerm**2 + muEffMaxErrTerm**2))\n",
      "    # print \"error[\"+str(i)+\"] =\", diffErr\n",
      "    \n",
      "    effRelDiffX.append(2*i-1)\n",
      "    effRelDiffXErr.append(1)\n",
      "    effRelDiffY.append(diff)\n",
      "    effRelDiffYErr.append(diffErr)\n",
      "\n",
      "    if diff > effMaxRelDiff:\n",
      "        effMaxRelDiff = diff\n",
      "        binIndex = i\n",
      "\n",
      "print effMaxRelDiff\n",
      "print binIndex"
     ],
     "language": "python",
     "metadata": {},
     "outputs": [
      {
       "output_type": "stream",
       "stream": "stdout",
       "text": [
        "0.36822093256\n",
        "25\n"
       ]
      }
     ],
     "prompt_number": 17
    },
    {
     "cell_type": "markdown",
     "metadata": {},
     "source": [
      "Plot of $a^{MC}$ as a function of Lxy. The error is estimated from the error propagation on the efficiencies.\n",
      "By writing $a^{MC} = 1-\\epsilon_{e}/\\epsilon_{\\mu}$ we can compute the error as $\\sigma_{a^{MC}} = a^{MC}\\cdot\\sqrt{(\\frac{\\sigma_{\\epsilon_{e}}}{\\epsilon_{e}})^2 + (\\frac{\\sigma_{\\epsilon_{\\mu}}}{\\epsilon_{\\mu}})^2}$."
     ]
    },
    {
     "cell_type": "code",
     "collapsed": false,
     "input": [
      "from array import array\n",
      "import math\n",
      "effRelDiffCanvas = rootnotes.canvas(\"EffRelDiffCanvas\", (600,600))\n",
      "effRelDiffGraph = ROOT.TGraphErrors(nBins, array('d', effRelDiffX), array('d', effRelDiffY),\n",
      "                                    array('d', effRelDiffXErr), array('d', effRelDiffYErr))\n",
      "effRelDiffGraph.Draw(\"AP\")\n",
      "effRelDiffGraph.GetXaxis().SetTitle(\"Lxy [cm]\")\n",
      "effRelDiffGraph.GetYaxis().SetTitle(\"#alpha^{MC}\")\n",
      "effRelDiffCanvas\n",
      "# effRelDiffCanvas.SaveAs(\"aMCvsLxy.pdf\")"
     ],
     "language": "python",
     "metadata": {},
     "outputs": [
      {
       "output_type": "stream",
       "stream": "stderr",
       "text": [
        "TCanvas::Constructor:0: RuntimeWarning: Deleting canvas with same name: EffRelDiffCanvas\n"
       ]
      },
      {
       "metadata": {},
       "output_type": "pyout",
       "png": "iVBORw0KGgoAAAANSUhEUgAAAlQAAAI8CAIAAAC4XaJJAAAABmJLR0QAAAAAAAD5Q7t/AAAdjklE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\nQmCC\n",
       "prompt_number": 46,
       "text": [
        "<ROOT.TCanvas object (\"EffRelDiffCanvas\") at 0x7f8f1062d810>"
       ]
      }
     ],
     "prompt_number": 46
    },
    {
     "cell_type": "markdown",
     "metadata": {},
     "source": [
      "To avoid overestimating excessively the systematic we compute a weighted average of the $\\alpha^{MC}$ using the Lxy distribution of the signal sample.\n",
      "By doing this we avoid being dominated by $\\alpha^{MC}$ at high Lxy values where there is the least amount of the statistics."
     ]
    },
    {
     "cell_type": "code",
     "collapsed": false,
     "input": [
      "def computeEffMaxRelDiff(decayLength, canvasAndEff, canvasAndEffElecLow, canvasAndEffElecHigh):\n",
      "    index = canvasAndEff[1].FindFixBin(decayLength)\n",
      "    # print decayLength, index\n",
      "    muEff = canvasAndEff[1].GetEfficiency(index)\n",
      "    return muEff, canvasAndEffElecLow[1].GetEfficiency(index), canvasAndEffElecHigh[1].GetEfficiency(index),\\\n",
      "           max( abs(muEff - canvasAndEffElecLow[1].GetEfficiency(index))/muEff, \\\n",
      "                abs(muEff - canvasAndEffElecHigh[1].GetEfficiency(index))/muEff )"
     ],
     "language": "python",
     "metadata": {},
     "outputs": [],
     "prompt_number": 19
    },
    {
     "cell_type": "code",
     "collapsed": false,
     "input": [
      "totalDiff = 0\n",
      "totalMuEff = 0\n",
      "totalELowEff = 0\n",
      "totalEHighEff = 0\n",
      "totalNum = 0\n",
      "\n",
      "for event in tree:\n",
      "    if not isSelectedSignal(event.candidates, signalPdgIds):\n",
      "        continue\n",
      "        \n",
      "        \n",
      "\n",
      "    if abs(event.candidates.ll1_daughter1_PdgId) == chosenPdgId and event.candidates.ll1_decayLength2D < LxyCut:\n",
      "        if event.candidates.ll1_daughter1_Pt > etCut and abs(event.candidates.ll1_daughter1_Eta) < etaCut:\n",
      "            muEff, eLowEff, eHighEff, diff =  computeEffMaxRelDiff(event.candidates.ll1_decayLength2D,\\\n",
      "                                                                   canvasAndEff, canvasAndEffElecLow,\\\n",
      "                                                                   canvasAndEffElecHigh)\n",
      "            totalMuEff += muEff\n",
      "            totalELowEff += eLowEff\n",
      "            totalEHighEff += eHighEff\n",
      "            totalDiff += diff\n",
      "            totalNum += 1\n",
      "        if event.candidates.ll1_daughter2_Pt > etCut and abs(event.candidates.ll1_daughter2_Eta) < etaCut:\n",
      "            muEff, eLowEff, eHighEff, diff =  computeEffMaxRelDiff(event.candidates.ll1_decayLength2D,\\\n",
      "                                                                   canvasAndEff, canvasAndEffElecLow,\\\n",
      "                                                                   canvasAndEffElecHigh)\n",
      "            totalMuEff += muEff\n",
      "            totalELowEff += eLowEff\n",
      "            totalEHighEff += eHighEff\n",
      "            totalDiff += diff\n",
      "            totalNum += 1\n",
      "\n",
      "    if abs(event.candidates.ll2_daughter1_PdgId) == chosenPdgId and event.candidates.ll2_decayLength2D < LxyCut:\n",
      "        if event.candidates.ll2_daughter1_Pt > etCut and abs(event.candidates.ll2_daughter1_Eta) < etaCut:\n",
      "            muEff, eLowEff, eHighEff, diff =  computeEffMaxRelDiff(event.candidates.ll2_decayLength2D,\\\n",
      "                                                                   canvasAndEff, canvasAndEffElecLow,\\\n",
      "                                                                   canvasAndEffElecHigh)\n",
      "            totalMuEff += muEff\n",
      "            totalELowEff += eLowEff\n",
      "            totalEHighEff += eHighEff\n",
      "            totalDiff += diff\n",
      "            totalNum += 1\n",
      "        if event.candidates.ll2_daughter2_Pt > etCut and abs(event.candidates.ll2_daughter2_Eta) < etaCut:\n",
      "            muEff, eLowEff, eHighEff, diff =  computeEffMaxRelDiff(event.candidates.ll2_decayLength2D,\\\n",
      "                                                                   canvasAndEff, canvasAndEffElecLow,\\\n",
      "                                                                   canvasAndEffElecHigh)\n",
      "            totalMuEff += muEff\n",
      "            totalELowEff += eLowEff\n",
      "            totalEHighEff += eHighEff\n",
      "            totalDiff += diff\n",
      "            totalNum += 1\n"
     ],
     "language": "python",
     "metadata": {},
     "outputs": [],
     "prompt_number": 20
    },
    {
     "cell_type": "code",
     "collapsed": false,
     "input": [
      "effMaxRelDiff = totalDiff/totalNum\n",
      "print \"average relative tracking efficiency variation =\", effMaxRelDiff\n",
      "averageMuEff = totalMuEff/totalNum\n",
      "print \"average muon tracking efficiency =\", averageMuEff\n",
      "averageELowEff = totalELowEff/totalNum\n",
      "print \"average lower pT electron tracking efficiency =\", averageELowEff\n",
      "averageEHighEff = totalEHighEff/totalNum\n",
      "print \"average higher pT electron tracking efficiency =\", averageEHighEff"
     ],
     "language": "python",
     "metadata": {},
     "outputs": [
      {
       "output_type": "stream",
       "stream": "stdout",
       "text": [
        "average relative tracking efficiency variation = 0.222391844934\n",
        "average muon tracking efficiency = 0.612046904208\n",
        "average lower pT electron tracking efficiency = 0.500275356358\n",
        "average higher pT electron tracking efficiency = 0.475980923293\n"
       ]
      }
     ],
     "prompt_number": 21
    },
    {
     "cell_type": "markdown",
     "metadata": {},
     "source": [
      "From which we can derive the electron systematic as a function of $\\mu_{syst}$, $a^{MC}$ and $k$.\n",
      "Note that we compare to the single muon systematic and double the final result to obtain the double electron systematic to compare with the doublemuon systematic.\n",
      "We use the numbers from the paper:\n",
      "\n",
      "- 6.1% from cosmics -> 0.061/2\n",
      "- 9.8% from track embedding -> 0.098/2"
     ]
    },
    {
     "cell_type": "code",
     "collapsed": false,
     "input": [
      "#Divide the dimuon systematic by half. They were doubled to get the dimuon in the AN\n",
      "muSyst = ROOT.Math.sqrt((0.061/2)**2 + (0.098/2)**2)\n",
      "print \"dimuon syst =\", 2*muSyst\n",
      "k = 0.1\n",
      "materialTerm = k*effMaxRelDiff/(1-effMaxRelDiff)\n",
      "# eSyst = muSyst + materialTerm*(1+muSyst)\n",
      "# print \"dielectron syst =\", 2*eSyst"
     ],
     "language": "python",
     "metadata": {},
     "outputs": [
      {
       "output_type": "stream",
       "stream": "stdout",
       "text": [
        "dimuon syst = 0.115433963806\n"
       ]
      }
     ],
     "prompt_number": 22
    },
    {
     "cell_type": "markdown",
     "metadata": {},
     "source": [
      "The dielectron systematic is ~6% bigger than the dimuon systematic."
     ]
    },
    {
     "cell_type": "code",
     "collapsed": false,
     "input": [
      "# print muSyst*averageMuEff\n",
      "# print eSyst*averageEHighEff\n",
      "# print eSyst*averageELowEff\n",
      "print \"electron systematic due to material systematic =\", materialTerm"
     ],
     "language": "python",
     "metadata": {},
     "outputs": [
      {
       "output_type": "stream",
       "stream": "stdout",
       "text": [
        "electron systematic due to material systematic = 0.0285994743606\n"
       ]
      }
     ],
     "prompt_number": 23
    },
    {
     "cell_type": "markdown",
     "metadata": {},
     "source": [
      "To get an estimate of the total electron systematic we take the sum in quadrature of the two terms of the electron systematic equation:\n",
      "\n",
      "$e_{syst} = \\sqrt{\\mu_{syst}^2 + \\mbox{material}_{syst}^2}$\n",
      "\n",
      "where material$_{syst} = \\frac{k\\cdot a^{MC}}{1 - a^{MC}}$. The result is (note that these are single muon and single electron systematics):"
     ]
    },
    {
     "cell_type": "code",
     "collapsed": false,
     "input": [
      "print \"mu_syst =\", muSyst\n",
      "e_syst = ROOT.Math.sqrt(muSyst**2+(materialTerm)**2)\n",
      "print \"e_syst =\", e_syst"
     ],
     "language": "python",
     "metadata": {},
     "outputs": [
      {
       "output_type": "stream",
       "stream": "stdout",
       "text": [
        "mu_syst = 0.0577169819031\n",
        "e_syst = 0.0644141283703\n"
       ]
      }
     ],
     "prompt_number": 24
    },
    {
     "cell_type": "markdown",
     "metadata": {},
     "source": [
      "And the resulting di-electron systematic is twice as big:"
     ]
    },
    {
     "cell_type": "code",
     "collapsed": false,
     "input": [
      "print \"di-electron systematic =\", 2*e_syst"
     ],
     "language": "python",
     "metadata": {},
     "outputs": [
      {
       "output_type": "stream",
       "stream": "stdout",
       "text": [
        "di-electron systematic = 0.128828256741\n"
       ]
      }
     ],
     "prompt_number": 25
    },
    {
     "cell_type": "heading",
     "level": 2,
     "metadata": {},
     "source": [
      "Conclusions"
     ]
    },
    {
     "cell_type": "markdown",
     "metadata": {},
     "source": [
      "The 10% uncertainty on the material can be related to an uncertainty on the relative difference between $a^{MC}$ and $a^{Data}$.\n",
      "The variation $k$ is relative to $a^{MC}$. Also, $a^{MC}$ describes a variation relative to the **muon** efficiency.\n",
      "\n",
      "In the case of perfect material description ($k=0$) the systematic for muons and electrons will be the same.\n",
      "\n",
      "If $k =$ 10% the electron systematic on tracking efficiency is given by\n",
      "\n",
      "$e_{syst} = \\sqrt{\\mu_{syst}^2 + (\\frac{k\\cdot a^{MC}}{1 - a^{MC}})^2}$\n",
      "\n",
      "and the resulting dielectron systematic is 13%, an absolute 1.5% bigger than the corresponding dimuon systematic.\n",
      "\n",
      "If the muon systematic is zero the electron systematic from material description is $\\frac{k\\cdot a^{MC}}{1 - a^{MC}} = $ 3%."
     ]
    },
    {
     "cell_type": "code",
     "collapsed": false,
     "input": [
      "ROOT.Math.sqrt(0.1**2 + (materialTerm*(1+0.1))**2)"
     ],
     "language": "python",
     "metadata": {},
     "outputs": [
      {
       "metadata": {},
       "output_type": "pyout",
       "prompt_number": 26,
       "text": [
        "0.10483174719416284"
       ]
      }
     ],
     "prompt_number": 26
    },
    {
     "cell_type": "code",
     "collapsed": false,
     "input": [
      "ROOT.Math.sqrt(0.02**2 + 0.061**2 + 0.098**2 + 0.062**2 + (materialTerm*(1+0.1))**2)"
     ],
     "language": "python",
     "metadata": {},
     "outputs": [
      {
       "metadata": {},
       "output_type": "pyout",
       "prompt_number": 27,
       "text": [
        "0.13623030213495405"
       ]
      }
     ],
     "prompt_number": 27
    },
    {
     "cell_type": "code",
     "collapsed": false,
     "input": [
      "ROOT.Math.sqrt(0.02**2 + 0.061**2 + 0.098**2 + 0.062**2)"
     ],
     "language": "python",
     "metadata": {},
     "outputs": [
      {
       "metadata": {},
       "output_type": "pyout",
       "prompt_number": 28,
       "text": [
        "0.1325481044753187"
       ]
      }
     ],
     "prompt_number": 28
    },
    {
     "cell_type": "markdown",
     "metadata": {},
     "source": [
      "$\\epsilon_{e} = \\epsilon_{\\mu}\\cdot(1-a)$\n",
      "\n",
      "$\\rightarrow \\delta(\\epsilon_{e}) = -\\epsilon_{\\mu} \\cdot \\delta(a)$\n",
      "\n",
      "which since: $\\delta(a)/a = \\delta(k)/k$ means:\n",
      "\n",
      "$syst(\\epsilon_{e}) = \\epsilon_{\\mu} \\cdot syst(a) = \\epsilon_{\\mu} \\cdot a \\cdot [syst(k) / k]\n",
      "\\rightarrow syst(\\epsilon_{e}) / \\epsilon_{e} = [a/(1-a)] \\cdot 0.1$"
     ]
    },
    {
     "cell_type": "code",
     "collapsed": false,
     "input": [
      "leptonTip = TH1F(\"LeptonTip\", \"lepton tip\", 100, -50, 50)\n",
      "leptonLip = TH1F(\"LeptonLip\", \"lepton lip\", 100, -50, 50)\n",
      "leptonHasPhotonMatch = TH1F(\"HasPhotonMatch\", \"has photon match\", 2, 0, 2)"
     ],
     "language": "python",
     "metadata": {},
     "outputs": [],
     "prompt_number": 29
    },
    {
     "cell_type": "code",
     "collapsed": false,
     "input": [
      "for event in tree:\n",
      "    # Lower pt electron\n",
      "    for lepton in event.candidates.leptons_:\n",
      "        leptonTip.Fill(lepton.tip)\n",
      "        leptonLip.Fill(lepton.lip)\n",
      "        leptonHasPhotonMatch.Fill(lepton.hasPhotonMatch)"
     ],
     "language": "python",
     "metadata": {},
     "outputs": [],
     "prompt_number": 30
    },
    {
     "cell_type": "code",
     "collapsed": false,
     "input": [
      "leptonTipLipCanvas = rootnotes.canvas(\"TipLip\", (800, 400))\n",
      "leptonTipLipCanvas.Divide(2,2)\n",
      "leptonTipLipCanvas.cd(1)\n",
      "leptonTip.Draw()\n",
      "leptonTipLipCanvas.cd(2)\n",
      "leptonLip.Draw()\n",
      "leptonTipLipCanvas.cd(3)\n",
      "leptonHasPhotonMatch.Draw()\n",
      "leptonTipLipCanvas"
     ],
     "language": "python",
     "metadata": {},
     "outputs": [
      {
       "metadata": {},
       "output_type": "pyout",
       "png": "iVBORw0KGgoAAAANSUhEUgAAAxwAAAF0CAIAAAAmXahBAAAABmJLR0QAAAAAAAD5Q7t/AAAgAElE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\nDJfbogAAAABJRU5ErkJggg==\n",
       "prompt_number": 31,
       "text": [
        "<ROOT.TCanvas object (\"TipLip\") at 0x7f8f104cac50>"
       ]
      }
     ],
     "prompt_number": 31
    },
    {
     "cell_type": "code",
     "collapsed": false,
     "input": [
      "oldInputFile = ROOT.TFile(\"/Users/demattia/histograms.root\", \"READ\")\n",
      "oldDirectory = oldInputFile.Get(\"eTrackAnalysis\")\n",
      "oldTree = oldDirectory.Get(\"outputTree\")\n",
      "oldLeptonHasPhotonMatch = TH1F(\"OldLeptonHasPhotonMatch\", \"old has photon match\", 2, 0, 2)"
     ],
     "language": "python",
     "metadata": {},
     "outputs": [],
     "prompt_number": 32
    },
    {
     "cell_type": "code",
     "collapsed": false,
     "input": [
      "for event in oldTree:\n",
      "    # Lower pt electron\n",
      "    for lepton in event.candidates.leptons_:\n",
      "        oldLeptonHasPhotonMatch.Fill(lepton.hasPhotonMatch)"
     ],
     "language": "python",
     "metadata": {},
     "outputs": [],
     "prompt_number": 33
    },
    {
     "cell_type": "code",
     "collapsed": false,
     "input": [
      "oldLeptonHasPhotomMatchCanvas = rootnotes.canvas(\"OldHasPhotonMatchCanvas\", (800, 400))\n",
      "oldLeptonHasPhotonMatch.Draw()\n",
      "oldLeptonHasPhotomMatchCanvas"
     ],
     "language": "python",
     "metadata": {},
     "outputs": [
      {
       "output_type": "stream",
       "stream": "stdout",
       "text": [
        "The history saving thread hit an unexpected error (OperationalError('disk I/O error',)).History will not be written to the database.\n"
       ]
      },
      {
       "metadata": {},
       "output_type": "pyout",
       "png": "iVBORw0KGgoAAAANSUhEUgAAAxwAAAF0CAIAAAAmXahBAAAABmJLR0QAAAAAAAD5Q7t/AAAX1UlE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\nx72bjibQviMAAAAASUVORK5CYII=\n",
       "prompt_number": 34,
       "text": [
        "<ROOT.TCanvas object (\"OldHasPhotonMatchCanvas\") at 0x7f8f0f969d90>"
       ]
      }
     ],
     "prompt_number": 34
    },
    {
     "cell_type": "code",
     "collapsed": false,
     "input": [],
     "language": "python",
     "metadata": {},
     "outputs": [],
     "prompt_number": 34
    }
   ],
   "metadata": {}
  }
 ]
}