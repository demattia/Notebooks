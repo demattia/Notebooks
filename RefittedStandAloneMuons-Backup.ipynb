{
 "metadata": {
  "name": "",
  "signature": "sha256:daea0d568b55736a7c414b82f1d05ac28f5d7dca0fe5d7d321e5c665d313c677"
 },
 "nbformat": 3,
 "nbformat_minor": 0,
 "worksheets": [
  {
   "cells": [
    {
     "cell_type": "heading",
     "level": 1,
     "metadata": {},
     "source": [
      "RefittedStandAloneMuons"
     ]
    },
    {
     "cell_type": "code",
     "collapsed": false,
     "input": [
      "import ROOT\n",
      "from ROOT import TH1F, TH2F, TEfficiency, TLegend\n",
      "import rootnotes\n",
      "import rootprint\n",
      "from RefittedStandAloneMuons import *\n",
      "from ProgressBar import ProgressBar\n",
      "import time\n",
      "\n",
      "ROOT.gROOT.LoadMacro(\"interfaceRefittedStandAloneMuons/Loader.C+\")\n",
      "\n",
      "# Bins in the histograms\n",
      "nBins = 25"
     ],
     "language": "python",
     "metadata": {
      "slideshow": {
       "slide_type": "skip"
      }
     },
     "outputs": [],
     "prompt_number": 1
    },
    {
     "cell_type": "code",
     "collapsed": false,
     "input": [
      "signalMC = True\n",
      "\n",
      "# input file and tree\n",
      "# Very long-lived MC\n",
      "# inputFile = ROOT.TFile(\"/Users/demattia/HTo2LongLivedTo4F_MH1000_MFF350_CTau3500To350000_analysis_20140314/histograms.root\", \"READ\")\n",
      "\n",
      "# Original input file\n",
      "inputFile = ROOT.TFile(\"/Users/demattia/HTo2LongLivedTo4F_MH1000_MFF350_CTau35To3500_analysis_20140220/histograms.root\", \"READ\")\n",
      "\n",
      "# Modified d0/sigma calculation. Now taken with the original tracks, rather than the ones refitted to the SV.\n",
      "# inputFile = ROOT.TFile(\"/Users/demattia/HTo2LongLivedTo4F_MH1000_MFF350_CTau35To3500_analysis_ModifiedD0Calc/histograms.root\", \"READ\")\n",
      "\n",
      "# DY50 Background MC\n",
      "# inputFile = ROOT.TFile(\"/Users/demattia/Trees/DYJets50/histograms.root\", \"READ\")\n",
      "# signalMC = False\n",
      "\n",
      "directory = inputFile.Get(\"muTrackAnalysis\")\n",
      "tree = directory.Get(\"outputTree\")\n",
      "\n",
      "# Global variables\n",
      "chosenPdgId = 13\n",
      "\n",
      "signalPdgIds = []\n",
      "# signalPdgIds.append(6001113)\n",
      "signalPdgIds.append(6002113)\n",
      "# signalPdgIds.append(6003113)\n",
      "# signalPdgIds.append(6004113)\n",
      "\n",
      "signalTrigger = \"HLT_L2DoubleMu23_NoVertex_2Cha_Angle2p5_v2\"\n",
      "\n",
      "# Acceptance cuts (for muons)\n",
      "ptCut = 26.\n",
      "etaCut = 2.4\n",
      "LxyCut = 1000000.\n",
      "minStationsWithValidHits = 2\n",
      "isoCut = 0.1\n",
      "cosineCut = -0.79\n",
      "vertexChi2Cut = 5.\n",
      "deltaRCut = 0.2\n",
      "massCut = 15."
     ],
     "language": "python",
     "metadata": {},
     "outputs": [],
     "prompt_number": 2
    },
    {
     "cell_type": "heading",
     "level": 2,
     "metadata": {},
     "source": [
      "Compute Generator Level Acceptance"
     ]
    },
    {
     "cell_type": "markdown",
     "metadata": {},
     "source": [
      "The acceptance is defined as the number of generated particles that pass the following cuts:\n",
      "\n",
      "- $p_T > 26$ GeV/c for muons\n",
      "- $|\\eta| < 2.4$\n",
      "\n",
      "divided by the total number of generated particles.\n",
      "\n",
      "**Note that this is an acceptance per candidate**. The efficiency computed later is per event."
     ]
    },
    {
     "cell_type": "code",
     "collapsed": false,
     "input": [
      "hGenAcceptance = TEfficiency(\"hGenAcceptance\",\n",
      "                             \"generator level acceptance vs decayLength2D;generetor L_{xy} [cm];Acceptance\", 20, 0, 500)\n",
      "\n",
      "# num = 0\n",
      "for event in tree:\n",
      "    cands = event.candidates\n",
      "\n",
      "    # Use only muons from long-lived particle decays\n",
      "    if not is_selected_signal(cands, signalPdgIds): continue\n",
      "\n",
      "    if decay_to_chosen_pdg_id(cands, \"ll1\", chosenPdgId):\n",
      "        hGenAcceptance.Fill(is_within_acceptance(cands, \"ll1\", ptCut, etaCut, LxyCut), cands.ll1_decayLength2D)\n",
      "\n",
      "    if decay_to_chosen_pdg_id(cands, \"ll2\", chosenPdgId):\n",
      "        hGenAcceptance.Fill(is_within_acceptance(cands, \"ll2\", ptCut, etaCut, LxyCut), cands.ll2_decayLength2D)\n",
      "        \n",
      "    # num += 1\n",
      "    # if num == 10:\n",
      "    #     break"
     ],
     "language": "python",
     "metadata": {},
     "outputs": [],
     "prompt_number": 3
    },
    {
     "cell_type": "code",
     "collapsed": false,
     "input": [
      "cGenAcceptance = ROOT.TCanvas()\n",
      "hGenAcceptance.Draw()\n",
      "# hGenAcceptance.GetPaintedGraph().GetYaxis().SetRangeUser(0, 1.1)\n",
      "# hGenAcceptance.GetYAxis().SetRangeUser(0, )\n",
      "cGenAcceptance"
     ],
     "language": "python",
     "metadata": {},
     "outputs": [
      {
       "metadata": {},
       "output_type": "pyout",
       "png": "[encoded data removed]",
       "prompt_number": 4,
       "text": [
        "<ROOT.TCanvas object (\"c1\") at 0x7fbbb3da2fa0>"
       ]
      }
     ],
     "prompt_number": 4
    },
    {
     "cell_type": "heading",
     "level": 2,
     "metadata": {},
     "source": [
      "Compute Efficiency"
     ]
    },
    {
     "cell_type": "markdown",
     "metadata": {},
     "source": [
      "We compute the refittedStandAloneMuon reconstruction efficiency for MC. We use the MC sample HTo2LongLivedTo4F_MH1000_MFF350_CTau35To3500.\n",
      "\n",
      "We count how many events with a generated particle decaying to muons have at least a reconstructed candidate. This does not need to be matched to the generated particle."
     ]
    },
    {
     "cell_type": "code",
     "collapsed": false,
     "input": [
      "def create_plots(tp):\n",
      "    h = {}\n",
      "    h[\"hd0deltaD0OverGenD0VsGenLxy_\"+tp] = TH2F(\"hd0deltaD0OverGenD0VsGenLxy_\"+tp,\n",
      "                                                \"deltaD0/genD0 vs genLxy\", 100, 0, 200, 200, -2., 2.)\n",
      "    h[\"hd0Significance_\"+tp] = TH1F(\"d0Significance_\"+tp, \"d0 significance \"+tp, 100, 0, 20)\n",
      "    h[\"hd0SignificanceVsD0_\"+tp] = TH2F(\"d0SignificanceVsD0_\"+tp, \"d0 significance vs d0 \"+tp, 100, 0, 60, 100, 0, 20)\n",
      "    return h\n",
      "\n",
      "# To get the name of the variables.\n",
      "def get_tp(h):\n",
      "    tp = h.keys()[0].split(\"_\", 1)[-1]\n",
      "    if tp == \"BS\":\n",
      "        tps = \"BS\"\n",
      "    if tp == \"PV\":\n",
      "        tps = \"PV_includingPVError\"\n",
      "    elif tp == \"PVrefit\":\n",
      "        tps = \"PVrefit_includingPVError\"\n",
      "    elif tp == \"PVrefit_sigWrtPerpDilepton\":\n",
      "        tps = \"PVrefit_sigWrtPerpDilepton_includingPVError\"\n",
      "    elif tp == \"PVrefit_signWrtX\":\n",
      "        tps = \"PVrefit_signWrtX_includingPVError\"\n",
      "    elif tp == \"PVrefit_signWrtPerp\":\n",
      "        tps = \"PVrefit_includingPVError_signWrtPerp\"\n",
      "    return tp, tps\n",
      "\n",
      "\n",
      "def fill_overflow(h, value):\n",
      "    if h.FindBin(value) < h.GetNbinsX():\n",
      "        h.Fill(value)\n",
      "    else:\n",
      "        h.Fill(h.GetBinCenter(h.GetNbinsX()))\n",
      "\n",
      "\n",
      "def fill_plots(cand, leptonL, leptonH, chosenPdgId, h):\n",
      "    tp, tps = get_tp(h)\n",
      "    if leptonL.genSignalOriginPdgId != 0 and abs(leptonL.genPdgId) == chosenPdgId:\n",
      "        h[\"hd0deltaD0OverGenD0VsGenLxy_\"+tp].Fill(leptonL.genSignalOriginLxy,\n",
      "                                                  (getattr(cand, \"leptonD0L_\"+tp) - abs(leptonL.genD0))/abs(leptonL.genD0))\n",
      "    if leptonH.genSignalOriginPdgId != 0 and abs(leptonH.genPdgId) == chosenPdgId:\n",
      "        h[\"hd0deltaD0OverGenD0VsGenLxy_\"+tp].Fill(leptonH.genSignalOriginLxy,\n",
      "                                                  (getattr(cand, \"leptonD0H_\"+tp) - abs(leptonH.genD0))/abs(leptonH.genD0))\n",
      "    lepton = \"L\"\n",
      "    if abs(getattr(cand, \"leptonD0SignificanceH_\"+tps)) > abs(getattr(cand, \"leptonD0SignificanceL_\"+tps)):\n",
      "        lepton = \"H\"\n",
      "    minAbsD0 = abs(getattr(cand, \"leptonD0\"+lepton+\"_\"+tp))\n",
      "    minAbsD0Sig = abs(getattr(cand, \"leptonD0Significance\"+lepton+\"_\"+tps))\n",
      "    # print minAbsD0Sig, h[\"hd0Significance_\"+tp].FindBin(minAbsD0Sig), h[\"hd0Significance_\"+tp].GetNbinsX()\n",
      "    fill_overflow(h[\"hd0Significance_\"+tp], minAbsD0Sig)\n",
      "    h[\"hd0SignificanceVsD0_\"+tp].Fill(minAbsD0, minAbsD0Sig)\n"
     ],
     "language": "python",
     "metadata": {},
     "outputs": [],
     "prompt_number": 5
    },
    {
     "cell_type": "code",
     "collapsed": false,
     "input": [
      "h_PV = create_plots(\"PV\")\n",
      "h_BS = create_plots(\"BS\")\n",
      "# h_PVrefit = create_plots(\"PVrefit\")\n",
      "h_PVrefit_sigWrtPerpDilepton = create_plots(\"PVrefit_sigWrtPerpDilepton\")\n",
      "h_PVrefit_signWrtX = create_plots(\"PVrefit_signWrtX\")\n",
      "h_PVrefit_signWrtPerp = create_plots(\"PVrefit_signWrtPerp\")\n",
      "\n",
      "h_Track_PVrefit = create_plots(\"PVrefit\")\n",
      "\n",
      "\n",
      "hLxy_PV = TH1F(\"hLxy_PV\", \"Lxy\", 100, 0, 100)\n",
      "hLxySig_PV = TH1F(\"hLxySig_PV\", \"Lxy significance\", 100, 0, 20)\n",
      "hLxyVsGenLxy_PV = TH2F(\"hLxyVsGenLxy_PV\",\n",
      "                       \"Lxy vs genLxy\", 100, 0, 100, 100, 0, 100)\n",
      "hLxySigVsLxy_PV = TH2F(\"hLxySigVsLxy_PV\",\n",
      "                       \"Lxy significance vs Lxy\", 100, 0, 20, 100, 0, 100)\n",
      "\n",
      "hLxy_BS = TH1F(\"hLxy_BS\", \"Lxy\", 100, 0, 100)\n",
      "hLxySig_BS = TH1F(\"hLxySig_BS\", \"Lxy significance\", 100, 0, 20)\n",
      "hLxyVsGenLxy_BS = TH2F(\"hLxyVsGenLxy_BS\",\n",
      "                       \"Lxy vs genLxy\", 100, 0, 100, 100, 0, 100)\n",
      "hLxySigVsLxy_BS = TH2F(\"hLxySigVsLxy_BS\",\n",
      "                       \"Lxy significance vs Lxy\", 100, 0, 20, 100, 0, 100)\n",
      "\n",
      "\n",
      "# Note: we only count the events where at least one candidate decayed to muons.\n",
      "totalEvents = 0\n",
      "triggeredEvents = 0\n",
      "selectedEvents = 0\n",
      "selectedEventsAndComplementary = 0\n",
      "selectedEventsAndComplementaryAndSignalRegion = 0\n",
      "\n",
      "num = 0\n",
      "p = ProgressBar(tree.GetEntries())\n",
      "for event in tree:\n",
      "    cands = event.candidates\n",
      "    if num%(event.GetEntries()/100) == 0:\n",
      "        p.animate(num)\n",
      "    num += 1\n",
      "    # if num == 100:\n",
      "    #     break\n",
      "\n",
      "    # Use only muons from long-lived particle decays\n",
      "    if signalMC and not is_selected_signal(cands, signalPdgIds): continue\n",
      "    if not signalMC or decay_to_chosen_pdg_id(cands, \"ll1\", chosenPdgId) or decay_to_chosen_pdg_id(cands, \"ll2\", chosenPdgId):\n",
      "        totalEvents += 1\n",
      "        if not signal_trigger_fired(event.triggers, signalTrigger): continue\n",
      "        triggeredEvents += 1\n",
      "        passesSelection = False\n",
      "        passesSelectionAndComplementary = False\n",
      "        passesSelectionAndComplementaryAndSignalRegion = False\n",
      "\n",
      "        # Track-based\n",
      "        passing_candidates = passing_track_based_candidates(cands)\n",
      "        for passing_candidate in passing_candidates:\n",
      "            minD0SigTrack = min(abs(passing_candidate[0].leptonD0SignificanceL_PVrefit_includingPVError),\n",
      "                                abs(passing_candidate[0].leptonD0SignificanceH_PVrefit_includingPVError))\n",
      "            fill_plots(passing_candidate[0], passing_candidate[1], passing_candidate[2],\n",
      "                       chosenPdgId, h_Track_PVrefit)\n",
      "            # print \"d0Sig =\", minD0SigTrack\n",
      "        \n",
      "        # print \"passing track-candidates =\", len(passing_candidate)\n",
      "        \n",
      "        # continue\n",
      "        \n",
      "        \n",
      "\n",
      "        # StandAloneMuons\n",
      "        # ---------------\n",
      "        for cand in cands.candidates_:\n",
      "            # Dimuon cuts\n",
      "            if not (cand.cosine > cosineCut and cand.validVertex and cand.vertexChi2 < vertexChi2Cut and\n",
      "                    cand.deltaR > deltaRCut and cand.corrDileptonMass > massCut):\n",
      "                continue\n",
      "            leptonL = get_lepton(cands.leptons_, cand.leptonIndexL)\n",
      "            leptonH = get_lepton(cands.leptons_, cand.leptonIndexH)\n",
      "            # Only use refittedStandAloneMuons\n",
      "            if not leptonL.isStandAloneMuon or not leptonH.isStandAloneMuon: continue\n",
      "            # Muon cuts\n",
      "            if (pass_muon_cuts(leptonL, ptCut, etaCut, isoCut, minStationsWithValidHits) and\n",
      "               pass_muon_cuts(leptonH, ptCut, etaCut, isoCut, minStationsWithValidHits)):\n",
      "                passesSelection = True\n",
      "\n",
      "                # Reject events selected by the track-based analysis\n",
      "                if not is_complementary(leptonL, leptonH, passing_candidates): continue\n",
      "                passesSelectionAndComplementary = True\n",
      "                \n",
      "                # Signal region\n",
      "                if not( cand.dPhiCorr < math.pi/2. and cand.dPhiCorr >= 0. ): continue\n",
      "                passesSelectionAndComplementaryAndSignalRegion = True\n",
      "                \n",
      "                # Lxy\n",
      "                hLxy_PV.Fill(cand.decayLength_PV)\n",
      "                hLxySig_PV.Fill(cand.decayLengthSignificance_PV)\n",
      "                hLxySigVsLxy_PV.Fill(cand.decayLengthSignificance_PV, cand.decayLength_PV)\n",
      "                # if abs(cand.originPdgIdL) == signalPdgIds[0] and abs(cand.originPdgIdH) == signalPdgIds[0]:\n",
      "                hLxyVsGenLxy_PV.Fill(cand.decayLength_PV, cand.genDecayLength2D)\n",
      "\n",
      "                hLxy_BS.Fill(cand.decayLength_BS)\n",
      "                hLxySig_BS.Fill(cand.decayLengthSignificance_BS)\n",
      "                hLxySigVsLxy_BS.Fill(cand.decayLengthSignificance_BS, cand.decayLength_BS)\n",
      "                # if abs(cand.originPdgIdL) == signalPdgIds[0] and abs(cand.originPdgIdH) == signalPdgIds[0]:\n",
      "                hLxyVsGenLxy_BS.Fill(cand.decayLength_BS, cand.genDecayLength2D)\n",
      "\n",
      "                # d0\n",
      "                fill_plots(cand, leptonL, leptonH, chosenPdgId, h_PV)\n",
      "                fill_plots(cand, leptonL, leptonH, chosenPdgId, h_BS)\n",
      "                # fill_plots(cand, leptonL, leptonH, chosenPdgId, h_PVrefit)\n",
      "                fill_plots(cand, leptonL, leptonH, chosenPdgId, h_PVrefit_sigWrtPerpDilepton)\n",
      "                fill_plots(cand, leptonL, leptonH, chosenPdgId, h_PVrefit_signWrtX)\n",
      "                fill_plots(cand, leptonL, leptonH, chosenPdgId, h_PVrefit_signWrtPerp)\n",
      "\n",
      "        if passesSelection:\n",
      "            selectedEvents += 1\n",
      "        if passesSelectionAndComplementary:\n",
      "            selectedEventsAndComplementary += 1\n",
      "        if passesSelectionAndComplementaryAndSignalRegion:\n",
      "            selectedEventsAndComplementaryAndSignalRegion += 1\n"
     ],
     "language": "python",
     "metadata": {},
     "outputs": [
      {
       "output_type": "stream",
       "stream": "stdout",
       "text": [
        "\r",
        " [                       0%                       ]"
       ]
      },
      {
       "output_type": "stream",
       "stream": "stdout",
       "text": [
        "\r",
        " [                       0%                       ]  1 of 84876 complete"
       ]
      },
      {
       "output_type": "stream",
       "stream": "stdout",
       "text": [
        "\r",
        " [                       1%                       ]  849 of 84876 complete"
       ]
      },
      {
       "output_type": "stream",
       "stream": "stdout",
       "text": [
        "\r",
        " [*                      2%                       ]  1697 of 84876 complete"
       ]
      },
      {
       "output_type": "stream",
       "stream": "stdout",
       "text": [
        "\r",
        " [*                      3%                       ]  2545 of 84876 complete"
       ]
      },
      {
       "output_type": "stream",
       "stream": "stdout",
       "text": [
        "\r",
        " [**                     4%                       ]  3393 of 84876 complete"
       ]
      },
      {
       "output_type": "stream",
       "stream": "stdout",
       "text": [
        "\r",
        " [**                     5%                       ]  4241 of 84876 complete"
       ]
      },
      {
       "output_type": "stream",
       "stream": "stdout",
       "text": [
        "\r",
        " [***                    6%                       ]  5089 of 84876 complete"
       ]
      },
      {
       "output_type": "stream",
       "stream": "stdout",
       "text": [
        "\r",
        " [***                    7%                       ]  5937 of 84876 complete"
       ]
      },
      {
       "output_type": "stream",
       "stream": "stdout",
       "text": [
        "\r",
        " [****                   8%                       ]  6785 of 84876 complete"
       ]
      },
      {
       "output_type": "stream",
       "stream": "stdout",
       "text": [
        "\r",
        " [****                   9%                       ]  7633 of 84876 complete"
       ]
      },
      {
       "output_type": "stream",
       "stream": "stdout",
       "text": [
        "\r",
        " [*****                 10%                       ]  8481 of 84876 complete"
       ]
      },
      {
       "output_type": "stream",
       "stream": "stdout",
       "text": [
        "\r",
        " [*****                 11%                       ]  9329 of 84876 complete"
       ]
      },
      {
       "output_type": "stream",
       "stream": "stdout",
       "text": [
        "\r",
        " [******                12%                       ]  10177 of 84876 complete"
       ]
      },
      {
       "output_type": "stream",
       "stream": "stdout",
       "text": [
        "\r",
        " [******                13%                       ]  11025 of 84876 complete"
       ]
      },
      {
       "output_type": "stream",
       "stream": "stdout",
       "text": [
        "\r",
        " [*******               14%                       ]  11873 of 84876 complete"
       ]
      },
      {
       "output_type": "stream",
       "stream": "stdout",
       "text": [
        "\r",
        " [*******               15%                       ]  12721 of 84876 complete"
       ]
      },
      {
       "output_type": "stream",
       "stream": "stdout",
       "text": [
        "\r",
        " [********              16%                       ]  13569 of 84876 complete"
       ]
      },
      {
       "output_type": "stream",
       "stream": "stdout",
       "text": [
        "\r",
        " [********              17%                       ]  14417 of 84876 complete"
       ]
      },
      {
       "output_type": "stream",
       "stream": "stdout",
       "text": [
        "\r",
        " [*********             18%                       ]  15265 of 84876 complete"
       ]
      },
      {
       "output_type": "stream",
       "stream": "stdout",
       "text": [
        "\r",
        " [*********             19%                       ]  16113 of 84876 complete"
       ]
      },
      {
       "output_type": "stream",
       "stream": "stdout",
       "text": [
        "\r",
        " [**********            20%                       ]  16961 of 84876 complete"
       ]
      },
      {
       "output_type": "stream",
       "stream": "stdout",
       "text": [
        "\r",
        " [**********            21%                       ]  17809 of 84876 complete"
       ]
      },
      {
       "output_type": "stream",
       "stream": "stdout",
       "text": [
        "\r",
        " [***********           22%                       ]  18657 of 84876 complete"
       ]
      },
      {
       "output_type": "stream",
       "stream": "stdout",
       "text": [
        "\r",
        " [***********           23%                       ]  19505 of 84876 complete"
       ]
      },
      {
       "output_type": "stream",
       "stream": "stdout",
       "text": [
        "\r",
        " [************          24%                       ]  20353 of 84876 complete"
       ]
      },
      {
       "output_type": "stream",
       "stream": "stdout",
       "text": [
        "\r",
        " [************          25%                       ]  21201 of 84876 complete"
       ]
      },
      {
       "output_type": "stream",
       "stream": "stdout",
       "text": [
        "\r",
        " [************          26%                       ]  22049 of 84876 complete"
       ]
      },
      {
       "output_type": "stream",
       "stream": "stdout",
       "text": [
        "\r",
        " [*************         27%                       ]  22897 of 84876 complete"
       ]
      },
      {
       "output_type": "stream",
       "stream": "stdout",
       "text": [
        "\r",
        " [*************         28%                       ]  23745 of 84876 complete"
       ]
      },
      {
       "output_type": "stream",
       "stream": "stdout",
       "text": [
        "\r",
        " [**************        29%                       ]  24593 of 84876 complete"
       ]
      },
      {
       "output_type": "stream",
       "stream": "stdout",
       "text": [
        "\r",
        " [**************        30%                       ]  25441 of 84876 complete"
       ]
      },
      {
       "output_type": "stream",
       "stream": "stdout",
       "text": [
        "\r",
        " [***************       31%                       ]  26289 of 84876 complete"
       ]
      },
      {
       "output_type": "stream",
       "stream": "stdout",
       "text": [
        "\r",
        " [***************       32%                       ]  27137 of 84876 complete"
       ]
      },
      {
       "output_type": "stream",
       "stream": "stdout",
       "text": [
        "\r",
        " [****************      33%                       ]  27985 of 84876 complete"
       ]
      },
      {
       "output_type": "stream",
       "stream": "stdout",
       "text": [
        "\r",
        " [****************      34%                       ]  28833 of 84876 complete"
       ]
      },
      {
       "output_type": "stream",
       "stream": "stdout",
       "text": [
        "\r",
        " [*****************     35%                       ]  29681 of 84876 complete"
       ]
      },
      {
       "output_type": "stream",
       "stream": "stdout",
       "text": [
        "\r",
        " [*****************     36%                       ]  30529 of 84876 complete"
       ]
      },
      {
       "output_type": "stream",
       "stream": "stdout",
       "text": [
        "\r",
        " [******************    37%                       ]  31377 of 84876 complete"
       ]
      },
      {
       "output_type": "stream",
       "stream": "stdout",
       "text": [
        "\r",
        " [******************    38%                       ]  32225 of 84876 complete"
       ]
      },
      {
       "output_type": "stream",
       "stream": "stdout",
       "text": [
        "\r",
        " [*******************   39%                       ]  33073 of 84876 complete"
       ]
      },
      {
       "output_type": "stream",
       "stream": "stdout",
       "text": [
        "\r",
        " [*******************   40%                       ]  33921 of 84876 complete"
       ]
      },
      {
       "output_type": "stream",
       "stream": "stdout",
       "text": [
        "\r",
        " [********************  41%                       ]  34769 of 84876 complete"
       ]
      },
      {
       "output_type": "stream",
       "stream": "stdout",
       "text": [
        "\r",
        " [********************  42%                       ]  35617 of 84876 complete"
       ]
      },
      {
       "output_type": "stream",
       "stream": "stdout",
       "text": [
        "\r",
        " [********************* 43%                       ]  36465 of 84876 complete"
       ]
      },
      {
       "output_type": "stream",
       "stream": "stdout",
       "text": [
        "\r",
        " [********************* 44%                       ]  37313 of 84876 complete"
       ]
      },
      {
       "output_type": "stream",
       "stream": "stdout",
       "text": [
        "\r",
        " [**********************45%                       ]  38161 of 84876 complete"
       ]
      },
      {
       "output_type": "stream",
       "stream": "stdout",
       "text": [
        "\r",
        " [**********************46%                       ]  39009 of 84876 complete"
       ]
      },
      {
       "output_type": "stream",
       "stream": "stdout",
       "text": [
        "\r",
        " [**********************47%                       ]  39857 of 84876 complete"
       ]
      },
      {
       "output_type": "stream",
       "stream": "stdout",
       "text": [
        "\r",
        " [**********************48%                       ]  40705 of 84876 complete"
       ]
      },
      {
       "output_type": "stream",
       "stream": "stdout",
       "text": [
        "\r",
        " [**********************49%                       ]  41553 of 84876 complete"
       ]
      },
      {
       "output_type": "stream",
       "stream": "stdout",
       "text": [
        "\r",
        " [**********************50%                       ]  42401 of 84876 complete"
       ]
      },
      {
       "output_type": "stream",
       "stream": "stdout",
       "text": [
        "\r",
        " [**********************51%                       ]  43249 of 84876 complete"
       ]
      },
      {
       "output_type": "stream",
       "stream": "stdout",
       "text": [
        "\r",
        " [**********************52%                       ]  44097 of 84876 complete"
       ]
      },
      {
       "output_type": "stream",
       "stream": "stdout",
       "text": [
        "\r",
        " [**********************53%                       ]  44945 of 84876 complete"
       ]
      },
      {
       "output_type": "stream",
       "stream": "stdout",
       "text": [
        "\r",
        " [**********************54%*                      ]  45793 of 84876 complete"
       ]
      },
      {
       "output_type": "stream",
       "stream": "stdout",
       "text": [
        "\r",
        " [**********************55%*                      ]  46641 of 84876 complete"
       ]
      },
      {
       "output_type": "stream",
       "stream": "stdout",
       "text": [
        "\r",
        " [**********************56%**                     ]  47489 of 84876 complete"
       ]
      },
      {
       "output_type": "stream",
       "stream": "stdout",
       "text": [
        "\r",
        " [**********************57%**                     ]  48337 of 84876 complete"
       ]
      },
      {
       "output_type": "stream",
       "stream": "stdout",
       "text": [
        "\r",
        " [**********************58%***                    ]  49185 of 84876 complete"
       ]
      },
      {
       "output_type": "stream",
       "stream": "stdout",
       "text": [
        "\r",
        " [**********************59%***                    ]  50033 of 84876 complete"
       ]
      },
      {
       "output_type": "stream",
       "stream": "stdout",
       "text": [
        "\r",
        " [**********************60%****                   ]  50881 of 84876 complete"
       ]
      },
      {
       "output_type": "stream",
       "stream": "stdout",
       "text": [
        "\r",
        " [**********************61%****                   ]  51729 of 84876 complete"
       ]
      },
      {
       "output_type": "stream",
       "stream": "stdout",
       "text": [
        "\r",
        " [**********************62%*****                  ]  52577 of 84876 complete"
       ]
      },
      {
       "output_type": "stream",
       "stream": "stdout",
       "text": [
        "\r",
        " [**********************63%*****                  ]  53425 of 84876 complete"
       ]
      },
      {
       "output_type": "stream",
       "stream": "stdout",
       "text": [
        "\r",
        " [**********************64%******                 ]  54273 of 84876 complete"
       ]
      },
      {
       "output_type": "stream",
       "stream": "stdout",
       "text": [
        "\r",
        " [**********************65%******                 ]  55121 of 84876 complete"
       ]
      },
      {
       "output_type": "stream",
       "stream": "stdout",
       "text": [
        "\r",
        " [**********************66%*******                ]  55969 of 84876 complete"
       ]
      },
      {
       "output_type": "stream",
       "stream": "stdout",
       "text": [
        "\r",
        " [**********************67%*******                ]  56817 of 84876 complete"
       ]
      },
      {
       "output_type": "stream",
       "stream": "stdout",
       "text": [
        "\r",
        " [**********************68%********               ]  57665 of 84876 complete"
       ]
      },
      {
       "output_type": "stream",
       "stream": "stdout",
       "text": [
        "\r",
        " [**********************69%********               ]  58513 of 84876 complete"
       ]
      },
      {
       "output_type": "stream",
       "stream": "stdout",
       "text": [
        "\r",
        " [**********************70%*********              ]  59361 of 84876 complete"
       ]
      },
      {
       "output_type": "stream",
       "stream": "stdout",
       "text": [
        "\r",
        " [**********************71%*********              ]  60209 of 84876 complete"
       ]
      },
      {
       "output_type": "stream",
       "stream": "stdout",
       "text": [
        "\r",
        " [**********************72%**********             ]  61057 of 84876 complete"
       ]
      },
      {
       "output_type": "stream",
       "stream": "stdout",
       "text": [
        "\r",
        " [**********************73%**********             ]  61905 of 84876 complete"
       ]
      },
      {
       "output_type": "stream",
       "stream": "stdout",
       "text": [
        "\r",
        " [**********************74%***********            ]  62753 of 84876 complete"
       ]
      },
      {
       "output_type": "stream",
       "stream": "stdout",
       "text": [
        "\r",
        " [**********************75%***********            ]  63601 of 84876 complete"
       ]
      },
      {
       "output_type": "stream",
       "stream": "stdout",
       "text": [
        "\r",
        " [**********************76%***********            ]  64449 of 84876 complete"
       ]
      },
      {
       "output_type": "stream",
       "stream": "stdout",
       "text": [
        "\r",
        " [**********************77%************           ]  65297 of 84876 complete"
       ]
      },
      {
       "output_type": "stream",
       "stream": "stdout",
       "text": [
        "\r",
        " [**********************78%************           ]  66145 of 84876 complete"
       ]
      },
      {
       "output_type": "stream",
       "stream": "stdout",
       "text": [
        "\r",
        " [**********************79%*************          ]  66993 of 84876 complete"
       ]
      },
      {
       "output_type": "stream",
       "stream": "stdout",
       "text": [
        "\r",
        " [**********************80%*************          ]  67841 of 84876 complete"
       ]
      },
      {
       "output_type": "stream",
       "stream": "stdout",
       "text": [
        "\r",
        " [**********************81%**************         ]  68689 of 84876 complete"
       ]
      },
      {
       "output_type": "stream",
       "stream": "stdout",
       "text": [
        "\r",
        " [**********************82%**************         ]  69537 of 84876 complete"
       ]
      },
      {
       "output_type": "stream",
       "stream": "stdout",
       "text": [
        "\r",
        " [**********************83%***************        ]  70385 of 84876 complete"
       ]
      },
      {
       "output_type": "stream",
       "stream": "stdout",
       "text": [
        "\r",
        " [**********************84%***************        ]  71233 of 84876 complete"
       ]
      },
      {
       "output_type": "stream",
       "stream": "stdout",
       "text": [
        "\r",
        " [**********************85%****************       ]  72081 of 84876 complete"
       ]
      },
      {
       "output_type": "stream",
       "stream": "stdout",
       "text": [
        "\r",
        " [**********************86%****************       ]  72929 of 84876 complete"
       ]
      },
      {
       "output_type": "stream",
       "stream": "stdout",
       "text": [
        "\r",
        " [**********************87%*****************      ]  73777 of 84876 complete"
       ]
      },
      {
       "output_type": "stream",
       "stream": "stdout",
       "text": [
        "\r",
        " [**********************88%*****************      ]  74625 of 84876 complete"
       ]
      },
      {
       "output_type": "stream",
       "stream": "stdout",
       "text": [
        "\r",
        " [**********************89%******************     ]  75473 of 84876 complete"
       ]
      },
      {
       "output_type": "stream",
       "stream": "stdout",
       "text": [
        "\r",
        " [**********************90%******************     ]  76321 of 84876 complete"
       ]
      },
      {
       "output_type": "stream",
       "stream": "stdout",
       "text": [
        "\r",
        " [**********************91%*******************    ]  77169 of 84876 complete"
       ]
      },
      {
       "output_type": "stream",
       "stream": "stdout",
       "text": [
        "\r",
        " [**********************92%*******************    ]  78017 of 84876 complete"
       ]
      },
      {
       "output_type": "stream",
       "stream": "stdout",
       "text": [
        "\r",
        " [**********************93%********************   ]  78865 of 84876 complete"
       ]
      },
      {
       "output_type": "stream",
       "stream": "stdout",
       "text": [
        "\r",
        " [**********************94%********************   ]  79713 of 84876 complete"
       ]
      },
      {
       "output_type": "stream",
       "stream": "stdout",
       "text": [
        "\r",
        " [**********************95%*********************  ]  80561 of 84876 complete"
       ]
      },
      {
       "output_type": "stream",
       "stream": "stdout",
       "text": [
        "\r",
        " [**********************96%*********************  ]  81409 of 84876 complete"
       ]
      },
      {
       "output_type": "stream",
       "stream": "stdout",
       "text": [
        "\r",
        " [**********************97%********************** ]  82257 of 84876 complete"
       ]
      },
      {
       "output_type": "stream",
       "stream": "stdout",
       "text": [
        "\r",
        " [**********************98%********************** ]  83105 of 84876 complete"
       ]
      },
      {
       "output_type": "stream",
       "stream": "stdout",
       "text": [
        "\r",
        " [**********************99%***********************]  83953 of 84876 complete"
       ]
      },
      {
       "output_type": "stream",
       "stream": "stderr",
       "text": [
        "TFile::Append:0: RuntimeWarning: Replacing existing TH1: hd0deltaD0OverGenD0VsGenLxy_PV (Potential memory leak).\n",
        "TFile::Append:0: RuntimeWarning: Replacing existing TH1: d0Significance_PV (Potential memory leak).\n",
        "TFile::Append:0: RuntimeWarning: Replacing existing TH1: d0SignificanceVsD0_PV (Potential memory leak).\n",
        "TFile::Append:0: RuntimeWarning: Replacing existing TH1: hd0deltaD0OverGenD0VsGenLxy_BS (Potential memory leak).\n",
        "TFile::Append:0: RuntimeWarning: Replacing existing TH1: d0Significance_BS (Potential memory leak).\n",
        "TFile::Append:0: RuntimeWarning: Replacing existing TH1: d0SignificanceVsD0_BS (Potential memory leak).\n",
        "TFile::Append:0: RuntimeWarning: Replacing existing TH1: hd0deltaD0OverGenD0VsGenLxy_PVrefit_sigWrtPerpDilepton (Potential memory leak).\n",
        "TFile::Append:0: RuntimeWarning: Replacing existing TH1: d0Significance_PVrefit_sigWrtPerpDilepton (Potential memory leak).\n",
        "TFile::Append:0: RuntimeWarning: Replacing existing TH1: d0SignificanceVsD0_PVrefit_sigWrtPerpDilepton (Potential memory leak).\n",
        "TFile::Append:0: RuntimeWarning: Replacing existing TH1: hd0deltaD0OverGenD0VsGenLxy_PVrefit_signWrtX (Potential memory leak).\n",
        "TFile::Append:0: RuntimeWarning: Replacing existing TH1: d0Significance_PVrefit_signWrtX (Potential memory leak).\n",
        "TFile::Append:0: RuntimeWarning: Replacing existing TH1: d0SignificanceVsD0_PVrefit_signWrtX (Potential memory leak).\n",
        "TFile::Append:0: RuntimeWarning: Replacing existing TH1: hd0deltaD0OverGenD0VsGenLxy_PVrefit_signWrtPerp (Potential memory leak).\n",
        "TFile::Append:0: RuntimeWarning: Replacing existing TH1: d0Significance_PVrefit_signWrtPerp (Potential memory leak).\n",
        "TFile::Append:0: RuntimeWarning: Replacing existing TH1: d0SignificanceVsD0_PVrefit_signWrtPerp (Potential memory leak).\n",
        "TFile::Append:0: RuntimeWarning: Replacing existing TH1: hd0deltaD0OverGenD0VsGenLxy_PVrefit (Potential memory leak).\n",
        "TFile::Append:0: RuntimeWarning: Replacing existing TH1: d0Significance_PVrefit (Potential memory leak).\n",
        "TFile::Append:0: RuntimeWarning: Replacing existing TH1: d0SignificanceVsD0_PVrefit (Potential memory leak).\n",
        "TFile::Append:0: RuntimeWarning: Replacing existing TH1: hLxy_PV (Potential memory leak).\n",
        "TFile::Append:0: RuntimeWarning: Replacing existing TH1: hLxySig_PV (Potential memory leak).\n",
        "TFile::Append:0: RuntimeWarning: Replacing existing TH1: hLxyVsGenLxy_PV (Potential memory leak).\n",
        "TFile::Append:0: RuntimeWarning: Replacing existing TH1: hLxySigVsLxy_PV (Potential memory leak).\n",
        "TFile::Append:0: RuntimeWarning: Replacing existing TH1: hLxy_BS (Potential memory leak).\n",
        "TFile::Append:0: RuntimeWarning: Replacing existing TH1: hLxySig_BS (Potential memory leak).\n",
        "TFile::Append:0: RuntimeWarning: Replacing existing TH1: hLxyVsGenLxy_BS (Potential memory leak).\n",
        "TFile::Append:0: RuntimeWarning: Replacing existing TH1: hLxySigVsLxy_BS (Potential memory leak).\n"
       ]
      }
     ],
     "prompt_number": 8
    },
    {
     "cell_type": "code",
     "collapsed": false,
     "input": [
      "print \"total events =\", totalEvents\n",
      "print \"triggered events =\", triggeredEvents\n",
      "print \"selected events =\", selectedEvents\n",
      "print \"selected events complementary to track-based analysis =\", selectedEventsAndComplementary\n",
      "print \"selected events, complementary, and in signal region =\", selectedEventsAndComplementaryAndSignalRegion"
     ],
     "language": "python",
     "metadata": {},
     "outputs": [
      {
       "output_type": "stream",
       "stream": "stdout",
       "text": [
        "total events = 10264\n",
        "triggered events = 7312\n",
        "selected events = 4286\n",
        "selected events complementary to track-based analysis = 3210\n",
        "selected events, complementary, and in signal region = 2856\n"
       ]
      }
     ],
     "prompt_number": 9
    },
    {
     "cell_type": "markdown",
     "metadata": {},
     "source": [
      "Initial numbers:\n",
      "\n",
      "- total events = 10264\n",
      "- triggered events = 7312\n",
      "\n",
      "Selected events:\n",
      "\n",
      "- dimuon cuts only = 6149\n",
      "- adding trigger matching = 5723\n",
      "- adding pt cut = 5712\n",
      "- adding minStationsWithValidHits cut = 5561\n",
      "- adding isolation cut at 0.1 = 4286\n",
      "- adding isolation cut at 0.05 = 4027\n",
      "- with isolation 0.1 and adding complementarity = 3210\n",
      "- adding requirement to be in signal region = 2856\n",
      "\n",
      "**The isolation cut could be more efficient: recompute isolation accounting for vertex distance.**\n",
      "\n",
      "Selected in the signal region:\n"
     ]
    },
    {
     "cell_type": "code",
     "collapsed": false,
     "input": [
      "def draw_plots(h):\n",
      "    tp, tps = get_tp(h)\n",
      "    cD0 = ROOT.TCanvas(\"cD0_\"+tp, \"cD0_\"+tp, 800, 400)\n",
      "    cD0.Divide(2,1)\n",
      "    p = cD0.cd(1)\n",
      "    h[\"hd0Significance_\"+tp].Draw()\n",
      "    p.SetLogy(True)\n",
      "    h[\"hd0Significance_\"+tp].SetXTitle(\"d_{0}/#sigma_{d_{0}}\")\n",
      "    cD0.cd(2)\n",
      "    h[\"hd0SignificanceVsD0_\"+tp].Draw(\"COLZ\")\n",
      "    h[\"hd0SignificanceVsD0_\"+tp].SetYTitle(\"d_{0}/#sigma_{d_{0}}\")\n",
      "    h[\"hd0SignificanceVsD0_\"+tp].SetXTitle(\"d_{0}\")\n",
      "    return cD0"
     ],
     "language": "python",
     "metadata": {},
     "outputs": [],
     "prompt_number": 24
    },
    {
     "cell_type": "code",
     "collapsed": false,
     "input": [
      "# c_PV = draw_plots(h_PV)\n",
      "# c_PV"
     ],
     "language": "python",
     "metadata": {},
     "outputs": [],
     "prompt_number": 11
    },
    {
     "cell_type": "code",
     "collapsed": false,
     "input": [
      "# c_BS = draw_plots(h_BS)\n",
      "# c_BS"
     ],
     "language": "python",
     "metadata": {},
     "outputs": [],
     "prompt_number": 12
    },
    {
     "cell_type": "code",
     "collapsed": false,
     "input": [
      "# c_PVrefit = draw_plots(h_PVrefit)\n",
      "# c_PVrefit"
     ],
     "language": "python",
     "metadata": {},
     "outputs": [],
     "prompt_number": 13
    },
    {
     "cell_type": "code",
     "collapsed": false,
     "input": [
      "# c_PVrefit_sigWrtPerpDilepton = draw_plots(h_PVrefit_sigWrtPerpDilepton)\n",
      "# c_PVrefit_sigWrtPerpDilepton"
     ],
     "language": "python",
     "metadata": {},
     "outputs": [],
     "prompt_number": 14
    },
    {
     "cell_type": "code",
     "collapsed": false,
     "input": [
      "# c_PVrefit_signWrtX = draw_plots(h_PVrefit_signWrtX)\n",
      "# c_PVrefit_signWrtX"
     ],
     "language": "python",
     "metadata": {},
     "outputs": [],
     "prompt_number": 15
    },
    {
     "cell_type": "code",
     "collapsed": false,
     "input": [
      "# c_PVrefit_signWrtPerp = draw_plots(h_PVrefit_signWrtPerp)\n",
      "# c_PVrefit_signWrtPerp"
     ],
     "language": "python",
     "metadata": {},
     "outputs": [],
     "prompt_number": 16
    },
    {
     "cell_type": "code",
     "collapsed": false,
     "input": [
      "cD0SigOverlay = ROOT.TCanvas()\n",
      "h_PVrefit_signWrtPerp[\"hd0Significance_PVrefit_signWrtPerp\"].Draw()\n",
      "h_PVrefit_signWrtPerp[\"hd0Significance_PVrefit_signWrtPerp\"].SetLineColor(6)\n",
      "h_PVrefit_sigWrtPerpDilepton[\"hd0Significance_PVrefit_sigWrtPerpDilepton\"].Draw(\"same\")\n",
      "h_PVrefit_sigWrtPerpDilepton[\"hd0Significance_PVrefit_sigWrtPerpDilepton\"].SetLineColor(3)\n",
      "# h_PV[\"hd0Significance_PV\"].Draw(\"same\")\n",
      "h_PVrefit[\"hd0Significance_PVrefit\"].Draw(\"same\")\n",
      "h_PVrefit[\"hd0Significance_PVrefit\"].SetLineColor(2)\n",
      "h_PVrefit_signWrtX[\"hd0Significance_PVrefit_signWrtX\"].Draw(\"same\")\n",
      "h_PVrefit_signWrtX[\"hd0Significance_PVrefit_signWrtX\"].SetLineColor(4)\n",
      "h_BS[\"hd0Significance_BS\"].Draw(\"same\")\n",
      "h_BS[\"hd0Significance_BS\"].SetLineColor(11)\n",
      "\n",
      "leg = ROOT.TLegend(0.5,0.7,0.9,0.9)\n",
      "# leg.AddEntry(h_PVrefit_sigWrtPerpDilepton[\"hd0Significance_PVrefit_sigWrtPerpDilepton\"], \"PVrefit_sigWrtPerpDilepton\", \"l\")\n",
      "leg.AddEntry(h_PV[\"hd0Significance_PV\"], \"PV\", \"l\")\n",
      "leg.AddEntry(h_BS[\"hd0Significance_BS\"], \"BS\", \"l\")\n",
      "leg.AddEntry(h_PVrefit[\"hd0Significance_PVrefit\"], \"PVrefit\", \"l\")\n",
      "leg.AddEntry(h_PVrefit_signWrtX[\"hd0Significance_PVrefit_signWrtX\"], \"PVrefit_signWrtX\", \"l\")\n",
      "# leg.AddEntry(h_PVrefit_signWrtPerp[\"hd0Significance_PVrefit_signWrtPerp\"], \"PVrefit_signWrtPerp\", \"l\")\n",
      "leg.SetFillColor(0)\n",
      "leg.SetLineColor(0)\n",
      "leg.Draw(\"same\")\n",
      "cD0SigOverlay"
     ],
     "language": "python",
     "metadata": {},
     "outputs": [
      {
       "ename": "NameError",
       "evalue": "name 'h_PVrefit' is not defined",
       "output_type": "pyerr",
       "traceback": [
        "\u001b[0;31m---------------------------------------------------------------------------\u001b[0m\n\u001b[0;31mNameError\u001b[0m                                 Traceback (most recent call last)",
        "\u001b[0;32m<ipython-input-17-ec807dcbb21a>\u001b[0m in \u001b[0;36m<module>\u001b[0;34m()\u001b[0m\n\u001b[1;32m      5\u001b[0m \u001b[0mh_PVrefit_sigWrtPerpDilepton\u001b[0m\u001b[0;34m[\u001b[0m\u001b[0;34m\"hd0Significance_PVrefit_sigWrtPerpDilepton\"\u001b[0m\u001b[0;34m]\u001b[0m\u001b[0;34m.\u001b[0m\u001b[0mSetLineColor\u001b[0m\u001b[0;34m(\u001b[0m\u001b[0;36m3\u001b[0m\u001b[0;34m)\u001b[0m\u001b[0;34m\u001b[0m\u001b[0m\n\u001b[1;32m      6\u001b[0m \u001b[0;31m# h_PV[\"hd0Significance_PV\"].Draw(\"same\")\u001b[0m\u001b[0;34m\u001b[0m\u001b[0;34m\u001b[0m\u001b[0m\n\u001b[0;32m----> 7\u001b[0;31m \u001b[0mh_PVrefit\u001b[0m\u001b[0;34m[\u001b[0m\u001b[0;34m\"hd0Significance_PVrefit\"\u001b[0m\u001b[0;34m]\u001b[0m\u001b[0;34m.\u001b[0m\u001b[0mDraw\u001b[0m\u001b[0;34m(\u001b[0m\u001b[0;34m\"same\"\u001b[0m\u001b[0;34m)\u001b[0m\u001b[0;34m\u001b[0m\u001b[0m\n\u001b[0m\u001b[1;32m      8\u001b[0m \u001b[0mh_PVrefit\u001b[0m\u001b[0;34m[\u001b[0m\u001b[0;34m\"hd0Significance_PVrefit\"\u001b[0m\u001b[0;34m]\u001b[0m\u001b[0;34m.\u001b[0m\u001b[0mSetLineColor\u001b[0m\u001b[0;34m(\u001b[0m\u001b[0;36m2\u001b[0m\u001b[0;34m)\u001b[0m\u001b[0;34m\u001b[0m\u001b[0m\n\u001b[1;32m      9\u001b[0m \u001b[0mh_PVrefit_signWrtX\u001b[0m\u001b[0;34m[\u001b[0m\u001b[0;34m\"hd0Significance_PVrefit_signWrtX\"\u001b[0m\u001b[0;34m]\u001b[0m\u001b[0;34m.\u001b[0m\u001b[0mDraw\u001b[0m\u001b[0;34m(\u001b[0m\u001b[0;34m\"same\"\u001b[0m\u001b[0;34m)\u001b[0m\u001b[0;34m\u001b[0m\u001b[0m\n",
        "\u001b[0;31mNameError\u001b[0m: name 'h_PVrefit' is not defined"
       ]
      }
     ],
     "prompt_number": 17
    },
    {
     "cell_type": "code",
     "collapsed": false,
     "input": [
      "def compute_efficiency(cut):\n",
      "    bin_min = h_PV[\"hd0Significance_PV\"].FindBin(cut)\n",
      "    bin_max = h_PV[\"hd0Significance_PV\"].FindBin(100000)\n",
      "    print \"PVrefit_signWrtPerp ------ : \", h_PVrefit_signWrtPerp[\"hd0Significance_PVrefit_signWrtPerp\"].Integral(bin_min, bin_max)\n",
      "    print \"PVrefit_sigWrtPerpDilepton : \", h_PVrefit_sigWrtPerpDilepton[\"hd0Significance_PVrefit_sigWrtPerpDilepton\"].Integral(bin_min, bin_max)\n",
      "    print \"PV ----------------------- : \", h_PV[\"hd0Significance_PV\"].Integral(bin_min, bin_max)\n",
      "    # print \"PVrefit ------------------ : \", h_PVrefit[\"hd0Significance_PVrefit\"].Integral(bin_min, bin_max)\n",
      "    print \"PVrefit_signWrtX --------- : \", h_PVrefit_signWrtX[\"hd0Significance_PVrefit_signWrtX\"].Integral(bin_min, bin_max)\n",
      "    print \"BS ----------------------- : \", h_BS[\"hd0Significance_BS\"].Integral(bin_min, bin_max)\n",
      "    \n",
      "compute_efficiency(12)"
     ],
     "language": "python",
     "metadata": {},
     "outputs": [
      {
       "output_type": "stream",
       "stream": "stdout",
       "text": [
        " PVrefit_signWrtPerp ------ :  1269.0\n",
        "PVrefit_sigWrtPerpDilepton :  1269.0\n",
        "PV ----------------------- :  1269.0\n",
        "PVrefit_signWrtX --------- :  1269.0\n",
        "BS ----------------------- :  1446.0\n"
       ]
      }
     ],
     "prompt_number": 19
    },
    {
     "cell_type": "markdown",
     "metadata": {},
     "source": [
      "For Signal MC (1000/350):\n",
      "\n",
      "- PVrefit_signWrtX --------- :  1269.0\n",
      "- BS ----------------------- :  1446.0"
     ]
    },
    {
     "cell_type": "code",
     "collapsed": false,
     "input": [
      "print h_PVrefit_signWrtPerp[\"hd0Significance_PVrefit_signWrtPerp\"].GetEntries()\n",
      "integral = h_PVrefit_signWrtPerp[\"hd0Significance_PVrefit_signWrtPerp\"].Integral()\n",
      "underflow = h_PVrefit_signWrtPerp[\"hd0Significance_PVrefit_signWrtPerp\"].GetBinContent(0)\n",
      "overflow = h_PVrefit_signWrtPerp[\"hd0Significance_PVrefit_signWrtPerp\"].GetBinContent(101)\n",
      "\n",
      "print integral, underflow, overflow\n",
      "print integral + underflow + overflow\n",
      "#h_PVrefit_signWrtPerp[\"hd0Significance_PVrefit_signWrtPerp\"].GetNbinsX()\n",
      "#h_PVrefit_signWrtPerp[\"hd0Significance_PVrefit_signWrtPerp\"].GetBinContent(100)"
     ],
     "language": "python",
     "metadata": {},
     "outputs": [
      {
       "output_type": "stream",
       "stream": "stdout",
       "text": [
        "3247.0\n",
        "3247.0 0.0 0.0\n",
        "3247.0\n"
       ]
      }
     ],
     "prompt_number": 20
    },
    {
     "cell_type": "code",
     "collapsed": false,
     "input": [
      "cD0Sig = ROOT.TCanvas(\"cD0Sig\", \"cD0Sig\", 800, 800)\n",
      "cD0Sig.Divide(2,1)\n",
      "cD0Sig.cd(1)\n",
      "h_PV[\"hd0deltaD0OverGenD0VsGenLxy_PV\"].Draw(\"COLZ\")\n",
      "cD0Sig.cd(2)\n",
      "h_BS[\"hd0deltaD0OverGenD0VsGenLxy_BS\"].Draw(\"COLZ\")\n",
      "cD0Sig\n"
     ],
     "language": "python",
     "metadata": {},
     "outputs": [
      {
       "metadata": {},
       "output_type": "pyout",
       "png": "[encoded data removed]",
       "prompt_number": 21,
       "text": [
        "<ROOT.TCanvas object (\"cD0Sig\") at 0x7fbbb7d97ad0>"
       ]
      }
     ],
     "prompt_number": 21
    },
    {
     "cell_type": "code",
     "collapsed": false,
     "input": [
      "cLxy = ROOT.TCanvas(\"cLxy\", \"cLxy\", 1000, 1000)\n",
      "cLxy.Divide(2,2)\n",
      "cLxy.cd(1)\n",
      "hLxy_PV.Draw()\n",
      "hLxy_BS.Draw(\"same\")\n",
      "hLxy_BS.SetLineColor(2)\n",
      "hLxy_PV.SetXTitle(\"L_{xy} [cm]\")\n",
      "cLxy.cd(2)\n",
      "hLxySig_PV.Draw()\n",
      "hLxySig_BS.Draw(\"same\")\n",
      "hLxySig_PV.SetXTitle(\"L_{xy} significance\")\n",
      "hLxySig_BS.SetLineColor(2)\n",
      "cLxy.cd(3)\n",
      "hLxyVsGenLxy_PV.Draw()\n",
      "hLxyVsGenLxy_PV.SetXTitle(\"L_{xy} [cm]\")\n",
      "hLxyVsGenLxy_PV.SetYTitle(\"generator L_{xy}\")\n",
      "cLxy.cd(4)\n",
      "hLxySigVsLxy_PV.Draw()\n",
      "hLxySigVsLxy_PV.SetXTitle(\"L_{xy} significance\")\n",
      "hLxySigVsLxy_PV.SetYTitle(\"L_{xy} [cm]\")\n",
      "cLxy"
     ],
     "language": "python",
     "metadata": {},
     "outputs": [
      {
       "output_type": "stream",
       "stream": "stderr",
       "text": [
        "TCanvas::Constructor:0: RuntimeWarning: Deleting canvas with same name: cLxy\n"
       ]
      },
      {
       "metadata": {},
       "output_type": "pyout",
       "png": "[encoded data removed]",
       "prompt_number": 25,
       "text": [
        "<ROOT.TCanvas object (\"cLxy\") at 0x7fbbb3dc2ce0>"
       ]
      }
     ],
     "prompt_number": 25
    },
    {
     "cell_type": "heading",
     "level": 3,
     "metadata": {},
     "source": [
      "Confirm the distribution for passing track-based candidates"
     ]
    },
    {
     "cell_type": "code",
     "collapsed": false,
     "input": [
      "c_Track_PVrefit = draw_plots(h_Track_PVrefit)\n",
      "c_Track_PVrefit"
     ],
     "language": "python",
     "metadata": {},
     "outputs": [
      {
       "output_type": "stream",
       "stream": "stderr",
       "text": [
        "TCanvas::Constructor:0: RuntimeWarning: Deleting canvas with same name: cD0_PVrefit\n"
       ]
      },
      {
       "metadata": {},
       "output_type": "pyout",
       "png": "[encoded data removed]",
       "prompt_number": 29,
       "text": [
        "<ROOT.TCanvas object (\"cD0_PVrefit\") at 0x7fbbb7a70490>"
       ]
      }
     ],
     "prompt_number": 29
    },
    {
     "cell_type": "code",
     "collapsed": false,
     "input": [
      "hTrack_D0Sig = TH1F(\"hTrack_D0Sig\", \"hTrack_D0Sig\", 40, 0, 20)\n",
      "\n",
      "num = 0\n",
      "for event in tree:\n",
      "\n",
      "    # num+=1\n",
      "    # if num == 1000:\n",
      "    #     break\n",
      "\n",
      "\n",
      "    cands = event.candidates\n",
      "    if signalMC and not is_selected_signal(cands, signalPdgIds): continue\n",
      "    if not signalMC or decay_to_chosen_pdg_id(cands, \"ll1\", chosenPdgId) or decay_to_chosen_pdg_id(cands, \"ll2\", chosenPdgId):\n",
      "        if not signal_trigger_fired(event.triggers, signalTrigger): continue\n",
      "\n",
      "        passing_track_candidates = passing_track_based_candidates(cands)\n",
      "        for cand in passing_track_candidates:\n",
      "            minD0Sig = min(cand[0].leptonD0SignificanceL_PV_includingPVError,\n",
      "                           cand[0].leptonD0SignificanceH_PV_includingPVError)\n",
      "            fill_overflow(hTrack_D0Sig, minD0Sig)"
     ],
     "language": "python",
     "metadata": {},
     "outputs": [],
     "prompt_number": 27
    },
    {
     "cell_type": "code",
     "collapsed": false,
     "input": [
      "cTrack = ROOT.TCanvas()\n",
      "hTrack_D0Sig.Draw()\n",
      "hTrack_D0Sig.SetLineColor(2)\n",
      "h_Track_PVrefit[\"hd0Significance_PVrefit\"].Draw(\"same\")\n",
      "hTrack_D0Sig.GetYaxis().SetRangeUser(0.2, 1E8)\n",
      "cTrack.SetLogy(True)\n",
      "cTrack"
     ],
     "language": "python",
     "metadata": {},
     "outputs": [
      {
       "metadata": {},
       "output_type": "pyout",
       "png": "[encoded data removed]",
       "prompt_number": 32,
       "text": [
        "<ROOT.TCanvas object (\"c1_n9\") at 0x7fbbb980bfa0>"
       ]
      }
     ],
     "prompt_number": 32
    },
    {
     "cell_type": "code",
     "collapsed": false,
     "input": [],
     "language": "python",
     "metadata": {},
     "outputs": [],
     "prompt_number": 25
    }
   ],
   "metadata": {}
  }
 ]
}