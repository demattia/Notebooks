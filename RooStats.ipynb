{
 "metadata": {
  "name": "RooStats"
 },
 "nbformat": 3,
 "nbformat_minor": 0,
 "worksheets": [
  {
   "cells": [
    {
     "cell_type": "heading",
     "level": 1,
     "metadata": {},
     "source": [
      "RooStats Example"
     ]
    },
    {
     "cell_type": "code",
     "collapsed": false,
     "input": [
      "\"\"\"\n",
      "'Limit Example' RooStats tutorial macro #101\n",
      "author: Kyle Cranmer\n",
      "date June. 2009\n",
      "\n",
      "This tutorial shows an example of creating a simple\n",
      "model for a number counting experiment with uncertainty\n",
      "on both the background rate and signal efficeincy. We then\n",
      "use a Confidence Interval Calculator to set a limit on the signal.\n",
      "\"\"\"\n",
      "\n",
      "import ROOT\n",
      "from ROOT import RooStats\n",
      "import rootnotes\n",
      "\n",
      "#########################################\n",
      "## An example of setting a limit in a number counting experiment with uncertainty on background and signal\n",
      "#########################################\n",
      "\n",
      "## to time the macro\n",
      "# t = ROOT.TStopwatch()\n",
      "# t.Start()\n",
      "\n",
      "#########################################\n",
      "## The Model building stage\n",
      "#########################################\n",
      "wspace = ROOT.RooWorkspace()\n",
      "wspace.factory(\"Poisson::countingModel(obs[150,0,300], sum(s[50,0,120]*ratioSigEff[1.,0,2.],b[100,0,300]*ratioBkgEff[1.,0.,2.]))\") ## counting model\n",
      "## wspace.factory(\"Gaussian::sigConstraint(ratioSigEff,1,0.05)\") ## 5% signal efficiency uncertainty\n",
      "## wspace.factory(\"Gaussian::bkgConstraint(ratioBkgEff,1,0.1)\") ## 10% background efficiency uncertainty\n",
      "wspace.factory(\"Gaussian::sigConstraint(1,ratioSigEff,0.05)\") ## 5% signal efficiency uncertainty\n",
      "wspace.factory(\"Gaussian::bkgConstraint(1,ratioBkgEff,0.1)\") ## 10% background efficiency uncertainty\n",
      "wspace.factory(\"PROD::modelWithConstraints(countingModel,sigConstraint,bkgConstraint)\") ## product of terms\n",
      "wspace.Print()\n",
      "\n",
      "modelWithConstraints = wspace.pdf(\"modelWithConstraints\") ## get the model\n",
      "obs = wspace.var(\"obs\") ## get the observable\n",
      "s = wspace.var(\"s\") ## get the signal we care about\n",
      "b = wspace.var(\"b\") ## get the background and set it to a constant. Uncertainty included in ratioBkgEff\n",
      "b.setConstant()\n",
      "ratioSigEff = wspace.var(\"ratioSigEff\") ## get uncertaint parameter to constrain\n",
      "ratioBkgEff = wspace.var(\"ratioBkgEff\") ## get uncertaint parameter to constrain\n",
      "constrainedParams = ROOT.RooArgSet(ratioSigEff, ratioBkgEff) ## need to constrain these in the fit (should change default behavior)\n",
      "\n",
      "## Create an example dataset with 160 observed events\n",
      "obs.setVal(160.)\n",
      "data = ROOT.RooDataSet(\"exampleData\", \"exampleData\", ROOT.RooArgSet(obs))\n",
      "data.add(ROOT.RooArgSet(obs))\n",
      "\n",
      "all = ROOT.RooArgSet(s, ratioBkgEff, ratioSigEff)\n",
      "\n",
      "## not necessary\n",
      "modelWithConstraints.fitTo(data, ROOT.RooFit.Constrain(ROOT.RooArgSet(ratioSigEff, ratioBkgEff)))\n",
      "\n",
      "## Now let's make some confidence intervals for s, our parameter of interest\n",
      "paramOfInterest = ROOT.RooArgSet(s)\n",
      "\n",
      "modelConfig = ROOT.RooStats.ModelConfig(ROOT.RooWorkspace())\n",
      "modelConfig.SetPdf(modelWithConstraints)\n",
      "modelConfig.SetParametersOfInterest(paramOfInterest)\n",
      "\n",
      "## First, let's use a Calculator based on the Profile Likelihood Ratio\n",
      "##ProfileLikelihoodCalculator plc(*data, *modelWithConstraints, paramOfInterest)\n",
      "plc = ROOT.RooStats.ProfileLikelihoodCalculator(data, modelConfig)\n",
      "plc.SetTestSize(.05)\n",
      "lrint = plc.GetInterval() ## that was easy.\n",
      "\n",
      "## Let's make a plot\n",
      "# dataCanvas = ROOT.TCanvas(\"dataCanvas\")\n",
      "dataCanvas = rootnotes.canvas(\"dataCanvas\")\n",
      "# dataCanvas.Divide(2,1)\n",
      "\n",
      "# dataCanvas.cd(1)\n",
      "plotInt = ROOT.RooStats.LikelihoodIntervalPlot(lrint)\n",
      "plotInt.SetTitle(\"Profile Likelihood Ratio and Posterior for S\")\n",
      "plotInt.Draw()\n",
      "\n",
      "## Second, use a Calculator based on the Feldman Cousins technique\n",
      "fc = ROOT.RooStats.FeldmanCousins(data, modelConfig)\n",
      "fc.UseAdaptiveSampling(True)\n",
      "fc.FluctuateNumDataEntries(False) ## number counting analysis: dataset always has 1 entry with N events observed\n",
      "fc.SetNBins(100) ## number of points to test per parameter\n",
      "fc.SetTestSize(.05)\n",
      "## fc.SaveBeltToFile(True) ## optional\n",
      "\n",
      "fcint = fc.GetInterval() ## that was easy.\n",
      "\n",
      "fit = modelWithConstraints.fitTo(data, ROOT.RooFit.Save(True))\n",
      "\n",
      "## Third, use a Calculator based on Markov Chain monte carlo\n",
      "## Before configuring the calculator, let's make a ProposalFunction\n",
      "## that will achieve a high acceptance rate\n",
      "ph = ROOT.RooStats.ProposalHelper()\n",
      "ph.SetVariables(fit.floatParsFinal())\n",
      "ph.SetCovMatrix(fit.covarianceMatrix())\n",
      "ph.SetUpdateProposalParameters(True)\n",
      "ph.SetCacheSize(100)\n",
      "pdfProp = ph.GetProposalFunction() ## that was easy\n",
      "\n",
      "mc = ROOT.RooStats.MCMCCalculator(data, modelConfig)\n",
      "mc.SetNumIters(20000) ## steps to propose in the chain\n",
      "mc.SetTestSize(.05) ## 95% CL\n",
      "mc.SetNumBurnInSteps(40) ## ignore first N steps in chain as \"burn in\"\n",
      "mc.SetProposalFunction(pdfProp)\n",
      "mc.SetLeftSideTailFraction(0.5) ## find a \"central\" interval\n",
      "mcInt = mc.GetInterval() ## that was easy\n",
      "\n",
      "## Get Lower and Upper limits from Profile Calculator\n",
      "print \"Profile lower limit on s = \", lrint.LowerLimit(s)\n",
      "print \"Profile upper limit on s = \", lrint.UpperLimit(s)\n",
      "\n",
      "# dataCanvas.cd(2)\n",
      "\n",
      "## Get Lower and Upper limits from FeldmanCousins with profile construction\n",
      "if (fcint != None):\n",
      "    fcul = fcint.UpperLimit(s)\n",
      "    fcll = fcint.LowerLimit(s)\n",
      "    print \"FC lower limit on s = \", fcll\n",
      "    print \"FC upper limit on s = \", fcul\n",
      "    fcllLine = ROOT.TLine(fcll, 0, fcll, 1)\n",
      "    fculLine = ROOT.TLine(fcul, 0, fcul, 1)\n",
      "    fcllLine.SetLineColor(ROOT.kRed)\n",
      "    fculLine.SetLineColor(ROOT.kRed)\n",
      "    fcllLine.Draw(\"same\")\n",
      "    fculLine.Draw(\"same\")\n",
      "    dataCanvas.Update()\n",
      "\n",
      "\n",
      "## Plot MCMC interval and print some statistics\n",
      "mcPlot = ROOT.RooStats.MCMCIntervalPlot(mcInt)\n",
      "mcPlot.SetLineColor(ROOT.kMagenta)\n",
      "mcPlot.SetLineWidth(2)\n",
      "mcPlot.Draw(\"same\")\n",
      "\n",
      "mcul = mcInt.UpperLimit(s)\n",
      "mcll = mcInt.LowerLimit(s)\n",
      "print \"MCMC lower limit on s = \", mcll\n",
      "print \"MCMC upper limit on s = \", mcul\n",
      "print \"MCMC Actual confidence level: \", mcInt.GetActualConfidenceLevel()\n",
      "\n",
      "\n",
      "dataCanvas"
     ],
     "language": "python",
     "metadata": {},
     "outputs": [
      {
       "output_type": "stream",
       "stream": "stdout",
       "text": [
        "Profile lower limit on s =  29.0183564882\n",
        "Profile upper limit on s =  93.673968327\n",
        "FC lower limit on s =  25.8\n",
        "FC upper limit on s =  97.8\n",
        "MCMC lower limit on s =  30.2980485167\n",
        "MCMC upper limit on s =  92.4536830995\n",
        "MCMC Actual confidence level:  0.949994979416\n"
       ]
      },
      {
       "output_type": "stream",
       "stream": "stderr",
       "text": [
        "TROOT::Append:0: RuntimeWarning: Replacing existing TH1: posterior (Potential memory leak).\n"
       ]
      },
      {
       "output_type": "pyout",
       "png": "[encoded data removed]",
       "prompt_number": 15,
       "text": [
        "<ROOT.TCanvas object (\"dataCanvas\") at 0x1e52ace0>"
       ]
      }
     ],
     "prompt_number": 15
    },
    {
     "cell_type": "code",
     "collapsed": false,
     "input": [
      "# Uncomment this line to force redraw the canvas above\n",
      "canvas = ROOT.TCanvas(\"dataCanvas\")"
     ],
     "language": "python",
     "metadata": {},
     "outputs": [
      {
       "output_type": "stream",
       "stream": "stderr",
       "text": [
        "TCanvas::Constructor:0: RuntimeWarning: Deleting canvas with same name: dataCanvas\n"
       ]
      }
     ],
     "prompt_number": 14
    },
    {
     "cell_type": "code",
     "collapsed": false,
     "input": [
      "## 3-d plot of the parameter points\n",
      "# dataCanvas.cd(2)\n",
      "dataCanvas2 = rootnotes.canvas(\"dataCanvas2\")\n",
      "## also plot the points in the markov chain\n",
      "chainData = mcInt.GetChainAsDataSet()\n",
      "\n",
      "assert(chainData)\n",
      "# print \"plotting the chain data - nentries = \", chainData.numEntries()\n",
      "# chain = ROOT.RooStats.GetAsTTree(\"chainTreeData\",\"chainTreeData\", chainData)\n",
      "# assert(chain)\n",
      "# chain.SetMarkerStyle(6)\n",
      "# chain.SetMarkerColor(ROOT.kRed)\n",
      "\n",
      "chainDataHisto = chainData.createHistogram(ratioSigEff, ratioBkgEff, \"\", \"nll_MarkovChain_local_\")\n",
      "chainDataHisto.SetMarkerStyle(6)\n",
      "chainDataHisto.SetMarkerColor(ROOT.kRed)\n",
      "# chainDataHisto.Draw()\n",
      "\n",
      "# chain.Draw(\"s:ratioSigEff:ratioBkgEff\",\"nll_MarkovChain_local_\",\"box\") ## 3-d box proporional to posterior\n",
      "\n",
      "## the points used in the profile construction\n",
      "parScanData = fc.GetPointsToScan()\n",
      "assert(parScanData)\n",
      "print \"plotting the scanned points used in the frequentist construction - npoints = \", parScanData.numEntries()\n",
      "## getting the tree and drawing it -crashes (very strange....)\n",
      "## TTree* parameterScan = RooStats::GetAsTTree(\"parScanTreeData\",\"parScanTreeData\",*parScanData)\n",
      "## assert(parameterScan)\n",
      "## parameterScan.Draw(\"s:ratioSigEff:ratioBkgEff\",\"\",\"candle goff\")\n",
      "gr = ROOT.TGraph2D(parScanData.numEntries())\n",
      "for ievt in range(parScanData.numEntries()):\n",
      "    evt = parScanData.get(ievt)\n",
      "    x = evt.getRealValue(\"ratioBkgEff\")\n",
      "    y = evt.getRealValue(\"ratioSigEff\")\n",
      "    z = evt.getRealValue(\"s\")\n",
      "    gr.SetPoint(ievt, x,y,z)\n",
      "\n",
      "gr.SetMarkerStyle(24)\n",
      "# gr.Draw(\"P SAME\")\n",
      "gr.Draw(\"AP\")\n",
      "\n",
      "### print timing info\n",
      "# t.Stop()\n",
      "# t.Print()\n",
      "\n",
      "dataCanvas2"
     ],
     "language": "python",
     "metadata": {},
     "outputs": [
      {
       "output_type": "stream",
       "stream": "stdout",
       "text": [
        "plotting the scanned points used in the frequentist construction - npoints =  100\n"
       ]
      },
      {
       "output_type": "stream",
       "stream": "stderr",
       "text": [
        "TROOT::Append:0: RuntimeWarning: Replacing existing TGraph2D: Graph2D (Potential memory leak).\n"
       ]
      },
      {
       "output_type": "pyout",
       "png": "[encoded data removed]",
       "prompt_number": 37,
       "text": [
        "<ROOT.TCanvas object (\"dataCanvas2\") at 0x2068c7f0>"
       ]
      }
     ],
     "prompt_number": 37
    },
    {
     "cell_type": "code",
     "collapsed": false,
     "input": [
      "canvas2 = ROOT.TCanvas(\"dataCanvas2\")"
     ],
     "language": "python",
     "metadata": {},
     "outputs": [
      {
       "output_type": "stream",
       "stream": "stderr",
       "text": [
        "TCanvas::Constructor:0: RuntimeWarning: Deleting canvas with same name: dataCanvas2\n"
       ]
      }
     ],
     "prompt_number": 35
    },
    {
     "cell_type": "code",
     "collapsed": false,
     "input": [],
     "language": "python",
     "metadata": {},
     "outputs": []
    }
   ],
   "metadata": {}
  }
 ]
}