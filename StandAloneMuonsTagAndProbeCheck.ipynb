{
 "metadata": {
  "name": ""
 },
 "nbformat": 3,
 "nbformat_minor": 0,
 "worksheets": [
  {
   "cells": [
    {
     "cell_type": "code",
     "collapsed": false,
     "input": [
      "import ROOT\n",
      "import rootnotes\n",
      "import rootprint\n",
      "import math\n",
      "from ROOT import TFile, TDirectory, TH1F, TCanvas, TLegend"
     ],
     "language": "python",
     "metadata": {},
     "outputs": [],
     "prompt_number": 1
    },
    {
     "cell_type": "code",
     "collapsed": false,
     "input": [
      "muMass = 0.1057\n",
      "\n",
      "def deltaPhi(phi1, phi2):\n",
      "    result = phi1 - phi2;\n",
      "    if result > math.pi: result -= 2*math.pi\n",
      "    if result <= -math.pi: result += 2*math.pi\n",
      "    return result\n",
      "\n",
      "def deltaR(v1, v2):\n",
      "    return math.sqrt(deltaPhi(v1.phi(), v2.phi())**2 + (v1.eta()-v2.eta())**2)\n",
      "\n",
      "def deltaR(phi1, eta1, phi2, eta2):\n",
      "    return math.sqrt(deltaPhi(phi1, phi2)**2 + (eta1-eta2)**2)\n",
      "\n",
      "def computeCosineAndMass(mu1, mu2):\n",
      "    muon1 = ROOT.TLorentzVector()\n",
      "    muon2 = ROOT.TLorentzVector()\n",
      "    muon1.SetPtEtaPhiM(mu1.pt, mu1.eta, mu1.phi, muMass)\n",
      "    muon2.SetPtEtaPhiM(mu2.pt, mu2.eta, mu2.phi, muMass)\n",
      "    cosine = math.cos(muon1.Angle(muon2.Vect()))\n",
      "    mass = (muon1+muon2).M()\n",
      "    return (cosine, mass)"
     ],
     "language": "python",
     "metadata": {},
     "outputs": [],
     "prompt_number": 2
    },
    {
     "cell_type": "code",
     "collapsed": false,
     "input": [
      "ROOT.gROOT.LoadMacro(\"Loader.C+\")"
     ],
     "language": "python",
     "metadata": {},
     "outputs": [
      {
       "metadata": {},
       "output_type": "pyout",
       "prompt_number": 3,
       "text": [
        "0"
       ]
      }
     ],
     "prompt_number": 3
    },
    {
     "cell_type": "code",
     "collapsed": false,
     "input": [
      "# original = TFile(\"/Users/demattia/tnpZ_MC_refittedSA_check_with_our_code.root\", \"READ\")\n",
      "# original = TFile(\"/Users/demattia/tnpZ_MC_refittedSA_check_with_our_code_deltapt_removed.root\", \"READ\")\n",
      "original = TFile(\"/Users/demattia/tnpZ_MC_SA.root\", \"READ\")\n",
      "originalDir = original.Get(\"tpTree\")\n",
      "originalTree = originalDir.Get(\"fitter_tree\")\n",
      "# originalTree = originalDir.Get(\"mcUnbias_tree\")"
     ],
     "language": "python",
     "metadata": {},
     "outputs": [],
     "prompt_number": 57
    },
    {
     "cell_type": "code",
     "collapsed": false,
     "input": [
      "%%rootprint\n",
      "originalTree.ls()"
     ],
     "language": "python",
     "metadata": {},
     "outputs": [
      {
       "output_type": "stream",
       "stream": "stdout",
       "text": [
        "OBJ: TTree\tfitter_tree\tfitter_tree : 0 at: 0x7f9510d7a110\n",
        "\n"
       ]
      }
     ],
     "prompt_number": 5
    },
    {
     "cell_type": "code",
     "collapsed": false,
     "input": [
      "ours = TFile(\"/Users/demattia/tnpZ_MC_SA_cross_check_with_official_code.root\", \"READ\")\n",
      "ourTree = ours.Get(\"T\")"
     ],
     "language": "python",
     "metadata": {},
     "outputs": [],
     "prompt_number": 6
    },
    {
     "cell_type": "code",
     "collapsed": false,
     "input": [
      "%%rootprint\n",
      "ourTree.ls()"
     ],
     "language": "python",
     "metadata": {},
     "outputs": [
      {
       "output_type": "stream",
       "stream": "stdout",
       "text": [
        "OBJ: TTree\tT\tMuonsTree : 0 at: 0x7f9510de02c0\n",
        "\n"
       ]
      }
     ],
     "prompt_number": 7
    },
    {
     "cell_type": "heading",
     "level": 3,
     "metadata": {},
     "source": [
      "Our tree"
     ]
    },
    {
     "cell_type": "code",
     "collapsed": false,
     "input": [
      "ourPt = TH1F(\"ourPt\", \"our tag p_{T}\", 100, 0, 100)\n",
      "ourProbePt = TH1F(\"ourProbePt\", \"our probe p_{T}\", 100, 0, 100)\n",
      "ourPassingProbePt = TH1F(\"ourPassingProbePt\", \"our passing probe p_{T}\", 100, 0, 100)\n",
      "ourL2Pt = TH1F(\"ourL2Pt\", \"our L2 p_{T}\", 100, 0, 100)\n",
      "\n",
      "counter = 0\n",
      "for event in ourTree:\n",
      "    # if event.event != 16333230:\n",
      "    #     continue\n",
      "    for tag in event.muons:\n",
      "        # tagProbePairFound = False\n",
      "        # tag trigger match and selection\n",
      "        matchedTag = False\n",
      "        for triggerMuon in event.triggerFilterObjectsMap[\"hltL3crIsoL1sMu16L1f0L2f16QL3f24QL3crIsoRhoFiltered0p15\"]:\n",
      "            if (deltaR(triggerMuon.phi, triggerMuon.eta, tag.phi, tag.eta) < 0.1) and \\\n",
      "            ( tag.pt > 26 and abs(tag.eta) < 2) and tag.isolation/tag.pt < 0.1 and \\\n",
      "            tag.trackerLayersWithMeasurement >= 6  and abs(tag.dxy) < 30. and abs(tag.dz) < 30.:\n",
      "                matchedTag = True\n",
      "\n",
      "        # reject tags closer than deltaR = 0.2 from probe\n",
      "        if not matchedTag: continue\n",
      "        for probe in event.refittedStandAloneMuons:\n",
      "            if probe.pt > 17. and abs(probe.eta) < 2.4:\n",
      "                if deltaR(tag.phi, tag.eta, probe.phi, probe.eta) > 0.2:# and computeCosineAndMass(tag, probe)[0] > -0.79:\n",
      "                    mass = computeCosineAndMass(tag, probe)[1]\n",
      "                    # print \"mass =\", mass\n",
      "                    if mass > 150 or mass < 10: continue\n",
      "                    # tagProbePairFound = True\n",
      "                    # if counter > 20:\n",
      "                    #     break\n",
      "                    # if matchedTag:\n",
      "                    #     print event.event\n",
      "                    # counter += 1\n",
      "                    # print \"tag pt =\", tag.pt\n",
      "                    # print \"tag eta =\", tag.eta\n",
      "                    # print \"tag phi =\", tag.phi\n",
      "                    # print \"probe pt =\", probe.pt\n",
      "                    # print \"probe eta =\", probe.eta\n",
      "                    # print \"probe phi =\", probe.phi\n",
      "                    ourPt.Fill(tag.pt)\n",
      "                    ourProbePt.Fill(probe.pt)\n",
      "                    for triggerProbeMuon in event.triggerFilterObjectsMap[\"hltL2DoubleMu23NoVertexL2PreFiltered\"]:\n",
      "                        # print \"L2Muon pt, eta, phi =\", triggerProbeMuon.pt, triggerProbeMuon.eta, triggerProbeMuon.phi\n",
      "                        # print \"deltaR =\", deltaR(triggerProbeMuon.phi, triggerProbeMuon.eta, probe.phi, probe.eta)\n",
      "                        if (deltaR(triggerProbeMuon.phi, triggerProbeMuon.eta, probe.phi, probe.eta) < 0.5):\n",
      "                            # print \"PROBE PASS <-------------------------------------------\"\n",
      "                            # print \"L2Muon pt =\", triggerProbeMuon.pt\n",
      "                            # print \"deltaPt/pt =\", abs(triggerProbeMuon.pt - probe.pt)/triggerProbeMuon.pt\n",
      "                            # if abs(triggerProbeMuon.pt - probe.pt)/probe.pt < 0.1:\n",
      "                            #     print \"DELTAPT MATCH <------------------------------------------------------------\"\n",
      "                            ourPassingProbePt.Fill(probe.pt)\n",
      "                            ourL2Pt.Fill(triggerProbeMuon.pt)\n",
      "                            break\n",
      "                    break\n",
      "        # if tagProbePairFound:\n",
      "        #     break\n",
      "    # for triggerMuon in event.triggerFilterObjectsMap[\"hltL2DoubleMu23NoVertexL2PreFiltered\"]:\n",
      "    #     ourL2Pt.Fill(triggerMuon.pt)\n",
      "\n",
      "\n",
      "print \"Entries in our tree:\", ourTree.GetEntries()"
     ],
     "language": "python",
     "metadata": {},
     "outputs": [
      {
       "output_type": "stream",
       "stream": "stdout",
       "text": [
        "Entries in our tree: 2759\n"
       ]
      }
     ],
     "prompt_number": 60
    },
    {
     "cell_type": "heading",
     "level": 3,
     "metadata": {},
     "source": [
      "Original tree"
     ]
    },
    {
     "cell_type": "code",
     "collapsed": false,
     "input": [
      "originalPt = TH1F(\"originalPt\", \"original tag p_{T}\", 100, 0, 100)\n",
      "originalProbePt = TH1F(\"originalProbePt\", \"original probe p_{T}\", 100, 0, 100)\n",
      "originalPassingProbePt = TH1F(\"originalPassingProbePt\", \"original passing probe p_{T}\", 100, 0, 100)\n",
      "originalL2Pt = TH1F(\"originalL2Pt\", \"original L2 p_{T}\", 100, 0, 100)\n",
      "\n",
      "counterOrig = 10\n",
      "for event in originalTree:\n",
      "    # if event.event != 16333230:\n",
      "    #     continue\n",
      "    # event.pair_drM2 > 0.2 and event.pair_cosine > -0.79 and \\\n",
      "    if event.tag_pass_selection and event.tag_IsoMu24 and \\\n",
      "    event.pt > 17 and abs(event.eta) < 2.4:\n",
      "    # if event.tag_pt > 26 and abs(event.tag_eta) < 2.0 and \\\n",
      "    # event.tag_IsoMu24 and event.pair_drM2 > 0.2 and event.pair_cosine > -0.79 and \\\n",
      "    # event.pt > 17 and abs(event.eta) < 2.4:\n",
      "        # if counterOrig > 20:\n",
      "        #     break\n",
      "        # counterOrig += 1\n",
      "        # print event.event\n",
      "        # print \"tag pt =\", event.tag_pt\n",
      "        # print \"tag eta =\", event.tag_eta\n",
      "        # print \"tag phi =\", event.tag_phi\n",
      "        # print \"probe pt =\", event.pt\n",
      "        # print \"probe eta =\", event.eta\n",
      "        # print \"probe phi =\", event.phi\n",
      "\n",
      "    \n",
      "        originalPt.Fill(event.tag_pt)\n",
      "        originalProbePt.Fill(event.pt)\n",
      "        # if event.l2pt_oldfilter > 0:\n",
      "        #     originalL2Pt.Fill(event.l2pt_oldfilter)\n",
      "        if event.L2DoubleMu23_Novtx_filter:# event.L2DoubleMu23_Novtx_filter:\n",
      "            originalPassingProbePt.Fill(event.pt)\n",
      "            # print event.event\n",
      "            # print \"l2pt_oldfilter =\", event.l2pt_oldfilter\n",
      "            # print \"PROBE PASS <-------------------------------------------\"\n",
      "        # if event.L2MuonCandidatesNoVtx > 0:\n",
      "        #     originalPassingProbePtFilter.Fill(event.pt)\n",
      "    # if event.l2pt_oldfilter > 0:\n",
      "    #     originalL2Pt.Fill(event.l2pt_oldfilter)\n",
      "\n",
      "\n",
      "print \"Entries in original tree:\", originalTree.GetEntries()"
     ],
     "language": "python",
     "metadata": {},
     "outputs": [
      {
       "output_type": "stream",
       "stream": "stdout",
       "text": [
        "Entries in original tree: 2260\n"
       ]
      },
      {
       "output_type": "stream",
       "stream": "stderr",
       "text": [
        "TFile::Append:0: RuntimeWarning: Replacing existing TH1: originalPt (Potential memory leak).\n",
        "TFile::Append:0: RuntimeWarning: Replacing existing TH1: originalProbePt (Potential memory leak).\n",
        "TFile::Append:0: RuntimeWarning: Replacing existing TH1: originalPassingProbePt (Potential memory leak).\n",
        "TFile::Append:0: RuntimeWarning: Replacing existing TH1: originalL2Pt (Potential memory leak).\n"
       ]
      }
     ],
     "prompt_number": 66
    },
    {
     "cell_type": "code",
     "collapsed": false,
     "input": [
      "originalCanvas = rootnotes.canvas(\"canvas\", (800, 1200))\n",
      "\n",
      "originalCanvas.Divide(1,4)\n",
      "\n",
      "originalCanvas.cd(1)\n",
      "ourPt.Draw()\n",
      "originalPt.Draw(\"same\")\n",
      "originalPt.SetLineColor(2)\n",
      "originalPt.SetLineStyle(2)\n",
      "leg = TLegend(0.6,0.7,0.9,0.9)\n",
      "leg.AddEntry(ourPt,\"our tree\",\"l\")\n",
      "leg.AddEntry(originalPt,\"original tree\",\"l\")\n",
      "leg.SetFillColor(0)\n",
      "leg.SetLineColor(0)\n",
      "leg.Draw(\"same\")\n",
      "\n",
      "originalCanvas.cd(2)\n",
      "ourProbePt.Draw()\n",
      "originalProbePt.Draw(\"same\")\n",
      "originalProbePt.SetLineColor(2)\n",
      "originalProbePt.SetLineStyle(2)\n",
      "legProbe = TLegend(0.6,0.7,0.9,0.9)\n",
      "legProbe.AddEntry(ourPt,\"our tree\",\"l\")\n",
      "legProbe.AddEntry(originalPt,\"original tree\",\"l\")\n",
      "legProbe.SetFillColor(0)\n",
      "legProbe.SetLineColor(0)\n",
      "legProbe.Draw(\"same\")\n",
      "\n",
      "originalCanvas.cd(3)\n",
      "ourPassingProbePt.Draw()\n",
      "# originalPassingProbePtFilter.Draw(\"same\")\n",
      "# originalPassingProbePtFilter.SetLineColor(3)\n",
      "originalPassingProbePt.Draw(\"same\")\n",
      "originalPassingProbePt.SetLineColor(2)\n",
      "legPassingProbe = TLegend(0.6,0.7,0.9,0.9)\n",
      "legPassingProbe.AddEntry(ourPt,\"our tree\",\"l\")\n",
      "# legPassingProbe.AddEntry(originalPassingProbePtFilter,\"original filter tree\",\"l\")\n",
      "legPassingProbe.AddEntry(originalPassingProbePt,\"original tree\",\"l\")\n",
      "legPassingProbe.SetFillColor(0)\n",
      "legPassingProbe.SetLineColor(0)\n",
      "legPassingProbe.Draw(\"same\")\n",
      "\n",
      "originalCanvas.cd(4)\n",
      "ourL2Pt.Draw()\n",
      "originalL2Pt.Draw(\"same\")\n",
      "originalL2Pt.SetLineColor(2)\n",
      "legL2 = TLegend(0.6,0.7,0.9,0.9)\n",
      "legL2.AddEntry(ourPt,\"our tree\",\"l\")\n",
      "legL2.AddEntry(originalPt,\"original tree\",\"l\")\n",
      "legL2.SetFillColor(0)\n",
      "legL2.SetLineColor(0)\n",
      "legL2.Draw(\"same\")\n",
      "\n",
      "originalCanvas"
     ],
     "language": "python",
     "metadata": {},
     "outputs": [
      {
       "output_type": "stream",
       "stream": "stderr",
       "text": [
        "TCanvas::Constructor:0: RuntimeWarning: Deleting canvas with same name: canvas\n"
       ]
      },
      {
       "metadata": {},
       "output_type": "pyout",
       "png": "[encoded data removed]",
       "prompt_number": 69,
       "text": [
        "<ROOT.TCanvas object (\"canvas\") at 0x7f950d156ef0>"
       ]
      }
     ],
     "prompt_number": 69
    },
    {
     "cell_type": "code",
     "collapsed": false,
     "input": [
      "print \"Number of all probes in original tree:\", originalProbePt.GetEntries()\n",
      "print \"Number of all probes in our tree:\", ourProbePt.GetEntries()\n",
      "print \"Number of passing probes in original tree:\", originalPassingProbePt.GetEntries()\n",
      "print \"Number of passing probes in our tree:\", ourPassingProbePt.GetEntries()\n",
      "print \"Original efficiency =\", originalPassingProbePt.GetEntries()/originalProbePt.GetEntries()\n",
      "print \"Our efficiency =\", ourPassingProbePt.GetEntries()/ourProbePt.GetEntries()\n",
      "print \"Number of matched L2 in original tree:\", originalL2Pt.GetEntries()\n",
      "print \"Number of matched L2 in our tree:\", ourL2Pt.GetEntries()"
     ],
     "language": "python",
     "metadata": {},
     "outputs": [
      {
       "output_type": "stream",
       "stream": "stdout",
       "text": [
        "Number of all probes in original tree: 1577.0\n",
        "Number of all probes in our tree: 1888.0\n",
        "Number of passing probes in original tree: 1411.0\n",
        "Number of passing probes in our tree: 1726.0\n",
        "Original efficiency = 0.894736842105\n",
        "Our efficiency = 0.914194915254\n",
        "Number of matched L2 in original tree: 0.0\n",
        "Number of matched L2 in our tree: 1726.0\n"
       ]
      }
     ],
     "prompt_number": 68
    },
    {
     "cell_type": "code",
     "collapsed": false,
     "input": [],
     "language": "python",
     "metadata": {},
     "outputs": [],
     "prompt_number": 11
    }
   ],
   "metadata": {}
  }
 ]
}