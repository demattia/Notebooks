{
 "metadata": {
  "name": "",
  "signature": "sha256:fcb2215f1fa15a73ab0bdd4fa597afca586ae3e8d19cf45f891ef08fab2cbe0e"
 },
 "nbformat": 3,
 "nbformat_minor": 0,
 "worksheets": [
  {
   "cells": [
    {
     "cell_type": "heading",
     "level": 1,
     "metadata": {},
     "source": [
      "Reconstruction and Selection Efficiency from MC"
     ]
    },
    {
     "cell_type": "markdown",
     "metadata": {},
     "source": [
      "We select events from a sample of $M_H = 1000$ $GeV/c^2$, $M_X = 350$ $GeV/c^2$ and with all possible lifetimes. We only use muons with $p_T > 26$ GeV/c, $|\\eta| < 2$ and from X decays withing the acceptance ($L^{gen}_{xy} < 500$ cm). The generated muons are matched to L2Muons, SA muons and RSA muons ($\\Delta R$ < 0.5). The histograms are only filled once per generated moun, regardless of how many matches are found. The L2Muons require the event to pass the trigger, meaning that there must be at least two of them satisfiying the trigger cuts. However, if additional L2Muons are found that have a $p_T > 26$ GeV/c they are also used. The number of valid chambers is not accessible from the triggerObjects normally available, therefore this cut is not required on additional muons. Since it was used to remove fakes and we are requiring a match to generator level muons we do not expect this to produce a significant bias.\n",
      "\n",
      "For SA and RSA muons the standard analysis selection is applied, namely:\n",
      "- $p_T > 26$ GeV/c\n",
      "- $|\\eta| < 2$\n",
      "- at least one valid hit in three DT or CSC stations\n",
      "- at least 17 valid hits in RPC, DT or CSC chambers"
     ]
    },
    {
     "cell_type": "code",
     "collapsed": false,
     "input": [
      "import ROOT\n",
      "from ROOT import TEfficiency, TCanvas, TFile, TLegend\n",
      "\n",
      "import rootnotes\n",
      "import rootprint"
     ],
     "language": "python",
     "metadata": {},
     "outputs": [],
     "prompt_number": 1
    },
    {
     "cell_type": "code",
     "collapsed": false,
     "input": [
      "# input_file = TFile(\"/Users/demattia/L2MuonEfficiency/histograms_doubleCut.root\", \"READ\")\n",
      "# input_file = TFile(\"/Users/demattia/L2MuonEfficiency/histograms_Lxy_1m.root\", \"READ\")\n",
      "# input_file = TFile(\"/Users/demattia/L2MuonEfficiency/histograms_Lxy_2ValidChambers.root\", \"READ\")\n",
      "# input_file = TFile(\"/Users/demattia/L2MuonEfficiency/histograms_Lxy_3ValidChambers_1match.root\", \"READ\")\n",
      "input_file = TFile(\"/Users/demattia/L2MuonEfficiency/histograms_Lxy_3ValidChambers_1match_100GeVCut.root\", \"READ\")\n",
      "h_dir = input_file.Get(\"muTrackAnalysis\")\n",
      "hGenMuonD0 = h_dir.Get(\"hGenMuonD0\")\n",
      "hMatchedL2MuonsGenD0 = h_dir.Get(\"hMatchedL2MuonsGenD0\")\n",
      "hMatchedL2MuonsGenD0_PtCut = h_dir.Get(\"hMatchedL2MuonsGenD0_PtCut\")\n",
      "hMatchedSAMuonsGenD0 = h_dir.Get(\"hMatchedSAMuonsGenD0\")\n",
      "hMatchedSAMuonsGenD0_PtCut = h_dir.Get(\"hMatchedSAMuonsGenD0_PtCut\")\n",
      "hMatchedRSAMuonsGenD0 = h_dir.Get(\"hMatchedRSAMuonsGenD0\")\n",
      "hMatchedRSAMuonsGenD0_PtCut = h_dir.Get(\"hMatchedRSAMuonsGenD0_PtCut\")"
     ],
     "language": "python",
     "metadata": {},
     "outputs": [],
     "prompt_number": 55
    },
    {
     "cell_type": "heading",
     "level": 3,
     "metadata": {},
     "source": [
      "Distributions of generated muons and matched L2Muons, SA and RSA muons"
     ]
    },
    {
     "cell_type": "code",
     "collapsed": false,
     "input": [
      "c = TCanvas(\"c\", \"c\", 800, 400)\n",
      "c.Divide(2,1)\n",
      "c.cd(1)\n",
      "ROOT.gPad.SetLogy(True)\n",
      "# ROOT.gPad.SetLogx(True)\n",
      "hGenMuonD0.Draw()\n",
      "hGenMuonD0.SetLineColor(1)\n",
      "hMatchedL2MuonsGenD0.Draw(\"same\")\n",
      "hMatchedL2MuonsGenD0.SetLineColor(2)\n",
      "hMatchedSAMuonsGenD0.Draw(\"same\")\n",
      "hMatchedSAMuonsGenD0.SetLineColor(8)\n",
      "hMatchedRSAMuonsGenD0.Draw(\"same\")\n",
      "hMatchedRSAMuonsGenD0.SetLineColor(4)\n",
      "leg = TLegend(0.5,0.6,0.9,0.9);\n",
      "leg.SetFillColor(0)\n",
      "leg.SetBorderSize(0)\n",
      "leg.AddEntry(hGenMuonD0,\"Generated muons\",\"l\");\n",
      "leg.AddEntry(hMatchedL2MuonsGenD0,\"L2Muons\",\"l\");\n",
      "leg.AddEntry(hMatchedSAMuonsGenD0,\"SA muons\",\"l\");\n",
      "leg.AddEntry(hMatchedRSAMuonsGenD0,\"RSA muons\",\"l\");\n",
      "leg.Draw(\"same\")\n",
      "\n",
      "c.cd(2)\n",
      "ROOT.gPad.SetLogy(True)\n",
      "# ROOT.gPad.SetLogx(True)\n",
      "hGenMuonD0.Draw()\n",
      "hGenMuonD0.SetLineColor(1)\n",
      "hMatchedL2MuonsGenD0_PtCut.Draw(\"same\")\n",
      "hMatchedL2MuonsGenD0_PtCut.SetLineColor(2)\n",
      "hMatchedSAMuonsGenD0_PtCut.Draw(\"same\")\n",
      "hMatchedSAMuonsGenD0_PtCut.SetLineColor(8)\n",
      "hMatchedRSAMuonsGenD0_PtCut.Draw(\"same\")\n",
      "hMatchedRSAMuonsGenD0_PtCut.SetLineColor(4)\n",
      "leg.Draw(\"same\")\n",
      "\n",
      "c"
     ],
     "language": "python",
     "metadata": {},
     "outputs": [
      {
       "output_type": "stream",
       "stream": "stderr",
       "text": [
        "TCanvas::Constructor:0: RuntimeWarning: Deleting canvas with same name: c\n"
       ]
      },
      {
       "metadata": {},
       "output_type": "pyout",
       "png": "[encoded data removed]",
       "prompt_number": 56,
       "text": [
        "<ROOT.TCanvas object (\"c\") at 0x7fc6ff1de6a0>"
       ]
      }
     ],
     "prompt_number": 56
    },
    {
     "cell_type": "code",
     "collapsed": false,
     "input": [
      "hAll = hGenMuonD0.Clone(\"hAll\")\n",
      "hAll.Rebin(5)\n",
      "\n",
      "hPassL2 = hMatchedL2MuonsGenD0.Clone(\"hPassL2\")\n",
      "hPassL2.Rebin(5)\n",
      "L2MuonEfficiency = TEfficiency(hPassL2, hAll)\n",
      "\n",
      "hPassSA = hMatchedSAMuonsGenD0.Clone(\"hPassSA\")\n",
      "hPassSA.Rebin(5)\n",
      "SAMuonEfficiency = TEfficiency(hPassSA, hAll)\n",
      "\n",
      "hPassRSA = hMatchedRSAMuonsGenD0_PtCut.Clone(\"hPassRSA\")\n",
      "hPassRSA.Rebin(5)\n",
      "RSAMuonEfficiency = TEfficiency(hPassRSA, hAll)\n",
      "\n",
      "# PtCut\n",
      "# -----\n",
      "hPassL2_PtCut = hMatchedL2MuonsGenD0_PtCut.Clone(\"hPassL2\")\n",
      "hPassL2_PtCut.Rebin(5)\n",
      "L2MuonEfficiency_PtCut = TEfficiency(hPassL2_PtCut, hAll)\n",
      "\n",
      "hPassSA_PtCut = hMatchedSAMuonsGenD0_PtCut.Clone(\"hPassSA_PtCut\")\n",
      "hPassSA_PtCut.Rebin(5)\n",
      "SAMuonEfficiency_PtCut = TEfficiency(hPassSA_PtCut, hAll)\n",
      "\n",
      "hPassRSA_PtCut = hMatchedRSAMuonsGenD0_PtCut.Clone(\"hPassRSA_PtCut\")\n",
      "hPassRSA_PtCut.Rebin(5)\n",
      "RSAMuonEfficiency_PtCut = TEfficiency(hPassRSA_PtCut, hAll)"
     ],
     "language": "python",
     "metadata": {},
     "outputs": [],
     "prompt_number": 57
    },
    {
     "cell_type": "heading",
     "level": 3,
     "metadata": {},
     "source": [
      "Efficiency to reconstruction and selection SA and RSA muons without the $p_T$ cut"
     ]
    },
    {
     "cell_type": "markdown",
     "metadata": {},
     "source": [
      "RSA muon are reconstructed starting from SA muons. Therefore, they are a subset of the SA muons. When not requiring the $p_T$ the efficiency to find an RSA muon is lower than for a SA muon as expected."
     ]
    },
    {
     "cell_type": "code",
     "collapsed": false,
     "input": [
      "c1 = TCanvas(\"c1\", \"c1\", 400, 400)\n",
      "# L2MuonEfficiency.Draw()\n",
      "SAMuonEfficiency.Draw()\n",
      "# SAMuonEfficiency.SetTitle(\";d^{gen}_{0} [cm];Efficiency\")\n",
      "SAMuonEfficiency.SetLineColor(2)\n",
      "SAMuonEfficiency.SetMarkerStyle(20)\n",
      "SAMuonEfficiency.SetMarkerSize(0.7)\n",
      "SAMuonEfficiency.SetMarkerColor(2)\n",
      "RSAMuonEfficiency.Draw(\"same\")\n",
      "RSAMuonEfficiency.SetLineColor(4)\n",
      "RSAMuonEfficiency.SetMarkerStyle(22)\n",
      "RSAMuonEfficiency.SetMarkerSize(0.8)\n",
      "RSAMuonEfficiency.SetMarkerColor(4)\n",
      "leg = TLegend(0.5,0.6,0.9,0.9);\n",
      "leg.SetFillColor(0)\n",
      "leg.SetBorderSize(0)\n",
      "leg.AddEntry(SAMuonEfficiency,\"SA muons\",\"lp\");\n",
      "leg.AddEntry(RSAMuonEfficiency,\"RSA muons\",\"lp\");\n",
      "leg.Draw(\"same\")\n",
      "# c1"
     ],
     "language": "python",
     "metadata": {},
     "outputs": [
      {
       "output_type": "stream",
       "stream": "stderr",
       "text": [
        "TCanvas::Constructor:0: RuntimeWarning: Deleting canvas with same name: c1\n"
       ]
      }
     ],
     "prompt_number": 58
    },
    {
     "cell_type": "heading",
     "level": 3,
     "metadata": {},
     "source": [
      "Efficiency to reconstruction and selection SA and RSA muons with the $p_T$ cut"
     ]
    },
    {
     "cell_type": "markdown",
     "metadata": {},
     "source": [
      "If we apply the $p_T$ cut the efficiency for SA muons becomes lower for higher $d_0$ as expected because of their $d_0$-dependent $p_T$ bias. For RSA muons the $p_T$ cut does not affect the efficiency much, indicating that the $p_T$ of the muons in the sample is quite larger than the threshold.\n",
      "\n",
      "In this case we also show the efficiency for L2Muons. Note that the selection is different (e.g. only 2 valid chambers instead of 3) and the trigger requirement means that the cut is always applied on the second highest $p_T$ muon. Nevertheless, a few conclusions can still be drawn: for low $d_0$ values the L2Muons are more efficient than SA or RSA muons; for larger $d_0$ values, however, the efficiency drops faster than for SA muons."
     ]
    },
    {
     "cell_type": "code",
     "collapsed": false,
     "input": [
      "c2 = TCanvas(\"c2\", \"c2\", 400, 400)\n",
      "# L2MuonEfficiency_PtCut.Draw()\n",
      "# L2MuonEfficiency_PtCut.GetPaintedGraph().GetYaxis().SetRangeUser(0, 1.1)\n",
      "# L2MuonEfficiency_PtCut.SetTitle(\";d^{gen}_{0} [cm];Efficiency\")\n",
      "# L2MuonEfficiency_PtCut.SetMarkerStyle(21)\n",
      "# L2MuonEfficiency_PtCut.SetMarkerSize(0.65)\n",
      "# SAMuonEfficiency_PtCut.Draw(\"same\")\n",
      "SAMuonEfficiency_PtCut.Draw()\n",
      "#SAMuonEfficiency_PtCut.GetPaintedGraph().GetYaxis().SetRangeUser(0, 1.1)\n",
      "SAMuonEfficiency_PtCut.SetTitle(\";d^{gen}_{0} [cm];Efficiency\")\n",
      "SAMuonEfficiency_PtCut.SetLineColor(2)\n",
      "SAMuonEfficiency_PtCut.SetMarkerStyle(20)\n",
      "SAMuonEfficiency_PtCut.SetMarkerSize(0.7)\n",
      "SAMuonEfficiency_PtCut.SetMarkerColor(2)\n",
      "RSAMuonEfficiency_PtCut.Draw(\"same\")\n",
      "RSAMuonEfficiency_PtCut.SetLineColor(4)\n",
      "RSAMuonEfficiency_PtCut.SetMarkerStyle(22)\n",
      "RSAMuonEfficiency_PtCut.SetMarkerSize(0.8)\n",
      "RSAMuonEfficiency_PtCut.SetMarkerColor(4)\n",
      "leg = TLegend(0.3,0.7,0.7,0.9);\n",
      "leg.SetFillColor(0)\n",
      "leg.SetBorderSize(0)\n",
      "# leg.AddEntry(L2MuonEfficiency_PtCut,\"L2Muons\",\"lp\");\n",
      "leg.AddEntry(SAMuonEfficiency_PtCut,\"SA muons\",\"lp\");\n",
      "leg.AddEntry(RSAMuonEfficiency_PtCut,\"RSA muons\",\"lp\");\n",
      "leg.Draw(\"same\")\n",
      "c2.SaveAs(\"SignalMCTrackingEfficiencyVsD0_3ValidChambers_1match.root\")\n",
      "c2.SaveAs(\"SignalMCTrackingEfficiencyVsD0_3ValidChambers_1match.C\")\n",
      "c2.SaveAs(\"SignalMCTrackingEfficiencyVsD0_3ValidChambers_1match.pdf\")\n",
      "c2"
     ],
     "language": "python",
     "metadata": {},
     "outputs": [
      {
       "output_type": "stream",
       "stream": "stderr",
       "text": [
        "TCanvas::Constructor:0: RuntimeWarning: Deleting canvas with same name: c2\n"
       ]
      },
      {
       "metadata": {},
       "output_type": "pyout",
       "png": "[encoded data removed]",
       "prompt_number": 60,
       "text": [
        "<ROOT.TCanvas object (\"c2\") at 0x7fc6ff6beeb0>"
       ]
      }
     ],
     "prompt_number": 60
    },
    {
     "cell_type": "code",
     "collapsed": false,
     "input": [],
     "language": "python",
     "metadata": {},
     "outputs": [],
     "prompt_number": 31
    },
    {
     "cell_type": "code",
     "collapsed": false,
     "input": [],
     "language": "python",
     "metadata": {},
     "outputs": []
    }
   ],
   "metadata": {}
  }
 ]
}