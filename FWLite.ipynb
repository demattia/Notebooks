{
 "metadata": {
  "name": "FWLite"
 },
 "nbformat": 3,
 "nbformat_minor": 0,
 "worksheets": [
  {
   "cells": [
    {
     "cell_type": "heading",
     "level": 1,
     "metadata": {},
     "source": [
      "FWLite in iPython"
     ]
    },
    {
     "cell_type": "markdown",
     "metadata": {},
     "source": [
      "Basic imports"
     ]
    },
    {
     "cell_type": "code",
     "collapsed": false,
     "input": [
      "import ROOT\n",
      "from DataFormats.FWLite import Events, Handle\n",
      "# For inline plots\n",
      "import rootnotes"
     ],
     "language": "python",
     "metadata": {},
     "outputs": [],
     "prompt_number": 46
    },
    {
     "cell_type": "markdown",
     "metadata": {},
     "source": [
      "$B_s\\rightarrow\\mu^+\\mu^-$ MC sample"
     ]
    },
    {
     "cell_type": "code",
     "collapsed": false,
     "input": [
      "events = Events ('onia2MuMuPAT_MC.root')"
     ],
     "language": "python",
     "metadata": {},
     "outputs": [],
     "prompt_number": 59
    },
    {
     "cell_type": "markdown",
     "metadata": {},
     "source": [
      "Create a handle outside the loop"
     ]
    },
    {
     "cell_type": "code",
     "collapsed": false,
     "input": [
      "handle  = Handle ('std::vector<reco::GenParticle>')\n",
      "# a label is just a tuple of strings that is initialized just\n",
      "# like and edm::InputTag\n",
      "label = (\"genMuons\")"
     ],
     "language": "python",
     "metadata": {},
     "outputs": [],
     "prompt_number": 60
    },
    {
     "cell_type": "markdown",
     "metadata": {},
     "source": [
      "Change the style of the plot from the default with grey background to a cleaner white background"
     ]
    },
    {
     "cell_type": "code",
     "collapsed": false,
     "input": [
      "ROOT.gROOT.SetStyle('Plain')"
     ],
     "language": "python",
     "metadata": {},
     "outputs": [],
     "prompt_number": 61
    },
    {
     "cell_type": "code",
     "collapsed": false,
     "input": [
      "zmassHist = ROOT.TH1F (\"zmass\", \"Z Candidate Mass\", 50, 0, 10)"
     ],
     "language": "python",
     "metadata": {},
     "outputs": [],
     "prompt_number": 62
    },
    {
     "cell_type": "markdown",
     "metadata": {},
     "source": [
      "Event loop and hitogram filling"
     ]
    },
    {
     "cell_type": "code",
     "collapsed": false,
     "input": [
      "for event in events:\n",
      "    # use getByLabel, just like in cmsRun\n",
      "    event.getByLabel (label, handle)\n",
      "    # get the product\n",
      "    muons = handle.product()\n",
      "    # use muons to make Z peak\n",
      "    numMuons = len (muons)\n",
      "    if muons < 2: continue\n",
      "    for outer in xrange (numMuons - 1):\n",
      "        outerMuon = muons[outer]\n",
      "        for inner in xrange (outer + 1, numMuons):\n",
      "            innerMuon = muons[inner]\n",
      "            if outerMuon.charge() * innerMuon.charge() >= 0:\n",
      "                continue\n",
      "            inner4v = ROOT.TLorentzVector (innerMuon.px(), innerMuon.py(),\n",
      "                                           innerMuon.pz(), innerMuon.energy())\n",
      "            outer4v = ROOT.TLorentzVector (outerMuon.px(), outerMuon.py(),\n",
      "                                           outerMuon.pz(), outerMuon.energy())\n",
      "            zmassHist.Fill( (inner4v + outer4v).M() )"
     ],
     "language": "python",
     "metadata": {},
     "outputs": [],
     "prompt_number": 63
    },
    {
     "cell_type": "markdown",
     "metadata": {},
     "source": [
      "Draw the canvas. We use the rootnotes macro to draw it inline"
     ]
    },
    {
     "cell_type": "code",
     "collapsed": false,
     "input": [
      "# make a canvas, draw, and save it\n",
      "c1 = rootnotes.canvas(\"test\", (400, 400))\n",
      "zmassHist.Draw()\n",
      "c1"
     ],
     "language": "python",
     "metadata": {},
     "outputs": [
      {
       "output_type": "pyout",
       "png": "[encoded data removed]",
       "prompt_number": 64,
       "text": [
        "<ROOT.TCanvas object (\"test\") at 0x18afd480>"
       ]
      }
     ],
     "prompt_number": 64
    },
    {
     "cell_type": "code",
     "collapsed": false,
     "input": [],
     "language": "python",
     "metadata": {},
     "outputs": []
    }
   ],
   "metadata": {}
  }
 ]
}